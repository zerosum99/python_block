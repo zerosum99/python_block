{
 "cells": [
  {
   "cell_type": "code",
   "execution_count": 1,
   "id": "7a00176e",
   "metadata": {},
   "outputs": [],
   "source": [
    "from multipledispatch import dispatch"
   ]
  },
  {
   "cell_type": "code",
   "execution_count": null,
   "id": "211a6df7",
   "metadata": {},
   "outputs": [],
   "source": []
  },
  {
   "cell_type": "markdown",
   "id": "7abeb6f4",
   "metadata": {},
   "source": [
    "## 함수 재정의"
   ]
  },
  {
   "cell_type": "code",
   "execution_count": 4,
   "id": "c3d410c9",
   "metadata": {},
   "outputs": [],
   "source": [
    "@dispatch(int,int)\n",
    "def add(x,y) :\n",
    "    print(\" int \")\n",
    "    return x + y\n",
    "\n",
    "@dispatch(int,float)\n",
    "def add(x,y) :\n",
    "    print(\" int float \")\n",
    "    return x + y\n",
    "\n",
    "@dispatch(float,float)\n",
    "def add(x,y) :\n",
    "    print(\" float \")\n",
    "    return x + y\n",
    "\n",
    "@dispatch(str,str)\n",
    "def add(x,y) :\n",
    "    print(\" str \")\n",
    "    return x + y\n",
    "\n",
    "@dispatch(list,list)\n",
    "def add(x,y) :\n",
    "    print(\" list \")\n",
    "    return x + y"
   ]
  },
  {
   "cell_type": "code",
   "execution_count": 5,
   "id": "7b4840f4",
   "metadata": {},
   "outputs": [
    {
     "name": "stdout",
     "output_type": "stream",
     "text": [
      " list \n"
     ]
    },
    {
     "data": {
      "text/plain": [
       "[1, 2, 3, 4]"
      ]
     },
     "execution_count": 5,
     "metadata": {},
     "output_type": "execute_result"
    }
   ],
   "source": [
    "add([1,2,3],[4])"
   ]
  },
  {
   "cell_type": "markdown",
   "id": "edc64b37",
   "metadata": {},
   "source": [
    "## 메소드 오버로딩"
   ]
  },
  {
   "cell_type": "code",
   "execution_count": 10,
   "id": "ebe8efe7",
   "metadata": {},
   "outputs": [],
   "source": [
    "class ADD :\n",
    "        \n",
    "    @dispatch(int,int)\n",
    "    def add(self,x,y) :\n",
    "        print(\" int \")\n",
    "        return x + y\n",
    "\n",
    "    @dispatch(int,float)\n",
    "    def add(self,x,y) :\n",
    "        print(\" int float \")\n",
    "        return x + y\n",
    "\n",
    "    @dispatch(float,float)\n",
    "    def add(self,x,y) :\n",
    "        print(\" float \")\n",
    "        return x + y\n",
    "\n",
    "    @dispatch(str,str)\n",
    "    def add(self,x,y) :\n",
    "        print(\" str \")\n",
    "        return x + y\n",
    "\n",
    "    @dispatch(list,list)\n",
    "    def add(self,x,y) :\n",
    "        print(\" list \")\n",
    "        return x + y"
   ]
  },
  {
   "cell_type": "code",
   "execution_count": 12,
   "id": "35356986",
   "metadata": {},
   "outputs": [],
   "source": [
    "a = ADD()"
   ]
  },
  {
   "cell_type": "code",
   "execution_count": 13,
   "id": "5d25788d",
   "metadata": {},
   "outputs": [
    {
     "name": "stdout",
     "output_type": "stream",
     "text": [
      " int \n"
     ]
    },
    {
     "data": {
      "text/plain": [
       "30"
      ]
     },
     "execution_count": 13,
     "metadata": {},
     "output_type": "execute_result"
    }
   ],
   "source": [
    "a.add(10,20)"
   ]
  },
  {
   "cell_type": "code",
   "execution_count": null,
   "id": "434b6ccd",
   "metadata": {},
   "outputs": [],
   "source": []
  }
 ],
 "metadata": {
  "kernelspec": {
   "display_name": "Python 3",
   "language": "python",
   "name": "python3"
  },
  "language_info": {
   "codemirror_mode": {
    "name": "ipython",
    "version": 3
   },
   "file_extension": ".py",
   "mimetype": "text/x-python",
   "name": "python",
   "nbconvert_exporter": "python",
   "pygments_lexer": "ipython3",
   "version": "3.7.10"
  }
 },
 "nbformat": 4,
 "nbformat_minor": 5
}
