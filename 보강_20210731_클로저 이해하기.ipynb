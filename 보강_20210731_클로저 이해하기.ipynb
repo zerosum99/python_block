{
 "cells": [
  {
   "cell_type": "markdown",
   "metadata": {},
   "source": [
    "# 클로저(closure 처리 이해하기)\n",
    "\n",
    "    클로저는 내부 함수을 외부로 전달해서 자유변수인 외부함수 내의 로컬 변수를 변경시킬 수 있는 환경을 말한다.\n",
    "    "
   ]
  },
  {
   "cell_type": "markdown",
   "metadata": {},
   "source": [
    "### 함수 정의 \n",
    "\n",
    "    내부함수를 정의하고 외부 함수에서 결과로 내부함수를 전달하기\n",
    "    "
   ]
  },
  {
   "cell_type": "code",
   "execution_count": 5,
   "metadata": {},
   "outputs": [],
   "source": [
    "def outer(a) :\n",
    "    def inner(b) :\n",
    "        print(\"locals\",locals()[inner.__code__.co_freevars[0]])\n",
    "        return a+b\n",
    "    return inner\n",
    "\n"
   ]
  },
  {
   "cell_type": "markdown",
   "metadata": {},
   "source": [
    "###  외부 함수를 호출\n",
    "\n",
    "    일단 외부함수를 처리하고 결과로 내부함수를 리턴한다.\n",
    "    변수에 저장된 것은 내부함수이다.\n",
    "    "
   ]
  },
  {
   "cell_type": "code",
   "execution_count": 6,
   "metadata": {},
   "outputs": [],
   "source": [
    "a = outer(5)\n",
    "print(a)\n"
   ]
  },
  {
   "cell_type": "markdown",
   "metadata": {},
   "source": [
    "### 내부 함수를 호출\n",
    "    내부 함수를 호출하고 처리하면 내부 함수 결과를 처리한다."
   ]
  },
  {
   "cell_type": "code",
   "execution_count": 7,
   "metadata": {},
   "outputs": [],
   "source": [
    "print(a(10))"
   ]
  },
  {
   "cell_type": "markdown",
   "metadata": {},
   "source": [
    "###  내부 함수 내의 속성 확인\n",
    "\n",
    "    내부 함수 내의 code를 관리하는 속성으로 자유변수명을 확인하면 변수명이 2개가 있다.\n",
    "    \n",
    "    내부 속성 내의 __closure__ 환경을 조사하면 두개에 대한 값을 가지고 있다.\n",
    "    "
   ]
  },
  {
   "cell_type": "code",
   "execution_count": 8,
   "metadata": {},
   "outputs": [],
   "source": [
    "print(a.__code__.co_freevars)\n",
    "print(a.__closure__[0].cell_contents)\n",
    "print(a.__closure__[1].cell_contents)\n"
   ]
  },
  {
   "cell_type": "code",
   "execution_count": null,
   "metadata": {},
   "outputs": [],
   "source": []
  }
 ],
 "metadata": {
  "kernelspec": {
   "display_name": "Python 3",
   "language": "python",
   "name": "python3"
  },
  "language_info": {
   "codemirror_mode": {
    "name": "ipython",
    "version": 3
   },
   "file_extension": ".py",
   "mimetype": "text/x-python",
   "name": "python",
   "nbconvert_exporter": "python",
   "pygments_lexer": "ipython3",
   "version": "3.7.10"
  }
 },
 "nbformat": 4,
 "nbformat_minor": 1
}
