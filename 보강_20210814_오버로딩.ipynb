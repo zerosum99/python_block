{
 "cells": [
  {
   "cell_type": "markdown",
   "id": "c486c052",
   "metadata": {},
   "source": [
    "# 함수 시그너처 \n",
    "\n",
    " -  함수명 + 매개변수 타입 + 반환 타입 "
   ]
  },
  {
   "cell_type": "markdown",
   "id": "7f69c820",
   "metadata": {},
   "source": [
    "# 함수 자료형 ==> 클래스 \n",
    "\n",
    " - 매개변수 타입 + 반환 타입"
   ]
  },
  {
   "cell_type": "code",
   "execution_count": null,
   "id": "60498e38",
   "metadata": {},
   "outputs": [],
   "source": []
  },
  {
   "cell_type": "code",
   "execution_count": null,
   "id": "02dc41d4",
   "metadata": {},
   "outputs": [],
   "source": []
  },
  {
   "cell_type": "code",
   "execution_count": 7,
   "id": "7a00176e",
   "metadata": {},
   "outputs": [],
   "source": [
    "from multipledispatch import dispatch"
   ]
  },
  {
   "cell_type": "code",
   "execution_count": 1,
   "id": "010d9334",
   "metadata": {},
   "outputs": [],
   "source": [
    "def add(x,y) :\n",
    "    print(\" int \")\n",
    "    return x + y"
   ]
  },
  {
   "cell_type": "code",
   "execution_count": 3,
   "id": "211a6df7",
   "metadata": {},
   "outputs": [],
   "source": [
    "v ={(int, int) : add}"
   ]
  },
  {
   "cell_type": "code",
   "execution_count": null,
   "id": "3c1d1c44",
   "metadata": {},
   "outputs": [],
   "source": [
    "func aaa(x int, y int) {}"
   ]
  },
  {
   "cell_type": "code",
   "execution_count": null,
   "id": "a430ecbf",
   "metadata": {},
   "outputs": [],
   "source": [
    "vvv  := aaa"
   ]
  },
  {
   "cell_type": "code",
   "execution_count": 5,
   "id": "18bb4b6a",
   "metadata": {},
   "outputs": [
    {
     "name": "stdout",
     "output_type": "stream",
     "text": [
      " int \n"
     ]
    },
    {
     "data": {
      "text/plain": [
       "7"
      ]
     },
     "execution_count": 5,
     "metadata": {},
     "output_type": "execute_result"
    }
   ],
   "source": [
    "v[(int, int)](3,4)"
   ]
  },
  {
   "cell_type": "markdown",
   "id": "7abeb6f4",
   "metadata": {},
   "source": [
    "## 함수 재정의"
   ]
  },
  {
   "cell_type": "code",
   "execution_count": 8,
   "id": "c3d410c9",
   "metadata": {},
   "outputs": [],
   "source": [
    "@dispatch(int,int)\n",
    "def add(x,y) :\n",
    "    print(\" int \")\n",
    "    return x + y\n",
    "\n",
    "@dispatch(int,float)\n",
    "def add(x,y) :\n",
    "    print(\" int float \")\n",
    "    return x + y\n",
    "\n",
    "@dispatch(float,float)\n",
    "def add(x,y) :\n",
    "    print(\" float \")\n",
    "    return x + y\n",
    "\n",
    "@dispatch(str,str)\n",
    "def add(x,y) :\n",
    "    print(\" str \")\n",
    "    return x + y\n",
    "\n",
    "@dispatch(list,list)\n",
    "def add(x,y) :\n",
    "    print(\" list \")\n",
    "    return x + y"
   ]
  },
  {
   "cell_type": "code",
   "execution_count": 10,
   "id": "40d7ddd3",
   "metadata": {},
   "outputs": [],
   "source": []
  },
  {
   "cell_type": "code",
   "execution_count": 11,
   "id": "7b4840f4",
   "metadata": {},
   "outputs": [
    {
     "name": "stdout",
     "output_type": "stream",
     "text": [
      " list \n"
     ]
    },
    {
     "data": {
      "text/plain": [
       "[1, 2, 3, 4]"
      ]
     },
     "execution_count": 11,
     "metadata": {},
     "output_type": "execute_result"
    }
   ],
   "source": [
    "add([1,2,3],[4])"
   ]
  },
  {
   "cell_type": "markdown",
   "id": "edc64b37",
   "metadata": {},
   "source": [
    "## 메소드 오버로딩"
   ]
  },
  {
   "cell_type": "code",
   "execution_count": 13,
   "id": "8799a4f6",
   "metadata": {},
   "outputs": [],
   "source": [
    "z = 100"
   ]
  },
  {
   "cell_type": "code",
   "execution_count": null,
   "id": "78c4e87f",
   "metadata": {},
   "outputs": [],
   "source": [
    "## 클래스 -> 캡슐화\n",
    "\n",
    "##  속성 -> 정보은닉 \n",
    "\n",
    "## 속성 -> 게터,세터 -> 프로퍼티 -> 조합관계 -> 위임패턴 -> 디스크립터 클래스(property, classmethod, staticmethod)\n",
    "\n",
    "##  책임성 -> 퍼블릭 메소드 -> 인터페이스  -> 추상클래스 , 인터페이스 클래스"
   ]
  },
  {
   "cell_type": "code",
   "execution_count": null,
   "id": "c59d3bbe",
   "metadata": {},
   "outputs": [],
   "source": []
  },
  {
   "cell_type": "code",
   "execution_count": null,
   "id": "8fcee8f0",
   "metadata": {},
   "outputs": [],
   "source": [
    "## 기능 차이 -> 함수 구조 -> 재정의 -> 함수 제너릭"
   ]
  },
  {
   "cell_type": "code",
   "execution_count": null,
   "id": "efa07bd4",
   "metadata": {},
   "outputs": [],
   "source": [
    "func <T,B> add(x : T, y : B, op :(T,B) ->T) : T {\n",
    "    return op(x, y)\n",
    "}"
   ]
  },
  {
   "cell_type": "code",
   "execution_count": 18,
   "id": "33f826ca",
   "metadata": {},
   "outputs": [],
   "source": [
    "def add(x,y) :\n",
    "    return x + y"
   ]
  },
  {
   "cell_type": "code",
   "execution_count": 19,
   "id": "40ca60c1",
   "metadata": {},
   "outputs": [
    {
     "data": {
      "text/plain": [
       "300"
      ]
     },
     "execution_count": 19,
     "metadata": {},
     "output_type": "execute_result"
    }
   ],
   "source": [
    "add(100,200)"
   ]
  },
  {
   "cell_type": "code",
   "execution_count": 20,
   "id": "6691af89",
   "metadata": {},
   "outputs": [
    {
     "data": {
      "text/plain": [
       "[2, 3, 4, 5]"
      ]
     },
     "execution_count": 20,
     "metadata": {},
     "output_type": "execute_result"
    }
   ],
   "source": [
    "add([2,3,4],[5])"
   ]
  },
  {
   "cell_type": "code",
   "execution_count": null,
   "id": "e14829c2",
   "metadata": {},
   "outputs": [],
   "source": []
  },
  {
   "cell_type": "code",
   "execution_count": null,
   "id": "9ad3d175",
   "metadata": {},
   "outputs": [],
   "source": []
  },
  {
   "cell_type": "code",
   "execution_count": 15,
   "id": "ebe8efe7",
   "metadata": {},
   "outputs": [],
   "source": [
    "class ADD :\n",
    "        \n",
    "    @dispatch(int,int)\n",
    "    def add(self,x,y) :\n",
    "        print(\" int \")\n",
    "        return x + y + z\n",
    "\n",
    "    @dispatch(int,float)\n",
    "    def add(self,x,y) :\n",
    "        print(\" int float \")\n",
    "        return x + y\n",
    "\n",
    "    @dispatch(float,float)\n",
    "    def add(self,x,y) :\n",
    "        print(\" float \")\n",
    "        return x + y\n",
    "\n",
    "    @dispatch(str,str)\n",
    "    def add(self,x,y) :\n",
    "        print(\" str \")\n",
    "        return x + y\n",
    "\n",
    "    @dispatch(list,list)\n",
    "    def add(self,x,y) :\n",
    "        print(\" list \")\n",
    "        return x + y"
   ]
  },
  {
   "cell_type": "code",
   "execution_count": 16,
   "id": "35356986",
   "metadata": {},
   "outputs": [],
   "source": [
    "a = ADD()"
   ]
  },
  {
   "cell_type": "code",
   "execution_count": 17,
   "id": "5d25788d",
   "metadata": {},
   "outputs": [
    {
     "name": "stdout",
     "output_type": "stream",
     "text": [
      " int \n"
     ]
    },
    {
     "data": {
      "text/plain": [
       "130"
      ]
     },
     "execution_count": 17,
     "metadata": {},
     "output_type": "execute_result"
    }
   ],
   "source": [
    "a.add(10,20)"
   ]
  },
  {
   "cell_type": "code",
   "execution_count": null,
   "id": "434b6ccd",
   "metadata": {},
   "outputs": [],
   "source": []
  }
 ],
 "metadata": {
  "kernelspec": {
   "display_name": "Python 3",
   "language": "python",
   "name": "python3"
  },
  "language_info": {
   "codemirror_mode": {
    "name": "ipython",
    "version": 3
   },
   "file_extension": ".py",
   "mimetype": "text/x-python",
   "name": "python",
   "nbconvert_exporter": "python",
   "pygments_lexer": "ipython3",
   "version": "3.7.10"
  }
 },
 "nbformat": 4,
 "nbformat_minor": 5
}
