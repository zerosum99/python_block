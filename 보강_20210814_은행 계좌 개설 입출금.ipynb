{
 "cells": [
  {
   "cell_type": "code",
   "execution_count": null,
   "id": "67e528f6",
   "metadata": {},
   "outputs": [],
   "source": []
  },
  {
   "cell_type": "code",
   "execution_count": 1,
   "id": "79d58055",
   "metadata": {},
   "outputs": [],
   "source": [
    "class Descriptor:\n",
    "    \n",
    "    def __init__(self, type_):\n",
    "        self.type =  type_ \n",
    "        \n",
    "    def __set_name__(self, owner, name ):\n",
    "        self.name = \"_\"+ name\n",
    "        \n",
    "    def __get__(self, instance, owner):\n",
    "        print('get', instance)\n",
    "        return instance.__dict__.get(self.name,self.type()) \n",
    "    \n",
    "    def __set__(self, instance, value):\n",
    "        print('set')\n",
    "        instance.__dict__[self.name] = value"
   ]
  },
  {
   "cell_type": "code",
   "execution_count": null,
   "id": "e8f43093",
   "metadata": {},
   "outputs": [],
   "source": []
  },
  {
   "cell_type": "code",
   "execution_count": 62,
   "id": "01e35fb0",
   "metadata": {},
   "outputs": [
    {
     "name": "stdout",
     "output_type": "stream",
     "text": [
      "Today's date: 2021-08-13\n"
     ]
    }
   ],
   "source": [
    "from datetime import date\n",
    "\n",
    "today = date.today()\n",
    "print(\"Today's date:\", today)"
   ]
  },
  {
   "cell_type": "code",
   "execution_count": 63,
   "id": "87f2d5c0",
   "metadata": {},
   "outputs": [
    {
     "data": {
      "text/plain": [
       "datetime.date"
      ]
     },
     "execution_count": 63,
     "metadata": {},
     "output_type": "execute_result"
    }
   ],
   "source": [
    "type(today)"
   ]
  },
  {
   "cell_type": "code",
   "execution_count": 64,
   "id": "5eb4786f",
   "metadata": {},
   "outputs": [
    {
     "data": {
      "text/plain": [
       "str"
      ]
     },
     "execution_count": 64,
     "metadata": {},
     "output_type": "execute_result"
    }
   ],
   "source": [
    "type(today.isoformat())"
   ]
  },
  {
   "cell_type": "code",
   "execution_count": 70,
   "id": "a619f623",
   "metadata": {},
   "outputs": [],
   "source": [
    "class Agreement :\n",
    "    agno = Descriptor(str)\n",
    "    issue_date = Descriptor(str)\n",
    "    balance = Descriptor(int)\n",
    "    product = Descriptor(str)\n",
    "    tr_date = Descriptor(str)\n",
    "    tr_no_count = Descriptor(int)\n",
    "    \n",
    "    def issue(self,no,date,balance=0,product=None) :\n",
    "        self.agno = no\n",
    "        self.issue_date = date\n",
    "        self.balance = balance\n",
    "        self.product = product\n",
    "        self.tr_date = date\n",
    "        self.history = TransactionHistory()\n",
    "\n",
    "        self.tr_no_count = 1\n",
    "        self._trans(date,self.tr_no_count,self.agno, \"issue\",balance)\n",
    "        return self\n",
    "        \n",
    "    def deposit(self,date, amount) :\n",
    "        self.balance += amount\n",
    "        if self.tr_date != date :\n",
    "            self.tr_no_count = 1\n",
    "        else :\n",
    "            self.tr_no_count += 1\n",
    "            \n",
    "        self._trans(date,self.tr_no_count,self.agno, \"deposit\",amount)\n",
    "        return self\n",
    "        \n",
    "        \n",
    "    def withdraw(self,date,amount) :\n",
    "        if self.balance >= amount :\n",
    "            self.balance -= amount\n",
    "        else :\n",
    "            raise Exception(\" 잔액초과 \")\n",
    "        if self.tr_date != date :\n",
    "            self.tr_no_count = 1\n",
    "        else :\n",
    "            self.tr_no_count += 1\n",
    "        self._trans(date,self.tr_no_counto,self.agno, \"deposit\",amount)\n",
    "        return self\n",
    "            \n",
    "    def _trans(self,date,date_no, agno,depwith,amount=0) :\n",
    "        self.history.tr_history.append(Transaction(date,date_no, agno,depwith,amount))\n",
    "        "
   ]
  },
  {
   "cell_type": "code",
   "execution_count": 71,
   "id": "18cfe7ac",
   "metadata": {},
   "outputs": [],
   "source": [
    "class Transaction :\n",
    "    tr_date = Descriptor(str)\n",
    "    tr_date_no = Descriptor(int)\n",
    "    agno = Descriptor(str)\n",
    "    amount = Descriptor(int)\n",
    "    depwith = Descriptor(str)\n",
    "    \n",
    "    def __init__(self,date,date_no, agno,depwith,amount=0) :\n",
    "        self.tr_date = date\n",
    "        self.tr_date_no = date_no\n",
    "        self.agno = agno\n",
    "        self.depwith = depwith\n",
    "        self.amount  = amount"
   ]
  },
  {
   "cell_type": "code",
   "execution_count": 72,
   "id": "0b5dec0b",
   "metadata": {},
   "outputs": [],
   "source": [
    "class TransactionHistory :\n",
    "    \n",
    "    def __init__(self,a=[]) :\n",
    "        self.tr_history = a"
   ]
  },
  {
   "cell_type": "code",
   "execution_count": 73,
   "id": "a78ee4d3",
   "metadata": {},
   "outputs": [
    {
     "name": "stdout",
     "output_type": "stream",
     "text": [
      "set\n",
      "set\n",
      "set\n",
      "set\n",
      "set\n",
      "set\n",
      "get <__main__.Agreement object at 0x7fb5112f9f50>\n",
      "get <__main__.Agreement object at 0x7fb5112f9f50>\n",
      "set\n",
      "set\n",
      "set\n",
      "set\n",
      "set\n"
     ]
    }
   ],
   "source": [
    "a = Agreement().issue('001',date.today(), 0, \"보통예금\")"
   ]
  },
  {
   "cell_type": "code",
   "execution_count": 74,
   "id": "d0b5a018",
   "metadata": {},
   "outputs": [
    {
     "data": {
      "text/plain": [
       "{'_agno': '001',\n",
       " '_issue_date': datetime.date(2021, 8, 13),\n",
       " '_balance': 0,\n",
       " '_product': '보통예금',\n",
       " '_tr_date': datetime.date(2021, 8, 13),\n",
       " 'history': <__main__.TransactionHistory at 0x7fb5112ebb90>,\n",
       " '_tr_no_count': 1}"
      ]
     },
     "execution_count": 74,
     "metadata": {},
     "output_type": "execute_result"
    }
   ],
   "source": [
    "a.__dict__"
   ]
  },
  {
   "cell_type": "code",
   "execution_count": 77,
   "id": "5879079c",
   "metadata": {},
   "outputs": [
    {
     "data": {
      "text/plain": [
       "{'_tr_date': datetime.date(2021, 8, 13),\n",
       " '_tr_date_no': 1,\n",
       " '_agno': '001',\n",
       " '_depwith': 'issue',\n",
       " '_amount': 0}"
      ]
     },
     "execution_count": 77,
     "metadata": {},
     "output_type": "execute_result"
    }
   ],
   "source": [
    "a.history.tr_history[0].__dict__"
   ]
  },
  {
   "cell_type": "code",
   "execution_count": null,
   "id": "1e1b4a65",
   "metadata": {},
   "outputs": [],
   "source": []
  }
 ],
 "metadata": {
  "kernelspec": {
   "display_name": "Python 3",
   "language": "python",
   "name": "python3"
  },
  "language_info": {
   "codemirror_mode": {
    "name": "ipython",
    "version": 3
   },
   "file_extension": ".py",
   "mimetype": "text/x-python",
   "name": "python",
   "nbconvert_exporter": "python",
   "pygments_lexer": "ipython3",
   "version": "3.7.10"
  }
 },
 "nbformat": 4,
 "nbformat_minor": 5
}
