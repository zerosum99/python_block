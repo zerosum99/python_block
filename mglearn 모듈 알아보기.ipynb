{
 "cells": [
  {
   "cell_type": "code",
   "execution_count": 1,
   "metadata": {
    "collapsed": true
   },
   "outputs": [],
   "source": [
    "import mglearn"
   ]
  },
  {
   "cell_type": "code",
   "execution_count": 30,
   "metadata": {
    "collapsed": true
   },
   "outputs": [],
   "source": [
    "%matplotlib inline"
   ]
  },
  {
   "cell_type": "code",
   "execution_count": 2,
   "metadata": {},
   "outputs": [
    {
     "data": {
      "text/plain": [
       "['ReBl',\n",
       " '__all__',\n",
       " '__builtins__',\n",
       " '__cached__',\n",
       " '__doc__',\n",
       " '__file__',\n",
       " '__loader__',\n",
       " '__name__',\n",
       " '__package__',\n",
       " '__path__',\n",
       " '__spec__',\n",
       " '__version__',\n",
       " 'cm2',\n",
       " 'cm3',\n",
       " 'datasets',\n",
       " 'discrete_scatter',\n",
       " 'make_blobs',\n",
       " 'plot_2d_separator',\n",
       " 'plot_agglomerative',\n",
       " 'plot_animal_tree',\n",
       " 'plot_cross_validation',\n",
       " 'plot_dbscan',\n",
       " 'plot_decomposition',\n",
       " 'plot_grid_search',\n",
       " 'plot_helpers',\n",
       " 'plot_improper_preprocessing',\n",
       " 'plot_interactive_tree',\n",
       " 'plot_kmeans',\n",
       " 'plot_knn_classification',\n",
       " 'plot_knn_regression',\n",
       " 'plot_linear_regression',\n",
       " 'plot_linear_svc_regularization',\n",
       " 'plot_metrics',\n",
       " 'plot_nmf',\n",
       " 'plot_nn_graphs',\n",
       " 'plot_pca',\n",
       " 'plot_rbf_svm_parameters',\n",
       " 'plot_ridge',\n",
       " 'plot_scaling',\n",
       " 'plot_tree_nonmonotonous',\n",
       " 'plots',\n",
       " 'tools']"
      ]
     },
     "execution_count": 2,
     "metadata": {},
     "output_type": "execute_result"
    }
   ],
   "source": [
    "dir(mglearn)"
   ]
  },
  {
   "cell_type": "code",
   "execution_count": 3,
   "metadata": {},
   "outputs": [
    {
     "name": "stdout",
     "output_type": "stream",
     "text": [
      "Help on module mglearn.datasets in mglearn:\n",
      "\n",
      "NAME\n",
      "    mglearn.datasets\n",
      "\n",
      "FUNCTIONS\n",
      "    load_citibike()\n",
      "    \n",
      "    load_extended_boston()\n",
      "    \n",
      "    make_forge()\n",
      "    \n",
      "    make_signals()\n",
      "    \n",
      "    make_wave(n_samples=100)\n",
      "\n",
      "DATA\n",
      "    DATA_PATH = '/Users/dahlmoon/anaconda/lib/python3.6/site-packages/mgle...\n",
      "\n",
      "FILE\n",
      "    /Users/dahlmoon/anaconda/lib/python3.6/site-packages/mglearn/datasets.py\n",
      "\n",
      "\n"
     ]
    }
   ],
   "source": [
    "help(mglearn.datasets)"
   ]
  },
  {
   "cell_type": "markdown",
   "metadata": {},
   "source": [
    "# 1. mglearn.datasets"
   ]
  },
  {
   "cell_type": "markdown",
   "metadata": {},
   "source": [
    "# citibike 데이터 읽어오기"
   ]
  },
  {
   "cell_type": "code",
   "execution_count": 4,
   "metadata": {},
   "outputs": [
    {
     "name": "stdout",
     "output_type": "stream",
     "text": [
      "Help on function load_citibike in module mglearn.datasets:\n",
      "\n",
      "load_citibike()\n",
      "\n"
     ]
    }
   ],
   "source": [
    "help(mglearn.datasets.load_citibike)"
   ]
  },
  {
   "cell_type": "code",
   "execution_count": 6,
   "metadata": {},
   "outputs": [],
   "source": [
    "s = mglearn.datasets.load_citibike()"
   ]
  },
  {
   "cell_type": "code",
   "execution_count": 7,
   "metadata": {},
   "outputs": [
    {
     "data": {
      "text/plain": [
       "pandas.core.series.Series"
      ]
     },
     "execution_count": 7,
     "metadata": {},
     "output_type": "execute_result"
    }
   ],
   "source": [
    "type(s)"
   ]
  },
  {
   "cell_type": "code",
   "execution_count": 8,
   "metadata": {
    "collapsed": true
   },
   "outputs": [],
   "source": [
    "from IPython.display import display"
   ]
  },
  {
   "cell_type": "code",
   "execution_count": 9,
   "metadata": {},
   "outputs": [
    {
     "data": {
      "text/plain": [
       "starttime\n",
       "2015-08-01 00:00:00     3.0\n",
       "2015-08-01 03:00:00     0.0\n",
       "2015-08-01 06:00:00     9.0\n",
       "2015-08-01 09:00:00    41.0\n",
       "2015-08-01 12:00:00    39.0\n",
       "2015-08-01 15:00:00    27.0\n",
       "2015-08-01 18:00:00    12.0\n",
       "2015-08-01 21:00:00     4.0\n",
       "2015-08-02 00:00:00     3.0\n",
       "2015-08-02 03:00:00     4.0\n",
       "2015-08-02 06:00:00     6.0\n",
       "2015-08-02 09:00:00    30.0\n",
       "2015-08-02 12:00:00    46.0\n",
       "2015-08-02 15:00:00    27.0\n",
       "2015-08-02 18:00:00    28.0\n",
       "2015-08-02 21:00:00     6.0\n",
       "2015-08-03 00:00:00     3.0\n",
       "2015-08-03 03:00:00     2.0\n",
       "2015-08-03 06:00:00    21.0\n",
       "2015-08-03 09:00:00     9.0\n",
       "2015-08-03 12:00:00     9.0\n",
       "2015-08-03 15:00:00    14.0\n",
       "2015-08-03 18:00:00    28.0\n",
       "2015-08-03 21:00:00    13.0\n",
       "2015-08-04 00:00:00     0.0\n",
       "2015-08-04 03:00:00     2.0\n",
       "2015-08-04 06:00:00    50.0\n",
       "2015-08-04 09:00:00     9.0\n",
       "2015-08-04 12:00:00    12.0\n",
       "2015-08-04 15:00:00    23.0\n",
       "                       ... \n",
       "2015-08-28 06:00:00    32.0\n",
       "2015-08-28 09:00:00    19.0\n",
       "2015-08-28 12:00:00    20.0\n",
       "2015-08-28 15:00:00    31.0\n",
       "2015-08-28 18:00:00    23.0\n",
       "2015-08-28 21:00:00     9.0\n",
       "2015-08-29 00:00:00     2.0\n",
       "2015-08-29 03:00:00     0.0\n",
       "2015-08-29 06:00:00     9.0\n",
       "2015-08-29 09:00:00    35.0\n",
       "2015-08-29 12:00:00    48.0\n",
       "2015-08-29 15:00:00    34.0\n",
       "2015-08-29 18:00:00    20.0\n",
       "2015-08-29 21:00:00     8.0\n",
       "2015-08-30 00:00:00     3.0\n",
       "2015-08-30 03:00:00     1.0\n",
       "2015-08-30 06:00:00     5.0\n",
       "2015-08-30 09:00:00    33.0\n",
       "2015-08-30 12:00:00    46.0\n",
       "2015-08-30 15:00:00    36.0\n",
       "2015-08-30 18:00:00    37.0\n",
       "2015-08-30 21:00:00     6.0\n",
       "2015-08-31 00:00:00     3.0\n",
       "2015-08-31 03:00:00     2.0\n",
       "2015-08-31 06:00:00    36.0\n",
       "2015-08-31 09:00:00    16.0\n",
       "2015-08-31 12:00:00     8.0\n",
       "2015-08-31 15:00:00    17.0\n",
       "2015-08-31 18:00:00    22.0\n",
       "2015-08-31 21:00:00     7.0\n",
       "Freq: 3H, Name: one, Length: 248, dtype: float64"
      ]
     },
     "metadata": {},
     "output_type": "display_data"
    }
   ],
   "source": [
    "display(s)"
   ]
  },
  {
   "cell_type": "code",
   "execution_count": 10,
   "metadata": {},
   "outputs": [
    {
     "data": {
      "text/plain": [
       "(248,)"
      ]
     },
     "execution_count": 10,
     "metadata": {},
     "output_type": "execute_result"
    }
   ],
   "source": [
    "s.shape"
   ]
  },
  {
   "cell_type": "code",
   "execution_count": 11,
   "metadata": {},
   "outputs": [
    {
     "data": {
      "text/plain": [
       "'one'"
      ]
     },
     "execution_count": 11,
     "metadata": {},
     "output_type": "execute_result"
    }
   ],
   "source": [
    "s.name"
   ]
  },
  {
   "cell_type": "code",
   "execution_count": 12,
   "metadata": {},
   "outputs": [
    {
     "data": {
      "text/plain": [
       "DatetimeIndex(['2015-08-01 00:00:00', '2015-08-01 03:00:00',\n",
       "               '2015-08-01 06:00:00', '2015-08-01 09:00:00',\n",
       "               '2015-08-01 12:00:00', '2015-08-01 15:00:00',\n",
       "               '2015-08-01 18:00:00', '2015-08-01 21:00:00',\n",
       "               '2015-08-02 00:00:00', '2015-08-02 03:00:00',\n",
       "               ...\n",
       "               '2015-08-30 18:00:00', '2015-08-30 21:00:00',\n",
       "               '2015-08-31 00:00:00', '2015-08-31 03:00:00',\n",
       "               '2015-08-31 06:00:00', '2015-08-31 09:00:00',\n",
       "               '2015-08-31 12:00:00', '2015-08-31 15:00:00',\n",
       "               '2015-08-31 18:00:00', '2015-08-31 21:00:00'],\n",
       "              dtype='datetime64[ns]', name='starttime', length=248, freq='3H')"
      ]
     },
     "execution_count": 12,
     "metadata": {},
     "output_type": "execute_result"
    }
   ],
   "source": [
    "s.index"
   ]
  },
  {
   "cell_type": "code",
   "execution_count": 15,
   "metadata": {},
   "outputs": [
    {
     "data": {
      "text/plain": [
       "1"
      ]
     },
     "execution_count": 15,
     "metadata": {},
     "output_type": "execute_result"
    }
   ],
   "source": [
    "s.ndim"
   ]
  },
  {
   "cell_type": "code",
   "execution_count": 17,
   "metadata": {},
   "outputs": [
    {
     "data": {
      "text/plain": [
       "22.0"
      ]
     },
     "execution_count": 17,
     "metadata": {},
     "output_type": "execute_result"
    }
   ],
   "source": [
    "s['2015-08-31 18:00:00 ']"
   ]
  },
  {
   "cell_type": "markdown",
   "metadata": {},
   "source": [
    "# boston data "
   ]
  },
  {
   "cell_type": "code",
   "execution_count": 26,
   "metadata": {},
   "outputs": [
    {
     "name": "stdout",
     "output_type": "stream",
     "text": [
      "Help on function load_extended_boston in module mglearn.datasets:\n",
      "\n",
      "load_extended_boston()\n",
      "\n"
     ]
    }
   ],
   "source": [
    "help(mglearn.datasets.load_extended_boston)"
   ]
  },
  {
   "cell_type": "code",
   "execution_count": 23,
   "metadata": {},
   "outputs": [],
   "source": [
    "bos,bos1 = mglearn.datasets.load_extended_boston()"
   ]
  },
  {
   "cell_type": "code",
   "execution_count": 24,
   "metadata": {},
   "outputs": [
    {
     "data": {
      "text/plain": [
       "numpy.ndarray"
      ]
     },
     "execution_count": 24,
     "metadata": {},
     "output_type": "execute_result"
    }
   ],
   "source": [
    "type(bos)"
   ]
  },
  {
   "cell_type": "code",
   "execution_count": 28,
   "metadata": {},
   "outputs": [
    {
     "data": {
      "text/plain": [
       "((506, 104), (506,))"
      ]
     },
     "execution_count": 28,
     "metadata": {},
     "output_type": "execute_result"
    }
   ],
   "source": [
    "bos.shape, bos1.shape"
   ]
  },
  {
   "cell_type": "code",
   "execution_count": 25,
   "metadata": {},
   "outputs": [
    {
     "data": {
      "text/plain": [
       "array([[  0.00000000e+00,   1.80000000e-01,   6.78152493e-02, ...,\n",
       "          1.00000000e+00,   8.96799117e-02,   8.04248656e-03],\n",
       "       [  2.35922539e-04,   0.00000000e+00,   2.42302053e-01, ...,\n",
       "          1.00000000e+00,   2.04470199e-01,   4.18080621e-02],\n",
       "       [  2.35697744e-04,   0.00000000e+00,   2.42302053e-01, ...,\n",
       "          9.79579831e-01,   6.28144504e-02,   4.02790570e-03],\n",
       "       ..., \n",
       "       [  6.11892474e-04,   0.00000000e+00,   4.20454545e-01, ...,\n",
       "          1.00000000e+00,   1.07891832e-01,   1.16406475e-02],\n",
       "       [  1.16072990e-03,   0.00000000e+00,   4.20454545e-01, ...,\n",
       "          9.82676920e-01,   1.29930407e-01,   1.71795127e-02],\n",
       "       [  4.61841693e-04,   0.00000000e+00,   4.20454545e-01, ...,\n",
       "          1.00000000e+00,   1.69701987e-01,   2.87987643e-02]])"
      ]
     },
     "metadata": {},
     "output_type": "display_data"
    }
   ],
   "source": [
    "display(bos)"
   ]
  },
  {
   "cell_type": "markdown",
   "metadata": {},
   "source": [
    "# forge 데이터 셋에 대한 knn 분류"
   ]
  },
  {
   "cell_type": "code",
   "execution_count": 36,
   "metadata": {},
   "outputs": [
    {
     "data": {
      "text/plain": [
       "(array([[  9.96346605,   4.59676542],\n",
       "        [ 11.0329545 ,  -0.16816717],\n",
       "        [ 11.54155807,   5.21116083],\n",
       "        [  8.69289001,   1.54322016],\n",
       "        [  8.1062269 ,   4.28695977],\n",
       "        [  8.30988863,   4.80623966],\n",
       "        [ 11.93027136,   4.64866327],\n",
       "        [  9.67284681,  -0.20283165],\n",
       "        [  8.34810316,   5.13415623],\n",
       "        [  8.67494727,   4.47573059],\n",
       "        [  9.17748385,   5.09283177],\n",
       "        [ 10.24028948,   2.45544401],\n",
       "        [  8.68937095,   1.48709629],\n",
       "        [  8.92229526,  -0.63993225],\n",
       "        [  9.49123469,   4.33224792],\n",
       "        [  9.25694192,   5.13284858],\n",
       "        [  7.99815287,   4.8525051 ],\n",
       "        [  8.18378052,   1.29564214],\n",
       "        [  8.7337095 ,   2.49162431],\n",
       "        [  9.32298256,   5.09840649],\n",
       "        [ 10.06393839,   0.99078055],\n",
       "        [  9.50048972,  -0.26430318],\n",
       "        [  8.34468785,   1.63824349],\n",
       "        [  9.50169345,   1.93824624],\n",
       "        [  9.15072323,   5.49832246],\n",
       "        [ 11.563957  ,   1.3389402 ]]),\n",
       " array([1, 0, 1, 0, 0, 1, 1, 0, 1, 1, 1, 1, 0, 0, 1, 1, 1, 0, 0, 1, 0, 0, 0,\n",
       "        0, 1, 0]))"
      ]
     },
     "execution_count": 36,
     "metadata": {},
     "output_type": "execute_result"
    }
   ],
   "source": [
    "mglearn.datasets.make_forge()"
   ]
  },
  {
   "cell_type": "code",
   "execution_count": 37,
   "metadata": {},
   "outputs": [
    {
     "data": {
      "image/png": "[encoded data removed]",
      "text/plain": [
       "<matplotlib.figure.Figure at 0x115850358>"
      ]
     },
     "metadata": {},
     "output_type": "display_data"
    }
   ],
   "source": [
    "mglearn.plots.plot_knn_classification(n_neighbors=1)"
   ]
  },
  {
   "cell_type": "code",
   "execution_count": 38,
   "metadata": {},
   "outputs": [
    {
     "data": {
      "image/png": "[encoded data removed]",
      "text/plain": [
       "<matplotlib.figure.Figure at 0x11572b978>"
      ]
     },
     "metadata": {},
     "output_type": "display_data"
    }
   ],
   "source": [
    "mglearn.plots.plot_knn_classification(n_neighbors=3)"
   ]
  },
  {
   "cell_type": "code",
   "execution_count": 39,
   "metadata": {},
   "outputs": [
    {
     "data": {
      "image/png": "[encoded data removed]",
      "text/plain": [
       "<matplotlib.figure.Figure at 0x115f70240>"
      ]
     },
     "metadata": {},
     "output_type": "display_data"
    }
   ],
   "source": [
    "mglearn.plots.plot_knn_classification(n_neighbors=5)"
   ]
  },
  {
   "cell_type": "code",
   "execution_count": 40,
   "metadata": {},
   "outputs": [
    {
     "data": {
      "image/png": "[encoded data removed]",
      "text/plain": [
       "<matplotlib.figure.Figure at 0x116186390>"
      ]
     },
     "metadata": {},
     "output_type": "display_data"
    }
   ],
   "source": [
    "mglearn.plots.plot_knn_classification(n_neighbors=9)"
   ]
  },
  {
   "cell_type": "code",
   "execution_count": 41,
   "metadata": {},
   "outputs": [
    {
     "data": {
      "text/plain": [
       "array([[ 2.65408203,  2.48908887,  1.07757433],\n",
       "       [ 2.94981947,  3.45507031,  0.79929765],\n",
       "       [ 2.97649958,  3.65235694,  0.73473133],\n",
       "       ..., \n",
       "       [ 2.22337048,  1.33481395,  4.31421863],\n",
       "       [ 2.36722058,  1.56522921,  4.53698235],\n",
       "       [ 1.77945297,  1.62362822,  0.47660599]])"
      ]
     },
     "execution_count": 41,
     "metadata": {},
     "output_type": "execute_result"
    }
   ],
   "source": [
    "mglearn.datasets.make_signals()"
   ]
  },
  {
   "cell_type": "code",
   "execution_count": 43,
   "metadata": {},
   "outputs": [],
   "source": [
    "v, r = mglearn.datasets.make_wave(n_samples=100)"
   ]
  },
  {
   "cell_type": "code",
   "execution_count": 44,
   "metadata": {},
   "outputs": [
    {
     "data": {
      "text/plain": [
       "array([[-0.75275929],\n",
       "       [ 2.70428584],\n",
       "       [ 1.39196365],\n",
       "       [ 0.59195091],\n",
       "       [-2.06388816],\n",
       "       [-2.06403288],\n",
       "       [-2.65149833],\n",
       "       [ 2.19705687],\n",
       "       [ 0.60669007],\n",
       "       [ 1.24843547],\n",
       "       [-2.87649303],\n",
       "       [ 2.81945911],\n",
       "       [ 1.99465584],\n",
       "       [-1.72596534],\n",
       "       [-1.9090502 ],\n",
       "       [-1.89957294],\n",
       "       [-1.17454654],\n",
       "       [ 0.14853859],\n",
       "       [-0.40832989],\n",
       "       [-1.25262516],\n",
       "       [ 0.67111737],\n",
       "       [-2.16303684],\n",
       "       [-1.24713211],\n",
       "       [-0.80182894],\n",
       "       [-0.26358009],\n",
       "       [ 1.71105577],\n",
       "       [-1.80195731],\n",
       "       [ 0.08540663],\n",
       "       [ 0.55448741],\n",
       "       [-2.72129752],\n",
       "       [ 0.64526911],\n",
       "       [-1.97685526],\n",
       "       [-2.60969044],\n",
       "       [ 2.69331322],\n",
       "       [ 2.7937922 ],\n",
       "       [ 1.85038409],\n",
       "       [-1.17231738],\n",
       "       [-2.41396732],\n",
       "       [ 1.10539816],\n",
       "       [-0.35908504],\n",
       "       [-2.26777059],\n",
       "       [-0.02893854],\n",
       "       [-2.79366887],\n",
       "       [ 2.45592241],\n",
       "       [-1.44732011],\n",
       "       [ 0.97513371],\n",
       "       [-1.12973354],\n",
       "       [ 0.12040813],\n",
       "       [ 0.28026168],\n",
       "       [-1.89087327],\n",
       "       [ 2.81750777],\n",
       "       [ 1.65079694],\n",
       "       [ 2.63699365],\n",
       "       [ 2.3689641 ],\n",
       "       [ 0.58739987],\n",
       "       [ 2.53124541],\n",
       "       [-2.46904499],\n",
       "       [-1.82410283],\n",
       "       [-2.72863627],\n",
       "       [-1.04801802],\n",
       "       [-0.66793626],\n",
       "       [-1.37190581],\n",
       "       [ 1.97242505],\n",
       "       [-0.85948004],\n",
       "       [-1.31439294],\n",
       "       [ 0.2561765 ],\n",
       "       [-2.15445465],\n",
       "       [ 1.81318188],\n",
       "       [-2.55269614],\n",
       "       [ 2.92132162],\n",
       "       [ 1.63346862],\n",
       "       [-1.80770591],\n",
       "       [-2.9668673 ],\n",
       "       [ 1.89276857],\n",
       "       [ 1.24114406],\n",
       "       [ 1.37404301],\n",
       "       [ 1.62762208],\n",
       "       [-2.55573209],\n",
       "       [-0.84920563],\n",
       "       [-2.30478564],\n",
       "       [ 2.17862056],\n",
       "       [ 0.73978876],\n",
       "       [-1.01461185],\n",
       "       [-2.6186499 ],\n",
       "       [-1.13410607],\n",
       "       [-1.04890007],\n",
       "       [ 1.37763707],\n",
       "       [ 0.82534483],\n",
       "       [ 2.32327646],\n",
       "       [-0.16671045],\n",
       "       [-2.28243452],\n",
       "       [ 1.27946872],\n",
       "       [ 1.56471029],\n",
       "       [ 0.36766319],\n",
       "       [ 1.62580308],\n",
       "       [-0.03722642],\n",
       "       [ 0.13639698],\n",
       "       [-0.43475389],\n",
       "       [-2.84748524],\n",
       "       [-2.35265144]])"
      ]
     },
     "execution_count": 44,
     "metadata": {},
     "output_type": "execute_result"
    }
   ],
   "source": [
    "v"
   ]
  },
  {
   "cell_type": "code",
   "execution_count": 45,
   "metadata": {},
   "outputs": [
    {
     "data": {
      "text/plain": [
       "array([-0.39794858,  0.71057755,  0.41392867, -0.34838379, -1.60200406,\n",
       "       -1.31357099, -0.124268  ,  1.13660585,  0.22684365, -0.10700113,\n",
       "       -0.54427035,  1.0938912 ,  1.22856895, -0.89714157, -1.39417599,\n",
       "       -0.9492085 , -0.43835025,  0.19034234, -0.89924205, -0.88012364,\n",
       "        0.70430307, -1.30000147, -0.13995175, -0.48537014, -1.27425783,\n",
       "        0.91123781, -1.47153912, -0.19092529,  0.59550252, -0.66166641,\n",
       "        1.53153925, -1.40042495, -0.75159805,  0.82173954, -0.05444761,\n",
       "        1.36162551, -0.05617721,  0.13915737, -0.02248933, -0.52425604,\n",
       "       -1.32442468, -0.6565562 , -0.33342093,  1.40971987, -0.09111024,\n",
       "       -0.31120403,  0.62720334, -0.40910817,  0.88383737, -0.32926085,\n",
       "        0.43219944,  0.69953405,  0.91757823,  0.9072161 , -0.12575441,\n",
       "        0.97771746, -1.54756059, -1.0995268 , -1.32567079,  0.68478903,\n",
       "       -0.95196998, -0.48985511,  1.89265222, -0.8991673 , -0.11595025,\n",
       "        1.20894039, -2.2420626 ,  1.4112213 , -0.79263824,  1.46585765,\n",
       "        0.32229477, -1.97010101, -0.90077433,  1.57500058,  0.26163397,\n",
       "        0.50612165,  0.58647405, -0.80370608, -0.15183266, -1.61166313,\n",
       "        2.34822654,  0.69752447, -0.70611156, -0.54738091, -0.56211481,\n",
       "        0.30379743,  0.91910334, -0.07722254,  1.70897229, -0.18621847,\n",
       "       -0.87557618,  1.12867544,  0.64749022,  0.30445842,  0.47727232,\n",
       "       -0.50069636,  0.289108  , -0.5397432 , -0.82377718, -0.76981996])"
      ]
     },
     "execution_count": 45,
     "metadata": {},
     "output_type": "execute_result"
    }
   ],
   "source": [
    "r"
   ]
  },
  {
   "cell_type": "code",
   "execution_count": null,
   "metadata": {
    "collapsed": true
   },
   "outputs": [],
   "source": []
  }
 ],
 "metadata": {
  "kernelspec": {
   "display_name": "Python 3",
   "language": "python",
   "name": "python3"
  },
  "language_info": {
   "codemirror_mode": {
    "name": "ipython",
    "version": 3
   },
   "file_extension": ".py",
   "mimetype": "text/x-python",
   "name": "python",
   "nbconvert_exporter": "python",
   "pygments_lexer": "ipython3",
   "version": "3.6.1"
  }
 },
 "nbformat": 4,
 "nbformat_minor": 2
}
