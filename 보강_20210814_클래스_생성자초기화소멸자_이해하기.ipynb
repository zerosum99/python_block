{
 "cells": [
  {
   "cell_type": "code",
   "execution_count": null,
   "id": "ce67357c",
   "metadata": {},
   "outputs": [],
   "source": [
    "# new : 객체 생성 \n",
    "# 생성자 :   객체 속성 초기 값을 세팅 "
   ]
  },
  {
   "cell_type": "markdown",
   "id": "dab3434c",
   "metadata": {},
   "source": [
    "## 생성자, 초기화, 소멸자 정의"
   ]
  },
  {
   "cell_type": "code",
   "execution_count": null,
   "id": "37b6b76a",
   "metadata": {},
   "outputs": [],
   "source": []
  },
  {
   "cell_type": "code",
   "execution_count": 1,
   "id": "f2dd0a98",
   "metadata": {},
   "outputs": [
    {
     "name": "stdout",
     "output_type": "stream",
     "text": [
      "Overwriting klass.py\n"
     ]
    }
   ],
   "source": [
    "%%writefile klass.py\n",
    "class Klass :\n",
    "   # 이 친구는 스페셜 메소드\n",
    "   # 생성자 메소드\n",
    "    def __new__(cls, name, age) :\n",
    "        print(\"객체가 생성되었습니다\")\n",
    "        return object.__new__(cls)\n",
    "\n",
    "     # 초기화 메소드\n",
    "    def __init__(self, name, age) :\n",
    "        print(\"객체를 초기화 합니다\")\n",
    "        self.name = name\n",
    "        self.age = age\n",
    "\n",
    "    # 소멸자 메소드\n",
    "    def __del__(self) :\n",
    "        print(\"객체를 삭제합니다\")\n",
    "        del self\n",
    "        \n",
    "if __name__ == \"__main__\" :\n",
    "    k = Klass(\"준석\", 25)\n",
    "    print(k)"
   ]
  },
  {
   "cell_type": "code",
   "execution_count": 2,
   "id": "5213bd07",
   "metadata": {},
   "outputs": [
    {
     "name": "stdout",
     "output_type": "stream",
     "text": [
      "객체가 생성되었습니다\n",
      "객체를 초기화 합니다\n",
      "<__main__.Klass object at 0x7fccb08e5150>\n"
     ]
    }
   ],
   "source": [
    "%run klass.py"
   ]
  },
  {
   "cell_type": "markdown",
   "id": "0bcfab86",
   "metadata": {},
   "source": [
    "## 객체 생성 및 초기화"
   ]
  },
  {
   "cell_type": "code",
   "execution_count": 3,
   "id": "580de21e",
   "metadata": {},
   "outputs": [],
   "source": [
    "import klass"
   ]
  },
  {
   "cell_type": "code",
   "execution_count": 4,
   "id": "c245b333",
   "metadata": {},
   "outputs": [
    {
     "name": "stdout",
     "output_type": "stream",
     "text": [
      "객체가 생성되었습니다\n",
      "객체를 초기화 합니다\n"
     ]
    }
   ],
   "source": [
    "k = klass.Klass(\"준석\", 25)"
   ]
  },
  {
   "cell_type": "markdown",
   "id": "30004911",
   "metadata": {},
   "source": [
    "## 소멸자 처리"
   ]
  },
  {
   "cell_type": "code",
   "execution_count": 5,
   "id": "5938eeb7",
   "metadata": {},
   "outputs": [
    {
     "name": "stdout",
     "output_type": "stream",
     "text": [
      "객체를 삭제합니다\n"
     ]
    }
   ],
   "source": [
    "del k"
   ]
  },
  {
   "cell_type": "code",
   "execution_count": 5,
   "id": "7f90ca68",
   "metadata": {},
   "outputs": [],
   "source": [
    "import weakref"
   ]
  },
  {
   "cell_type": "code",
   "execution_count": 7,
   "id": "493e6bcf",
   "metadata": {},
   "outputs": [
    {
     "data": {
      "text/plain": [
       "['__class__',\n",
       " '__del__',\n",
       " '__delattr__',\n",
       " '__dict__',\n",
       " '__dir__',\n",
       " '__doc__',\n",
       " '__eq__',\n",
       " '__format__',\n",
       " '__ge__',\n",
       " '__getattribute__',\n",
       " '__gt__',\n",
       " '__hash__',\n",
       " '__init__',\n",
       " '__init_subclass__',\n",
       " '__le__',\n",
       " '__lt__',\n",
       " '__module__',\n",
       " '__ne__',\n",
       " '__new__',\n",
       " '__reduce__',\n",
       " '__reduce_ex__',\n",
       " '__repr__',\n",
       " '__setattr__',\n",
       " '__sizeof__',\n",
       " '__str__',\n",
       " '__subclasshook__',\n",
       " '__weakref__']"
      ]
     },
     "execution_count": 7,
     "metadata": {},
     "output_type": "execute_result"
    }
   ],
   "source": [
    "dir(Klass)"
   ]
  },
  {
   "cell_type": "code",
   "execution_count": 6,
   "id": "660a7f48",
   "metadata": {},
   "outputs": [
    {
     "data": {
      "text/plain": [
       "['CallableProxyType',\n",
       " 'KeyedRef',\n",
       " 'ProxyType',\n",
       " 'ProxyTypes',\n",
       " 'ReferenceType',\n",
       " 'WeakKeyDictionary',\n",
       " 'WeakMethod',\n",
       " 'WeakSet',\n",
       " 'WeakValueDictionary',\n",
       " '_IterationGuard',\n",
       " '__all__',\n",
       " '__builtins__',\n",
       " '__cached__',\n",
       " '__doc__',\n",
       " '__file__',\n",
       " '__loader__',\n",
       " '__name__',\n",
       " '__package__',\n",
       " '__spec__',\n",
       " '_collections_abc',\n",
       " '_remove_dead_weakref',\n",
       " 'finalize',\n",
       " 'getweakrefcount',\n",
       " 'getweakrefs',\n",
       " 'itertools',\n",
       " 'proxy',\n",
       " 'ref',\n",
       " 'sys']"
      ]
     },
     "execution_count": 6,
     "metadata": {},
     "output_type": "execute_result"
    }
   ],
   "source": [
    "dir(weakref)"
   ]
  },
  {
   "cell_type": "markdown",
   "id": "b66c85e1",
   "metadata": {},
   "source": [
    "## 메인 처리하기"
   ]
  },
  {
   "cell_type": "code",
   "execution_count": 6,
   "id": "605c71a5",
   "metadata": {},
   "outputs": [
    {
     "name": "stdout",
     "output_type": "stream",
     "text": [
      "객체가 생성되었습니다\n",
      "객체를 초기화 합니다\n"
     ]
    }
   ],
   "source": [
    "class Klass :\n",
    "   # 이 친구는 스페셜 메소드\n",
    "   # 생성자 메소드\n",
    "    def __new__(cls, name, age) :\n",
    "        print(\"객체가 생성되었습니다\")\n",
    "        return object.__new__(cls)\n",
    "\n",
    "     # 초기화 메소드\n",
    "    def __init__(self, name, age) :\n",
    "        print(\"객체를 초기화 합니다\")\n",
    "        self.name = name\n",
    "        self.age = age\n",
    "\n",
    "    # 소멸자 메소드\n",
    "    def __del__(self) :\n",
    "        print(\"객체를 삭제합니다\")\n",
    "        del self\n",
    "        \n",
    "if __name__ == \"__main__\" :\n",
    "    k = klass.Klass(\"준석\", 25)"
   ]
  },
  {
   "cell_type": "code",
   "execution_count": null,
   "id": "dee351ed",
   "metadata": {},
   "outputs": [],
   "source": []
  }
 ],
 "metadata": {
  "kernelspec": {
   "display_name": "Python 3",
   "language": "python",
   "name": "python3"
  },
  "language_info": {
   "codemirror_mode": {
    "name": "ipython",
    "version": 3
   },
   "file_extension": ".py",
   "mimetype": "text/x-python",
   "name": "python",
   "nbconvert_exporter": "python",
   "pygments_lexer": "ipython3",
   "version": "3.7.10"
  }
 },
 "nbformat": 4,
 "nbformat_minor": 5
}
