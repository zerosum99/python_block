{
 "cells": [
  {
   "cell_type": "markdown",
   "id": "8cdb2050",
   "metadata": {},
   "source": [
    "## 멀티프로세싱 모듈 사용"
   ]
  },
  {
   "cell_type": "code",
   "execution_count": 1,
   "id": "0cf7e99b",
   "metadata": {},
   "outputs": [],
   "source": [
    "import multiprocessing as multi"
   ]
  },
  {
   "cell_type": "markdown",
   "id": "022bda4e",
   "metadata": {},
   "source": [
    "### 현재 코어수 확인"
   ]
  },
  {
   "cell_type": "code",
   "execution_count": 2,
   "id": "b6c91db9",
   "metadata": {},
   "outputs": [
    {
     "data": {
      "text/plain": [
       "8"
      ]
     },
     "execution_count": 2,
     "metadata": {},
     "output_type": "execute_result"
    }
   ],
   "source": [
    "multi.cpu_count()"
   ]
  },
  {
   "cell_type": "code",
   "execution_count": 3,
   "id": "68e429fe",
   "metadata": {},
   "outputs": [],
   "source": [
    "from multiprocessing import Pool\n",
    "import time\n",
    "import os\n",
    "import math\n",
    "\n",
    "def f(x):\n",
    "    print(\"값\", x, \"에 대한 작업 Pid = \",os.getpid())\n",
    "    time.sleep(1)\n",
    "    return x*x\n"
   ]
  },
  {
   "cell_type": "code",
   "execution_count": 10,
   "id": "50f13c14",
   "metadata": {},
   "outputs": [
    {
     "name": "stdout",
     "output_type": "stream",
     "text": [
      "값값값   012   에 대한 작업 Pid = 에 대한 작업 Pid = 에 대한 작업 Pid =    9051690517\n",
      "\n",
      "90518\n",
      "값값  값43   5에 대한 작업 Pid = 에 대한 작업 Pid =    에 대한 작업 Pid = 9051690517 \n",
      "\n",
      "90518\n",
      "값값  6값7   에 대한 작업 Pid = 8 에 대한 작업 Pid =   90516에 대한 작업 Pid = \n",
      "90517 \n",
      "90518\n",
      "값 9 에 대한 작업 Pid =  90516\n",
      "[0, 1, 4, 9, 16, 25, 36, 49, 64, 81]\n",
      "총 작업 시간 4\n"
     ]
    }
   ],
   "source": [
    "p = Pool(3)\n",
    "r = range(0,10)\n",
    "startTime = int(time.time())\n",
    "print(p.map(f, r))  # 함수와 인자값을 맵핑하면서 데이터를 분배한다\n",
    "endTime = int(time.time())\n",
    "print(\"총 작업 시간\", (endTime - startTime))"
   ]
  },
  {
   "cell_type": "code",
   "execution_count": 7,
   "id": "7ad5cfd4",
   "metadata": {},
   "outputs": [
    {
     "name": "stdout",
     "output_type": "stream",
     "text": [
      "5 doubled to 10 by process id: 90320\n",
      "10 doubled to 20 by process id: 90321\n",
      "15 doubled to 30 by process id: 90322\n",
      "20 doubled to 40 by process id: 90323\n",
      "25 doubled to 50 by process id: 90324\n"
     ]
    }
   ],
   "source": [
    "from multiprocessing import Process\n",
    "\n",
    "def doubler(number):\n",
    "    #A doubling function that can be used by a process\n",
    "    \n",
    "    result = number * 2\n",
    "    proc = os.getpid()\n",
    "    print('{0} doubled to {1} by process id: {2}'.format(\n",
    "        number, result, proc))\n",
    "\n",
    "\n",
    "if __name__ == '__main__':\n",
    "    numbers = [5, 10, 15, 20, 25]\n",
    "    procs = []\n",
    "\n",
    "    for index, number in enumerate(numbers):\n",
    "        proc = Process(target=doubler, args=(number,))\n",
    "        procs.append(proc)\n",
    "        proc.start()\n",
    "\n",
    "    for proc in procs:\n",
    "        proc.join()"
   ]
  },
  {
   "cell_type": "code",
   "execution_count": null,
   "id": "31eb00ca",
   "metadata": {},
   "outputs": [],
   "source": []
  }
 ],
 "metadata": {
  "kernelspec": {
   "display_name": "Python 3",
   "language": "python",
   "name": "python3"
  },
  "language_info": {
   "codemirror_mode": {
    "name": "ipython",
    "version": 3
   },
   "file_extension": ".py",
   "mimetype": "text/x-python",
   "name": "python",
   "nbconvert_exporter": "python",
   "pygments_lexer": "ipython3",
   "version": "3.7.10"
  }
 },
 "nbformat": 4,
 "nbformat_minor": 5
}
