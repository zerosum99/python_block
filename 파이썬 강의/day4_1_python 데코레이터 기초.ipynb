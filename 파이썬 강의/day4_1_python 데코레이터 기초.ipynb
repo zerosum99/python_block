{
 "cells": [
  {
   "cell_type": "code",
   "execution_count": 1,
   "metadata": {},
   "outputs": [
    {
     "name": "stdout",
     "output_type": "stream",
     "text": [
      "3.7.10 (default, Feb 26 2021, 13:06:18) [MSC v.1916 64 bit (AMD64)]\n"
     ]
    }
   ],
   "source": [
    "import sys\n",
    "\n",
    "print(sys.version)"
   ]
  },
  {
   "cell_type": "code",
   "execution_count": null,
   "metadata": {},
   "outputs": [],
   "source": []
  },
  {
   "cell_type": "markdown",
   "metadata": {},
   "source": [
    "# 1. 데코레이터\n",
    "\n",
    "- 특정 함수나 클래스로 기존 함수나 클래스의 기능을 추가하는 경우 사용\n",
    "- 보통 함수에 함수를 전달해서 새로운 기능을 처리 : 합성함수 처리\n"
   ]
  },
  {
   "cell_type": "markdown",
   "metadata": {},
   "source": [
    "# 1.1 데코레이터 함수 정의"
   ]
  },
  {
   "cell_type": "markdown",
   "metadata": {},
   "source": [
    "### 데코레이터 함수를 정의\n",
    "- 하나의 매개변수는 함수를 받는다.\n",
    "- 함수를 그대로 전달한다."
   ]
  },
  {
   "cell_type": "code",
   "execution_count": 1,
   "metadata": {},
   "outputs": [],
   "source": [
    "def func(func_) :\n",
    "    return func_"
   ]
  },
  {
   "cell_type": "code",
   "execution_count": 2,
   "metadata": {},
   "outputs": [],
   "source": [
    "def add(x,y) :\n",
    "    return x +y"
   ]
  },
  {
   "cell_type": "code",
   "execution_count": 3,
   "metadata": {},
   "outputs": [],
   "source": [
    "f = func(add)"
   ]
  },
  {
   "cell_type": "code",
   "execution_count": 4,
   "metadata": {},
   "outputs": [
    {
     "data": {
      "text/plain": [
       "30"
      ]
     },
     "execution_count": 4,
     "metadata": {},
     "output_type": "execute_result"
    }
   ],
   "source": [
    "f(10,20)"
   ]
  },
  {
   "cell_type": "markdown",
   "metadata": {},
   "source": [
    "### 데코레이터 함수 내에 내부 함수를 정의해서 새로운 기능 추가\n",
    "\n",
    "- 함수를 전달 받아 지역변수로 처리\n",
    "- 내부 함수를 반환한다.\n",
    "- 내부 함수 내에서 저장된 함수를 실행한다. "
   ]
  },
  {
   "cell_type": "code",
   "execution_count": 5,
   "metadata": {},
   "outputs": [],
   "source": [
    "def dec(func):\n",
    "    print(\"a\")\n",
    "    def new_func():\n",
    "        print('A')\n",
    "        return func()\n",
    "    return new_func"
   ]
  },
  {
   "cell_type": "code",
   "execution_count": 6,
   "metadata": {},
   "outputs": [],
   "source": [
    "def add() :\n",
    "    return 10"
   ]
  },
  {
   "cell_type": "code",
   "execution_count": 7,
   "metadata": {},
   "outputs": [
    {
     "name": "stdout",
     "output_type": "stream",
     "text": [
      "a\n"
     ]
    }
   ],
   "source": [
    "add = dec(add)"
   ]
  },
  {
   "cell_type": "code",
   "execution_count": 8,
   "metadata": {},
   "outputs": [
    {
     "name": "stdout",
     "output_type": "stream",
     "text": [
      "A\n"
     ]
    },
    {
     "data": {
      "text/plain": [
       "10"
      ]
     },
     "execution_count": 8,
     "metadata": {},
     "output_type": "execute_result"
    }
   ],
   "source": [
    "add()"
   ]
  },
  {
   "cell_type": "markdown",
   "metadata": {},
   "source": [
    "### 데코레이터 단순 표기법 \n",
    "- 기존 함수에 @ 기호와 데코레이터 함수를 지정한다.\n",
    "- 함수를 실행할 때는 실행함수 이름으로 실행\n",
    "- 내부 함수가 실행함수 이름으로 반환되어 처리\n"
   ]
  },
  {
   "cell_type": "code",
   "execution_count": 9,
   "metadata": {},
   "outputs": [
    {
     "name": "stdout",
     "output_type": "stream",
     "text": [
      "a\n"
     ]
    }
   ],
   "source": [
    "@dec\n",
    "def add_() :\n",
    "    return 100"
   ]
  },
  {
   "cell_type": "code",
   "execution_count": 10,
   "metadata": {},
   "outputs": [
    {
     "name": "stdout",
     "output_type": "stream",
     "text": [
      "A\n"
     ]
    },
    {
     "data": {
      "text/plain": [
       "100"
      ]
     },
     "execution_count": 10,
     "metadata": {},
     "output_type": "execute_result"
    }
   ],
   "source": [
    "add_()"
   ]
  },
  {
   "cell_type": "markdown",
   "metadata": {},
   "source": [
    "## 1.2 데코레이터 실행함수 인자 전달 하기\n",
    "- 실행함수 저장과 실행함수의 인자를 분리한다.\n",
    "- 내부 함수는 실행함수의 인자를 받아서 저장된 실행함수를 실행한다."
   ]
  },
  {
   "cell_type": "code",
   "execution_count": 11,
   "metadata": {},
   "outputs": [],
   "source": [
    "def dec_1(func):\n",
    "    print(\"a\")\n",
    "    def new_func(*args, **kwargs):\n",
    "        print('A')\n",
    "        return func(*args, **kwargs)\n",
    "    return new_func"
   ]
  },
  {
   "cell_type": "code",
   "execution_count": 12,
   "metadata": {},
   "outputs": [
    {
     "name": "stdout",
     "output_type": "stream",
     "text": [
      "a\n"
     ]
    }
   ],
   "source": [
    "@dec_1\n",
    "def add_1(x,y) :\n",
    "    return x + y"
   ]
  },
  {
   "cell_type": "code",
   "execution_count": 13,
   "metadata": {},
   "outputs": [
    {
     "name": "stdout",
     "output_type": "stream",
     "text": [
      "A\n"
     ]
    },
    {
     "data": {
      "text/plain": [
       "300"
      ]
     },
     "execution_count": 13,
     "metadata": {},
     "output_type": "execute_result"
    }
   ],
   "source": [
    "add_1(100,200)"
   ]
  },
  {
   "cell_type": "code",
   "execution_count": null,
   "metadata": {},
   "outputs": [],
   "source": []
  },
  {
   "cell_type": "markdown",
   "metadata": {},
   "source": [
    "## 1.3  데코레이터 실행순서\n",
    "\n",
    "- 데코레이터는 여러 개를 실행함수에 연결할 수 있다.\n",
    "- 데코레이터 순서는 밑에 정의한 것부터 차례대로 구성된다.\n"
   ]
  },
  {
   "cell_type": "code",
   "execution_count": 14,
   "metadata": {},
   "outputs": [],
   "source": [
    "def a(func):\n",
    "    print(\"a\")\n",
    "    def new_func():\n",
    "        print('A')\n",
    "        func()\n",
    "    return new_func\n",
    "\n",
    "\n",
    "def b(func):\n",
    "    print(\"b\")\n",
    "    def new_func():\n",
    "        print('B')\n",
    "        func()\n",
    "    return new_func\n",
    "\n",
    "\n",
    "def c(func):\n",
    "    print(\"c\")\n",
    "    def new_func():\n",
    "        print('C')\n",
    "        func()\n",
    "    return new_func"
   ]
  },
  {
   "cell_type": "markdown",
   "metadata": {},
   "source": [
    "### 데코레이터 적용 순서 \n",
    "- 로딩시 자동으로 데코레이터가 구성된다."
   ]
  },
  {
   "cell_type": "code",
   "execution_count": 15,
   "metadata": {},
   "outputs": [
    {
     "name": "stdout",
     "output_type": "stream",
     "text": [
      "c\n",
      "b\n",
      "a\n"
     ]
    }
   ],
   "source": [
    "@a\n",
    "@b \n",
    "@c # <- 우선 적용\n",
    "def func():\n",
    "    pass"
   ]
  },
  {
   "cell_type": "markdown",
   "metadata": {},
   "source": [
    "### 실행순서 \n",
    "- 실행슨서는 제일 위에 정의한 데코레이터부터 순차적으로 실행된다.\n"
   ]
  },
  {
   "cell_type": "code",
   "execution_count": 16,
   "metadata": {},
   "outputs": [
    {
     "name": "stdout",
     "output_type": "stream",
     "text": [
      "A\n",
      "B\n",
      "C\n"
     ]
    }
   ],
   "source": [
    "func()"
   ]
  },
  {
   "cell_type": "code",
   "execution_count": 17,
   "metadata": {},
   "outputs": [
    {
     "name": "stdout",
     "output_type": "stream",
     "text": [
      "c\n",
      "b\n",
      "a\n"
     ]
    }
   ],
   "source": [
    "def func_1():\n",
    "    pass\n",
    "\n",
    "func_1 = a(b(c(func_1))) # 데코레이터 문법 적용시키지 않고 동일한 함수를 생성"
   ]
  },
  {
   "cell_type": "code",
   "execution_count": 18,
   "metadata": {},
   "outputs": [
    {
     "name": "stdout",
     "output_type": "stream",
     "text": [
      "A\n",
      "B\n",
      "C\n"
     ]
    }
   ],
   "source": [
    "func_1()"
   ]
  },
  {
   "cell_type": "markdown",
   "metadata": {},
   "source": [
    "# 2.  정보상실 문제 해결\n",
    "\n",
    "- 데코레이터를 구성하면 내부함수가 전달되므로 저장된 실행함수의 정보가 외부에 전달되지 않는다.\n",
    "- 외부함수의 정보를 전달하려면 함수 내의 메타정보를 갱신해야 한다.\n",
    "\n",
    "* 덮어쓰기\n",
    "\n",
    "`__name__`, `__module__`, `__qualname__`, `__doc__`, `__annotations__`\n",
    "\n",
    "* 업데이트\n",
    "\n",
    "`__dict__`\n",
    "\n",
    "* 원본함수 저장\n",
    "\n",
    "`__wrapped__`"
   ]
  },
  {
   "cell_type": "markdown",
   "metadata": {},
   "source": [
    "## 2.1  내부 함수가 전달되어 기존 함수에 대한 정보가 없음"
   ]
  },
  {
   "cell_type": "code",
   "execution_count": 19,
   "metadata": {},
   "outputs": [],
   "source": [
    "def outer(func):\n",
    "    def inner(*args, **kwargs):\n",
    "        print(\"함수가 실행됩니다.\")\n",
    "        return func(*args, **kwargs)\n",
    "    return inner"
   ]
  },
  {
   "cell_type": "code",
   "execution_count": 20,
   "metadata": {},
   "outputs": [],
   "source": [
    "@outer\n",
    "def func_3(a, b, c):\n",
    "    \"\"\"3개의 숫자 또는 Sequence를 받아서 + 연산 후 리턴\"\"\"\n",
    "    return a + b + c"
   ]
  },
  {
   "cell_type": "code",
   "execution_count": 21,
   "metadata": {},
   "outputs": [
    {
     "name": "stdout",
     "output_type": "stream",
     "text": [
      "함수가 실행됩니다.\n"
     ]
    },
    {
     "data": {
      "text/plain": [
       "6"
      ]
     },
     "execution_count": 21,
     "metadata": {},
     "output_type": "execute_result"
    }
   ],
   "source": [
    "func_3(1, 2, 3)"
   ]
  },
  {
   "cell_type": "code",
   "execution_count": 22,
   "metadata": {},
   "outputs": [
    {
     "name": "stdout",
     "output_type": "stream",
     "text": [
      "함수가 실행됩니다.\n"
     ]
    },
    {
     "data": {
      "text/plain": [
       "'abc'"
      ]
     },
     "execution_count": 22,
     "metadata": {},
     "output_type": "execute_result"
    }
   ],
   "source": [
    "func_3('a', 'b', 'c')"
   ]
  },
  {
   "cell_type": "code",
   "execution_count": 23,
   "metadata": {},
   "outputs": [
    {
     "data": {
      "text/plain": [
       "'inner'"
      ]
     },
     "execution_count": 23,
     "metadata": {},
     "output_type": "execute_result"
    }
   ],
   "source": [
    "func_3.__name__"
   ]
  },
  {
   "cell_type": "code",
   "execution_count": 24,
   "metadata": {},
   "outputs": [],
   "source": [
    "func_3.__doc__"
   ]
  },
  {
   "cell_type": "code",
   "execution_count": 25,
   "metadata": {},
   "outputs": [
    {
     "data": {
      "text/plain": [
       "'__main__'"
      ]
     },
     "execution_count": 25,
     "metadata": {},
     "output_type": "execute_result"
    }
   ],
   "source": [
    "func_3.__module__"
   ]
  },
  {
   "cell_type": "code",
   "execution_count": 26,
   "metadata": {},
   "outputs": [
    {
     "data": {
      "text/plain": [
       "'outer.<locals>.inner'"
      ]
     },
     "execution_count": 26,
     "metadata": {},
     "output_type": "execute_result"
    }
   ],
   "source": [
    "func_3.__qualname__"
   ]
  },
  {
   "cell_type": "code",
   "execution_count": 27,
   "metadata": {},
   "outputs": [
    {
     "data": {
      "text/plain": [
       "{}"
      ]
     },
     "execution_count": 27,
     "metadata": {},
     "output_type": "execute_result"
    }
   ],
   "source": [
    "func_3.__dict__"
   ]
  },
  {
   "cell_type": "markdown",
   "metadata": {},
   "source": [
    "## 2.2 wraps 구현\n",
    "- 실행함수의 정부를 데코레이터를 사용해서 갱신하기\n"
   ]
  },
  {
   "cell_type": "code",
   "execution_count": 28,
   "metadata": {},
   "outputs": [],
   "source": [
    "from functools import wraps\n",
    "\n",
    "def dec(func):\n",
    "    @wraps(func) # 메타 정보 관리\n",
    "    def wrapper(*args, **kwargs): # *: 가변인자 / **: 키워드인자\n",
    "        result = func(*args, **kwargs)\n",
    "        return result\n",
    "    return wrapper\n",
    "\n"
   ]
  },
  {
   "cell_type": "code",
   "execution_count": 29,
   "metadata": {},
   "outputs": [],
   "source": [
    "@dec # @dec 사용하지 않을 경우: add = dec(add) ; def add(x, y): return x + y ;\n",
    "def add(x, y):\n",
    "    return x + y"
   ]
  },
  {
   "cell_type": "code",
   "execution_count": 30,
   "metadata": {},
   "outputs": [],
   "source": [
    "@dec\n",
    "def multiply(x, y):\n",
    "    return x * y"
   ]
  },
  {
   "cell_type": "code",
   "execution_count": 31,
   "metadata": {},
   "outputs": [
    {
     "name": "stdout",
     "output_type": "stream",
     "text": [
      "10\n"
     ]
    }
   ],
   "source": [
    "print(add(5, 5))"
   ]
  },
  {
   "cell_type": "code",
   "execution_count": 32,
   "metadata": {},
   "outputs": [
    {
     "data": {
      "text/plain": [
       "'add'"
      ]
     },
     "execution_count": 32,
     "metadata": {},
     "output_type": "execute_result"
    }
   ],
   "source": [
    "add.__name__"
   ]
  },
  {
   "cell_type": "code",
   "execution_count": 33,
   "metadata": {},
   "outputs": [
    {
     "name": "stdout",
     "output_type": "stream",
     "text": [
      "12\n"
     ]
    }
   ],
   "source": [
    "print(multiply(4, 3))"
   ]
  },
  {
   "cell_type": "code",
   "execution_count": 34,
   "metadata": {},
   "outputs": [
    {
     "data": {
      "text/plain": [
       "'multiply'"
      ]
     },
     "execution_count": 34,
     "metadata": {},
     "output_type": "execute_result"
    }
   ],
   "source": [
    "multiply.__name__"
   ]
  },
  {
   "cell_type": "markdown",
   "metadata": {},
   "source": [
    "## 2-3  더 깊은 데코레이터\n",
    "\n",
    "- 데코레이터를 처리하는 경우 데코레이터에도 별도의 매개변수를 받을 수 있다.\n",
    "- 이때 제일 밖의 함수는 데코레이터의 매개변수를 받고 그 내부 함수부터 함수를 받도록 처리한다."
   ]
  },
  {
   "cell_type": "code",
   "execution_count": 35,
   "metadata": {},
   "outputs": [],
   "source": [
    "def make_deco(value):\n",
    "    def outer(func):\n",
    "        def inner(*args, **kwargs):\n",
    "            print(value)\n",
    "            return func(*args, **kwargs)\n",
    "        return inner\n",
    "    return outer"
   ]
  },
  {
   "cell_type": "code",
   "execution_count": 36,
   "metadata": {},
   "outputs": [],
   "source": [
    "@make_deco('!!!@#!@#!@#!@#$@#$%@!#$%@#$')\n",
    "def func():\n",
    "    print(\"func!!!\")"
   ]
  },
  {
   "cell_type": "code",
   "execution_count": 37,
   "metadata": {},
   "outputs": [
    {
     "name": "stdout",
     "output_type": "stream",
     "text": [
      "!!!@#!@#!@#!@#$@#$%@!#$%@#$\n",
      "func!!!\n"
     ]
    }
   ],
   "source": [
    "func()"
   ]
  },
  {
   "cell_type": "markdown",
   "metadata": {},
   "source": [
    "# 3. 데코레이터 활용\n",
    "\n",
    "- 특정 기능을 추가할 때 내부 함수에 기능을 추가해서 처리하도록 만든다.\n",
    "\n",
    "### 타입 강제하는 데코레이터\n",
    "\n",
    "```\n",
    "@typecheck(int, int, int)\n",
    "def sum(a, b, c):\n",
    "    return a + b + c\n",
    "\n",
    "\n",
    "sum(1, 2, 3) # 6 \n",
    "sum('a', 'b', 'c') # TypeError\n",
    "```"
   ]
  },
  {
   "cell_type": "markdown",
   "metadata": {},
   "source": [
    "### 최상위 테코레이터 함수에 인자를 받아서 처리합니다."
   ]
  },
  {
   "cell_type": "code",
   "execution_count": 38,
   "metadata": {},
   "outputs": [],
   "source": [
    "def typecheck(*t_args):# t_args\n",
    "    def outer(func):\n",
    "        def inner(*args, **kwargs):\n",
    "            for i, t_arg in enumerate(t_args):\n",
    "                if t_arg != type(args[i]):\n",
    "                    raise TypeError(\"정확하지 않은 타입입니다.\")\n",
    "            return func(*args, **kwargs)\n",
    "        return inner\n",
    "    return outer"
   ]
  },
  {
   "cell_type": "code",
   "execution_count": 39,
   "metadata": {},
   "outputs": [],
   "source": [
    "@typecheck(int, int, int)\n",
    "def sum(a, b, c):\n",
    "    return a + b + c"
   ]
  },
  {
   "cell_type": "code",
   "execution_count": 40,
   "metadata": {},
   "outputs": [
    {
     "data": {
      "text/plain": [
       "6"
      ]
     },
     "execution_count": 40,
     "metadata": {},
     "output_type": "execute_result"
    }
   ],
   "source": [
    "sum(1, 2, 3)"
   ]
  },
  {
   "cell_type": "markdown",
   "metadata": {},
   "source": [
    "### 최상위 테코레이터 함수에 인자를 받아서 처리합니다."
   ]
  },
  {
   "cell_type": "code",
   "execution_count": 41,
   "metadata": {},
   "outputs": [],
   "source": [
    "## 키워드인자들도 반응하도록 \n",
    "\n",
    "def typecheck_1(*t_args, **t_kwargs):# t_args\n",
    "    def outer(func):\n",
    "        def inner(*args, **kwargs):\n",
    "            # 위치인자 검증\n",
    "            for i, t_arg in enumerate(t_args):\n",
    "                if t_arg != type(args[i]):\n",
    "                    raise TypeError(\"정확하지 않은 타입입니다.\")\n",
    "                    \n",
    "            # 키워드인자 검증\n",
    "            for key in t_kwargs:\n",
    "                if t_kwargs[key] != kwargs[key].__class__:\n",
    "                    raise TypeError(\"정확하지 않은 타입입니다.\")\n",
    "            \n",
    "            return func(*args, **kwargs)\n",
    "        return inner\n",
    "    return outer"
   ]
  },
  {
   "cell_type": "code",
   "execution_count": 42,
   "metadata": {},
   "outputs": [],
   "source": [
    "@typecheck_1(a=int, b=int, c=int)\n",
    "def sum(a, b, c):\n",
    "    return a + b + c"
   ]
  },
  {
   "cell_type": "code",
   "execution_count": 43,
   "metadata": {},
   "outputs": [
    {
     "data": {
      "text/plain": [
       "8"
      ]
     },
     "execution_count": 43,
     "metadata": {},
     "output_type": "execute_result"
    }
   ],
   "source": [
    "sum(a=3, b=2, c=3)"
   ]
  },
  {
   "cell_type": "code",
   "execution_count": null,
   "metadata": {},
   "outputs": [],
   "source": []
  },
  {
   "cell_type": "code",
   "execution_count": null,
   "metadata": {},
   "outputs": [],
   "source": []
  }
 ],
 "metadata": {
  "kernelspec": {
   "display_name": "Python 3",
   "language": "python",
   "name": "python3"
  },
  "language_info": {
   "codemirror_mode": {
    "name": "ipython",
    "version": 3
   },
   "file_extension": ".py",
   "mimetype": "text/x-python",
   "name": "python",
   "nbconvert_exporter": "python",
   "pygments_lexer": "ipython3",
   "version": "3.7.10"
  }
 },
 "nbformat": 4,
 "nbformat_minor": 2
}
