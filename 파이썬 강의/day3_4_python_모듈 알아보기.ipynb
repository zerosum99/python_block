{
 "cells": [
  {
   "cell_type": "code",
   "execution_count": null,
   "id": "e5c28d1a",
   "metadata": {},
   "outputs": [],
   "source": []
  },
  {
   "cell_type": "markdown",
   "id": "f096464c",
   "metadata": {},
   "source": [
    "# 1. 모듈 알아보기"
   ]
  },
  {
   "cell_type": "code",
   "execution_count": null,
   "id": "bb71a1c8",
   "metadata": {},
   "outputs": [],
   "source": []
  },
  {
   "cell_type": "markdown",
   "id": "952a6b08",
   "metadata": {},
   "source": [
    "## 커맨드 라인 실행"
   ]
  },
  {
   "cell_type": "code",
   "execution_count": 5,
   "id": "3047d8df",
   "metadata": {},
   "outputs": [
    {
     "name": "stdout",
     "output_type": "stream",
     "text": [
      "Overwriting args.py\n"
     ]
    }
   ],
   "source": [
    "%%writefile args.py\n",
    "import sys\n",
    "for i,e in enumerate(sys.argv) :\n",
    "    print(i, e )"
   ]
  },
  {
   "cell_type": "code",
   "execution_count": 6,
   "id": "f16479a7",
   "metadata": {},
   "outputs": [
    {
     "name": "stdout",
     "output_type": "stream",
     "text": [
      "0 args.py\r\n",
      "1 hello\r\n",
      "2 workd\r\n"
     ]
    }
   ],
   "source": [
    "!python args.py hello workd"
   ]
  },
  {
   "cell_type": "code",
   "execution_count": 7,
   "id": "7d8b5cee",
   "metadata": {},
   "outputs": [
    {
     "name": "stdout",
     "output_type": "stream",
     "text": [
      "0 args.py\n",
      "1 hello\n",
      "2 workd\n"
     ]
    }
   ],
   "source": [
    "%run args.py hello workd"
   ]
  },
  {
   "cell_type": "code",
   "execution_count": null,
   "id": "052bea3f",
   "metadata": {},
   "outputs": [],
   "source": []
  },
  {
   "cell_type": "code",
   "execution_count": null,
   "id": "d2e6f846",
   "metadata": {},
   "outputs": [],
   "source": []
  },
  {
   "cell_type": "markdown",
   "id": "31d053b2",
   "metadata": {},
   "source": [
    "##  내장 모듈을 가져온다."
   ]
  },
  {
   "cell_type": "code",
   "execution_count": 1,
   "id": "a2540a06",
   "metadata": {},
   "outputs": [],
   "source": [
    "import random"
   ]
  },
  {
   "cell_type": "code",
   "execution_count": 2,
   "id": "936df140",
   "metadata": {},
   "outputs": [],
   "source": [
    "type(random)"
   ]
  },
  {
   "cell_type": "markdown",
   "id": "e81b1914",
   "metadata": {},
   "source": [
    "### 모듈 내의 필요한 것만 가져온다"
   ]
  },
  {
   "cell_type": "code",
   "execution_count": 3,
   "id": "4d41cdaf",
   "metadata": {},
   "outputs": [],
   "source": [
    "from random import choice"
   ]
  },
  {
   "cell_type": "code",
   "execution_count": 4,
   "id": "41293da7",
   "metadata": {},
   "outputs": [],
   "source": [
    "type(choice)"
   ]
  },
  {
   "cell_type": "code",
   "execution_count": 5,
   "id": "a48e50f2",
   "metadata": {},
   "outputs": [],
   "source": [
    "choice(['서울', '성남','대구'])"
   ]
  },
  {
   "cell_type": "markdown",
   "id": "9e34ca49",
   "metadata": {},
   "source": [
    "## 새로운 모듈을 만든다."
   ]
  },
  {
   "cell_type": "code",
   "execution_count": 6,
   "id": "3332ef6c",
   "metadata": {},
   "outputs": [],
   "source": [
    "%%writefile fast.py \n",
    "\n",
    "from random import choice\n",
    "\n",
    "def pick() :\n",
    "    return choice(['서울', '성남','대구'])"
   ]
  },
  {
   "cell_type": "markdown",
   "id": "083e536b",
   "metadata": {},
   "source": [
    "### 이 모듈을 가져와서 사용하다."
   ]
  },
  {
   "cell_type": "code",
   "execution_count": 7,
   "id": "90fb7843",
   "metadata": {},
   "outputs": [],
   "source": [
    "import fast"
   ]
  },
  {
   "cell_type": "code",
   "execution_count": 8,
   "id": "54a188d0",
   "metadata": {},
   "outputs": [],
   "source": [
    "fast.pick()"
   ]
  },
  {
   "cell_type": "markdown",
   "id": "8b2aaf1e",
   "metadata": {},
   "source": [
    "## 모듈을 불러올때 약어를 사용한다."
   ]
  },
  {
   "cell_type": "code",
   "execution_count": 9,
   "id": "865af559",
   "metadata": {},
   "outputs": [],
   "source": [
    "import pandas as pd"
   ]
  },
  {
   "cell_type": "code",
   "execution_count": null,
   "id": "b113f542",
   "metadata": {},
   "outputs": [],
   "source": []
  },
  {
   "cell_type": "code",
   "execution_count": 10,
   "id": "bf2f71c4",
   "metadata": {},
   "outputs": [],
   "source": [
    "df = pd.read_csv(\"../titanic/test.csv\")"
   ]
  },
  {
   "cell_type": "code",
   "execution_count": 11,
   "id": "612e9880",
   "metadata": {},
   "outputs": [
    {
     "data": {
      "text/html": [
       "<div>\n",
       "<style scoped>\n",
       "    .dataframe tbody tr th:only-of-type {\n",
       "        vertical-align: middle;\n",
       "    }\n",
       "\n",
       "    .dataframe tbody tr th {\n",
       "        vertical-align: top;\n",
       "    }\n",
       "\n",
       "    .dataframe thead th {\n",
       "        text-align: right;\n",
       "    }\n",
       "</style>\n",
       "<table border=\"1\" class=\"dataframe\">\n",
       "  <thead>\n",
       "    <tr style=\"text-align: right;\">\n",
       "      <th></th>\n",
       "      <th>PassengerId</th>\n",
       "      <th>Pclass</th>\n",
       "      <th>Name</th>\n",
       "      <th>Sex</th>\n",
       "      <th>Age</th>\n",
       "      <th>SibSp</th>\n",
       "      <th>Parch</th>\n",
       "      <th>Ticket</th>\n",
       "      <th>Fare</th>\n",
       "      <th>Cabin</th>\n",
       "      <th>Embarked</th>\n",
       "    </tr>\n",
       "  </thead>\n",
       "  <tbody>\n",
       "    <tr>\n",
       "      <th>0</th>\n",
       "      <td>892</td>\n",
       "      <td>3</td>\n",
       "      <td>Kelly, Mr. James</td>\n",
       "      <td>male</td>\n",
       "      <td>34.5</td>\n",
       "      <td>0</td>\n",
       "      <td>0</td>\n",
       "      <td>330911</td>\n",
       "      <td>7.8292</td>\n",
       "      <td>NaN</td>\n",
       "      <td>Q</td>\n",
       "    </tr>\n",
       "    <tr>\n",
       "      <th>1</th>\n",
       "      <td>893</td>\n",
       "      <td>3</td>\n",
       "      <td>Wilkes, Mrs. James (Ellen Needs)</td>\n",
       "      <td>female</td>\n",
       "      <td>47.0</td>\n",
       "      <td>1</td>\n",
       "      <td>0</td>\n",
       "      <td>363272</td>\n",
       "      <td>7.0000</td>\n",
       "      <td>NaN</td>\n",
       "      <td>S</td>\n",
       "    </tr>\n",
       "    <tr>\n",
       "      <th>2</th>\n",
       "      <td>894</td>\n",
       "      <td>2</td>\n",
       "      <td>Myles, Mr. Thomas Francis</td>\n",
       "      <td>male</td>\n",
       "      <td>62.0</td>\n",
       "      <td>0</td>\n",
       "      <td>0</td>\n",
       "      <td>240276</td>\n",
       "      <td>9.6875</td>\n",
       "      <td>NaN</td>\n",
       "      <td>Q</td>\n",
       "    </tr>\n",
       "    <tr>\n",
       "      <th>3</th>\n",
       "      <td>895</td>\n",
       "      <td>3</td>\n",
       "      <td>Wirz, Mr. Albert</td>\n",
       "      <td>male</td>\n",
       "      <td>27.0</td>\n",
       "      <td>0</td>\n",
       "      <td>0</td>\n",
       "      <td>315154</td>\n",
       "      <td>8.6625</td>\n",
       "      <td>NaN</td>\n",
       "      <td>S</td>\n",
       "    </tr>\n",
       "    <tr>\n",
       "      <th>4</th>\n",
       "      <td>896</td>\n",
       "      <td>3</td>\n",
       "      <td>Hirvonen, Mrs. Alexander (Helga E Lindqvist)</td>\n",
       "      <td>female</td>\n",
       "      <td>22.0</td>\n",
       "      <td>1</td>\n",
       "      <td>1</td>\n",
       "      <td>3101298</td>\n",
       "      <td>12.2875</td>\n",
       "      <td>NaN</td>\n",
       "      <td>S</td>\n",
       "    </tr>\n",
       "  </tbody>\n",
       "</table>\n",
       "</div>"
      ],
      "text/plain": [
       "   PassengerId  Pclass                                          Name     Sex  \\\n",
       "0          892       3                              Kelly, Mr. James    male   \n",
       "1          893       3              Wilkes, Mrs. James (Ellen Needs)  female   \n",
       "2          894       2                     Myles, Mr. Thomas Francis    male   \n",
       "3          895       3                              Wirz, Mr. Albert    male   \n",
       "4          896       3  Hirvonen, Mrs. Alexander (Helga E Lindqvist)  female   \n",
       "\n",
       "    Age  SibSp  Parch   Ticket     Fare Cabin Embarked  \n",
       "0  34.5      0      0   330911   7.8292   NaN        Q  \n",
       "1  47.0      1      0   363272   7.0000   NaN        S  \n",
       "2  62.0      0      0   240276   9.6875   NaN        Q  \n",
       "3  27.0      0      0   315154   8.6625   NaN        S  \n",
       "4  22.0      1      1  3101298  12.2875   NaN        S  "
      ]
     },
     "execution_count": 11,
     "metadata": {},
     "output_type": "execute_result"
    }
   ],
   "source": [
    "df.head()"
   ]
  },
  {
   "cell_type": "code",
   "execution_count": 12,
   "id": "68cf64e6",
   "metadata": {},
   "outputs": [
    {
     "data": {
      "text/plain": [
       "pandas.core.frame.DataFrame"
      ]
     },
     "execution_count": 12,
     "metadata": {},
     "output_type": "execute_result"
    }
   ],
   "source": [
    "type(df)"
   ]
  },
  {
   "cell_type": "code",
   "execution_count": null,
   "id": "2f2df8b6",
   "metadata": {},
   "outputs": [],
   "source": []
  },
  {
   "cell_type": "markdown",
   "id": "9ad32011",
   "metadata": {},
   "source": [
    "# 2. 파일 가져오기 \n",
    "\n",
    "- 파일이 있는 위치와 파일을 읽거나 쓰는 모드를 open 함수에 인자로 전달해서 처리\n"
   ]
  },
  {
   "cell_type": "markdown",
   "id": "07d72a8e",
   "metadata": {},
   "source": [
    "## 현재 위치를 확인"
   ]
  },
  {
   "cell_type": "code",
   "execution_count": 8,
   "id": "72fdeb42",
   "metadata": {},
   "outputs": [],
   "source": [
    "import os"
   ]
  },
  {
   "cell_type": "code",
   "execution_count": 11,
   "id": "34e2088c",
   "metadata": {},
   "outputs": [],
   "source": [
    "os.chdir(\"../\")"
   ]
  },
  {
   "cell_type": "code",
   "execution_count": 12,
   "id": "1d7a6613",
   "metadata": {},
   "outputs": [
    {
     "data": {
      "text/plain": [
       "'/Users/dahlmoon/Documents/GitHub/python_block'"
      ]
     },
     "execution_count": 12,
     "metadata": {},
     "output_type": "execute_result"
    }
   ],
   "source": [
    "%pwd"
   ]
  },
  {
   "cell_type": "code",
   "execution_count": 14,
   "id": "348f5971",
   "metadata": {},
   "outputs": [],
   "source": [
    "os.chdir(\"./파이썬 강의\")"
   ]
  },
  {
   "cell_type": "code",
   "execution_count": 15,
   "id": "b7bbf0f9",
   "metadata": {},
   "outputs": [
    {
     "data": {
      "text/plain": [
       "'/Users/dahlmoon/Documents/GitHub/python_block/파이썬 강의'"
      ]
     },
     "execution_count": 15,
     "metadata": {},
     "output_type": "execute_result"
    }
   ],
   "source": [
    "os.getcwd()"
   ]
  },
  {
   "cell_type": "code",
   "execution_count": null,
   "id": "4be0bd5d",
   "metadata": {},
   "outputs": [],
   "source": []
  },
  {
   "cell_type": "markdown",
   "id": "62757d09",
   "metadata": {},
   "source": [
    "##  파일 생성하고 확인하기"
   ]
  },
  {
   "cell_type": "code",
   "execution_count": 13,
   "id": "573872a1",
   "metadata": {},
   "outputs": [
    {
     "name": "stdout",
     "output_type": "stream",
     "text": [
      "Overwriting test.txt\n"
     ]
    }
   ],
   "source": [
    "%%writefile test.txt\n",
    "테스트용 1\n",
    "테스트용 2"
   ]
  },
  {
   "cell_type": "code",
   "execution_count": 16,
   "id": "1a796c69",
   "metadata": {},
   "outputs": [
    {
     "data": {
      "text/plain": [
       "True"
      ]
     },
     "execution_count": 16,
     "metadata": {},
     "output_type": "execute_result"
    }
   ],
   "source": [
    "os.path.isfile(\"test.txt\")"
   ]
  },
  {
   "cell_type": "code",
   "execution_count": 20,
   "id": "3c2822a8",
   "metadata": {},
   "outputs": [],
   "source": [
    "filename =\"test.txt\"\n",
    "mode = 'rt'"
   ]
  },
  {
   "cell_type": "code",
   "execution_count": 21,
   "id": "43f84d30",
   "metadata": {},
   "outputs": [],
   "source": [
    "try :\n",
    "    f = open(filename,mode,encoding=\"utf-8\" )\n",
    "except FileNotFoundError :\n",
    "    print(\"해당하는 파일이 없습니다 \")"
   ]
  },
  {
   "cell_type": "code",
   "execution_count": 22,
   "id": "21e2e3d1",
   "metadata": {},
   "outputs": [
    {
     "data": {
      "text/plain": [
       "'테스트용 1\\n테스트용 2\\n'"
      ]
     },
     "execution_count": 22,
     "metadata": {},
     "output_type": "execute_result"
    }
   ],
   "source": [
    "f.read()"
   ]
  },
  {
   "cell_type": "code",
   "execution_count": 23,
   "id": "bbdcebca",
   "metadata": {},
   "outputs": [],
   "source": [
    "f.close()"
   ]
  },
  {
   "cell_type": "code",
   "execution_count": null,
   "id": "b12f29ca",
   "metadata": {},
   "outputs": [],
   "source": []
  },
  {
   "cell_type": "code",
   "execution_count": null,
   "id": "3596df6f",
   "metadata": {},
   "outputs": [],
   "source": []
  },
  {
   "cell_type": "markdown",
   "id": "a073af11",
   "metadata": {},
   "source": [
    "## 텍스트로 읽기"
   ]
  },
  {
   "cell_type": "code",
   "execution_count": 14,
   "id": "c7068b09",
   "metadata": {},
   "outputs": [],
   "source": [
    "f = open(\"test.txt\",'rt', encoding=\"utf-8\")"
   ]
  },
  {
   "cell_type": "code",
   "execution_count": 15,
   "id": "2caddd13",
   "metadata": {},
   "outputs": [
    {
     "name": "stdout",
     "output_type": "stream",
     "text": [
      "테스트용 1\n",
      "\n",
      "테스트용 2\n",
      "\n"
     ]
    }
   ],
   "source": [
    "for i in f :\n",
    "    print(i)"
   ]
  },
  {
   "cell_type": "code",
   "execution_count": 16,
   "id": "8a5ad34c",
   "metadata": {},
   "outputs": [],
   "source": [
    "for i in f :\n",
    "    print(i, end=\"\")"
   ]
  },
  {
   "cell_type": "code",
   "execution_count": 17,
   "id": "25d7a37e",
   "metadata": {},
   "outputs": [],
   "source": [
    "f = open(\"test.txt\",'rt', encoding=\"utf-8\")"
   ]
  },
  {
   "cell_type": "markdown",
   "id": "7c4b4099",
   "metadata": {},
   "source": [
    "### 파일을 라인별로 읽기 : 순환문 사용"
   ]
  },
  {
   "cell_type": "code",
   "execution_count": 18,
   "id": "7ef3677d",
   "metadata": {},
   "outputs": [
    {
     "name": "stdout",
     "output_type": "stream",
     "text": [
      "테스트용 1\n",
      "테스트용 2\n"
     ]
    }
   ],
   "source": [
    "for i in f :\n",
    "    print(i, end=\"\")"
   ]
  },
  {
   "cell_type": "code",
   "execution_count": 19,
   "id": "79566f44",
   "metadata": {},
   "outputs": [],
   "source": [
    "## 바이트로 파일 일기"
   ]
  },
  {
   "cell_type": "code",
   "execution_count": 20,
   "id": "bfb863a6",
   "metadata": {},
   "outputs": [],
   "source": [
    "bf = open(\"test.txt\",'rb')"
   ]
  },
  {
   "cell_type": "code",
   "execution_count": 21,
   "id": "9f273ede",
   "metadata": {},
   "outputs": [
    {
     "name": "stdout",
     "output_type": "stream",
     "text": [
      "b'\\xed\\x85\\x8c\\xec\\x8a\\xa4\\xed\\x8a\\xb8\\xec\\x9a\\xa9 1\\r\\n'\n",
      "b'\\xed\\x85\\x8c\\xec\\x8a\\xa4\\xed\\x8a\\xb8\\xec\\x9a\\xa9 2\\r\\n'\n"
     ]
    }
   ],
   "source": [
    "for i in bf :\n",
    "    print(i)"
   ]
  },
  {
   "cell_type": "code",
   "execution_count": null,
   "id": "a3039b26",
   "metadata": {},
   "outputs": [],
   "source": []
  },
  {
   "cell_type": "code",
   "execution_count": null,
   "id": "51e1f15e",
   "metadata": {},
   "outputs": [],
   "source": []
  },
  {
   "cell_type": "markdown",
   "id": "ffc1175f",
   "metadata": {},
   "source": [
    "## 컨텍스트 환경에서 파일 열고 자동으로 닫기"
   ]
  },
  {
   "cell_type": "code",
   "execution_count": 26,
   "id": "d8bedc23",
   "metadata": {},
   "outputs": [
    {
     "name": "stdout",
     "output_type": "stream",
     "text": [
      "테스트용 1\n",
      "테스트용 2\n"
     ]
    }
   ],
   "source": [
    "with open(\"test.txt\",'rt', encoding=\"utf-8\") as ff :\n",
    "    for i in ff :\n",
    "        print(i,end=\"\")"
   ]
  },
  {
   "cell_type": "code",
   "execution_count": null,
   "id": "ee139ff0",
   "metadata": {},
   "outputs": [],
   "source": []
  },
  {
   "cell_type": "markdown",
   "id": "0421ab82",
   "metadata": {},
   "source": [
    "## 시리얼라이즈 파일 사용하기\n",
    "- 파이썬에 만든 객체나 클래스들을 그대로 저장하고 다시 읽어와서 처리하는 파일 모듈\n"
   ]
  },
  {
   "cell_type": "code",
   "execution_count": 27,
   "id": "799df534",
   "metadata": {},
   "outputs": [],
   "source": [
    "import pickle"
   ]
  },
  {
   "cell_type": "code",
   "execution_count": 30,
   "id": "15d3c679",
   "metadata": {},
   "outputs": [],
   "source": [
    "class Person :\n",
    "    pass"
   ]
  },
  {
   "cell_type": "code",
   "execution_count": 31,
   "id": "e7ac4ad1",
   "metadata": {},
   "outputs": [],
   "source": [
    "with open('goo.pickle', 'wb') as f :\n",
    "    pickle.dump([1,2,3],f)\n",
    "    pickle.dump('hello', f)\n",
    "    pickle.dump(Person, f)"
   ]
  },
  {
   "cell_type": "code",
   "execution_count": 35,
   "id": "42c344ca",
   "metadata": {},
   "outputs": [
    {
     "name": "stdout",
     "output_type": "stream",
     "text": [
      "[1, 2, 3]\n",
      "hello\n",
      "<class '__main__.Person'> <__main__.Person object at 0x7fafd7b61e50>\n"
     ]
    }
   ],
   "source": [
    "with open('goo.pickle', 'rb') as f :\n",
    "    a = pickle.load(f)\n",
    "    b = pickle.load(f)\n",
    "    C = pickle.load(f)\n",
    "    print(a)\n",
    "    print(b)\n",
    "    print(C, C())"
   ]
  },
  {
   "cell_type": "code",
   "execution_count": null,
   "id": "b09942d9",
   "metadata": {},
   "outputs": [],
   "source": []
  }
 ],
 "metadata": {
  "kernelspec": {
   "display_name": "Python 3",
   "language": "python",
   "name": "python3"
  },
  "language_info": {
   "codemirror_mode": {
    "name": "ipython",
    "version": 3
   },
   "file_extension": ".py",
   "mimetype": "text/x-python",
   "name": "python",
   "nbconvert_exporter": "python",
   "pygments_lexer": "ipython3",
   "version": "3.7.10"
  }
 },
 "nbformat": 4,
 "nbformat_minor": 5
}
