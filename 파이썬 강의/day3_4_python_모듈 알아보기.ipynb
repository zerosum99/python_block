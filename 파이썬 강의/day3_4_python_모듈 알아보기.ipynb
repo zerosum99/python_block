{
 "cells": [
  {
   "cell_type": "code",
   "execution_count": null,
   "id": "9862a374",
   "metadata": {},
   "outputs": [],
   "source": []
  },
  {
   "cell_type": "markdown",
   "id": "4b5150ea",
   "metadata": {},
   "source": [
    "# 1. 모듈 알아보기"
   ]
  },
  {
   "cell_type": "markdown",
   "id": "96e6ddb1",
   "metadata": {},
   "source": [
    "##  내장 모듈을 가져온다."
   ]
  },
  {
   "cell_type": "code",
   "execution_count": 1,
   "id": "a93faf8f",
   "metadata": {},
   "outputs": [],
   "source": [
    "import random"
   ]
  },
  {
   "cell_type": "code",
   "execution_count": 2,
   "id": "cdc31ca3",
   "metadata": {},
   "outputs": [],
   "source": [
    "type(random)"
   ]
  },
  {
   "cell_type": "markdown",
   "id": "26d0f43b",
   "metadata": {},
   "source": [
    "### 모듈 내의 필요한 것만 가져온다"
   ]
  },
  {
   "cell_type": "code",
   "execution_count": 3,
   "id": "da83a95e",
   "metadata": {},
   "outputs": [],
   "source": [
    "from random import choice"
   ]
  },
  {
   "cell_type": "code",
   "execution_count": 4,
   "id": "d9189015",
   "metadata": {},
   "outputs": [],
   "source": [
    "type(choice)"
   ]
  },
  {
   "cell_type": "code",
   "execution_count": 5,
   "id": "4962f938",
   "metadata": {},
   "outputs": [],
   "source": [
    "choice(['서울', '성남','대구'])"
   ]
  },
  {
   "cell_type": "markdown",
   "id": "bbd8a63b",
   "metadata": {},
   "source": [
    "## 새로운 모듈을 만든다."
   ]
  },
  {
   "cell_type": "code",
   "execution_count": 6,
   "id": "0de75d42",
   "metadata": {},
   "outputs": [],
   "source": [
    "%%writefile fast.py \n",
    "\n",
    "from random import choice\n",
    "\n",
    "def pick() :\n",
    "    return choice(['서울', '성남','대구'])"
   ]
  },
  {
   "cell_type": "markdown",
   "id": "29284319",
   "metadata": {},
   "source": [
    "### 이 모듈을 가져와서 사용하다."
   ]
  },
  {
   "cell_type": "code",
   "execution_count": 7,
   "id": "34a47af0",
   "metadata": {},
   "outputs": [],
   "source": [
    "import fast"
   ]
  },
  {
   "cell_type": "code",
   "execution_count": 8,
   "id": "ab15295b",
   "metadata": {},
   "outputs": [],
   "source": [
    "fast.pick()"
   ]
  },
  {
   "cell_type": "markdown",
   "id": "44a8b277",
   "metadata": {},
   "source": [
    "## 모듈을 불러올때 약어를 사용한다."
   ]
  },
  {
   "cell_type": "code",
   "execution_count": 9,
   "id": "fe428d7c",
   "metadata": {},
   "outputs": [],
   "source": [
    "import pandas as pd"
   ]
  },
  {
   "cell_type": "code",
   "execution_count": null,
   "id": "c81c14a4",
   "metadata": {},
   "outputs": [],
   "source": []
  },
  {
   "cell_type": "code",
   "execution_count": 10,
   "id": "93d8b453",
   "metadata": {},
   "outputs": [],
   "source": [
    "df = pd.read_csv(\"../titanic/test.csv\")"
   ]
  },
  {
   "cell_type": "code",
   "execution_count": 11,
   "id": "0cebad9d",
   "metadata": {},
   "outputs": [
    {
     "data": {
      "text/html": [
       "<div>\n",
       "<style scoped>\n",
       "    .dataframe tbody tr th:only-of-type {\n",
       "        vertical-align: middle;\n",
       "    }\n",
       "\n",
       "    .dataframe tbody tr th {\n",
       "        vertical-align: top;\n",
       "    }\n",
       "\n",
       "    .dataframe thead th {\n",
       "        text-align: right;\n",
       "    }\n",
       "</style>\n",
       "<table border=\"1\" class=\"dataframe\">\n",
       "  <thead>\n",
       "    <tr style=\"text-align: right;\">\n",
       "      <th></th>\n",
       "      <th>PassengerId</th>\n",
       "      <th>Pclass</th>\n",
       "      <th>Name</th>\n",
       "      <th>Sex</th>\n",
       "      <th>Age</th>\n",
       "      <th>SibSp</th>\n",
       "      <th>Parch</th>\n",
       "      <th>Ticket</th>\n",
       "      <th>Fare</th>\n",
       "      <th>Cabin</th>\n",
       "      <th>Embarked</th>\n",
       "    </tr>\n",
       "  </thead>\n",
       "  <tbody>\n",
       "    <tr>\n",
       "      <th>0</th>\n",
       "      <td>892</td>\n",
       "      <td>3</td>\n",
       "      <td>Kelly, Mr. James</td>\n",
       "      <td>male</td>\n",
       "      <td>34.5</td>\n",
       "      <td>0</td>\n",
       "      <td>0</td>\n",
       "      <td>330911</td>\n",
       "      <td>7.8292</td>\n",
       "      <td>NaN</td>\n",
       "      <td>Q</td>\n",
       "    </tr>\n",
       "    <tr>\n",
       "      <th>1</th>\n",
       "      <td>893</td>\n",
       "      <td>3</td>\n",
       "      <td>Wilkes, Mrs. James (Ellen Needs)</td>\n",
       "      <td>female</td>\n",
       "      <td>47.0</td>\n",
       "      <td>1</td>\n",
       "      <td>0</td>\n",
       "      <td>363272</td>\n",
       "      <td>7.0000</td>\n",
       "      <td>NaN</td>\n",
       "      <td>S</td>\n",
       "    </tr>\n",
       "    <tr>\n",
       "      <th>2</th>\n",
       "      <td>894</td>\n",
       "      <td>2</td>\n",
       "      <td>Myles, Mr. Thomas Francis</td>\n",
       "      <td>male</td>\n",
       "      <td>62.0</td>\n",
       "      <td>0</td>\n",
       "      <td>0</td>\n",
       "      <td>240276</td>\n",
       "      <td>9.6875</td>\n",
       "      <td>NaN</td>\n",
       "      <td>Q</td>\n",
       "    </tr>\n",
       "    <tr>\n",
       "      <th>3</th>\n",
       "      <td>895</td>\n",
       "      <td>3</td>\n",
       "      <td>Wirz, Mr. Albert</td>\n",
       "      <td>male</td>\n",
       "      <td>27.0</td>\n",
       "      <td>0</td>\n",
       "      <td>0</td>\n",
       "      <td>315154</td>\n",
       "      <td>8.6625</td>\n",
       "      <td>NaN</td>\n",
       "      <td>S</td>\n",
       "    </tr>\n",
       "    <tr>\n",
       "      <th>4</th>\n",
       "      <td>896</td>\n",
       "      <td>3</td>\n",
       "      <td>Hirvonen, Mrs. Alexander (Helga E Lindqvist)</td>\n",
       "      <td>female</td>\n",
       "      <td>22.0</td>\n",
       "      <td>1</td>\n",
       "      <td>1</td>\n",
       "      <td>3101298</td>\n",
       "      <td>12.2875</td>\n",
       "      <td>NaN</td>\n",
       "      <td>S</td>\n",
       "    </tr>\n",
       "  </tbody>\n",
       "</table>\n",
       "</div>"
      ],
      "text/plain": [
       "   PassengerId  Pclass                                          Name     Sex  \\\n",
       "0          892       3                              Kelly, Mr. James    male   \n",
       "1          893       3              Wilkes, Mrs. James (Ellen Needs)  female   \n",
       "2          894       2                     Myles, Mr. Thomas Francis    male   \n",
       "3          895       3                              Wirz, Mr. Albert    male   \n",
       "4          896       3  Hirvonen, Mrs. Alexander (Helga E Lindqvist)  female   \n",
       "\n",
       "    Age  SibSp  Parch   Ticket     Fare Cabin Embarked  \n",
       "0  34.5      0      0   330911   7.8292   NaN        Q  \n",
       "1  47.0      1      0   363272   7.0000   NaN        S  \n",
       "2  62.0      0      0   240276   9.6875   NaN        Q  \n",
       "3  27.0      0      0   315154   8.6625   NaN        S  \n",
       "4  22.0      1      1  3101298  12.2875   NaN        S  "
      ]
     },
     "execution_count": 11,
     "metadata": {},
     "output_type": "execute_result"
    }
   ],
   "source": [
    "df.head()"
   ]
  },
  {
   "cell_type": "code",
   "execution_count": 12,
   "id": "3c25bac2",
   "metadata": {},
   "outputs": [
    {
     "data": {
      "text/plain": [
       "pandas.core.frame.DataFrame"
      ]
     },
     "execution_count": 12,
     "metadata": {},
     "output_type": "execute_result"
    }
   ],
   "source": [
    "type(df)"
   ]
  },
  {
   "cell_type": "code",
   "execution_count": null,
   "id": "71c1dd26",
   "metadata": {},
   "outputs": [],
   "source": []
  },
  {
   "cell_type": "markdown",
   "id": "b788c313",
   "metadata": {},
   "source": [
    "# 2. 파일 가져오기 "
   ]
  },
  {
   "cell_type": "code",
   "execution_count": 13,
   "id": "c3dde255",
   "metadata": {},
   "outputs": [
    {
     "name": "stdout",
     "output_type": "stream",
     "text": [
      "Overwriting test.txt\n"
     ]
    }
   ],
   "source": [
    "%%writefile test.txt\n",
    "테스트용 1\n",
    "테스트용 2"
   ]
  },
  {
   "cell_type": "markdown",
   "id": "7e456eb4",
   "metadata": {},
   "source": [
    "## 텍스트로 읽기"
   ]
  },
  {
   "cell_type": "code",
   "execution_count": 14,
   "id": "b19dbad0",
   "metadata": {},
   "outputs": [],
   "source": [
    "f = open(\"test.txt\",'rt', encoding=\"utf-8\")"
   ]
  },
  {
   "cell_type": "code",
   "execution_count": 15,
   "id": "667c6607",
   "metadata": {},
   "outputs": [
    {
     "name": "stdout",
     "output_type": "stream",
     "text": [
      "테스트용 1\n",
      "\n",
      "테스트용 2\n",
      "\n"
     ]
    }
   ],
   "source": [
    "for i in f :\n",
    "    print(i)"
   ]
  },
  {
   "cell_type": "code",
   "execution_count": 16,
   "id": "cd016d31",
   "metadata": {},
   "outputs": [],
   "source": [
    "for i in f :\n",
    "    print(i, end=\"\")"
   ]
  },
  {
   "cell_type": "code",
   "execution_count": 17,
   "id": "10bf0836",
   "metadata": {},
   "outputs": [],
   "source": [
    "f = open(\"test.txt\",'rt', encoding=\"utf-8\")"
   ]
  },
  {
   "cell_type": "code",
   "execution_count": 18,
   "id": "c3a4d74f",
   "metadata": {},
   "outputs": [
    {
     "name": "stdout",
     "output_type": "stream",
     "text": [
      "테스트용 1\n",
      "테스트용 2\n"
     ]
    }
   ],
   "source": [
    "for i in f :\n",
    "    print(i, end=\"\")"
   ]
  },
  {
   "cell_type": "code",
   "execution_count": 19,
   "id": "8aed2872",
   "metadata": {},
   "outputs": [],
   "source": [
    "## 바이트로 파일 일기"
   ]
  },
  {
   "cell_type": "code",
   "execution_count": 20,
   "id": "9793ddb2",
   "metadata": {},
   "outputs": [],
   "source": [
    "bf = open(\"test.txt\",'rb')"
   ]
  },
  {
   "cell_type": "code",
   "execution_count": 21,
   "id": "d17f1d45",
   "metadata": {},
   "outputs": [
    {
     "name": "stdout",
     "output_type": "stream",
     "text": [
      "b'\\xed\\x85\\x8c\\xec\\x8a\\xa4\\xed\\x8a\\xb8\\xec\\x9a\\xa9 1\\r\\n'\n",
      "b'\\xed\\x85\\x8c\\xec\\x8a\\xa4\\xed\\x8a\\xb8\\xec\\x9a\\xa9 2\\r\\n'\n"
     ]
    }
   ],
   "source": [
    "for i in bf :\n",
    "    print(i)"
   ]
  },
  {
   "cell_type": "code",
   "execution_count": null,
   "id": "ab986195",
   "metadata": {},
   "outputs": [],
   "source": []
  }
 ],
 "metadata": {
  "kernelspec": {
   "display_name": "Python 3",
   "language": "python",
   "name": "python3"
  },
  "language_info": {
   "codemirror_mode": {
    "name": "ipython",
    "version": 3
   },
   "file_extension": ".py",
   "mimetype": "text/x-python",
   "name": "python",
   "nbconvert_exporter": "python",
   "pygments_lexer": "ipython3",
   "version": "3.7.10"
  }
 },
 "nbformat": 4,
 "nbformat_minor": 5
}
