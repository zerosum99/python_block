{
 "cells": [
  {
   "cell_type": "markdown",
   "id": "616e714f",
   "metadata": {},
   "source": [
    "## 클래스 정의"
   ]
  },
  {
   "cell_type": "markdown",
   "id": "70bdc7b6",
   "metadata": {},
   "source": [
    "## 객체를 분류해서 추상화해서 정의한 것 \n",
    "\n",
    "- 분류기준 : 객체들의 행위 ==> 인터페이스 제약 분류기준.. "
   ]
  },
  {
   "cell_type": "code",
   "execution_count": 1,
   "id": "cd22dd0d",
   "metadata": {},
   "outputs": [],
   "source": [
    "class Animal :\n",
    "    def eat(self,obj) :\n",
    "        self.obj = obj\n",
    "        \n",
    "    def sleep(self,obj) :\n",
    "        self.slp = obj"
   ]
  },
  {
   "cell_type": "code",
   "execution_count": 2,
   "id": "92194d81",
   "metadata": {},
   "outputs": [],
   "source": [
    "def create(str_) :\n",
    "    return eval(str_)()"
   ]
  },
  {
   "cell_type": "code",
   "execution_count": 3,
   "id": "29e4eeeb",
   "metadata": {},
   "outputs": [],
   "source": [
    "a = create(\"Animal\")"
   ]
  },
  {
   "cell_type": "code",
   "execution_count": 4,
   "id": "d011f31f",
   "metadata": {},
   "outputs": [
    {
     "data": {
      "text/plain": [
       "<__main__.Animal at 0x7fe0769f61d0>"
      ]
     },
     "execution_count": 4,
     "metadata": {},
     "output_type": "execute_result"
    }
   ],
   "source": [
    "a"
   ]
  },
  {
   "cell_type": "code",
   "execution_count": 5,
   "id": "c093997b",
   "metadata": {},
   "outputs": [],
   "source": [
    "class Person(Animal) :\n",
    "     pass"
   ]
  },
  {
   "cell_type": "code",
   "execution_count": 6,
   "id": "ede08bb1",
   "metadata": {},
   "outputs": [],
   "source": [
    "class Person_(Animal) :\n",
    "    def eat(self,obj) :\n",
    "        #super().eat(obj)\n",
    "        self.sss = obj"
   ]
  },
  {
   "cell_type": "code",
   "execution_count": 7,
   "id": "f5b6d70d",
   "metadata": {},
   "outputs": [],
   "source": [
    "## go 인터페이스 ==> 인터페이스 없어요  ==> 대신 함수처리  처리"
   ]
  },
  {
   "cell_type": "code",
   "execution_count": 8,
   "id": "f78a35a1",
   "metadata": {},
   "outputs": [
    {
     "name": "stdout",
     "output_type": "stream",
     "text": [
      "Overwriting sleep.py\n"
     ]
    }
   ],
   "source": [
    "%%writefile sleep.py\n",
    "def sleep(obj, value) :\n",
    "    return obj.sleep(value)\n",
    "\n",
    "def eat(obj, value) :\n",
    "    return obj.eat(value)"
   ]
  },
  {
   "cell_type": "code",
   "execution_count": 9,
   "id": "590f50f8",
   "metadata": {},
   "outputs": [],
   "source": [
    "import sleep"
   ]
  },
  {
   "cell_type": "code",
   "execution_count": 10,
   "id": "05c6ad54",
   "metadata": {},
   "outputs": [],
   "source": [
    "p = Person()"
   ]
  },
  {
   "cell_type": "code",
   "execution_count": 11,
   "id": "b829939e",
   "metadata": {},
   "outputs": [],
   "source": [
    "sleep.eat(p,\"먹을것\")"
   ]
  },
  {
   "cell_type": "code",
   "execution_count": 12,
   "id": "3edc7554",
   "metadata": {},
   "outputs": [
    {
     "data": {
      "text/plain": [
       "{'obj': '먹을것'}"
      ]
     },
     "execution_count": 12,
     "metadata": {},
     "output_type": "execute_result"
    }
   ],
   "source": [
    "p.__dict__"
   ]
  },
  {
   "cell_type": "code",
   "execution_count": 13,
   "id": "e404c13c",
   "metadata": {},
   "outputs": [],
   "source": [
    "sleep.sleep(p,\"4시간\")"
   ]
  },
  {
   "cell_type": "code",
   "execution_count": 14,
   "id": "2bbd5022",
   "metadata": {},
   "outputs": [
    {
     "data": {
      "text/plain": [
       "{'obj': '먹을것', 'slp': '4시간'}"
      ]
     },
     "execution_count": 14,
     "metadata": {},
     "output_type": "execute_result"
    }
   ],
   "source": [
    "p.__dict__"
   ]
  },
  {
   "cell_type": "code",
   "execution_count": null,
   "id": "a1419fca",
   "metadata": {},
   "outputs": [],
   "source": []
  },
  {
   "cell_type": "code",
   "execution_count": 15,
   "id": "dc77bc07",
   "metadata": {},
   "outputs": [
    {
     "ename": "SyntaxError",
     "evalue": "unexpected EOF while parsing (<ipython-input-15-3f7003e5d3fb>, line 3)",
     "output_type": "error",
     "traceback": [
      "\u001b[0;36m  File \u001b[0;32m\"<ipython-input-15-3f7003e5d3fb>\"\u001b[0;36m, line \u001b[0;32m3\u001b[0m\n\u001b[0;31m    # 메소드\u001b[0m\n\u001b[0m          ^\u001b[0m\n\u001b[0;31mSyntaxError\u001b[0m\u001b[0;31m:\u001b[0m unexpected EOF while parsing\n"
     ]
    }
   ],
   "source": [
    "class AAA :\n",
    "    #속성\n",
    "    # 메소드 "
   ]
  },
  {
   "cell_type": "code",
   "execution_count": null,
   "id": "f29e40ab",
   "metadata": {},
   "outputs": [],
   "source": []
  },
  {
   "cell_type": "markdown",
   "id": "2f482cb9",
   "metadata": {},
   "source": [
    "## 객체와 인스턴스 구분"
   ]
  },
  {
   "cell_type": "markdown",
   "id": "e4f7affb",
   "metadata": {},
   "source": [
    "## datatype == class (인터페이스, 추상클래스, 구현클래스)\n",
    "\n",
    "## 클래스 무조건 객체(인스턴스) 생성...\n",
    "##  객체 만들지않고 정수 실수 사용...\n",
    "\n"
   ]
  },
  {
   "cell_type": "code",
   "execution_count": 16,
   "id": "fd3d35aa",
   "metadata": {},
   "outputs": [
    {
     "data": {
      "text/plain": [
       "True"
      ]
     },
     "execution_count": 16,
     "metadata": {},
     "output_type": "execute_result"
    }
   ],
   "source": [
    "isinstance(p, Animal)"
   ]
  },
  {
   "cell_type": "code",
   "execution_count": 17,
   "id": "0a3ef942",
   "metadata": {},
   "outputs": [
    {
     "ename": "SyntaxError",
     "evalue": "invalid syntax (<ipython-input-17-ed48921f0770>, line 1)",
     "output_type": "error",
     "traceback": [
      "\u001b[0;36m  File \u001b[0;32m\"<ipython-input-17-ed48921f0770>\"\u001b[0;36m, line \u001b[0;32m1\u001b[0m\n\u001b[0;31m    entity  object  entity set(table) / class\u001b[0m\n\u001b[0m                 ^\u001b[0m\n\u001b[0;31mSyntaxError\u001b[0m\u001b[0;31m:\u001b[0m invalid syntax\n"
     ]
    }
   ],
   "source": [
    "entity  object  entity set(table) / class"
   ]
  },
  {
   "cell_type": "markdown",
   "id": "730aecff",
   "metadata": {},
   "source": [
    "## 속성과 메소드\n",
    "\n",
    "- 변수와 속성 차이\n",
    "- 변수는 변수\n",
    "- 속성 = 변수 + getter/setter 메소드 존재 => 접근 메소드 프로퍼티"
   ]
  },
  {
   "cell_type": "code",
   "execution_count": 18,
   "id": "a45184d1",
   "metadata": {},
   "outputs": [],
   "source": [
    "class Descriptor:\n",
    "    \n",
    "    def __init__(self, type_):\n",
    "        self.type =  type_ \n",
    "        \n",
    "    def __set_name__(self, owner, name ):\n",
    "        self.name = \"_\"+ name\n",
    "        \n",
    "    def __get__(self, instance, owner):\n",
    "        print('get', instance)\n",
    "        return instance.__dict__.get(self.name,self.type()) \n",
    "    \n",
    "    def __set__(self, instance, value):\n",
    "        print('set')\n",
    "        instance.__dict__[self.name] = value"
   ]
  },
  {
   "cell_type": "code",
   "execution_count": 19,
   "id": "29873ad4",
   "metadata": {},
   "outputs": [],
   "source": [
    "def __init__(self, no, name) :\n",
    "    self.idno = no\n",
    "    self.owner_name = name"
   ]
  },
  {
   "cell_type": "code",
   "execution_count": 20,
   "id": "165b1299",
   "metadata": {},
   "outputs": [],
   "source": [
    "class Agreement_ :\n",
    "    idno = Descriptor(str)\n",
    "    owner_name = Descriptor(str)\n",
    "    \n",
    "    __init__ = __init__"
   ]
  },
  {
   "cell_type": "code",
   "execution_count": null,
   "id": "36fd3d9f",
   "metadata": {},
   "outputs": [],
   "source": []
  },
  {
   "cell_type": "code",
   "execution_count": 21,
   "id": "b87aebda",
   "metadata": {},
   "outputs": [
    {
     "name": "stdout",
     "output_type": "stream",
     "text": [
      "set\n",
      "set\n"
     ]
    }
   ],
   "source": [
    "aaa = Agreement_(\"8888\",\"jake\")"
   ]
  },
  {
   "cell_type": "code",
   "execution_count": 22,
   "id": "637b06ea",
   "metadata": {},
   "outputs": [
    {
     "name": "stdout",
     "output_type": "stream",
     "text": [
      "set\n",
      "set\n"
     ]
    }
   ],
   "source": [
    "__init__(aaa, '999',\"노솔리\")"
   ]
  },
  {
   "cell_type": "code",
   "execution_count": 23,
   "id": "ef05a313",
   "metadata": {},
   "outputs": [
    {
     "ename": "NameError",
     "evalue": "name 'aa' is not defined",
     "output_type": "error",
     "traceback": [
      "\u001b[0;31m---------------------------------------------------------------------------\u001b[0m",
      "\u001b[0;31mNameError\u001b[0m                                 Traceback (most recent call last)",
      "\u001b[0;32m<ipython-input-23-5e1dc8178872>\u001b[0m in \u001b[0;36m<module>\u001b[0;34m\u001b[0m\n\u001b[0;32m----> 1\u001b[0;31m \u001b[0maa\u001b[0m\u001b[0;34m.\u001b[0m\u001b[0m__dict__\u001b[0m\u001b[0;34m\u001b[0m\u001b[0;34m\u001b[0m\u001b[0m\n\u001b[0m",
      "\u001b[0;31mNameError\u001b[0m: name 'aa' is not defined"
     ]
    }
   ],
   "source": [
    "aa.__dict__"
   ]
  },
  {
   "cell_type": "code",
   "execution_count": 24,
   "id": "ae6ad7a2",
   "metadata": {},
   "outputs": [],
   "source": [
    "class Agreement :\n",
    "    idno = Descriptor(str)\n",
    "    owner_name = Descriptor(str)\n",
    "    \n",
    "    def __init__(self, no, name) :\n",
    "        self.idno = no\n",
    "        self.owner_name = name"
   ]
  },
  {
   "cell_type": "code",
   "execution_count": 25,
   "id": "78e9f0c6",
   "metadata": {},
   "outputs": [
    {
     "name": "stdout",
     "output_type": "stream",
     "text": [
      "set\n",
      "set\n"
     ]
    }
   ],
   "source": [
    "a = Agreement('1234567890001', \"홍길동\")"
   ]
  },
  {
   "cell_type": "code",
   "execution_count": 26,
   "id": "ef2d1d5f",
   "metadata": {},
   "outputs": [
    {
     "data": {
      "text/plain": [
       "{'_idno': '1234567890001', '_owner_name': '홍길동'}"
      ]
     },
     "execution_count": 26,
     "metadata": {},
     "output_type": "execute_result"
    }
   ],
   "source": [
    "a.__dict__"
   ]
  },
  {
   "cell_type": "code",
   "execution_count": 27,
   "id": "c625d98f",
   "metadata": {},
   "outputs": [
    {
     "data": {
      "text/plain": [
       "'1234567890001'"
      ]
     },
     "execution_count": 27,
     "metadata": {},
     "output_type": "execute_result"
    }
   ],
   "source": [
    "a._idno"
   ]
  },
  {
   "cell_type": "code",
   "execution_count": 28,
   "id": "be556e82",
   "metadata": {},
   "outputs": [
    {
     "name": "stdout",
     "output_type": "stream",
     "text": [
      "get <__main__.Agreement object at 0x7fe076a9d310>\n"
     ]
    },
    {
     "data": {
      "text/plain": [
       "'1234567890001'"
      ]
     },
     "execution_count": 28,
     "metadata": {},
     "output_type": "execute_result"
    }
   ],
   "source": [
    "a.idno"
   ]
  },
  {
   "cell_type": "code",
   "execution_count": 29,
   "id": "67274643",
   "metadata": {},
   "outputs": [
    {
     "name": "stdout",
     "output_type": "stream",
     "text": [
      "get <__main__.Agreement object at 0x7fe076a9d310>\n"
     ]
    },
    {
     "data": {
      "text/plain": [
       "'홍길동'"
      ]
     },
     "execution_count": 29,
     "metadata": {},
     "output_type": "execute_result"
    }
   ],
   "source": [
    "a.owner_name"
   ]
  },
  {
   "cell_type": "code",
   "execution_count": null,
   "id": "efe7d578",
   "metadata": {},
   "outputs": [],
   "source": []
  },
  {
   "cell_type": "markdown",
   "id": "1046a5ac",
   "metadata": {},
   "source": [
    "## 클래스를 만드는 메타 클래스"
   ]
  },
  {
   "cell_type": "code",
   "execution_count": 30,
   "id": "9e890024",
   "metadata": {},
   "outputs": [],
   "source": [
    "def __init__(self,name,age) :\n",
    "    self.name = name\n",
    "    self.age = age"
   ]
  },
  {
   "cell_type": "code",
   "execution_count": null,
   "id": "54a804ea",
   "metadata": {},
   "outputs": [],
   "source": []
  },
  {
   "cell_type": "code",
   "execution_count": 31,
   "id": "d17d624f",
   "metadata": {},
   "outputs": [],
   "source": [
    "dd = {\"name\" : Descriptor(str),\"age\" :Descriptor(int), \"__init__\" :__init__}"
   ]
  },
  {
   "cell_type": "code",
   "execution_count": 38,
   "id": "2dc4eb2f",
   "metadata": {},
   "outputs": [],
   "source": [
    "class A_(object) :\n",
    "    name = Descriptor(str)\n",
    "    age = Descriptor(int)\n",
    "    \n",
    "    def __init__(self,name,age) :\n",
    "        self.name = name\n",
    "        self.age = age"
   ]
  },
  {
   "cell_type": "code",
   "execution_count": null,
   "id": "342d5461",
   "metadata": {},
   "outputs": [],
   "source": []
  },
  {
   "cell_type": "code",
   "execution_count": 32,
   "id": "322a8729",
   "metadata": {},
   "outputs": [],
   "source": [
    "A = type(\"A\",(object,),dd)"
   ]
  },
  {
   "cell_type": "code",
   "execution_count": 33,
   "id": "4312f6b5",
   "metadata": {},
   "outputs": [
    {
     "data": {
      "text/plain": [
       "True"
      ]
     },
     "execution_count": 33,
     "metadata": {},
     "output_type": "execute_result"
    }
   ],
   "source": [
    "isinstance(A, type)"
   ]
  },
  {
   "cell_type": "code",
   "execution_count": null,
   "id": "8fd95f7e",
   "metadata": {},
   "outputs": [],
   "source": []
  },
  {
   "cell_type": "code",
   "execution_count": 34,
   "id": "e075c23f",
   "metadata": {},
   "outputs": [
    {
     "name": "stdout",
     "output_type": "stream",
     "text": [
      "set\n",
      "set\n"
     ]
    }
   ],
   "source": [
    "a = A(\"솔\", 28)"
   ]
  },
  {
   "cell_type": "code",
   "execution_count": 35,
   "id": "d8f3db68",
   "metadata": {},
   "outputs": [
    {
     "data": {
      "text/plain": [
       "mappingproxy({'name': <__main__.Descriptor at 0x7fe076aae090>,\n",
       "              'age': <__main__.Descriptor at 0x7fe076aae0d0>,\n",
       "              '__init__': <function __main__.__init__(self, name, age)>,\n",
       "              '__module__': '__main__',\n",
       "              '__dict__': <attribute '__dict__' of 'A' objects>,\n",
       "              '__weakref__': <attribute '__weakref__' of 'A' objects>,\n",
       "              '__doc__': None})"
      ]
     },
     "execution_count": 35,
     "metadata": {},
     "output_type": "execute_result"
    }
   ],
   "source": [
    "A.__dict__"
   ]
  },
  {
   "cell_type": "code",
   "execution_count": 36,
   "id": "b9d1339b",
   "metadata": {},
   "outputs": [
    {
     "data": {
      "text/plain": [
       "{'_name': '솔', '_age': 28}"
      ]
     },
     "execution_count": 36,
     "metadata": {},
     "output_type": "execute_result"
    }
   ],
   "source": [
    "a.__dict__"
   ]
  },
  {
   "cell_type": "markdown",
   "id": "7f1694bc",
   "metadata": {},
   "source": [
    "## 추상클래스"
   ]
  },
  {
   "cell_type": "code",
   "execution_count": 39,
   "id": "a3807b6e",
   "metadata": {},
   "outputs": [],
   "source": [
    "import abc"
   ]
  },
  {
   "cell_type": "code",
   "execution_count": 40,
   "id": "2cd64f26",
   "metadata": {},
   "outputs": [
    {
     "data": {
      "text/plain": [
       "['ABC',\n",
       " 'ABCMeta',\n",
       " '__builtins__',\n",
       " '__cached__',\n",
       " '__doc__',\n",
       " '__file__',\n",
       " '__loader__',\n",
       " '__name__',\n",
       " '__package__',\n",
       " '__spec__',\n",
       " '_abc_init',\n",
       " '_abc_instancecheck',\n",
       " '_abc_register',\n",
       " '_abc_subclasscheck',\n",
       " '_get_dump',\n",
       " '_reset_caches',\n",
       " '_reset_registry',\n",
       " 'abstractclassmethod',\n",
       " 'abstractmethod',\n",
       " 'abstractproperty',\n",
       " 'abstractstaticmethod',\n",
       " 'get_cache_token']"
      ]
     },
     "execution_count": 40,
     "metadata": {},
     "output_type": "execute_result"
    }
   ],
   "source": [
    "dir(abc)"
   ]
  },
  {
   "cell_type": "code",
   "execution_count": 45,
   "id": "4e56479a",
   "metadata": {},
   "outputs": [],
   "source": [
    "class ABCS(abc.ABC) :\n",
    "    @abc.abstractmethod\n",
    "    def aaa() :\n",
    "        pass "
   ]
  },
  {
   "cell_type": "code",
   "execution_count": 46,
   "id": "90db0f89",
   "metadata": {},
   "outputs": [
    {
     "ename": "TypeError",
     "evalue": "Can't instantiate abstract class ABCS with abstract methods aaa",
     "output_type": "error",
     "traceback": [
      "\u001b[0;31m---------------------------------------------------------------------------\u001b[0m",
      "\u001b[0;31mTypeError\u001b[0m                                 Traceback (most recent call last)",
      "\u001b[0;32m<ipython-input-46-6fa8297bb981>\u001b[0m in \u001b[0;36m<module>\u001b[0;34m\u001b[0m\n\u001b[0;32m----> 1\u001b[0;31m \u001b[0mABCS\u001b[0m\u001b[0;34m(\u001b[0m\u001b[0;34m)\u001b[0m\u001b[0;34m\u001b[0m\u001b[0;34m\u001b[0m\u001b[0m\n\u001b[0m",
      "\u001b[0;31mTypeError\u001b[0m: Can't instantiate abstract class ABCS with abstract methods aaa"
     ]
    }
   ],
   "source": [
    "ABCS()"
   ]
  },
  {
   "cell_type": "code",
   "execution_count": 48,
   "id": "b338ed3e",
   "metadata": {},
   "outputs": [],
   "source": [
    "class ABCSM(metaclass = abc.ABCMeta) :\n",
    "    @abc.abstractmethod\n",
    "    def aaa() :\n",
    "        pass "
   ]
  },
  {
   "cell_type": "code",
   "execution_count": 49,
   "id": "fee92aa3",
   "metadata": {},
   "outputs": [
    {
     "ename": "TypeError",
     "evalue": "Can't instantiate abstract class ABCSM with abstract methods aaa",
     "output_type": "error",
     "traceback": [
      "\u001b[0;31m---------------------------------------------------------------------------\u001b[0m",
      "\u001b[0;31mTypeError\u001b[0m                                 Traceback (most recent call last)",
      "\u001b[0;32m<ipython-input-49-c3747f93877d>\u001b[0m in \u001b[0;36m<module>\u001b[0;34m\u001b[0m\n\u001b[0;32m----> 1\u001b[0;31m \u001b[0mABCSM\u001b[0m\u001b[0;34m(\u001b[0m\u001b[0;34m)\u001b[0m\u001b[0;34m\u001b[0m\u001b[0;34m\u001b[0m\u001b[0m\n\u001b[0m",
      "\u001b[0;31mTypeError\u001b[0m: Can't instantiate abstract class ABCSM with abstract methods aaa"
     ]
    }
   ],
   "source": [
    "ABCSM()"
   ]
  },
  {
   "cell_type": "code",
   "execution_count": null,
   "id": "0967ac75",
   "metadata": {},
   "outputs": [],
   "source": []
  },
  {
   "cell_type": "code",
   "execution_count": 53,
   "id": "c44575dd",
   "metadata": {},
   "outputs": [],
   "source": [
    "class AAAMixin :\n",
    "    def aaaa(self) :\n",
    "        return \"AAAMixin\""
   ]
  },
  {
   "cell_type": "code",
   "execution_count": 54,
   "id": "1b10b8fe",
   "metadata": {},
   "outputs": [],
   "source": [
    "class BBBMixin :\n",
    "    def bbbb(self) :\n",
    "        return \"BBBMixin\""
   ]
  },
  {
   "cell_type": "code",
   "execution_count": null,
   "id": "287067fd",
   "metadata": {},
   "outputs": [],
   "source": []
  },
  {
   "cell_type": "code",
   "execution_count": 55,
   "id": "afae18fa",
   "metadata": {},
   "outputs": [],
   "source": [
    "class BBB(AAAMixin,BBBMixin) :\n",
    "    pass"
   ]
  },
  {
   "cell_type": "code",
   "execution_count": 56,
   "id": "d9835c21",
   "metadata": {},
   "outputs": [
    {
     "data": {
      "text/plain": [
       "'AAAMixin'"
      ]
     },
     "execution_count": 56,
     "metadata": {},
     "output_type": "execute_result"
    }
   ],
   "source": [
    "BBB().aaaa()"
   ]
  },
  {
   "cell_type": "code",
   "execution_count": 57,
   "id": "ae699d18",
   "metadata": {},
   "outputs": [
    {
     "data": {
      "text/plain": [
       "'BBBMixin'"
      ]
     },
     "execution_count": 57,
     "metadata": {},
     "output_type": "execute_result"
    }
   ],
   "source": [
    "BBB().bbbb()"
   ]
  },
  {
   "cell_type": "code",
   "execution_count": null,
   "id": "a5ad4444",
   "metadata": {},
   "outputs": [],
   "source": []
  },
  {
   "cell_type": "code",
   "execution_count": 58,
   "id": "0d10ab37",
   "metadata": {},
   "outputs": [],
   "source": [
    "class CCC :\n",
    "    c = 100\n",
    "    def c(self) :\n",
    "        return 999"
   ]
  },
  {
   "cell_type": "code",
   "execution_count": 59,
   "id": "fdbfc556",
   "metadata": {},
   "outputs": [
    {
     "data": {
      "text/plain": [
       "mappingproxy({'__module__': '__main__',\n",
       "              'c': <function __main__.CCC.c(self)>,\n",
       "              '__dict__': <attribute '__dict__' of 'CCC' objects>,\n",
       "              '__weakref__': <attribute '__weakref__' of 'CCC' objects>,\n",
       "              '__doc__': None})"
      ]
     },
     "execution_count": 59,
     "metadata": {},
     "output_type": "execute_result"
    }
   ],
   "source": [
    "CCC.__dict__"
   ]
  },
  {
   "cell_type": "code",
   "execution_count": null,
   "id": "a31a15e2",
   "metadata": {},
   "outputs": [],
   "source": []
  }
 ],
 "metadata": {
  "kernelspec": {
   "display_name": "Python 3",
   "language": "python",
   "name": "python3"
  },
  "language_info": {
   "codemirror_mode": {
    "name": "ipython",
    "version": 3
   },
   "file_extension": ".py",
   "mimetype": "text/x-python",
   "name": "python",
   "nbconvert_exporter": "python",
   "pygments_lexer": "ipython3",
   "version": "3.7.10"
  }
 },
 "nbformat": 4,
 "nbformat_minor": 5
}
