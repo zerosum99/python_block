{
 "cells": [
  {
   "cell_type": "code",
   "execution_count": null,
   "id": "671e91cc",
   "metadata": {},
   "outputs": [],
   "source": [
    "# 사업 아이디어 + 사업화(수익 모델) 가지고 오고 (태웅)\n",
    "\n",
    "# 구현시 유의했던 점 - solid 원칙 중 s, o 파트를 지키려고 노력. (유지 보수 수정 범위를 최대한 줄이려고)\n",
    "\n",
    "# 예시1 - Go 인터페이스 / Python 디스크립터 사용하지 않고 코딩\n",
    "# 예시2 - 인터페이스/디스크립터 사용 코딩\n",
    "\n",
    "\n",
    "# 에러를 맨 처음에 띄우자 \n",
    "\n",
    "# 쩌리 종현 - 디스크립터 짜보기\n",
    "# 갓갓 혜수 누나 - 나머지 모듈 1개 + 메인.go에 세 개 짜리 하나 인터페이스 \n",
    "# 갓석준 - 모듈 2개 + 메인.go에 세 개 짜리 하나 인터페이스 "
   ]
  },
  {
   "cell_type": "code",
   "execution_count": null,
   "id": "ddceaa93",
   "metadata": {},
   "outputs": [],
   "source": []
  },
  {
   "cell_type": "code",
   "execution_count": null,
   "id": "373cd386",
   "metadata": {},
   "outputs": [],
   "source": [
    "# 파이썬 기초 객체 지향 프로그래밍 - 디스크립터 미사용"
   ]
  },
  {
   "cell_type": "code",
   "execution_count": null,
   "id": "cfdb7ffd",
   "metadata": {},
   "outputs": [],
   "source": [
    "# import 파일 구성1 - 홍채.py,\n",
    "# def - send, verify, confirm, authenticate "
   ]
  },
  {
   "cell_type": "code",
   "execution_count": 124,
   "id": "99be1c96",
   "metadata": {},
   "outputs": [],
   "source": [
    "class Iris :\n",
    "    def __init__(self, name, info): \n",
    "        self.name = name\n",
    "        self.info = info\n",
    "    \n",
    "    def send(self):\n",
    "        print(self.name, self.info)\n",
    "        print(\"홍채 정보가 전달되었습니다.\")\n",
    "    \n",
    "    def verify(self):\n",
    "        print(\"홍채 정보를 확인중입니다.\")\n",
    "    \n",
    "    def authenticate(self):\n",
    "        print(\"홍채 인증을 완료했습니다.\")"
   ]
  },
  {
   "cell_type": "code",
   "execution_count": 125,
   "id": "4090182b",
   "metadata": {},
   "outputs": [],
   "source": [
    "personA = Iris(\"성종현\", \"홍채\")"
   ]
  },
  {
   "cell_type": "code",
   "execution_count": 126,
   "id": "5c43f52b",
   "metadata": {},
   "outputs": [
    {
     "name": "stdout",
     "output_type": "stream",
     "text": [
      "성종현 홍채\n",
      "홍채 정보가 전달되었습니다.\n"
     ]
    }
   ],
   "source": [
    "personA.send()"
   ]
  },
  {
   "cell_type": "code",
   "execution_count": 127,
   "id": "4258c872",
   "metadata": {},
   "outputs": [
    {
     "name": "stdout",
     "output_type": "stream",
     "text": [
      "홍채 정보를 확인중입니다.\n"
     ]
    }
   ],
   "source": [
    "personA.verify()"
   ]
  },
  {
   "cell_type": "code",
   "execution_count": 128,
   "id": "ac370191",
   "metadata": {},
   "outputs": [
    {
     "name": "stdout",
     "output_type": "stream",
     "text": [
      "홍채 인증을 완료했습니다.\n"
     ]
    }
   ],
   "source": [
    "personA.authenticate()"
   ]
  },
  {
   "cell_type": "code",
   "execution_count": null,
   "id": "57aaa366",
   "metadata": {},
   "outputs": [],
   "source": []
  },
  {
   "cell_type": "code",
   "execution_count": 129,
   "id": "7110cb21",
   "metadata": {},
   "outputs": [],
   "source": [
    "#  import 파일 구성2 - 운전면허.py\n",
    "# def - send, verify, confirm, authenticate "
   ]
  },
  {
   "cell_type": "code",
   "execution_count": 130,
   "id": "e7635385",
   "metadata": {},
   "outputs": [],
   "source": [
    "class DriveLicense :\n",
    "    def __init__(self, name, info): \n",
    "        self.name = name\n",
    "        self.info = info\n",
    "    \n",
    "    def send(self):\n",
    "        print(self.name, self.info)\n",
    "        print(\"면허 정보가 전달되었습니다.\")\n",
    "    \n",
    "    def verify(self):\n",
    "        print(\"면허 정보를 확인중입니다.\")\n",
    "    \n",
    "    def authenticate(self):\n",
    "        print(\"면허 인증을 완료했습니다.\")"
   ]
  },
  {
   "cell_type": "code",
   "execution_count": 131,
   "id": "89481d59",
   "metadata": {},
   "outputs": [],
   "source": [
    "personB = DriveLicense(\"성종현\", \"면허\")"
   ]
  },
  {
   "cell_type": "code",
   "execution_count": 132,
   "id": "f2e1274b",
   "metadata": {
    "scrolled": true
   },
   "outputs": [
    {
     "name": "stdout",
     "output_type": "stream",
     "text": [
      "성종현 면허\n",
      "면허 정보가 전달되었습니다.\n"
     ]
    }
   ],
   "source": [
    "personB.send()"
   ]
  },
  {
   "cell_type": "code",
   "execution_count": 133,
   "id": "ab7dcdbb",
   "metadata": {},
   "outputs": [
    {
     "name": "stdout",
     "output_type": "stream",
     "text": [
      "면허 정보를 확인중입니다.\n"
     ]
    }
   ],
   "source": [
    "personB.verify()"
   ]
  },
  {
   "cell_type": "code",
   "execution_count": 134,
   "id": "43000c0d",
   "metadata": {},
   "outputs": [
    {
     "name": "stdout",
     "output_type": "stream",
     "text": [
      "면허 인증을 완료했습니다.\n"
     ]
    }
   ],
   "source": [
    "personB.authenticate()"
   ]
  },
  {
   "cell_type": "code",
   "execution_count": null,
   "id": "c5d8a969",
   "metadata": {},
   "outputs": [],
   "source": []
  },
  {
   "cell_type": "code",
   "execution_count": 135,
   "id": "398e3cd5",
   "metadata": {},
   "outputs": [],
   "source": [
    "# import 파일 구성3 - PIN.py\n",
    "# def - send, verify, confirm, authenticate "
   ]
  },
  {
   "cell_type": "code",
   "execution_count": 136,
   "id": "3b651804",
   "metadata": {},
   "outputs": [],
   "source": [
    "class Pin :\n",
    "    def __init__(self, name, info): \n",
    "        self.name = name\n",
    "        self.info = info\n",
    "    \n",
    "    def send(self):\n",
    "        print(self.name, self.info)\n",
    "        print(\"핀 정보가 전달되었습니다.\")\n",
    "    \n",
    "    def verify(self):\n",
    "        print(\"핀 정보를 확인중입니다.\")\n",
    "    \n",
    "    def authenticate(self):\n",
    "        print(\"핀 인증을 완료했습니다.\")"
   ]
  },
  {
   "cell_type": "code",
   "execution_count": 137,
   "id": "8ef52221",
   "metadata": {},
   "outputs": [],
   "source": [
    "personC = Pin(\"성종현\", \"PIN\")"
   ]
  },
  {
   "cell_type": "code",
   "execution_count": 138,
   "id": "6164bfee",
   "metadata": {},
   "outputs": [
    {
     "name": "stdout",
     "output_type": "stream",
     "text": [
      "성종현 PIN\n",
      "핀 정보가 전달되었습니다.\n"
     ]
    }
   ],
   "source": [
    "personC.send()"
   ]
  },
  {
   "cell_type": "code",
   "execution_count": 139,
   "id": "96c0642a",
   "metadata": {},
   "outputs": [
    {
     "name": "stdout",
     "output_type": "stream",
     "text": [
      "핀 정보를 확인중입니다.\n"
     ]
    }
   ],
   "source": [
    "personC.verify()"
   ]
  },
  {
   "cell_type": "code",
   "execution_count": 140,
   "id": "9f6a2534",
   "metadata": {},
   "outputs": [
    {
     "name": "stdout",
     "output_type": "stream",
     "text": [
      "핀 인증을 완료했습니다.\n"
     ]
    }
   ],
   "source": [
    "personC.authenticate()"
   ]
  },
  {
   "cell_type": "code",
   "execution_count": null,
   "id": "ed572f64",
   "metadata": {},
   "outputs": [],
   "source": []
  },
  {
   "cell_type": "code",
   "execution_count": 141,
   "id": "6b0486c6",
   "metadata": {},
   "outputs": [],
   "source": [
    "# 통합 파일 구성 - identity.py"
   ]
  },
  {
   "cell_type": "code",
   "execution_count": 142,
   "id": "84f35675",
   "metadata": {},
   "outputs": [],
   "source": [
    "class IdentityCheck(Iris, DriveLicense, Pin):\n",
    "    test = \"클래스 속성 호출\"\n",
    "    \n",
    "    def __init__(self, name, info): \n",
    "        self.name = name \n",
    "        self.info = info\n",
    "    \n",
    "    # 상속 받은 클래스의 메소드를 불러옴 (1) - send\n",
    "    def send(self): \n",
    "        if self.info == \"홍채\":\n",
    "            super(IdentityCheck.mro()[0], self).send()\n",
    "        elif self.info == \"면허\": \n",
    "            super(IdentityCheck.mro()[1], self).send()\n",
    "        else : \n",
    "            super(IdentityCheck.mro()[2], self).send()\n",
    "    \n",
    "    # 상속 받은 클래스의 메소드를 불러옴 (2) - verify\n",
    "    def verify(self): \n",
    "        if self.info == \"홍채\":\n",
    "            super(IdentityCheck.mro()[0], self).verify()\n",
    "        elif self.info == \"면허\": \n",
    "            super(IdentityCheck.mro()[1], self).verify()\n",
    "        else : \n",
    "            super(IdentityCheck.mro()[2], self).verify()\n",
    "    \n",
    "    # 상속 받은 클래스의 메소드를 불러옴 (3) - authenticate\n",
    "    def authenticate(self): \n",
    "        if self.info == \"홍채\":\n",
    "            super(IdentityCheck.mro()[0], self).authenticate()\n",
    "        elif self.info == \"면허\": \n",
    "            super(IdentityCheck.mro()[1], self).authenticate()\n",
    "        else : \n",
    "            super(IdentityCheck.mro()[2], self).authenticate()\n",
    "   \n",
    "    "
   ]
  },
  {
   "cell_type": "code",
   "execution_count": 143,
   "id": "1c892a69",
   "metadata": {},
   "outputs": [
    {
     "data": {
      "text/plain": [
       "'클래스 속성 호출'"
      ]
     },
     "execution_count": 143,
     "metadata": {},
     "output_type": "execute_result"
    }
   ],
   "source": [
    "IdentityCheck.test"
   ]
  },
  {
   "cell_type": "code",
   "execution_count": 144,
   "id": "29712f15",
   "metadata": {},
   "outputs": [],
   "source": [
    "# 테스트 1 - 상속 받은 send 메소드 호출\n",
    "test1 = IdentityCheck(\"성종현\", \"홍채\")"
   ]
  },
  {
   "cell_type": "code",
   "execution_count": 145,
   "id": "2d13a193",
   "metadata": {},
   "outputs": [
    {
     "name": "stdout",
     "output_type": "stream",
     "text": [
      "성종현 홍채\n",
      "홍채 정보가 전달되었습니다.\n",
      "홍채 정보를 확인중입니다.\n",
      "홍채 인증을 완료했습니다.\n"
     ]
    }
   ],
   "source": [
    "test1.send(); test1.verify(); test1.authenticate();"
   ]
  },
  {
   "cell_type": "code",
   "execution_count": null,
   "id": "4ec41774",
   "metadata": {},
   "outputs": [],
   "source": []
  },
  {
   "cell_type": "code",
   "execution_count": 146,
   "id": "50270c65",
   "metadata": {},
   "outputs": [],
   "source": [
    "# 테스트 2 - 상속 받은 verify 메소드 호출\n",
    "test2 = IdentityCheck(\"성종현\", \"면허\")"
   ]
  },
  {
   "cell_type": "code",
   "execution_count": 147,
   "id": "41f81443",
   "metadata": {},
   "outputs": [
    {
     "name": "stdout",
     "output_type": "stream",
     "text": [
      "성종현 면허\n",
      "면허 정보가 전달되었습니다.\n",
      "면허 정보를 확인중입니다.\n",
      "면허 인증을 완료했습니다.\n"
     ]
    }
   ],
   "source": [
    "test2.send(); test2.verify(); test2.authenticate()"
   ]
  },
  {
   "cell_type": "code",
   "execution_count": null,
   "id": "5a719d31",
   "metadata": {},
   "outputs": [],
   "source": []
  },
  {
   "cell_type": "code",
   "execution_count": 148,
   "id": "eddb6909",
   "metadata": {},
   "outputs": [],
   "source": [
    "# 테스트 3 - 상속 받은 authenticate 메소드 호출\n",
    "test3 = IdentityCheck(\"성종현\", \"PIN\")"
   ]
  },
  {
   "cell_type": "code",
   "execution_count": 149,
   "id": "4e007b2f",
   "metadata": {},
   "outputs": [
    {
     "name": "stdout",
     "output_type": "stream",
     "text": [
      "성종현 PIN\n",
      "핀 정보가 전달되었습니다.\n",
      "핀 정보를 확인중입니다.\n",
      "핀 인증을 완료했습니다.\n"
     ]
    }
   ],
   "source": [
    "test3.send(); test3.verify(); test3.authenticate()"
   ]
  },
  {
   "cell_type": "code",
   "execution_count": null,
   "id": "1a9e9de1",
   "metadata": {},
   "outputs": [],
   "source": []
  },
  {
   "cell_type": "code",
   "execution_count": null,
   "id": "b673c36f",
   "metadata": {},
   "outputs": [],
   "source": []
  },
  {
   "cell_type": "code",
   "execution_count": null,
   "id": "a18508f0",
   "metadata": {},
   "outputs": [],
   "source": []
  },
  {
   "cell_type": "code",
   "execution_count": 150,
   "id": "deab66c2",
   "metadata": {},
   "outputs": [],
   "source": [
    "# 파이썬 심화 객체 지향 프로그래밍 - 디스크립터, 데코레이터, 프로퍼티 사용\n",
    "# def - send, verify, confirm, authenticate "
   ]
  },
  {
   "cell_type": "code",
   "execution_count": 185,
   "id": "77abdc72",
   "metadata": {},
   "outputs": [],
   "source": [
    "# 디스크립터의 책임성 - getter, setter로 속성 갱신, 안에 복잡한 로직 넣을 필요 없음\n",
    "# 기본 값에 대한 범위, 타입, 초기값 등 기본적인 데이터 속성만 체크하는 로직이 필요함\n",
    "\n",
    "class Des :\n",
    "    def __init__(self, data): \n",
    "        self.data = \"_\" + data\n",
    "        \n",
    "    def __get__(self, instance, owner): \n",
    "        print(\"디스크립터에서 정보를 불러오는 중입니다\")\n",
    "        return instance.__dict__.get(self.data, 0)\n",
    "    \n",
    "    def __set__(self, instance, value): \n",
    "        print(\"디스크립터에 정보를 저장하는 중입니다\")\n",
    "        instance.__dict__[self.data] = value\n",
    "    "
   ]
  },
  {
   "cell_type": "code",
   "execution_count": null,
   "id": "ee4993f8",
   "metadata": {},
   "outputs": [],
   "source": []
  },
  {
   "cell_type": "code",
   "execution_count": null,
   "id": "e6205b8b",
   "metadata": {},
   "outputs": [],
   "source": [
    "# 속성 정의 - 디스크립터 클래스 \n",
    "# 클래스끼리의 책임성 부여 \n",
    "# Person 클래스\n",
    "# Iris 클래스 ==> 실제 클래스  \n",
    "# license 클래스 ==> 실제 클래스 \n",
    "# PIn 클래스 ==> 실제 클래스 \n",
    "# iris 클래스 -> person 클래스 tkdthr"
   ]
  },
  {
   "cell_type": "code",
   "execution_count": null,
   "id": "4d82bcd6",
   "metadata": {},
   "outputs": [],
   "source": []
  },
  {
   "cell_type": "code",
   "execution_count": 186,
   "id": "1c3e7465",
   "metadata": {
    "scrolled": true
   },
   "outputs": [],
   "source": [
    "class Iris : \n",
    "    # 책임성 구분 - 속성을 하나 하나 구분해주기 \n",
    "    iris = Des(\"홍채\")\n",
    "    license = Des(\"면허\")\n",
    "    pin = Des(\"핀\")\n",
    "    \n",
    "    def __init__(self,iris, license, pin): \n",
    "        # 변수 -> 속성\n",
    "        self.iris = iris\n",
    "        self.license = license\n",
    "        self.pin = pin\n",
    "    \n",
    "    # register - 퍼블릭 메소드 만들기 \n",
    "    # send, verify, confirm, authenticate - 프라이빗 메소드 만들기 \n",
    "    @property\n",
    "    def send(self): \n",
    "        return \"정보를 보내는 중입니다\"\n",
    "    \n",
    "    @property\n",
    "    def verify(self): \n",
    "        return \"정보를 검증하는 중입니다\"\n",
    "    \n",
    "    @property\n",
    "    def confirm(self): \n",
    "        return \"정보를 검증하는 중입니다\"\n",
    "    \n",
    "    @property\n",
    "    def authenticate(self): \n",
    "        return \"정보를 검증하는 중입니다\"\n",
    "    "
   ]
  },
  {
   "cell_type": "code",
   "execution_count": 187,
   "id": "0ebe2e78",
   "metadata": {},
   "outputs": [
    {
     "name": "stdout",
     "output_type": "stream",
     "text": [
      "디스크립터에 정보를 저장하는 중입니다\n",
      "디스크립터에 정보를 저장하는 중입니다\n",
      "디스크립터에 정보를 저장하는 중입니다\n"
     ]
    }
   ],
   "source": [
    "person = Iris(\"성종현의 홍채\", \"성종현의 면허\", \"성종현의 핀\")"
   ]
  },
  {
   "cell_type": "code",
   "execution_count": 188,
   "id": "dd9cad34",
   "metadata": {},
   "outputs": [
    {
     "name": "stdout",
     "output_type": "stream",
     "text": [
      "디스크립터에서 정보를 불러오는 중입니다\n"
     ]
    },
    {
     "data": {
      "text/plain": [
       "'성종현의 홍채'"
      ]
     },
     "execution_count": 188,
     "metadata": {},
     "output_type": "execute_result"
    }
   ],
   "source": [
    "person.iris "
   ]
  },
  {
   "cell_type": "code",
   "execution_count": 189,
   "id": "2ae9c343",
   "metadata": {},
   "outputs": [
    {
     "name": "stdout",
     "output_type": "stream",
     "text": [
      "디스크립터에서 정보를 불러오는 중입니다\n"
     ]
    },
    {
     "data": {
      "text/plain": [
       "'성종현의 면허'"
      ]
     },
     "execution_count": 189,
     "metadata": {},
     "output_type": "execute_result"
    }
   ],
   "source": [
    "person.license"
   ]
  },
  {
   "cell_type": "code",
   "execution_count": 190,
   "id": "6cfc680d",
   "metadata": {},
   "outputs": [
    {
     "name": "stdout",
     "output_type": "stream",
     "text": [
      "디스크립터에서 정보를 불러오는 중입니다\n"
     ]
    },
    {
     "data": {
      "text/plain": [
       "'성종현의 핀'"
      ]
     },
     "execution_count": 190,
     "metadata": {},
     "output_type": "execute_result"
    }
   ],
   "source": [
    "person.pin"
   ]
  },
  {
   "cell_type": "code",
   "execution_count": null,
   "id": "8d8491e9",
   "metadata": {},
   "outputs": [],
   "source": []
  },
  {
   "cell_type": "code",
   "execution_count": 191,
   "id": "b8884b25",
   "metadata": {
    "scrolled": true
   },
   "outputs": [
    {
     "data": {
      "text/plain": [
       "{'_홍채': '성종현의 홍채', '_면허': '성종현의 면허', '_핀': '성종현의 핀'}"
      ]
     },
     "execution_count": 191,
     "metadata": {},
     "output_type": "execute_result"
    }
   ],
   "source": [
    "person.__dict__"
   ]
  },
  {
   "cell_type": "code",
   "execution_count": 192,
   "id": "2a24926d",
   "metadata": {},
   "outputs": [
    {
     "name": "stdout",
     "output_type": "stream",
     "text": [
      "디스크립터에 정보를 저장하는 중입니다\n"
     ]
    }
   ],
   "source": [
    "person.iris = \"김태웅의 홍채\""
   ]
  },
  {
   "cell_type": "code",
   "execution_count": 193,
   "id": "28d1dcaf",
   "metadata": {},
   "outputs": [
    {
     "name": "stdout",
     "output_type": "stream",
     "text": [
      "디스크립터에서 정보를 불러오는 중입니다\n"
     ]
    },
    {
     "data": {
      "text/plain": [
       "'김태웅의 홍채'"
      ]
     },
     "execution_count": 193,
     "metadata": {},
     "output_type": "execute_result"
    }
   ],
   "source": [
    "person.iris"
   ]
  },
  {
   "cell_type": "code",
   "execution_count": 194,
   "id": "5a762511",
   "metadata": {},
   "outputs": [
    {
     "data": {
      "text/plain": [
       "{'_홍채': '김태웅의 홍채', '_면허': '성종현의 면허', '_핀': '성종현의 핀'}"
      ]
     },
     "execution_count": 194,
     "metadata": {},
     "output_type": "execute_result"
    }
   ],
   "source": [
    "person.__dict__"
   ]
  },
  {
   "cell_type": "code",
   "execution_count": 195,
   "id": "8b891d3d",
   "metadata": {},
   "outputs": [
    {
     "data": {
      "text/plain": [
       "'정보를 보내는 중입니다'"
      ]
     },
     "execution_count": 195,
     "metadata": {},
     "output_type": "execute_result"
    }
   ],
   "source": [
    "person.send"
   ]
  },
  {
   "cell_type": "code",
   "execution_count": 196,
   "id": "b8ac4ea2",
   "metadata": {},
   "outputs": [
    {
     "data": {
      "text/plain": [
       "'정보를 검증하는 중입니다'"
      ]
     },
     "execution_count": 196,
     "metadata": {},
     "output_type": "execute_result"
    }
   ],
   "source": [
    "person.confirm"
   ]
  },
  {
   "cell_type": "code",
   "execution_count": 197,
   "id": "bbb4c194",
   "metadata": {},
   "outputs": [
    {
     "data": {
      "text/plain": [
       "'정보를 검증하는 중입니다'"
      ]
     },
     "execution_count": 197,
     "metadata": {},
     "output_type": "execute_result"
    }
   ],
   "source": [
    "person.verify"
   ]
  },
  {
   "cell_type": "code",
   "execution_count": 198,
   "id": "d8e1de46",
   "metadata": {},
   "outputs": [
    {
     "data": {
      "text/plain": [
       "'정보를 검증하는 중입니다'"
      ]
     },
     "execution_count": 198,
     "metadata": {},
     "output_type": "execute_result"
    }
   ],
   "source": [
    "person.authenticate"
   ]
  },
  {
   "cell_type": "code",
   "execution_count": 200,
   "id": "5fea310d",
   "metadata": {},
   "outputs": [
    {
     "name": "stdout",
     "output_type": "stream",
     "text": [
      "디스크립터에서 정보를 불러오는 중입니다\n"
     ]
    },
    {
     "data": {
      "text/plain": [
       "'김태웅의 홍채'"
      ]
     },
     "execution_count": 200,
     "metadata": {},
     "output_type": "execute_result"
    }
   ],
   "source": [
    "person.iris"
   ]
  },
  {
   "cell_type": "code",
   "execution_count": null,
   "id": "178e9f19",
   "metadata": {},
   "outputs": [],
   "source": []
  },
  {
   "cell_type": "code",
   "execution_count": null,
   "id": "310f6cd1",
   "metadata": {},
   "outputs": [],
   "source": []
  },
  {
   "cell_type": "code",
   "execution_count": 286,
   "id": "02e3891e",
   "metadata": {},
   "outputs": [],
   "source": [
    "\n",
    "# -----추상 클래스 기본 용어 정리 -----\n",
    "# 추상클래스(interface, abstract class) - 객체 생성하지 않음. \n",
    "# 추상메소드(abstract method) - 구현하지 않는다 \n",
    "# 구현클래스(class) - 객체 생성함\n",
    "# 구현메소드(method) - 구현함\n",
    "\n",
    "# ----- 부모, 자식 클래스 -----\n",
    "# 자식 클래스: 부모 클래스의 요소(속성, 함수)를 상속(접근 가능)\n",
    "# 이때 상속 받을 부모 클래스는 추상 클래스일 수도 있고, 구현 클래스일 수도 있음. \n",
    "\n",
    "\n",
    "# Interface 개념: 추상 클래스 구현. 자식 클래스가 추상 클래스(부모)를 상속할 때 물려줄 \n",
    "# public behavior(하위 클래스에서 공통적으로 사용할 수 있는\n",
    "# 보편 타당한 기능) 를 정의한 것. \n",
    "# 인터페이스도 자료형이며, 자식(하위) 클래스는 부모(상위) 클래스에 있는 자료형만 사용할 수 있다. \n",
    "# 즉, 하위 클래스에서는 부모 클래스에서\n",
    "# 정의한 모든 메소드가 구현되어 있어야 한다. 인터페이스1 -> 인터페이스2 로 코드 구성 후\n",
    "# 새로운 객체를 생성하면 그 객체에 대한 메소드는\n",
    "# 인터페이스1,2에 선언되어 있는 public behavior를 모두 구현해야 한다.  \n",
    "# Golang interface: 추상클래스 구현 + 다중 상속 지원\n",
    "\n",
    "\n",
    "# ----- 디스크립터 기본 이해 -----\n",
    "# __set_name__  : 디스크립터 클래스에 저장하지 않고 원래 클래스 네임스페이스에 변수명을 저장하는 것. \n",
    "# 내가 지정한 클래스의 변수(속성) 이름을 자동으로 물고  set네임이 자동으로 작동.\n",
    "# 그리고 디스크립터 객체(원래 클래스의 속성)내에 네임을 저장. \n",
    "# ⇒ 같은 이름이면 무한루프\n",
    "# # 디스크립터는 제일 먼저 참조하게 되어 있다. \n",
    "# 디스크립터 get 만 정의되어 있으면 클래스 속성을 먼저 참조 \n",
    "# set도 정의되어 있으면 디스크립터 속성을 먼저 참조\n",
    "# 단일 책임의 기준 - 원칙은 1개 클래스당 기능 1개. 그러나 실무에서는 상황에 따라 협의를 통해 \n",
    "# 단일 책임의 범위를 정해야 한다. 회사 규모가 커질 수록 단일 책임이 아닐 가능성이 높아짐. \n",
    "# 디스크립터의 책임성 - getter, setter로 속성 갱신, 안에 복잡한 로직 넣을 필요 없음\n",
    "# 기본 값에 대한 범위, 타입, 초기값 등 기본적인 데이터 속성만 체크하는 로직이 필요함\n",
    "\n",
    "\n",
    "# 파이썬 추상 클래스 작성하는 법\n",
    "# import abc \n",
    "# class Shape(metaclass = abc.ABCMeta):\n",
    "#     @abc.abstractmethod\n",
    "#     def area(self) :\n",
    "#         pass\n",
    "\n",
    "# Golang 추상 클래스 작성하는 법 \n",
    "# type Animal interface {\n",
    "#   MakeSound()  string\n",
    "# }\n",
    "\n",
    "\n"
   ]
  },
  {
   "cell_type": "code",
   "execution_count": null,
   "id": "dbc8769e",
   "metadata": {},
   "outputs": [],
   "source": []
  },
  {
   "cell_type": "code",
   "execution_count": 287,
   "id": "ecbd628f",
   "metadata": {},
   "outputs": [],
   "source": [
    "# 결과값 : 고객이 \"이름\"만 입력하면 자동으로 고객 정보(홍채, 면허, 핀)가 임의의 DB에 등록되도록 코딩. \n",
    "# 필요 고객 정보 - 유저의 홍채, 면허, 핀 번호 확인\n",
    "# 필요 클래스 구성 : 사람1, 디스크립터1(속성 값 정의 및 갱신), 홍채1, 면허1, 핀1 \n",
    "# 필요 메소드 구성 : SignUp, Register -전송(send), 검증(verify), 확인(confirm), 인증(authenticate) - 데코레이터 처리\n",
    "\n",
    "\n",
    "# 추상 클래스 구성 : 고객(실물), 고객 정보(내용)\n",
    "# 추상 메소드 구성 : 고객 - 가입(sign up), 고객 정보 - 등록(register)\n",
    "\n",
    "# 결과값 - 고객이 \"이름\"만 입력하면 자동으로 고객 정보(홍채, 면허, 핀)이 등록되도록 코딩. "
   ]
  },
  {
   "cell_type": "code",
   "execution_count": 14,
   "id": "e3340802",
   "metadata": {},
   "outputs": [],
   "source": []
  },
  {
   "cell_type": "code",
   "execution_count": 275,
   "id": "bbb53179",
   "metadata": {},
   "outputs": [],
   "source": [
    "# Import abstract class module to create an abstract class\n",
    "import abc\n",
    "# import wraps module to use wraps. \n",
    "from functools import wraps\n"
   ]
  },
  {
   "cell_type": "code",
   "execution_count": 276,
   "id": "c2b57ba9",
   "metadata": {},
   "outputs": [],
   "source": [
    "# Create an abstract class1 : Customer\n",
    "class Customer(metaclass = abc.ABCMeta): \n",
    "    \n",
    "    # Create an abstract method\n",
    "    @abc.abstractmethod\n",
    "    def SignUp(self): \n",
    "        pass\n",
    "\n",
    "    # 추상 클래스(구현 클래스의 구현 메소드를 딱 지정해줌.)\n",
    "    \n",
    "class CustomerInfo(metaclass = abc.ABCMeta): \n",
    "    @abc.abstractmethod\n",
    "    def Register(self):\n",
    "        pass"
   ]
  },
  {
   "cell_type": "code",
   "execution_count": 285,
   "id": "d68f456a",
   "metadata": {},
   "outputs": [],
   "source": [
    "# Create a Person class that inherits abstract class Customer\n",
    "class Person(Customer):\n",
    "    \n",
    "    # Create a descriptor object one by one. \n",
    "    # Descriptor object should be declared as a class attribute. \n",
    "    name = KoskDescriptor()\n",
    "    age = KoskDescriptor()\n",
    "    sex = KoskDescriptor()\n",
    "    \n",
    "    # class Person's attribute name is delivered to descriptor, using __set_name__.\n",
    "    # descriptor returns \"_보호\" + name. \n",
    "    def __init__(self, name, age, sex): \n",
    "        self.name = name    # userA.__dict__ : \"_보호name\"\n",
    "        self.age = age \n",
    "        self.sex = sex\n",
    "    \n",
    "    @property\n",
    "    def SignUp(self): \n",
    "        print(self.name,\"님이 가입하셨습니다.\")\n",
    "\n",
    "# Create a decorator to add functions without editing previous codes.\n",
    "# It would have been a better for the functions to be split each other, \n",
    "# not the way it is described below. \n",
    "# Here, we proceed it this way since its purpose is to demonstrate \n",
    "# a basic approach to understand OOP. \n",
    "def KoskDecorator(KoskFunc): \n",
    "    @wraps(KoskFunc)\n",
    "    def inner(*args, **kwargs):\n",
    "        def Send():\n",
    "            print(\"정보를 SEND하는 중입니다.\")\n",
    "        def Confirm(): \n",
    "            print(\"정보를 CONFIRM하는 중입니다.\")\n",
    "        def Verify(): \n",
    "            print(\"정보를 VERIFY하는 중입니다.\")\n",
    "        def Authenticate():\n",
    "            print(\"정보를 AUTHENTICATE하는 중입니다.\")\n",
    "        KoskFunc(*args, **kwargs)\n",
    "        Send()\n",
    "        Confirm()\n",
    "        Verify()\n",
    "        Authenticate()\n",
    "#         return KoskFunc(*args, **kwargs)\n",
    "    return inner\n",
    "        \n",
    "        \n",
    "# Create Iris, License, Pin class that inherits abstract class CustomerInfo\n",
    "class Iris(CustomerInfo):\n",
    "    irisColor = KoskDescriptor()\n",
    "    def __init__(self, irisColor): \n",
    "        self.irisColor = irisColor\n",
    "    \n",
    "    @property\n",
    "    @KoskDecorator\n",
    "    def Register(self): \n",
    "        print(\"홍채 정보를 등록 중입니다: \", self.irisColor)\n",
    "\n",
    "# Create Iris, License, Pin class that inherits abstract class CustomerInfo\n",
    "class License(CustomerInfo):\n",
    "    date = KoskDescriptor()\n",
    "    def __init__(self, date): \n",
    "        self.date = date\n",
    "        \n",
    "    @property\n",
    "    @KoskDecorator\n",
    "    def Register(self): \n",
    "        print(\"면허 정보를 등록 중입니다: \", self.date)\n",
    "\n",
    "# Create Iris, License, Pin class that inherits abstract class CustomerInfo\n",
    "class Pin(CustomerInfo):\n",
    "    pin = KoskDescriptor()\n",
    "    def __init__(self, pin): \n",
    "        self.pin = pin\n",
    "        \n",
    "    @property\n",
    "    @KoskDecorator\n",
    "    def Register(self): \n",
    "        print(\"핀 정보를 등록 중입니다: \", self.pin)\n",
    "    \n",
    "    "
   ]
  },
  {
   "cell_type": "code",
   "execution_count": 284,
   "id": "4a05dede",
   "metadata": {},
   "outputs": [],
   "source": [
    "# Create a descriptor class\n",
    "class KoskDescriptor:\n",
    "    \n",
    "#     def __init__(self, infoType): \n",
    "#         self.infoType = infoType\n",
    "    \n",
    "    # 보호 테스트 - set name 없을 때\n",
    "    def __set_name__(self, owner, name):\n",
    "        self.name = \"_보호\" + name\n",
    "    \n",
    "    def __get__(self, instance, owner): \n",
    "        print(\"...팀 Kosk DB에서 데이터를 GET하는 중입니다...\")\n",
    "        return instance.__dict__.get(self.name)\n",
    "    \n",
    "    def __set__(self, instance, value):\n",
    "        print(\"...팀 Kosk DB에서 데이터를 SET하는 중입니다...\")\n",
    "        instance.__dict__[self.name] = value"
   ]
  },
  {
   "cell_type": "code",
   "execution_count": 282,
   "id": "38440b57",
   "metadata": {},
   "outputs": [
    {
     "name": "stdout",
     "output_type": "stream",
     "text": [
      "...팀 Kosk DB에서 데이터를 SET하는 중입니다...\n",
      "...팀 Kosk DB에서 데이터를 SET하는 중입니다...\n",
      "...팀 Kosk DB에서 데이터를 SET하는 중입니다...\n"
     ]
    }
   ],
   "source": [
    "userA = Person(\"종현\", 27, \"남성\")"
   ]
  },
  {
   "cell_type": "code",
   "execution_count": 283,
   "id": "53bafccc",
   "metadata": {},
   "outputs": [
    {
     "name": "stdout",
     "output_type": "stream",
     "text": [
      "...팀 Kosk DB에서 데이터를 GET하는 중입니다...\n",
      "종현 님이 가입하셨습니다.\n"
     ]
    }
   ],
   "source": [
    "userA.SignUp"
   ]
  },
  {
   "cell_type": "code",
   "execution_count": 268,
   "id": "d48a677f",
   "metadata": {},
   "outputs": [
    {
     "name": "stdout",
     "output_type": "stream",
     "text": [
      "...팀 Kosk DB에서 데이터를 GET하는 중입니다...\n"
     ]
    },
    {
     "data": {
      "text/plain": [
       "'종현'"
      ]
     },
     "execution_count": 268,
     "metadata": {},
     "output_type": "execute_result"
    }
   ],
   "source": [
    "userA.name"
   ]
  },
  {
   "cell_type": "code",
   "execution_count": 269,
   "id": "6f8c2319",
   "metadata": {},
   "outputs": [
    {
     "name": "stdout",
     "output_type": "stream",
     "text": [
      "...팀 Kosk DB에서 데이터를 GET하는 중입니다...\n"
     ]
    },
    {
     "data": {
      "text/plain": [
       "27"
      ]
     },
     "execution_count": 269,
     "metadata": {},
     "output_type": "execute_result"
    }
   ],
   "source": [
    "userA.age"
   ]
  },
  {
   "cell_type": "code",
   "execution_count": 270,
   "id": "db43f8c8",
   "metadata": {},
   "outputs": [
    {
     "name": "stdout",
     "output_type": "stream",
     "text": [
      "...팀 Kosk DB에서 데이터를 GET하는 중입니다...\n"
     ]
    },
    {
     "data": {
      "text/plain": [
       "'남성'"
      ]
     },
     "execution_count": 270,
     "metadata": {},
     "output_type": "execute_result"
    }
   ],
   "source": [
    "userA.sex"
   ]
  },
  {
   "cell_type": "code",
   "execution_count": 271,
   "id": "11ea2ea4",
   "metadata": {},
   "outputs": [
    {
     "data": {
      "text/plain": [
       "{'_보호name': '종현', '_보호age': 27, '_보호sex': '남성'}"
      ]
     },
     "execution_count": 271,
     "metadata": {},
     "output_type": "execute_result"
    }
   ],
   "source": [
    "userA.__dict__ ;"
   ]
  },
  {
   "cell_type": "code",
   "execution_count": null,
   "id": "a028cd38",
   "metadata": {},
   "outputs": [],
   "source": []
  },
  {
   "cell_type": "code",
   "execution_count": 244,
   "id": "4af57644",
   "metadata": {},
   "outputs": [
    {
     "name": "stdout",
     "output_type": "stream",
     "text": [
      "...팀 Kosk DB에서 데이터를 SET하는 중입니다...\n"
     ]
    }
   ],
   "source": [
    "userIris = Iris(\"갈색\")"
   ]
  },
  {
   "cell_type": "code",
   "execution_count": 245,
   "id": "adc6aa99",
   "metadata": {},
   "outputs": [
    {
     "name": "stdout",
     "output_type": "stream",
     "text": [
      "...팀 Kosk DB에서 데이터를 GET하는 중입니다...\n",
      "홍채 정보를 등록 중입니다:  갈색\n",
      "정보를 SEND하는 중입니다.\n",
      "정보를 CONFIRM하는 중입니다.\n",
      "정보를 VERIFY하는 중입니다.\n",
      "정보를 AUTHENTICATE하는 중입니다.\n"
     ]
    }
   ],
   "source": [
    "userIris.Register"
   ]
  },
  {
   "cell_type": "code",
   "execution_count": 246,
   "id": "88956430",
   "metadata": {},
   "outputs": [
    {
     "name": "stdout",
     "output_type": "stream",
     "text": [
      "...팀 Kosk DB에서 데이터를 SET하는 중입니다...\n"
     ]
    }
   ],
   "source": [
    "userLicense = License(20210717)"
   ]
  },
  {
   "cell_type": "code",
   "execution_count": 247,
   "id": "b44a7520",
   "metadata": {},
   "outputs": [
    {
     "name": "stdout",
     "output_type": "stream",
     "text": [
      "...팀 Kosk DB에서 데이터를 GET하는 중입니다...\n",
      "면허 정보를 등록 중입니다:  20210717\n",
      "정보를 SEND하는 중입니다.\n",
      "정보를 CONFIRM하는 중입니다.\n",
      "정보를 VERIFY하는 중입니다.\n",
      "정보를 AUTHENTICATE하는 중입니다.\n"
     ]
    }
   ],
   "source": [
    "userLicense.Register"
   ]
  },
  {
   "cell_type": "code",
   "execution_count": 288,
   "id": "92c87e5e",
   "metadata": {},
   "outputs": [
    {
     "name": "stdout",
     "output_type": "stream",
     "text": [
      "...팀 Kosk DB에서 데이터를 SET하는 중입니다...\n"
     ]
    }
   ],
   "source": [
    "userPin = Pin(123456789)"
   ]
  },
  {
   "cell_type": "code",
   "execution_count": 289,
   "id": "7235f04e",
   "metadata": {},
   "outputs": [
    {
     "name": "stdout",
     "output_type": "stream",
     "text": [
      "...팀 Kosk DB에서 데이터를 GET하는 중입니다...\n",
      "핀 정보를 등록 중입니다:  123456789\n",
      "정보를 SEND하는 중입니다.\n",
      "정보를 CONFIRM하는 중입니다.\n",
      "정보를 VERIFY하는 중입니다.\n",
      "정보를 AUTHENTICATE하는 중입니다.\n"
     ]
    }
   ],
   "source": [
    "userPin.Register"
   ]
  },
  {
   "cell_type": "code",
   "execution_count": 290,
   "id": "a476e971",
   "metadata": {},
   "outputs": [
    {
     "data": {
      "text/plain": [
       "{'_보호irisColor': '갈색'}"
      ]
     },
     "execution_count": 290,
     "metadata": {},
     "output_type": "execute_result"
    }
   ],
   "source": [
    "userIris.__dict__"
   ]
  },
  {
   "cell_type": "code",
   "execution_count": 253,
   "id": "7e45c512",
   "metadata": {},
   "outputs": [
    {
     "data": {
      "text/plain": [
       "{'_보호date': 20210717}"
      ]
     },
     "execution_count": 253,
     "metadata": {},
     "output_type": "execute_result"
    }
   ],
   "source": [
    "userLicense.__dict__"
   ]
  },
  {
   "cell_type": "code",
   "execution_count": 255,
   "id": "19898493",
   "metadata": {},
   "outputs": [
    {
     "data": {
      "text/plain": [
       "{'_보호pin': 123456789}"
      ]
     },
     "execution_count": 255,
     "metadata": {},
     "output_type": "execute_result"
    }
   ],
   "source": [
    "userPin.__dict__"
   ]
  },
  {
   "cell_type": "code",
   "execution_count": null,
   "id": "b0f5f5e8",
   "metadata": {},
   "outputs": [],
   "source": []
  },
  {
   "cell_type": "code",
   "execution_count": null,
   "id": "dded80fd",
   "metadata": {},
   "outputs": [],
   "source": []
  },
  {
   "cell_type": "code",
   "execution_count": null,
   "id": "abc0c55c",
   "metadata": {},
   "outputs": [],
   "source": []
  },
  {
   "cell_type": "code",
   "execution_count": null,
   "id": "127c0b6d",
   "metadata": {},
   "outputs": [],
   "source": []
  },
  {
   "cell_type": "code",
   "execution_count": null,
   "id": "f5dac8ad",
   "metadata": {},
   "outputs": [],
   "source": []
  },
  {
   "cell_type": "code",
   "execution_count": null,
   "id": "d2bb1f4c",
   "metadata": {},
   "outputs": [],
   "source": []
  },
  {
   "cell_type": "code",
   "execution_count": null,
   "id": "28885e88",
   "metadata": {},
   "outputs": [],
   "source": []
  },
  {
   "cell_type": "code",
   "execution_count": null,
   "id": "85af00b1",
   "metadata": {},
   "outputs": [],
   "source": []
  },
  {
   "cell_type": "code",
   "execution_count": null,
   "id": "799ce4c0",
   "metadata": {},
   "outputs": [],
   "source": []
  },
  {
   "cell_type": "code",
   "execution_count": null,
   "id": "41c10bd2",
   "metadata": {},
   "outputs": [],
   "source": []
  },
  {
   "cell_type": "code",
   "execution_count": null,
   "id": "0b976377",
   "metadata": {},
   "outputs": [],
   "source": []
  },
  {
   "cell_type": "code",
   "execution_count": null,
   "id": "507efc21",
   "metadata": {},
   "outputs": [],
   "source": []
  },
  {
   "cell_type": "code",
   "execution_count": 1,
   "id": "49ef0d6c",
   "metadata": {},
   "outputs": [],
   "source": [
    "# 올바르게 작성된 예시"
   ]
  },
  {
   "cell_type": "code",
   "execution_count": 3,
   "id": "9886098b",
   "metadata": {},
   "outputs": [
    {
     "ename": "NameError",
     "evalue": "name 'Descriptor' is not defined",
     "output_type": "error",
     "traceback": [
      "\u001b[1;31m---------------------------------------------------------------------------\u001b[0m",
      "\u001b[1;31mNameError\u001b[0m                                 Traceback (most recent call last)",
      "\u001b[1;32m<ipython-input-3-5a8affdaf490>\u001b[0m in \u001b[0;36m<module>\u001b[1;34m\u001b[0m\n\u001b[0;32m      1\u001b[0m \u001b[1;31m## 사람에 대한 정보 관리\u001b[0m\u001b[1;33m\u001b[0m\u001b[1;33m\u001b[0m\u001b[1;33m\u001b[0m\u001b[0m\n\u001b[1;32m----> 2\u001b[1;33m \u001b[1;32mclass\u001b[0m \u001b[0mPerson\u001b[0m \u001b[1;33m:\u001b[0m\u001b[1;33m\u001b[0m\u001b[1;33m\u001b[0m\u001b[0m\n\u001b[0m\u001b[0;32m      3\u001b[0m     \u001b[0mname\u001b[0m \u001b[1;33m=\u001b[0m \u001b[0mDescriptor\u001b[0m\u001b[1;33m(\u001b[0m\u001b[0mstr\u001b[0m\u001b[1;33m)\u001b[0m\u001b[1;33m\u001b[0m\u001b[1;33m\u001b[0m\u001b[0m\n\u001b[0;32m      4\u001b[0m     \u001b[0mage\u001b[0m  \u001b[1;33m=\u001b[0m \u001b[0mDescriptor\u001b[0m\u001b[1;33m(\u001b[0m\u001b[0mint\u001b[0m\u001b[1;33m)\u001b[0m\u001b[1;33m\u001b[0m\u001b[1;33m\u001b[0m\u001b[0m\n\u001b[0;32m      5\u001b[0m \u001b[1;33m\u001b[0m\u001b[0m\n",
      "\u001b[1;32m<ipython-input-3-5a8affdaf490>\u001b[0m in \u001b[0;36mPerson\u001b[1;34m()\u001b[0m\n\u001b[0;32m      1\u001b[0m \u001b[1;31m## 사람에 대한 정보 관리\u001b[0m\u001b[1;33m\u001b[0m\u001b[1;33m\u001b[0m\u001b[1;33m\u001b[0m\u001b[0m\n\u001b[0;32m      2\u001b[0m \u001b[1;32mclass\u001b[0m \u001b[0mPerson\u001b[0m \u001b[1;33m:\u001b[0m\u001b[1;33m\u001b[0m\u001b[1;33m\u001b[0m\u001b[0m\n\u001b[1;32m----> 3\u001b[1;33m     \u001b[0mname\u001b[0m \u001b[1;33m=\u001b[0m \u001b[0mDescriptor\u001b[0m\u001b[1;33m(\u001b[0m\u001b[0mstr\u001b[0m\u001b[1;33m)\u001b[0m\u001b[1;33m\u001b[0m\u001b[1;33m\u001b[0m\u001b[0m\n\u001b[0m\u001b[0;32m      4\u001b[0m     \u001b[0mage\u001b[0m  \u001b[1;33m=\u001b[0m \u001b[0mDescriptor\u001b[0m\u001b[1;33m(\u001b[0m\u001b[0mint\u001b[0m\u001b[1;33m)\u001b[0m\u001b[1;33m\u001b[0m\u001b[1;33m\u001b[0m\u001b[0m\n\u001b[0;32m      5\u001b[0m \u001b[1;33m\u001b[0m\u001b[0m\n",
      "\u001b[1;31mNameError\u001b[0m: name 'Descriptor' is not defined"
     ]
    }
   ],
   "source": [
    "## 사람에 대한 정보 관리 \n",
    "class Person :\n",
    "    name = Descriptor(str)\n",
    "    age  = Descriptor(int)\n",
    "    \n",
    "    def __init__(self,name,age) :\n",
    "        self.name = name\n",
    "        self.age = age"
   ]
  },
  {
   "cell_type": "code",
   "execution_count": 4,
   "id": "ceaec0e7",
   "metadata": {},
   "outputs": [
    {
     "ename": "NameError",
     "evalue": "name 'Person' is not defined",
     "output_type": "error",
     "traceback": [
      "\u001b[1;31m---------------------------------------------------------------------------\u001b[0m",
      "\u001b[1;31mNameError\u001b[0m                                 Traceback (most recent call last)",
      "\u001b[1;32m<ipython-input-4-3170f9cc2bbc>\u001b[0m in \u001b[0;36m<module>\u001b[1;34m\u001b[0m\n\u001b[0;32m      1\u001b[0m \u001b[1;31m## 역할 별로 정보관리 나눔\u001b[0m\u001b[1;33m\u001b[0m\u001b[1;33m\u001b[0m\u001b[1;33m\u001b[0m\u001b[0m\n\u001b[1;32m----> 2\u001b[1;33m \u001b[1;32mclass\u001b[0m \u001b[0mStudent\u001b[0m\u001b[1;33m(\u001b[0m\u001b[0mPerson\u001b[0m\u001b[1;33m)\u001b[0m \u001b[1;33m:\u001b[0m\u001b[1;33m\u001b[0m\u001b[1;33m\u001b[0m\u001b[0m\n\u001b[0m\u001b[0;32m      3\u001b[0m     \u001b[0mst_no\u001b[0m \u001b[1;33m=\u001b[0m \u001b[0mDescriptor\u001b[0m\u001b[1;33m(\u001b[0m\u001b[0mint\u001b[0m\u001b[1;33m)\u001b[0m\u001b[1;33m\u001b[0m\u001b[1;33m\u001b[0m\u001b[0m\n\u001b[0;32m      4\u001b[0m     \u001b[1;32mdef\u001b[0m \u001b[0m__init__\u001b[0m\u001b[1;33m(\u001b[0m\u001b[0mself\u001b[0m\u001b[1;33m,\u001b[0m\u001b[0mname\u001b[0m\u001b[1;33m,\u001b[0m\u001b[0mage\u001b[0m\u001b[1;33m,\u001b[0m\u001b[0mst_no\u001b[0m\u001b[1;33m)\u001b[0m \u001b[1;33m:\u001b[0m\u001b[1;33m\u001b[0m\u001b[1;33m\u001b[0m\u001b[0m\n\u001b[0;32m      5\u001b[0m         \u001b[0msuper\u001b[0m\u001b[1;33m(\u001b[0m\u001b[1;33m)\u001b[0m\u001b[1;33m.\u001b[0m\u001b[0m__init__\u001b[0m\u001b[1;33m(\u001b[0m\u001b[0mname\u001b[0m\u001b[1;33m,\u001b[0m\u001b[0mage\u001b[0m\u001b[1;33m)\u001b[0m\u001b[1;33m\u001b[0m\u001b[1;33m\u001b[0m\u001b[0m\n",
      "\u001b[1;31mNameError\u001b[0m: name 'Person' is not defined"
     ]
    }
   ],
   "source": [
    "## 역할 별로 정보관리 나눔\n",
    "class Student(Person) :\n",
    "    # 디스크립터 객체 생성 1 - 학생\n",
    "    st_no = Descriptor(int)\n",
    "    def __init__(self,name,age,st_no) :\n",
    "        super().__init__(name,age)\n",
    "        self.st_no = st_no\n",
    "        \n",
    "        \n",
    "class Professor(Person) :\n",
    "    # 디스크립터 객체 생성 2 - 교수\n",
    "    pr_no = Descriptor(int)\n",
    "    def __init__(self,name,age,pr_no) :\n",
    "        super().__init__(name,age)\n",
    "        self.pr_no = pr_no\n",
    "        \n",
    "\n",
    "class Employee(Person) :\n",
    "    # 디스크립터 객체 생성 3 - 직원\n",
    "    el_no = Descriptor(int)\n",
    "    def __init__(self,name,age,el_no) :\n",
    "        super().__init__(name,age)\n",
    "        self.el_no = el_no"
   ]
  },
  {
   "cell_type": "code",
   "execution_count": null,
   "id": "5a05ac35",
   "metadata": {},
   "outputs": [],
   "source": []
  },
  {
   "cell_type": "code",
   "execution_count": null,
   "id": "976af3a5",
   "metadata": {},
   "outputs": [],
   "source": []
  },
  {
   "cell_type": "code",
   "execution_count": null,
   "id": "6b4c94ca",
   "metadata": {},
   "outputs": [],
   "source": []
  }
 ],
 "metadata": {
  "kernelspec": {
   "display_name": "Python 3",
   "language": "python",
   "name": "python3"
  },
  "language_info": {
   "codemirror_mode": {
    "name": "ipython",
    "version": 3
   },
   "file_extension": ".py",
   "mimetype": "text/x-python",
   "name": "python",
   "nbconvert_exporter": "python",
   "pygments_lexer": "ipython3",
   "version": "3.8.8"
  }
 },
 "nbformat": 4,
 "nbformat_minor": 5
}
