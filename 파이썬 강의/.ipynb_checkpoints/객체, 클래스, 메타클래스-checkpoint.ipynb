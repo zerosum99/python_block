{
 "cells": [
  {
   "cell_type": "markdown",
   "id": "616e714f",
   "metadata": {},
   "source": [
    "## 클래스 정의"
   ]
  },
  {
   "cell_type": "code",
   "execution_count": null,
   "id": "d9285687",
   "metadata": {},
   "outputs": [],
   "source": []
  },
  {
   "cell_type": "code",
   "execution_count": null,
   "id": "cd22dd0d",
   "metadata": {},
   "outputs": [],
   "source": []
  },
  {
   "cell_type": "code",
   "execution_count": null,
   "id": "c093997b",
   "metadata": {},
   "outputs": [],
   "source": []
  },
  {
   "cell_type": "code",
   "execution_count": null,
   "id": "ede08bb1",
   "metadata": {},
   "outputs": [],
   "source": []
  },
  {
   "cell_type": "code",
   "execution_count": null,
   "id": "f5b6d70d",
   "metadata": {},
   "outputs": [],
   "source": []
  },
  {
   "cell_type": "markdown",
   "id": "2f482cb9",
   "metadata": {},
   "source": [
    "## 객체와 인스턴스 구분"
   ]
  },
  {
   "cell_type": "code",
   "execution_count": null,
   "id": "7d1c089a",
   "metadata": {},
   "outputs": [],
   "source": []
  },
  {
   "cell_type": "code",
   "execution_count": null,
   "id": "fd3d35aa",
   "metadata": {},
   "outputs": [],
   "source": []
  },
  {
   "cell_type": "code",
   "execution_count": null,
   "id": "0a3ef942",
   "metadata": {},
   "outputs": [],
   "source": []
  },
  {
   "cell_type": "markdown",
   "id": "730aecff",
   "metadata": {},
   "source": [
    "## 속성과 메소드"
   ]
  },
  {
   "cell_type": "code",
   "execution_count": 1,
   "id": "a45184d1",
   "metadata": {},
   "outputs": [],
   "source": [
    "class Descriptor:\n",
    "    \n",
    "    def __init__(self, type_):\n",
    "        self.type =  type_ \n",
    "        \n",
    "    def __set_name__(self, owner, name ):\n",
    "        self.name = \"_\"+ name\n",
    "        \n",
    "    def __get__(self, instance, owner):\n",
    "        print('get', instance)\n",
    "        return instance.__dict__.get(self.name,self.type()) \n",
    "    \n",
    "    def __set__(self, instance, value):\n",
    "        print('set')\n",
    "        instance.__dict__[self.name] = value"
   ]
  },
  {
   "cell_type": "code",
   "execution_count": 4,
   "id": "ae6ad7a2",
   "metadata": {},
   "outputs": [],
   "source": [
    "class Agreement :\n",
    "    idno = Descriptor(str)\n",
    "    owner_name = Descriptor(str)\n",
    "    \n",
    "    def __init__(self, no, name) :\n",
    "        self.idno = no\n",
    "        self.owner_name = name"
   ]
  },
  {
   "cell_type": "code",
   "execution_count": 5,
   "id": "78e9f0c6",
   "metadata": {},
   "outputs": [
    {
     "name": "stdout",
     "output_type": "stream",
     "text": [
      "set\n",
      "set\n"
     ]
    }
   ],
   "source": [
    "a = Agreement('1234567890001', \"홍길동\")"
   ]
  },
  {
   "cell_type": "code",
   "execution_count": 6,
   "id": "be556e82",
   "metadata": {},
   "outputs": [
    {
     "name": "stdout",
     "output_type": "stream",
     "text": [
      "get <__main__.Agreement object at 0x7f8a00ef34d0>\n"
     ]
    },
    {
     "data": {
      "text/plain": [
       "'1234567890001'"
      ]
     },
     "execution_count": 6,
     "metadata": {},
     "output_type": "execute_result"
    }
   ],
   "source": [
    "a.idno"
   ]
  },
  {
   "cell_type": "code",
   "execution_count": 7,
   "id": "67274643",
   "metadata": {},
   "outputs": [
    {
     "name": "stdout",
     "output_type": "stream",
     "text": [
      "get <__main__.Agreement object at 0x7f8a00ef34d0>\n"
     ]
    },
    {
     "data": {
      "text/plain": [
       "'홍길동'"
      ]
     },
     "execution_count": 7,
     "metadata": {},
     "output_type": "execute_result"
    }
   ],
   "source": [
    "a.owner_name"
   ]
  },
  {
   "cell_type": "code",
   "execution_count": null,
   "id": "efe7d578",
   "metadata": {},
   "outputs": [],
   "source": []
  },
  {
   "cell_type": "markdown",
   "id": "1046a5ac",
   "metadata": {},
   "source": [
    "## 클래스를 만드는 메타 클래스"
   ]
  },
  {
   "cell_type": "code",
   "execution_count": null,
   "id": "322a8729",
   "metadata": {},
   "outputs": [],
   "source": []
  },
  {
   "cell_type": "code",
   "execution_count": null,
   "id": "e075c23f",
   "metadata": {},
   "outputs": [],
   "source": []
  },
  {
   "cell_type": "code",
   "execution_count": null,
   "id": "b9d1339b",
   "metadata": {},
   "outputs": [],
   "source": []
  },
  {
   "cell_type": "markdown",
   "id": "7f1694bc",
   "metadata": {},
   "source": [
    "## 추상클래스"
   ]
  },
  {
   "cell_type": "code",
   "execution_count": null,
   "id": "a3807b6e",
   "metadata": {},
   "outputs": [],
   "source": []
  },
  {
   "cell_type": "code",
   "execution_count": null,
   "id": "2cd64f26",
   "metadata": {},
   "outputs": [],
   "source": []
  }
 ],
 "metadata": {
  "kernelspec": {
   "display_name": "Python 3",
   "language": "python",
   "name": "python3"
  },
  "language_info": {
   "codemirror_mode": {
    "name": "ipython",
    "version": 3
   },
   "file_extension": ".py",
   "mimetype": "text/x-python",
   "name": "python",
   "nbconvert_exporter": "python",
   "pygments_lexer": "ipython3",
   "version": "3.7.10"
  }
 },
 "nbformat": 4,
 "nbformat_minor": 5
}
