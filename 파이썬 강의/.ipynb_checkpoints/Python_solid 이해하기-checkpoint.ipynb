{
 "cells": [
  {
   "cell_type": "markdown",
   "id": "65cdff8a",
   "metadata": {},
   "source": [
    "# SOLID 이해하기\n",
    "\n",
    "- S(Single Responsibility Principle) : 단일책임 원칙\n",
    "- O : 개발/폐쇄의 원칙\n",
    "- L : 리스코프 치환 원칙\n",
    "- I : 인터페이스 분리 원칙\n",
    "- D : 의존성 역전 원칙\n",
    "\n"
   ]
  },
  {
   "cell_type": "markdown",
   "id": "97bd1d1b",
   "metadata": {},
   "source": [
    "# 1.  Single Responsibility Principle) : 단일책임 원칙\n",
    "\n",
    "- 하나의 클래스는 단 하나의 책임만을 가진다. \n",
    "- 즉, 단 하나의 기능만을 가지는 것을 의미하며 해당 기능이 변경될 때에만 클래스가 변경될 수 있다는 뜻이다.\n",
    "\n",
    "- 클래스를 변경해야하는 이유는 오직 하나, 클래스가 가지는 기능이 수정되어야 할 때를 의미한다.\n",
    "\n",
    "- 하나의 기능을 수행하는 클래스는 재사용성이 높아지고, 객체간 결합도가 최소가 된다."
   ]
  },
  {
   "cell_type": "code",
   "execution_count": 1,
   "id": "eba3553b",
   "metadata": {},
   "outputs": [],
   "source": [
    "class Descriptor:\n",
    "    \n",
    "    def __init__(self, type_):\n",
    "        self.type =  type_ \n",
    "        \n",
    "    def __set_name__(self, owner, name ):\n",
    "        self.name = \"_\"+ name\n",
    "        \n",
    "    def __get__(self, instance, owner):\n",
    "        print('get', instance)\n",
    "        return instance.__dict__.get(self.name,self.type()) \n",
    "    \n",
    "    def __set__(self, instance, value):\n",
    "        print('set')\n",
    "        instance.__dict__[self.name] = value"
   ]
  },
  {
   "cell_type": "markdown",
   "id": "47d36f64",
   "metadata": {},
   "source": [
    "## 하나의 클래스로 모든 사람 처리"
   ]
  },
  {
   "cell_type": "code",
   "execution_count": 2,
   "id": "1ae8acbe",
   "metadata": {},
   "outputs": [],
   "source": [
    "class PersonCollege :\n",
    "    name = Descriptor(str)\n",
    "    age  = Descriptor(int)\n",
    "    idno = Descriptor(int)\n",
    "    role = Descriptor(str)\n",
    "    \n",
    "    def __init__(self,name,age,idno,role) :\n",
    "        self.name = name\n",
    "        self.age = age\n",
    "        self.idno = idno\n",
    "        self.role = role"
   ]
  },
  {
   "cell_type": "code",
   "execution_count": 3,
   "id": "c6d78870",
   "metadata": {},
   "outputs": [
    {
     "name": "stdout",
     "output_type": "stream",
     "text": [
      "set\n",
      "set\n",
      "set\n",
      "set\n"
     ]
    }
   ],
   "source": [
    "pc = PersonCollege(\"쓰레기\",30,20210000001,\"직원\")"
   ]
  },
  {
   "cell_type": "code",
   "execution_count": 4,
   "id": "560902a9",
   "metadata": {},
   "outputs": [
    {
     "data": {
      "text/plain": [
       "{'_name': '쓰레기', '_age': 30, '_idno': 20210000001, '_role': '직원'}"
      ]
     },
     "execution_count": 4,
     "metadata": {},
     "output_type": "execute_result"
    }
   ],
   "source": [
    "pc.__dict__"
   ]
  },
  {
   "cell_type": "markdown",
   "id": "a676cab3",
   "metadata": {},
   "source": [
    "## 각 클래스 별로 역할 분리\n",
    "\n",
    "- 책임의 분산"
   ]
  },
  {
   "cell_type": "code",
   "execution_count": 5,
   "id": "9df20f3b",
   "metadata": {},
   "outputs": [],
   "source": [
    "class Person :\n",
    "    name = Descriptor(str)\n",
    "    age  = Descriptor(int)\n",
    "    \n",
    "    def __init__(self,name,age) :\n",
    "        self.name = name\n",
    "        self.age = age"
   ]
  },
  {
   "cell_type": "code",
   "execution_count": 6,
   "id": "5385a9c6",
   "metadata": {},
   "outputs": [
    {
     "name": "stdout",
     "output_type": "stream",
     "text": [
      "set\n",
      "set\n"
     ]
    }
   ],
   "source": [
    "pe = Person(\"사람\",20)"
   ]
  },
  {
   "cell_type": "code",
   "execution_count": 7,
   "id": "a9c42ba3",
   "metadata": {},
   "outputs": [
    {
     "data": {
      "text/plain": [
       "{'_name': '사람', '_age': 20}"
      ]
     },
     "execution_count": 7,
     "metadata": {},
     "output_type": "execute_result"
    }
   ],
   "source": [
    "pe.__dict__"
   ]
  },
  {
   "cell_type": "code",
   "execution_count": 8,
   "id": "ba12430b",
   "metadata": {},
   "outputs": [],
   "source": [
    "class Student(Person) :\n",
    "    st_no = Descriptor(int)\n",
    "    def __init__(self,name,age,st_no) :\n",
    "        super().__init__(name,age)\n",
    "        self.st_no = st_no"
   ]
  },
  {
   "cell_type": "code",
   "execution_count": 9,
   "id": "23b255c6",
   "metadata": {},
   "outputs": [],
   "source": [
    "class Professor(Person) :\n",
    "    pr_no = Descriptor(int)\n",
    "    def __init__(self,name,age,pr_no) :\n",
    "        super().__init__(name,age)\n",
    "        self.pr_no = pr_no"
   ]
  },
  {
   "cell_type": "code",
   "execution_count": 10,
   "id": "509a8023",
   "metadata": {},
   "outputs": [],
   "source": [
    "class Employee(Person) :\n",
    "    el_no = Descriptor(int)\n",
    "    def __init__(self,name,age,el_no) :\n",
    "        super().__init__(name,age)\n",
    "        self.el_no = el_no"
   ]
  },
  {
   "cell_type": "code",
   "execution_count": 11,
   "id": "3481d605",
   "metadata": {},
   "outputs": [
    {
     "name": "stdout",
     "output_type": "stream",
     "text": [
      "set\n",
      "set\n",
      "set\n"
     ]
    }
   ],
   "source": [
    "s = Student(\"가을이\",20,20210000001)"
   ]
  },
  {
   "cell_type": "code",
   "execution_count": 12,
   "id": "ba25cbd8",
   "metadata": {},
   "outputs": [
    {
     "data": {
      "text/plain": [
       "{'_name': '가을이', '_age': 20, '_st_no': 20210000001}"
      ]
     },
     "execution_count": 12,
     "metadata": {},
     "output_type": "execute_result"
    }
   ],
   "source": [
    "s.__dict__"
   ]
  },
  {
   "cell_type": "code",
   "execution_count": 13,
   "id": "0d13035b",
   "metadata": {},
   "outputs": [
    {
     "name": "stdout",
     "output_type": "stream",
     "text": [
      "set\n",
      "set\n",
      "set\n"
     ]
    }
   ],
   "source": [
    "p = Professor(\"구민준\",40,20210000003)"
   ]
  },
  {
   "cell_type": "code",
   "execution_count": 14,
   "id": "88b848d6",
   "metadata": {},
   "outputs": [
    {
     "data": {
      "text/plain": [
       "{'_name': '구민준', '_age': 40, '_pr_no': 20210000003}"
      ]
     },
     "execution_count": 14,
     "metadata": {},
     "output_type": "execute_result"
    }
   ],
   "source": [
    "p.__dict__"
   ]
  },
  {
   "cell_type": "code",
   "execution_count": 15,
   "id": "d52221cf",
   "metadata": {},
   "outputs": [
    {
     "name": "stdout",
     "output_type": "stream",
     "text": [
      "set\n",
      "set\n",
      "set\n"
     ]
    }
   ],
   "source": [
    "e = Employee(\"교직원\",40,20210000002)"
   ]
  },
  {
   "cell_type": "code",
   "execution_count": 16,
   "id": "a5c18c1d",
   "metadata": {},
   "outputs": [
    {
     "data": {
      "text/plain": [
       "{'_name': '교직원', '_age': 40, '_el_no': 20210000002}"
      ]
     },
     "execution_count": 16,
     "metadata": {},
     "output_type": "execute_result"
    }
   ],
   "source": [
    "e.__dict__"
   ]
  },
  {
   "cell_type": "markdown",
   "id": "593aec28",
   "metadata": {},
   "source": [
    "# 2. O(open/close principle): 개방/폐쇄의 원칙\n",
    "\n",
    "- 클래스는 개방 또는 폐쇄되어야 한다\n",
    "- 클래스 설계할 때 캡슐화해 확장헤서 개방되고 수정에는 폐쇄되도록 처리\n",
    "- 모순된 단어의 결합같아 보이지만 그 뜻은 확장성에 대한 개방과 변화에 대한 폐쇄를 말한다.\n",
    "\n",
    "- 이 원칙이 지켜지기 위해서는 확정과 변화의 의미가 엄격하게 구분되어야한다. \n",
    "> 코드의 재사용성을 높이기위함인데 변경될 것과 변하지 않을 것을 구분하는 것이 중요하다.\n",
    "\n",
    "- 수정이 되지 않을 부분은 상위 클래스나 인터페이스로, 수정이 될 부분은 하위 클래스로 관리한다.\n",
    "\n"
   ]
  },
  {
   "cell_type": "markdown",
   "id": "f4ae8d47",
   "metadata": {},
   "source": [
    "## 추상 클래스 사용\n",
    "\n",
    "- 다형성을 가진 객체 지향 프로그래밍을 하기 위해서  추상 클래스를 이용했었습니다. \n",
    "- 모듈들은 고정된 추상화에 의존하기 때문에 수정에 대해서 닫혀 있을 뿐만 아니라\n",
    "- 추상 클래스의 새 파생 클래스를 만드는 것을 통해서도 확장이 가능합니다. \n",
    "- 이렇게 추상화는 개방 폐쇄 원칙의 핵심 요소라고 할 수 있습니다. \n",
    "\n",
    " "
   ]
  },
  {
   "cell_type": "code",
   "execution_count": 17,
   "id": "0623c468",
   "metadata": {},
   "outputs": [],
   "source": [
    "import abc \n",
    "\n",
    "class Shape(metaclass = abc.ABCMeta):\n",
    "    @abc.abstractmethod\n",
    "    def area(self) :\n",
    "        pass"
   ]
  },
  {
   "cell_type": "code",
   "execution_count": 18,
   "id": "22b2498c",
   "metadata": {},
   "outputs": [
    {
     "name": "stdout",
     "output_type": "stream",
     "text": [
      "Can't instantiate abstract class Shape with abstract methods area\n"
     ]
    }
   ],
   "source": [
    "try :\n",
    "    Shape()\n",
    "except Exception as e :\n",
    "    print(e)"
   ]
  },
  {
   "cell_type": "markdown",
   "id": "b494d92a",
   "metadata": {},
   "source": [
    "## 각 클래스 \n",
    "- 개방/폐쇄 원칙은 모듈이 개방되어 있으면서도 폐쇄되어야 한다는 원칙이다. \n",
    "- 다시 말해, 확장 가능하여 새로운 기능을 추가하기 좋게 개방되어 있어야 하며, \n",
    "- 새로 추가한 기능 때문에 기존 코드가 수정되지는 않도록 폐쇄적이어야 한다는 의미이다.\n",
    "\n"
   ]
  },
  {
   "cell_type": "code",
   "execution_count": 19,
   "id": "7f067993",
   "metadata": {},
   "outputs": [],
   "source": [
    "class Rectangle(Shape):\n",
    "    def __init__(self, width, height):\n",
    "        self.width = width\n",
    "        self.height = height\n",
    "\n",
    "    def area(self):\n",
    "        return self.width * self.height"
   ]
  },
  {
   "cell_type": "code",
   "execution_count": 20,
   "id": "c076e923",
   "metadata": {},
   "outputs": [],
   "source": [
    "class Circle(Shape):\n",
    "    def __init__(self, radius):\n",
    "        self.radius = radius\n",
    "        \n",
    "    def area(self):\n",
    "        return 3.14 * self.radius ** 2"
   ]
  },
  {
   "cell_type": "code",
   "execution_count": 21,
   "id": "f8ef3d09",
   "metadata": {},
   "outputs": [],
   "source": [
    "class AreaCalculator:\n",
    "    def __init__(self, shapes):\n",
    "        self.shapes = shapes\n",
    "\n",
    "    def total_area(self):\n",
    "        total = 0\n",
    "        for shape in self.shapes:\n",
    "            total += shape.area()\n",
    "        return total\n"
   ]
  },
  {
   "cell_type": "code",
   "execution_count": 22,
   "id": "cda6d7d0",
   "metadata": {},
   "outputs": [],
   "source": [
    "shapes = [Rectangle(1, 6), Rectangle(2, 3), Circle(5), Circle(7)]"
   ]
  },
  {
   "cell_type": "code",
   "execution_count": 23,
   "id": "adc9534a",
   "metadata": {},
   "outputs": [],
   "source": [
    "calculator = AreaCalculator(shapes)"
   ]
  },
  {
   "cell_type": "code",
   "execution_count": 24,
   "id": "612aaa22",
   "metadata": {},
   "outputs": [
    {
     "data": {
      "text/plain": [
       "244.36"
      ]
     },
     "execution_count": 24,
     "metadata": {},
     "output_type": "execute_result"
    }
   ],
   "source": [
    "calculator.total_area()"
   ]
  },
  {
   "cell_type": "code",
   "execution_count": null,
   "id": "1ae87cc2",
   "metadata": {},
   "outputs": [],
   "source": []
  },
  {
   "cell_type": "code",
   "execution_count": null,
   "id": "4041bc28",
   "metadata": {},
   "outputs": [],
   "source": []
  },
  {
   "cell_type": "markdown",
   "id": "1c16e3df",
   "metadata": {},
   "source": [
    "# 3. L : 리스코프 치환 원칙 Liskov Substitution Principle\n",
    "\n",
    "- 자식 클래스는 언제나 자신의 부모 클래스로 교체될 수 있다는 원칙이다.\n",
    "\n",
    "- 자식 클래스가 어떻게 구현이 되었든 부모 클래스를 알면 사용이 가능하여야한다.\n",
    "\n",
    "\n"
   ]
  },
  {
   "cell_type": "code",
   "execution_count": null,
   "id": "2669d7e1",
   "metadata": {},
   "outputs": [],
   "source": []
  },
  {
   "cell_type": "code",
   "execution_count": 25,
   "id": "0fe3213f",
   "metadata": {},
   "outputs": [],
   "source": [
    "class Employee:\n",
    "    \"\"\"직원 클래스\"\"\"\n",
    "    company_name = \"스타커피\"\n",
    "    raise_percentage = 1.02\n",
    "\n",
    "    def __init__(self, name, wage):\n",
    "        self.name = name\n",
    "        self._wage = wage\n",
    "\n",
    "    def raise_pay(self):\n",
    "        \"\"\"직원 시급을 인상하는 메소드\"\"\"\n",
    "        self._wage *= self.raise_percentage\n",
    "\n",
    "    @property\n",
    "    def wage(self):\n",
    "        return self._wage\n",
    "\n",
    "    def __str__(self):\n",
    "        \"\"\"직원 정보를 문자열로 리턴하는 메소드\"\"\"\n",
    "        return Employee.company_name + \" 직원: \" + self.name\n"
   ]
  },
  {
   "cell_type": "markdown",
   "id": "91c53a7a",
   "metadata": {},
   "source": [
    "##  형식적 측면\n",
    "- 자식 클래스가 오버라이딩하는 변수와 메소드가 부모 클래스에 있는 형식과 일치해야 한다\n",
    "- 변수: 타입, 메소드: 파라미터와 리턴값의 타입 및 개수지키지 않으면 에러가 난다\n",
    "\n",
    "\n",
    "## 내용적 측면\n",
    "- 자식 클래스가 부모 클래스의 메소드에 담긴 의도 즉, 행동 규약을 위반하지 않는다\n",
    "- 위반해도 실행에 에러가 나진 않는다그러나, 의도하지 않은 결과가 나온다"
   ]
  },
  {
   "cell_type": "code",
   "execution_count": 26,
   "id": "ab1653e6",
   "metadata": {},
   "outputs": [],
   "source": [
    "class Cashier(Employee):\n",
    "    \"\"\"리스코프 치환 원칙을 지키지 않는 계산대 직원 클래스\"\"\"\n",
    "    coffee_price = 3000\n",
    "\n",
    "    def __init__(self, name, wage, number_sold=0):\n",
    "        super().__init__(name, wage)\n",
    "        self.number_sold = number_sold\n",
    "        self.raise_amount = 0\n",
    "\n",
    "    # def raise_pay(self, raise_amount):\n",
    "    #    \"\"\"직원 시급을 인상하는 메소드\"\"\"\n",
    "    #    self.wage += self.raise_amount\n",
    "    \n",
    "    def set_raise_amont(self, amount) :\n",
    "        self.raise_amount = amount\n",
    "    \n",
    "    def raise_pay(self) :\n",
    "        self._wage += self.raise_amount"
   ]
  },
  {
   "cell_type": "code",
   "execution_count": 27,
   "id": "02438282",
   "metadata": {},
   "outputs": [],
   "source": [
    "employee_1 = Employee(\"타키탸키\", 8000)\n",
    "employee_2 = Employee(\"파이리\", 6000)\n",
    "\n",
    "cashier = Cashier(\"고질라\", 9000)"
   ]
  },
  {
   "cell_type": "code",
   "execution_count": 28,
   "id": "ae81073d",
   "metadata": {},
   "outputs": [],
   "source": [
    "employee_list = []\n",
    "employee_list.append(employee_1)\n",
    "employee_list.append(employee_2)\n",
    "employee_list.append(cashier)"
   ]
  },
  {
   "cell_type": "code",
   "execution_count": 29,
   "id": "94623807",
   "metadata": {},
   "outputs": [],
   "source": [
    "for employee in employee_list:\n",
    "    employee.raise_pay()\n"
   ]
  },
  {
   "cell_type": "code",
   "execution_count": 30,
   "id": "73271dbf",
   "metadata": {},
   "outputs": [
    {
     "name": "stdout",
     "output_type": "stream",
     "text": [
      "23280.0\n"
     ]
    }
   ],
   "source": [
    "\n",
    "total_wage = 0\n",
    "\n",
    "for employee in employee_list:\n",
    "    total_wage += employee.wage\n",
    "\n",
    "print(total_wage)"
   ]
  },
  {
   "cell_type": "code",
   "execution_count": null,
   "id": "756b4609",
   "metadata": {},
   "outputs": [],
   "source": []
  },
  {
   "cell_type": "code",
   "execution_count": null,
   "id": "2eedbdf9",
   "metadata": {},
   "outputs": [],
   "source": []
  },
  {
   "cell_type": "markdown",
   "id": "67eb7447",
   "metadata": {},
   "source": [
    "# 4. I : 인터페이스 분리 원칙 Interface Segregation Principle\n",
    "\n",
    "- 하나의 일반적인 인터페이스보다는, 여러 개의 구체적인 인터페이스를 구현해서 사용해야 한다는 원칙이다.\n",
    "\n",
    "- 자신이 사용하지 않는 매서드에 의존하지 않아야하며, 필요한 인터페이스에만 의존해야 한다.\n",
    "\n",
    "- 인터페이스에서의 단일 책임 원칙이라고도 볼 수 있다.\n"
   ]
  },
  {
   "cell_type": "code",
   "execution_count": 31,
   "id": "34a23b3c",
   "metadata": {},
   "outputs": [],
   "source": [
    "class DepsitMixin :\n",
    "    def deposit(self, amount) :\n",
    "        self.total += amount"
   ]
  },
  {
   "cell_type": "code",
   "execution_count": 32,
   "id": "9269684a",
   "metadata": {},
   "outputs": [],
   "source": [
    "class WithDrawMixin :\n",
    "    def withdraw(self, amount) :\n",
    "        self.total -= amount"
   ]
  },
  {
   "cell_type": "code",
   "execution_count": 33,
   "id": "ee435275",
   "metadata": {},
   "outputs": [],
   "source": [
    "class AccountP (DepsitMixin, WithDrawMixin):\n",
    "    total = Descriptor(int)\n",
    "    def __init__(self,amount) :\n",
    "        self.deposit(amount)"
   ]
  },
  {
   "cell_type": "code",
   "execution_count": 34,
   "id": "a38f8493",
   "metadata": {},
   "outputs": [],
   "source": [
    "class AccountS (DepsitMixin, WithDrawMixin):\n",
    "    total = Descriptor(int)\n",
    "    def __init__(self,amount) :\n",
    "        self.deposit(amount)"
   ]
  },
  {
   "cell_type": "code",
   "execution_count": 35,
   "id": "30c35c1f",
   "metadata": {},
   "outputs": [
    {
     "name": "stdout",
     "output_type": "stream",
     "text": [
      "get <__main__.AccountP object at 0x7fd4d822bf50>\n",
      "set\n"
     ]
    }
   ],
   "source": [
    "atp = AccountP(1000)"
   ]
  },
  {
   "cell_type": "code",
   "execution_count": 36,
   "id": "9705ed39",
   "metadata": {},
   "outputs": [
    {
     "name": "stdout",
     "output_type": "stream",
     "text": [
      "get <__main__.AccountS object at 0x7fd4d81beb10>\n",
      "set\n"
     ]
    }
   ],
   "source": [
    "ats = AccountS(1000)"
   ]
  },
  {
   "cell_type": "markdown",
   "id": "d8d091ff",
   "metadata": {},
   "source": [
    "##  구체적인 인터페이스로 분리\n",
    "\n",
    "- 인터페이스 분리 원칙(ISP)은, 클라이언트가 자신이 이용하지 않는 메소드에 의존하면 안된다라는 원칙이다.\n"
   ]
  },
  {
   "cell_type": "code",
   "execution_count": 37,
   "id": "9f0505ba",
   "metadata": {},
   "outputs": [],
   "source": [
    "def deposit(obj,amount) :\n",
    "    return obj.deposit(amount)\n",
    "\n",
    "def withdraw(obj,amount) :\n",
    "    return obj.withdraw(amount)"
   ]
  },
  {
   "cell_type": "code",
   "execution_count": 38,
   "id": "20a453f1",
   "metadata": {},
   "outputs": [
    {
     "name": "stdout",
     "output_type": "stream",
     "text": [
      "get <__main__.AccountP object at 0x7fd4d822bf50>\n",
      "set\n"
     ]
    }
   ],
   "source": [
    "deposit(atp, 2000)"
   ]
  },
  {
   "cell_type": "code",
   "execution_count": 39,
   "id": "55e272fe",
   "metadata": {},
   "outputs": [
    {
     "name": "stdout",
     "output_type": "stream",
     "text": [
      "get <__main__.AccountS object at 0x7fd4d81beb10>\n",
      "set\n"
     ]
    }
   ],
   "source": [
    "deposit(ats, 3000)"
   ]
  },
  {
   "cell_type": "code",
   "execution_count": 40,
   "id": "e4174005",
   "metadata": {},
   "outputs": [
    {
     "data": {
      "text/plain": [
       "({'_total': 3000}, {'_total': 4000})"
      ]
     },
     "execution_count": 40,
     "metadata": {},
     "output_type": "execute_result"
    }
   ],
   "source": [
    "atp.__dict__, ats.__dict__"
   ]
  },
  {
   "cell_type": "code",
   "execution_count": 41,
   "id": "96dd6cad",
   "metadata": {},
   "outputs": [
    {
     "name": "stdout",
     "output_type": "stream",
     "text": [
      "get <__main__.AccountP object at 0x7fd4d822bf50>\n",
      "set\n"
     ]
    }
   ],
   "source": [
    "withdraw(atp,500)"
   ]
  },
  {
   "cell_type": "code",
   "execution_count": 42,
   "id": "40f77d16",
   "metadata": {},
   "outputs": [
    {
     "name": "stdout",
     "output_type": "stream",
     "text": [
      "get <__main__.AccountS object at 0x7fd4d81beb10>\n",
      "set\n"
     ]
    }
   ],
   "source": [
    "withdraw(ats,500)"
   ]
  },
  {
   "cell_type": "code",
   "execution_count": 43,
   "id": "3a75300a",
   "metadata": {},
   "outputs": [
    {
     "data": {
      "text/plain": [
       "({'_total': 2500}, {'_total': 3500})"
      ]
     },
     "execution_count": 43,
     "metadata": {},
     "output_type": "execute_result"
    }
   ],
   "source": [
    "atp.__dict__, ats.__dict__"
   ]
  },
  {
   "cell_type": "markdown",
   "id": "13b10925",
   "metadata": {},
   "source": [
    "# 5. D : 의존성 역전 원칙 Dependency Inversion Principle\n",
    "\n",
    "- 상위 클래스가 하위 클래스에 의존하는 것을 말하는데, 하위 클래스의 변경이 상위 클래스에 영향을 미치도록하여 의미상 관계를 역전 시키는 것이다.\n",
    "\n",
    "- 실제로 상위-하위 관계가 변경되지는 않지만 상위-하위 관계를 최대한 유연하게 설계하기 위함이다."
   ]
  },
  {
   "cell_type": "code",
   "execution_count": null,
   "id": "d84a3109",
   "metadata": {},
   "outputs": [],
   "source": []
  },
  {
   "cell_type": "code",
   "execution_count": 44,
   "id": "ec7ddaff",
   "metadata": {},
   "outputs": [],
   "source": [
    "class IFood(metaclass = abc.ABCMeta):\n",
    "    @abc.abstractmethod\n",
    "    def bake(self): \n",
    "        pass\n",
    "    @abc.abstractmethod\n",
    "    def eat(self): \n",
    "        pass"
   ]
  },
  {
   "cell_type": "code",
   "execution_count": 45,
   "id": "b6da5f35",
   "metadata": {},
   "outputs": [],
   "source": [
    "class Bread(IFood):\n",
    "    def bake(self):\n",
    "        print(\"Bread was baked\")\n",
    "    def eat(self):\n",
    "        print(\"Bread was eaten\")"
   ]
  },
  {
   "cell_type": "code",
   "execution_count": 46,
   "id": "a86195a8",
   "metadata": {},
   "outputs": [],
   "source": [
    "class Pastry(IFood):\n",
    "    def bake(self):\n",
    "        print(\"Pastry was baked\")\n",
    "    def eat(self):\n",
    "        print(\"Pastry was eaten\")"
   ]
  },
  {
   "cell_type": "markdown",
   "id": "fe1806d5",
   "metadata": {},
   "source": [
    "## 의존성 주입이란 \n",
    "\n",
    "- 프로그래밍에서 구성요소간의 의존 관계가 소스코드 내부가 아닌 외부로부터 오도록 하는건데...\n",
    "\n",
    "- 유형은 다음과 같다.\n",
    "\n",
    "> 생성자 주입\n",
    "\n",
    "> setter를 통한 주입\n",
    "\n",
    "> 인터페이스를 통한 주입\n",
    "\n",
    "- 장점\n",
    "\n",
    "> 결합도 낮음\n",
    "\n",
    "> 재사용성\n",
    "\n",
    "> 테스트 편의성"
   ]
  },
  {
   "cell_type": "code",
   "execution_count": 47,
   "id": "e7944697",
   "metadata": {},
   "outputs": [],
   "source": [
    "class Production:\n",
    "    def __init__(self, food): # 구현클래스의 객체 전달\n",
    "        self.food = food # this is also dependnecy injection, as it is a parameter not hardcoded\n",
    "    def produce(self):\n",
    "        self.food.bake()  # uses only the common interface\n",
    "    def consume(self):\n",
    "        self.food.eat()  # uses only the common interface\n"
   ]
  },
  {
   "cell_type": "code",
   "execution_count": 48,
   "id": "2b0de6d7",
   "metadata": {},
   "outputs": [],
   "source": [
    "ProduceBread = Production(Bread())"
   ]
  },
  {
   "cell_type": "code",
   "execution_count": 49,
   "id": "99c4d299",
   "metadata": {},
   "outputs": [],
   "source": [
    "ProducePastry = Production(Pastry())"
   ]
  },
  {
   "cell_type": "code",
   "execution_count": null,
   "id": "d0e4393f",
   "metadata": {},
   "outputs": [],
   "source": []
  }
 ],
 "metadata": {
  "kernelspec": {
   "display_name": "Python 3",
   "language": "python",
   "name": "python3"
  },
  "language_info": {
   "codemirror_mode": {
    "name": "ipython",
    "version": 3
   },
   "file_extension": ".py",
   "mimetype": "text/x-python",
   "name": "python",
   "nbconvert_exporter": "python",
   "pygments_lexer": "ipython3",
   "version": "3.7.10"
  }
 },
 "nbformat": 4,
 "nbformat_minor": 5
}
