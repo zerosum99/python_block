{
 "cells": [
  {
   "cell_type": "markdown",
   "id": "d6c918f1",
   "metadata": {},
   "source": [
    "# 변수란\n",
    "\n",
    "- 프로그램에서 특정 값을 관리하는 공간이며 이를 관리하는 이름이다.\n",
    "- 변수를 사용하려면 먼저 정의하고 참조해야한다."
   ]
  },
  {
   "cell_type": "markdown",
   "id": "4ecc0481",
   "metadata": {},
   "source": [
    "## 1. 변수의 정의\n",
    "\n",
    "- 변수는 하나의 식별자라 모듈, 함수, 클래스 내에 정의가 가능하다.\n",
    "- 변수에는 함수를 정의할 때 사용하는 매개변수, 함수 내부에 정의하는 지역변수\n",
    "- 모듈에 정의하는 전역변수, 클래스 내부에 정의하는 속성 또는 필드 라는 이름으로 사용된다."
   ]
  },
  {
   "cell_type": "markdown",
   "id": "9f320f4e",
   "metadata": {},
   "source": [
    "### 변수는 반드시 값을 할당해야 정의된다.\n",
    "\n",
    "- 파이썬에서는 변수 정의할 때 별도의 키워드가 없다.\n"
   ]
  },
  {
   "cell_type": "markdown",
   "id": "a844e922",
   "metadata": {},
   "source": [
    "### 변수에 타입을 지정할 수 있지만 값을 할당하지 않으면 변수로 취급하지 않는다.\n",
    "- 하나의 주석으로 인식"
   ]
  },
  {
   "cell_type": "code",
   "execution_count": 1,
   "id": "213764d1",
   "metadata": {},
   "outputs": [],
   "source": [
    "var : int"
   ]
  },
  {
   "cell_type": "code",
   "execution_count": 2,
   "id": "ea37ece5",
   "metadata": {},
   "outputs": [
    {
     "name": "stdout",
     "output_type": "stream",
     "text": [
      "name 'var' is not defined\n"
     ]
    }
   ],
   "source": [
    "try :\n",
    "    var\n",
    "except Exception as e :\n",
    "    print(e)"
   ]
  },
  {
   "cell_type": "markdown",
   "id": "5f677b18",
   "metadata": {},
   "source": [
    "### 변수에 값을 할당하면 저장된다."
   ]
  },
  {
   "cell_type": "code",
   "execution_count": 3,
   "id": "6a37b666",
   "metadata": {},
   "outputs": [],
   "source": [
    "var = 100"
   ]
  },
  {
   "cell_type": "code",
   "execution_count": 4,
   "id": "5e544009",
   "metadata": {},
   "outputs": [
    {
     "data": {
      "text/plain": [
       "100"
      ]
     },
     "execution_count": 4,
     "metadata": {},
     "output_type": "execute_result"
    }
   ],
   "source": [
    "var"
   ]
  },
  {
   "cell_type": "markdown",
   "id": "c65235dd",
   "metadata": {},
   "source": [
    "### 주피터 노트북 파일은 하나의 모듈로 인식"
   ]
  },
  {
   "cell_type": "code",
   "execution_count": 10,
   "id": "86abb255",
   "metadata": {},
   "outputs": [
    {
     "data": {
      "text/plain": [
       "100"
      ]
     },
     "execution_count": 10,
     "metadata": {},
     "output_type": "execute_result"
    }
   ],
   "source": [
    "globals()['var']"
   ]
  },
  {
   "cell_type": "code",
   "execution_count": 11,
   "id": "f6eef928",
   "metadata": {},
   "outputs": [
    {
     "data": {
      "text/plain": [
       "200"
      ]
     },
     "execution_count": 11,
     "metadata": {},
     "output_type": "execute_result"
    }
   ],
   "source": [
    "globals()['var'] + 100"
   ]
  },
  {
   "cell_type": "code",
   "execution_count": 12,
   "id": "49cd2c8e",
   "metadata": {},
   "outputs": [
    {
     "data": {
      "text/plain": [
       "200"
      ]
     },
     "execution_count": 12,
     "metadata": {},
     "output_type": "execute_result"
    }
   ],
   "source": [
    "var + 100"
   ]
  },
  {
   "cell_type": "markdown",
   "id": "097e399a",
   "metadata": {},
   "source": [
    "## 2. 변수의 참조\n",
    "\n",
    "- 변수가 정의된 이후 변수 이름을 사용하면 변수에 저장된 값을 조회해서 참조한다.\n"
   ]
  },
  {
   "cell_type": "markdown",
   "id": "f826c115",
   "metadata": {},
   "source": [
    "### 변수의 이름에는 규칙이 있다.\n",
    "- 첫번째 단어에는 숫자는 불가\n",
    "- 영문자나 _ 가 가능, 한글도 가능\n",
    "- 보통 변수이름은 소문자를 사용한다.\n",
    "- 파이썬은 상수라는 개념이 없고 일반적으로 영어 대문자로 이름을 지정하면 상수로 처리한다"
   ]
  },
  {
   "cell_type": "code",
   "execution_count": 5,
   "id": "09d81194",
   "metadata": {},
   "outputs": [],
   "source": [
    "변수명 = 100"
   ]
  },
  {
   "cell_type": "code",
   "execution_count": 6,
   "id": "1a937f98",
   "metadata": {},
   "outputs": [
    {
     "data": {
      "text/plain": [
       "100"
      ]
     },
     "execution_count": 6,
     "metadata": {},
     "output_type": "execute_result"
    }
   ],
   "source": [
    "변수명"
   ]
  },
  {
   "cell_type": "markdown",
   "id": "2a6ec9c5",
   "metadata": {},
   "source": [
    "### 할당연산자 다음의 변수명을 사용하면 먼저 참조해서 처리한다."
   ]
  },
  {
   "cell_type": "code",
   "execution_count": 7,
   "id": "a4f07f9a",
   "metadata": {},
   "outputs": [],
   "source": [
    "x = 변수명"
   ]
  },
  {
   "cell_type": "code",
   "execution_count": 8,
   "id": "46e860d8",
   "metadata": {},
   "outputs": [
    {
     "data": {
      "text/plain": [
       "100"
      ]
     },
     "execution_count": 8,
     "metadata": {},
     "output_type": "execute_result"
    }
   ],
   "source": [
    "x"
   ]
  },
  {
   "cell_type": "code",
   "execution_count": null,
   "id": "7b1f02ea",
   "metadata": {},
   "outputs": [],
   "source": []
  },
  {
   "cell_type": "markdown",
   "id": "b2f9414a",
   "metadata": {},
   "source": [
    "## 3. 변수에 값 할당\n",
    "\n",
    "- 변수의 값을 변경할 때는 할당연산자를 사용해서 새로운 값을 할당할 수 있다."
   ]
  },
  {
   "cell_type": "markdown",
   "id": "8e1ea999",
   "metadata": {},
   "source": [
    "### 동일한 값 할당할 때\n",
    "- 변수와 할당 연산자를 여러 개 사용해서 값을 할당"
   ]
  },
  {
   "cell_type": "code",
   "execution_count": 13,
   "id": "6512e49f",
   "metadata": {},
   "outputs": [],
   "source": [
    "x = y = z = 100"
   ]
  },
  {
   "cell_type": "code",
   "execution_count": 14,
   "id": "c986b7ab",
   "metadata": {},
   "outputs": [
    {
     "data": {
      "text/plain": [
       "(100, 100, 100)"
      ]
     },
     "execution_count": 14,
     "metadata": {},
     "output_type": "execute_result"
    }
   ],
   "source": [
    "x, y, z"
   ]
  },
  {
   "cell_type": "markdown",
   "id": "9a28b4c7",
   "metadata": {},
   "source": [
    "###  변수를 콤마로 구분해서 처리할 때 주의\n",
    "- 파이썬은 콤마로 분리하면 튜플로 처리하므로 여러 변수를 지정하고 값을 하나만 할당하면 예외를 발생한다."
   ]
  },
  {
   "cell_type": "code",
   "execution_count": 16,
   "id": "a9b95c17",
   "metadata": {},
   "outputs": [
    {
     "name": "stdout",
     "output_type": "stream",
     "text": [
      "cannot unpack non-iterable int object\n"
     ]
    }
   ],
   "source": [
    "try :\n",
    "    \n",
    "   a,b,c = 100\n",
    "except Exception as e :\n",
    "    print(e)"
   ]
  },
  {
   "cell_type": "markdown",
   "id": "f009e1f8",
   "metadata": {},
   "source": [
    "### 튜를을 만들어서 여러 변수에 값을 나누기\n",
    "\n",
    "- 튜플은 여러 원소를 가지는 하나의 자료구조이다.\n",
    "- 튜플은 한번 생성되면 변경이 불가능하다."
   ]
  },
  {
   "cell_type": "code",
   "execution_count": 19,
   "id": "cfeedec0",
   "metadata": {},
   "outputs": [],
   "source": [
    "t = tuple([1,2,3])"
   ]
  },
  {
   "cell_type": "code",
   "execution_count": 20,
   "id": "c722f35f",
   "metadata": {},
   "outputs": [],
   "source": [
    "a,b,c = t"
   ]
  },
  {
   "cell_type": "code",
   "execution_count": 21,
   "id": "240a4650",
   "metadata": {},
   "outputs": [
    {
     "data": {
      "text/plain": [
       "(1, 2, 3)"
      ]
     },
     "execution_count": 21,
     "metadata": {},
     "output_type": "execute_result"
    }
   ],
   "source": [
    "a,b,c"
   ]
  },
  {
   "cell_type": "markdown",
   "id": "4ecbdd12",
   "metadata": {},
   "source": [
    "### 두 개의 변수의 값을 변경하기\n",
    "\n",
    "- 두 개의 문장을 한 줄에 사용할 때는 세미콜론을 붙여서 문장을 분리 표시를 한다\n",
    "- 보통 프로그램 언어는 임시변수를 사용해서 변경될 변수의 값을 저장시킨다."
   ]
  },
  {
   "cell_type": "code",
   "execution_count": 23,
   "id": "90faba9e",
   "metadata": {},
   "outputs": [],
   "source": [
    "x = 100 ; y = 200"
   ]
  },
  {
   "cell_type": "code",
   "execution_count": 24,
   "id": "a5b5acc0",
   "metadata": {},
   "outputs": [],
   "source": [
    "temp = x\n",
    "x = y\n",
    "y = temp"
   ]
  },
  {
   "cell_type": "code",
   "execution_count": 25,
   "id": "ba5d5eb8",
   "metadata": {},
   "outputs": [
    {
     "data": {
      "text/plain": [
       "(200, 100)"
      ]
     },
     "execution_count": 25,
     "metadata": {},
     "output_type": "execute_result"
    }
   ],
   "source": [
    "x, y"
   ]
  },
  {
   "cell_type": "markdown",
   "id": "3843990d",
   "metadata": {},
   "source": [
    "### 파이썬은 콤마가 튜플이므로 별도의 임시변수가 없이도 두 변수의 값을 교환한다"
   ]
  },
  {
   "cell_type": "code",
   "execution_count": 26,
   "id": "b54af282",
   "metadata": {},
   "outputs": [],
   "source": [
    "x = 100 ; y = 200"
   ]
  },
  {
   "cell_type": "code",
   "execution_count": 27,
   "id": "ada70cb9",
   "metadata": {},
   "outputs": [],
   "source": [
    "x,y = y,x"
   ]
  },
  {
   "cell_type": "code",
   "execution_count": 28,
   "id": "c2091eb3",
   "metadata": {},
   "outputs": [
    {
     "data": {
      "text/plain": [
       "(200, 100)"
      ]
     },
     "execution_count": 28,
     "metadata": {},
     "output_type": "execute_result"
    }
   ],
   "source": [
    "x,y"
   ]
  },
  {
   "cell_type": "markdown",
   "id": "a7e00f30",
   "metadata": {},
   "source": [
    "## 4. 값의 표현 이해하기\n",
    "\n",
    "- 보통 수학의 숫자, 문자열 등 다양한 대상을 값으로 인식하고 변수에 할당할 수 있다.\n",
    "- 또한 수식으로 표현된 것은 수식의 결과를 하나의 값으로 인식해서 변수에 저장된다.\n"
   ]
  },
  {
   "cell_type": "markdown",
   "id": "0f27a2fc",
   "metadata": {},
   "source": [
    "### 변수에 할당하는 것은 값이다.\n",
    "\n",
    "- 하나의 값으로 된 경우는 리터럴이라고 부른다.\n",
    "- 이 리터럴과 연산자가 포함된 것을 표현식이라고 부른다.\n",
    "- 표현식은 여러 문장으로 구성할 수 있다. 이때는 람다 표현식을 사용한다.\n"
   ]
  },
  {
   "cell_type": "code",
   "execution_count": 29,
   "id": "f0b7bcd4",
   "metadata": {},
   "outputs": [],
   "source": [
    "ax = 1 + 20+ 30 * 2"
   ]
  },
  {
   "cell_type": "code",
   "execution_count": 30,
   "id": "68074cdf",
   "metadata": {},
   "outputs": [
    {
     "data": {
      "text/plain": [
       "81"
      ]
     },
     "execution_count": 30,
     "metadata": {},
     "output_type": "execute_result"
    }
   ],
   "source": [
    "ax"
   ]
  },
  {
   "cell_type": "code",
   "execution_count": null,
   "id": "cecd8c6b",
   "metadata": {},
   "outputs": [],
   "source": []
  }
 ],
 "metadata": {
  "kernelspec": {
   "display_name": "Python 3",
   "language": "python",
   "name": "python3"
  },
  "language_info": {
   "codemirror_mode": {
    "name": "ipython",
    "version": 3
   },
   "file_extension": ".py",
   "mimetype": "text/x-python",
   "name": "python",
   "nbconvert_exporter": "python",
   "pygments_lexer": "ipython3",
   "version": "3.7.10"
  }
 },
 "nbformat": 4,
 "nbformat_minor": 5
}
