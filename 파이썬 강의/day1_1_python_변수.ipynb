{
 "cells": [
  {
   "cell_type": "markdown",
   "id": "f37c87e3",
   "metadata": {},
   "source": [
    "# 1. 개발환경"
   ]
  },
  {
   "cell_type": "markdown",
   "id": "39bab5c4",
   "metadata": {},
   "source": [
    "## 아나콘다 란 \n",
    "\n",
    "- 데이터 분석을 위한 가상환경을 구축할 수 있는 오픈소스\n",
    "- 내부에 주피터 노트북 등 개발 툴을 제공해 다양한 환경에서 데이터 분석을 지원한다. \n",
    "\n",
    "## https://www.anaconda.com/products/individual"
   ]
  },
  {
   "cell_type": "markdown",
   "id": "3f537c98",
   "metadata": {},
   "source": [
    "## 주피터노트북 사용하기\n",
    "\n",
    "- 웹 브라우저 개발 툴이며 데이터 분석에 많이 사용.\n",
    "- 파이썬 이외에도 여러 언어가 가능한 오픈소스 "
   ]
  },
  {
   "cell_type": "code",
   "execution_count": null,
   "id": "036db194",
   "metadata": {},
   "outputs": [],
   "source": []
  },
  {
   "cell_type": "code",
   "execution_count": 1,
   "id": "89a4819a",
   "metadata": {},
   "outputs": [
    {
     "name": "stdout",
     "output_type": "stream",
     "text": [
      "Hello World\n"
     ]
    }
   ],
   "source": [
    "print(\"Hello World\")"
   ]
  },
  {
   "cell_type": "markdown",
   "id": "098e7018",
   "metadata": {},
   "source": [
    "## 파이썬 모듈 작성\n",
    "\n",
    "- %% 명령어는 헤더 부분 아래의 여러 줄을 작성가능\n",
    "- %%writefile 은 다양한 파일을 만들 수 있다."
   ]
  },
  {
   "cell_type": "code",
   "execution_count": 2,
   "id": "097755f5",
   "metadata": {},
   "outputs": [
    {
     "name": "stdout",
     "output_type": "stream",
     "text": [
      "Overwriting helloworld.py\n"
     ]
    }
   ],
   "source": [
    "%%writefile helloworld.py\n",
    "\n",
    "print(\" Hello World \")"
   ]
  },
  {
   "cell_type": "markdown",
   "id": "f87d3129",
   "metadata": {},
   "source": [
    "## 디렉토리 확인\n",
    "\n",
    "- % 명령어는 os 명령어를 처리할 수 있다."
   ]
  },
  {
   "cell_type": "code",
   "execution_count": 3,
   "id": "60760262",
   "metadata": {},
   "outputs": [
    {
     "name": "stdout",
     "output_type": "stream",
     "text": [
      "\u001b[34m__pycache__\u001b[m\u001b[m/\r\n",
      "aaa.py\r\n",
      "d10.py\r\n",
      "d7.py\r\n",
      "d8.py\r\n",
      "day1_python 자료형 제어문 순환문.ipynb\r\n",
      "day1_python_변수.ipynb\r\n",
      "day2_python_함수 알아보기.ipynb\r\n",
      "day3_python_클래스 알아보기.ipynb\r\n",
      "day4_python 프로퍼티  클래스메소드 알아보기.ipynb\r\n",
      "day5_python 데코레이터 알아보기.ipynb\r\n",
      "day6_python 반복형 반복자 제너레이터 알아보기.ipynb\r\n",
      "day7_python 클래스 심화.ipynb\r\n",
      "day8_python 디스크립터 알아보기.ipynb\r\n",
      "helloworld.py\r\n",
      "\u001b[34m임시보관\u001b[m\u001b[m/\r\n"
     ]
    }
   ],
   "source": [
    "%ls"
   ]
  },
  {
   "cell_type": "markdown",
   "id": "589b4d4f",
   "metadata": {},
   "source": [
    "## os 내의 명령어 사용하기\n",
    "\n",
    "- ! + os 명령어 실행"
   ]
  },
  {
   "cell_type": "code",
   "execution_count": 4,
   "id": "6a34ad86",
   "metadata": {},
   "outputs": [
    {
     "name": "stdout",
     "output_type": "stream",
     "text": [
      "\u001b[34m__pycache__\u001b[m\u001b[m\r\n",
      "aaa.py\r\n",
      "d10.py\r\n",
      "d7.py\r\n",
      "d8.py\r\n",
      "day1_python 자료형 제어문 순환문.ipynb\r\n",
      "day1_python_변수.ipynb\r\n",
      "day2_python_함수 알아보기.ipynb\r\n",
      "day3_python_클래스 알아보기.ipynb\r\n",
      "day4_python 프로퍼티  클래스메소드 알아보기.ipynb\r\n",
      "day5_python 데코레이터 알아보기.ipynb\r\n",
      "day6_python 반복형 반복자 제너레이터 알아보기.ipynb\r\n",
      "day7_python 클래스 심화.ipynb\r\n",
      "day8_python 디스크립터 알아보기.ipynb\r\n",
      "helloworld.py\r\n",
      "\u001b[34m임시보관\u001b[m\u001b[m\r\n"
     ]
    }
   ],
   "source": [
    "!ls"
   ]
  },
  {
   "cell_type": "markdown",
   "id": "242684ed",
   "metadata": {},
   "source": [
    "##  파이썬 모듈 실행"
   ]
  },
  {
   "cell_type": "code",
   "execution_count": 5,
   "id": "9f9771aa",
   "metadata": {},
   "outputs": [
    {
     "name": "stdout",
     "output_type": "stream",
     "text": [
      " Hello World \r\n"
     ]
    }
   ],
   "source": [
    "!python helloworld.py"
   ]
  },
  {
   "cell_type": "code",
   "execution_count": 6,
   "id": "a8e3fcbd",
   "metadata": {},
   "outputs": [
    {
     "name": "stdout",
     "output_type": "stream",
     "text": [
      " Hello World \n"
     ]
    }
   ],
   "source": [
    "%run helloworld.py"
   ]
  },
  {
   "cell_type": "code",
   "execution_count": null,
   "id": "8ac7003b",
   "metadata": {},
   "outputs": [],
   "source": []
  },
  {
   "cell_type": "markdown",
   "id": "1fbeb77c",
   "metadata": {},
   "source": [
    "# 2. 식별자와 예약어 구분하기\n",
    "\n",
    "- 프로그램 언어가 만들어질 때 특정 용도로 사용하는 식별자를 예약어라고 한다.\n",
    "- 예약어 이외의 모든 이름을 식별자라고 한다.\n",
    "\n"
   ]
  },
  {
   "cell_type": "markdown",
   "id": "24ca422e",
   "metadata": {},
   "source": [
    "## 파이썬 예약어 관리 모듈"
   ]
  },
  {
   "cell_type": "code",
   "execution_count": 7,
   "id": "3f98ccb1",
   "metadata": {},
   "outputs": [],
   "source": [
    "import keyword"
   ]
  },
  {
   "cell_type": "code",
   "execution_count": 8,
   "id": "b9c1cdb8",
   "metadata": {},
   "outputs": [
    {
     "data": {
      "text/plain": [
       "35"
      ]
     },
     "execution_count": 8,
     "metadata": {},
     "output_type": "execute_result"
    }
   ],
   "source": [
    "len(keyword.kwlist)"
   ]
  },
  {
   "cell_type": "markdown",
   "id": "51e3a67b",
   "metadata": {},
   "source": [
    "## 예약어는 실제 변수인 식별자로 사용하지 못한다.\n",
    "\n",
    "- 컴파일러와 인터프리터에서 예약어는 변수, 함수, 클래스 등의 이름으로 사용하지 못하게 제한"
   ]
  },
  {
   "cell_type": "code",
   "execution_count": 9,
   "id": "e93b06ae",
   "metadata": {},
   "outputs": [],
   "source": [
    "# if = 100   SyntaxError: invalid syntax\n"
   ]
  },
  {
   "cell_type": "markdown",
   "id": "230d1c9a",
   "metadata": {},
   "source": [
    "## 예약어를 출력\n",
    "- 대문자와 소문자 등의 이름이다.\n",
    "- 이 이름은 다른 식별자로 사용할 수 없다.\n",
    "- 동일한 이름으로 식별자를 사용할 경우는 앞이나 뒤에 밑줄을 붙여서 사용할 수 있다"
   ]
  },
  {
   "cell_type": "code",
   "execution_count": 10,
   "id": "4f0138ba",
   "metadata": {},
   "outputs": [
    {
     "name": "stdout",
     "output_type": "stream",
     "text": [
      "False None True and as assert async await break class continue def del elif else except finally for from global if import in is lambda nonlocal not or pass raise return try while with yield "
     ]
    }
   ],
   "source": [
    "for i in keyword.kwlist :\n",
    "    print(i,end=\" \")"
   ]
  },
  {
   "cell_type": "code",
   "execution_count": 11,
   "id": "c8ae3e4c",
   "metadata": {},
   "outputs": [],
   "source": [
    "if_ = 100"
   ]
  },
  {
   "cell_type": "code",
   "execution_count": 12,
   "id": "00391770",
   "metadata": {},
   "outputs": [
    {
     "data": {
      "text/plain": [
       "300"
      ]
     },
     "execution_count": 12,
     "metadata": {},
     "output_type": "execute_result"
    }
   ],
   "source": [
    "if_ + 200"
   ]
  },
  {
   "cell_type": "markdown",
   "id": "8540b48f",
   "metadata": {},
   "source": [
    "## 이름과 값 구조로 식별자를 관리\n",
    "\n",
    "- 프로그램 언어가 실행할 때 다양한 값을 처리하지만 이 값은 한번 사용하고 사라진다."
   ]
  },
  {
   "cell_type": "markdown",
   "id": "733a1e8c",
   "metadata": {},
   "source": [
    "### 값은 하나의 객체"
   ]
  },
  {
   "cell_type": "code",
   "execution_count": 13,
   "id": "64973966",
   "metadata": {},
   "outputs": [
    {
     "data": {
      "text/plain": [
       "100"
      ]
     },
     "execution_count": 13,
     "metadata": {},
     "output_type": "execute_result"
    }
   ],
   "source": [
    "100"
   ]
  },
  {
   "cell_type": "markdown",
   "id": "5e40f119",
   "metadata": {},
   "source": [
    "### 모든 값은 객체이므로 해당하는   클래스가 존재"
   ]
  },
  {
   "cell_type": "code",
   "execution_count": 14,
   "id": "9a09f557",
   "metadata": {},
   "outputs": [
    {
     "data": {
      "text/plain": [
       "int"
      ]
     },
     "execution_count": 14,
     "metadata": {},
     "output_type": "execute_result"
    }
   ],
   "source": [
    "type(100)"
   ]
  },
  {
   "cell_type": "markdown",
   "id": "a753b60a",
   "metadata": {},
   "source": [
    "### 객체가 어떤 클래스로 만들어졌는지 확인"
   ]
  },
  {
   "cell_type": "code",
   "execution_count": 15,
   "id": "ef7b44b8",
   "metadata": {},
   "outputs": [
    {
     "data": {
      "text/plain": [
       "True"
      ]
     },
     "execution_count": 15,
     "metadata": {},
     "output_type": "execute_result"
    }
   ],
   "source": [
    "isinstance(100, int)"
   ]
  },
  {
   "cell_type": "code",
   "execution_count": 16,
   "id": "1e18ffd6",
   "metadata": {},
   "outputs": [
    {
     "data": {
      "text/plain": [
       "'int'"
      ]
     },
     "execution_count": 16,
     "metadata": {},
     "output_type": "execute_result"
    }
   ],
   "source": [
    "type(100).__name__"
   ]
  },
  {
   "cell_type": "markdown",
   "id": "2918f3fe",
   "metadata": {},
   "source": [
    "### 여러 문장을 한 줄에 작성할 때는 세미콜론으로 구분해야함"
   ]
  },
  {
   "cell_type": "code",
   "execution_count": 17,
   "id": "0f1b28fb",
   "metadata": {},
   "outputs": [],
   "source": [
    "a = 100; b=200; c=a+b"
   ]
  },
  {
   "cell_type": "markdown",
   "id": "702230d3",
   "metadata": {},
   "source": [
    "### 단일 원소를 가진 객체는 변경되는 것이 아니라 대체된다."
   ]
  },
  {
   "cell_type": "code",
   "execution_count": 18,
   "id": "daca27bd",
   "metadata": {},
   "outputs": [
    {
     "data": {
      "text/plain": [
       "(100, 200, 300)"
      ]
     },
     "execution_count": 18,
     "metadata": {},
     "output_type": "execute_result"
    }
   ],
   "source": [
    "a,b,c"
   ]
  },
  {
   "cell_type": "markdown",
   "id": "c7e29db1",
   "metadata": {},
   "source": [
    "### 최상위 클래스는 객체만 만들고 속성이 없다.\n",
    "\n",
    "- 실제 객체는 레퍼런스 즉 객체가 저장된 주소를 가진다.\n",
    "- 변수에 저장되는 값은 실제 객체의 주소인 레퍼런스이다."
   ]
  },
  {
   "cell_type": "code",
   "execution_count": 19,
   "id": "2f5a79b7",
   "metadata": {},
   "outputs": [],
   "source": [
    "obj = object()"
   ]
  },
  {
   "cell_type": "code",
   "execution_count": 20,
   "id": "428ec906",
   "metadata": {},
   "outputs": [
    {
     "data": {
      "text/plain": [
       "<object at 0x7fb53d975080>"
      ]
     },
     "execution_count": 20,
     "metadata": {},
     "output_type": "execute_result"
    }
   ],
   "source": [
    "obj"
   ]
  },
  {
   "cell_type": "code",
   "execution_count": 21,
   "id": "5eca5fdf",
   "metadata": {},
   "outputs": [
    {
     "data": {
      "text/plain": [
       "140416399134848"
      ]
     },
     "execution_count": 21,
     "metadata": {},
     "output_type": "execute_result"
    }
   ],
   "source": [
    "id(obj)"
   ]
  },
  {
   "cell_type": "markdown",
   "id": "3d8cae1f",
   "metadata": {},
   "source": [
    "## 값을 어디에 저장할 것인가? \n",
    "\n",
    "-  값을 관리하는 이름은 곧 변수"
   ]
  },
  {
   "cell_type": "markdown",
   "id": "6b917dc5",
   "metadata": {},
   "source": [
    "## 하위레벨 프로그램언어란?\n",
    "\n",
    "- 로우 레벨은 실제 값만 가지고 계산하는 기계어 등을 사용\n",
    "- 사람이 직접 코딩을 위해서는 기계어 등을 상위 개념으로 처리할 수 있어야 함\n"
   ]
  },
  {
   "cell_type": "markdown",
   "id": "77c46eab",
   "metadata": {},
   "source": [
    "## 프로그램 언어의 발전 방향\n",
    "\n",
    "- 절차형 언어 -> 객체지향 언어 -> 함수형 언어\n",
    "- 발전방향은 하드웨어 발전에 맞춰 점점 바뀜\n",
    "- 프로그램 실행환경도 점점 vm 위에서 실행=> 프로그램언어를 컴파일/인터프리팅 처리해서 바이트 코드(어셈블리어)로 변환\n",
    "- 프로그램 언어 실행환경이 VM으로 전환되면서 다양한 os 환경에 동일한 프로그램 실행"
   ]
  },
  {
   "cell_type": "markdown",
   "id": "f7fa9e95",
   "metadata": {},
   "source": [
    "# 3.  왜 변수가 필요할까?\n",
    "\n",
    "- 프로그램에서 특정 값을 관리하는 공간이며 이를 관리하는 이름이다.\n",
    "- 변수를 사용하려면 먼저 정의하고 참조해야한다."
   ]
  },
  {
   "cell_type": "markdown",
   "id": "e27da150",
   "metadata": {},
   "source": [
    "## 변수의 정의\n",
    "\n",
    "- 변수는 하나의 식별자라 모듈, 함수, 클래스 내에 정의가 가능하다.\n",
    "- 변수에는 함수를 정의할 때 사용하는 매개변수, 함수 내부에 정의하는 지역변수\n",
    "- 모듈에 정의하는 전역변수, 클래스 내부에 정의하는 속성 또는 필드 라는 이름으로 사용된다."
   ]
  },
  {
   "cell_type": "markdown",
   "id": "7750b399",
   "metadata": {},
   "source": [
    "### 변수에 타입을 지정할 수 있지만 값을 할당하지 않으면 변수로 취급하지 않는다.\n",
    "- 하나의 주석으로 인식"
   ]
  },
  {
   "cell_type": "code",
   "execution_count": 22,
   "id": "64c90d03",
   "metadata": {},
   "outputs": [],
   "source": [
    "var : int"
   ]
  },
  {
   "cell_type": "code",
   "execution_count": 23,
   "id": "172e1750",
   "metadata": {},
   "outputs": [
    {
     "name": "stdout",
     "output_type": "stream",
     "text": [
      "name 'var' is not defined\n"
     ]
    }
   ],
   "source": [
    "try :\n",
    "    var\n",
    "except Exception as e :\n",
    "    print(e)"
   ]
  },
  {
   "cell_type": "markdown",
   "id": "acaf41fa",
   "metadata": {},
   "source": [
    "### 변수는 반드시 값을 할당해야 정의된다.\n",
    "\n",
    "- 파이썬에서는 변수 정의할 때 별도의 키워드가 없다.\n"
   ]
  },
  {
   "cell_type": "markdown",
   "id": "91126659",
   "metadata": {},
   "source": [
    "### 파이썬에서 변수 정의는 변수 이름에 반드시 값을 할당해야한다. \n",
    "\n",
    "- 파이썬에는 변수를 저장하고 관리하는 영역인 네임스페이스가 있다.\n",
    "- 변수 정의는 이 네임스페이스에 변수 이름을 키로 하고 값을 저장하는 구조이다"
   ]
  },
  {
   "cell_type": "code",
   "execution_count": 24,
   "id": "4ce8fe18",
   "metadata": {},
   "outputs": [],
   "source": [
    "var = 100"
   ]
  },
  {
   "cell_type": "markdown",
   "id": "403d48a7",
   "metadata": {},
   "source": [
    "### 변수에 저장된 값을 사용할 때는 반드시 변수 이름을 코드에 넣어야 한다.\n",
    "\n",
    "- 변수에 대한 저장위치를 찾아서 내부의 값을 반환한다\n",
    "- 변수를 참조하는 것은 실제 변수가 저장된 네임스페이스를 조회해서 그 변수에 있는 값을 조회하는 것이다."
   ]
  },
  {
   "cell_type": "code",
   "execution_count": 25,
   "id": "2df1c048",
   "metadata": {},
   "outputs": [
    {
     "data": {
      "text/plain": [
       "100"
      ]
     },
     "execution_count": 25,
     "metadata": {},
     "output_type": "execute_result"
    }
   ],
   "source": [
    "var"
   ]
  },
  {
   "cell_type": "markdown",
   "id": "4c23f6dd",
   "metadata": {},
   "source": [
    "### 주피터 노트북 파일은 하나의 모듈로 인식\n",
    "\n",
    "- 모듈에는 변수를 관리하는 네임스페이스가 만들어진다.\n",
    "- 모듈에 정의된 변수는 전역변수라고 한다.\n",
    "- 모듈 내에 함수가 정의되면 지역변수라고 한다.\n",
    "- 모듈과 함수 내에 정의된 변수를 구분해서 관리해서 변수를 구분관리한다.\n"
   ]
  },
  {
   "cell_type": "markdown",
   "id": "234080ba",
   "metadata": {},
   "source": [
    "### 모듈 내의 네임스페이스를 불러와서 변수 이름으로 변수의 값을 조회한다"
   ]
  },
  {
   "cell_type": "code",
   "execution_count": 26,
   "id": "17965bbf",
   "metadata": {},
   "outputs": [
    {
     "data": {
      "text/plain": [
       "100"
      ]
     },
     "execution_count": 26,
     "metadata": {},
     "output_type": "execute_result"
    }
   ],
   "source": [
    "globals()['var']"
   ]
  },
  {
   "cell_type": "markdown",
   "id": "4a14596b",
   "metadata": {},
   "source": [
    "### 변수 내의 저장된 값을 가지고 연산을 수행한다."
   ]
  },
  {
   "cell_type": "code",
   "execution_count": 27,
   "id": "6112b242",
   "metadata": {},
   "outputs": [
    {
     "data": {
      "text/plain": [
       "200"
      ]
     },
     "execution_count": 27,
     "metadata": {},
     "output_type": "execute_result"
    }
   ],
   "source": [
    "globals()['var'] + 100"
   ]
  },
  {
   "cell_type": "code",
   "execution_count": 28,
   "id": "c0fdf245",
   "metadata": {},
   "outputs": [
    {
     "data": {
      "text/plain": [
       "200"
      ]
     },
     "execution_count": 28,
     "metadata": {},
     "output_type": "execute_result"
    }
   ],
   "source": [
    "var + 100"
   ]
  },
  {
   "cell_type": "markdown",
   "id": "683f9d51",
   "metadata": {},
   "source": [
    "## 변수를 식별하는 것은 아주 중요하다/\n",
    "\n",
    "### 변수 이름 짓는 규칙 => 명명규칙\n",
    "\n",
    "- 첫 문자는 문자나 언더스코어(_)\n",
    "- 두 번째부터는 문자나 언더스코어 또는 숫자 조합 \n",
    "- 키워드는 변수 이름으로 사용할 수 없다."
   ]
  },
  {
   "cell_type": "markdown",
   "id": "d327445f",
   "metadata": {},
   "source": [
    "## 이름을 지정하는 방법 \n",
    "- 1. 카멜 표기법(Camel Case) : 카멜 표기법은 낙타표기법이라고도 하며, 낙타의 등의 모습을 닮아 생긴 이름이다.\n",
    "    예시) count, countMyApple, countMyAppleAndPeach\n",
    "    \n",
    "- 2. 스네이크 표기법(Snake Case) : 스네이크 표기법은 한 문자마다 _(underscore)를 붙여 이어나가는 방식\n",
    "    예시) count, count_my_apple, count_my_apple_and_peach\n",
    "\n"
   ]
  },
  {
   "cell_type": "code",
   "execution_count": null,
   "id": "a4fcb770",
   "metadata": {},
   "outputs": [],
   "source": []
  },
  {
   "cell_type": "code",
   "execution_count": 29,
   "id": "5cbb2192",
   "metadata": {},
   "outputs": [],
   "source": [
    "_a = 100"
   ]
  },
  {
   "cell_type": "markdown",
   "id": "b5020519",
   "metadata": {},
   "source": [
    "### 숫자로 처리하면 에러가 발생한다. 그래서 주석으로 처리. 주석은 #로 시작한다."
   ]
  },
  {
   "cell_type": "code",
   "execution_count": 30,
   "id": "49890ba1",
   "metadata": {},
   "outputs": [],
   "source": [
    "# 1_a = 100. SyntaxError: invalid token"
   ]
  },
  {
   "cell_type": "code",
   "execution_count": 31,
   "id": "cc46c4e7",
   "metadata": {},
   "outputs": [],
   "source": [
    "# if = 100  SyntaxError: invalid syntax\n"
   ]
  },
  {
   "cell_type": "code",
   "execution_count": null,
   "id": "9cd666cf",
   "metadata": {},
   "outputs": [],
   "source": []
  },
  {
   "cell_type": "markdown",
   "id": "59fa0d08",
   "metadata": {},
   "source": [
    "## 변수에 저장된 값의 자료형 확인\n",
    "\n",
    "- 자료형은 파이썬에서는 모두 클래스이다.\n",
    "- 모든 것은 객체이므로 함수도 하나의 객체이므로 자료형인 함수 클래스를 가지고 있다."
   ]
  },
  {
   "cell_type": "code",
   "execution_count": 32,
   "id": "a0894766",
   "metadata": {},
   "outputs": [],
   "source": [
    "import types"
   ]
  },
  {
   "cell_type": "code",
   "execution_count": 33,
   "id": "8db9a4e9",
   "metadata": {},
   "outputs": [
    {
     "data": {
      "text/plain": [
       "10"
      ]
     },
     "execution_count": 33,
     "metadata": {},
     "output_type": "execute_result"
    }
   ],
   "source": [
    "sum([1,2,3,4])"
   ]
  },
  {
   "cell_type": "code",
   "execution_count": 34,
   "id": "0c7ddd29",
   "metadata": {},
   "outputs": [
    {
     "data": {
      "text/plain": [
       "False"
      ]
     },
     "execution_count": 34,
     "metadata": {},
     "output_type": "execute_result"
    }
   ],
   "source": [
    "type(sum) == types.FunctionType"
   ]
  },
  {
   "cell_type": "code",
   "execution_count": 35,
   "id": "b8c11095",
   "metadata": {},
   "outputs": [
    {
     "data": {
      "text/plain": [
       "True"
      ]
     },
     "execution_count": 35,
     "metadata": {},
     "output_type": "execute_result"
    }
   ],
   "source": [
    "type(sum) == types.BuiltinFunctionType"
   ]
  },
  {
   "cell_type": "code",
   "execution_count": 36,
   "id": "6661dd56",
   "metadata": {},
   "outputs": [
    {
     "data": {
      "text/plain": [
       "builtin_function_or_method"
      ]
     },
     "execution_count": 36,
     "metadata": {},
     "output_type": "execute_result"
    }
   ],
   "source": [
    "type(sum)"
   ]
  },
  {
   "cell_type": "code",
   "execution_count": null,
   "id": "63a41a9a",
   "metadata": {},
   "outputs": [],
   "source": []
  },
  {
   "cell_type": "code",
   "execution_count": 37,
   "id": "ca55ab26",
   "metadata": {},
   "outputs": [],
   "source": [
    "def func() :\n",
    "    pass"
   ]
  },
  {
   "cell_type": "code",
   "execution_count": 38,
   "id": "b5dc0bcb",
   "metadata": {},
   "outputs": [
    {
     "data": {
      "text/plain": [
       "True"
      ]
     },
     "execution_count": 38,
     "metadata": {},
     "output_type": "execute_result"
    }
   ],
   "source": [
    "type(func) == types.FunctionType"
   ]
  },
  {
   "cell_type": "code",
   "execution_count": null,
   "id": "ba148152",
   "metadata": {},
   "outputs": [],
   "source": []
  },
  {
   "cell_type": "code",
   "execution_count": 39,
   "id": "baa9635a",
   "metadata": {},
   "outputs": [],
   "source": [
    "class A :\n",
    "    def method(self) :\n",
    "        pass"
   ]
  },
  {
   "cell_type": "code",
   "execution_count": 40,
   "id": "5b016b6a",
   "metadata": {},
   "outputs": [
    {
     "data": {
      "text/plain": [
       "True"
      ]
     },
     "execution_count": 40,
     "metadata": {},
     "output_type": "execute_result"
    }
   ],
   "source": [
    "type(A().method) == types.MethodType"
   ]
  },
  {
   "cell_type": "code",
   "execution_count": null,
   "id": "774f871d",
   "metadata": {},
   "outputs": [],
   "source": []
  },
  {
   "cell_type": "code",
   "execution_count": null,
   "id": "8d6e996f",
   "metadata": {},
   "outputs": [],
   "source": []
  },
  {
   "cell_type": "markdown",
   "id": "919a0c4a",
   "metadata": {},
   "source": [
    "# 4. 변수의 참조\n",
    "\n",
    "- 변수가 정의된 이후 변수 이름을 사용하면 변수에 저장된 값을 조회해서 참조한다.\n"
   ]
  },
  {
   "cell_type": "markdown",
   "id": "1e039c0c",
   "metadata": {},
   "source": [
    "### 변수의 이름에는 규칙이 있다.\n",
    "- 첫번째 단어에는 숫자는 불가\n",
    "- 영문자나 _ 가 가능, 한글도 가능\n",
    "- 보통 변수이름은 소문자를 사용한다.\n",
    "- 파이썬은 상수라는 개념이 없고 일반적으로 영어 대문자로 이름을 지정하면 상수로 처리한다"
   ]
  },
  {
   "cell_type": "code",
   "execution_count": 41,
   "id": "66e3816d",
   "metadata": {},
   "outputs": [],
   "source": [
    "변수명 = 100"
   ]
  },
  {
   "cell_type": "code",
   "execution_count": 42,
   "id": "67ac0111",
   "metadata": {},
   "outputs": [
    {
     "data": {
      "text/plain": [
       "100"
      ]
     },
     "execution_count": 42,
     "metadata": {},
     "output_type": "execute_result"
    }
   ],
   "source": [
    "변수명"
   ]
  },
  {
   "cell_type": "markdown",
   "id": "c91a79c0",
   "metadata": {},
   "source": [
    "### 할당연산자 다음의 변수명을 사용하면 먼저 참조해서 처리한다."
   ]
  },
  {
   "cell_type": "code",
   "execution_count": 43,
   "id": "d909bcd0",
   "metadata": {},
   "outputs": [],
   "source": [
    "x = 변수명"
   ]
  },
  {
   "cell_type": "code",
   "execution_count": 44,
   "id": "23b1bfa2",
   "metadata": {},
   "outputs": [
    {
     "data": {
      "text/plain": [
       "100"
      ]
     },
     "execution_count": 44,
     "metadata": {},
     "output_type": "execute_result"
    }
   ],
   "source": [
    "x"
   ]
  },
  {
   "cell_type": "code",
   "execution_count": null,
   "id": "746ff08a",
   "metadata": {},
   "outputs": [],
   "source": []
  },
  {
   "cell_type": "markdown",
   "id": "0a5d010c",
   "metadata": {},
   "source": [
    "# 5. 변수에 값 할당\n",
    "\n",
    "- 변수의 값을 변경할 때는 할당연산자를 사용해서 새로운 값을 할당할 수 있다."
   ]
  },
  {
   "cell_type": "markdown",
   "id": "ab6ff0d1",
   "metadata": {},
   "source": [
    "### 동일한 값 할당할 때\n",
    "- 변수와 할당 연산자를 여러 개 사용해서 값을 할당"
   ]
  },
  {
   "cell_type": "code",
   "execution_count": 45,
   "id": "8998a536",
   "metadata": {},
   "outputs": [],
   "source": [
    "x = y = z = 100"
   ]
  },
  {
   "cell_type": "code",
   "execution_count": 46,
   "id": "c95f461c",
   "metadata": {},
   "outputs": [
    {
     "data": {
      "text/plain": [
       "(100, 100, 100)"
      ]
     },
     "execution_count": 46,
     "metadata": {},
     "output_type": "execute_result"
    }
   ],
   "source": [
    "x, y, z"
   ]
  },
  {
   "cell_type": "markdown",
   "id": "317a76fa",
   "metadata": {},
   "source": [
    "###  변수를 콤마로 구분해서 처리할 때 주의\n",
    "- 파이썬은 콤마로 분리하면 튜플로 처리하므로 여러 변수를 지정하고 값을 하나만 할당하면 예외를 발생한다."
   ]
  },
  {
   "cell_type": "code",
   "execution_count": 47,
   "id": "0cd6fdf0",
   "metadata": {},
   "outputs": [
    {
     "name": "stdout",
     "output_type": "stream",
     "text": [
      "cannot unpack non-iterable int object\n"
     ]
    }
   ],
   "source": [
    "try :\n",
    "    \n",
    "   a,b,c = 100\n",
    "except Exception as e :\n",
    "    print(e)"
   ]
  },
  {
   "cell_type": "markdown",
   "id": "2b30ce84",
   "metadata": {},
   "source": [
    "### 튜를을 만들어서 여러 변수에 값을 나누기\n",
    "\n",
    "- 튜플은 여러 원소를 가지는 하나의 자료구조이다.\n",
    "- 튜플은 한번 생성되면 변경이 불가능하다."
   ]
  },
  {
   "cell_type": "code",
   "execution_count": 48,
   "id": "e35942a6",
   "metadata": {},
   "outputs": [],
   "source": [
    "t = tuple([1,2,3])"
   ]
  },
  {
   "cell_type": "code",
   "execution_count": 49,
   "id": "a60fd4c0",
   "metadata": {},
   "outputs": [],
   "source": [
    "a,b,c = t"
   ]
  },
  {
   "cell_type": "code",
   "execution_count": 50,
   "id": "f52da355",
   "metadata": {},
   "outputs": [
    {
     "data": {
      "text/plain": [
       "(1, 2, 3)"
      ]
     },
     "execution_count": 50,
     "metadata": {},
     "output_type": "execute_result"
    }
   ],
   "source": [
    "a,b,c"
   ]
  },
  {
   "cell_type": "markdown",
   "id": "c71934bf",
   "metadata": {},
   "source": [
    "### 두 개의 변수의 값을 변경하기\n",
    "\n",
    "- 두 개의 문장을 한 줄에 사용할 때는 세미콜론을 붙여서 문장을 분리 표시를 한다\n",
    "- 보통 프로그램 언어는 임시변수를 사용해서 변경될 변수의 값을 저장시킨다."
   ]
  },
  {
   "cell_type": "code",
   "execution_count": 51,
   "id": "cbe567bc",
   "metadata": {},
   "outputs": [],
   "source": [
    "x = 100 ; y = 200"
   ]
  },
  {
   "cell_type": "code",
   "execution_count": 52,
   "id": "775b9654",
   "metadata": {},
   "outputs": [],
   "source": [
    "temp = x\n",
    "x = y\n",
    "y = temp"
   ]
  },
  {
   "cell_type": "code",
   "execution_count": 53,
   "id": "ab714b28",
   "metadata": {},
   "outputs": [
    {
     "data": {
      "text/plain": [
       "(200, 100)"
      ]
     },
     "execution_count": 53,
     "metadata": {},
     "output_type": "execute_result"
    }
   ],
   "source": [
    "x, y"
   ]
  },
  {
   "cell_type": "markdown",
   "id": "3287ef22",
   "metadata": {},
   "source": [
    "### 파이썬은 콤마가 튜플이므로 별도의 임시변수가 없이도 두 변수의 값을 교환한다"
   ]
  },
  {
   "cell_type": "code",
   "execution_count": 54,
   "id": "fb5d3251",
   "metadata": {},
   "outputs": [],
   "source": [
    "x = 100 ; y = 200"
   ]
  },
  {
   "cell_type": "code",
   "execution_count": 55,
   "id": "471c4adb",
   "metadata": {},
   "outputs": [],
   "source": [
    "x,y = y,x"
   ]
  },
  {
   "cell_type": "code",
   "execution_count": 56,
   "id": "8ed3f240",
   "metadata": {},
   "outputs": [
    {
     "data": {
      "text/plain": [
       "(200, 100)"
      ]
     },
     "execution_count": 56,
     "metadata": {},
     "output_type": "execute_result"
    }
   ],
   "source": [
    "x,y"
   ]
  },
  {
   "cell_type": "markdown",
   "id": "3228d160",
   "metadata": {},
   "source": [
    "### 원소가 많은 값을 변수에 할당할 때\n",
    "-  변수가 부족하면 변수 앞에 별표를 붙여서 처리"
   ]
  },
  {
   "cell_type": "code",
   "execution_count": 57,
   "id": "f939c968",
   "metadata": {},
   "outputs": [],
   "source": [
    "a, *b, c = (1,2,3,4,5,)"
   ]
  },
  {
   "cell_type": "code",
   "execution_count": 58,
   "id": "a0fc420e",
   "metadata": {},
   "outputs": [
    {
     "data": {
      "text/plain": [
       "(1, [2, 3, 4], 5)"
      ]
     },
     "execution_count": 58,
     "metadata": {},
     "output_type": "execute_result"
    }
   ],
   "source": [
    "a,b,c"
   ]
  },
  {
   "cell_type": "markdown",
   "id": "80e017d3",
   "metadata": {},
   "source": [
    "# 6. 값의 표현 이해하기\n",
    "\n",
    "- 보통 수학의 숫자, 문자열 등 다양한 대상을 값으로 인식하고 변수에 할당할 수 있다.\n",
    "- 또한 수식으로 표현된 것은 수식의 결과를 하나의 값으로 인식해서 변수에 저장된다.\n"
   ]
  },
  {
   "cell_type": "markdown",
   "id": "b3ee9dd7",
   "metadata": {},
   "source": [
    "### 변수에 할당하는 것은 값이다.\n",
    "\n",
    "- 하나의 값으로 된 경우는 리터럴이라고 부른다.\n",
    "- 이 리터럴과 연산자가 포함된 것을 표현식이라고 부른다.\n",
    "- 표현식은 여러 문장으로 구성할 수 있다. 이때는 람다 표현식을 사용한다.\n"
   ]
  },
  {
   "cell_type": "code",
   "execution_count": 59,
   "id": "279e3214",
   "metadata": {},
   "outputs": [
    {
     "data": {
      "text/plain": [
       "100"
      ]
     },
     "execution_count": 59,
     "metadata": {},
     "output_type": "execute_result"
    }
   ],
   "source": [
    "100"
   ]
  },
  {
   "cell_type": "markdown",
   "id": "58578a44",
   "metadata": {},
   "source": [
    "## 수식 즉 표현식은 평가된 결과가 처리된다. "
   ]
  },
  {
   "cell_type": "code",
   "execution_count": 60,
   "id": "79d8e391",
   "metadata": {},
   "outputs": [],
   "source": [
    "ax = 1 + 20+ 30 * 2"
   ]
  },
  {
   "cell_type": "code",
   "execution_count": 61,
   "id": "9515465b",
   "metadata": {},
   "outputs": [
    {
     "data": {
      "text/plain": [
       "81"
      ]
     },
     "execution_count": 61,
     "metadata": {},
     "output_type": "execute_result"
    }
   ],
   "source": [
    "ax"
   ]
  },
  {
   "cell_type": "code",
   "execution_count": 62,
   "id": "d5aca6e9",
   "metadata": {},
   "outputs": [],
   "source": [
    "a = 10; b=20; c=30"
   ]
  },
  {
   "cell_type": "markdown",
   "id": "097a7338",
   "metadata": {},
   "source": [
    "### 표현식을 문자열로 작성하고 평가해 보기"
   ]
  },
  {
   "cell_type": "code",
   "execution_count": 63,
   "id": "25143091",
   "metadata": {},
   "outputs": [],
   "source": [
    "st =\"a + b + c\""
   ]
  },
  {
   "cell_type": "code",
   "execution_count": 64,
   "id": "cdee8f8b",
   "metadata": {},
   "outputs": [
    {
     "data": {
      "text/plain": [
       "60"
      ]
     },
     "execution_count": 64,
     "metadata": {},
     "output_type": "execute_result"
    }
   ],
   "source": [
    "eval(st)"
   ]
  },
  {
   "cell_type": "code",
   "execution_count": null,
   "id": "af798722",
   "metadata": {},
   "outputs": [],
   "source": []
  },
  {
   "cell_type": "markdown",
   "id": "5df63987",
   "metadata": {},
   "source": [
    "# 7. 수학 모듈 사용하기\n",
    "\n",
    "- 다른 모듈은 import 모듈명을 사용해서 처리한다.\n",
    "- 모듈 내의 정의된 변수와 함수 등이 현재 작성된 이름과 충돌이 나지 않도록 주의해야한다\n"
   ]
  },
  {
   "cell_type": "markdown",
   "id": "b4459980",
   "metadata": {},
   "source": [
    "## 모듈 가져오기\n",
    "- 한번 import 하면 모듈 내에서 동일하게 사용할 수 있다."
   ]
  },
  {
   "cell_type": "code",
   "execution_count": 65,
   "id": "acd42d35",
   "metadata": {},
   "outputs": [],
   "source": [
    "import math"
   ]
  },
  {
   "cell_type": "code",
   "execution_count": 66,
   "id": "0e4fadf5",
   "metadata": {},
   "outputs": [
    {
     "data": {
      "text/plain": [
       "2.718281828459045"
      ]
     },
     "execution_count": 66,
     "metadata": {},
     "output_type": "execute_result"
    }
   ],
   "source": [
    "math.e"
   ]
  },
  {
   "cell_type": "markdown",
   "id": "27b2d225",
   "metadata": {},
   "source": [
    "## 모듈의 별칭 사용하기"
   ]
  },
  {
   "cell_type": "code",
   "execution_count": 67,
   "id": "8396c3ce",
   "metadata": {},
   "outputs": [],
   "source": [
    "import math as m"
   ]
  },
  {
   "cell_type": "code",
   "execution_count": 68,
   "id": "b424a536",
   "metadata": {},
   "outputs": [
    {
     "data": {
      "text/plain": [
       "2.718281828459045"
      ]
     },
     "execution_count": 68,
     "metadata": {},
     "output_type": "execute_result"
    }
   ],
   "source": [
    "m.e"
   ]
  },
  {
   "cell_type": "markdown",
   "id": "821f437e",
   "metadata": {},
   "source": [
    "## 모듈 내의 변수 함수 등을 전부 사용하기\n",
    "\n",
    "- 현재 모듈 내의 이름공간에 math 모듈 내의 변수와 함수등이 전부 들어와있다.\n",
    "- 전부 import 하는 것보다 이름 충돌을 예방하도록 별칭 등을 사용하는 것이 좋다."
   ]
  },
  {
   "cell_type": "code",
   "execution_count": 69,
   "id": "007126ec",
   "metadata": {},
   "outputs": [],
   "source": [
    "from math import *"
   ]
  },
  {
   "cell_type": "code",
   "execution_count": 70,
   "id": "ecb2d28b",
   "metadata": {},
   "outputs": [
    {
     "data": {
      "text/plain": [
       "2.718281828459045"
      ]
     },
     "execution_count": 70,
     "metadata": {},
     "output_type": "execute_result"
    }
   ],
   "source": [
    "e"
   ]
  },
  {
   "cell_type": "code",
   "execution_count": 71,
   "id": "c123e2a5",
   "metadata": {},
   "outputs": [
    {
     "data": {
      "text/plain": [
       "3.141592653589793"
      ]
     },
     "execution_count": 71,
     "metadata": {},
     "output_type": "execute_result"
    }
   ],
   "source": [
    "pi"
   ]
  },
  {
   "cell_type": "code",
   "execution_count": 72,
   "id": "2dc31cd1",
   "metadata": {},
   "outputs": [
    {
     "data": {
      "text/plain": [
       "2.718281828459045"
      ]
     },
     "execution_count": 72,
     "metadata": {},
     "output_type": "execute_result"
    }
   ],
   "source": [
    "globals()[\"e\"]"
   ]
  },
  {
   "cell_type": "code",
   "execution_count": null,
   "id": "85a6fde6",
   "metadata": {},
   "outputs": [],
   "source": []
  },
  {
   "cell_type": "markdown",
   "id": "2c993eb1",
   "metadata": {},
   "source": [
    "### 모듈 내의 변수나 함수 알아보기"
   ]
  },
  {
   "cell_type": "code",
   "execution_count": 73,
   "id": "3ceb7e75",
   "metadata": {},
   "outputs": [],
   "source": [
    "import math as m"
   ]
  },
  {
   "cell_type": "code",
   "execution_count": 74,
   "id": "358e3ebf",
   "metadata": {},
   "outputs": [
    {
     "data": {
      "text/plain": [
       "'math'"
      ]
     },
     "execution_count": 74,
     "metadata": {},
     "output_type": "execute_result"
    }
   ],
   "source": [
    "m.__name__"
   ]
  },
  {
   "cell_type": "code",
   "execution_count": 75,
   "id": "8365649f",
   "metadata": {},
   "outputs": [
    {
     "name": "stdout",
     "output_type": "stream",
     "text": [
      "__doc__ __file__ __loader__ __name__ __package__ __spec__ acos acosh asin asinh atan atan2 atanh ceil copysign cos cosh degrees e erf erfc exp expm1 fabs factorial floor fmod frexp fsum gamma gcd hypot inf isclose isfinite isinf isnan ldexp lgamma log log10 log1p log2 modf nan pi pow radians remainder sin sinh sqrt tan tanh tau trunc "
     ]
    }
   ],
   "source": [
    "for i in dir(m) :\n",
    "    print(i, end=\" \")"
   ]
  },
  {
   "cell_type": "markdown",
   "id": "4d66e868",
   "metadata": {},
   "source": [
    "## 연산자 알아보기\n",
    "\n",
    "- 연산자 표기법을 사용하지만 실제 연산자는 내부적으로 메소드로 처리한다.\n"
   ]
  },
  {
   "cell_type": "code",
   "execution_count": null,
   "id": "a1d39607",
   "metadata": {},
   "outputs": [],
   "source": []
  },
  {
   "cell_type": "code",
   "execution_count": 76,
   "id": "7df02a68",
   "metadata": {},
   "outputs": [],
   "source": [
    "aa = 100; bb = 200;"
   ]
  },
  {
   "cell_type": "code",
   "execution_count": 99,
   "id": "93f5367b",
   "metadata": {},
   "outputs": [
    {
     "data": {
      "text/plain": [
       "40000"
      ]
     },
     "execution_count": 99,
     "metadata": {},
     "output_type": "execute_result"
    }
   ],
   "source": [
    "aa ** 2 ; bb ** 2"
   ]
  },
  {
   "cell_type": "code",
   "execution_count": null,
   "id": "2dc6267f",
   "metadata": {},
   "outputs": [],
   "source": []
  },
  {
   "cell_type": "code",
   "execution_count": 77,
   "id": "caf618c8",
   "metadata": {},
   "outputs": [
    {
     "data": {
      "text/plain": [
       "300"
      ]
     },
     "execution_count": 77,
     "metadata": {},
     "output_type": "execute_result"
    }
   ],
   "source": [
    "aa + bb "
   ]
  },
  {
   "cell_type": "code",
   "execution_count": 78,
   "id": "dc12bb6e",
   "metadata": {},
   "outputs": [
    {
     "data": {
      "text/plain": [
       "300"
      ]
     },
     "execution_count": 78,
     "metadata": {},
     "output_type": "execute_result"
    }
   ],
   "source": [
    "aa.__add__(bb)"
   ]
  },
  {
   "cell_type": "markdown",
   "id": "3216f4f1",
   "metadata": {},
   "source": [
    "### 나누기는 2개 제공\n",
    "\n",
    "- 나머지까지 처리하는 경우와 나머지를 제외한 처리"
   ]
  },
  {
   "cell_type": "code",
   "execution_count": 79,
   "id": "1e68d755",
   "metadata": {},
   "outputs": [
    {
     "data": {
      "text/plain": [
       "(0.5, 0)"
      ]
     },
     "execution_count": 79,
     "metadata": {},
     "output_type": "execute_result"
    }
   ],
   "source": [
    "aa / bb, aa//bb"
   ]
  },
  {
   "cell_type": "code",
   "execution_count": 80,
   "id": "e2791681",
   "metadata": {},
   "outputs": [
    {
     "data": {
      "text/plain": [
       "(0, 0.5)"
      ]
     },
     "execution_count": 80,
     "metadata": {},
     "output_type": "execute_result"
    }
   ],
   "source": [
    "aa.__floordiv__(bb), aa.__truediv__(bb)"
   ]
  },
  {
   "cell_type": "code",
   "execution_count": 81,
   "id": "4e0437e4",
   "metadata": {},
   "outputs": [
    {
     "data": {
      "text/plain": [
       "100"
      ]
     },
     "execution_count": 81,
     "metadata": {},
     "output_type": "execute_result"
    }
   ],
   "source": [
    "aa % bb"
   ]
  },
  {
   "cell_type": "markdown",
   "id": "a17721d1",
   "metadata": {},
   "source": [
    "### 정수를 실수로 변경해서 처리"
   ]
  },
  {
   "cell_type": "code",
   "execution_count": 82,
   "id": "1bb68819",
   "metadata": {},
   "outputs": [],
   "source": [
    "cc = float(aa); dd = float(bb)"
   ]
  },
  {
   "cell_type": "code",
   "execution_count": 83,
   "id": "5c9b7d7b",
   "metadata": {},
   "outputs": [
    {
     "data": {
      "text/plain": [
       "(0.5, 0.0)"
      ]
     },
     "execution_count": 83,
     "metadata": {},
     "output_type": "execute_result"
    }
   ],
   "source": [
    "cc / dd, cc//dd"
   ]
  },
  {
   "cell_type": "markdown",
   "id": "94b18ecf",
   "metadata": {},
   "source": [
    "## 복합 연산자\n",
    "\n",
    "-  사직연산 등을 대입연산자와 같이 사용해서 하나의 연산자로 처리"
   ]
  },
  {
   "cell_type": "code",
   "execution_count": 93,
   "id": "4e118309",
   "metadata": {},
   "outputs": [],
   "source": [
    "n = 10"
   ]
  },
  {
   "cell_type": "code",
   "execution_count": 94,
   "id": "7bf6cdbc",
   "metadata": {},
   "outputs": [],
   "source": [
    "n = n + 1"
   ]
  },
  {
   "cell_type": "code",
   "execution_count": 95,
   "id": "31988a7a",
   "metadata": {},
   "outputs": [
    {
     "data": {
      "text/plain": [
       "11"
      ]
     },
     "execution_count": 95,
     "metadata": {},
     "output_type": "execute_result"
    }
   ],
   "source": [
    "n"
   ]
  },
  {
   "cell_type": "code",
   "execution_count": 96,
   "id": "a15ac13b",
   "metadata": {},
   "outputs": [],
   "source": [
    "n += 1"
   ]
  },
  {
   "cell_type": "code",
   "execution_count": 97,
   "id": "20912ee2",
   "metadata": {},
   "outputs": [
    {
     "data": {
      "text/plain": [
       "12"
      ]
     },
     "execution_count": 97,
     "metadata": {},
     "output_type": "execute_result"
    }
   ],
   "source": [
    "n"
   ]
  },
  {
   "cell_type": "markdown",
   "id": "4494a3c6",
   "metadata": {},
   "source": [
    "# 8. 문자열 포맷팅 알아보기\n",
    "\n",
    "- 문자열로 출력을 만들기"
   ]
  },
  {
   "cell_type": "code",
   "execution_count": null,
   "id": "a83c4d58",
   "metadata": {},
   "outputs": [],
   "source": []
  },
  {
   "cell_type": "markdown",
   "id": "717782f8",
   "metadata": {},
   "source": [
    "## 포맷 함수 처리"
   ]
  },
  {
   "cell_type": "code",
   "execution_count": 84,
   "id": "067a9f68",
   "metadata": {},
   "outputs": [
    {
     "data": {
      "text/plain": [
       "'문자열        ggg 00100 200.11  '"
      ]
     },
     "execution_count": 84,
     "metadata": {},
     "output_type": "execute_result"
    }
   ],
   "source": [
    "\"문자열 %+10s %05d %5.2f  \" % (\"ggg\",100,200.11)"
   ]
  },
  {
   "cell_type": "code",
   "execution_count": 85,
   "id": "5cc87bf9",
   "metadata": {},
   "outputs": [
    {
     "data": {
      "text/plain": [
       "'문자열        ggg 00100 200.11  '"
      ]
     },
     "execution_count": 85,
     "metadata": {},
     "output_type": "execute_result"
    }
   ],
   "source": [
    "format(\"문자열 %+10s %05d %5.2f  \" % (\"ggg\",100,200.11))"
   ]
  },
  {
   "cell_type": "code",
   "execution_count": null,
   "id": "04fa52b0",
   "metadata": {},
   "outputs": [],
   "source": []
  },
  {
   "cell_type": "markdown",
   "id": "9cbba548",
   "metadata": {},
   "source": [
    "## 포맷 메소드 처리"
   ]
  },
  {
   "cell_type": "code",
   "execution_count": 86,
   "id": "c96d725e",
   "metadata": {},
   "outputs": [
    {
     "data": {
      "text/plain": [
       "'문자열 ggg 100 200.110000 '"
      ]
     },
     "execution_count": 86,
     "metadata": {},
     "output_type": "execute_result"
    }
   ],
   "source": [
    "\"문자열 {:s} {:d} {:f} \".format(\"ggg\",100,200.11)"
   ]
  },
  {
   "cell_type": "markdown",
   "id": "404e6c96",
   "metadata": {},
   "source": [
    "##  f 문자열로 출력 포맷 만들기\n",
    "\n",
    "- 콜론 다음에 포맷조건을 지정해서 처리하기"
   ]
  },
  {
   "cell_type": "code",
   "execution_count": 87,
   "id": "4a4ffbb8",
   "metadata": {},
   "outputs": [],
   "source": [
    "a = \"ggg\"; b=100; c=200.11"
   ]
  },
  {
   "cell_type": "code",
   "execution_count": 88,
   "id": "201039ca",
   "metadata": {},
   "outputs": [
    {
     "data": {
      "text/plain": [
       "'문자열 ggg        00100 200.11'"
      ]
     },
     "execution_count": 88,
     "metadata": {},
     "output_type": "execute_result"
    }
   ],
   "source": [
    "f\"문자열 {a:<10s} {b:05d} {c:5.2f}\""
   ]
  },
  {
   "cell_type": "code",
   "execution_count": null,
   "id": "7afd0aae",
   "metadata": {},
   "outputs": [],
   "source": []
  },
  {
   "cell_type": "markdown",
   "id": "369e84c0",
   "metadata": {},
   "source": [
    "## 기본 출력 "
   ]
  },
  {
   "cell_type": "code",
   "execution_count": 89,
   "id": "0ac25bb2",
   "metadata": {},
   "outputs": [
    {
     "name": "stdout",
     "output_type": "stream",
     "text": [
      "Hello world\n"
     ]
    }
   ],
   "source": [
    "print(\"Hello world\")"
   ]
  },
  {
   "cell_type": "code",
   "execution_count": 90,
   "id": "c3b829ba",
   "metadata": {},
   "outputs": [],
   "source": [
    "a =\"Hello\" ; b=\"World\""
   ]
  },
  {
   "cell_type": "code",
   "execution_count": null,
   "id": "3a0d2a28",
   "metadata": {},
   "outputs": [],
   "source": []
  },
  {
   "cell_type": "code",
   "execution_count": 91,
   "id": "9797f4ed",
   "metadata": {},
   "outputs": [
    {
     "name": "stdout",
     "output_type": "stream",
     "text": [
      "Hello World\n"
     ]
    }
   ],
   "source": [
    "print(f\"{a} {b}\")"
   ]
  },
  {
   "cell_type": "code",
   "execution_count": null,
   "id": "2b79d828",
   "metadata": {},
   "outputs": [],
   "source": []
  }
 ],
 "metadata": {
  "kernelspec": {
   "display_name": "Python 3",
   "language": "python",
   "name": "python3"
  },
  "language_info": {
   "codemirror_mode": {
    "name": "ipython",
    "version": 3
   },
   "file_extension": ".py",
   "mimetype": "text/x-python",
   "name": "python",
   "nbconvert_exporter": "python",
   "pygments_lexer": "ipython3",
   "version": "3.7.10"
  }
 },
 "nbformat": 4,
 "nbformat_minor": 5
}
