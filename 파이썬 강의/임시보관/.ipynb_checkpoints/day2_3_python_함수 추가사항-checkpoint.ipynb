{
 "cells": [
  {
   "cell_type": "markdown",
   "metadata": {},
   "source": [
    "# 함수 호출 방법\n",
    "\n",
    "call by value?? call by reference???"
   ]
  },
  {
   "cell_type": "markdown",
   "metadata": {},
   "source": [
    "## call by Reference"
   ]
  },
  {
   "cell_type": "code",
   "execution_count": 1,
   "metadata": {},
   "outputs": [],
   "source": [
    "def spam(eggs):\n",
    "    eggs.append(1)\n",
    "    eggs = [2, 3]"
   ]
  },
  {
   "cell_type": "code",
   "execution_count": 2,
   "metadata": {},
   "outputs": [],
   "source": [
    "ham = [0]"
   ]
  },
  {
   "cell_type": "code",
   "execution_count": 3,
   "metadata": {},
   "outputs": [],
   "source": [
    "spam(ham)"
   ]
  },
  {
   "cell_type": "code",
   "execution_count": 4,
   "metadata": {},
   "outputs": [
    {
     "data": {
      "text/plain": [
       "[0, 1]"
      ]
     },
     "execution_count": 4,
     "metadata": {},
     "output_type": "execute_result"
    }
   ],
   "source": [
    "ham # call by value? [0]이 출력"
   ]
  },
  {
   "cell_type": "markdown",
   "metadata": {},
   "source": [
    "####  call by value "
   ]
  },
  {
   "cell_type": "code",
   "execution_count": 5,
   "metadata": {},
   "outputs": [],
   "source": [
    "from copy import deepcopy"
   ]
  },
  {
   "cell_type": "code",
   "execution_count": 6,
   "metadata": {},
   "outputs": [],
   "source": [
    "def spam(eggs):\n",
    "    eggs = deepcopy(eggs)\n",
    "    eggs.append(1)\n",
    "    eggs = [2, 3]"
   ]
  },
  {
   "cell_type": "code",
   "execution_count": 7,
   "metadata": {},
   "outputs": [],
   "source": [
    "ham = [0]\n",
    "spam(ham)"
   ]
  },
  {
   "cell_type": "code",
   "execution_count": 8,
   "metadata": {},
   "outputs": [
    {
     "data": {
      "text/plain": [
       "[0]"
      ]
     },
     "execution_count": 8,
     "metadata": {},
     "output_type": "execute_result"
    }
   ],
   "source": [
    "ham"
   ]
  },
  {
   "cell_type": "markdown",
   "metadata": {},
   "source": [
    "## call by reference"
   ]
  },
  {
   "cell_type": "code",
   "execution_count": 9,
   "metadata": {},
   "outputs": [],
   "source": [
    "def spam(eggs):\n",
    "    eggs.append(1)\n",
    "    eggs = [2, 3]"
   ]
  },
  {
   "cell_type": "code",
   "execution_count": 10,
   "metadata": {},
   "outputs": [],
   "source": [
    "ham = [0]"
   ]
  },
  {
   "cell_type": "code",
   "execution_count": 11,
   "metadata": {},
   "outputs": [],
   "source": [
    "spam(ham)"
   ]
  },
  {
   "cell_type": "code",
   "execution_count": 12,
   "metadata": {},
   "outputs": [
    {
     "data": {
      "text/plain": [
       "[0, 1]"
      ]
     },
     "execution_count": 12,
     "metadata": {},
     "output_type": "execute_result"
    }
   ],
   "source": [
    "ham # call by reference라면... [2, 3]"
   ]
  },
  {
   "cell_type": "markdown",
   "metadata": {},
   "source": [
    "> call by reference 처럼 작동하게"
   ]
  },
  {
   "cell_type": "code",
   "execution_count": 13,
   "metadata": {},
   "outputs": [],
   "source": [
    "def spam(eggs):\n",
    "    eggs.append(1)\n",
    "    eggs[:] = [2, 3]"
   ]
  },
  {
   "cell_type": "code",
   "execution_count": 14,
   "metadata": {},
   "outputs": [],
   "source": [
    "ham = [0]"
   ]
  },
  {
   "cell_type": "code",
   "execution_count": 15,
   "metadata": {},
   "outputs": [],
   "source": [
    "spam(ham)"
   ]
  },
  {
   "cell_type": "code",
   "execution_count": 16,
   "metadata": {},
   "outputs": [
    {
     "data": {
      "text/plain": [
       "[2, 3]"
      ]
     },
     "execution_count": 16,
     "metadata": {},
     "output_type": "execute_result"
    }
   ],
   "source": [
    "ham"
   ]
  },
  {
   "cell_type": "code",
   "execution_count": null,
   "metadata": {},
   "outputs": [],
   "source": []
  },
  {
   "cell_type": "markdown",
   "metadata": {},
   "source": [
    "## call by objects ( sharing )"
   ]
  },
  {
   "cell_type": "markdown",
   "metadata": {},
   "source": [
    "### call by value\n",
    "\n",
    "immutable"
   ]
  },
  {
   "cell_type": "code",
   "execution_count": 17,
   "metadata": {},
   "outputs": [],
   "source": [
    "def spam(eggs):\n",
    "    eggs += '!!!' # 새로운 객체가 생성되서 eggs변수에 담김\n",
    "    print(eggs) "
   ]
  },
  {
   "cell_type": "code",
   "execution_count": 18,
   "metadata": {},
   "outputs": [],
   "source": [
    "ham = 'hi'"
   ]
  },
  {
   "cell_type": "code",
   "execution_count": 19,
   "metadata": {},
   "outputs": [
    {
     "name": "stdout",
     "output_type": "stream",
     "text": [
      "hi!!!\n"
     ]
    }
   ],
   "source": [
    "spam(ham)"
   ]
  },
  {
   "cell_type": "code",
   "execution_count": 20,
   "metadata": {},
   "outputs": [
    {
     "data": {
      "text/plain": [
       "'hi'"
      ]
     },
     "execution_count": 20,
     "metadata": {},
     "output_type": "execute_result"
    }
   ],
   "source": [
    "ham"
   ]
  },
  {
   "cell_type": "code",
   "execution_count": null,
   "metadata": {},
   "outputs": [],
   "source": []
  },
  {
   "cell_type": "markdown",
   "metadata": {},
   "source": [
    "## call by reference처럼 보였던 이유"
   ]
  },
  {
   "cell_type": "code",
   "execution_count": 21,
   "metadata": {},
   "outputs": [],
   "source": [
    "# mutable"
   ]
  },
  {
   "cell_type": "code",
   "execution_count": 22,
   "metadata": {},
   "outputs": [],
   "source": [
    "def spam(eggs):\n",
    "    eggs.append(3)\n",
    "    print(eggs)"
   ]
  },
  {
   "cell_type": "code",
   "execution_count": 23,
   "metadata": {},
   "outputs": [],
   "source": [
    "ham = [1, 2]"
   ]
  },
  {
   "cell_type": "code",
   "execution_count": 24,
   "metadata": {},
   "outputs": [
    {
     "name": "stdout",
     "output_type": "stream",
     "text": [
      "[1, 2, 3]\n"
     ]
    }
   ],
   "source": [
    "spam(ham)"
   ]
  },
  {
   "cell_type": "code",
   "execution_count": 25,
   "metadata": {},
   "outputs": [
    {
     "data": {
      "text/plain": [
       "[1, 2, 3]"
      ]
     },
     "execution_count": 25,
     "metadata": {},
     "output_type": "execute_result"
    }
   ],
   "source": [
    "ham"
   ]
  },
  {
   "cell_type": "markdown",
   "metadata": {},
   "source": [
    "## packing, unpacking\n",
    "\n",
    "객체 호출할때 매개변수와 인자간 갯수 충돌 방지"
   ]
  },
  {
   "cell_type": "markdown",
   "metadata": {},
   "source": [
    "unpacking"
   ]
  },
  {
   "cell_type": "code",
   "execution_count": 26,
   "metadata": {},
   "outputs": [],
   "source": [
    "def call(a, b, c):\n",
    "    print(a, b, c)"
   ]
  },
  {
   "cell_type": "code",
   "execution_count": 27,
   "metadata": {},
   "outputs": [],
   "source": [
    "values = [1, 2, 3]"
   ]
  },
  {
   "cell_type": "code",
   "execution_count": 28,
   "metadata": {},
   "outputs": [
    {
     "name": "stdout",
     "output_type": "stream",
     "text": [
      "1 2 3\n"
     ]
    }
   ],
   "source": [
    "call(*values)"
   ]
  },
  {
   "cell_type": "markdown",
   "metadata": {},
   "source": [
    "packing"
   ]
  },
  {
   "cell_type": "code",
   "execution_count": 29,
   "metadata": {},
   "outputs": [],
   "source": [
    "def call(*a):\n",
    "    for x in a:\n",
    "        print(x)"
   ]
  },
  {
   "cell_type": "code",
   "execution_count": 30,
   "metadata": {},
   "outputs": [
    {
     "name": "stdout",
     "output_type": "stream",
     "text": [
      "1\n",
      "2\n",
      "3\n",
      "4\n",
      "5\n"
     ]
    }
   ],
   "source": [
    "call(1, 2, 3, 4, 5)"
   ]
  },
  {
   "cell_type": "markdown",
   "metadata": {},
   "source": [
    "## unpacking 주의"
   ]
  },
  {
   "cell_type": "code",
   "execution_count": 31,
   "metadata": {},
   "outputs": [],
   "source": [
    "def print_vector(x, y, z):\n",
    "    print(f\"{x}, {y}, {z}\")"
   ]
  },
  {
   "cell_type": "code",
   "execution_count": 32,
   "metadata": {},
   "outputs": [],
   "source": [
    "vector = {'x': 1, 'y': 2, 'z': 3}"
   ]
  },
  {
   "cell_type": "code",
   "execution_count": 33,
   "metadata": {},
   "outputs": [
    {
     "name": "stdout",
     "output_type": "stream",
     "text": [
      "x, y, z\n"
     ]
    }
   ],
   "source": [
    "print_vector(*vector)"
   ]
  },
  {
   "cell_type": "code",
   "execution_count": 34,
   "metadata": {},
   "outputs": [
    {
     "name": "stdout",
     "output_type": "stream",
     "text": [
      "1, 2, 3\n"
     ]
    }
   ],
   "source": [
    "print_vector(**vector)"
   ]
  },
  {
   "cell_type": "markdown",
   "metadata": {},
   "source": [
    "# 함수"
   ]
  },
  {
   "cell_type": "markdown",
   "metadata": {},
   "source": [
    "`callable`객체... \n",
    "\n",
    "`__call__` 메소드가 구현되어 있는 객체"
   ]
  },
  {
   "cell_type": "code",
   "execution_count": 35,
   "metadata": {},
   "outputs": [],
   "source": [
    "def func():\n",
    "    pass"
   ]
  },
  {
   "cell_type": "code",
   "execution_count": 36,
   "metadata": {},
   "outputs": [],
   "source": [
    "is_callable = func, sum, type, 0, '123', lambda x : x+1"
   ]
  },
  {
   "cell_type": "code",
   "execution_count": 37,
   "metadata": {},
   "outputs": [
    {
     "data": {
      "text/plain": [
       "[True, True, True, False, False, True]"
      ]
     },
     "execution_count": 37,
     "metadata": {},
     "output_type": "execute_result"
    }
   ],
   "source": [
    "[ *map(callable, is_callable) ]"
   ]
  },
  {
   "cell_type": "code",
   "execution_count": 38,
   "metadata": {},
   "outputs": [],
   "source": [
    "from types import FunctionType"
   ]
  },
  {
   "cell_type": "code",
   "execution_count": 39,
   "metadata": {},
   "outputs": [
    {
     "data": {
      "text/plain": [
       "True"
      ]
     },
     "execution_count": 39,
     "metadata": {},
     "output_type": "execute_result"
    }
   ],
   "source": [
    "isinstance(func, FunctionType) # 권장 X"
   ]
  },
  {
   "cell_type": "code",
   "execution_count": 40,
   "metadata": {},
   "outputs": [],
   "source": [
    "from inspect import isfunction"
   ]
  },
  {
   "cell_type": "code",
   "execution_count": 41,
   "metadata": {},
   "outputs": [
    {
     "data": {
      "text/plain": [
       "True"
      ]
     },
     "execution_count": 41,
     "metadata": {},
     "output_type": "execute_result"
    }
   ],
   "source": [
    "isfunction(func) # 권장 X"
   ]
  },
  {
   "cell_type": "markdown",
   "metadata": {},
   "source": [
    "callable함수를 통해서 검증"
   ]
  },
  {
   "cell_type": "code",
   "execution_count": 42,
   "metadata": {},
   "outputs": [
    {
     "data": {
      "text/plain": [
       "[True, True, True, False, False, True]"
      ]
     },
     "execution_count": 42,
     "metadata": {},
     "output_type": "execute_result"
    }
   ],
   "source": [
    "[ *map(lambda x : hasattr(x, '__call__'), is_callable)]"
   ]
  },
  {
   "cell_type": "markdown",
   "metadata": {},
   "source": [
    "# callable\n",
    "\n",
    "`__call__`속성이 존재하는 객체"
   ]
  },
  {
   "cell_type": "code",
   "execution_count": 43,
   "metadata": {},
   "outputs": [],
   "source": [
    "class Callable1:\n",
    "    def __call__(self):\n",
    "        \"\"\"아무것도 안합니다.\"\"\""
   ]
  },
  {
   "cell_type": "code",
   "execution_count": 44,
   "metadata": {},
   "outputs": [],
   "source": [
    "callable_obj1 = Callable1()"
   ]
  },
  {
   "cell_type": "code",
   "execution_count": 45,
   "metadata": {},
   "outputs": [],
   "source": [
    "callable_obj1()"
   ]
  },
  {
   "cell_type": "code",
   "execution_count": 46,
   "metadata": {},
   "outputs": [
    {
     "data": {
      "text/plain": [
       "True"
      ]
     },
     "execution_count": 46,
     "metadata": {},
     "output_type": "execute_result"
    }
   ],
   "source": [
    "callable(callable_obj1)"
   ]
  },
  {
   "cell_type": "code",
   "execution_count": 47,
   "metadata": {},
   "outputs": [],
   "source": [
    "class Callable2:\n",
    "    __call__ = True"
   ]
  },
  {
   "cell_type": "code",
   "execution_count": 48,
   "metadata": {},
   "outputs": [],
   "source": [
    "callable_obj2 = Callable2()"
   ]
  },
  {
   "cell_type": "code",
   "execution_count": 49,
   "metadata": {},
   "outputs": [
    {
     "data": {
      "text/plain": [
       "True"
      ]
     },
     "execution_count": 49,
     "metadata": {},
     "output_type": "execute_result"
    }
   ],
   "source": [
    "callable(callable_obj2)"
   ]
  },
  {
   "cell_type": "code",
   "execution_count": 50,
   "metadata": {},
   "outputs": [
    {
     "name": "stderr",
     "output_type": "stream",
     "text": [
      "/Users/dahlmoon/anaconda3/lib/python3.7/site-packages/ipykernel_launcher.py:1: DeprecationWarning: Using or importing the ABCs from 'collections' instead of from 'collections.abc' is deprecated since Python 3.3,and in 3.9 it will stop working\n",
      "  \"\"\"Entry point for launching an IPython kernel.\n"
     ]
    }
   ],
   "source": [
    "from collections import Callable"
   ]
  },
  {
   "cell_type": "code",
   "execution_count": 51,
   "metadata": {},
   "outputs": [
    {
     "data": {
      "text/plain": [
       "collections.abc.Callable"
      ]
     },
     "execution_count": 51,
     "metadata": {},
     "output_type": "execute_result"
    }
   ],
   "source": [
    "Callable"
   ]
  },
  {
   "cell_type": "code",
   "execution_count": 52,
   "metadata": {},
   "outputs": [
    {
     "data": {
      "text/plain": [
       "True"
      ]
     },
     "execution_count": 52,
     "metadata": {},
     "output_type": "execute_result"
    }
   ],
   "source": [
    "isinstance(callable_obj1, Callable)"
   ]
  },
  {
   "cell_type": "markdown",
   "metadata": {},
   "source": [
    "## 호출 방식"
   ]
  },
  {
   "cell_type": "code",
   "execution_count": 53,
   "metadata": {},
   "outputs": [],
   "source": [
    "def f(x):\n",
    "    print(\"call\", x, sep='-', end=' ')\n",
    "    return x"
   ]
  },
  {
   "cell_type": "code",
   "execution_count": 54,
   "metadata": {},
   "outputs": [
    {
     "name": "stdout",
     "output_type": "stream",
     "text": [
      "call-1 call-2 call-3 call-4 call-5 call-6 call-7 call-8 call-9 call-10 "
     ]
    }
   ],
   "source": [
    "def func(a, b=[f(x) for x in range(1, 10+1)]):\n",
    "    print(a)\n",
    "    print(b)"
   ]
  },
  {
   "cell_type": "code",
   "execution_count": 55,
   "metadata": {},
   "outputs": [
    {
     "data": {
      "text/plain": [
       "([1, 2, 3, 4, 5, 6, 7, 8, 9, 10],)"
      ]
     },
     "execution_count": 55,
     "metadata": {},
     "output_type": "execute_result"
    }
   ],
   "source": [
    "func.__defaults__"
   ]
  },
  {
   "cell_type": "code",
   "execution_count": 56,
   "metadata": {},
   "outputs": [],
   "source": [
    "def func(value=1, *, a=[]):\n",
    "    a.append(value)\n",
    "    return a"
   ]
  },
  {
   "cell_type": "code",
   "execution_count": 57,
   "metadata": {},
   "outputs": [
    {
     "data": {
      "text/plain": [
       "((1,), {'a': []})"
      ]
     },
     "execution_count": 57,
     "metadata": {},
     "output_type": "execute_result"
    }
   ],
   "source": [
    "func.__defaults__, func.__kwdefaults__"
   ]
  },
  {
   "cell_type": "code",
   "execution_count": 58,
   "metadata": {},
   "outputs": [
    {
     "data": {
      "text/plain": [
       "[1]"
      ]
     },
     "execution_count": 58,
     "metadata": {},
     "output_type": "execute_result"
    }
   ],
   "source": [
    "func()"
   ]
  },
  {
   "cell_type": "code",
   "execution_count": 59,
   "metadata": {},
   "outputs": [
    {
     "data": {
      "text/plain": [
       "[1, 2, 3, 3]"
      ]
     },
     "execution_count": 59,
     "metadata": {},
     "output_type": "execute_result"
    }
   ],
   "source": [
    "values = [1, 2, 3]\n",
    "func(3, a=values)"
   ]
  },
  {
   "cell_type": "code",
   "execution_count": 60,
   "metadata": {},
   "outputs": [
    {
     "data": {
      "text/plain": [
       "[1, 1]"
      ]
     },
     "execution_count": 60,
     "metadata": {},
     "output_type": "execute_result"
    }
   ],
   "source": [
    "func()"
   ]
  },
  {
   "cell_type": "code",
   "execution_count": 61,
   "metadata": {},
   "outputs": [
    {
     "data": {
      "text/plain": [
       "[1, 1, 1]"
      ]
     },
     "execution_count": 61,
     "metadata": {},
     "output_type": "execute_result"
    }
   ],
   "source": [
    "func()"
   ]
  },
  {
   "cell_type": "code",
   "execution_count": 62,
   "metadata": {},
   "outputs": [],
   "source": [
    "def func(value=1, *, a=None):\n",
    "    if not a:\n",
    "        a = []\n",
    "    a.append(value)\n",
    "    return a"
   ]
  },
  {
   "cell_type": "code",
   "execution_count": 63,
   "metadata": {},
   "outputs": [
    {
     "data": {
      "text/plain": [
       "[1]"
      ]
     },
     "execution_count": 63,
     "metadata": {},
     "output_type": "execute_result"
    }
   ],
   "source": [
    "func()"
   ]
  },
  {
   "cell_type": "code",
   "execution_count": 64,
   "metadata": {},
   "outputs": [
    {
     "data": {
      "text/plain": [
       "[1]"
      ]
     },
     "execution_count": 64,
     "metadata": {},
     "output_type": "execute_result"
    }
   ],
   "source": [
    "func()"
   ]
  },
  {
   "cell_type": "code",
   "execution_count": 65,
   "metadata": {},
   "outputs": [
    {
     "data": {
      "text/plain": [
       "[1]"
      ]
     },
     "execution_count": 65,
     "metadata": {},
     "output_type": "execute_result"
    }
   ],
   "source": [
    "func()"
   ]
  },
  {
   "cell_type": "markdown",
   "metadata": {},
   "source": [
    "## 호출방식\n",
    "\n",
    "인자가 매개변수에 매칭되는 순서\n",
    "\n",
    "1. 위치 인자가 먼저 매개변수에 매칭됩니다.\n",
    "2. 키워드 인자가 대응하는 식별자 슬롯을 채웁니다."
   ]
  },
  {
   "cell_type": "code",
   "execution_count": 66,
   "metadata": {},
   "outputs": [],
   "source": [
    "def f(a, b, c, d, e=5):\n",
    "    print(a, b, c, d, e)"
   ]
  },
  {
   "cell_type": "code",
   "execution_count": 67,
   "metadata": {},
   "outputs": [
    {
     "name": "stdout",
     "output_type": "stream",
     "text": [
      "1 2 3 4 5\n"
     ]
    }
   ],
   "source": [
    "f(1, 2, 3, 4, 5)"
   ]
  },
  {
   "cell_type": "code",
   "execution_count": 68,
   "metadata": {},
   "outputs": [
    {
     "ename": "TypeError",
     "evalue": "f() got multiple values for argument 'd'",
     "output_type": "error",
     "traceback": [
      "\u001b[0;31m---------------------------------------------------------------------------\u001b[0m",
      "\u001b[0;31mTypeError\u001b[0m                                 Traceback (most recent call last)",
      "\u001b[0;32m<ipython-input-68-c922516a2242>\u001b[0m in \u001b[0;36m<module>\u001b[0;34m\u001b[0m\n\u001b[0;32m----> 1\u001b[0;31m \u001b[0mf\u001b[0m\u001b[0;34m(\u001b[0m\u001b[0;36m1\u001b[0m\u001b[0;34m,\u001b[0m \u001b[0;36m2\u001b[0m\u001b[0;34m,\u001b[0m \u001b[0;36m3\u001b[0m\u001b[0;34m,\u001b[0m \u001b[0;36m4\u001b[0m\u001b[0;34m,\u001b[0m \u001b[0md\u001b[0m\u001b[0;34m=\u001b[0m\u001b[0;36m5\u001b[0m\u001b[0;34m)\u001b[0m\u001b[0;34m\u001b[0m\u001b[0;34m\u001b[0m\u001b[0m\n\u001b[0m",
      "\u001b[0;31mTypeError\u001b[0m: f() got multiple values for argument 'd'"
     ]
    }
   ],
   "source": [
    "f(1, 2, 3, 4, d=5)"
   ]
  },
  {
   "cell_type": "markdown",
   "metadata": {},
   "source": [
    "1. 위치 인자가 먼저 매개변수에 매칭됩니다.\n",
    "2. 키워드 인자가 대응하는 식별자 슬롯을 채웁니다.\n",
    "3. 키워드 인자가 이미 대응된 매개변수에 매칭되면 TypeError\n",
    "4. 모든 인자가 처리된 다음에 매개변수의 기본값이 지정"
   ]
  },
  {
   "cell_type": "code",
   "execution_count": 69,
   "metadata": {},
   "outputs": [
    {
     "name": "stdout",
     "output_type": "stream",
     "text": [
      "1 2 3 4 5\n"
     ]
    }
   ],
   "source": [
    "f(1, 2, 3, d=4)"
   ]
  },
  {
   "cell_type": "markdown",
   "metadata": {},
   "source": [
    "### packing"
   ]
  },
  {
   "cell_type": "code",
   "execution_count": 70,
   "metadata": {},
   "outputs": [],
   "source": [
    "def f(a, b):\n",
    "    print(a, b)"
   ]
  },
  {
   "cell_type": "code",
   "execution_count": 71,
   "metadata": {},
   "outputs": [
    {
     "name": "stdout",
     "output_type": "stream",
     "text": [
      "1 2\n"
     ]
    }
   ],
   "source": [
    "f(1, *(2,))"
   ]
  },
  {
   "cell_type": "code",
   "execution_count": 72,
   "metadata": {},
   "outputs": [
    {
     "ename": "TypeError",
     "evalue": "f() got multiple values for argument 'a'",
     "output_type": "error",
     "traceback": [
      "\u001b[0;31m---------------------------------------------------------------------------\u001b[0m",
      "\u001b[0;31mTypeError\u001b[0m                                 Traceback (most recent call last)",
      "\u001b[0;32m<ipython-input-72-00618096d558>\u001b[0m in \u001b[0;36m<module>\u001b[0;34m\u001b[0m\n\u001b[0;32m----> 1\u001b[0;31m \u001b[0mf\u001b[0m\u001b[0;34m(\u001b[0m\u001b[0ma\u001b[0m\u001b[0;34m=\u001b[0m\u001b[0;36m1\u001b[0m\u001b[0;34m,\u001b[0m \u001b[0;34m*\u001b[0m\u001b[0;34m(\u001b[0m\u001b[0;36m2\u001b[0m\u001b[0;34m,\u001b[0m\u001b[0;34m)\u001b[0m\u001b[0;34m)\u001b[0m\u001b[0;34m\u001b[0m\u001b[0;34m\u001b[0m\u001b[0m\n\u001b[0m",
      "\u001b[0;31mTypeError\u001b[0m: f() got multiple values for argument 'a'"
     ]
    }
   ],
   "source": [
    "f(a=1, *(2,))"
   ]
  },
  {
   "cell_type": "code",
   "execution_count": 73,
   "metadata": {},
   "outputs": [
    {
     "name": "stdout",
     "output_type": "stream",
     "text": [
      "2 1\n"
     ]
    }
   ],
   "source": [
    "f(b=1, *(2,))"
   ]
  },
  {
   "cell_type": "code",
   "execution_count": 74,
   "metadata": {},
   "outputs": [
    {
     "name": "stdout",
     "output_type": "stream",
     "text": [
      "1 1\n"
     ]
    }
   ],
   "source": [
    "f(b=1, *(1,))"
   ]
  },
  {
   "cell_type": "markdown",
   "metadata": {},
   "source": [
    "# 코드 분석"
   ]
  },
  {
   "cell_type": "markdown",
   "metadata": {},
   "source": [
    "## inspect"
   ]
  },
  {
   "cell_type": "code",
   "execution_count": 75,
   "metadata": {},
   "outputs": [
    {
     "data": {
      "text/plain": [
       "<function __main__.func(value=1, *, a=None)>"
      ]
     },
     "execution_count": 75,
     "metadata": {},
     "output_type": "execute_result"
    }
   ],
   "source": [
    "func"
   ]
  },
  {
   "cell_type": "code",
   "execution_count": 76,
   "metadata": {},
   "outputs": [],
   "source": [
    "import inspect"
   ]
  },
  {
   "cell_type": "markdown",
   "metadata": {},
   "source": [
    "## getsource"
   ]
  },
  {
   "cell_type": "code",
   "execution_count": 77,
   "metadata": {},
   "outputs": [],
   "source": [
    "source = inspect.getsource(func)"
   ]
  },
  {
   "cell_type": "code",
   "execution_count": 78,
   "metadata": {},
   "outputs": [
    {
     "name": "stdout",
     "output_type": "stream",
     "text": [
      "def func(value=1, *, a=None):\n",
      "    if not a:\n",
      "        a = []\n",
      "    a.append(value)\n",
      "    return a\n",
      "\n"
     ]
    }
   ],
   "source": [
    "print(source)"
   ]
  },
  {
   "cell_type": "markdown",
   "metadata": {},
   "source": [
    "## getmembers"
   ]
  },
  {
   "cell_type": "code",
   "execution_count": 80,
   "metadata": {},
   "outputs": [
    {
     "data": {
      "text/plain": [
       "[('__annotations__', {}),\n",
       " ('__call__',\n",
       "  <method-wrapper '__call__' of function object at 0x7f9fb4b38830>),\n",
       " ('__class__', function),\n",
       " ('__closure__', None),\n",
       " ('__code__',\n",
       "  <code object func at 0x7f9fb4b38660, file \"<ipython-input-62-cb18811b12d5>\", line 1>),\n",
       " ('__defaults__', (1,)),\n",
       " ('__delattr__',\n",
       "  <method-wrapper '__delattr__' of function object at 0x7f9fb4b38830>),\n",
       " ('__dict__', {}),\n",
       " ('__dir__', <function function.__dir__()>),\n",
       " ('__doc__', None),\n",
       " ('__eq__', <method-wrapper '__eq__' of function object at 0x7f9fb4b38830>),\n",
       " ('__format__', <function function.__format__(format_spec, /)>),\n",
       " ('__ge__', <method-wrapper '__ge__' of function object at 0x7f9fb4b38830>),\n",
       " ('__get__', <method-wrapper '__get__' of function object at 0x7f9fb4b38830>),\n",
       " ('__getattribute__',\n",
       "  <method-wrapper '__getattribute__' of function object at 0x7f9fb4b38830>),\n",
       " ('__globals__',\n",
       "  {'__name__': '__main__',\n",
       "   '__doc__': 'Automatically created module for IPython interactive environment',\n",
       "   '__package__': None,\n",
       "   '__loader__': None,\n",
       "   '__spec__': None,\n",
       "   '__builtin__': <module 'builtins' (built-in)>,\n",
       "   '__builtins__': <module 'builtins' (built-in)>,\n",
       "   '_ih': ['',\n",
       "    'def spam(eggs):\\n    eggs.append(1)\\n    eggs = [2, 3]',\n",
       "    'ham = [0]',\n",
       "    'spam(ham)',\n",
       "    'ham # call by value? [0]이 출력',\n",
       "    'from copy import deepcopy',\n",
       "    'def spam(eggs):\\n    eggs = deepcopy(eggs)\\n    eggs.append(1)\\n    eggs = [2, 3]',\n",
       "    'ham = [0]\\nspam(ham)',\n",
       "    'ham',\n",
       "    'def spam(eggs):\\n    eggs.append(1)\\n    eggs = [2, 3]',\n",
       "    'ham = [0]',\n",
       "    'spam(ham)',\n",
       "    'ham # call by reference라면... [2, 3]',\n",
       "    'def spam(eggs):\\n    eggs.append(1)\\n    eggs[:] = [2, 3]',\n",
       "    'ham = [0]',\n",
       "    'spam(ham)',\n",
       "    'ham',\n",
       "    \"def spam(eggs):\\n    eggs += '!!!' # 새로운 객체가 생성되서 eggs변수에 담김\\n    print(eggs) \",\n",
       "    \"ham = 'hi'\",\n",
       "    'spam(ham)',\n",
       "    'ham',\n",
       "    '# mutable',\n",
       "    'def spam(eggs):\\n    eggs.append(3)\\n    print(eggs)',\n",
       "    'ham = [1, 2]',\n",
       "    'spam(ham)',\n",
       "    'ham',\n",
       "    'def call(a, b, c):\\n    print(a, b, c)',\n",
       "    'values = [1, 2, 3]',\n",
       "    'call(*values)',\n",
       "    'def call(*a):\\n    for x in a:\\n        print(x)',\n",
       "    'call(1, 2, 3, 4, 5)',\n",
       "    'def print_vector(x, y, z):\\n    print(f\"{x}, {y}, {z}\")',\n",
       "    \"vector = {'x': 1, 'y': 2, 'z': 3}\",\n",
       "    'print_vector(*vector)',\n",
       "    'print_vector(**vector)',\n",
       "    'def func():\\n    pass',\n",
       "    \"is_callable = func, sum, type, 0, '123', lambda x : x+1\",\n",
       "    '[ *map(callable, is_callable) ]',\n",
       "    'from types import FunctionType',\n",
       "    'isinstance(func, FunctionType) # 권장 X',\n",
       "    'from inspect import isfunction',\n",
       "    'isfunction(func) # 권장 X',\n",
       "    \"[ *map(lambda x : hasattr(x, '__call__'), is_callable)]\",\n",
       "    'class Callable1:\\n    def __call__(self):\\n        \"\"\"아무것도 안합니다.\"\"\"',\n",
       "    'callable_obj1 = Callable1()',\n",
       "    'callable_obj1()',\n",
       "    'callable(callable_obj1)',\n",
       "    'class Callable2:\\n    __call__ = True',\n",
       "    'callable_obj2 = Callable2()',\n",
       "    'callable(callable_obj2)',\n",
       "    'from collections import Callable',\n",
       "    'Callable',\n",
       "    'isinstance(callable_obj1, Callable)',\n",
       "    'def f(x):\\n    print(\"call\", x, sep=\\'-\\', end=\\' \\')\\n    return x',\n",
       "    'def func(a, b=[f(x) for x in range(1, 10+1)]):\\n    print(a)\\n    print(b)',\n",
       "    'func.__defaults__',\n",
       "    'def func(value=1, *, a=[]):\\n    a.append(value)\\n    return a',\n",
       "    'func.__defaults__, func.__kwdefaults__',\n",
       "    'func()',\n",
       "    'values = [1, 2, 3]\\nfunc(3, a=values)',\n",
       "    'func()',\n",
       "    'func()',\n",
       "    'def func(value=1, *, a=None):\\n    if not a:\\n        a = []\\n    a.append(value)\\n    return a',\n",
       "    'func()',\n",
       "    'func()',\n",
       "    'func()',\n",
       "    'def f(a, b, c, d, e=5):\\n    print(a, b, c, d, e)',\n",
       "    'f(1, 2, 3, 4, 5)',\n",
       "    'f(1, 2, 3, 4, d=5)',\n",
       "    'f(1, 2, 3, d=4)',\n",
       "    'def f(a, b):\\n    print(a, b)',\n",
       "    'f(1, *(2,))',\n",
       "    'f(a=1, *(2,))',\n",
       "    'f(b=1, *(2,))',\n",
       "    'f(b=1, *(1,))',\n",
       "    'func',\n",
       "    'import inspect',\n",
       "    'source = inspect.getsource(func)',\n",
       "    'print(source)',\n",
       "    'inspect.getsource(print)',\n",
       "    'inspect.getmembers(func)'],\n",
       "   '_oh': {4: [0, 1],\n",
       "    8: [0],\n",
       "    12: [0, 1],\n",
       "    16: [2, 3],\n",
       "    20: 'hi',\n",
       "    25: [1, 2, 3],\n",
       "    37: [True, True, True, False, False, True],\n",
       "    39: True,\n",
       "    41: True,\n",
       "    42: [True, True, True, False, False, True],\n",
       "    46: True,\n",
       "    49: True,\n",
       "    51: collections.abc.Callable,\n",
       "    52: True,\n",
       "    55: ([1, 2, 3, 4, 5, 6, 7, 8, 9, 10],),\n",
       "    57: ((1,), {'a': [1, 1, 1]}),\n",
       "    58: [1, 1, 1],\n",
       "    59: [1, 2, 3, 3],\n",
       "    60: [1, 1, 1],\n",
       "    61: [1, 1, 1],\n",
       "    63: [1],\n",
       "    64: [1],\n",
       "    65: [1],\n",
       "    75: <function __main__.func(value=1, *, a=None)>},\n",
       "   '_dh': ['/Users/dahlmoon/Documents/GitHub/python_block/파이썬 강의/임시보관'],\n",
       "   'In': ['',\n",
       "    'def spam(eggs):\\n    eggs.append(1)\\n    eggs = [2, 3]',\n",
       "    'ham = [0]',\n",
       "    'spam(ham)',\n",
       "    'ham # call by value? [0]이 출력',\n",
       "    'from copy import deepcopy',\n",
       "    'def spam(eggs):\\n    eggs = deepcopy(eggs)\\n    eggs.append(1)\\n    eggs = [2, 3]',\n",
       "    'ham = [0]\\nspam(ham)',\n",
       "    'ham',\n",
       "    'def spam(eggs):\\n    eggs.append(1)\\n    eggs = [2, 3]',\n",
       "    'ham = [0]',\n",
       "    'spam(ham)',\n",
       "    'ham # call by reference라면... [2, 3]',\n",
       "    'def spam(eggs):\\n    eggs.append(1)\\n    eggs[:] = [2, 3]',\n",
       "    'ham = [0]',\n",
       "    'spam(ham)',\n",
       "    'ham',\n",
       "    \"def spam(eggs):\\n    eggs += '!!!' # 새로운 객체가 생성되서 eggs변수에 담김\\n    print(eggs) \",\n",
       "    \"ham = 'hi'\",\n",
       "    'spam(ham)',\n",
       "    'ham',\n",
       "    '# mutable',\n",
       "    'def spam(eggs):\\n    eggs.append(3)\\n    print(eggs)',\n",
       "    'ham = [1, 2]',\n",
       "    'spam(ham)',\n",
       "    'ham',\n",
       "    'def call(a, b, c):\\n    print(a, b, c)',\n",
       "    'values = [1, 2, 3]',\n",
       "    'call(*values)',\n",
       "    'def call(*a):\\n    for x in a:\\n        print(x)',\n",
       "    'call(1, 2, 3, 4, 5)',\n",
       "    'def print_vector(x, y, z):\\n    print(f\"{x}, {y}, {z}\")',\n",
       "    \"vector = {'x': 1, 'y': 2, 'z': 3}\",\n",
       "    'print_vector(*vector)',\n",
       "    'print_vector(**vector)',\n",
       "    'def func():\\n    pass',\n",
       "    \"is_callable = func, sum, type, 0, '123', lambda x : x+1\",\n",
       "    '[ *map(callable, is_callable) ]',\n",
       "    'from types import FunctionType',\n",
       "    'isinstance(func, FunctionType) # 권장 X',\n",
       "    'from inspect import isfunction',\n",
       "    'isfunction(func) # 권장 X',\n",
       "    \"[ *map(lambda x : hasattr(x, '__call__'), is_callable)]\",\n",
       "    'class Callable1:\\n    def __call__(self):\\n        \"\"\"아무것도 안합니다.\"\"\"',\n",
       "    'callable_obj1 = Callable1()',\n",
       "    'callable_obj1()',\n",
       "    'callable(callable_obj1)',\n",
       "    'class Callable2:\\n    __call__ = True',\n",
       "    'callable_obj2 = Callable2()',\n",
       "    'callable(callable_obj2)',\n",
       "    'from collections import Callable',\n",
       "    'Callable',\n",
       "    'isinstance(callable_obj1, Callable)',\n",
       "    'def f(x):\\n    print(\"call\", x, sep=\\'-\\', end=\\' \\')\\n    return x',\n",
       "    'def func(a, b=[f(x) for x in range(1, 10+1)]):\\n    print(a)\\n    print(b)',\n",
       "    'func.__defaults__',\n",
       "    'def func(value=1, *, a=[]):\\n    a.append(value)\\n    return a',\n",
       "    'func.__defaults__, func.__kwdefaults__',\n",
       "    'func()',\n",
       "    'values = [1, 2, 3]\\nfunc(3, a=values)',\n",
       "    'func()',\n",
       "    'func()',\n",
       "    'def func(value=1, *, a=None):\\n    if not a:\\n        a = []\\n    a.append(value)\\n    return a',\n",
       "    'func()',\n",
       "    'func()',\n",
       "    'func()',\n",
       "    'def f(a, b, c, d, e=5):\\n    print(a, b, c, d, e)',\n",
       "    'f(1, 2, 3, 4, 5)',\n",
       "    'f(1, 2, 3, 4, d=5)',\n",
       "    'f(1, 2, 3, d=4)',\n",
       "    'def f(a, b):\\n    print(a, b)',\n",
       "    'f(1, *(2,))',\n",
       "    'f(a=1, *(2,))',\n",
       "    'f(b=1, *(2,))',\n",
       "    'f(b=1, *(1,))',\n",
       "    'func',\n",
       "    'import inspect',\n",
       "    'source = inspect.getsource(func)',\n",
       "    'print(source)',\n",
       "    'inspect.getsource(print)',\n",
       "    'inspect.getmembers(func)'],\n",
       "   'Out': {4: [0, 1],\n",
       "    8: [0],\n",
       "    12: [0, 1],\n",
       "    16: [2, 3],\n",
       "    20: 'hi',\n",
       "    25: [1, 2, 3],\n",
       "    37: [True, True, True, False, False, True],\n",
       "    39: True,\n",
       "    41: True,\n",
       "    42: [True, True, True, False, False, True],\n",
       "    46: True,\n",
       "    49: True,\n",
       "    51: collections.abc.Callable,\n",
       "    52: True,\n",
       "    55: ([1, 2, 3, 4, 5, 6, 7, 8, 9, 10],),\n",
       "    57: ((1,), {'a': [1, 1, 1]}),\n",
       "    58: [1, 1, 1],\n",
       "    59: [1, 2, 3, 3],\n",
       "    60: [1, 1, 1],\n",
       "    61: [1, 1, 1],\n",
       "    63: [1],\n",
       "    64: [1],\n",
       "    65: [1],\n",
       "    75: <function __main__.func(value=1, *, a=None)>},\n",
       "   'get_ipython': <bound method InteractiveShell.get_ipython of <ipykernel.zmqshell.ZMQInteractiveShell object at 0x7f9fb49f8f90>>,\n",
       "   'exit': <IPython.core.autocall.ZMQExitAutocall at 0x7f9fb4a3c2d0>,\n",
       "   'quit': <IPython.core.autocall.ZMQExitAutocall at 0x7f9fb4a3c2d0>,\n",
       "   '_': <function __main__.func(value=1, *, a=None)>,\n",
       "   '__': [1],\n",
       "   '___': [1],\n",
       "   '_i': 'inspect.getsource(print)',\n",
       "   '_ii': 'print(source)',\n",
       "   '_iii': 'source = inspect.getsource(func)',\n",
       "   '_i1': 'def spam(eggs):\\n    eggs.append(1)\\n    eggs = [2, 3]',\n",
       "   'spam': <function __main__.spam(eggs)>,\n",
       "   '_i2': 'ham = [0]',\n",
       "   'ham': [1, 2, 3],\n",
       "   '_i3': 'spam(ham)',\n",
       "   '_i4': 'ham # call by value? [0]이 출력',\n",
       "   '_4': [0, 1],\n",
       "   '_i5': 'from copy import deepcopy',\n",
       "   'deepcopy': <function copy.deepcopy(x, memo=None, _nil=[])>,\n",
       "   '_i6': 'def spam(eggs):\\n    eggs = deepcopy(eggs)\\n    eggs.append(1)\\n    eggs = [2, 3]',\n",
       "   '_i7': 'ham = [0]\\nspam(ham)',\n",
       "   '_i8': 'ham',\n",
       "   '_8': [0],\n",
       "   '_i9': 'def spam(eggs):\\n    eggs.append(1)\\n    eggs = [2, 3]',\n",
       "   '_i10': 'ham = [0]',\n",
       "   '_i11': 'spam(ham)',\n",
       "   '_i12': 'ham # call by reference라면... [2, 3]',\n",
       "   '_12': [0, 1],\n",
       "   '_i13': 'def spam(eggs):\\n    eggs.append(1)\\n    eggs[:] = [2, 3]',\n",
       "   '_i14': 'ham = [0]',\n",
       "   '_i15': 'spam(ham)',\n",
       "   '_i16': 'ham',\n",
       "   '_16': [2, 3],\n",
       "   '_i17': \"def spam(eggs):\\n    eggs += '!!!' # 새로운 객체가 생성되서 eggs변수에 담김\\n    print(eggs) \",\n",
       "   '_i18': \"ham = 'hi'\",\n",
       "   '_i19': 'spam(ham)',\n",
       "   '_i20': 'ham',\n",
       "   '_20': 'hi',\n",
       "   '_i21': '# mutable',\n",
       "   '_i22': 'def spam(eggs):\\n    eggs.append(3)\\n    print(eggs)',\n",
       "   '_i23': 'ham = [1, 2]',\n",
       "   '_i24': 'spam(ham)',\n",
       "   '_i25': 'ham',\n",
       "   '_25': [1, 2, 3],\n",
       "   '_i26': 'def call(a, b, c):\\n    print(a, b, c)',\n",
       "   'call': <function __main__.call(*a)>,\n",
       "   '_i27': 'values = [1, 2, 3]',\n",
       "   'values': [1, 2, 3, 3],\n",
       "   '_i28': 'call(*values)',\n",
       "   '_i29': 'def call(*a):\\n    for x in a:\\n        print(x)',\n",
       "   '_i30': 'call(1, 2, 3, 4, 5)',\n",
       "   '_i31': 'def print_vector(x, y, z):\\n    print(f\"{x}, {y}, {z}\")',\n",
       "   'print_vector': <function __main__.print_vector(x, y, z)>,\n",
       "   '_i32': \"vector = {'x': 1, 'y': 2, 'z': 3}\",\n",
       "   'vector': {'x': 1, 'y': 2, 'z': 3},\n",
       "   '_i33': 'print_vector(*vector)',\n",
       "   '_i34': 'print_vector(**vector)',\n",
       "   '_i35': 'def func():\\n    pass',\n",
       "   'func': <function __main__.func(value=1, *, a=None)>,\n",
       "   '_i36': \"is_callable = func, sum, type, 0, '123', lambda x : x+1\",\n",
       "   'is_callable': (<function __main__.func()>,\n",
       "    <function sum(iterable, start=0, /)>,\n",
       "    type,\n",
       "    0,\n",
       "    '123',\n",
       "    <function __main__.<lambda>(x)>),\n",
       "   '_i37': '[ *map(callable, is_callable) ]',\n",
       "   '_37': [True, True, True, False, False, True],\n",
       "   '_i38': 'from types import FunctionType',\n",
       "   'FunctionType': function,\n",
       "   '_i39': 'isinstance(func, FunctionType) # 권장 X',\n",
       "   '_39': True,\n",
       "   '_i40': 'from inspect import isfunction',\n",
       "   'isfunction': <function inspect.isfunction(object)>,\n",
       "   '_i41': 'isfunction(func) # 권장 X',\n",
       "   '_41': True,\n",
       "   '_i42': \"[ *map(lambda x : hasattr(x, '__call__'), is_callable)]\",\n",
       "   '_42': [True, True, True, False, False, True],\n",
       "   '_i43': 'class Callable1:\\n    def __call__(self):\\n        \"\"\"아무것도 안합니다.\"\"\"',\n",
       "   'Callable1': __main__.Callable1,\n",
       "   '_i44': 'callable_obj1 = Callable1()',\n",
       "   'callable_obj1': <__main__.Callable1 at 0x7f9fb4b21110>,\n",
       "   '_i45': 'callable_obj1()',\n",
       "   '_i46': 'callable(callable_obj1)',\n",
       "   '_46': True,\n",
       "   '_i47': 'class Callable2:\\n    __call__ = True',\n",
       "   'Callable2': __main__.Callable2,\n",
       "   '_i48': 'callable_obj2 = Callable2()',\n",
       "   'callable_obj2': <__main__.Callable2 at 0x7f9fb4b43710>,\n",
       "   '_i49': 'callable(callable_obj2)',\n",
       "   '_49': True,\n",
       "   '_i50': 'from collections import Callable',\n",
       "   'Callable': collections.abc.Callable,\n",
       "   '_i51': 'Callable',\n",
       "   '_51': collections.abc.Callable,\n",
       "   '_i52': 'isinstance(callable_obj1, Callable)',\n",
       "   '_52': True,\n",
       "   '_i53': 'def f(x):\\n    print(\"call\", x, sep=\\'-\\', end=\\' \\')\\n    return x',\n",
       "   'f': <function __main__.f(a, b)>,\n",
       "   '_i54': 'def func(a, b=[f(x) for x in range(1, 10+1)]):\\n    print(a)\\n    print(b)',\n",
       "   '_i55': 'func.__defaults__',\n",
       "   '_55': ([1, 2, 3, 4, 5, 6, 7, 8, 9, 10],),\n",
       "   '_i56': 'def func(value=1, *, a=[]):\\n    a.append(value)\\n    return a',\n",
       "   '_i57': 'func.__defaults__, func.__kwdefaults__',\n",
       "   '_57': ((1,), {'a': [1, 1, 1]}),\n",
       "   '_i58': 'func()',\n",
       "   '_58': [1, 1, 1],\n",
       "   '_i59': 'values = [1, 2, 3]\\nfunc(3, a=values)',\n",
       "   '_59': [1, 2, 3, 3],\n",
       "   '_i60': 'func()',\n",
       "   '_60': [1, 1, 1],\n",
       "   '_i61': 'func()',\n",
       "   '_61': [1, 1, 1],\n",
       "   '_i62': 'def func(value=1, *, a=None):\\n    if not a:\\n        a = []\\n    a.append(value)\\n    return a',\n",
       "   '_i63': 'func()',\n",
       "   '_63': [1],\n",
       "   '_i64': 'func()',\n",
       "   '_64': [1],\n",
       "   '_i65': 'func()',\n",
       "   '_65': [1],\n",
       "   '_i66': 'def f(a, b, c, d, e=5):\\n    print(a, b, c, d, e)',\n",
       "   '_i67': 'f(1, 2, 3, 4, 5)',\n",
       "   '_i68': 'f(1, 2, 3, 4, d=5)',\n",
       "   '_i69': 'f(1, 2, 3, d=4)',\n",
       "   '_i70': 'def f(a, b):\\n    print(a, b)',\n",
       "   '_i71': 'f(1, *(2,))',\n",
       "   '_i72': 'f(a=1, *(2,))',\n",
       "   '_i73': 'f(b=1, *(2,))',\n",
       "   '_i74': 'f(b=1, *(1,))',\n",
       "   '_i75': 'func',\n",
       "   '_75': <function __main__.func(value=1, *, a=None)>,\n",
       "   '_i76': 'import inspect',\n",
       "   'inspect': <module 'inspect' from '/Users/dahlmoon/anaconda3/lib/python3.7/inspect.py'>,\n",
       "   '_i77': 'source = inspect.getsource(func)',\n",
       "   'source': 'def func(value=1, *, a=None):\\n    if not a:\\n        a = []\\n    a.append(value)\\n    return a\\n',\n",
       "   '_i78': 'print(source)',\n",
       "   '_i79': 'inspect.getsource(print)',\n",
       "   '_i80': 'inspect.getmembers(func)'}),\n",
       " ('__gt__', <method-wrapper '__gt__' of function object at 0x7f9fb4b38830>),\n",
       " ('__hash__',\n",
       "  <method-wrapper '__hash__' of function object at 0x7f9fb4b38830>),\n",
       " ('__init__',\n",
       "  <method-wrapper '__init__' of function object at 0x7f9fb4b38830>),\n",
       " ('__init_subclass__', <function function.__init_subclass__>),\n",
       " ('__kwdefaults__', {'a': None}),\n",
       " ('__le__', <method-wrapper '__le__' of function object at 0x7f9fb4b38830>),\n",
       " ('__lt__', <method-wrapper '__lt__' of function object at 0x7f9fb4b38830>),\n",
       " ('__module__', '__main__'),\n",
       " ('__name__', 'func'),\n",
       " ('__ne__', <method-wrapper '__ne__' of function object at 0x7f9fb4b38830>),\n",
       " ('__new__', <function function.__new__(*args, **kwargs)>),\n",
       " ('__qualname__', 'func'),\n",
       " ('__reduce__', <function function.__reduce__()>),\n",
       " ('__reduce_ex__', <function function.__reduce_ex__(protocol, /)>),\n",
       " ('__repr__',\n",
       "  <method-wrapper '__repr__' of function object at 0x7f9fb4b38830>),\n",
       " ('__setattr__',\n",
       "  <method-wrapper '__setattr__' of function object at 0x7f9fb4b38830>),\n",
       " ('__sizeof__', <function function.__sizeof__()>),\n",
       " ('__str__', <method-wrapper '__str__' of function object at 0x7f9fb4b38830>),\n",
       " ('__subclasshook__', <function function.__subclasshook__>)]"
      ]
     },
     "execution_count": 80,
     "metadata": {},
     "output_type": "execute_result"
    }
   ],
   "source": [
    "inspect.getmembers(func)"
   ]
  },
  {
   "cell_type": "code",
   "execution_count": 81,
   "metadata": {},
   "outputs": [],
   "source": [
    "class A:\n",
    "    pass"
   ]
  },
  {
   "cell_type": "code",
   "execution_count": 82,
   "metadata": {},
   "outputs": [
    {
     "data": {
      "text/plain": [
       "[('__class__', type),\n",
       " ('__delattr__', <slot wrapper '__delattr__' of 'object' objects>),\n",
       " ('__dict__',\n",
       "  mappingproxy({'__module__': '__main__',\n",
       "                '__dict__': <attribute '__dict__' of 'A' objects>,\n",
       "                '__weakref__': <attribute '__weakref__' of 'A' objects>,\n",
       "                '__doc__': None})),\n",
       " ('__dir__', <method '__dir__' of 'object' objects>),\n",
       " ('__doc__', None),\n",
       " ('__eq__', <slot wrapper '__eq__' of 'object' objects>),\n",
       " ('__format__', <method '__format__' of 'object' objects>),\n",
       " ('__ge__', <slot wrapper '__ge__' of 'object' objects>),\n",
       " ('__getattribute__', <slot wrapper '__getattribute__' of 'object' objects>),\n",
       " ('__gt__', <slot wrapper '__gt__' of 'object' objects>),\n",
       " ('__hash__', <slot wrapper '__hash__' of 'object' objects>),\n",
       " ('__init__', <slot wrapper '__init__' of 'object' objects>),\n",
       " ('__init_subclass__', <function A.__init_subclass__>),\n",
       " ('__le__', <slot wrapper '__le__' of 'object' objects>),\n",
       " ('__lt__', <slot wrapper '__lt__' of 'object' objects>),\n",
       " ('__module__', '__main__'),\n",
       " ('__ne__', <slot wrapper '__ne__' of 'object' objects>),\n",
       " ('__new__', <function object.__new__(*args, **kwargs)>),\n",
       " ('__reduce__', <method '__reduce__' of 'object' objects>),\n",
       " ('__reduce_ex__', <method '__reduce_ex__' of 'object' objects>),\n",
       " ('__repr__', <slot wrapper '__repr__' of 'object' objects>),\n",
       " ('__setattr__', <slot wrapper '__setattr__' of 'object' objects>),\n",
       " ('__sizeof__', <method '__sizeof__' of 'object' objects>),\n",
       " ('__str__', <slot wrapper '__str__' of 'object' objects>),\n",
       " ('__subclasshook__', <function A.__subclasshook__>),\n",
       " ('__weakref__', <attribute '__weakref__' of 'A' objects>)]"
      ]
     },
     "execution_count": 82,
     "metadata": {},
     "output_type": "execute_result"
    }
   ],
   "source": [
    "inspect.getmembers(A)"
   ]
  },
  {
   "cell_type": "markdown",
   "metadata": {},
   "source": [
    "### [('key', 'value')] -> dict"
   ]
  },
  {
   "cell_type": "code",
   "execution_count": 83,
   "metadata": {},
   "outputs": [
    {
     "name": "stdout",
     "output_type": "stream",
     "text": [
      "Help on class dict in module builtins:\n",
      "\n",
      "class dict(object)\n",
      " |  dict() -> new empty dictionary\n",
      " |  dict(mapping) -> new dictionary initialized from a mapping object's\n",
      " |      (key, value) pairs\n",
      " |  dict(iterable) -> new dictionary initialized as if via:\n",
      " |      d = {}\n",
      " |      for k, v in iterable:\n",
      " |          d[k] = v\n",
      " |  dict(**kwargs) -> new dictionary initialized with the name=value pairs\n",
      " |      in the keyword argument list.  For example:  dict(one=1, two=2)\n",
      " |  \n",
      " |  Methods defined here:\n",
      " |  \n",
      " |  __contains__(self, key, /)\n",
      " |      True if the dictionary has the specified key, else False.\n",
      " |  \n",
      " |  __delitem__(self, key, /)\n",
      " |      Delete self[key].\n",
      " |  \n",
      " |  __eq__(self, value, /)\n",
      " |      Return self==value.\n",
      " |  \n",
      " |  __ge__(self, value, /)\n",
      " |      Return self>=value.\n",
      " |  \n",
      " |  __getattribute__(self, name, /)\n",
      " |      Return getattr(self, name).\n",
      " |  \n",
      " |  __getitem__(...)\n",
      " |      x.__getitem__(y) <==> x[y]\n",
      " |  \n",
      " |  __gt__(self, value, /)\n",
      " |      Return self>value.\n",
      " |  \n",
      " |  __init__(self, /, *args, **kwargs)\n",
      " |      Initialize self.  See help(type(self)) for accurate signature.\n",
      " |  \n",
      " |  __iter__(self, /)\n",
      " |      Implement iter(self).\n",
      " |  \n",
      " |  __le__(self, value, /)\n",
      " |      Return self<=value.\n",
      " |  \n",
      " |  __len__(self, /)\n",
      " |      Return len(self).\n",
      " |  \n",
      " |  __lt__(self, value, /)\n",
      " |      Return self<value.\n",
      " |  \n",
      " |  __ne__(self, value, /)\n",
      " |      Return self!=value.\n",
      " |  \n",
      " |  __repr__(self, /)\n",
      " |      Return repr(self).\n",
      " |  \n",
      " |  __setitem__(self, key, value, /)\n",
      " |      Set self[key] to value.\n",
      " |  \n",
      " |  __sizeof__(...)\n",
      " |      D.__sizeof__() -> size of D in memory, in bytes\n",
      " |  \n",
      " |  clear(...)\n",
      " |      D.clear() -> None.  Remove all items from D.\n",
      " |  \n",
      " |  copy(...)\n",
      " |      D.copy() -> a shallow copy of D\n",
      " |  \n",
      " |  get(self, key, default=None, /)\n",
      " |      Return the value for key if key is in the dictionary, else default.\n",
      " |  \n",
      " |  items(...)\n",
      " |      D.items() -> a set-like object providing a view on D's items\n",
      " |  \n",
      " |  keys(...)\n",
      " |      D.keys() -> a set-like object providing a view on D's keys\n",
      " |  \n",
      " |  pop(...)\n",
      " |      D.pop(k[,d]) -> v, remove specified key and return the corresponding value.\n",
      " |      If key is not found, d is returned if given, otherwise KeyError is raised\n",
      " |  \n",
      " |  popitem(...)\n",
      " |      D.popitem() -> (k, v), remove and return some (key, value) pair as a\n",
      " |      2-tuple; but raise KeyError if D is empty.\n",
      " |  \n",
      " |  setdefault(self, key, default=None, /)\n",
      " |      Insert key with a value of default if key is not in the dictionary.\n",
      " |      \n",
      " |      Return the value for key if key is in the dictionary, else default.\n",
      " |  \n",
      " |  update(...)\n",
      " |      D.update([E, ]**F) -> None.  Update D from dict/iterable E and F.\n",
      " |      If E is present and has a .keys() method, then does:  for k in E: D[k] = E[k]\n",
      " |      If E is present and lacks a .keys() method, then does:  for k, v in E: D[k] = v\n",
      " |      In either case, this is followed by: for k in F:  D[k] = F[k]\n",
      " |  \n",
      " |  values(...)\n",
      " |      D.values() -> an object providing a view on D's values\n",
      " |  \n",
      " |  ----------------------------------------------------------------------\n",
      " |  Class methods defined here:\n",
      " |  \n",
      " |  fromkeys(iterable, value=None, /) from builtins.type\n",
      " |      Create a new dictionary with keys from iterable and values set to value.\n",
      " |  \n",
      " |  ----------------------------------------------------------------------\n",
      " |  Static methods defined here:\n",
      " |  \n",
      " |  __new__(*args, **kwargs) from builtins.type\n",
      " |      Create and return a new object.  See help(type) for accurate signature.\n",
      " |  \n",
      " |  ----------------------------------------------------------------------\n",
      " |  Data and other attributes defined here:\n",
      " |  \n",
      " |  __hash__ = None\n",
      "\n"
     ]
    }
   ],
   "source": [
    "help(dict)"
   ]
  },
  {
   "cell_type": "code",
   "execution_count": 84,
   "metadata": {},
   "outputs": [
    {
     "data": {
      "text/plain": [
       "type"
      ]
     },
     "execution_count": 84,
     "metadata": {},
     "output_type": "execute_result"
    }
   ],
   "source": [
    "dict(inspect.getmembers(A))['__class__']"
   ]
  },
  {
   "cell_type": "markdown",
   "metadata": {},
   "source": [
    "### isfunction, ..."
   ]
  },
  {
   "cell_type": "code",
   "execution_count": 85,
   "metadata": {},
   "outputs": [
    {
     "data": {
      "text/plain": [
       "True"
      ]
     },
     "execution_count": 85,
     "metadata": {},
     "output_type": "execute_result"
    }
   ],
   "source": [
    "inspect.isfunction(func)"
   ]
  },
  {
   "cell_type": "code",
   "execution_count": 86,
   "metadata": {},
   "outputs": [
    {
     "data": {
      "text/plain": [
       "True"
      ]
     },
     "execution_count": 86,
     "metadata": {},
     "output_type": "execute_result"
    }
   ],
   "source": [
    "inspect.isclass(A)"
   ]
  },
  {
   "cell_type": "markdown",
   "metadata": {},
   "source": [
    "## is0000 + getmembers"
   ]
  },
  {
   "cell_type": "code",
   "execution_count": 87,
   "metadata": {},
   "outputs": [
    {
     "data": {
      "text/plain": [
       "[('__class__', function)]"
      ]
     },
     "execution_count": 87,
     "metadata": {},
     "output_type": "execute_result"
    }
   ],
   "source": [
    "inspect.getmembers(func, inspect.isclass)"
   ]
  },
  {
   "cell_type": "code",
   "execution_count": 88,
   "metadata": {},
   "outputs": [
    {
     "data": {
      "text/plain": [
       "[('__code__',\n",
       "  <code object func at 0x7f9fb4b38660, file \"<ipython-input-62-cb18811b12d5>\", line 1>)]"
      ]
     },
     "execution_count": 88,
     "metadata": {},
     "output_type": "execute_result"
    }
   ],
   "source": [
    "inspect.getmembers(func, inspect.iscode)"
   ]
  },
  {
   "cell_type": "code",
   "execution_count": 89,
   "metadata": {},
   "outputs": [
    {
     "data": {
      "text/plain": [
       "[]"
      ]
     },
     "execution_count": 89,
     "metadata": {},
     "output_type": "execute_result"
    }
   ],
   "source": [
    "inspect.getmembers(func, inspect.ismethod) # __call__"
   ]
  },
  {
   "cell_type": "code",
   "execution_count": 90,
   "metadata": {},
   "outputs": [
    {
     "data": {
      "text/plain": [
       "[]"
      ]
     },
     "execution_count": 90,
     "metadata": {},
     "output_type": "execute_result"
    }
   ],
   "source": [
    "inspect.getmembers(func, inspect.isfunction)"
   ]
  },
  {
   "cell_type": "code",
   "execution_count": 91,
   "metadata": {},
   "outputs": [
    {
     "data": {
      "text/plain": [
       "<method-wrapper '__call__' of function object at 0x7f9fb4b38830>"
      ]
     },
     "execution_count": 91,
     "metadata": {},
     "output_type": "execute_result"
    }
   ],
   "source": [
    "func.__call__"
   ]
  },
  {
   "cell_type": "code",
   "execution_count": null,
   "metadata": {},
   "outputs": [],
   "source": []
  }
 ],
 "metadata": {
  "kernelspec": {
   "display_name": "Python 3",
   "language": "python",
   "name": "python3"
  },
  "language_info": {
   "codemirror_mode": {
    "name": "ipython",
    "version": 3
   },
   "file_extension": ".py",
   "mimetype": "text/x-python",
   "name": "python",
   "nbconvert_exporter": "python",
   "pygments_lexer": "ipython3",
   "version": "3.7.10"
  }
 },
 "nbformat": 4,
 "nbformat_minor": 2
}
