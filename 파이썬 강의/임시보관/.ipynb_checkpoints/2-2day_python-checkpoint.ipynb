{
 "cells": [
  {
   "cell_type": "markdown",
   "metadata": {},
   "source": [
    "# 변수"
   ]
  },
  {
   "cell_type": "markdown",
   "metadata": {},
   "source": [
    "name 객체 인스턴스의 이름\n",
    "\n",
    "1. 하나의 객체가 여러 이름을 가질 수 있음\n",
    "2. 이름은 하나의 객체만 가르킬 수 있음\n",
    "3. 이름은 불렀을대, (X call), 객체의 메모리 주소를 참고하여서 객체를 사용할 수 있음"
   ]
  },
  {
   "cell_type": "code",
   "execution_count": 3,
   "metadata": {},
   "outputs": [],
   "source": [
    "number = 1000\n",
    "string = \"Hello World!\"\n",
    "list_ = [1, 2, 3]"
   ]
  },
  {
   "cell_type": "code",
   "execution_count": 5,
   "metadata": {},
   "outputs": [
    {
     "data": {
      "text/plain": [
       "(4552927056, 4554619120, 4552558280)"
      ]
     },
     "execution_count": 5,
     "metadata": {},
     "output_type": "execute_result"
    }
   ],
   "source": [
    "id(number), id(string), id(list_) # 객체 고유의 식별자"
   ]
  },
  {
   "cell_type": "markdown",
   "metadata": {},
   "source": [
    "> id : Cpython 메모리 주소"
   ]
  },
  {
   "cell_type": "code",
   "execution_count": 6,
   "metadata": {},
   "outputs": [
    {
     "data": {
      "text/plain": [
       "4554731632"
      ]
     },
     "execution_count": 6,
     "metadata": {},
     "output_type": "execute_result"
    }
   ],
   "source": [
    "number = 1000\n",
    "id(number)"
   ]
  },
  {
   "cell_type": "code",
   "execution_count": 8,
   "metadata": {},
   "outputs": [
    {
     "data": {
      "text/plain": [
       "4514889472"
      ]
     },
     "execution_count": 8,
     "metadata": {},
     "output_type": "execute_result"
    }
   ],
   "source": [
    "number = 100\n",
    "id(number)"
   ]
  },
  {
   "cell_type": "markdown",
   "metadata": {},
   "source": [
    "## is 와 == 의 차이"
   ]
  },
  {
   "cell_type": "code",
   "execution_count": 9,
   "metadata": {},
   "outputs": [],
   "source": [
    "numbers1= [1, 2, 3]; numbers2 = [1, 2, 3]"
   ]
  },
  {
   "cell_type": "code",
   "execution_count": 12,
   "metadata": {},
   "outputs": [
    {
     "data": {
      "text/plain": [
       "False"
      ]
     },
     "execution_count": 12,
     "metadata": {},
     "output_type": "execute_result"
    }
   ],
   "source": [
    "numbers1 is numbers2 # 동일한 객체"
   ]
  },
  {
   "cell_type": "code",
   "execution_count": 14,
   "metadata": {},
   "outputs": [
    {
     "data": {
      "text/plain": [
       "True"
      ]
     },
     "execution_count": 14,
     "metadata": {},
     "output_type": "execute_result"
    }
   ],
   "source": [
    "numbers1 == numbers2 # list의 경우 : 같은 값들을 가지고 있는가"
   ]
  },
  {
   "cell_type": "markdown",
   "metadata": {},
   "source": [
    "### ==\n",
    "\n",
    "`__eq__` 에 정의된 대로 작동"
   ]
  },
  {
   "cell_type": "code",
   "execution_count": 40,
   "metadata": {},
   "outputs": [],
   "source": [
    "class Some:\n",
    "    def __eq__(self, other):\n",
    "        #print(other) # self, other관계를 증명하면 됩니다.\n",
    "        return True"
   ]
  },
  {
   "cell_type": "code",
   "execution_count": 41,
   "metadata": {},
   "outputs": [],
   "source": [
    "o1 = Some(); o2 = Some()"
   ]
  },
  {
   "cell_type": "code",
   "execution_count": 42,
   "metadata": {},
   "outputs": [
    {
     "data": {
      "text/plain": [
       "False"
      ]
     },
     "execution_count": 42,
     "metadata": {},
     "output_type": "execute_result"
    }
   ],
   "source": [
    "o1 is o2"
   ]
  },
  {
   "cell_type": "code",
   "execution_count": 43,
   "metadata": {},
   "outputs": [
    {
     "name": "stdout",
     "output_type": "stream",
     "text": [
      "True\n",
      "True\n"
     ]
    }
   ],
   "source": [
    "print(o1 == 'string')\n",
    "print(o1 == 123)"
   ]
  },
  {
   "cell_type": "markdown",
   "metadata": {},
   "source": [
    "# id\n",
    "\n",
    "메모리의 주소, \n",
    "\n",
    "같은 값을 가진 객체라고 할지라도, 별도로 생성하면, 중복해서 메모리에 올라갑니다."
   ]
  },
  {
   "cell_type": "code",
   "execution_count": 44,
   "metadata": {},
   "outputs": [],
   "source": [
    "number1 = 10000\n",
    "number2 = 10000"
   ]
  },
  {
   "cell_type": "code",
   "execution_count": 46,
   "metadata": {},
   "outputs": [
    {
     "data": {
      "text/plain": [
       "(4554733136, 4554618440)"
      ]
     },
     "execution_count": 46,
     "metadata": {},
     "output_type": "execute_result"
    }
   ],
   "source": [
    "id(number1), id(numbers2)"
   ]
  },
  {
   "cell_type": "code",
   "execution_count": 48,
   "metadata": {},
   "outputs": [
    {
     "data": {
      "text/plain": [
       "(False, True)"
      ]
     },
     "execution_count": 48,
     "metadata": {},
     "output_type": "execute_result"
    }
   ],
   "source": [
    "number1 is number2, number1 == number2"
   ]
  },
  {
   "cell_type": "markdown",
   "metadata": {},
   "source": [
    "# 정수 (int) cached internal\n",
    "\n",
    "[-5, 256] 범위에 정수를 인스턴스를 재생성하지 않습니다.\n",
    "\n",
    "`-5 <= x <= 256` "
   ]
  },
  {
   "cell_type": "code",
   "execution_count": 55,
   "metadata": {},
   "outputs": [],
   "source": [
    "a = 256\n",
    "b = 256\n",
    "c = 256"
   ]
  },
  {
   "cell_type": "code",
   "execution_count": 56,
   "metadata": {},
   "outputs": [
    {
     "data": {
      "text/plain": [
       "True"
      ]
     },
     "execution_count": 56,
     "metadata": {},
     "output_type": "execute_result"
    }
   ],
   "source": [
    "a is b is c"
   ]
  },
  {
   "cell_type": "markdown",
   "metadata": {},
   "source": [
    "# Immutable\n",
    "\n",
    "비어있는객체"
   ]
  },
  {
   "cell_type": "code",
   "execution_count": 1,
   "metadata": {},
   "outputs": [],
   "source": [
    "a = ()\n",
    "b = ()\n",
    "c = ()"
   ]
  },
  {
   "cell_type": "code",
   "execution_count": 2,
   "metadata": {},
   "outputs": [
    {
     "data": {
      "text/plain": [
       "tuple"
      ]
     },
     "execution_count": 2,
     "metadata": {},
     "output_type": "execute_result"
    }
   ],
   "source": [
    "type(a)"
   ]
  },
  {
   "cell_type": "code",
   "execution_count": 60,
   "metadata": {},
   "outputs": [
    {
     "data": {
      "text/plain": [
       "True"
      ]
     },
     "execution_count": 60,
     "metadata": {},
     "output_type": "execute_result"
    }
   ],
   "source": [
    "a is b is c"
   ]
  },
  {
   "cell_type": "code",
   "execution_count": 61,
   "metadata": {},
   "outputs": [],
   "source": [
    "a = frozenset()\n",
    "b = frozenset()\n",
    "c = frozenset()"
   ]
  },
  {
   "cell_type": "code",
   "execution_count": 62,
   "metadata": {},
   "outputs": [
    {
     "data": {
      "text/plain": [
       "True"
      ]
     },
     "execution_count": 62,
     "metadata": {},
     "output_type": "execute_result"
    }
   ],
   "source": [
    "a is b is c"
   ]
  },
  {
   "cell_type": "code",
   "execution_count": 63,
   "metadata": {},
   "outputs": [],
   "source": [
    "a = []\n",
    "b = []\n",
    "c = []"
   ]
  },
  {
   "cell_type": "code",
   "execution_count": 64,
   "metadata": {},
   "outputs": [
    {
     "data": {
      "text/plain": [
       "False"
      ]
     },
     "execution_count": 64,
     "metadata": {},
     "output_type": "execute_result"
    }
   ],
   "source": [
    "a is b is c"
   ]
  },
  {
   "cell_type": "code",
   "execution_count": 65,
   "metadata": {},
   "outputs": [],
   "source": [
    "a = ''\n",
    "b = ''\n",
    "c = ''"
   ]
  },
  {
   "cell_type": "code",
   "execution_count": 66,
   "metadata": {},
   "outputs": [
    {
     "data": {
      "text/plain": [
       "True"
      ]
     },
     "execution_count": 66,
     "metadata": {},
     "output_type": "execute_result"
    }
   ],
   "source": [
    "a is b is c"
   ]
  },
  {
   "cell_type": "markdown",
   "metadata": {},
   "source": [
    "# str 객체 cached internal\n",
    "\n",
    "변수로 사용가능한 문자는 intern이 발생\n"
   ]
  },
  {
   "cell_type": "code",
   "execution_count": 69,
   "metadata": {},
   "outputs": [],
   "source": [
    "a = \"_ab\"\n",
    "b = \"_ab\"\n",
    "c = \"_ab\""
   ]
  },
  {
   "cell_type": "code",
   "execution_count": 70,
   "metadata": {},
   "outputs": [
    {
     "data": {
      "text/plain": [
       "True"
      ]
     },
     "execution_count": 70,
     "metadata": {},
     "output_type": "execute_result"
    }
   ],
   "source": [
    "a is b is c"
   ]
  },
  {
   "cell_type": "code",
   "execution_count": 74,
   "metadata": {},
   "outputs": [],
   "source": [
    "a = \"!!!\"\n",
    "b = \"!!!\"\n",
    "c = \"!!!\""
   ]
  },
  {
   "cell_type": "code",
   "execution_count": 75,
   "metadata": {},
   "outputs": [
    {
     "data": {
      "text/plain": [
       "False"
      ]
     },
     "execution_count": 75,
     "metadata": {},
     "output_type": "execute_result"
    }
   ],
   "source": [
    "a is b is c"
   ]
  },
  {
   "cell_type": "markdown",
   "metadata": {},
   "source": [
    "### str 강제 인터닝"
   ]
  },
  {
   "cell_type": "code",
   "execution_count": 3,
   "metadata": {},
   "outputs": [],
   "source": [
    "from sys import intern"
   ]
  },
  {
   "cell_type": "code",
   "execution_count": 4,
   "metadata": {},
   "outputs": [],
   "source": [
    "a = intern(\"!!!\")\n",
    "b = intern(\"!!!\")\n",
    "c = intern(\"!!!\")"
   ]
  },
  {
   "cell_type": "code",
   "execution_count": 5,
   "metadata": {},
   "outputs": [
    {
     "data": {
      "text/plain": [
       "True"
      ]
     },
     "execution_count": 5,
     "metadata": {},
     "output_type": "execute_result"
    }
   ],
   "source": [
    "a is b is c"
   ]
  },
  {
   "cell_type": "markdown",
   "metadata": {},
   "source": [
    "## 메모리 뷰는 바이트코드 문자열에 대한 정보를 공유해서 사용할 때 처리 "
   ]
  },
  {
   "cell_type": "code",
   "execution_count": 13,
   "metadata": {},
   "outputs": [],
   "source": [
    "e = a.encode()"
   ]
  },
  {
   "cell_type": "code",
   "execution_count": 14,
   "metadata": {},
   "outputs": [],
   "source": [
    "d = memoryview(e)"
   ]
  },
  {
   "cell_type": "code",
   "execution_count": 15,
   "metadata": {},
   "outputs": [
    {
     "data": {
      "text/plain": [
       "False"
      ]
     },
     "execution_count": 15,
     "metadata": {},
     "output_type": "execute_result"
    }
   ],
   "source": [
    "d is e"
   ]
  },
  {
   "cell_type": "code",
   "execution_count": 16,
   "metadata": {},
   "outputs": [
    {
     "data": {
      "text/plain": [
       "<memory at 0x000002ADFE2BD348>"
      ]
     },
     "execution_count": 16,
     "metadata": {},
     "output_type": "execute_result"
    }
   ],
   "source": [
    "d"
   ]
  },
  {
   "cell_type": "code",
   "execution_count": 17,
   "metadata": {},
   "outputs": [
    {
     "data": {
      "text/plain": [
       "b'!!!'"
      ]
     },
     "execution_count": 17,
     "metadata": {},
     "output_type": "execute_result"
    }
   ],
   "source": [
    "d.obj"
   ]
  },
  {
   "cell_type": "code",
   "execution_count": 18,
   "metadata": {},
   "outputs": [
    {
     "data": {
      "text/plain": [
       "True"
      ]
     },
     "execution_count": 18,
     "metadata": {},
     "output_type": "execute_result"
    }
   ],
   "source": [
    "d.obj is e"
   ]
  },
  {
   "cell_type": "code",
   "execution_count": 82,
   "metadata": {},
   "outputs": [
    {
     "name": "stdout",
     "output_type": "stream",
     "text": [
      "Help on built-in function intern in module sys:\n",
      "\n",
      "intern(...)\n",
      "    intern(string) -> string\n",
      "    \n",
      "    ``Intern'' the given string.  This enters the string in the (global)\n",
      "    table of interned strings whose purpose is to speed up dictionary lookups.\n",
      "    Return the string itself or the previously interned string object with the\n",
      "    same value.\n",
      "\n"
     ]
    }
   ],
   "source": [
    "help(intern)"
   ]
  },
  {
   "cell_type": "markdown",
   "metadata": {},
   "source": [
    "# 지금까지 이야기한건 REPL환경 한정\n",
    "\n",
    "파이썬에서는 자동으로 intern을 해줍니다.\n",
    "\n",
    "단, 컴파일러가 실행되는 범위안에서 # python version3 부터"
   ]
  },
  {
   "cell_type": "code",
   "execution_count": 83,
   "metadata": {},
   "outputs": [
    {
     "data": {
      "text/plain": [
       "False"
      ]
     },
     "execution_count": 83,
     "metadata": {},
     "output_type": "execute_result"
    }
   ],
   "source": [
    "a = 'ab cd!'\n",
    "b = 'ab cd!'\n",
    "c = 'ab cd!'\n",
    "a is b is c"
   ]
  },
  {
   "cell_type": "code",
   "execution_count": 85,
   "metadata": {},
   "outputs": [],
   "source": [
    "source = \"\"\"\n",
    "a = 'ab cd!'\n",
    "b = 'ab cd!'\n",
    "c = 'ab cd!'\n",
    "print(a is b is c)\n",
    "\"\"\""
   ]
  },
  {
   "cell_type": "code",
   "execution_count": 86,
   "metadata": {},
   "outputs": [
    {
     "name": "stdout",
     "output_type": "stream",
     "text": [
      "True\n"
     ]
    }
   ],
   "source": [
    "exec(source)"
   ]
  },
  {
   "cell_type": "markdown",
   "metadata": {},
   "source": [
    "# 함수 호출 방법\n",
    "\n",
    "call by value?? call by reference???"
   ]
  },
  {
   "cell_type": "markdown",
   "metadata": {},
   "source": [
    "## call by Reference"
   ]
  },
  {
   "cell_type": "code",
   "execution_count": 90,
   "metadata": {},
   "outputs": [],
   "source": [
    "def spam(eggs):\n",
    "    eggs.append(1)\n",
    "    eggs = [2, 3]"
   ]
  },
  {
   "cell_type": "code",
   "execution_count": 91,
   "metadata": {},
   "outputs": [],
   "source": [
    "ham = [0]"
   ]
  },
  {
   "cell_type": "code",
   "execution_count": 92,
   "metadata": {},
   "outputs": [],
   "source": [
    "spam(ham)"
   ]
  },
  {
   "cell_type": "code",
   "execution_count": 93,
   "metadata": {},
   "outputs": [
    {
     "data": {
      "text/plain": [
       "[0, 1]"
      ]
     },
     "execution_count": 93,
     "metadata": {},
     "output_type": "execute_result"
    }
   ],
   "source": [
    "ham # call by value? [0]이 출력"
   ]
  },
  {
   "cell_type": "markdown",
   "metadata": {},
   "source": [
    "####  call by value "
   ]
  },
  {
   "cell_type": "code",
   "execution_count": 98,
   "metadata": {},
   "outputs": [],
   "source": [
    "from copy import deepcopy"
   ]
  },
  {
   "cell_type": "code",
   "execution_count": 100,
   "metadata": {},
   "outputs": [],
   "source": [
    "def spam(eggs):\n",
    "    eggs = deepcopy(eggs)\n",
    "    eggs.append(1)\n",
    "    eggs = [2, 3]"
   ]
  },
  {
   "cell_type": "code",
   "execution_count": 101,
   "metadata": {},
   "outputs": [],
   "source": [
    "ham = [0]\n",
    "spam(ham)"
   ]
  },
  {
   "cell_type": "code",
   "execution_count": 102,
   "metadata": {},
   "outputs": [
    {
     "data": {
      "text/plain": [
       "[0]"
      ]
     },
     "execution_count": 102,
     "metadata": {},
     "output_type": "execute_result"
    }
   ],
   "source": [
    "ham"
   ]
  },
  {
   "cell_type": "markdown",
   "metadata": {},
   "source": [
    "## call by reference"
   ]
  },
  {
   "cell_type": "code",
   "execution_count": 94,
   "metadata": {},
   "outputs": [],
   "source": [
    "def spam(eggs):\n",
    "    eggs.append(1)\n",
    "    eggs = [2, 3]"
   ]
  },
  {
   "cell_type": "code",
   "execution_count": 95,
   "metadata": {},
   "outputs": [],
   "source": [
    "ham = [0]"
   ]
  },
  {
   "cell_type": "code",
   "execution_count": 96,
   "metadata": {},
   "outputs": [],
   "source": [
    "spam(ham)"
   ]
  },
  {
   "cell_type": "code",
   "execution_count": 97,
   "metadata": {},
   "outputs": [
    {
     "data": {
      "text/plain": [
       "[0, 1]"
      ]
     },
     "execution_count": 97,
     "metadata": {},
     "output_type": "execute_result"
    }
   ],
   "source": [
    "ham # call by reference라면... [2, 3]"
   ]
  },
  {
   "cell_type": "markdown",
   "metadata": {},
   "source": [
    "> call by reference 처럼 작동하게"
   ]
  },
  {
   "cell_type": "code",
   "execution_count": 103,
   "metadata": {},
   "outputs": [],
   "source": [
    "def spam(eggs):\n",
    "    eggs.append(1)\n",
    "    eggs[:] = [2, 3]"
   ]
  },
  {
   "cell_type": "code",
   "execution_count": 104,
   "metadata": {},
   "outputs": [],
   "source": [
    "ham = [0]"
   ]
  },
  {
   "cell_type": "code",
   "execution_count": 105,
   "metadata": {},
   "outputs": [],
   "source": [
    "spam(ham)"
   ]
  },
  {
   "cell_type": "code",
   "execution_count": 106,
   "metadata": {},
   "outputs": [
    {
     "data": {
      "text/plain": [
       "[2, 3]"
      ]
     },
     "execution_count": 106,
     "metadata": {},
     "output_type": "execute_result"
    }
   ],
   "source": [
    "ham"
   ]
  },
  {
   "cell_type": "code",
   "execution_count": null,
   "metadata": {},
   "outputs": [],
   "source": []
  },
  {
   "cell_type": "markdown",
   "metadata": {},
   "source": [
    "## call by objects ( sharing )"
   ]
  },
  {
   "cell_type": "markdown",
   "metadata": {},
   "source": [
    "### call by value\n",
    "\n",
    "immutable"
   ]
  },
  {
   "cell_type": "code",
   "execution_count": 112,
   "metadata": {},
   "outputs": [],
   "source": [
    "def spam(eggs):\n",
    "    eggs += '!!!' # 새로운 객체가 생성되서 eggs변수에 담김\n",
    "    print(eggs) "
   ]
  },
  {
   "cell_type": "code",
   "execution_count": 113,
   "metadata": {},
   "outputs": [],
   "source": [
    "ham = 'hi'"
   ]
  },
  {
   "cell_type": "code",
   "execution_count": 114,
   "metadata": {},
   "outputs": [
    {
     "name": "stdout",
     "output_type": "stream",
     "text": [
      "hi!!!\n"
     ]
    }
   ],
   "source": [
    "spam(ham)"
   ]
  },
  {
   "cell_type": "code",
   "execution_count": 115,
   "metadata": {},
   "outputs": [
    {
     "data": {
      "text/plain": [
       "'hi'"
      ]
     },
     "execution_count": 115,
     "metadata": {},
     "output_type": "execute_result"
    }
   ],
   "source": [
    "ham"
   ]
  },
  {
   "cell_type": "code",
   "execution_count": null,
   "metadata": {},
   "outputs": [],
   "source": []
  },
  {
   "cell_type": "markdown",
   "metadata": {},
   "source": [
    "## call by reference처럼 보였던 이유"
   ]
  },
  {
   "cell_type": "code",
   "execution_count": 116,
   "metadata": {},
   "outputs": [],
   "source": [
    "# mutable"
   ]
  },
  {
   "cell_type": "code",
   "execution_count": 118,
   "metadata": {},
   "outputs": [],
   "source": [
    "def spam(eggs):\n",
    "    eggs.append(3)\n",
    "    print(eggs)"
   ]
  },
  {
   "cell_type": "code",
   "execution_count": 119,
   "metadata": {},
   "outputs": [],
   "source": [
    "ham = [1, 2]"
   ]
  },
  {
   "cell_type": "code",
   "execution_count": 120,
   "metadata": {},
   "outputs": [
    {
     "name": "stdout",
     "output_type": "stream",
     "text": [
      "[1, 2, 3]\n"
     ]
    }
   ],
   "source": [
    "spam(ham)"
   ]
  },
  {
   "cell_type": "code",
   "execution_count": 121,
   "metadata": {},
   "outputs": [
    {
     "data": {
      "text/plain": [
       "[1, 2, 3]"
      ]
     },
     "execution_count": 121,
     "metadata": {},
     "output_type": "execute_result"
    }
   ],
   "source": [
    "ham"
   ]
  },
  {
   "cell_type": "markdown",
   "metadata": {},
   "source": [
    "## packing, unpacking\n",
    "\n",
    "객체 호출할때 매개변수와 인자간 갯수 충돌 방지"
   ]
  },
  {
   "cell_type": "markdown",
   "metadata": {},
   "source": [
    "unpacking"
   ]
  },
  {
   "cell_type": "code",
   "execution_count": 122,
   "metadata": {},
   "outputs": [],
   "source": [
    "def call(a, b, c):\n",
    "    print(a, b, c)"
   ]
  },
  {
   "cell_type": "code",
   "execution_count": 123,
   "metadata": {},
   "outputs": [],
   "source": [
    "values = [1, 2, 3]"
   ]
  },
  {
   "cell_type": "code",
   "execution_count": 127,
   "metadata": {},
   "outputs": [
    {
     "name": "stdout",
     "output_type": "stream",
     "text": [
      "1 2 3\n"
     ]
    }
   ],
   "source": [
    "call(*values)"
   ]
  },
  {
   "cell_type": "markdown",
   "metadata": {},
   "source": [
    "packing"
   ]
  },
  {
   "cell_type": "code",
   "execution_count": 128,
   "metadata": {},
   "outputs": [],
   "source": [
    "def call(*a):\n",
    "    for x in a:\n",
    "        print(x)"
   ]
  },
  {
   "cell_type": "code",
   "execution_count": 129,
   "metadata": {},
   "outputs": [
    {
     "name": "stdout",
     "output_type": "stream",
     "text": [
      "1\n",
      "2\n",
      "3\n",
      "4\n",
      "5\n"
     ]
    }
   ],
   "source": [
    "call(1, 2, 3, 4, 5)"
   ]
  },
  {
   "cell_type": "markdown",
   "metadata": {},
   "source": [
    "## unpacking 주의"
   ]
  },
  {
   "cell_type": "code",
   "execution_count": 134,
   "metadata": {},
   "outputs": [],
   "source": [
    "def print_vector(x, y, z):\n",
    "    print(f\"{x}, {y}, {z}\")"
   ]
  },
  {
   "cell_type": "code",
   "execution_count": 138,
   "metadata": {},
   "outputs": [],
   "source": [
    "vector = {'x': 1, 'y': 2, 'z': 3}"
   ]
  },
  {
   "cell_type": "code",
   "execution_count": 143,
   "metadata": {},
   "outputs": [
    {
     "name": "stdout",
     "output_type": "stream",
     "text": [
      "x, y, z\n"
     ]
    }
   ],
   "source": [
    "print_vector(*vector)"
   ]
  },
  {
   "cell_type": "code",
   "execution_count": 144,
   "metadata": {},
   "outputs": [
    {
     "name": "stdout",
     "output_type": "stream",
     "text": [
      "1, 2, 3\n"
     ]
    }
   ],
   "source": [
    "print_vector(**vector)"
   ]
  },
  {
   "cell_type": "markdown",
   "metadata": {},
   "source": [
    "### 키워드 인자의 unpacking은 mapping객체만 가능,  위치 인자의 unpacking은 iterable객체만 가능\n",
    "### dict타입은 mapping이면서 iterable객체이기때문에, 둘다 가능"
   ]
  },
  {
   "cell_type": "markdown",
   "metadata": {},
   "source": [
    "# Extended Iterable Unpacking\n",
    "\n",
    "## PEP 3132\n",
    "\n",
    "iterable객체는 unpacking문법을 통해 변수 할당 가능"
   ]
  },
  {
   "cell_type": "code",
   "execution_count": 145,
   "metadata": {},
   "outputs": [],
   "source": [
    "a, *_, c = range(5)"
   ]
  },
  {
   "cell_type": "code",
   "execution_count": 146,
   "metadata": {},
   "outputs": [
    {
     "data": {
      "text/plain": [
       "(0, 4)"
      ]
     },
     "execution_count": 146,
     "metadata": {},
     "output_type": "execute_result"
    }
   ],
   "source": [
    "a, c"
   ]
  },
  {
   "cell_type": "markdown",
   "metadata": {},
   "source": [
    "# (a, (b, c)) = 1, 2, 3"
   ]
  },
  {
   "cell_type": "code",
   "execution_count": 148,
   "metadata": {},
   "outputs": [],
   "source": [
    "a, (b, c) = [1, [2, 3]]"
   ]
  },
  {
   "cell_type": "code",
   "execution_count": 149,
   "metadata": {},
   "outputs": [
    {
     "data": {
      "text/plain": [
       "(1, 2, 3)"
      ]
     },
     "execution_count": 149,
     "metadata": {},
     "output_type": "execute_result"
    }
   ],
   "source": [
    "a, b, c"
   ]
  },
  {
   "cell_type": "code",
   "execution_count": 151,
   "metadata": {},
   "outputs": [
    {
     "ename": "SyntaxError",
     "evalue": "invalid syntax (<ipython-input-151-72e31b1ad22c>, line 1)",
     "output_type": "error",
     "traceback": [
      "\u001b[0;36m  File \u001b[0;32m\"<ipython-input-151-72e31b1ad22c>\"\u001b[0;36m, line \u001b[0;32m1\u001b[0m\n\u001b[0;31m    def func((a, (b, c))):\u001b[0m\n\u001b[0m             ^\u001b[0m\n\u001b[0;31mSyntaxError\u001b[0m\u001b[0;31m:\u001b[0m invalid syntax\n"
     ]
    }
   ],
   "source": [
    "def func((a, (b, c))):\n",
    "    print(a, b+c)"
   ]
  },
  {
   "cell_type": "markdown",
   "metadata": {},
   "source": [
    "### PEP3113 Removal of Tuple Parameter Unpacking"
   ]
  },
  {
   "cell_type": "markdown",
   "metadata": {},
   "source": [
    "## additional unpacking Generalizations\n",
    "\n",
    "## PEP 448\n",
    "\n",
    "함수호출, tuple, set, dictionary안에서 언패킹"
   ]
  },
  {
   "cell_type": "code",
   "execution_count": 152,
   "metadata": {},
   "outputs": [
    {
     "name": "stdout",
     "output_type": "stream",
     "text": [
      "[1, 2] 3\n"
     ]
    }
   ],
   "source": [
    "print([1, 2], 3)"
   ]
  },
  {
   "cell_type": "code",
   "execution_count": 153,
   "metadata": {},
   "outputs": [
    {
     "name": "stdout",
     "output_type": "stream",
     "text": [
      "1 2 3\n"
     ]
    }
   ],
   "source": [
    "print(*[1, 2], 3)"
   ]
  },
  {
   "cell_type": "code",
   "execution_count": 154,
   "metadata": {},
   "outputs": [],
   "source": [
    "a = {'a': 1}\n",
    "b = {'b': 2}"
   ]
  },
  {
   "cell_type": "code",
   "execution_count": 155,
   "metadata": {},
   "outputs": [],
   "source": [
    "c = {\n",
    "    **a,\n",
    "    **b\n",
    "}"
   ]
  },
  {
   "cell_type": "code",
   "execution_count": 156,
   "metadata": {},
   "outputs": [
    {
     "data": {
      "text/plain": [
       "{'a': 1, 'b': 2}"
      ]
     },
     "execution_count": 156,
     "metadata": {},
     "output_type": "execute_result"
    }
   ],
   "source": [
    "c"
   ]
  },
  {
   "cell_type": "code",
   "execution_count": 159,
   "metadata": {},
   "outputs": [
    {
     "data": {
      "text/plain": [
       "[0, 1, 2, 3, 4, 5, 6, 7, 8, 9]"
      ]
     },
     "execution_count": 159,
     "metadata": {},
     "output_type": "execute_result"
    }
   ],
   "source": [
    "[ *range(10) ]"
   ]
  },
  {
   "cell_type": "markdown",
   "metadata": {},
   "source": [
    "## 리스트를 만드는 속도 비교\n",
    "\n",
    "1. while 문 + append\n",
    "2. for 문 + append\n",
    "3. list comprehension\n",
    "4. additional unpacking"
   ]
  },
  {
   "cell_type": "code",
   "execution_count": 160,
   "metadata": {},
   "outputs": [],
   "source": [
    "N = 100000"
   ]
  },
  {
   "cell_type": "code",
   "execution_count": 161,
   "metadata": {},
   "outputs": [
    {
     "name": "stdout",
     "output_type": "stream",
     "text": [
      "CPU times: user 23.2 ms, sys: 2.33 ms, total: 25.5 ms\n",
      "Wall time: 24.7 ms\n"
     ]
    }
   ],
   "source": [
    "%%time\n",
    "\n",
    "result = []\n",
    "i = 0\n",
    "while True:\n",
    "    result.append(i)\n",
    "    i += 1\n",
    "    if i > N:\n",
    "        break"
   ]
  },
  {
   "cell_type": "code",
   "execution_count": 162,
   "metadata": {},
   "outputs": [
    {
     "name": "stdout",
     "output_type": "stream",
     "text": [
      "CPU times: user 16.5 ms, sys: 3.05 ms, total: 19.5 ms\n",
      "Wall time: 18.9 ms\n"
     ]
    }
   ],
   "source": [
    "%%time\n",
    "\n",
    "result = []\n",
    "for i in range(N):\n",
    "    result.append(i)"
   ]
  },
  {
   "cell_type": "code",
   "execution_count": 163,
   "metadata": {},
   "outputs": [
    {
     "name": "stdout",
     "output_type": "stream",
     "text": [
      "CPU times: user 5.8 ms, sys: 2.23 ms, total: 8.03 ms\n",
      "Wall time: 7.67 ms\n"
     ]
    }
   ],
   "source": [
    "%%time\n",
    "\n",
    "result = [ x for x in range(N) ]"
   ]
  },
  {
   "cell_type": "code",
   "execution_count": 165,
   "metadata": {},
   "outputs": [
    {
     "name": "stdout",
     "output_type": "stream",
     "text": [
      "CPU times: user 3.8 ms, sys: 1.42 ms, total: 5.22 ms\n",
      "Wall time: 5.19 ms\n"
     ]
    }
   ],
   "source": [
    "%%time\n",
    "\n",
    "result = [ *range(N) ] #  == list(range(N))"
   ]
  },
  {
   "cell_type": "markdown",
   "metadata": {},
   "source": [
    "# 함수"
   ]
  },
  {
   "cell_type": "markdown",
   "metadata": {},
   "source": [
    "`callable`객체... \n",
    "\n",
    "`__call__` 메소드가 구현되어 있는 객체"
   ]
  },
  {
   "cell_type": "code",
   "execution_count": 166,
   "metadata": {},
   "outputs": [],
   "source": [
    "def func():\n",
    "    pass"
   ]
  },
  {
   "cell_type": "code",
   "execution_count": 167,
   "metadata": {},
   "outputs": [],
   "source": [
    "is_callable = func, sum, type, 0, '123', lambda x : x+1"
   ]
  },
  {
   "cell_type": "code",
   "execution_count": 168,
   "metadata": {},
   "outputs": [
    {
     "data": {
      "text/plain": [
       "[True, True, True, False, False, True]"
      ]
     },
     "execution_count": 168,
     "metadata": {},
     "output_type": "execute_result"
    }
   ],
   "source": [
    "[ *map(callable, is_callable) ]"
   ]
  },
  {
   "cell_type": "code",
   "execution_count": 169,
   "metadata": {},
   "outputs": [],
   "source": [
    "from types import FunctionType"
   ]
  },
  {
   "cell_type": "code",
   "execution_count": 171,
   "metadata": {},
   "outputs": [
    {
     "data": {
      "text/plain": [
       "True"
      ]
     },
     "execution_count": 171,
     "metadata": {},
     "output_type": "execute_result"
    }
   ],
   "source": [
    "isinstance(func, FunctionType) # 권장 X"
   ]
  },
  {
   "cell_type": "code",
   "execution_count": 172,
   "metadata": {},
   "outputs": [],
   "source": [
    "from inspect import isfunction"
   ]
  },
  {
   "cell_type": "code",
   "execution_count": 174,
   "metadata": {},
   "outputs": [
    {
     "data": {
      "text/plain": [
       "True"
      ]
     },
     "execution_count": 174,
     "metadata": {},
     "output_type": "execute_result"
    }
   ],
   "source": [
    "isfunction(func) # 권장 X"
   ]
  },
  {
   "cell_type": "markdown",
   "metadata": {},
   "source": [
    "callable함수를 통해서 검증"
   ]
  },
  {
   "cell_type": "code",
   "execution_count": 176,
   "metadata": {},
   "outputs": [
    {
     "data": {
      "text/plain": [
       "[True, True, True, False, False, True]"
      ]
     },
     "execution_count": 176,
     "metadata": {},
     "output_type": "execute_result"
    }
   ],
   "source": [
    "[ *map(lambda x : hasattr(x, '__call__'), is_callable)]"
   ]
  },
  {
   "cell_type": "markdown",
   "metadata": {},
   "source": [
    "# callable\n",
    "\n",
    "`__call__`속성이 존재하는 객체"
   ]
  },
  {
   "cell_type": "code",
   "execution_count": 177,
   "metadata": {},
   "outputs": [],
   "source": [
    "class Callable1:\n",
    "    def __call__(self):\n",
    "        \"\"\"아무것도 안합니다.\"\"\""
   ]
  },
  {
   "cell_type": "code",
   "execution_count": 178,
   "metadata": {},
   "outputs": [],
   "source": [
    "callable_obj1 = Callable1()"
   ]
  },
  {
   "cell_type": "code",
   "execution_count": 179,
   "metadata": {},
   "outputs": [],
   "source": [
    "callable_obj1()"
   ]
  },
  {
   "cell_type": "code",
   "execution_count": 180,
   "metadata": {},
   "outputs": [
    {
     "data": {
      "text/plain": [
       "True"
      ]
     },
     "execution_count": 180,
     "metadata": {},
     "output_type": "execute_result"
    }
   ],
   "source": [
    "callable(callable_obj1)"
   ]
  },
  {
   "cell_type": "code",
   "execution_count": 182,
   "metadata": {},
   "outputs": [],
   "source": [
    "class Callable2:\n",
    "    __call__ = True"
   ]
  },
  {
   "cell_type": "code",
   "execution_count": 183,
   "metadata": {},
   "outputs": [],
   "source": [
    "callable_obj2 = Callable2()"
   ]
  },
  {
   "cell_type": "code",
   "execution_count": 184,
   "metadata": {},
   "outputs": [
    {
     "data": {
      "text/plain": [
       "True"
      ]
     },
     "execution_count": 184,
     "metadata": {},
     "output_type": "execute_result"
    }
   ],
   "source": [
    "callable(callable_obj2)"
   ]
  },
  {
   "cell_type": "code",
   "execution_count": 185,
   "metadata": {},
   "outputs": [],
   "source": [
    "from collections import Callable"
   ]
  },
  {
   "cell_type": "code",
   "execution_count": 186,
   "metadata": {},
   "outputs": [
    {
     "data": {
      "text/plain": [
       "collections.abc.Callable"
      ]
     },
     "execution_count": 186,
     "metadata": {},
     "output_type": "execute_result"
    }
   ],
   "source": [
    "Callable"
   ]
  },
  {
   "cell_type": "code",
   "execution_count": 188,
   "metadata": {},
   "outputs": [
    {
     "data": {
      "text/plain": [
       "True"
      ]
     },
     "execution_count": 188,
     "metadata": {},
     "output_type": "execute_result"
    }
   ],
   "source": [
    "isinstance(callable_obj1, Callable)"
   ]
  },
  {
   "cell_type": "markdown",
   "metadata": {},
   "source": [
    "## 호출 방식"
   ]
  },
  {
   "cell_type": "code",
   "execution_count": 189,
   "metadata": {},
   "outputs": [],
   "source": [
    "def f(x):\n",
    "    print(\"call\", x, sep='-', end=' ')\n",
    "    return x"
   ]
  },
  {
   "cell_type": "code",
   "execution_count": 190,
   "metadata": {},
   "outputs": [
    {
     "name": "stdout",
     "output_type": "stream",
     "text": [
      "call-1 call-2 call-3 call-4 call-5 call-6 call-7 call-8 call-9 call-10 "
     ]
    }
   ],
   "source": [
    "def func(a, b=[f(x) for x in range(1, 10+1)]):\n",
    "    print(a)\n",
    "    print(b)"
   ]
  },
  {
   "cell_type": "code",
   "execution_count": 192,
   "metadata": {},
   "outputs": [
    {
     "data": {
      "text/plain": [
       "([1, 2, 3, 4, 5, 6, 7, 8, 9, 10],)"
      ]
     },
     "execution_count": 192,
     "metadata": {},
     "output_type": "execute_result"
    }
   ],
   "source": [
    "func.__defaults__"
   ]
  },
  {
   "cell_type": "code",
   "execution_count": 194,
   "metadata": {},
   "outputs": [],
   "source": [
    "def func(value=1, *, a=[]):\n",
    "    a.append(value)\n",
    "    return a"
   ]
  },
  {
   "cell_type": "code",
   "execution_count": 196,
   "metadata": {},
   "outputs": [
    {
     "data": {
      "text/plain": [
       "((1,), {'a': []})"
      ]
     },
     "execution_count": 196,
     "metadata": {},
     "output_type": "execute_result"
    }
   ],
   "source": [
    "func.__defaults__, func.__kwdefaults__"
   ]
  },
  {
   "cell_type": "code",
   "execution_count": 197,
   "metadata": {},
   "outputs": [
    {
     "data": {
      "text/plain": [
       "[1]"
      ]
     },
     "execution_count": 197,
     "metadata": {},
     "output_type": "execute_result"
    }
   ],
   "source": [
    "func()"
   ]
  },
  {
   "cell_type": "code",
   "execution_count": 202,
   "metadata": {},
   "outputs": [
    {
     "data": {
      "text/plain": [
       "[1, 2, 3, 3]"
      ]
     },
     "execution_count": 202,
     "metadata": {},
     "output_type": "execute_result"
    }
   ],
   "source": [
    "values = [1, 2, 3]\n",
    "func(3, a=values)"
   ]
  },
  {
   "cell_type": "code",
   "execution_count": 203,
   "metadata": {},
   "outputs": [
    {
     "data": {
      "text/plain": [
       "[1, 1, 1, 1, 3, 1]"
      ]
     },
     "execution_count": 203,
     "metadata": {},
     "output_type": "execute_result"
    }
   ],
   "source": [
    "func()"
   ]
  },
  {
   "cell_type": "code",
   "execution_count": 213,
   "metadata": {},
   "outputs": [
    {
     "data": {
      "text/plain": [
       "[1, 1, 1, 1, 3, 1, 1, 1, 1, 1, 1, 1, 1, 1, 1, 1]"
      ]
     },
     "execution_count": 213,
     "metadata": {},
     "output_type": "execute_result"
    }
   ],
   "source": [
    "func()"
   ]
  },
  {
   "cell_type": "code",
   "execution_count": 215,
   "metadata": {},
   "outputs": [],
   "source": [
    "def func(value=1, *, a=None):\n",
    "    if not a:\n",
    "        a = []\n",
    "    a.append(value)\n",
    "    return a"
   ]
  },
  {
   "cell_type": "code",
   "execution_count": 216,
   "metadata": {},
   "outputs": [
    {
     "data": {
      "text/plain": [
       "[1]"
      ]
     },
     "execution_count": 216,
     "metadata": {},
     "output_type": "execute_result"
    }
   ],
   "source": [
    "func()"
   ]
  },
  {
   "cell_type": "code",
   "execution_count": 218,
   "metadata": {},
   "outputs": [
    {
     "data": {
      "text/plain": [
       "[1]"
      ]
     },
     "execution_count": 218,
     "metadata": {},
     "output_type": "execute_result"
    }
   ],
   "source": [
    "func()"
   ]
  },
  {
   "cell_type": "code",
   "execution_count": 219,
   "metadata": {},
   "outputs": [
    {
     "data": {
      "text/plain": [
       "[1]"
      ]
     },
     "execution_count": 219,
     "metadata": {},
     "output_type": "execute_result"
    }
   ],
   "source": [
    "func()"
   ]
  },
  {
   "cell_type": "markdown",
   "metadata": {},
   "source": [
    "## 호출방식\n",
    "\n",
    "인자가 매개변수에 매칭되는 순서\n",
    "\n",
    "1. 위치 인자가 먼저 매개변수에 매칭됩니다.\n",
    "2. 키워드 인자가 대응하는 식별자 슬롯을 채웁니다."
   ]
  },
  {
   "cell_type": "code",
   "execution_count": 224,
   "metadata": {},
   "outputs": [],
   "source": [
    "def f(a, b, c, d, e=5):\n",
    "    print(a, b, c, d, e)"
   ]
  },
  {
   "cell_type": "code",
   "execution_count": 226,
   "metadata": {},
   "outputs": [
    {
     "name": "stdout",
     "output_type": "stream",
     "text": [
      "1 2 3 4 5\n"
     ]
    }
   ],
   "source": [
    "f(1, 2, 3, 4, 5)"
   ]
  },
  {
   "cell_type": "code",
   "execution_count": 227,
   "metadata": {},
   "outputs": [
    {
     "ename": "TypeError",
     "evalue": "f() got multiple values for argument 'd'",
     "output_type": "error",
     "traceback": [
      "\u001b[0;31m---------------------------------------------------------------------------\u001b[0m",
      "\u001b[0;31mTypeError\u001b[0m                                 Traceback (most recent call last)",
      "\u001b[0;32m<ipython-input-227-c922516a2242>\u001b[0m in \u001b[0;36m<module>\u001b[0;34m()\u001b[0m\n\u001b[0;32m----> 1\u001b[0;31m \u001b[0mf\u001b[0m\u001b[0;34m(\u001b[0m\u001b[0;36m1\u001b[0m\u001b[0;34m,\u001b[0m \u001b[0;36m2\u001b[0m\u001b[0;34m,\u001b[0m \u001b[0;36m3\u001b[0m\u001b[0;34m,\u001b[0m \u001b[0;36m4\u001b[0m\u001b[0;34m,\u001b[0m \u001b[0md\u001b[0m\u001b[0;34m=\u001b[0m\u001b[0;36m5\u001b[0m\u001b[0;34m)\u001b[0m\u001b[0;34m\u001b[0m\u001b[0m\n\u001b[0m",
      "\u001b[0;31mTypeError\u001b[0m: f() got multiple values for argument 'd'"
     ]
    }
   ],
   "source": [
    "f(1, 2, 3, 4, d=5)"
   ]
  },
  {
   "cell_type": "markdown",
   "metadata": {},
   "source": [
    "1. 위치 인자가 먼저 매개변수에 매칭됩니다.\n",
    "2. 키워드 인자가 대응하는 식별자 슬롯을 채웁니다.\n",
    "3. 키워드 인자가 이미 대응된 매개변수에 매칭되면 TypeError\n",
    "4. 모든 인자가 처리된 다음에 매개변수의 기본값이 지정"
   ]
  },
  {
   "cell_type": "code",
   "execution_count": 233,
   "metadata": {},
   "outputs": [
    {
     "name": "stdout",
     "output_type": "stream",
     "text": [
      "1 2 3 4 5\n"
     ]
    }
   ],
   "source": [
    "f(1, 2, 3, d=4)"
   ]
  },
  {
   "cell_type": "markdown",
   "metadata": {},
   "source": [
    "### packing"
   ]
  },
  {
   "cell_type": "code",
   "execution_count": 239,
   "metadata": {},
   "outputs": [],
   "source": [
    "def f(a, b):\n",
    "    print(a, b)"
   ]
  },
  {
   "cell_type": "code",
   "execution_count": 241,
   "metadata": {},
   "outputs": [
    {
     "name": "stdout",
     "output_type": "stream",
     "text": [
      "1 2\n"
     ]
    }
   ],
   "source": [
    "f(1, *(2,))"
   ]
  },
  {
   "cell_type": "code",
   "execution_count": 249,
   "metadata": {},
   "outputs": [
    {
     "ename": "TypeError",
     "evalue": "f() got multiple values for argument 'a'",
     "output_type": "error",
     "traceback": [
      "\u001b[0;31m---------------------------------------------------------------------------\u001b[0m",
      "\u001b[0;31mTypeError\u001b[0m                                 Traceback (most recent call last)",
      "\u001b[0;32m<ipython-input-249-00618096d558>\u001b[0m in \u001b[0;36m<module>\u001b[0;34m()\u001b[0m\n\u001b[0;32m----> 1\u001b[0;31m \u001b[0mf\u001b[0m\u001b[0;34m(\u001b[0m\u001b[0ma\u001b[0m\u001b[0;34m=\u001b[0m\u001b[0;36m1\u001b[0m\u001b[0;34m,\u001b[0m \u001b[0;34m*\u001b[0m\u001b[0;34m(\u001b[0m\u001b[0;36m2\u001b[0m\u001b[0;34m,\u001b[0m\u001b[0;34m)\u001b[0m\u001b[0;34m)\u001b[0m\u001b[0;34m\u001b[0m\u001b[0m\n\u001b[0m",
      "\u001b[0;31mTypeError\u001b[0m: f() got multiple values for argument 'a'"
     ]
    }
   ],
   "source": [
    "f(a=1, *(2,))"
   ]
  },
  {
   "cell_type": "code",
   "execution_count": 250,
   "metadata": {},
   "outputs": [
    {
     "name": "stdout",
     "output_type": "stream",
     "text": [
      "2 1\n"
     ]
    }
   ],
   "source": [
    "f(b=1, *(2,))"
   ]
  },
  {
   "cell_type": "code",
   "execution_count": 251,
   "metadata": {},
   "outputs": [
    {
     "name": "stdout",
     "output_type": "stream",
     "text": [
      "1 1\n"
     ]
    }
   ],
   "source": [
    "f(b=1, *(1,))"
   ]
  },
  {
   "cell_type": "markdown",
   "metadata": {},
   "source": [
    "# 코드 분석"
   ]
  },
  {
   "cell_type": "markdown",
   "metadata": {},
   "source": [
    "## inspect"
   ]
  },
  {
   "cell_type": "code",
   "execution_count": 253,
   "metadata": {},
   "outputs": [
    {
     "data": {
      "text/plain": [
       "<function __main__.func>"
      ]
     },
     "execution_count": 253,
     "metadata": {},
     "output_type": "execute_result"
    }
   ],
   "source": [
    "func"
   ]
  },
  {
   "cell_type": "code",
   "execution_count": 254,
   "metadata": {},
   "outputs": [],
   "source": [
    "import inspect"
   ]
  },
  {
   "cell_type": "markdown",
   "metadata": {},
   "source": [
    "## getsource"
   ]
  },
  {
   "cell_type": "code",
   "execution_count": 255,
   "metadata": {},
   "outputs": [],
   "source": [
    "source = inspect.getsource(func)"
   ]
  },
  {
   "cell_type": "code",
   "execution_count": 257,
   "metadata": {},
   "outputs": [
    {
     "name": "stdout",
     "output_type": "stream",
     "text": [
      "def func(a, b):\n",
      "    print(a, b)\n",
      "\n"
     ]
    }
   ],
   "source": [
    "print(source)"
   ]
  },
  {
   "cell_type": "code",
   "execution_count": 258,
   "metadata": {
    "scrolled": true
   },
   "outputs": [
    {
     "ename": "TypeError",
     "evalue": "<built-in function print> is not a module, class, method, function, traceback, frame, or code object",
     "output_type": "error",
     "traceback": [
      "\u001b[0;31m---------------------------------------------------------------------------\u001b[0m",
      "\u001b[0;31mTypeError\u001b[0m                                 Traceback (most recent call last)",
      "\u001b[0;32m<ipython-input-258-4dacd49a1982>\u001b[0m in \u001b[0;36m<module>\u001b[0;34m()\u001b[0m\n\u001b[0;32m----> 1\u001b[0;31m \u001b[0minspect\u001b[0m\u001b[0;34m.\u001b[0m\u001b[0mgetsource\u001b[0m\u001b[0;34m(\u001b[0m\u001b[0mprint\u001b[0m\u001b[0;34m)\u001b[0m\u001b[0;34m\u001b[0m\u001b[0m\n\u001b[0m",
      "\u001b[0;32m/usr/local/var/pyenv/versions/3.6.4/lib/python3.6/inspect.py\u001b[0m in \u001b[0;36mgetsource\u001b[0;34m(object)\u001b[0m\n\u001b[1;32m    966\u001b[0m     \u001b[0;32mor\u001b[0m \u001b[0mcode\u001b[0m \u001b[0mobject\u001b[0m\u001b[0;34m.\u001b[0m  \u001b[0mThe\u001b[0m \u001b[0msource\u001b[0m \u001b[0mcode\u001b[0m \u001b[0;32mis\u001b[0m \u001b[0mreturned\u001b[0m \u001b[0;32mas\u001b[0m \u001b[0ma\u001b[0m \u001b[0msingle\u001b[0m \u001b[0mstring\u001b[0m\u001b[0;34m.\u001b[0m  \u001b[0mAn\u001b[0m\u001b[0;34m\u001b[0m\u001b[0m\n\u001b[1;32m    967\u001b[0m     OSError is raised if the source code cannot be retrieved.\"\"\"\n\u001b[0;32m--> 968\u001b[0;31m     \u001b[0mlines\u001b[0m\u001b[0;34m,\u001b[0m \u001b[0mlnum\u001b[0m \u001b[0;34m=\u001b[0m \u001b[0mgetsourcelines\u001b[0m\u001b[0;34m(\u001b[0m\u001b[0mobject\u001b[0m\u001b[0;34m)\u001b[0m\u001b[0;34m\u001b[0m\u001b[0m\n\u001b[0m\u001b[1;32m    969\u001b[0m     \u001b[0;32mreturn\u001b[0m \u001b[0;34m''\u001b[0m\u001b[0;34m.\u001b[0m\u001b[0mjoin\u001b[0m\u001b[0;34m(\u001b[0m\u001b[0mlines\u001b[0m\u001b[0;34m)\u001b[0m\u001b[0;34m\u001b[0m\u001b[0m\n\u001b[1;32m    970\u001b[0m \u001b[0;34m\u001b[0m\u001b[0m\n",
      "\u001b[0;32m/usr/local/var/pyenv/versions/3.6.4/lib/python3.6/inspect.py\u001b[0m in \u001b[0;36mgetsourcelines\u001b[0;34m(object)\u001b[0m\n\u001b[1;32m    953\u001b[0m     raised if the source code cannot be retrieved.\"\"\"\n\u001b[1;32m    954\u001b[0m     \u001b[0mobject\u001b[0m \u001b[0;34m=\u001b[0m \u001b[0munwrap\u001b[0m\u001b[0;34m(\u001b[0m\u001b[0mobject\u001b[0m\u001b[0;34m)\u001b[0m\u001b[0;34m\u001b[0m\u001b[0m\n\u001b[0;32m--> 955\u001b[0;31m     \u001b[0mlines\u001b[0m\u001b[0;34m,\u001b[0m \u001b[0mlnum\u001b[0m \u001b[0;34m=\u001b[0m \u001b[0mfindsource\u001b[0m\u001b[0;34m(\u001b[0m\u001b[0mobject\u001b[0m\u001b[0;34m)\u001b[0m\u001b[0;34m\u001b[0m\u001b[0m\n\u001b[0m\u001b[1;32m    956\u001b[0m \u001b[0;34m\u001b[0m\u001b[0m\n\u001b[1;32m    957\u001b[0m     \u001b[0;32mif\u001b[0m \u001b[0mismodule\u001b[0m\u001b[0;34m(\u001b[0m\u001b[0mobject\u001b[0m\u001b[0;34m)\u001b[0m\u001b[0;34m:\u001b[0m\u001b[0;34m\u001b[0m\u001b[0m\n",
      "\u001b[0;32m/usr/local/var/pyenv/versions/3.6.4/lib/python3.6/inspect.py\u001b[0m in \u001b[0;36mfindsource\u001b[0;34m(object)\u001b[0m\n\u001b[1;32m    766\u001b[0m     is raised if the source code cannot be retrieved.\"\"\"\n\u001b[1;32m    767\u001b[0m \u001b[0;34m\u001b[0m\u001b[0m\n\u001b[0;32m--> 768\u001b[0;31m     \u001b[0mfile\u001b[0m \u001b[0;34m=\u001b[0m \u001b[0mgetsourcefile\u001b[0m\u001b[0;34m(\u001b[0m\u001b[0mobject\u001b[0m\u001b[0;34m)\u001b[0m\u001b[0;34m\u001b[0m\u001b[0m\n\u001b[0m\u001b[1;32m    769\u001b[0m     \u001b[0;32mif\u001b[0m \u001b[0mfile\u001b[0m\u001b[0;34m:\u001b[0m\u001b[0;34m\u001b[0m\u001b[0m\n\u001b[1;32m    770\u001b[0m         \u001b[0;31m# Invalidate cache if needed.\u001b[0m\u001b[0;34m\u001b[0m\u001b[0;34m\u001b[0m\u001b[0m\n",
      "\u001b[0;32m/usr/local/var/pyenv/versions/3.6.4/lib/python3.6/inspect.py\u001b[0m in \u001b[0;36mgetsourcefile\u001b[0;34m(object)\u001b[0m\n\u001b[1;32m    682\u001b[0m     \u001b[0mReturn\u001b[0m \u001b[0;32mNone\u001b[0m \u001b[0;32mif\u001b[0m \u001b[0mno\u001b[0m \u001b[0mway\u001b[0m \u001b[0mcan\u001b[0m \u001b[0mbe\u001b[0m \u001b[0midentified\u001b[0m \u001b[0mto\u001b[0m \u001b[0mget\u001b[0m \u001b[0mthe\u001b[0m \u001b[0msource\u001b[0m\u001b[0;34m.\u001b[0m\u001b[0;34m\u001b[0m\u001b[0m\n\u001b[1;32m    683\u001b[0m     \"\"\"\n\u001b[0;32m--> 684\u001b[0;31m     \u001b[0mfilename\u001b[0m \u001b[0;34m=\u001b[0m \u001b[0mgetfile\u001b[0m\u001b[0;34m(\u001b[0m\u001b[0mobject\u001b[0m\u001b[0;34m)\u001b[0m\u001b[0;34m\u001b[0m\u001b[0m\n\u001b[0m\u001b[1;32m    685\u001b[0m     \u001b[0mall_bytecode_suffixes\u001b[0m \u001b[0;34m=\u001b[0m \u001b[0mimportlib\u001b[0m\u001b[0;34m.\u001b[0m\u001b[0mmachinery\u001b[0m\u001b[0;34m.\u001b[0m\u001b[0mDEBUG_BYTECODE_SUFFIXES\u001b[0m\u001b[0;34m[\u001b[0m\u001b[0;34m:\u001b[0m\u001b[0;34m]\u001b[0m\u001b[0;34m\u001b[0m\u001b[0m\n\u001b[1;32m    686\u001b[0m     \u001b[0mall_bytecode_suffixes\u001b[0m \u001b[0;34m+=\u001b[0m \u001b[0mimportlib\u001b[0m\u001b[0;34m.\u001b[0m\u001b[0mmachinery\u001b[0m\u001b[0;34m.\u001b[0m\u001b[0mOPTIMIZED_BYTECODE_SUFFIXES\u001b[0m\u001b[0;34m[\u001b[0m\u001b[0;34m:\u001b[0m\u001b[0;34m]\u001b[0m\u001b[0;34m\u001b[0m\u001b[0m\n",
      "\u001b[0;32m/usr/local/var/pyenv/versions/3.6.4/lib/python3.6/inspect.py\u001b[0m in \u001b[0;36mgetfile\u001b[0;34m(object)\u001b[0m\n\u001b[1;32m    664\u001b[0m         \u001b[0;32mreturn\u001b[0m \u001b[0mobject\u001b[0m\u001b[0;34m.\u001b[0m\u001b[0mco_filename\u001b[0m\u001b[0;34m\u001b[0m\u001b[0m\n\u001b[1;32m    665\u001b[0m     raise TypeError('{!r} is not a module, class, method, '\n\u001b[0;32m--> 666\u001b[0;31m                     'function, traceback, frame, or code object'.format(object))\n\u001b[0m\u001b[1;32m    667\u001b[0m \u001b[0;34m\u001b[0m\u001b[0m\n\u001b[1;32m    668\u001b[0m \u001b[0;32mdef\u001b[0m \u001b[0mgetmodulename\u001b[0m\u001b[0;34m(\u001b[0m\u001b[0mpath\u001b[0m\u001b[0;34m)\u001b[0m\u001b[0;34m:\u001b[0m\u001b[0;34m\u001b[0m\u001b[0m\n",
      "\u001b[0;31mTypeError\u001b[0m: <built-in function print> is not a module, class, method, function, traceback, frame, or code object"
     ]
    }
   ],
   "source": [
    "inspect.getsource(print)"
   ]
  },
  {
   "cell_type": "markdown",
   "metadata": {},
   "source": [
    "## getmembers"
   ]
  },
  {
   "cell_type": "code",
   "execution_count": 260,
   "metadata": {},
   "outputs": [
    {
     "data": {
      "text/plain": [
       "[('__annotations__', {}),\n",
       " ('__call__', <method-wrapper '__call__' of function object at 0x110929ea0>),\n",
       " ('__class__', function),\n",
       " ('__closure__', None),\n",
       " ('__code__',\n",
       "  <code object func at 0x10fa60390, file \"<ipython-input-237-bd844a2214fb>\", line 1>),\n",
       " ('__defaults__', None),\n",
       " ('__delattr__',\n",
       "  <method-wrapper '__delattr__' of function object at 0x110929ea0>),\n",
       " ('__dict__', {}),\n",
       " ('__dir__', <function function.__dir__>),\n",
       " ('__doc__', None),\n",
       " ('__eq__', <method-wrapper '__eq__' of function object at 0x110929ea0>),\n",
       " ('__format__', <function function.__format__>),\n",
       " ('__ge__', <method-wrapper '__ge__' of function object at 0x110929ea0>),\n",
       " ('__get__', <method-wrapper '__get__' of function object at 0x110929ea0>),\n",
       " ('__getattribute__',\n",
       "  <method-wrapper '__getattribute__' of function object at 0x110929ea0>),\n",
       " ('__globals__',\n",
       "  {'Callable': collections.abc.Callable,\n",
       "   'Callable1': __main__.Callable1,\n",
       "   'Callable2': __main__.Callable2,\n",
       "   'FunctionType': function,\n",
       "   'In': ['',\n",
       "    'number = 1000',\n",
       "    'number = 1000',\n",
       "    'number = 1000\\nstring = \"Hello World!\"\\nlist_ = [1, 2, 3]',\n",
       "    'id(number), id(string), id(list_)',\n",
       "    'id(number), id(string), id(list_) # 객체 고유의 식별자',\n",
       "    'number = 1000\\nid(number)',\n",
       "    'number = 100',\n",
       "    'number = 100\\nid(number)',\n",
       "    'numbers1= [1, 2, 3]; numbers2 = [1, 2, 3]',\n",
       "    'numbers1 is numbers2',\n",
       "    'numbers1 == numbers2',\n",
       "    'numbers1 is numbers2 # 동일한 객체',\n",
       "    'numbers1 == numbers2',\n",
       "    'numbers1 == numbers2 # list의 경우 : 같은 값들을 가지고 있는가',\n",
       "    'class Some:\\n    pass',\n",
       "    'o1 = Some(); o2 = Some()',\n",
       "    'o1 is o2',\n",
       "    'o1 == ',\n",
       "    'o1 == o2',\n",
       "    'class Some:\\n    def __eq__(self, *args):\\n        return True',\n",
       "    'o1 = Some(); o2 = Some()',\n",
       "    'o1 is o2',\n",
       "    'o1 == o2',\n",
       "    'o1 == 1',\n",
       "    'o1 == 1',\n",
       "    \"o1 == 'string'\",\n",
       "    'class Some:\\n    def __eq__(self, *args):\\n        print(args)\\n        return True',\n",
       "    'o1 = Some(); o2 = Some()',\n",
       "    'o1 is o2',\n",
       "    \"o1 == 'string'\",\n",
       "    'class Some:\\n    def __eq__(self, other):\\n        print(args) # self, other관계를 증명하면 됩니다.\\n        return True',\n",
       "    'o1 = Some(); o2 = Some()',\n",
       "    'o1 is o2',\n",
       "    \"o1 == 'string'\",\n",
       "    'class Some:\\n    def __eq__(self, other):\\n        print(other) # self, other관계를 증명하면 됩니다.\\n        return True',\n",
       "    'o1 = Some(); o2 = Some()',\n",
       "    'o1 is o2',\n",
       "    \"o1 == 'string'\",\n",
       "    \"print(o1 == 'string')\\nprint(o1 == 123)\",\n",
       "    'class Some:\\n    def __eq__(self, other):\\n        #print(other) # self, other관계를 증명하면 됩니다.\\n        return True',\n",
       "    'o1 = Some(); o2 = Some()',\n",
       "    'o1 is o2',\n",
       "    \"print(o1 == 'string')\\nprint(o1 == 123)\",\n",
       "    'number1 = 10000\\nnumber2 = 10000',\n",
       "    'id(number1), id(numbers2)',\n",
       "    'id(number1), id(numbers2)',\n",
       "    'number1 is number2',\n",
       "    'number1 is number2, number1 == number2',\n",
       "    'a = 100\\nb = 100\\nc = 100',\n",
       "    'a is b is c',\n",
       "    'a = 257\\nb = 257\\nc = 257',\n",
       "    'a is b is c',\n",
       "    'a = 256\\nb = 256\\nc = 256',\n",
       "    'a is b is c',\n",
       "    'a = 256\\nb = 256\\nc = 256',\n",
       "    'a is b is c',\n",
       "    'a = ()\\nb = ()\\nc = ()',\n",
       "    'a is b is c',\n",
       "    'a = ()\\nb = ()\\nc = ()',\n",
       "    'a is b is c',\n",
       "    'a = frozenset()\\nb = frozenset()\\nc = frozenset()',\n",
       "    'a is b is c',\n",
       "    'a = []\\nb = []\\nc = []',\n",
       "    'a is b is c',\n",
       "    \"a = ''\\nb = ''\\nc = ''\",\n",
       "    'a is b is c',\n",
       "    'a = \"_ab\"\\nb = \"_ab\"\\nc = \"_ab\"',\n",
       "    'a is b is c',\n",
       "    'a = \"_ab\"\\nb = \"_ab\"\\nc = \"_ab\"',\n",
       "    'a is b is c',\n",
       "    'a = \"!!!\"\\nb = \"!!!\"\\nc = \"!!!\"',\n",
       "    'a is b is c',\n",
       "    'a = \"!!!\"\\nb = \"!!!\"\\nc = \"!!!\"',\n",
       "    'a = \"!!!\"\\nb = \"!!!\"\\nc = \"!!!\"',\n",
       "    'a is b is c',\n",
       "    'from sys import intern',\n",
       "    'a = intern(\"!!!\")\\nb = intern(\"!!!\")\\nc = intern(\"!!!\")',\n",
       "    'a is b is c',\n",
       "    'a = intern(\"!!!\")\\nb = intern(\"!!!\")\\nc = intern(\"!!!\")',\n",
       "    'a is b is c',\n",
       "    'help(intern)',\n",
       "    'help(intern)',\n",
       "    \"a = 'ab cd!'\\nb = 'ab cd!'\\nc = 'ab cd!'\\na is b is c\",\n",
       "    'source = \"\"\"\\na = \\'ab cd!\\'\\nb = \\'ab cd!\\'\\nc = \\'ab cd!\\'\\nprint(a is b is c)\\n\"\"\"',\n",
       "    'source = \"\"\"\\na = \\'ab cd!\\'\\nb = \\'ab cd!\\'\\nc = \\'ab cd!\\'\\nprint(a is b is c)\\n\"\"\"',\n",
       "    'exec(source)',\n",
       "    'def spam(eggs):\\n    eggs.append(1)\\n    eggs = [2, 3]',\n",
       "    'ham = [0]',\n",
       "    'spam(ham)',\n",
       "    'def spam(eggs):\\n    eggs.append(1)\\n    eggs = [2, 3]',\n",
       "    'ham = [0]',\n",
       "    'spam(ham)',\n",
       "    'ham # call by value? [0]이 출력',\n",
       "    'def spam(eggs):\\n    eggs.append(1)\\n    eggs = [2, 3]',\n",
       "    'ham = [0]',\n",
       "    'spam(ham)',\n",
       "    'ham # call by reference라면... [2, 3]',\n",
       "    'from copy import deepcopy',\n",
       "    'def spam(eggs):\\n    eggs = deepcopy(eggs)\\n    eggs.append(1)',\n",
       "    'def spam(eggs):\\n    eggs = deepcopy(eggs)\\n    eggs.append(1)\\n    eggs = [2, 3]',\n",
       "    'ham = [0]\\nspam(ham)',\n",
       "    'ham',\n",
       "    'def spam(eggs):\\n    eggs.append(1)\\n    eggs[:] = [2, 3]',\n",
       "    'ham = [0]',\n",
       "    'spam(ham)',\n",
       "    'ham',\n",
       "    \"def spam(eggs):\\n    eggs += '!!!'\\n    print(eggs)\",\n",
       "    \"ham = 'hi'\",\n",
       "    'spam(ham)',\n",
       "    'ham',\n",
       "    \"def spam(eggs):\\n    eggs += '!!!' # 새로운 객체가 생성되서 eggs변수에 담김\\n    print(eggs) \",\n",
       "    \"def spam(eggs):\\n    eggs += '!!!' # 새로운 객체가 생성되서 eggs변수에 담김\\n    print(eggs) \",\n",
       "    \"ham = 'hi'\",\n",
       "    'spam(ham)',\n",
       "    'ham',\n",
       "    '# mutable',\n",
       "    'def spam(eggs):\\n    eggs.append(3)',\n",
       "    'def spam(eggs):\\n    eggs.append(3)\\n    print(eggs)',\n",
       "    'ham = [1, 2]',\n",
       "    'spam(ham)',\n",
       "    'ham',\n",
       "    'def call(a, b, c):\\n    print(a, b, c)',\n",
       "    'values = [1, 2, 3]',\n",
       "    'call(*values)',\n",
       "    'call(values)',\n",
       "    'call(*values)',\n",
       "    'call(*values)',\n",
       "    'def call(*a):\\n    for x in a:\\n        print(x)',\n",
       "    'call(1, 2, 3, 4, 5)',\n",
       "    'def print_vector(x, y, z):\\n    print(f\"{x}, {y}, {z}\")',\n",
       "    \"vector = {'x': 1, 'y': 2, 'z': 3}\",\n",
       "    'print_vector(*vector)',\n",
       "    'print_vector(**vector)',\n",
       "    'def print_vector(x, y, z):\\n    print(f\"{x}, {y}, {z}\")',\n",
       "    \"vector = {'x': 1, 'y': 2, 'z': 3}\",\n",
       "    'print_vector(*vector)',\n",
       "    'print_vector(**vector)',\n",
       "    \"vector = {'x': 1, 'y': 2, 'z': 3}\",\n",
       "    'print_vector(*vector)',\n",
       "    'print_vector(**vector)',\n",
       "    'print_vector(*vector)',\n",
       "    'print_vector(**vector)',\n",
       "    'print_vector(*vector)',\n",
       "    'print_vector(**vector)',\n",
       "    'a, *_, c = range(5)',\n",
       "    'a, c',\n",
       "    '_',\n",
       "    'a, (b, c) = [1, [2, 3]]',\n",
       "    'a, b, c',\n",
       "    'def func((a, (b, c))):\\n    print(a, b+c)',\n",
       "    'def func((a, (b, c))):\\n    print(a, b+c)',\n",
       "    'print([1, 2], 3)',\n",
       "    'print(*[1, 2], 3)',\n",
       "    \"a = {'a': 1}\\nb = {'b': 2}\",\n",
       "    'c = {\\n    **a,\\n    **b\\n}',\n",
       "    'c',\n",
       "    '[ *range(1000) ]',\n",
       "    '[ *range(10) ]',\n",
       "    '[ *range(10) ]',\n",
       "    'N = 100000',\n",
       "    \"get_ipython().run_cell_magic('time', '', '\\\\nresult = []\\\\ni = 0\\\\nwhile True:\\\\n    result.append(i)\\\\n    i += 1\\\\n    if i > N:\\\\n        break')\",\n",
       "    \"get_ipython().run_cell_magic('time', '', '\\\\nresult = []\\\\nfor i in range(N):\\\\n    result.append(i)')\",\n",
       "    \"get_ipython().run_cell_magic('time', '', '\\\\nresult = [ x for x in range(N) ]')\",\n",
       "    \"get_ipython().run_cell_magic('time', '', '\\\\nresult = [ *range(N) ]')\",\n",
       "    \"get_ipython().run_cell_magic('time', '', '\\\\nresult = [ *range(N) ] #  == list(range(N))')\",\n",
       "    'def func():\\n    pass',\n",
       "    \"is_callable = func, sum, type, 0, '123', lambda x : x+1\",\n",
       "    '[ *map(callable, is_callable) ]',\n",
       "    'from types import FunctionType',\n",
       "    'isinstance(func, FunctionType)',\n",
       "    'isinstance(func, FunctionType)',\n",
       "    'from inspect import isfunction',\n",
       "    'isfunction(func)',\n",
       "    'isfunction(func) # 권장 X',\n",
       "    \"[ *map(lambda x : hasattr(x, '__call__'), is_callable)]\",\n",
       "    \"[ *map(lambda x : hasattr(x, '__call__'), is_callable)]\",\n",
       "    'class Callable1:\\n    def __call__(self):\\n        \"\"\"아무것도 안합니다.\"\"\"',\n",
       "    'callable_obj1 = Callable1()',\n",
       "    'callable_obj1()',\n",
       "    'callable(callable_obj1)',\n",
       "    'class Callable1:\\n    __call__ = True',\n",
       "    'class Callable2:\\n    __call__ = True',\n",
       "    'callable_obj2 = Callable2()',\n",
       "    'callable(callable_obj2)',\n",
       "    'from collections import Callable',\n",
       "    'Callable',\n",
       "    'isinstance(callable_obj1, Callable)',\n",
       "    'isinstance(callable_obj1, Callable)',\n",
       "    'def f(x):\\n    print(\"call\", x, sep=\\'-\\', end=\\' \\')\\n    return x',\n",
       "    'def func(a, b=[f(x) for x in range(1, 10+1)]):\\n    print(a)\\n    print(b)',\n",
       "    'func.__defaults__',\n",
       "    'func.__defaults__',\n",
       "    'def func(value=1, *, a=[]):\\n    a.append(value)\\n    return a',\n",
       "    'def func(value=1, *, a=[]):\\n    a.append(value)\\n    return a',\n",
       "    'func.__defaults__',\n",
       "    'func.__defaults__, func.__kwdefaults__',\n",
       "    'func()',\n",
       "    'func()',\n",
       "    'func()',\n",
       "    'func()',\n",
       "    'func(3, )',\n",
       "    'values = [1, 2, 3]\\nfunc(3, a=values)',\n",
       "    'func()',\n",
       "    'func()',\n",
       "    'func()',\n",
       "    'func()',\n",
       "    'func()',\n",
       "    'func()',\n",
       "    'func()',\n",
       "    'func()',\n",
       "    'func()',\n",
       "    'func()',\n",
       "    'func()',\n",
       "    'def func(value=1, *, a=[]):\\n    a.append(value)\\n    return a',\n",
       "    'def func(value=1, *, a=None):\\n    if not a:\\n        a = []\\n    a.append(value)\\n    return a',\n",
       "    'func()',\n",
       "    'func()',\n",
       "    'func()',\n",
       "    'func()',\n",
       "    '1 is 1',\n",
       "    '1 == 1',\n",
       "    'None is None',\n",
       "    'None is None',\n",
       "    'def f(a, b, c, d, e=5):\\n    print(a, b, c, d, e)',\n",
       "    'f(1, 2, 3, 4, 5)',\n",
       "    'f(1, 2, 3, 4, 5)',\n",
       "    'f(1, 2, 3, 4, d=5)',\n",
       "    'f(1, 2, 3, d=4)',\n",
       "    'f(1, 2, c=4)',\n",
       "    'f(1, 2, c=4)',\n",
       "    'f(1, 2, c=4)',\n",
       "    'f(1, 2, 3, d=4)',\n",
       "    'f(1, 2, 3, d=4)',\n",
       "    'def func(a, b)\\n    print(a, b)',\n",
       "    'def func(a, b):\\n    print(a, b)',\n",
       "    'f(1, *(2,))',\n",
       "    'def func(a, b):\\n    print(a, b)',\n",
       "    'f(1, *(2,))',\n",
       "    'def f(a, b):\\n    print(a, b)',\n",
       "    'f(1, *(2,))',\n",
       "    'f(1, *(2,))',\n",
       "    'f(a=1, *(2,))',\n",
       "    'f(b=1, *(2,))',\n",
       "    'f(b=1, 1)',\n",
       "    'f(b=1, *(1,))',\n",
       "    'f(b=1, *(1,))',\n",
       "    'f(b=1, *(1,))',\n",
       "    'f(b=1, *(1,))',\n",
       "    'f(a=1, *(2,))',\n",
       "    'f(b=1, *(2,))',\n",
       "    'f(b=1, *(1,))',\n",
       "    'func',\n",
       "    'func',\n",
       "    'import inspect',\n",
       "    'source = inspect.getsource(func)',\n",
       "    'print(source)',\n",
       "    'print(source)',\n",
       "    'inspect.getsource(print)',\n",
       "    'inspect.getmembers(func)',\n",
       "    'inspect.getmembers(func)'],\n",
       "   'N': 100000,\n",
       "   'Out': {4: (4552927056, 4554619120, 4552558280),\n",
       "    5: (4552927056, 4554619120, 4552558280),\n",
       "    6: 4554731632,\n",
       "    8: 4514889472,\n",
       "    10: False,\n",
       "    11: True,\n",
       "    12: False,\n",
       "    13: True,\n",
       "    14: True,\n",
       "    17: False,\n",
       "    19: False,\n",
       "    22: False,\n",
       "    23: True,\n",
       "    24: True,\n",
       "    25: True,\n",
       "    26: True,\n",
       "    29: False,\n",
       "    30: True,\n",
       "    33: False,\n",
       "    37: False,\n",
       "    38: True,\n",
       "    42: False,\n",
       "    45: (4554733136, 4554618440),\n",
       "    46: (4554733136, 4554618440),\n",
       "    47: False,\n",
       "    48: (False, True),\n",
       "    50: True,\n",
       "    52: False,\n",
       "    54: True,\n",
       "    56: True,\n",
       "    58: True,\n",
       "    60: True,\n",
       "    62: True,\n",
       "    64: False,\n",
       "    66: True,\n",
       "    68: True,\n",
       "    70: True,\n",
       "    72: False,\n",
       "    75: False,\n",
       "    78: True,\n",
       "    80: True,\n",
       "    83: False,\n",
       "    93: [0, 1],\n",
       "    97: [0, 1],\n",
       "    102: [0],\n",
       "    106: [2, 3],\n",
       "    110: 'hi',\n",
       "    115: 'hi',\n",
       "    121: [1, 2, 3],\n",
       "    146: (0, 4),\n",
       "    147: [1, 2, 3],\n",
       "    149: (1, 2, 3),\n",
       "    156: {'a': 1, 'b': 2},\n",
       "    157: [0,\n",
       "     1,\n",
       "     2,\n",
       "     3,\n",
       "     4,\n",
       "     5,\n",
       "     6,\n",
       "     7,\n",
       "     8,\n",
       "     9,\n",
       "     10,\n",
       "     11,\n",
       "     12,\n",
       "     13,\n",
       "     14,\n",
       "     15,\n",
       "     16,\n",
       "     17,\n",
       "     18,\n",
       "     19,\n",
       "     20,\n",
       "     21,\n",
       "     22,\n",
       "     23,\n",
       "     24,\n",
       "     25,\n",
       "     26,\n",
       "     27,\n",
       "     28,\n",
       "     29,\n",
       "     30,\n",
       "     31,\n",
       "     32,\n",
       "     33,\n",
       "     34,\n",
       "     35,\n",
       "     36,\n",
       "     37,\n",
       "     38,\n",
       "     39,\n",
       "     40,\n",
       "     41,\n",
       "     42,\n",
       "     43,\n",
       "     44,\n",
       "     45,\n",
       "     46,\n",
       "     47,\n",
       "     48,\n",
       "     49,\n",
       "     50,\n",
       "     51,\n",
       "     52,\n",
       "     53,\n",
       "     54,\n",
       "     55,\n",
       "     56,\n",
       "     57,\n",
       "     58,\n",
       "     59,\n",
       "     60,\n",
       "     61,\n",
       "     62,\n",
       "     63,\n",
       "     64,\n",
       "     65,\n",
       "     66,\n",
       "     67,\n",
       "     68,\n",
       "     69,\n",
       "     70,\n",
       "     71,\n",
       "     72,\n",
       "     73,\n",
       "     74,\n",
       "     75,\n",
       "     76,\n",
       "     77,\n",
       "     78,\n",
       "     79,\n",
       "     80,\n",
       "     81,\n",
       "     82,\n",
       "     83,\n",
       "     84,\n",
       "     85,\n",
       "     86,\n",
       "     87,\n",
       "     88,\n",
       "     89,\n",
       "     90,\n",
       "     91,\n",
       "     92,\n",
       "     93,\n",
       "     94,\n",
       "     95,\n",
       "     96,\n",
       "     97,\n",
       "     98,\n",
       "     99,\n",
       "     100,\n",
       "     101,\n",
       "     102,\n",
       "     103,\n",
       "     104,\n",
       "     105,\n",
       "     106,\n",
       "     107,\n",
       "     108,\n",
       "     109,\n",
       "     110,\n",
       "     111,\n",
       "     112,\n",
       "     113,\n",
       "     114,\n",
       "     115,\n",
       "     116,\n",
       "     117,\n",
       "     118,\n",
       "     119,\n",
       "     120,\n",
       "     121,\n",
       "     122,\n",
       "     123,\n",
       "     124,\n",
       "     125,\n",
       "     126,\n",
       "     127,\n",
       "     128,\n",
       "     129,\n",
       "     130,\n",
       "     131,\n",
       "     132,\n",
       "     133,\n",
       "     134,\n",
       "     135,\n",
       "     136,\n",
       "     137,\n",
       "     138,\n",
       "     139,\n",
       "     140,\n",
       "     141,\n",
       "     142,\n",
       "     143,\n",
       "     144,\n",
       "     145,\n",
       "     146,\n",
       "     147,\n",
       "     148,\n",
       "     149,\n",
       "     150,\n",
       "     151,\n",
       "     152,\n",
       "     153,\n",
       "     154,\n",
       "     155,\n",
       "     156,\n",
       "     157,\n",
       "     158,\n",
       "     159,\n",
       "     160,\n",
       "     161,\n",
       "     162,\n",
       "     163,\n",
       "     164,\n",
       "     165,\n",
       "     166,\n",
       "     167,\n",
       "     168,\n",
       "     169,\n",
       "     170,\n",
       "     171,\n",
       "     172,\n",
       "     173,\n",
       "     174,\n",
       "     175,\n",
       "     176,\n",
       "     177,\n",
       "     178,\n",
       "     179,\n",
       "     180,\n",
       "     181,\n",
       "     182,\n",
       "     183,\n",
       "     184,\n",
       "     185,\n",
       "     186,\n",
       "     187,\n",
       "     188,\n",
       "     189,\n",
       "     190,\n",
       "     191,\n",
       "     192,\n",
       "     193,\n",
       "     194,\n",
       "     195,\n",
       "     196,\n",
       "     197,\n",
       "     198,\n",
       "     199,\n",
       "     200,\n",
       "     201,\n",
       "     202,\n",
       "     203,\n",
       "     204,\n",
       "     205,\n",
       "     206,\n",
       "     207,\n",
       "     208,\n",
       "     209,\n",
       "     210,\n",
       "     211,\n",
       "     212,\n",
       "     213,\n",
       "     214,\n",
       "     215,\n",
       "     216,\n",
       "     217,\n",
       "     218,\n",
       "     219,\n",
       "     220,\n",
       "     221,\n",
       "     222,\n",
       "     223,\n",
       "     224,\n",
       "     225,\n",
       "     226,\n",
       "     227,\n",
       "     228,\n",
       "     229,\n",
       "     230,\n",
       "     231,\n",
       "     232,\n",
       "     233,\n",
       "     234,\n",
       "     235,\n",
       "     236,\n",
       "     237,\n",
       "     238,\n",
       "     239,\n",
       "     240,\n",
       "     241,\n",
       "     242,\n",
       "     243,\n",
       "     244,\n",
       "     245,\n",
       "     246,\n",
       "     247,\n",
       "     248,\n",
       "     249,\n",
       "     250,\n",
       "     251,\n",
       "     252,\n",
       "     253,\n",
       "     254,\n",
       "     255,\n",
       "     256,\n",
       "     257,\n",
       "     258,\n",
       "     259,\n",
       "     260,\n",
       "     261,\n",
       "     262,\n",
       "     263,\n",
       "     264,\n",
       "     265,\n",
       "     266,\n",
       "     267,\n",
       "     268,\n",
       "     269,\n",
       "     270,\n",
       "     271,\n",
       "     272,\n",
       "     273,\n",
       "     274,\n",
       "     275,\n",
       "     276,\n",
       "     277,\n",
       "     278,\n",
       "     279,\n",
       "     280,\n",
       "     281,\n",
       "     282,\n",
       "     283,\n",
       "     284,\n",
       "     285,\n",
       "     286,\n",
       "     287,\n",
       "     288,\n",
       "     289,\n",
       "     290,\n",
       "     291,\n",
       "     292,\n",
       "     293,\n",
       "     294,\n",
       "     295,\n",
       "     296,\n",
       "     297,\n",
       "     298,\n",
       "     299,\n",
       "     300,\n",
       "     301,\n",
       "     302,\n",
       "     303,\n",
       "     304,\n",
       "     305,\n",
       "     306,\n",
       "     307,\n",
       "     308,\n",
       "     309,\n",
       "     310,\n",
       "     311,\n",
       "     312,\n",
       "     313,\n",
       "     314,\n",
       "     315,\n",
       "     316,\n",
       "     317,\n",
       "     318,\n",
       "     319,\n",
       "     320,\n",
       "     321,\n",
       "     322,\n",
       "     323,\n",
       "     324,\n",
       "     325,\n",
       "     326,\n",
       "     327,\n",
       "     328,\n",
       "     329,\n",
       "     330,\n",
       "     331,\n",
       "     332,\n",
       "     333,\n",
       "     334,\n",
       "     335,\n",
       "     336,\n",
       "     337,\n",
       "     338,\n",
       "     339,\n",
       "     340,\n",
       "     341,\n",
       "     342,\n",
       "     343,\n",
       "     344,\n",
       "     345,\n",
       "     346,\n",
       "     347,\n",
       "     348,\n",
       "     349,\n",
       "     350,\n",
       "     351,\n",
       "     352,\n",
       "     353,\n",
       "     354,\n",
       "     355,\n",
       "     356,\n",
       "     357,\n",
       "     358,\n",
       "     359,\n",
       "     360,\n",
       "     361,\n",
       "     362,\n",
       "     363,\n",
       "     364,\n",
       "     365,\n",
       "     366,\n",
       "     367,\n",
       "     368,\n",
       "     369,\n",
       "     370,\n",
       "     371,\n",
       "     372,\n",
       "     373,\n",
       "     374,\n",
       "     375,\n",
       "     376,\n",
       "     377,\n",
       "     378,\n",
       "     379,\n",
       "     380,\n",
       "     381,\n",
       "     382,\n",
       "     383,\n",
       "     384,\n",
       "     385,\n",
       "     386,\n",
       "     387,\n",
       "     388,\n",
       "     389,\n",
       "     390,\n",
       "     391,\n",
       "     392,\n",
       "     393,\n",
       "     394,\n",
       "     395,\n",
       "     396,\n",
       "     397,\n",
       "     398,\n",
       "     399,\n",
       "     400,\n",
       "     401,\n",
       "     402,\n",
       "     403,\n",
       "     404,\n",
       "     405,\n",
       "     406,\n",
       "     407,\n",
       "     408,\n",
       "     409,\n",
       "     410,\n",
       "     411,\n",
       "     412,\n",
       "     413,\n",
       "     414,\n",
       "     415,\n",
       "     416,\n",
       "     417,\n",
       "     418,\n",
       "     419,\n",
       "     420,\n",
       "     421,\n",
       "     422,\n",
       "     423,\n",
       "     424,\n",
       "     425,\n",
       "     426,\n",
       "     427,\n",
       "     428,\n",
       "     429,\n",
       "     430,\n",
       "     431,\n",
       "     432,\n",
       "     433,\n",
       "     434,\n",
       "     435,\n",
       "     436,\n",
       "     437,\n",
       "     438,\n",
       "     439,\n",
       "     440,\n",
       "     441,\n",
       "     442,\n",
       "     443,\n",
       "     444,\n",
       "     445,\n",
       "     446,\n",
       "     447,\n",
       "     448,\n",
       "     449,\n",
       "     450,\n",
       "     451,\n",
       "     452,\n",
       "     453,\n",
       "     454,\n",
       "     455,\n",
       "     456,\n",
       "     457,\n",
       "     458,\n",
       "     459,\n",
       "     460,\n",
       "     461,\n",
       "     462,\n",
       "     463,\n",
       "     464,\n",
       "     465,\n",
       "     466,\n",
       "     467,\n",
       "     468,\n",
       "     469,\n",
       "     470,\n",
       "     471,\n",
       "     472,\n",
       "     473,\n",
       "     474,\n",
       "     475,\n",
       "     476,\n",
       "     477,\n",
       "     478,\n",
       "     479,\n",
       "     480,\n",
       "     481,\n",
       "     482,\n",
       "     483,\n",
       "     484,\n",
       "     485,\n",
       "     486,\n",
       "     487,\n",
       "     488,\n",
       "     489,\n",
       "     490,\n",
       "     491,\n",
       "     492,\n",
       "     493,\n",
       "     494,\n",
       "     495,\n",
       "     496,\n",
       "     497,\n",
       "     498,\n",
       "     499,\n",
       "     500,\n",
       "     501,\n",
       "     502,\n",
       "     503,\n",
       "     504,\n",
       "     505,\n",
       "     506,\n",
       "     507,\n",
       "     508,\n",
       "     509,\n",
       "     510,\n",
       "     511,\n",
       "     512,\n",
       "     513,\n",
       "     514,\n",
       "     515,\n",
       "     516,\n",
       "     517,\n",
       "     518,\n",
       "     519,\n",
       "     520,\n",
       "     521,\n",
       "     522,\n",
       "     523,\n",
       "     524,\n",
       "     525,\n",
       "     526,\n",
       "     527,\n",
       "     528,\n",
       "     529,\n",
       "     530,\n",
       "     531,\n",
       "     532,\n",
       "     533,\n",
       "     534,\n",
       "     535,\n",
       "     536,\n",
       "     537,\n",
       "     538,\n",
       "     539,\n",
       "     540,\n",
       "     541,\n",
       "     542,\n",
       "     543,\n",
       "     544,\n",
       "     545,\n",
       "     546,\n",
       "     547,\n",
       "     548,\n",
       "     549,\n",
       "     550,\n",
       "     551,\n",
       "     552,\n",
       "     553,\n",
       "     554,\n",
       "     555,\n",
       "     556,\n",
       "     557,\n",
       "     558,\n",
       "     559,\n",
       "     560,\n",
       "     561,\n",
       "     562,\n",
       "     563,\n",
       "     564,\n",
       "     565,\n",
       "     566,\n",
       "     567,\n",
       "     568,\n",
       "     569,\n",
       "     570,\n",
       "     571,\n",
       "     572,\n",
       "     573,\n",
       "     574,\n",
       "     575,\n",
       "     576,\n",
       "     577,\n",
       "     578,\n",
       "     579,\n",
       "     580,\n",
       "     581,\n",
       "     582,\n",
       "     583,\n",
       "     584,\n",
       "     585,\n",
       "     586,\n",
       "     587,\n",
       "     588,\n",
       "     589,\n",
       "     590,\n",
       "     591,\n",
       "     592,\n",
       "     593,\n",
       "     594,\n",
       "     595,\n",
       "     596,\n",
       "     597,\n",
       "     598,\n",
       "     599,\n",
       "     600,\n",
       "     601,\n",
       "     602,\n",
       "     603,\n",
       "     604,\n",
       "     605,\n",
       "     606,\n",
       "     607,\n",
       "     608,\n",
       "     609,\n",
       "     610,\n",
       "     611,\n",
       "     612,\n",
       "     613,\n",
       "     614,\n",
       "     615,\n",
       "     616,\n",
       "     617,\n",
       "     618,\n",
       "     619,\n",
       "     620,\n",
       "     621,\n",
       "     622,\n",
       "     623,\n",
       "     624,\n",
       "     625,\n",
       "     626,\n",
       "     627,\n",
       "     628,\n",
       "     629,\n",
       "     630,\n",
       "     631,\n",
       "     632,\n",
       "     633,\n",
       "     634,\n",
       "     635,\n",
       "     636,\n",
       "     637,\n",
       "     638,\n",
       "     639,\n",
       "     640,\n",
       "     641,\n",
       "     642,\n",
       "     643,\n",
       "     644,\n",
       "     645,\n",
       "     646,\n",
       "     647,\n",
       "     648,\n",
       "     649,\n",
       "     650,\n",
       "     651,\n",
       "     652,\n",
       "     653,\n",
       "     654,\n",
       "     655,\n",
       "     656,\n",
       "     657,\n",
       "     658,\n",
       "     659,\n",
       "     660,\n",
       "     661,\n",
       "     662,\n",
       "     663,\n",
       "     664,\n",
       "     665,\n",
       "     666,\n",
       "     667,\n",
       "     668,\n",
       "     669,\n",
       "     670,\n",
       "     671,\n",
       "     672,\n",
       "     673,\n",
       "     674,\n",
       "     675,\n",
       "     676,\n",
       "     677,\n",
       "     678,\n",
       "     679,\n",
       "     680,\n",
       "     681,\n",
       "     682,\n",
       "     683,\n",
       "     684,\n",
       "     685,\n",
       "     686,\n",
       "     687,\n",
       "     688,\n",
       "     689,\n",
       "     690,\n",
       "     691,\n",
       "     692,\n",
       "     693,\n",
       "     694,\n",
       "     695,\n",
       "     696,\n",
       "     697,\n",
       "     698,\n",
       "     699,\n",
       "     700,\n",
       "     701,\n",
       "     702,\n",
       "     703,\n",
       "     704,\n",
       "     705,\n",
       "     706,\n",
       "     707,\n",
       "     708,\n",
       "     709,\n",
       "     710,\n",
       "     711,\n",
       "     712,\n",
       "     713,\n",
       "     714,\n",
       "     715,\n",
       "     716,\n",
       "     717,\n",
       "     718,\n",
       "     719,\n",
       "     720,\n",
       "     721,\n",
       "     722,\n",
       "     723,\n",
       "     724,\n",
       "     725,\n",
       "     726,\n",
       "     727,\n",
       "     728,\n",
       "     729,\n",
       "     730,\n",
       "     731,\n",
       "     732,\n",
       "     733,\n",
       "     734,\n",
       "     735,\n",
       "     736,\n",
       "     737,\n",
       "     738,\n",
       "     739,\n",
       "     740,\n",
       "     741,\n",
       "     742,\n",
       "     743,\n",
       "     744,\n",
       "     745,\n",
       "     746,\n",
       "     747,\n",
       "     748,\n",
       "     749,\n",
       "     750,\n",
       "     751,\n",
       "     752,\n",
       "     753,\n",
       "     754,\n",
       "     755,\n",
       "     756,\n",
       "     757,\n",
       "     758,\n",
       "     759,\n",
       "     760,\n",
       "     761,\n",
       "     762,\n",
       "     763,\n",
       "     764,\n",
       "     765,\n",
       "     766,\n",
       "     767,\n",
       "     768,\n",
       "     769,\n",
       "     770,\n",
       "     771,\n",
       "     772,\n",
       "     773,\n",
       "     774,\n",
       "     775,\n",
       "     776,\n",
       "     777,\n",
       "     778,\n",
       "     779,\n",
       "     780,\n",
       "     781,\n",
       "     782,\n",
       "     783,\n",
       "     784,\n",
       "     785,\n",
       "     786,\n",
       "     787,\n",
       "     788,\n",
       "     789,\n",
       "     790,\n",
       "     791,\n",
       "     792,\n",
       "     793,\n",
       "     794,\n",
       "     795,\n",
       "     796,\n",
       "     797,\n",
       "     798,\n",
       "     799,\n",
       "     800,\n",
       "     801,\n",
       "     802,\n",
       "     803,\n",
       "     804,\n",
       "     805,\n",
       "     806,\n",
       "     807,\n",
       "     808,\n",
       "     809,\n",
       "     810,\n",
       "     811,\n",
       "     812,\n",
       "     813,\n",
       "     814,\n",
       "     815,\n",
       "     816,\n",
       "     817,\n",
       "     818,\n",
       "     819,\n",
       "     820,\n",
       "     821,\n",
       "     822,\n",
       "     823,\n",
       "     824,\n",
       "     825,\n",
       "     826,\n",
       "     827,\n",
       "     828,\n",
       "     829,\n",
       "     830,\n",
       "     831,\n",
       "     832,\n",
       "     833,\n",
       "     834,\n",
       "     835,\n",
       "     836,\n",
       "     837,\n",
       "     838,\n",
       "     839,\n",
       "     840,\n",
       "     841,\n",
       "     842,\n",
       "     843,\n",
       "     844,\n",
       "     845,\n",
       "     846,\n",
       "     847,\n",
       "     848,\n",
       "     849,\n",
       "     850,\n",
       "     851,\n",
       "     852,\n",
       "     853,\n",
       "     854,\n",
       "     855,\n",
       "     856,\n",
       "     857,\n",
       "     858,\n",
       "     859,\n",
       "     860,\n",
       "     861,\n",
       "     862,\n",
       "     863,\n",
       "     864,\n",
       "     865,\n",
       "     866,\n",
       "     867,\n",
       "     868,\n",
       "     869,\n",
       "     870,\n",
       "     871,\n",
       "     872,\n",
       "     873,\n",
       "     874,\n",
       "     875,\n",
       "     876,\n",
       "     877,\n",
       "     878,\n",
       "     879,\n",
       "     880,\n",
       "     881,\n",
       "     882,\n",
       "     883,\n",
       "     884,\n",
       "     885,\n",
       "     886,\n",
       "     887,\n",
       "     888,\n",
       "     889,\n",
       "     890,\n",
       "     891,\n",
       "     892,\n",
       "     893,\n",
       "     894,\n",
       "     895,\n",
       "     896,\n",
       "     897,\n",
       "     898,\n",
       "     899,\n",
       "     900,\n",
       "     901,\n",
       "     902,\n",
       "     903,\n",
       "     904,\n",
       "     905,\n",
       "     906,\n",
       "     907,\n",
       "     908,\n",
       "     909,\n",
       "     910,\n",
       "     911,\n",
       "     912,\n",
       "     913,\n",
       "     914,\n",
       "     915,\n",
       "     916,\n",
       "     917,\n",
       "     918,\n",
       "     919,\n",
       "     920,\n",
       "     921,\n",
       "     922,\n",
       "     923,\n",
       "     924,\n",
       "     925,\n",
       "     926,\n",
       "     927,\n",
       "     928,\n",
       "     929,\n",
       "     930,\n",
       "     931,\n",
       "     932,\n",
       "     933,\n",
       "     934,\n",
       "     935,\n",
       "     936,\n",
       "     937,\n",
       "     938,\n",
       "     939,\n",
       "     940,\n",
       "     941,\n",
       "     942,\n",
       "     943,\n",
       "     944,\n",
       "     945,\n",
       "     946,\n",
       "     947,\n",
       "     948,\n",
       "     949,\n",
       "     950,\n",
       "     951,\n",
       "     952,\n",
       "     953,\n",
       "     954,\n",
       "     955,\n",
       "     956,\n",
       "     957,\n",
       "     958,\n",
       "     959,\n",
       "     960,\n",
       "     961,\n",
       "     962,\n",
       "     963,\n",
       "     964,\n",
       "     965,\n",
       "     966,\n",
       "     967,\n",
       "     968,\n",
       "     969,\n",
       "     970,\n",
       "     971,\n",
       "     972,\n",
       "     973,\n",
       "     974,\n",
       "     975,\n",
       "     976,\n",
       "     977,\n",
       "     978,\n",
       "     979,\n",
       "     980,\n",
       "     981,\n",
       "     982,\n",
       "     983,\n",
       "     984,\n",
       "     985,\n",
       "     986,\n",
       "     987,\n",
       "     988,\n",
       "     989,\n",
       "     990,\n",
       "     991,\n",
       "     992,\n",
       "     993,\n",
       "     994,\n",
       "     995,\n",
       "     996,\n",
       "     997,\n",
       "     998,\n",
       "     999],\n",
       "    158: [0, 1, 2, 3, 4, 5, 6, 7, 8, 9],\n",
       "    159: [0, 1, 2, 3, 4, 5, 6, 7, 8, 9],\n",
       "    168: [True, True, True, False, False, True],\n",
       "    170: True,\n",
       "    171: True,\n",
       "    173: True,\n",
       "    174: True,\n",
       "    175: [True, True, True, False, False, True],\n",
       "    176: [True, True, True, False, False, True],\n",
       "    180: True,\n",
       "    184: True,\n",
       "    186: collections.abc.Callable,\n",
       "    187: True,\n",
       "    188: True,\n",
       "    191: ([1, 2, 3, 4, 5, 6, 7, 8, 9, 10],),\n",
       "    192: ([1, 2, 3, 4, 5, 6, 7, 8, 9, 10],),\n",
       "    195: (1,),\n",
       "    196: ((1,), {'a': [1, 1, 1, 1, 3, 1, 1, 1, 1, 1, 1, 1, 1, 1, 1, 1]}),\n",
       "    197: [1, 1, 1, 1, 3, 1, 1, 1, 1, 1, 1, 1, 1, 1, 1, 1],\n",
       "    198: [1, 1, 1, 1, 3, 1, 1, 1, 1, 1, 1, 1, 1, 1, 1, 1],\n",
       "    199: [1, 1, 1, 1, 3, 1, 1, 1, 1, 1, 1, 1, 1, 1, 1, 1],\n",
       "    200: [1, 1, 1, 1, 3, 1, 1, 1, 1, 1, 1, 1, 1, 1, 1, 1],\n",
       "    201: [1, 1, 1, 1, 3, 1, 1, 1, 1, 1, 1, 1, 1, 1, 1, 1],\n",
       "    202: [1, 2, 3, 3],\n",
       "    203: [1, 1, 1, 1, 3, 1, 1, 1, 1, 1, 1, 1, 1, 1, 1, 1],\n",
       "    204: [1, 1, 1, 1, 3, 1, 1, 1, 1, 1, 1, 1, 1, 1, 1, 1],\n",
       "    205: [1, 1, 1, 1, 3, 1, 1, 1, 1, 1, 1, 1, 1, 1, 1, 1],\n",
       "    206: [1, 1, 1, 1, 3, 1, 1, 1, 1, 1, 1, 1, 1, 1, 1, 1],\n",
       "    207: [1, 1, 1, 1, 3, 1, 1, 1, 1, 1, 1, 1, 1, 1, 1, 1],\n",
       "    208: [1, 1, 1, 1, 3, 1, 1, 1, 1, 1, 1, 1, 1, 1, 1, 1],\n",
       "    209: [1, 1, 1, 1, 3, 1, 1, 1, 1, 1, 1, 1, 1, 1, 1, 1],\n",
       "    210: [1, 1, 1, 1, 3, 1, 1, 1, 1, 1, 1, 1, 1, 1, 1, 1],\n",
       "    211: [1, 1, 1, 1, 3, 1, 1, 1, 1, 1, 1, 1, 1, 1, 1, 1],\n",
       "    212: [1, 1, 1, 1, 3, 1, 1, 1, 1, 1, 1, 1, 1, 1, 1, 1],\n",
       "    213: [1, 1, 1, 1, 3, 1, 1, 1, 1, 1, 1, 1, 1, 1, 1, 1],\n",
       "    216: [1],\n",
       "    217: [1],\n",
       "    218: [1],\n",
       "    219: [1],\n",
       "    220: True,\n",
       "    221: True,\n",
       "    222: True,\n",
       "    223: True,\n",
       "    252: <function __main__.func>,\n",
       "    253: <function __main__.func>,\n",
       "    259: [('__annotations__', {}),\n",
       "     ('__call__',\n",
       "      <method-wrapper '__call__' of function object at 0x110929ea0>),\n",
       "     ('__class__', function),\n",
       "     ('__closure__', None),\n",
       "     ('__code__',\n",
       "      <code object func at 0x10fa60390, file \"<ipython-input-237-bd844a2214fb>\", line 1>),\n",
       "     ('__defaults__', None),\n",
       "     ('__delattr__',\n",
       "      <method-wrapper '__delattr__' of function object at 0x110929ea0>),\n",
       "     ('__dict__', {}),\n",
       "     ('__dir__', <function function.__dir__>),\n",
       "     ('__doc__', None),\n",
       "     ('__eq__', <method-wrapper '__eq__' of function object at 0x110929ea0>),\n",
       "     ('__format__', <function function.__format__>),\n",
       "     ('__ge__', <method-wrapper '__ge__' of function object at 0x110929ea0>),\n",
       "     ('__get__', <method-wrapper '__get__' of function object at 0x110929ea0>),\n",
       "     ('__getattribute__',\n",
       "      <method-wrapper '__getattribute__' of function object at 0x110929ea0>),\n",
       "     ('__globals__', {...}),\n",
       "     ('__gt__', <method-wrapper '__gt__' of function object at 0x110929ea0>),\n",
       "     ('__hash__',\n",
       "      <method-wrapper '__hash__' of function object at 0x110929ea0>),\n",
       "     ('__init__',\n",
       "      <method-wrapper '__init__' of function object at 0x110929ea0>),\n",
       "     ('__init_subclass__', <function function.__init_subclass__>),\n",
       "     ('__kwdefaults__', None),\n",
       "     ('__le__', <method-wrapper '__le__' of function object at 0x110929ea0>),\n",
       "     ('__lt__', <method-wrapper '__lt__' of function object at 0x110929ea0>),\n",
       "     ('__module__', '__main__'),\n",
       "     ('__name__', 'func'),\n",
       "     ('__ne__', <method-wrapper '__ne__' of function object at 0x110929ea0>),\n",
       "     ('__new__', <function function.__new__>),\n",
       "     ('__qualname__', 'func'),\n",
       "     ('__reduce__', <function function.__reduce__>),\n",
       "     ('__reduce_ex__', <function function.__reduce_ex__>),\n",
       "     ('__repr__',\n",
       "      <method-wrapper '__repr__' of function object at 0x110929ea0>),\n",
       "     ('__setattr__',\n",
       "      <method-wrapper '__setattr__' of function object at 0x110929ea0>),\n",
       "     ('__sizeof__', <function function.__sizeof__>),\n",
       "     ('__str__', <method-wrapper '__str__' of function object at 0x110929ea0>),\n",
       "     ('__subclasshook__', <function function.__subclasshook__>)]},\n",
       "   'Some': __main__.Some,\n",
       "   '_': [1, 2, 3],\n",
       "   '_10': False,\n",
       "   '_102': [0],\n",
       "   '_106': [2, 3],\n",
       "   '_11': True,\n",
       "   '_110': 'hi',\n",
       "   '_115': 'hi',\n",
       "   '_12': False,\n",
       "   '_121': [1, 2, 3],\n",
       "   '_13': True,\n",
       "   '_14': True,\n",
       "   '_146': (0, 4),\n",
       "   '_147': [1, 2, 3],\n",
       "   '_149': (1, 2, 3),\n",
       "   '_156': {'a': 1, 'b': 2},\n",
       "   '_157': [0,\n",
       "    1,\n",
       "    2,\n",
       "    3,\n",
       "    4,\n",
       "    5,\n",
       "    6,\n",
       "    7,\n",
       "    8,\n",
       "    9,\n",
       "    10,\n",
       "    11,\n",
       "    12,\n",
       "    13,\n",
       "    14,\n",
       "    15,\n",
       "    16,\n",
       "    17,\n",
       "    18,\n",
       "    19,\n",
       "    20,\n",
       "    21,\n",
       "    22,\n",
       "    23,\n",
       "    24,\n",
       "    25,\n",
       "    26,\n",
       "    27,\n",
       "    28,\n",
       "    29,\n",
       "    30,\n",
       "    31,\n",
       "    32,\n",
       "    33,\n",
       "    34,\n",
       "    35,\n",
       "    36,\n",
       "    37,\n",
       "    38,\n",
       "    39,\n",
       "    40,\n",
       "    41,\n",
       "    42,\n",
       "    43,\n",
       "    44,\n",
       "    45,\n",
       "    46,\n",
       "    47,\n",
       "    48,\n",
       "    49,\n",
       "    50,\n",
       "    51,\n",
       "    52,\n",
       "    53,\n",
       "    54,\n",
       "    55,\n",
       "    56,\n",
       "    57,\n",
       "    58,\n",
       "    59,\n",
       "    60,\n",
       "    61,\n",
       "    62,\n",
       "    63,\n",
       "    64,\n",
       "    65,\n",
       "    66,\n",
       "    67,\n",
       "    68,\n",
       "    69,\n",
       "    70,\n",
       "    71,\n",
       "    72,\n",
       "    73,\n",
       "    74,\n",
       "    75,\n",
       "    76,\n",
       "    77,\n",
       "    78,\n",
       "    79,\n",
       "    80,\n",
       "    81,\n",
       "    82,\n",
       "    83,\n",
       "    84,\n",
       "    85,\n",
       "    86,\n",
       "    87,\n",
       "    88,\n",
       "    89,\n",
       "    90,\n",
       "    91,\n",
       "    92,\n",
       "    93,\n",
       "    94,\n",
       "    95,\n",
       "    96,\n",
       "    97,\n",
       "    98,\n",
       "    99,\n",
       "    100,\n",
       "    101,\n",
       "    102,\n",
       "    103,\n",
       "    104,\n",
       "    105,\n",
       "    106,\n",
       "    107,\n",
       "    108,\n",
       "    109,\n",
       "    110,\n",
       "    111,\n",
       "    112,\n",
       "    113,\n",
       "    114,\n",
       "    115,\n",
       "    116,\n",
       "    117,\n",
       "    118,\n",
       "    119,\n",
       "    120,\n",
       "    121,\n",
       "    122,\n",
       "    123,\n",
       "    124,\n",
       "    125,\n",
       "    126,\n",
       "    127,\n",
       "    128,\n",
       "    129,\n",
       "    130,\n",
       "    131,\n",
       "    132,\n",
       "    133,\n",
       "    134,\n",
       "    135,\n",
       "    136,\n",
       "    137,\n",
       "    138,\n",
       "    139,\n",
       "    140,\n",
       "    141,\n",
       "    142,\n",
       "    143,\n",
       "    144,\n",
       "    145,\n",
       "    146,\n",
       "    147,\n",
       "    148,\n",
       "    149,\n",
       "    150,\n",
       "    151,\n",
       "    152,\n",
       "    153,\n",
       "    154,\n",
       "    155,\n",
       "    156,\n",
       "    157,\n",
       "    158,\n",
       "    159,\n",
       "    160,\n",
       "    161,\n",
       "    162,\n",
       "    163,\n",
       "    164,\n",
       "    165,\n",
       "    166,\n",
       "    167,\n",
       "    168,\n",
       "    169,\n",
       "    170,\n",
       "    171,\n",
       "    172,\n",
       "    173,\n",
       "    174,\n",
       "    175,\n",
       "    176,\n",
       "    177,\n",
       "    178,\n",
       "    179,\n",
       "    180,\n",
       "    181,\n",
       "    182,\n",
       "    183,\n",
       "    184,\n",
       "    185,\n",
       "    186,\n",
       "    187,\n",
       "    188,\n",
       "    189,\n",
       "    190,\n",
       "    191,\n",
       "    192,\n",
       "    193,\n",
       "    194,\n",
       "    195,\n",
       "    196,\n",
       "    197,\n",
       "    198,\n",
       "    199,\n",
       "    200,\n",
       "    201,\n",
       "    202,\n",
       "    203,\n",
       "    204,\n",
       "    205,\n",
       "    206,\n",
       "    207,\n",
       "    208,\n",
       "    209,\n",
       "    210,\n",
       "    211,\n",
       "    212,\n",
       "    213,\n",
       "    214,\n",
       "    215,\n",
       "    216,\n",
       "    217,\n",
       "    218,\n",
       "    219,\n",
       "    220,\n",
       "    221,\n",
       "    222,\n",
       "    223,\n",
       "    224,\n",
       "    225,\n",
       "    226,\n",
       "    227,\n",
       "    228,\n",
       "    229,\n",
       "    230,\n",
       "    231,\n",
       "    232,\n",
       "    233,\n",
       "    234,\n",
       "    235,\n",
       "    236,\n",
       "    237,\n",
       "    238,\n",
       "    239,\n",
       "    240,\n",
       "    241,\n",
       "    242,\n",
       "    243,\n",
       "    244,\n",
       "    245,\n",
       "    246,\n",
       "    247,\n",
       "    248,\n",
       "    249,\n",
       "    250,\n",
       "    251,\n",
       "    252,\n",
       "    253,\n",
       "    254,\n",
       "    255,\n",
       "    256,\n",
       "    257,\n",
       "    258,\n",
       "    259,\n",
       "    260,\n",
       "    261,\n",
       "    262,\n",
       "    263,\n",
       "    264,\n",
       "    265,\n",
       "    266,\n",
       "    267,\n",
       "    268,\n",
       "    269,\n",
       "    270,\n",
       "    271,\n",
       "    272,\n",
       "    273,\n",
       "    274,\n",
       "    275,\n",
       "    276,\n",
       "    277,\n",
       "    278,\n",
       "    279,\n",
       "    280,\n",
       "    281,\n",
       "    282,\n",
       "    283,\n",
       "    284,\n",
       "    285,\n",
       "    286,\n",
       "    287,\n",
       "    288,\n",
       "    289,\n",
       "    290,\n",
       "    291,\n",
       "    292,\n",
       "    293,\n",
       "    294,\n",
       "    295,\n",
       "    296,\n",
       "    297,\n",
       "    298,\n",
       "    299,\n",
       "    300,\n",
       "    301,\n",
       "    302,\n",
       "    303,\n",
       "    304,\n",
       "    305,\n",
       "    306,\n",
       "    307,\n",
       "    308,\n",
       "    309,\n",
       "    310,\n",
       "    311,\n",
       "    312,\n",
       "    313,\n",
       "    314,\n",
       "    315,\n",
       "    316,\n",
       "    317,\n",
       "    318,\n",
       "    319,\n",
       "    320,\n",
       "    321,\n",
       "    322,\n",
       "    323,\n",
       "    324,\n",
       "    325,\n",
       "    326,\n",
       "    327,\n",
       "    328,\n",
       "    329,\n",
       "    330,\n",
       "    331,\n",
       "    332,\n",
       "    333,\n",
       "    334,\n",
       "    335,\n",
       "    336,\n",
       "    337,\n",
       "    338,\n",
       "    339,\n",
       "    340,\n",
       "    341,\n",
       "    342,\n",
       "    343,\n",
       "    344,\n",
       "    345,\n",
       "    346,\n",
       "    347,\n",
       "    348,\n",
       "    349,\n",
       "    350,\n",
       "    351,\n",
       "    352,\n",
       "    353,\n",
       "    354,\n",
       "    355,\n",
       "    356,\n",
       "    357,\n",
       "    358,\n",
       "    359,\n",
       "    360,\n",
       "    361,\n",
       "    362,\n",
       "    363,\n",
       "    364,\n",
       "    365,\n",
       "    366,\n",
       "    367,\n",
       "    368,\n",
       "    369,\n",
       "    370,\n",
       "    371,\n",
       "    372,\n",
       "    373,\n",
       "    374,\n",
       "    375,\n",
       "    376,\n",
       "    377,\n",
       "    378,\n",
       "    379,\n",
       "    380,\n",
       "    381,\n",
       "    382,\n",
       "    383,\n",
       "    384,\n",
       "    385,\n",
       "    386,\n",
       "    387,\n",
       "    388,\n",
       "    389,\n",
       "    390,\n",
       "    391,\n",
       "    392,\n",
       "    393,\n",
       "    394,\n",
       "    395,\n",
       "    396,\n",
       "    397,\n",
       "    398,\n",
       "    399,\n",
       "    400,\n",
       "    401,\n",
       "    402,\n",
       "    403,\n",
       "    404,\n",
       "    405,\n",
       "    406,\n",
       "    407,\n",
       "    408,\n",
       "    409,\n",
       "    410,\n",
       "    411,\n",
       "    412,\n",
       "    413,\n",
       "    414,\n",
       "    415,\n",
       "    416,\n",
       "    417,\n",
       "    418,\n",
       "    419,\n",
       "    420,\n",
       "    421,\n",
       "    422,\n",
       "    423,\n",
       "    424,\n",
       "    425,\n",
       "    426,\n",
       "    427,\n",
       "    428,\n",
       "    429,\n",
       "    430,\n",
       "    431,\n",
       "    432,\n",
       "    433,\n",
       "    434,\n",
       "    435,\n",
       "    436,\n",
       "    437,\n",
       "    438,\n",
       "    439,\n",
       "    440,\n",
       "    441,\n",
       "    442,\n",
       "    443,\n",
       "    444,\n",
       "    445,\n",
       "    446,\n",
       "    447,\n",
       "    448,\n",
       "    449,\n",
       "    450,\n",
       "    451,\n",
       "    452,\n",
       "    453,\n",
       "    454,\n",
       "    455,\n",
       "    456,\n",
       "    457,\n",
       "    458,\n",
       "    459,\n",
       "    460,\n",
       "    461,\n",
       "    462,\n",
       "    463,\n",
       "    464,\n",
       "    465,\n",
       "    466,\n",
       "    467,\n",
       "    468,\n",
       "    469,\n",
       "    470,\n",
       "    471,\n",
       "    472,\n",
       "    473,\n",
       "    474,\n",
       "    475,\n",
       "    476,\n",
       "    477,\n",
       "    478,\n",
       "    479,\n",
       "    480,\n",
       "    481,\n",
       "    482,\n",
       "    483,\n",
       "    484,\n",
       "    485,\n",
       "    486,\n",
       "    487,\n",
       "    488,\n",
       "    489,\n",
       "    490,\n",
       "    491,\n",
       "    492,\n",
       "    493,\n",
       "    494,\n",
       "    495,\n",
       "    496,\n",
       "    497,\n",
       "    498,\n",
       "    499,\n",
       "    500,\n",
       "    501,\n",
       "    502,\n",
       "    503,\n",
       "    504,\n",
       "    505,\n",
       "    506,\n",
       "    507,\n",
       "    508,\n",
       "    509,\n",
       "    510,\n",
       "    511,\n",
       "    512,\n",
       "    513,\n",
       "    514,\n",
       "    515,\n",
       "    516,\n",
       "    517,\n",
       "    518,\n",
       "    519,\n",
       "    520,\n",
       "    521,\n",
       "    522,\n",
       "    523,\n",
       "    524,\n",
       "    525,\n",
       "    526,\n",
       "    527,\n",
       "    528,\n",
       "    529,\n",
       "    530,\n",
       "    531,\n",
       "    532,\n",
       "    533,\n",
       "    534,\n",
       "    535,\n",
       "    536,\n",
       "    537,\n",
       "    538,\n",
       "    539,\n",
       "    540,\n",
       "    541,\n",
       "    542,\n",
       "    543,\n",
       "    544,\n",
       "    545,\n",
       "    546,\n",
       "    547,\n",
       "    548,\n",
       "    549,\n",
       "    550,\n",
       "    551,\n",
       "    552,\n",
       "    553,\n",
       "    554,\n",
       "    555,\n",
       "    556,\n",
       "    557,\n",
       "    558,\n",
       "    559,\n",
       "    560,\n",
       "    561,\n",
       "    562,\n",
       "    563,\n",
       "    564,\n",
       "    565,\n",
       "    566,\n",
       "    567,\n",
       "    568,\n",
       "    569,\n",
       "    570,\n",
       "    571,\n",
       "    572,\n",
       "    573,\n",
       "    574,\n",
       "    575,\n",
       "    576,\n",
       "    577,\n",
       "    578,\n",
       "    579,\n",
       "    580,\n",
       "    581,\n",
       "    582,\n",
       "    583,\n",
       "    584,\n",
       "    585,\n",
       "    586,\n",
       "    587,\n",
       "    588,\n",
       "    589,\n",
       "    590,\n",
       "    591,\n",
       "    592,\n",
       "    593,\n",
       "    594,\n",
       "    595,\n",
       "    596,\n",
       "    597,\n",
       "    598,\n",
       "    599,\n",
       "    600,\n",
       "    601,\n",
       "    602,\n",
       "    603,\n",
       "    604,\n",
       "    605,\n",
       "    606,\n",
       "    607,\n",
       "    608,\n",
       "    609,\n",
       "    610,\n",
       "    611,\n",
       "    612,\n",
       "    613,\n",
       "    614,\n",
       "    615,\n",
       "    616,\n",
       "    617,\n",
       "    618,\n",
       "    619,\n",
       "    620,\n",
       "    621,\n",
       "    622,\n",
       "    623,\n",
       "    624,\n",
       "    625,\n",
       "    626,\n",
       "    627,\n",
       "    628,\n",
       "    629,\n",
       "    630,\n",
       "    631,\n",
       "    632,\n",
       "    633,\n",
       "    634,\n",
       "    635,\n",
       "    636,\n",
       "    637,\n",
       "    638,\n",
       "    639,\n",
       "    640,\n",
       "    641,\n",
       "    642,\n",
       "    643,\n",
       "    644,\n",
       "    645,\n",
       "    646,\n",
       "    647,\n",
       "    648,\n",
       "    649,\n",
       "    650,\n",
       "    651,\n",
       "    652,\n",
       "    653,\n",
       "    654,\n",
       "    655,\n",
       "    656,\n",
       "    657,\n",
       "    658,\n",
       "    659,\n",
       "    660,\n",
       "    661,\n",
       "    662,\n",
       "    663,\n",
       "    664,\n",
       "    665,\n",
       "    666,\n",
       "    667,\n",
       "    668,\n",
       "    669,\n",
       "    670,\n",
       "    671,\n",
       "    672,\n",
       "    673,\n",
       "    674,\n",
       "    675,\n",
       "    676,\n",
       "    677,\n",
       "    678,\n",
       "    679,\n",
       "    680,\n",
       "    681,\n",
       "    682,\n",
       "    683,\n",
       "    684,\n",
       "    685,\n",
       "    686,\n",
       "    687,\n",
       "    688,\n",
       "    689,\n",
       "    690,\n",
       "    691,\n",
       "    692,\n",
       "    693,\n",
       "    694,\n",
       "    695,\n",
       "    696,\n",
       "    697,\n",
       "    698,\n",
       "    699,\n",
       "    700,\n",
       "    701,\n",
       "    702,\n",
       "    703,\n",
       "    704,\n",
       "    705,\n",
       "    706,\n",
       "    707,\n",
       "    708,\n",
       "    709,\n",
       "    710,\n",
       "    711,\n",
       "    712,\n",
       "    713,\n",
       "    714,\n",
       "    715,\n",
       "    716,\n",
       "    717,\n",
       "    718,\n",
       "    719,\n",
       "    720,\n",
       "    721,\n",
       "    722,\n",
       "    723,\n",
       "    724,\n",
       "    725,\n",
       "    726,\n",
       "    727,\n",
       "    728,\n",
       "    729,\n",
       "    730,\n",
       "    731,\n",
       "    732,\n",
       "    733,\n",
       "    734,\n",
       "    735,\n",
       "    736,\n",
       "    737,\n",
       "    738,\n",
       "    739,\n",
       "    740,\n",
       "    741,\n",
       "    742,\n",
       "    743,\n",
       "    744,\n",
       "    745,\n",
       "    746,\n",
       "    747,\n",
       "    748,\n",
       "    749,\n",
       "    750,\n",
       "    751,\n",
       "    752,\n",
       "    753,\n",
       "    754,\n",
       "    755,\n",
       "    756,\n",
       "    757,\n",
       "    758,\n",
       "    759,\n",
       "    760,\n",
       "    761,\n",
       "    762,\n",
       "    763,\n",
       "    764,\n",
       "    765,\n",
       "    766,\n",
       "    767,\n",
       "    768,\n",
       "    769,\n",
       "    770,\n",
       "    771,\n",
       "    772,\n",
       "    773,\n",
       "    774,\n",
       "    775,\n",
       "    776,\n",
       "    777,\n",
       "    778,\n",
       "    779,\n",
       "    780,\n",
       "    781,\n",
       "    782,\n",
       "    783,\n",
       "    784,\n",
       "    785,\n",
       "    786,\n",
       "    787,\n",
       "    788,\n",
       "    789,\n",
       "    790,\n",
       "    791,\n",
       "    792,\n",
       "    793,\n",
       "    794,\n",
       "    795,\n",
       "    796,\n",
       "    797,\n",
       "    798,\n",
       "    799,\n",
       "    800,\n",
       "    801,\n",
       "    802,\n",
       "    803,\n",
       "    804,\n",
       "    805,\n",
       "    806,\n",
       "    807,\n",
       "    808,\n",
       "    809,\n",
       "    810,\n",
       "    811,\n",
       "    812,\n",
       "    813,\n",
       "    814,\n",
       "    815,\n",
       "    816,\n",
       "    817,\n",
       "    818,\n",
       "    819,\n",
       "    820,\n",
       "    821,\n",
       "    822,\n",
       "    823,\n",
       "    824,\n",
       "    825,\n",
       "    826,\n",
       "    827,\n",
       "    828,\n",
       "    829,\n",
       "    830,\n",
       "    831,\n",
       "    832,\n",
       "    833,\n",
       "    834,\n",
       "    835,\n",
       "    836,\n",
       "    837,\n",
       "    838,\n",
       "    839,\n",
       "    840,\n",
       "    841,\n",
       "    842,\n",
       "    843,\n",
       "    844,\n",
       "    845,\n",
       "    846,\n",
       "    847,\n",
       "    848,\n",
       "    849,\n",
       "    850,\n",
       "    851,\n",
       "    852,\n",
       "    853,\n",
       "    854,\n",
       "    855,\n",
       "    856,\n",
       "    857,\n",
       "    858,\n",
       "    859,\n",
       "    860,\n",
       "    861,\n",
       "    862,\n",
       "    863,\n",
       "    864,\n",
       "    865,\n",
       "    866,\n",
       "    867,\n",
       "    868,\n",
       "    869,\n",
       "    870,\n",
       "    871,\n",
       "    872,\n",
       "    873,\n",
       "    874,\n",
       "    875,\n",
       "    876,\n",
       "    877,\n",
       "    878,\n",
       "    879,\n",
       "    880,\n",
       "    881,\n",
       "    882,\n",
       "    883,\n",
       "    884,\n",
       "    885,\n",
       "    886,\n",
       "    887,\n",
       "    888,\n",
       "    889,\n",
       "    890,\n",
       "    891,\n",
       "    892,\n",
       "    893,\n",
       "    894,\n",
       "    895,\n",
       "    896,\n",
       "    897,\n",
       "    898,\n",
       "    899,\n",
       "    900,\n",
       "    901,\n",
       "    902,\n",
       "    903,\n",
       "    904,\n",
       "    905,\n",
       "    906,\n",
       "    907,\n",
       "    908,\n",
       "    909,\n",
       "    910,\n",
       "    911,\n",
       "    912,\n",
       "    913,\n",
       "    914,\n",
       "    915,\n",
       "    916,\n",
       "    917,\n",
       "    918,\n",
       "    919,\n",
       "    920,\n",
       "    921,\n",
       "    922,\n",
       "    923,\n",
       "    924,\n",
       "    925,\n",
       "    926,\n",
       "    927,\n",
       "    928,\n",
       "    929,\n",
       "    930,\n",
       "    931,\n",
       "    932,\n",
       "    933,\n",
       "    934,\n",
       "    935,\n",
       "    936,\n",
       "    937,\n",
       "    938,\n",
       "    939,\n",
       "    940,\n",
       "    941,\n",
       "    942,\n",
       "    943,\n",
       "    944,\n",
       "    945,\n",
       "    946,\n",
       "    947,\n",
       "    948,\n",
       "    949,\n",
       "    950,\n",
       "    951,\n",
       "    952,\n",
       "    953,\n",
       "    954,\n",
       "    955,\n",
       "    956,\n",
       "    957,\n",
       "    958,\n",
       "    959,\n",
       "    960,\n",
       "    961,\n",
       "    962,\n",
       "    963,\n",
       "    964,\n",
       "    965,\n",
       "    966,\n",
       "    967,\n",
       "    968,\n",
       "    969,\n",
       "    970,\n",
       "    971,\n",
       "    972,\n",
       "    973,\n",
       "    974,\n",
       "    975,\n",
       "    976,\n",
       "    977,\n",
       "    978,\n",
       "    979,\n",
       "    980,\n",
       "    981,\n",
       "    982,\n",
       "    983,\n",
       "    984,\n",
       "    985,\n",
       "    986,\n",
       "    987,\n",
       "    988,\n",
       "    989,\n",
       "    990,\n",
       "    991,\n",
       "    992,\n",
       "    993,\n",
       "    994,\n",
       "    995,\n",
       "    996,\n",
       "    997,\n",
       "    998,\n",
       "    999],\n",
       "   '_158': [0, 1, 2, 3, 4, 5, 6, 7, 8, 9],\n",
       "   '_159': [0, 1, 2, 3, 4, 5, 6, 7, 8, 9],\n",
       "   '_168': [True, True, True, False, False, True],\n",
       "   '_17': False,\n",
       "   '_170': True,\n",
       "   '_171': True,\n",
       "   '_173': True,\n",
       "   '_174': True,\n",
       "   '_175': [True, True, True, False, False, True],\n",
       "   '_176': [True, True, True, False, False, True],\n",
       "   '_180': True,\n",
       "   '_184': True,\n",
       "   '_186': collections.abc.Callable,\n",
       "   '_187': True,\n",
       "   '_188': True,\n",
       "   '_19': False,\n",
       "   '_191': ([1, 2, 3, 4, 5, 6, 7, 8, 9, 10],),\n",
       "   '_192': ([1, 2, 3, 4, 5, 6, 7, 8, 9, 10],),\n",
       "   '_195': (1,),\n",
       "   '_196': ((1,), {'a': [1, 1, 1, 1, 3, 1, 1, 1, 1, 1, 1, 1, 1, 1, 1, 1]}),\n",
       "   '_197': [1, 1, 1, 1, 3, 1, 1, 1, 1, 1, 1, 1, 1, 1, 1, 1],\n",
       "   '_198': [1, 1, 1, 1, 3, 1, 1, 1, 1, 1, 1, 1, 1, 1, 1, 1],\n",
       "   '_199': [1, 1, 1, 1, 3, 1, 1, 1, 1, 1, 1, 1, 1, 1, 1, 1],\n",
       "   '_200': [1, 1, 1, 1, 3, 1, 1, 1, 1, 1, 1, 1, 1, 1, 1, 1],\n",
       "   '_201': [1, 1, 1, 1, 3, 1, 1, 1, 1, 1, 1, 1, 1, 1, 1, 1],\n",
       "   '_202': [1, 2, 3, 3],\n",
       "   '_203': [1, 1, 1, 1, 3, 1, 1, 1, 1, 1, 1, 1, 1, 1, 1, 1],\n",
       "   '_204': [1, 1, 1, 1, 3, 1, 1, 1, 1, 1, 1, 1, 1, 1, 1, 1],\n",
       "   '_205': [1, 1, 1, 1, 3, 1, 1, 1, 1, 1, 1, 1, 1, 1, 1, 1],\n",
       "   '_206': [1, 1, 1, 1, 3, 1, 1, 1, 1, 1, 1, 1, 1, 1, 1, 1],\n",
       "   '_207': [1, 1, 1, 1, 3, 1, 1, 1, 1, 1, 1, 1, 1, 1, 1, 1],\n",
       "   '_208': [1, 1, 1, 1, 3, 1, 1, 1, 1, 1, 1, 1, 1, 1, 1, 1],\n",
       "   '_209': [1, 1, 1, 1, 3, 1, 1, 1, 1, 1, 1, 1, 1, 1, 1, 1],\n",
       "   '_210': [1, 1, 1, 1, 3, 1, 1, 1, 1, 1, 1, 1, 1, 1, 1, 1],\n",
       "   '_211': [1, 1, 1, 1, 3, 1, 1, 1, 1, 1, 1, 1, 1, 1, 1, 1],\n",
       "   '_212': [1, 1, 1, 1, 3, 1, 1, 1, 1, 1, 1, 1, 1, 1, 1, 1],\n",
       "   '_213': [1, 1, 1, 1, 3, 1, 1, 1, 1, 1, 1, 1, 1, 1, 1, 1],\n",
       "   '_216': [1],\n",
       "   '_217': [1],\n",
       "   '_218': [1],\n",
       "   '_219': [1],\n",
       "   '_22': False,\n",
       "   '_220': True,\n",
       "   '_221': True,\n",
       "   '_222': True,\n",
       "   '_223': True,\n",
       "   '_23': True,\n",
       "   '_24': True,\n",
       "   '_25': True,\n",
       "   '_252': <function __main__.func>,\n",
       "   '_253': <function __main__.func>,\n",
       "   '_259': [('__annotations__', {}),\n",
       "    ('__call__',\n",
       "     <method-wrapper '__call__' of function object at 0x110929ea0>),\n",
       "    ('__class__', function),\n",
       "    ('__closure__', None),\n",
       "    ('__code__',\n",
       "     <code object func at 0x10fa60390, file \"<ipython-input-237-bd844a2214fb>\", line 1>),\n",
       "    ('__defaults__', None),\n",
       "    ('__delattr__',\n",
       "     <method-wrapper '__delattr__' of function object at 0x110929ea0>),\n",
       "    ('__dict__', {}),\n",
       "    ('__dir__', <function function.__dir__>),\n",
       "    ('__doc__', None),\n",
       "    ('__eq__', <method-wrapper '__eq__' of function object at 0x110929ea0>),\n",
       "    ('__format__', <function function.__format__>),\n",
       "    ('__ge__', <method-wrapper '__ge__' of function object at 0x110929ea0>),\n",
       "    ('__get__', <method-wrapper '__get__' of function object at 0x110929ea0>),\n",
       "    ('__getattribute__',\n",
       "     <method-wrapper '__getattribute__' of function object at 0x110929ea0>),\n",
       "    ('__globals__', {...}),\n",
       "    ('__gt__', <method-wrapper '__gt__' of function object at 0x110929ea0>),\n",
       "    ('__hash__',\n",
       "     <method-wrapper '__hash__' of function object at 0x110929ea0>),\n",
       "    ('__init__',\n",
       "     <method-wrapper '__init__' of function object at 0x110929ea0>),\n",
       "    ('__init_subclass__', <function function.__init_subclass__>),\n",
       "    ('__kwdefaults__', None),\n",
       "    ('__le__', <method-wrapper '__le__' of function object at 0x110929ea0>),\n",
       "    ('__lt__', <method-wrapper '__lt__' of function object at 0x110929ea0>),\n",
       "    ('__module__', '__main__'),\n",
       "    ('__name__', 'func'),\n",
       "    ('__ne__', <method-wrapper '__ne__' of function object at 0x110929ea0>),\n",
       "    ('__new__', <function function.__new__>),\n",
       "    ('__qualname__', 'func'),\n",
       "    ('__reduce__', <function function.__reduce__>),\n",
       "    ('__reduce_ex__', <function function.__reduce_ex__>),\n",
       "    ('__repr__',\n",
       "     <method-wrapper '__repr__' of function object at 0x110929ea0>),\n",
       "    ('__setattr__',\n",
       "     <method-wrapper '__setattr__' of function object at 0x110929ea0>),\n",
       "    ('__sizeof__', <function function.__sizeof__>),\n",
       "    ('__str__', <method-wrapper '__str__' of function object at 0x110929ea0>),\n",
       "    ('__subclasshook__', <function function.__subclasshook__>)],\n",
       "   '_26': True,\n",
       "   '_29': False,\n",
       "   '_30': True,\n",
       "   '_33': False,\n",
       "   '_37': False,\n",
       "   '_38': True,\n",
       "   '_4': (4552927056, 4554619120, 4552558280),\n",
       "   '_42': False,\n",
       "   '_45': (4554733136, 4554618440),\n",
       "   '_46': (4554733136, 4554618440),\n",
       "   '_47': False,\n",
       "   '_48': (False, True),\n",
       "   '_5': (4552927056, 4554619120, 4552558280),\n",
       "   '_50': True,\n",
       "   '_52': False,\n",
       "   '_54': True,\n",
       "   '_56': True,\n",
       "   '_58': True,\n",
       "   '_6': 4554731632,\n",
       "   '_60': True,\n",
       "   '_62': True,\n",
       "   '_64': False,\n",
       "   '_66': True,\n",
       "   '_68': True,\n",
       "   '_70': True,\n",
       "   '_72': False,\n",
       "   '_75': False,\n",
       "   '_78': True,\n",
       "   '_8': 4514889472,\n",
       "   '_80': True,\n",
       "   '_83': False,\n",
       "   '_93': [0, 1],\n",
       "   '_97': [0, 1],\n",
       "   '__': 'hi',\n",
       "   '___': 'hi',\n",
       "   '__builtin__': <module 'builtins' (built-in)>,\n",
       "   '__builtins__': <module 'builtins' (built-in)>,\n",
       "   '__doc__': 'Automatically created module for IPython interactive environment',\n",
       "   '__loader__': None,\n",
       "   '__name__': '__main__',\n",
       "   '__package__': None,\n",
       "   '__spec__': None,\n",
       "   '_dh': ['/Users/Sol/jupyter/python완전정복/3기 수업'],\n",
       "   '_i': 'inspect.getmembers(func)',\n",
       "   '_i1': 'number = 1000',\n",
       "   '_i10': 'numbers1 is numbers2',\n",
       "   '_i100': 'def spam(eggs):\\n    eggs = deepcopy(eggs)\\n    eggs.append(1)\\n    eggs = [2, 3]',\n",
       "   '_i101': 'ham = [0]\\nspam(ham)',\n",
       "   '_i102': 'ham',\n",
       "   '_i103': 'def spam(eggs):\\n    eggs.append(1)\\n    eggs[:] = [2, 3]',\n",
       "   '_i104': 'ham = [0]',\n",
       "   '_i105': 'spam(ham)',\n",
       "   '_i106': 'ham',\n",
       "   '_i107': \"def spam(eggs):\\n    eggs += '!!!'\\n    print(eggs)\",\n",
       "   '_i108': \"ham = 'hi'\",\n",
       "   '_i109': 'spam(ham)',\n",
       "   '_i11': 'numbers1 == numbers2',\n",
       "   '_i110': 'ham',\n",
       "   '_i111': \"def spam(eggs):\\n    eggs += '!!!' # 새로운 객체가 생성되서 eggs변수에 담김\\n    print(eggs) \",\n",
       "   '_i112': \"def spam(eggs):\\n    eggs += '!!!' # 새로운 객체가 생성되서 eggs변수에 담김\\n    print(eggs) \",\n",
       "   '_i113': \"ham = 'hi'\",\n",
       "   '_i114': 'spam(ham)',\n",
       "   '_i115': 'ham',\n",
       "   '_i116': '# mutable',\n",
       "   '_i117': 'def spam(eggs):\\n    eggs.append(3)',\n",
       "   '_i118': 'def spam(eggs):\\n    eggs.append(3)\\n    print(eggs)',\n",
       "   '_i119': 'ham = [1, 2]',\n",
       "   '_i12': 'numbers1 is numbers2 # 동일한 객체',\n",
       "   '_i120': 'spam(ham)',\n",
       "   '_i121': 'ham',\n",
       "   '_i122': 'def call(a, b, c):\\n    print(a, b, c)',\n",
       "   '_i123': 'values = [1, 2, 3]',\n",
       "   '_i124': 'call(*values)',\n",
       "   '_i125': 'call(values)',\n",
       "   '_i126': 'call(*values)',\n",
       "   '_i127': 'call(*values)',\n",
       "   '_i128': 'def call(*a):\\n    for x in a:\\n        print(x)',\n",
       "   '_i129': 'call(1, 2, 3, 4, 5)',\n",
       "   '_i13': 'numbers1 == numbers2',\n",
       "   '_i130': 'def print_vector(x, y, z):\\n    print(f\"{x}, {y}, {z}\")',\n",
       "   '_i131': \"vector = {'x': 1, 'y': 2, 'z': 3}\",\n",
       "   '_i132': 'print_vector(*vector)',\n",
       "   '_i133': 'print_vector(**vector)',\n",
       "   '_i134': 'def print_vector(x, y, z):\\n    print(f\"{x}, {y}, {z}\")',\n",
       "   '_i135': \"vector = {'x': 1, 'y': 2, 'z': 3}\",\n",
       "   '_i136': 'print_vector(*vector)',\n",
       "   '_i137': 'print_vector(**vector)',\n",
       "   '_i138': \"vector = {'x': 1, 'y': 2, 'z': 3}\",\n",
       "   '_i139': 'print_vector(*vector)',\n",
       "   '_i14': 'numbers1 == numbers2 # list의 경우 : 같은 값들을 가지고 있는가',\n",
       "   '_i140': 'print_vector(**vector)',\n",
       "   '_i141': 'print_vector(*vector)',\n",
       "   '_i142': 'print_vector(**vector)',\n",
       "   '_i143': 'print_vector(*vector)',\n",
       "   '_i144': 'print_vector(**vector)',\n",
       "   '_i145': 'a, *_, c = range(5)',\n",
       "   '_i146': 'a, c',\n",
       "   '_i147': '_',\n",
       "   '_i148': 'a, (b, c) = [1, [2, 3]]',\n",
       "   '_i149': 'a, b, c',\n",
       "   '_i15': 'class Some:\\n    pass',\n",
       "   '_i150': 'def func((a, (b, c))):\\n    print(a, b+c)',\n",
       "   '_i151': 'def func((a, (b, c))):\\n    print(a, b+c)',\n",
       "   '_i152': 'print([1, 2], 3)',\n",
       "   '_i153': 'print(*[1, 2], 3)',\n",
       "   '_i154': \"a = {'a': 1}\\nb = {'b': 2}\",\n",
       "   '_i155': 'c = {\\n    **a,\\n    **b\\n}',\n",
       "   '_i156': 'c',\n",
       "   '_i157': '[ *range(1000) ]',\n",
       "   '_i158': '[ *range(10) ]',\n",
       "   '_i159': '[ *range(10) ]',\n",
       "   '_i16': 'o1 = Some(); o2 = Some()',\n",
       "   '_i160': 'N = 100000',\n",
       "   '_i161': '%%time\\n\\nresult = []\\ni = 0\\nwhile True:\\n    result.append(i)\\n    i += 1\\n    if i > N:\\n        break',\n",
       "   '_i162': '%%time\\n\\nresult = []\\nfor i in range(N):\\n    result.append(i)',\n",
       "   '_i163': '%%time\\n\\nresult = [ x for x in range(N) ]',\n",
       "   '_i164': '%%time\\n\\nresult = [ *range(N) ]',\n",
       "   '_i165': '%%time\\n\\nresult = [ *range(N) ] #  == list(range(N))',\n",
       "   '_i166': 'def func():\\n    pass',\n",
       "   '_i167': \"is_callable = func, sum, type, 0, '123', lambda x : x+1\",\n",
       "   '_i168': '[ *map(callable, is_callable) ]',\n",
       "   '_i169': 'from types import FunctionType',\n",
       "   '_i17': 'o1 is o2',\n",
       "   '_i170': 'isinstance(func, FunctionType)',\n",
       "   '_i171': 'isinstance(func, FunctionType)',\n",
       "   '_i172': 'from inspect import isfunction',\n",
       "   '_i173': 'isfunction(func)',\n",
       "   '_i174': 'isfunction(func) # 권장 X',\n",
       "   '_i175': \"[ *map(lambda x : hasattr(x, '__call__'), is_callable)]\",\n",
       "   '_i176': \"[ *map(lambda x : hasattr(x, '__call__'), is_callable)]\",\n",
       "   '_i177': 'class Callable1:\\n    def __call__(self):\\n        \"\"\"아무것도 안합니다.\"\"\"',\n",
       "   '_i178': 'callable_obj1 = Callable1()',\n",
       "   '_i179': 'callable_obj1()',\n",
       "   '_i18': 'o1 == ',\n",
       "   '_i180': 'callable(callable_obj1)',\n",
       "   '_i181': 'class Callable1:\\n    __call__ = True',\n",
       "   '_i182': 'class Callable2:\\n    __call__ = True',\n",
       "   '_i183': 'callable_obj2 = Callable2()',\n",
       "   '_i184': 'callable(callable_obj2)',\n",
       "   '_i185': 'from collections import Callable',\n",
       "   '_i186': 'Callable',\n",
       "   '_i187': 'isinstance(callable_obj1, Callable)',\n",
       "   '_i188': 'isinstance(callable_obj1, Callable)',\n",
       "   '_i189': 'def f(x):\\n    print(\"call\", x, sep=\\'-\\', end=\\' \\')\\n    return x',\n",
       "   '_i19': 'o1 == o2',\n",
       "   '_i190': 'def func(a, b=[f(x) for x in range(1, 10+1)]):\\n    print(a)\\n    print(b)',\n",
       "   '_i191': 'func.__defaults__',\n",
       "   '_i192': 'func.__defaults__',\n",
       "   '_i193': 'def func(value=1, *, a=[]):\\n    a.append(value)\\n    return a',\n",
       "   '_i194': 'def func(value=1, *, a=[]):\\n    a.append(value)\\n    return a',\n",
       "   '_i195': 'func.__defaults__',\n",
       "   '_i196': 'func.__defaults__, func.__kwdefaults__',\n",
       "   '_i197': 'func()',\n",
       "   '_i198': 'func()',\n",
       "   '_i199': 'func()',\n",
       "   '_i2': 'number = 1000',\n",
       "   '_i20': 'class Some:\\n    def __eq__(self, *args):\\n        return True',\n",
       "   '_i200': 'func()',\n",
       "   '_i201': 'func(3, )',\n",
       "   '_i202': 'values = [1, 2, 3]\\nfunc(3, a=values)',\n",
       "   '_i203': 'func()',\n",
       "   '_i204': 'func()',\n",
       "   '_i205': 'func()',\n",
       "   '_i206': 'func()',\n",
       "   '_i207': 'func()',\n",
       "   '_i208': 'func()',\n",
       "   '_i209': 'func()',\n",
       "   '_i21': 'o1 = Some(); o2 = Some()',\n",
       "   '_i210': 'func()',\n",
       "   '_i211': 'func()',\n",
       "   '_i212': 'func()',\n",
       "   '_i213': 'func()',\n",
       "   '_i214': 'def func(value=1, *, a=[]):\\n    a.append(value)\\n    return a',\n",
       "   '_i215': 'def func(value=1, *, a=None):\\n    if not a:\\n        a = []\\n    a.append(value)\\n    return a',\n",
       "   '_i216': 'func()',\n",
       "   '_i217': 'func()',\n",
       "   '_i218': 'func()',\n",
       "   '_i219': 'func()',\n",
       "   '_i22': 'o1 is o2',\n",
       "   '_i220': '1 is 1',\n",
       "   '_i221': '1 == 1',\n",
       "   '_i222': 'None is None',\n",
       "   '_i223': 'None is None',\n",
       "   '_i224': 'def f(a, b, c, d, e=5):\\n    print(a, b, c, d, e)',\n",
       "   '_i225': 'f(1, 2, 3, 4, 5)',\n",
       "   '_i226': 'f(1, 2, 3, 4, 5)',\n",
       "   '_i227': 'f(1, 2, 3, 4, d=5)',\n",
       "   '_i228': 'f(1, 2, 3, d=4)',\n",
       "   '_i229': 'f(1, 2, c=4)',\n",
       "   '_i23': 'o1 == o2',\n",
       "   '_i230': 'f(1, 2, c=4)',\n",
       "   '_i231': 'f(1, 2, c=4)',\n",
       "   '_i232': 'f(1, 2, 3, d=4)',\n",
       "   '_i233': 'f(1, 2, 3, d=4)',\n",
       "   '_i234': 'def func(a, b)\\n    print(a, b)',\n",
       "   '_i235': 'def func(a, b):\\n    print(a, b)',\n",
       "   '_i236': 'f(1, *(2,))',\n",
       "   '_i237': 'def func(a, b):\\n    print(a, b)',\n",
       "   '_i238': 'f(1, *(2,))',\n",
       "   '_i239': 'def f(a, b):\\n    print(a, b)',\n",
       "   '_i24': 'o1 == 1',\n",
       "   '_i240': 'f(1, *(2,))',\n",
       "   '_i241': 'f(1, *(2,))',\n",
       "   '_i242': 'f(a=1, *(2,))',\n",
       "   '_i243': 'f(b=1, *(2,))',\n",
       "   '_i244': 'f(b=1, 1)',\n",
       "   '_i245': 'f(b=1, *(1,))',\n",
       "   '_i246': 'f(b=1, *(1,))',\n",
       "   '_i247': 'f(b=1, *(1,))',\n",
       "   '_i248': 'f(b=1, *(1,))',\n",
       "   '_i249': 'f(a=1, *(2,))',\n",
       "   '_i25': 'o1 == 1',\n",
       "   '_i250': 'f(b=1, *(2,))',\n",
       "   '_i251': 'f(b=1, *(1,))',\n",
       "   '_i252': 'func',\n",
       "   '_i253': 'func',\n",
       "   '_i254': 'import inspect',\n",
       "   '_i255': 'source = inspect.getsource(func)',\n",
       "   '_i256': 'print(source)',\n",
       "   '_i257': 'print(source)',\n",
       "   '_i258': 'inspect.getsource(print)',\n",
       "   '_i259': 'inspect.getmembers(func)',\n",
       "   '_i26': \"o1 == 'string'\",\n",
       "   '_i260': 'inspect.getmembers(func)',\n",
       "   '_i27': 'class Some:\\n    def __eq__(self, *args):\\n        print(args)\\n        return True',\n",
       "   '_i28': 'o1 = Some(); o2 = Some()',\n",
       "   '_i29': 'o1 is o2',\n",
       "   '_i3': 'number = 1000\\nstring = \"Hello World!\"\\nlist_ = [1, 2, 3]',\n",
       "   '_i30': \"o1 == 'string'\",\n",
       "   '_i31': 'class Some:\\n    def __eq__(self, other):\\n        print(args) # self, other관계를 증명하면 됩니다.\\n        return True',\n",
       "   '_i32': 'o1 = Some(); o2 = Some()',\n",
       "   '_i33': 'o1 is o2',\n",
       "   '_i34': \"o1 == 'string'\",\n",
       "   '_i35': 'class Some:\\n    def __eq__(self, other):\\n        print(other) # self, other관계를 증명하면 됩니다.\\n        return True',\n",
       "   '_i36': 'o1 = Some(); o2 = Some()',\n",
       "   '_i37': 'o1 is o2',\n",
       "   '_i38': \"o1 == 'string'\",\n",
       "   '_i39': \"print(o1 == 'string')\\nprint(o1 == 123)\",\n",
       "   '_i4': 'id(number), id(string), id(list_)',\n",
       "   '_i40': 'class Some:\\n    def __eq__(self, other):\\n        #print(other) # self, other관계를 증명하면 됩니다.\\n        return True',\n",
       "   '_i41': 'o1 = Some(); o2 = Some()',\n",
       "   '_i42': 'o1 is o2',\n",
       "   '_i43': \"print(o1 == 'string')\\nprint(o1 == 123)\",\n",
       "   '_i44': 'number1 = 10000\\nnumber2 = 10000',\n",
       "   '_i45': 'id(number1), id(numbers2)',\n",
       "   '_i46': 'id(number1), id(numbers2)',\n",
       "   '_i47': 'number1 is number2',\n",
       "   '_i48': 'number1 is number2, number1 == number2',\n",
       "   '_i49': 'a = 100\\nb = 100\\nc = 100',\n",
       "   '_i5': 'id(number), id(string), id(list_) # 객체 고유의 식별자',\n",
       "   '_i50': 'a is b is c',\n",
       "   '_i51': 'a = 257\\nb = 257\\nc = 257',\n",
       "   '_i52': 'a is b is c',\n",
       "   '_i53': 'a = 256\\nb = 256\\nc = 256',\n",
       "   '_i54': 'a is b is c',\n",
       "   '_i55': 'a = 256\\nb = 256\\nc = 256',\n",
       "   '_i56': 'a is b is c',\n",
       "   '_i57': 'a = ()\\nb = ()\\nc = ()',\n",
       "   '_i58': 'a is b is c',\n",
       "   '_i59': 'a = ()\\nb = ()\\nc = ()',\n",
       "   '_i6': 'number = 1000\\nid(number)',\n",
       "   '_i60': 'a is b is c',\n",
       "   '_i61': 'a = frozenset()\\nb = frozenset()\\nc = frozenset()',\n",
       "   '_i62': 'a is b is c',\n",
       "   '_i63': 'a = []\\nb = []\\nc = []',\n",
       "   '_i64': 'a is b is c',\n",
       "   '_i65': \"a = ''\\nb = ''\\nc = ''\",\n",
       "   '_i66': 'a is b is c',\n",
       "   '_i67': 'a = \"_ab\"\\nb = \"_ab\"\\nc = \"_ab\"',\n",
       "   '_i68': 'a is b is c',\n",
       "   '_i69': 'a = \"_ab\"\\nb = \"_ab\"\\nc = \"_ab\"',\n",
       "   '_i7': 'number = 100',\n",
       "   '_i70': 'a is b is c',\n",
       "   '_i71': 'a = \"!!!\"\\nb = \"!!!\"\\nc = \"!!!\"',\n",
       "   '_i72': 'a is b is c',\n",
       "   '_i73': 'a = \"!!!\"\\nb = \"!!!\"\\nc = \"!!!\"',\n",
       "   '_i74': 'a = \"!!!\"\\nb = \"!!!\"\\nc = \"!!!\"',\n",
       "   '_i75': 'a is b is c',\n",
       "   '_i76': 'from sys import intern',\n",
       "   '_i77': 'a = intern(\"!!!\")\\nb = intern(\"!!!\")\\nc = intern(\"!!!\")',\n",
       "   '_i78': 'a is b is c',\n",
       "   '_i79': 'a = intern(\"!!!\")\\nb = intern(\"!!!\")\\nc = intern(\"!!!\")',\n",
       "   '_i8': 'number = 100\\nid(number)',\n",
       "   '_i80': 'a is b is c',\n",
       "   '_i81': 'help(intern)',\n",
       "   '_i82': 'help(intern)',\n",
       "   '_i83': \"a = 'ab cd!'\\nb = 'ab cd!'\\nc = 'ab cd!'\\na is b is c\",\n",
       "   '_i84': 'source = \"\"\"\\na = \\'ab cd!\\'\\nb = \\'ab cd!\\'\\nc = \\'ab cd!\\'\\nprint(a is b is c)\\n\"\"\"',\n",
       "   '_i85': 'source = \"\"\"\\na = \\'ab cd!\\'\\nb = \\'ab cd!\\'\\nc = \\'ab cd!\\'\\nprint(a is b is c)\\n\"\"\"',\n",
       "   '_i86': 'exec(source)',\n",
       "   '_i87': 'def spam(eggs):\\n    eggs.append(1)\\n    eggs = [2, 3]',\n",
       "   '_i88': 'ham = [0]',\n",
       "   '_i89': 'spam(ham)',\n",
       "   '_i9': 'numbers1= [1, 2, 3]; numbers2 = [1, 2, 3]',\n",
       "   '_i90': 'def spam(eggs):\\n    eggs.append(1)\\n    eggs = [2, 3]',\n",
       "   '_i91': 'ham = [0]',\n",
       "   '_i92': 'spam(ham)',\n",
       "   '_i93': 'ham # call by value? [0]이 출력',\n",
       "   '_i94': 'def spam(eggs):\\n    eggs.append(1)\\n    eggs = [2, 3]',\n",
       "   '_i95': 'ham = [0]',\n",
       "   '_i96': 'spam(ham)',\n",
       "   '_i97': 'ham # call by reference라면... [2, 3]',\n",
       "   '_i98': 'from copy import deepcopy',\n",
       "   '_i99': 'def spam(eggs):\\n    eggs = deepcopy(eggs)\\n    eggs.append(1)',\n",
       "   '_ih': ['',\n",
       "    'number = 1000',\n",
       "    'number = 1000',\n",
       "    'number = 1000\\nstring = \"Hello World!\"\\nlist_ = [1, 2, 3]',\n",
       "    'id(number), id(string), id(list_)',\n",
       "    'id(number), id(string), id(list_) # 객체 고유의 식별자',\n",
       "    'number = 1000\\nid(number)',\n",
       "    'number = 100',\n",
       "    'number = 100\\nid(number)',\n",
       "    'numbers1= [1, 2, 3]; numbers2 = [1, 2, 3]',\n",
       "    'numbers1 is numbers2',\n",
       "    'numbers1 == numbers2',\n",
       "    'numbers1 is numbers2 # 동일한 객체',\n",
       "    'numbers1 == numbers2',\n",
       "    'numbers1 == numbers2 # list의 경우 : 같은 값들을 가지고 있는가',\n",
       "    'class Some:\\n    pass',\n",
       "    'o1 = Some(); o2 = Some()',\n",
       "    'o1 is o2',\n",
       "    'o1 == ',\n",
       "    'o1 == o2',\n",
       "    'class Some:\\n    def __eq__(self, *args):\\n        return True',\n",
       "    'o1 = Some(); o2 = Some()',\n",
       "    'o1 is o2',\n",
       "    'o1 == o2',\n",
       "    'o1 == 1',\n",
       "    'o1 == 1',\n",
       "    \"o1 == 'string'\",\n",
       "    'class Some:\\n    def __eq__(self, *args):\\n        print(args)\\n        return True',\n",
       "    'o1 = Some(); o2 = Some()',\n",
       "    'o1 is o2',\n",
       "    \"o1 == 'string'\",\n",
       "    'class Some:\\n    def __eq__(self, other):\\n        print(args) # self, other관계를 증명하면 됩니다.\\n        return True',\n",
       "    'o1 = Some(); o2 = Some()',\n",
       "    'o1 is o2',\n",
       "    \"o1 == 'string'\",\n",
       "    'class Some:\\n    def __eq__(self, other):\\n        print(other) # self, other관계를 증명하면 됩니다.\\n        return True',\n",
       "    'o1 = Some(); o2 = Some()',\n",
       "    'o1 is o2',\n",
       "    \"o1 == 'string'\",\n",
       "    \"print(o1 == 'string')\\nprint(o1 == 123)\",\n",
       "    'class Some:\\n    def __eq__(self, other):\\n        #print(other) # self, other관계를 증명하면 됩니다.\\n        return True',\n",
       "    'o1 = Some(); o2 = Some()',\n",
       "    'o1 is o2',\n",
       "    \"print(o1 == 'string')\\nprint(o1 == 123)\",\n",
       "    'number1 = 10000\\nnumber2 = 10000',\n",
       "    'id(number1), id(numbers2)',\n",
       "    'id(number1), id(numbers2)',\n",
       "    'number1 is number2',\n",
       "    'number1 is number2, number1 == number2',\n",
       "    'a = 100\\nb = 100\\nc = 100',\n",
       "    'a is b is c',\n",
       "    'a = 257\\nb = 257\\nc = 257',\n",
       "    'a is b is c',\n",
       "    'a = 256\\nb = 256\\nc = 256',\n",
       "    'a is b is c',\n",
       "    'a = 256\\nb = 256\\nc = 256',\n",
       "    'a is b is c',\n",
       "    'a = ()\\nb = ()\\nc = ()',\n",
       "    'a is b is c',\n",
       "    'a = ()\\nb = ()\\nc = ()',\n",
       "    'a is b is c',\n",
       "    'a = frozenset()\\nb = frozenset()\\nc = frozenset()',\n",
       "    'a is b is c',\n",
       "    'a = []\\nb = []\\nc = []',\n",
       "    'a is b is c',\n",
       "    \"a = ''\\nb = ''\\nc = ''\",\n",
       "    'a is b is c',\n",
       "    'a = \"_ab\"\\nb = \"_ab\"\\nc = \"_ab\"',\n",
       "    'a is b is c',\n",
       "    'a = \"_ab\"\\nb = \"_ab\"\\nc = \"_ab\"',\n",
       "    'a is b is c',\n",
       "    'a = \"!!!\"\\nb = \"!!!\"\\nc = \"!!!\"',\n",
       "    'a is b is c',\n",
       "    'a = \"!!!\"\\nb = \"!!!\"\\nc = \"!!!\"',\n",
       "    'a = \"!!!\"\\nb = \"!!!\"\\nc = \"!!!\"',\n",
       "    'a is b is c',\n",
       "    'from sys import intern',\n",
       "    'a = intern(\"!!!\")\\nb = intern(\"!!!\")\\nc = intern(\"!!!\")',\n",
       "    'a is b is c',\n",
       "    'a = intern(\"!!!\")\\nb = intern(\"!!!\")\\nc = intern(\"!!!\")',\n",
       "    'a is b is c',\n",
       "    'help(intern)',\n",
       "    'help(intern)',\n",
       "    \"a = 'ab cd!'\\nb = 'ab cd!'\\nc = 'ab cd!'\\na is b is c\",\n",
       "    'source = \"\"\"\\na = \\'ab cd!\\'\\nb = \\'ab cd!\\'\\nc = \\'ab cd!\\'\\nprint(a is b is c)\\n\"\"\"',\n",
       "    'source = \"\"\"\\na = \\'ab cd!\\'\\nb = \\'ab cd!\\'\\nc = \\'ab cd!\\'\\nprint(a is b is c)\\n\"\"\"',\n",
       "    'exec(source)',\n",
       "    'def spam(eggs):\\n    eggs.append(1)\\n    eggs = [2, 3]',\n",
       "    'ham = [0]',\n",
       "    'spam(ham)',\n",
       "    'def spam(eggs):\\n    eggs.append(1)\\n    eggs = [2, 3]',\n",
       "    'ham = [0]',\n",
       "    'spam(ham)',\n",
       "    'ham # call by value? [0]이 출력',\n",
       "    'def spam(eggs):\\n    eggs.append(1)\\n    eggs = [2, 3]',\n",
       "    'ham = [0]',\n",
       "    'spam(ham)',\n",
       "    'ham # call by reference라면... [2, 3]',\n",
       "    'from copy import deepcopy',\n",
       "    'def spam(eggs):\\n    eggs = deepcopy(eggs)\\n    eggs.append(1)',\n",
       "    'def spam(eggs):\\n    eggs = deepcopy(eggs)\\n    eggs.append(1)\\n    eggs = [2, 3]',\n",
       "    'ham = [0]\\nspam(ham)',\n",
       "    'ham',\n",
       "    'def spam(eggs):\\n    eggs.append(1)\\n    eggs[:] = [2, 3]',\n",
       "    'ham = [0]',\n",
       "    'spam(ham)',\n",
       "    'ham',\n",
       "    \"def spam(eggs):\\n    eggs += '!!!'\\n    print(eggs)\",\n",
       "    \"ham = 'hi'\",\n",
       "    'spam(ham)',\n",
       "    'ham',\n",
       "    \"def spam(eggs):\\n    eggs += '!!!' # 새로운 객체가 생성되서 eggs변수에 담김\\n    print(eggs) \",\n",
       "    \"def spam(eggs):\\n    eggs += '!!!' # 새로운 객체가 생성되서 eggs변수에 담김\\n    print(eggs) \",\n",
       "    \"ham = 'hi'\",\n",
       "    'spam(ham)',\n",
       "    'ham',\n",
       "    '# mutable',\n",
       "    'def spam(eggs):\\n    eggs.append(3)',\n",
       "    'def spam(eggs):\\n    eggs.append(3)\\n    print(eggs)',\n",
       "    'ham = [1, 2]',\n",
       "    'spam(ham)',\n",
       "    'ham',\n",
       "    'def call(a, b, c):\\n    print(a, b, c)',\n",
       "    'values = [1, 2, 3]',\n",
       "    'call(*values)',\n",
       "    'call(values)',\n",
       "    'call(*values)',\n",
       "    'call(*values)',\n",
       "    'def call(*a):\\n    for x in a:\\n        print(x)',\n",
       "    'call(1, 2, 3, 4, 5)',\n",
       "    'def print_vector(x, y, z):\\n    print(f\"{x}, {y}, {z}\")',\n",
       "    \"vector = {'x': 1, 'y': 2, 'z': 3}\",\n",
       "    'print_vector(*vector)',\n",
       "    'print_vector(**vector)',\n",
       "    'def print_vector(x, y, z):\\n    print(f\"{x}, {y}, {z}\")',\n",
       "    \"vector = {'x': 1, 'y': 2, 'z': 3}\",\n",
       "    'print_vector(*vector)',\n",
       "    'print_vector(**vector)',\n",
       "    \"vector = {'x': 1, 'y': 2, 'z': 3}\",\n",
       "    'print_vector(*vector)',\n",
       "    'print_vector(**vector)',\n",
       "    'print_vector(*vector)',\n",
       "    'print_vector(**vector)',\n",
       "    'print_vector(*vector)',\n",
       "    'print_vector(**vector)',\n",
       "    'a, *_, c = range(5)',\n",
       "    'a, c',\n",
       "    '_',\n",
       "    'a, (b, c) = [1, [2, 3]]',\n",
       "    'a, b, c',\n",
       "    'def func((a, (b, c))):\\n    print(a, b+c)',\n",
       "    'def func((a, (b, c))):\\n    print(a, b+c)',\n",
       "    'print([1, 2], 3)',\n",
       "    'print(*[1, 2], 3)',\n",
       "    \"a = {'a': 1}\\nb = {'b': 2}\",\n",
       "    'c = {\\n    **a,\\n    **b\\n}',\n",
       "    'c',\n",
       "    '[ *range(1000) ]',\n",
       "    '[ *range(10) ]',\n",
       "    '[ *range(10) ]',\n",
       "    'N = 100000',\n",
       "    \"get_ipython().run_cell_magic('time', '', '\\\\nresult = []\\\\ni = 0\\\\nwhile True:\\\\n    result.append(i)\\\\n    i += 1\\\\n    if i > N:\\\\n        break')\",\n",
       "    \"get_ipython().run_cell_magic('time', '', '\\\\nresult = []\\\\nfor i in range(N):\\\\n    result.append(i)')\",\n",
       "    \"get_ipython().run_cell_magic('time', '', '\\\\nresult = [ x for x in range(N) ]')\",\n",
       "    \"get_ipython().run_cell_magic('time', '', '\\\\nresult = [ *range(N) ]')\",\n",
       "    \"get_ipython().run_cell_magic('time', '', '\\\\nresult = [ *range(N) ] #  == list(range(N))')\",\n",
       "    'def func():\\n    pass',\n",
       "    \"is_callable = func, sum, type, 0, '123', lambda x : x+1\",\n",
       "    '[ *map(callable, is_callable) ]',\n",
       "    'from types import FunctionType',\n",
       "    'isinstance(func, FunctionType)',\n",
       "    'isinstance(func, FunctionType)',\n",
       "    'from inspect import isfunction',\n",
       "    'isfunction(func)',\n",
       "    'isfunction(func) # 권장 X',\n",
       "    \"[ *map(lambda x : hasattr(x, '__call__'), is_callable)]\",\n",
       "    \"[ *map(lambda x : hasattr(x, '__call__'), is_callable)]\",\n",
       "    'class Callable1:\\n    def __call__(self):\\n        \"\"\"아무것도 안합니다.\"\"\"',\n",
       "    'callable_obj1 = Callable1()',\n",
       "    'callable_obj1()',\n",
       "    'callable(callable_obj1)',\n",
       "    'class Callable1:\\n    __call__ = True',\n",
       "    'class Callable2:\\n    __call__ = True',\n",
       "    'callable_obj2 = Callable2()',\n",
       "    'callable(callable_obj2)',\n",
       "    'from collections import Callable',\n",
       "    'Callable',\n",
       "    'isinstance(callable_obj1, Callable)',\n",
       "    'isinstance(callable_obj1, Callable)',\n",
       "    'def f(x):\\n    print(\"call\", x, sep=\\'-\\', end=\\' \\')\\n    return x',\n",
       "    'def func(a, b=[f(x) for x in range(1, 10+1)]):\\n    print(a)\\n    print(b)',\n",
       "    'func.__defaults__',\n",
       "    'func.__defaults__',\n",
       "    'def func(value=1, *, a=[]):\\n    a.append(value)\\n    return a',\n",
       "    'def func(value=1, *, a=[]):\\n    a.append(value)\\n    return a',\n",
       "    'func.__defaults__',\n",
       "    'func.__defaults__, func.__kwdefaults__',\n",
       "    'func()',\n",
       "    'func()',\n",
       "    'func()',\n",
       "    'func()',\n",
       "    'func(3, )',\n",
       "    'values = [1, 2, 3]\\nfunc(3, a=values)',\n",
       "    'func()',\n",
       "    'func()',\n",
       "    'func()',\n",
       "    'func()',\n",
       "    'func()',\n",
       "    'func()',\n",
       "    'func()',\n",
       "    'func()',\n",
       "    'func()',\n",
       "    'func()',\n",
       "    'func()',\n",
       "    'def func(value=1, *, a=[]):\\n    a.append(value)\\n    return a',\n",
       "    'def func(value=1, *, a=None):\\n    if not a:\\n        a = []\\n    a.append(value)\\n    return a',\n",
       "    'func()',\n",
       "    'func()',\n",
       "    'func()',\n",
       "    'func()',\n",
       "    '1 is 1',\n",
       "    '1 == 1',\n",
       "    'None is None',\n",
       "    'None is None',\n",
       "    'def f(a, b, c, d, e=5):\\n    print(a, b, c, d, e)',\n",
       "    'f(1, 2, 3, 4, 5)',\n",
       "    'f(1, 2, 3, 4, 5)',\n",
       "    'f(1, 2, 3, 4, d=5)',\n",
       "    'f(1, 2, 3, d=4)',\n",
       "    'f(1, 2, c=4)',\n",
       "    'f(1, 2, c=4)',\n",
       "    'f(1, 2, c=4)',\n",
       "    'f(1, 2, 3, d=4)',\n",
       "    'f(1, 2, 3, d=4)',\n",
       "    'def func(a, b)\\n    print(a, b)',\n",
       "    'def func(a, b):\\n    print(a, b)',\n",
       "    'f(1, *(2,))',\n",
       "    'def func(a, b):\\n    print(a, b)',\n",
       "    'f(1, *(2,))',\n",
       "    'def f(a, b):\\n    print(a, b)',\n",
       "    'f(1, *(2,))',\n",
       "    'f(1, *(2,))',\n",
       "    'f(a=1, *(2,))',\n",
       "    'f(b=1, *(2,))',\n",
       "    'f(b=1, 1)',\n",
       "    'f(b=1, *(1,))',\n",
       "    'f(b=1, *(1,))',\n",
       "    'f(b=1, *(1,))',\n",
       "    'f(b=1, *(1,))',\n",
       "    'f(a=1, *(2,))',\n",
       "    'f(b=1, *(2,))',\n",
       "    'f(b=1, *(1,))',\n",
       "    'func',\n",
       "    'func',\n",
       "    'import inspect',\n",
       "    'source = inspect.getsource(func)',\n",
       "    'print(source)',\n",
       "    'print(source)',\n",
       "    'inspect.getsource(print)',\n",
       "    'inspect.getmembers(func)',\n",
       "    'inspect.getmembers(func)'],\n",
       "   '_ii': 'inspect.getsource(print)',\n",
       "   '_iii': 'print(source)',\n",
       "   '_oh': {4: (4552927056, 4554619120, 4552558280),\n",
       "    5: (4552927056, 4554619120, 4552558280),\n",
       "    6: 4554731632,\n",
       "    8: 4514889472,\n",
       "    10: False,\n",
       "    11: True,\n",
       "    12: False,\n",
       "    13: True,\n",
       "    14: True,\n",
       "    17: False,\n",
       "    19: False,\n",
       "    22: False,\n",
       "    23: True,\n",
       "    24: True,\n",
       "    25: True,\n",
       "    26: True,\n",
       "    29: False,\n",
       "    30: True,\n",
       "    33: False,\n",
       "    37: False,\n",
       "    38: True,\n",
       "    42: False,\n",
       "    45: (4554733136, 4554618440),\n",
       "    46: (4554733136, 4554618440),\n",
       "    47: False,\n",
       "    48: (False, True),\n",
       "    50: True,\n",
       "    52: False,\n",
       "    54: True,\n",
       "    56: True,\n",
       "    58: True,\n",
       "    60: True,\n",
       "    62: True,\n",
       "    64: False,\n",
       "    66: True,\n",
       "    68: True,\n",
       "    70: True,\n",
       "    72: False,\n",
       "    75: False,\n",
       "    78: True,\n",
       "    80: True,\n",
       "    83: False,\n",
       "    93: [0, 1],\n",
       "    97: [0, 1],\n",
       "    102: [0],\n",
       "    106: [2, 3],\n",
       "    110: 'hi',\n",
       "    115: 'hi',\n",
       "    121: [1, 2, 3],\n",
       "    146: (0, 4),\n",
       "    147: [1, 2, 3],\n",
       "    149: (1, 2, 3),\n",
       "    156: {'a': 1, 'b': 2},\n",
       "    157: [0,\n",
       "     1,\n",
       "     2,\n",
       "     3,\n",
       "     4,\n",
       "     5,\n",
       "     6,\n",
       "     7,\n",
       "     8,\n",
       "     9,\n",
       "     10,\n",
       "     11,\n",
       "     12,\n",
       "     13,\n",
       "     14,\n",
       "     15,\n",
       "     16,\n",
       "     17,\n",
       "     18,\n",
       "     19,\n",
       "     20,\n",
       "     21,\n",
       "     22,\n",
       "     23,\n",
       "     24,\n",
       "     25,\n",
       "     26,\n",
       "     27,\n",
       "     28,\n",
       "     29,\n",
       "     30,\n",
       "     31,\n",
       "     32,\n",
       "     33,\n",
       "     34,\n",
       "     35,\n",
       "     36,\n",
       "     37,\n",
       "     38,\n",
       "     39,\n",
       "     40,\n",
       "     41,\n",
       "     42,\n",
       "     43,\n",
       "     44,\n",
       "     45,\n",
       "     46,\n",
       "     47,\n",
       "     48,\n",
       "     49,\n",
       "     50,\n",
       "     51,\n",
       "     52,\n",
       "     53,\n",
       "     54,\n",
       "     55,\n",
       "     56,\n",
       "     57,\n",
       "     58,\n",
       "     59,\n",
       "     60,\n",
       "     61,\n",
       "     62,\n",
       "     63,\n",
       "     64,\n",
       "     65,\n",
       "     66,\n",
       "     67,\n",
       "     68,\n",
       "     69,\n",
       "     70,\n",
       "     71,\n",
       "     72,\n",
       "     73,\n",
       "     74,\n",
       "     75,\n",
       "     76,\n",
       "     77,\n",
       "     78,\n",
       "     79,\n",
       "     80,\n",
       "     81,\n",
       "     82,\n",
       "     83,\n",
       "     84,\n",
       "     85,\n",
       "     86,\n",
       "     87,\n",
       "     88,\n",
       "     89,\n",
       "     90,\n",
       "     91,\n",
       "     92,\n",
       "     93,\n",
       "     94,\n",
       "     95,\n",
       "     96,\n",
       "     97,\n",
       "     98,\n",
       "     99,\n",
       "     100,\n",
       "     101,\n",
       "     102,\n",
       "     103,\n",
       "     104,\n",
       "     105,\n",
       "     106,\n",
       "     107,\n",
       "     108,\n",
       "     109,\n",
       "     110,\n",
       "     111,\n",
       "     112,\n",
       "     113,\n",
       "     114,\n",
       "     115,\n",
       "     116,\n",
       "     117,\n",
       "     118,\n",
       "     119,\n",
       "     120,\n",
       "     121,\n",
       "     122,\n",
       "     123,\n",
       "     124,\n",
       "     125,\n",
       "     126,\n",
       "     127,\n",
       "     128,\n",
       "     129,\n",
       "     130,\n",
       "     131,\n",
       "     132,\n",
       "     133,\n",
       "     134,\n",
       "     135,\n",
       "     136,\n",
       "     137,\n",
       "     138,\n",
       "     139,\n",
       "     140,\n",
       "     141,\n",
       "     142,\n",
       "     143,\n",
       "     144,\n",
       "     145,\n",
       "     146,\n",
       "     147,\n",
       "     148,\n",
       "     149,\n",
       "     150,\n",
       "     151,\n",
       "     152,\n",
       "     153,\n",
       "     154,\n",
       "     155,\n",
       "     156,\n",
       "     157,\n",
       "     158,\n",
       "     159,\n",
       "     160,\n",
       "     161,\n",
       "     162,\n",
       "     163,\n",
       "     164,\n",
       "     165,\n",
       "     166,\n",
       "     167,\n",
       "     168,\n",
       "     169,\n",
       "     170,\n",
       "     171,\n",
       "     172,\n",
       "     173,\n",
       "     174,\n",
       "     175,\n",
       "     176,\n",
       "     177,\n",
       "     178,\n",
       "     179,\n",
       "     180,\n",
       "     181,\n",
       "     182,\n",
       "     183,\n",
       "     184,\n",
       "     185,\n",
       "     186,\n",
       "     187,\n",
       "     188,\n",
       "     189,\n",
       "     190,\n",
       "     191,\n",
       "     192,\n",
       "     193,\n",
       "     194,\n",
       "     195,\n",
       "     196,\n",
       "     197,\n",
       "     198,\n",
       "     199,\n",
       "     200,\n",
       "     201,\n",
       "     202,\n",
       "     203,\n",
       "     204,\n",
       "     205,\n",
       "     206,\n",
       "     207,\n",
       "     208,\n",
       "     209,\n",
       "     210,\n",
       "     211,\n",
       "     212,\n",
       "     213,\n",
       "     214,\n",
       "     215,\n",
       "     216,\n",
       "     217,\n",
       "     218,\n",
       "     219,\n",
       "     220,\n",
       "     221,\n",
       "     222,\n",
       "     223,\n",
       "     224,\n",
       "     225,\n",
       "     226,\n",
       "     227,\n",
       "     228,\n",
       "     229,\n",
       "     230,\n",
       "     231,\n",
       "     232,\n",
       "     233,\n",
       "     234,\n",
       "     235,\n",
       "     236,\n",
       "     237,\n",
       "     238,\n",
       "     239,\n",
       "     240,\n",
       "     241,\n",
       "     242,\n",
       "     243,\n",
       "     244,\n",
       "     245,\n",
       "     246,\n",
       "     247,\n",
       "     248,\n",
       "     249,\n",
       "     250,\n",
       "     251,\n",
       "     252,\n",
       "     253,\n",
       "     254,\n",
       "     255,\n",
       "     256,\n",
       "     257,\n",
       "     258,\n",
       "     259,\n",
       "     260,\n",
       "     261,\n",
       "     262,\n",
       "     263,\n",
       "     264,\n",
       "     265,\n",
       "     266,\n",
       "     267,\n",
       "     268,\n",
       "     269,\n",
       "     270,\n",
       "     271,\n",
       "     272,\n",
       "     273,\n",
       "     274,\n",
       "     275,\n",
       "     276,\n",
       "     277,\n",
       "     278,\n",
       "     279,\n",
       "     280,\n",
       "     281,\n",
       "     282,\n",
       "     283,\n",
       "     284,\n",
       "     285,\n",
       "     286,\n",
       "     287,\n",
       "     288,\n",
       "     289,\n",
       "     290,\n",
       "     291,\n",
       "     292,\n",
       "     293,\n",
       "     294,\n",
       "     295,\n",
       "     296,\n",
       "     297,\n",
       "     298,\n",
       "     299,\n",
       "     300,\n",
       "     301,\n",
       "     302,\n",
       "     303,\n",
       "     304,\n",
       "     305,\n",
       "     306,\n",
       "     307,\n",
       "     308,\n",
       "     309,\n",
       "     310,\n",
       "     311,\n",
       "     312,\n",
       "     313,\n",
       "     314,\n",
       "     315,\n",
       "     316,\n",
       "     317,\n",
       "     318,\n",
       "     319,\n",
       "     320,\n",
       "     321,\n",
       "     322,\n",
       "     323,\n",
       "     324,\n",
       "     325,\n",
       "     326,\n",
       "     327,\n",
       "     328,\n",
       "     329,\n",
       "     330,\n",
       "     331,\n",
       "     332,\n",
       "     333,\n",
       "     334,\n",
       "     335,\n",
       "     336,\n",
       "     337,\n",
       "     338,\n",
       "     339,\n",
       "     340,\n",
       "     341,\n",
       "     342,\n",
       "     343,\n",
       "     344,\n",
       "     345,\n",
       "     346,\n",
       "     347,\n",
       "     348,\n",
       "     349,\n",
       "     350,\n",
       "     351,\n",
       "     352,\n",
       "     353,\n",
       "     354,\n",
       "     355,\n",
       "     356,\n",
       "     357,\n",
       "     358,\n",
       "     359,\n",
       "     360,\n",
       "     361,\n",
       "     362,\n",
       "     363,\n",
       "     364,\n",
       "     365,\n",
       "     366,\n",
       "     367,\n",
       "     368,\n",
       "     369,\n",
       "     370,\n",
       "     371,\n",
       "     372,\n",
       "     373,\n",
       "     374,\n",
       "     375,\n",
       "     376,\n",
       "     377,\n",
       "     378,\n",
       "     379,\n",
       "     380,\n",
       "     381,\n",
       "     382,\n",
       "     383,\n",
       "     384,\n",
       "     385,\n",
       "     386,\n",
       "     387,\n",
       "     388,\n",
       "     389,\n",
       "     390,\n",
       "     391,\n",
       "     392,\n",
       "     393,\n",
       "     394,\n",
       "     395,\n",
       "     396,\n",
       "     397,\n",
       "     398,\n",
       "     399,\n",
       "     400,\n",
       "     401,\n",
       "     402,\n",
       "     403,\n",
       "     404,\n",
       "     405,\n",
       "     406,\n",
       "     407,\n",
       "     408,\n",
       "     409,\n",
       "     410,\n",
       "     411,\n",
       "     412,\n",
       "     413,\n",
       "     414,\n",
       "     415,\n",
       "     416,\n",
       "     417,\n",
       "     418,\n",
       "     419,\n",
       "     420,\n",
       "     421,\n",
       "     422,\n",
       "     423,\n",
       "     424,\n",
       "     425,\n",
       "     426,\n",
       "     427,\n",
       "     428,\n",
       "     429,\n",
       "     430,\n",
       "     431,\n",
       "     432,\n",
       "     433,\n",
       "     434,\n",
       "     435,\n",
       "     436,\n",
       "     437,\n",
       "     438,\n",
       "     439,\n",
       "     440,\n",
       "     441,\n",
       "     442,\n",
       "     443,\n",
       "     444,\n",
       "     445,\n",
       "     446,\n",
       "     447,\n",
       "     448,\n",
       "     449,\n",
       "     450,\n",
       "     451,\n",
       "     452,\n",
       "     453,\n",
       "     454,\n",
       "     455,\n",
       "     456,\n",
       "     457,\n",
       "     458,\n",
       "     459,\n",
       "     460,\n",
       "     461,\n",
       "     462,\n",
       "     463,\n",
       "     464,\n",
       "     465,\n",
       "     466,\n",
       "     467,\n",
       "     468,\n",
       "     469,\n",
       "     470,\n",
       "     471,\n",
       "     472,\n",
       "     473,\n",
       "     474,\n",
       "     475,\n",
       "     476,\n",
       "     477,\n",
       "     478,\n",
       "     479,\n",
       "     480,\n",
       "     481,\n",
       "     482,\n",
       "     483,\n",
       "     484,\n",
       "     485,\n",
       "     486,\n",
       "     487,\n",
       "     488,\n",
       "     489,\n",
       "     490,\n",
       "     491,\n",
       "     492,\n",
       "     493,\n",
       "     494,\n",
       "     495,\n",
       "     496,\n",
       "     497,\n",
       "     498,\n",
       "     499,\n",
       "     500,\n",
       "     501,\n",
       "     502,\n",
       "     503,\n",
       "     504,\n",
       "     505,\n",
       "     506,\n",
       "     507,\n",
       "     508,\n",
       "     509,\n",
       "     510,\n",
       "     511,\n",
       "     512,\n",
       "     513,\n",
       "     514,\n",
       "     515,\n",
       "     516,\n",
       "     517,\n",
       "     518,\n",
       "     519,\n",
       "     520,\n",
       "     521,\n",
       "     522,\n",
       "     523,\n",
       "     524,\n",
       "     525,\n",
       "     526,\n",
       "     527,\n",
       "     528,\n",
       "     529,\n",
       "     530,\n",
       "     531,\n",
       "     532,\n",
       "     533,\n",
       "     534,\n",
       "     535,\n",
       "     536,\n",
       "     537,\n",
       "     538,\n",
       "     539,\n",
       "     540,\n",
       "     541,\n",
       "     542,\n",
       "     543,\n",
       "     544,\n",
       "     545,\n",
       "     546,\n",
       "     547,\n",
       "     548,\n",
       "     549,\n",
       "     550,\n",
       "     551,\n",
       "     552,\n",
       "     553,\n",
       "     554,\n",
       "     555,\n",
       "     556,\n",
       "     557,\n",
       "     558,\n",
       "     559,\n",
       "     560,\n",
       "     561,\n",
       "     562,\n",
       "     563,\n",
       "     564,\n",
       "     565,\n",
       "     566,\n",
       "     567,\n",
       "     568,\n",
       "     569,\n",
       "     570,\n",
       "     571,\n",
       "     572,\n",
       "     573,\n",
       "     574,\n",
       "     575,\n",
       "     576,\n",
       "     577,\n",
       "     578,\n",
       "     579,\n",
       "     580,\n",
       "     581,\n",
       "     582,\n",
       "     583,\n",
       "     584,\n",
       "     585,\n",
       "     586,\n",
       "     587,\n",
       "     588,\n",
       "     589,\n",
       "     590,\n",
       "     591,\n",
       "     592,\n",
       "     593,\n",
       "     594,\n",
       "     595,\n",
       "     596,\n",
       "     597,\n",
       "     598,\n",
       "     599,\n",
       "     600,\n",
       "     601,\n",
       "     602,\n",
       "     603,\n",
       "     604,\n",
       "     605,\n",
       "     606,\n",
       "     607,\n",
       "     608,\n",
       "     609,\n",
       "     610,\n",
       "     611,\n",
       "     612,\n",
       "     613,\n",
       "     614,\n",
       "     615,\n",
       "     616,\n",
       "     617,\n",
       "     618,\n",
       "     619,\n",
       "     620,\n",
       "     621,\n",
       "     622,\n",
       "     623,\n",
       "     624,\n",
       "     625,\n",
       "     626,\n",
       "     627,\n",
       "     628,\n",
       "     629,\n",
       "     630,\n",
       "     631,\n",
       "     632,\n",
       "     633,\n",
       "     634,\n",
       "     635,\n",
       "     636,\n",
       "     637,\n",
       "     638,\n",
       "     639,\n",
       "     640,\n",
       "     641,\n",
       "     642,\n",
       "     643,\n",
       "     644,\n",
       "     645,\n",
       "     646,\n",
       "     647,\n",
       "     648,\n",
       "     649,\n",
       "     650,\n",
       "     651,\n",
       "     652,\n",
       "     653,\n",
       "     654,\n",
       "     655,\n",
       "     656,\n",
       "     657,\n",
       "     658,\n",
       "     659,\n",
       "     660,\n",
       "     661,\n",
       "     662,\n",
       "     663,\n",
       "     664,\n",
       "     665,\n",
       "     666,\n",
       "     667,\n",
       "     668,\n",
       "     669,\n",
       "     670,\n",
       "     671,\n",
       "     672,\n",
       "     673,\n",
       "     674,\n",
       "     675,\n",
       "     676,\n",
       "     677,\n",
       "     678,\n",
       "     679,\n",
       "     680,\n",
       "     681,\n",
       "     682,\n",
       "     683,\n",
       "     684,\n",
       "     685,\n",
       "     686,\n",
       "     687,\n",
       "     688,\n",
       "     689,\n",
       "     690,\n",
       "     691,\n",
       "     692,\n",
       "     693,\n",
       "     694,\n",
       "     695,\n",
       "     696,\n",
       "     697,\n",
       "     698,\n",
       "     699,\n",
       "     700,\n",
       "     701,\n",
       "     702,\n",
       "     703,\n",
       "     704,\n",
       "     705,\n",
       "     706,\n",
       "     707,\n",
       "     708,\n",
       "     709,\n",
       "     710,\n",
       "     711,\n",
       "     712,\n",
       "     713,\n",
       "     714,\n",
       "     715,\n",
       "     716,\n",
       "     717,\n",
       "     718,\n",
       "     719,\n",
       "     720,\n",
       "     721,\n",
       "     722,\n",
       "     723,\n",
       "     724,\n",
       "     725,\n",
       "     726,\n",
       "     727,\n",
       "     728,\n",
       "     729,\n",
       "     730,\n",
       "     731,\n",
       "     732,\n",
       "     733,\n",
       "     734,\n",
       "     735,\n",
       "     736,\n",
       "     737,\n",
       "     738,\n",
       "     739,\n",
       "     740,\n",
       "     741,\n",
       "     742,\n",
       "     743,\n",
       "     744,\n",
       "     745,\n",
       "     746,\n",
       "     747,\n",
       "     748,\n",
       "     749,\n",
       "     750,\n",
       "     751,\n",
       "     752,\n",
       "     753,\n",
       "     754,\n",
       "     755,\n",
       "     756,\n",
       "     757,\n",
       "     758,\n",
       "     759,\n",
       "     760,\n",
       "     761,\n",
       "     762,\n",
       "     763,\n",
       "     764,\n",
       "     765,\n",
       "     766,\n",
       "     767,\n",
       "     768,\n",
       "     769,\n",
       "     770,\n",
       "     771,\n",
       "     772,\n",
       "     773,\n",
       "     774,\n",
       "     775,\n",
       "     776,\n",
       "     777,\n",
       "     778,\n",
       "     779,\n",
       "     780,\n",
       "     781,\n",
       "     782,\n",
       "     783,\n",
       "     784,\n",
       "     785,\n",
       "     786,\n",
       "     787,\n",
       "     788,\n",
       "     789,\n",
       "     790,\n",
       "     791,\n",
       "     792,\n",
       "     793,\n",
       "     794,\n",
       "     795,\n",
       "     796,\n",
       "     797,\n",
       "     798,\n",
       "     799,\n",
       "     800,\n",
       "     801,\n",
       "     802,\n",
       "     803,\n",
       "     804,\n",
       "     805,\n",
       "     806,\n",
       "     807,\n",
       "     808,\n",
       "     809,\n",
       "     810,\n",
       "     811,\n",
       "     812,\n",
       "     813,\n",
       "     814,\n",
       "     815,\n",
       "     816,\n",
       "     817,\n",
       "     818,\n",
       "     819,\n",
       "     820,\n",
       "     821,\n",
       "     822,\n",
       "     823,\n",
       "     824,\n",
       "     825,\n",
       "     826,\n",
       "     827,\n",
       "     828,\n",
       "     829,\n",
       "     830,\n",
       "     831,\n",
       "     832,\n",
       "     833,\n",
       "     834,\n",
       "     835,\n",
       "     836,\n",
       "     837,\n",
       "     838,\n",
       "     839,\n",
       "     840,\n",
       "     841,\n",
       "     842,\n",
       "     843,\n",
       "     844,\n",
       "     845,\n",
       "     846,\n",
       "     847,\n",
       "     848,\n",
       "     849,\n",
       "     850,\n",
       "     851,\n",
       "     852,\n",
       "     853,\n",
       "     854,\n",
       "     855,\n",
       "     856,\n",
       "     857,\n",
       "     858,\n",
       "     859,\n",
       "     860,\n",
       "     861,\n",
       "     862,\n",
       "     863,\n",
       "     864,\n",
       "     865,\n",
       "     866,\n",
       "     867,\n",
       "     868,\n",
       "     869,\n",
       "     870,\n",
       "     871,\n",
       "     872,\n",
       "     873,\n",
       "     874,\n",
       "     875,\n",
       "     876,\n",
       "     877,\n",
       "     878,\n",
       "     879,\n",
       "     880,\n",
       "     881,\n",
       "     882,\n",
       "     883,\n",
       "     884,\n",
       "     885,\n",
       "     886,\n",
       "     887,\n",
       "     888,\n",
       "     889,\n",
       "     890,\n",
       "     891,\n",
       "     892,\n",
       "     893,\n",
       "     894,\n",
       "     895,\n",
       "     896,\n",
       "     897,\n",
       "     898,\n",
       "     899,\n",
       "     900,\n",
       "     901,\n",
       "     902,\n",
       "     903,\n",
       "     904,\n",
       "     905,\n",
       "     906,\n",
       "     907,\n",
       "     908,\n",
       "     909,\n",
       "     910,\n",
       "     911,\n",
       "     912,\n",
       "     913,\n",
       "     914,\n",
       "     915,\n",
       "     916,\n",
       "     917,\n",
       "     918,\n",
       "     919,\n",
       "     920,\n",
       "     921,\n",
       "     922,\n",
       "     923,\n",
       "     924,\n",
       "     925,\n",
       "     926,\n",
       "     927,\n",
       "     928,\n",
       "     929,\n",
       "     930,\n",
       "     931,\n",
       "     932,\n",
       "     933,\n",
       "     934,\n",
       "     935,\n",
       "     936,\n",
       "     937,\n",
       "     938,\n",
       "     939,\n",
       "     940,\n",
       "     941,\n",
       "     942,\n",
       "     943,\n",
       "     944,\n",
       "     945,\n",
       "     946,\n",
       "     947,\n",
       "     948,\n",
       "     949,\n",
       "     950,\n",
       "     951,\n",
       "     952,\n",
       "     953,\n",
       "     954,\n",
       "     955,\n",
       "     956,\n",
       "     957,\n",
       "     958,\n",
       "     959,\n",
       "     960,\n",
       "     961,\n",
       "     962,\n",
       "     963,\n",
       "     964,\n",
       "     965,\n",
       "     966,\n",
       "     967,\n",
       "     968,\n",
       "     969,\n",
       "     970,\n",
       "     971,\n",
       "     972,\n",
       "     973,\n",
       "     974,\n",
       "     975,\n",
       "     976,\n",
       "     977,\n",
       "     978,\n",
       "     979,\n",
       "     980,\n",
       "     981,\n",
       "     982,\n",
       "     983,\n",
       "     984,\n",
       "     985,\n",
       "     986,\n",
       "     987,\n",
       "     988,\n",
       "     989,\n",
       "     990,\n",
       "     991,\n",
       "     992,\n",
       "     993,\n",
       "     994,\n",
       "     995,\n",
       "     996,\n",
       "     997,\n",
       "     998,\n",
       "     999],\n",
       "    158: [0, 1, 2, 3, 4, 5, 6, 7, 8, 9],\n",
       "    159: [0, 1, 2, 3, 4, 5, 6, 7, 8, 9],\n",
       "    168: [True, True, True, False, False, True],\n",
       "    170: True,\n",
       "    171: True,\n",
       "    173: True,\n",
       "    174: True,\n",
       "    175: [True, True, True, False, False, True],\n",
       "    176: [True, True, True, False, False, True],\n",
       "    180: True,\n",
       "    184: True,\n",
       "    186: collections.abc.Callable,\n",
       "    187: True,\n",
       "    188: True,\n",
       "    191: ([1, 2, 3, 4, 5, 6, 7, 8, 9, 10],),\n",
       "    192: ([1, 2, 3, 4, 5, 6, 7, 8, 9, 10],),\n",
       "    195: (1,),\n",
       "    196: ((1,), {'a': [1, 1, 1, 1, 3, 1, 1, 1, 1, 1, 1, 1, 1, 1, 1, 1]}),\n",
       "    197: [1, 1, 1, 1, 3, 1, 1, 1, 1, 1, 1, 1, 1, 1, 1, 1],\n",
       "    198: [1, 1, 1, 1, 3, 1, 1, 1, 1, 1, 1, 1, 1, 1, 1, 1],\n",
       "    199: [1, 1, 1, 1, 3, 1, 1, 1, 1, 1, 1, 1, 1, 1, 1, 1],\n",
       "    200: [1, 1, 1, 1, 3, 1, 1, 1, 1, 1, 1, 1, 1, 1, 1, 1],\n",
       "    201: [1, 1, 1, 1, 3, 1, 1, 1, 1, 1, 1, 1, 1, 1, 1, 1],\n",
       "    202: [1, 2, 3, 3],\n",
       "    203: [1, 1, 1, 1, 3, 1, 1, 1, 1, 1, 1, 1, 1, 1, 1, 1],\n",
       "    204: [1, 1, 1, 1, 3, 1, 1, 1, 1, 1, 1, 1, 1, 1, 1, 1],\n",
       "    205: [1, 1, 1, 1, 3, 1, 1, 1, 1, 1, 1, 1, 1, 1, 1, 1],\n",
       "    206: [1, 1, 1, 1, 3, 1, 1, 1, 1, 1, 1, 1, 1, 1, 1, 1],\n",
       "    207: [1, 1, 1, 1, 3, 1, 1, 1, 1, 1, 1, 1, 1, 1, 1, 1],\n",
       "    208: [1, 1, 1, 1, 3, 1, 1, 1, 1, 1, 1, 1, 1, 1, 1, 1],\n",
       "    209: [1, 1, 1, 1, 3, 1, 1, 1, 1, 1, 1, 1, 1, 1, 1, 1],\n",
       "    210: [1, 1, 1, 1, 3, 1, 1, 1, 1, 1, 1, 1, 1, 1, 1, 1],\n",
       "    211: [1, 1, 1, 1, 3, 1, 1, 1, 1, 1, 1, 1, 1, 1, 1, 1],\n",
       "    212: [1, 1, 1, 1, 3, 1, 1, 1, 1, 1, 1, 1, 1, 1, 1, 1],\n",
       "    213: [1, 1, 1, 1, 3, 1, 1, 1, 1, 1, 1, 1, 1, 1, 1, 1],\n",
       "    216: [1],\n",
       "    217: [1],\n",
       "    218: [1],\n",
       "    219: [1],\n",
       "    220: True,\n",
       "    221: True,\n",
       "    222: True,\n",
       "    223: True,\n",
       "    252: <function __main__.func>,\n",
       "    253: <function __main__.func>,\n",
       "    259: [('__annotations__', {}),\n",
       "     ('__call__',\n",
       "      <method-wrapper '__call__' of function object at 0x110929ea0>),\n",
       "     ('__class__', function),\n",
       "     ('__closure__', None),\n",
       "     ('__code__',\n",
       "      <code object func at 0x10fa60390, file \"<ipython-input-237-bd844a2214fb>\", line 1>),\n",
       "     ('__defaults__', None),\n",
       "     ('__delattr__',\n",
       "      <method-wrapper '__delattr__' of function object at 0x110929ea0>),\n",
       "     ('__dict__', {}),\n",
       "     ('__dir__', <function function.__dir__>),\n",
       "     ('__doc__', None),\n",
       "     ('__eq__', <method-wrapper '__eq__' of function object at 0x110929ea0>),\n",
       "     ('__format__', <function function.__format__>),\n",
       "     ('__ge__', <method-wrapper '__ge__' of function object at 0x110929ea0>),\n",
       "     ('__get__', <method-wrapper '__get__' of function object at 0x110929ea0>),\n",
       "     ('__getattribute__',\n",
       "      <method-wrapper '__getattribute__' of function object at 0x110929ea0>),\n",
       "     ('__globals__', {...}),\n",
       "     ('__gt__', <method-wrapper '__gt__' of function object at 0x110929ea0>),\n",
       "     ('__hash__',\n",
       "      <method-wrapper '__hash__' of function object at 0x110929ea0>),\n",
       "     ('__init__',\n",
       "      <method-wrapper '__init__' of function object at 0x110929ea0>),\n",
       "     ('__init_subclass__', <function function.__init_subclass__>),\n",
       "     ('__kwdefaults__', None),\n",
       "     ('__le__', <method-wrapper '__le__' of function object at 0x110929ea0>),\n",
       "     ('__lt__', <method-wrapper '__lt__' of function object at 0x110929ea0>),\n",
       "     ('__module__', '__main__'),\n",
       "     ('__name__', 'func'),\n",
       "     ('__ne__', <method-wrapper '__ne__' of function object at 0x110929ea0>),\n",
       "     ('__new__', <function function.__new__>),\n",
       "     ('__qualname__', 'func'),\n",
       "     ('__reduce__', <function function.__reduce__>),\n",
       "     ('__reduce_ex__', <function function.__reduce_ex__>),\n",
       "     ('__repr__',\n",
       "      <method-wrapper '__repr__' of function object at 0x110929ea0>),\n",
       "     ('__setattr__',\n",
       "      <method-wrapper '__setattr__' of function object at 0x110929ea0>),\n",
       "     ('__sizeof__', <function function.__sizeof__>),\n",
       "     ('__str__', <method-wrapper '__str__' of function object at 0x110929ea0>),\n",
       "     ('__subclasshook__', <function function.__subclasshook__>)]},\n",
       "   'a': {'a': 1},\n",
       "   'b': {'b': 2},\n",
       "   'c': {'a': 1, 'b': 2},\n",
       "   'call': <function __main__.call>,\n",
       "   'callable_obj1': <__main__.Callable1 at 0x1100c2ef0>,\n",
       "   'callable_obj2': <__main__.Callable2 at 0x10f94e240>,\n",
       "   'deepcopy': <function copy.deepcopy>,\n",
       "   'exit': <IPython.core.autocall.ZMQExitAutocall at 0x10f66f7b8>,\n",
       "   'f': <function __main__.f>,\n",
       "   'func': <function __main__.func>,\n",
       "   'get_ipython': <bound method InteractiveShell.get_ipython of <ipykernel.zmqshell.ZMQInteractiveShell object at 0x10f615b70>>,\n",
       "   'ham': [1, 2, 3],\n",
       "   'i': 99999,\n",
       "   'inspect': <module 'inspect' from '/usr/local/var/pyenv/versions/3.6.4/lib/python3.6/inspect.py'>,\n",
       "   'intern': <function sys.intern>,\n",
       "   'is_callable': (<function __main__.func>,\n",
       "    <function sum>,\n",
       "    type,\n",
       "    0,\n",
       "    '123',\n",
       "    <function __main__.<lambda>>),\n",
       "   'isfunction': <function inspect.isfunction>,\n",
       "   'list_': [1, 2, 3],\n",
       "   'number': 100,\n",
       "   'number1': 10000,\n",
       "   'number2': 10000,\n",
       "   'numbers1': [1, 2, 3],\n",
       "   'numbers2': [1, 2, 3],\n",
       "   'o1': <__main__.Some at 0x10f8475f8>,\n",
       "   'o2': <__main__.Some at 0x10f8474a8>,\n",
       "   'print_vector': <function __main__.print_vector>,\n",
       "   'quit': <IPython.core.autocall.ZMQExitAutocall at 0x10f66f7b8>,\n",
       "   'result': [0,\n",
       "    1,\n",
       "    2,\n",
       "    3,\n",
       "    4,\n",
       "    5,\n",
       "    6,\n",
       "    7,\n",
       "    8,\n",
       "    9,\n",
       "    10,\n",
       "    11,\n",
       "    12,\n",
       "    13,\n",
       "    14,\n",
       "    15,\n",
       "    16,\n",
       "    17,\n",
       "    18,\n",
       "    19,\n",
       "    20,\n",
       "    21,\n",
       "    22,\n",
       "    23,\n",
       "    24,\n",
       "    25,\n",
       "    26,\n",
       "    27,\n",
       "    28,\n",
       "    29,\n",
       "    30,\n",
       "    31,\n",
       "    32,\n",
       "    33,\n",
       "    34,\n",
       "    35,\n",
       "    36,\n",
       "    37,\n",
       "    38,\n",
       "    39,\n",
       "    40,\n",
       "    41,\n",
       "    42,\n",
       "    43,\n",
       "    44,\n",
       "    45,\n",
       "    46,\n",
       "    47,\n",
       "    48,\n",
       "    49,\n",
       "    50,\n",
       "    51,\n",
       "    52,\n",
       "    53,\n",
       "    54,\n",
       "    55,\n",
       "    56,\n",
       "    57,\n",
       "    58,\n",
       "    59,\n",
       "    60,\n",
       "    61,\n",
       "    62,\n",
       "    63,\n",
       "    64,\n",
       "    65,\n",
       "    66,\n",
       "    67,\n",
       "    68,\n",
       "    69,\n",
       "    70,\n",
       "    71,\n",
       "    72,\n",
       "    73,\n",
       "    74,\n",
       "    75,\n",
       "    76,\n",
       "    77,\n",
       "    78,\n",
       "    79,\n",
       "    80,\n",
       "    81,\n",
       "    82,\n",
       "    83,\n",
       "    84,\n",
       "    85,\n",
       "    86,\n",
       "    87,\n",
       "    88,\n",
       "    89,\n",
       "    90,\n",
       "    91,\n",
       "    92,\n",
       "    93,\n",
       "    94,\n",
       "    95,\n",
       "    96,\n",
       "    97,\n",
       "    98,\n",
       "    99,\n",
       "    100,\n",
       "    101,\n",
       "    102,\n",
       "    103,\n",
       "    104,\n",
       "    105,\n",
       "    106,\n",
       "    107,\n",
       "    108,\n",
       "    109,\n",
       "    110,\n",
       "    111,\n",
       "    112,\n",
       "    113,\n",
       "    114,\n",
       "    115,\n",
       "    116,\n",
       "    117,\n",
       "    118,\n",
       "    119,\n",
       "    120,\n",
       "    121,\n",
       "    122,\n",
       "    123,\n",
       "    124,\n",
       "    125,\n",
       "    126,\n",
       "    127,\n",
       "    128,\n",
       "    129,\n",
       "    130,\n",
       "    131,\n",
       "    132,\n",
       "    133,\n",
       "    134,\n",
       "    135,\n",
       "    136,\n",
       "    137,\n",
       "    138,\n",
       "    139,\n",
       "    140,\n",
       "    141,\n",
       "    142,\n",
       "    143,\n",
       "    144,\n",
       "    145,\n",
       "    146,\n",
       "    147,\n",
       "    148,\n",
       "    149,\n",
       "    150,\n",
       "    151,\n",
       "    152,\n",
       "    153,\n",
       "    154,\n",
       "    155,\n",
       "    156,\n",
       "    157,\n",
       "    158,\n",
       "    159,\n",
       "    160,\n",
       "    161,\n",
       "    162,\n",
       "    163,\n",
       "    164,\n",
       "    165,\n",
       "    166,\n",
       "    167,\n",
       "    168,\n",
       "    169,\n",
       "    170,\n",
       "    171,\n",
       "    172,\n",
       "    173,\n",
       "    174,\n",
       "    175,\n",
       "    176,\n",
       "    177,\n",
       "    178,\n",
       "    179,\n",
       "    180,\n",
       "    181,\n",
       "    182,\n",
       "    183,\n",
       "    184,\n",
       "    185,\n",
       "    186,\n",
       "    187,\n",
       "    188,\n",
       "    189,\n",
       "    190,\n",
       "    191,\n",
       "    192,\n",
       "    193,\n",
       "    194,\n",
       "    195,\n",
       "    196,\n",
       "    197,\n",
       "    198,\n",
       "    199,\n",
       "    200,\n",
       "    201,\n",
       "    202,\n",
       "    203,\n",
       "    204,\n",
       "    205,\n",
       "    206,\n",
       "    207,\n",
       "    208,\n",
       "    209,\n",
       "    210,\n",
       "    211,\n",
       "    212,\n",
       "    213,\n",
       "    214,\n",
       "    215,\n",
       "    216,\n",
       "    217,\n",
       "    218,\n",
       "    219,\n",
       "    220,\n",
       "    221,\n",
       "    222,\n",
       "    223,\n",
       "    224,\n",
       "    225,\n",
       "    226,\n",
       "    227,\n",
       "    228,\n",
       "    229,\n",
       "    230,\n",
       "    231,\n",
       "    232,\n",
       "    233,\n",
       "    234,\n",
       "    235,\n",
       "    236,\n",
       "    237,\n",
       "    238,\n",
       "    239,\n",
       "    240,\n",
       "    241,\n",
       "    242,\n",
       "    243,\n",
       "    244,\n",
       "    245,\n",
       "    246,\n",
       "    247,\n",
       "    248,\n",
       "    249,\n",
       "    250,\n",
       "    251,\n",
       "    252,\n",
       "    253,\n",
       "    254,\n",
       "    255,\n",
       "    256,\n",
       "    257,\n",
       "    258,\n",
       "    259,\n",
       "    260,\n",
       "    261,\n",
       "    262,\n",
       "    263,\n",
       "    264,\n",
       "    265,\n",
       "    266,\n",
       "    267,\n",
       "    268,\n",
       "    269,\n",
       "    270,\n",
       "    271,\n",
       "    272,\n",
       "    273,\n",
       "    274,\n",
       "    275,\n",
       "    276,\n",
       "    277,\n",
       "    278,\n",
       "    279,\n",
       "    280,\n",
       "    281,\n",
       "    282,\n",
       "    283,\n",
       "    284,\n",
       "    285,\n",
       "    286,\n",
       "    287,\n",
       "    288,\n",
       "    289,\n",
       "    290,\n",
       "    291,\n",
       "    292,\n",
       "    293,\n",
       "    294,\n",
       "    295,\n",
       "    296,\n",
       "    297,\n",
       "    298,\n",
       "    299,\n",
       "    300,\n",
       "    301,\n",
       "    302,\n",
       "    303,\n",
       "    304,\n",
       "    305,\n",
       "    306,\n",
       "    307,\n",
       "    308,\n",
       "    309,\n",
       "    310,\n",
       "    311,\n",
       "    312,\n",
       "    313,\n",
       "    314,\n",
       "    315,\n",
       "    316,\n",
       "    317,\n",
       "    318,\n",
       "    319,\n",
       "    320,\n",
       "    321,\n",
       "    322,\n",
       "    323,\n",
       "    324,\n",
       "    325,\n",
       "    326,\n",
       "    327,\n",
       "    328,\n",
       "    329,\n",
       "    330,\n",
       "    331,\n",
       "    332,\n",
       "    333,\n",
       "    334,\n",
       "    335,\n",
       "    336,\n",
       "    337,\n",
       "    338,\n",
       "    339,\n",
       "    340,\n",
       "    341,\n",
       "    342,\n",
       "    343,\n",
       "    344,\n",
       "    345,\n",
       "    346,\n",
       "    347,\n",
       "    348,\n",
       "    349,\n",
       "    350,\n",
       "    351,\n",
       "    352,\n",
       "    353,\n",
       "    354,\n",
       "    355,\n",
       "    356,\n",
       "    357,\n",
       "    358,\n",
       "    359,\n",
       "    360,\n",
       "    361,\n",
       "    362,\n",
       "    363,\n",
       "    364,\n",
       "    365,\n",
       "    366,\n",
       "    367,\n",
       "    368,\n",
       "    369,\n",
       "    370,\n",
       "    371,\n",
       "    372,\n",
       "    373,\n",
       "    374,\n",
       "    375,\n",
       "    376,\n",
       "    377,\n",
       "    378,\n",
       "    379,\n",
       "    380,\n",
       "    381,\n",
       "    382,\n",
       "    383,\n",
       "    384,\n",
       "    385,\n",
       "    386,\n",
       "    387,\n",
       "    388,\n",
       "    389,\n",
       "    390,\n",
       "    391,\n",
       "    392,\n",
       "    393,\n",
       "    394,\n",
       "    395,\n",
       "    396,\n",
       "    397,\n",
       "    398,\n",
       "    399,\n",
       "    400,\n",
       "    401,\n",
       "    402,\n",
       "    403,\n",
       "    404,\n",
       "    405,\n",
       "    406,\n",
       "    407,\n",
       "    408,\n",
       "    409,\n",
       "    410,\n",
       "    411,\n",
       "    412,\n",
       "    413,\n",
       "    414,\n",
       "    415,\n",
       "    416,\n",
       "    417,\n",
       "    418,\n",
       "    419,\n",
       "    420,\n",
       "    421,\n",
       "    422,\n",
       "    423,\n",
       "    424,\n",
       "    425,\n",
       "    426,\n",
       "    427,\n",
       "    428,\n",
       "    429,\n",
       "    430,\n",
       "    431,\n",
       "    432,\n",
       "    433,\n",
       "    434,\n",
       "    435,\n",
       "    436,\n",
       "    437,\n",
       "    438,\n",
       "    439,\n",
       "    440,\n",
       "    441,\n",
       "    442,\n",
       "    443,\n",
       "    444,\n",
       "    445,\n",
       "    446,\n",
       "    447,\n",
       "    448,\n",
       "    449,\n",
       "    450,\n",
       "    451,\n",
       "    452,\n",
       "    453,\n",
       "    454,\n",
       "    455,\n",
       "    456,\n",
       "    457,\n",
       "    458,\n",
       "    459,\n",
       "    460,\n",
       "    461,\n",
       "    462,\n",
       "    463,\n",
       "    464,\n",
       "    465,\n",
       "    466,\n",
       "    467,\n",
       "    468,\n",
       "    469,\n",
       "    470,\n",
       "    471,\n",
       "    472,\n",
       "    473,\n",
       "    474,\n",
       "    475,\n",
       "    476,\n",
       "    477,\n",
       "    478,\n",
       "    479,\n",
       "    480,\n",
       "    481,\n",
       "    482,\n",
       "    483,\n",
       "    484,\n",
       "    485,\n",
       "    486,\n",
       "    487,\n",
       "    488,\n",
       "    489,\n",
       "    490,\n",
       "    491,\n",
       "    492,\n",
       "    493,\n",
       "    494,\n",
       "    495,\n",
       "    496,\n",
       "    497,\n",
       "    498,\n",
       "    499,\n",
       "    500,\n",
       "    501,\n",
       "    502,\n",
       "    503,\n",
       "    504,\n",
       "    505,\n",
       "    506,\n",
       "    507,\n",
       "    508,\n",
       "    509,\n",
       "    510,\n",
       "    511,\n",
       "    512,\n",
       "    513,\n",
       "    514,\n",
       "    515,\n",
       "    516,\n",
       "    517,\n",
       "    518,\n",
       "    519,\n",
       "    520,\n",
       "    521,\n",
       "    522,\n",
       "    523,\n",
       "    524,\n",
       "    525,\n",
       "    526,\n",
       "    527,\n",
       "    528,\n",
       "    529,\n",
       "    530,\n",
       "    531,\n",
       "    532,\n",
       "    533,\n",
       "    534,\n",
       "    535,\n",
       "    536,\n",
       "    537,\n",
       "    538,\n",
       "    539,\n",
       "    540,\n",
       "    541,\n",
       "    542,\n",
       "    543,\n",
       "    544,\n",
       "    545,\n",
       "    546,\n",
       "    547,\n",
       "    548,\n",
       "    549,\n",
       "    550,\n",
       "    551,\n",
       "    552,\n",
       "    553,\n",
       "    554,\n",
       "    555,\n",
       "    556,\n",
       "    557,\n",
       "    558,\n",
       "    559,\n",
       "    560,\n",
       "    561,\n",
       "    562,\n",
       "    563,\n",
       "    564,\n",
       "    565,\n",
       "    566,\n",
       "    567,\n",
       "    568,\n",
       "    569,\n",
       "    570,\n",
       "    571,\n",
       "    572,\n",
       "    573,\n",
       "    574,\n",
       "    575,\n",
       "    576,\n",
       "    577,\n",
       "    578,\n",
       "    579,\n",
       "    580,\n",
       "    581,\n",
       "    582,\n",
       "    583,\n",
       "    584,\n",
       "    585,\n",
       "    586,\n",
       "    587,\n",
       "    588,\n",
       "    589,\n",
       "    590,\n",
       "    591,\n",
       "    592,\n",
       "    593,\n",
       "    594,\n",
       "    595,\n",
       "    596,\n",
       "    597,\n",
       "    598,\n",
       "    599,\n",
       "    600,\n",
       "    601,\n",
       "    602,\n",
       "    603,\n",
       "    604,\n",
       "    605,\n",
       "    606,\n",
       "    607,\n",
       "    608,\n",
       "    609,\n",
       "    610,\n",
       "    611,\n",
       "    612,\n",
       "    613,\n",
       "    614,\n",
       "    615,\n",
       "    616,\n",
       "    617,\n",
       "    618,\n",
       "    619,\n",
       "    620,\n",
       "    621,\n",
       "    622,\n",
       "    623,\n",
       "    624,\n",
       "    625,\n",
       "    626,\n",
       "    627,\n",
       "    628,\n",
       "    629,\n",
       "    630,\n",
       "    631,\n",
       "    632,\n",
       "    633,\n",
       "    634,\n",
       "    635,\n",
       "    636,\n",
       "    637,\n",
       "    638,\n",
       "    639,\n",
       "    640,\n",
       "    641,\n",
       "    642,\n",
       "    643,\n",
       "    644,\n",
       "    645,\n",
       "    646,\n",
       "    647,\n",
       "    648,\n",
       "    649,\n",
       "    650,\n",
       "    651,\n",
       "    652,\n",
       "    653,\n",
       "    654,\n",
       "    655,\n",
       "    656,\n",
       "    657,\n",
       "    658,\n",
       "    659,\n",
       "    660,\n",
       "    661,\n",
       "    662,\n",
       "    663,\n",
       "    664,\n",
       "    665,\n",
       "    666,\n",
       "    667,\n",
       "    668,\n",
       "    669,\n",
       "    670,\n",
       "    671,\n",
       "    672,\n",
       "    673,\n",
       "    674,\n",
       "    675,\n",
       "    676,\n",
       "    677,\n",
       "    678,\n",
       "    679,\n",
       "    680,\n",
       "    681,\n",
       "    682,\n",
       "    683,\n",
       "    684,\n",
       "    685,\n",
       "    686,\n",
       "    687,\n",
       "    688,\n",
       "    689,\n",
       "    690,\n",
       "    691,\n",
       "    692,\n",
       "    693,\n",
       "    694,\n",
       "    695,\n",
       "    696,\n",
       "    697,\n",
       "    698,\n",
       "    699,\n",
       "    700,\n",
       "    701,\n",
       "    702,\n",
       "    703,\n",
       "    704,\n",
       "    705,\n",
       "    706,\n",
       "    707,\n",
       "    708,\n",
       "    709,\n",
       "    710,\n",
       "    711,\n",
       "    712,\n",
       "    713,\n",
       "    714,\n",
       "    715,\n",
       "    716,\n",
       "    717,\n",
       "    718,\n",
       "    719,\n",
       "    720,\n",
       "    721,\n",
       "    722,\n",
       "    723,\n",
       "    724,\n",
       "    725,\n",
       "    726,\n",
       "    727,\n",
       "    728,\n",
       "    729,\n",
       "    730,\n",
       "    731,\n",
       "    732,\n",
       "    733,\n",
       "    734,\n",
       "    735,\n",
       "    736,\n",
       "    737,\n",
       "    738,\n",
       "    739,\n",
       "    740,\n",
       "    741,\n",
       "    742,\n",
       "    743,\n",
       "    744,\n",
       "    745,\n",
       "    746,\n",
       "    747,\n",
       "    748,\n",
       "    749,\n",
       "    750,\n",
       "    751,\n",
       "    752,\n",
       "    753,\n",
       "    754,\n",
       "    755,\n",
       "    756,\n",
       "    757,\n",
       "    758,\n",
       "    759,\n",
       "    760,\n",
       "    761,\n",
       "    762,\n",
       "    763,\n",
       "    764,\n",
       "    765,\n",
       "    766,\n",
       "    767,\n",
       "    768,\n",
       "    769,\n",
       "    770,\n",
       "    771,\n",
       "    772,\n",
       "    773,\n",
       "    774,\n",
       "    775,\n",
       "    776,\n",
       "    777,\n",
       "    778,\n",
       "    779,\n",
       "    780,\n",
       "    781,\n",
       "    782,\n",
       "    783,\n",
       "    784,\n",
       "    785,\n",
       "    786,\n",
       "    787,\n",
       "    788,\n",
       "    789,\n",
       "    790,\n",
       "    791,\n",
       "    792,\n",
       "    793,\n",
       "    794,\n",
       "    795,\n",
       "    796,\n",
       "    797,\n",
       "    798,\n",
       "    799,\n",
       "    800,\n",
       "    801,\n",
       "    802,\n",
       "    803,\n",
       "    804,\n",
       "    805,\n",
       "    806,\n",
       "    807,\n",
       "    808,\n",
       "    809,\n",
       "    810,\n",
       "    811,\n",
       "    812,\n",
       "    813,\n",
       "    814,\n",
       "    815,\n",
       "    816,\n",
       "    817,\n",
       "    818,\n",
       "    819,\n",
       "    820,\n",
       "    821,\n",
       "    822,\n",
       "    823,\n",
       "    824,\n",
       "    825,\n",
       "    826,\n",
       "    827,\n",
       "    828,\n",
       "    829,\n",
       "    830,\n",
       "    831,\n",
       "    832,\n",
       "    833,\n",
       "    834,\n",
       "    835,\n",
       "    836,\n",
       "    837,\n",
       "    838,\n",
       "    839,\n",
       "    840,\n",
       "    841,\n",
       "    842,\n",
       "    843,\n",
       "    844,\n",
       "    845,\n",
       "    846,\n",
       "    847,\n",
       "    848,\n",
       "    849,\n",
       "    850,\n",
       "    851,\n",
       "    852,\n",
       "    853,\n",
       "    854,\n",
       "    855,\n",
       "    856,\n",
       "    857,\n",
       "    858,\n",
       "    859,\n",
       "    860,\n",
       "    861,\n",
       "    862,\n",
       "    863,\n",
       "    864,\n",
       "    865,\n",
       "    866,\n",
       "    867,\n",
       "    868,\n",
       "    869,\n",
       "    870,\n",
       "    871,\n",
       "    872,\n",
       "    873,\n",
       "    874,\n",
       "    875,\n",
       "    876,\n",
       "    877,\n",
       "    878,\n",
       "    879,\n",
       "    880,\n",
       "    881,\n",
       "    882,\n",
       "    883,\n",
       "    884,\n",
       "    885,\n",
       "    886,\n",
       "    887,\n",
       "    888,\n",
       "    889,\n",
       "    890,\n",
       "    891,\n",
       "    892,\n",
       "    893,\n",
       "    894,\n",
       "    895,\n",
       "    896,\n",
       "    897,\n",
       "    898,\n",
       "    899,\n",
       "    900,\n",
       "    901,\n",
       "    902,\n",
       "    903,\n",
       "    904,\n",
       "    905,\n",
       "    906,\n",
       "    907,\n",
       "    908,\n",
       "    909,\n",
       "    910,\n",
       "    911,\n",
       "    912,\n",
       "    913,\n",
       "    914,\n",
       "    915,\n",
       "    916,\n",
       "    917,\n",
       "    918,\n",
       "    919,\n",
       "    920,\n",
       "    921,\n",
       "    922,\n",
       "    923,\n",
       "    924,\n",
       "    925,\n",
       "    926,\n",
       "    927,\n",
       "    928,\n",
       "    929,\n",
       "    930,\n",
       "    931,\n",
       "    932,\n",
       "    933,\n",
       "    934,\n",
       "    935,\n",
       "    936,\n",
       "    937,\n",
       "    938,\n",
       "    939,\n",
       "    940,\n",
       "    941,\n",
       "    942,\n",
       "    943,\n",
       "    944,\n",
       "    945,\n",
       "    946,\n",
       "    947,\n",
       "    948,\n",
       "    949,\n",
       "    950,\n",
       "    951,\n",
       "    952,\n",
       "    953,\n",
       "    954,\n",
       "    955,\n",
       "    956,\n",
       "    957,\n",
       "    958,\n",
       "    959,\n",
       "    960,\n",
       "    961,\n",
       "    962,\n",
       "    963,\n",
       "    964,\n",
       "    965,\n",
       "    966,\n",
       "    967,\n",
       "    968,\n",
       "    969,\n",
       "    970,\n",
       "    971,\n",
       "    972,\n",
       "    973,\n",
       "    974,\n",
       "    975,\n",
       "    976,\n",
       "    977,\n",
       "    978,\n",
       "    979,\n",
       "    980,\n",
       "    981,\n",
       "    982,\n",
       "    983,\n",
       "    984,\n",
       "    985,\n",
       "    986,\n",
       "    987,\n",
       "    988,\n",
       "    989,\n",
       "    990,\n",
       "    991,\n",
       "    992,\n",
       "    993,\n",
       "    994,\n",
       "    995,\n",
       "    996,\n",
       "    997,\n",
       "    998,\n",
       "    999,\n",
       "    ...],\n",
       "   'source': 'def func(a, b):\\n    print(a, b)\\n',\n",
       "   'spam': <function __main__.spam>,\n",
       "   'string': 'Hello World!',\n",
       "   'values': [1, 2, 3, 3],\n",
       "   'vector': {'x': 1, 'y': 2, 'z': 3}}),\n",
       " ('__gt__', <method-wrapper '__gt__' of function object at 0x110929ea0>),\n",
       " ('__hash__', <method-wrapper '__hash__' of function object at 0x110929ea0>),\n",
       " ('__init__', <method-wrapper '__init__' of function object at 0x110929ea0>),\n",
       " ('__init_subclass__', <function function.__init_subclass__>),\n",
       " ('__kwdefaults__', None),\n",
       " ('__le__', <method-wrapper '__le__' of function object at 0x110929ea0>),\n",
       " ('__lt__', <method-wrapper '__lt__' of function object at 0x110929ea0>),\n",
       " ('__module__', '__main__'),\n",
       " ('__name__', 'func'),\n",
       " ('__ne__', <method-wrapper '__ne__' of function object at 0x110929ea0>),\n",
       " ('__new__', <function function.__new__>),\n",
       " ('__qualname__', 'func'),\n",
       " ('__reduce__', <function function.__reduce__>),\n",
       " ('__reduce_ex__', <function function.__reduce_ex__>),\n",
       " ('__repr__', <method-wrapper '__repr__' of function object at 0x110929ea0>),\n",
       " ('__setattr__',\n",
       "  <method-wrapper '__setattr__' of function object at 0x110929ea0>),\n",
       " ('__sizeof__', <function function.__sizeof__>),\n",
       " ('__str__', <method-wrapper '__str__' of function object at 0x110929ea0>),\n",
       " ('__subclasshook__', <function function.__subclasshook__>)]"
      ]
     },
     "execution_count": 260,
     "metadata": {},
     "output_type": "execute_result"
    }
   ],
   "source": [
    "inspect.getmembers(func)"
   ]
  },
  {
   "cell_type": "code",
   "execution_count": 261,
   "metadata": {},
   "outputs": [],
   "source": [
    "class A:\n",
    "    pass"
   ]
  },
  {
   "cell_type": "code",
   "execution_count": 263,
   "metadata": {},
   "outputs": [
    {
     "data": {
      "text/plain": [
       "[('__class__', type),\n",
       " ('__delattr__', <slot wrapper '__delattr__' of 'object' objects>),\n",
       " ('__dict__',\n",
       "  mappingproxy({'__dict__': <attribute '__dict__' of 'A' objects>,\n",
       "                '__doc__': None,\n",
       "                '__module__': '__main__',\n",
       "                '__weakref__': <attribute '__weakref__' of 'A' objects>})),\n",
       " ('__dir__', <method '__dir__' of 'object' objects>),\n",
       " ('__doc__', None),\n",
       " ('__eq__', <slot wrapper '__eq__' of 'object' objects>),\n",
       " ('__format__', <method '__format__' of 'object' objects>),\n",
       " ('__ge__', <slot wrapper '__ge__' of 'object' objects>),\n",
       " ('__getattribute__', <slot wrapper '__getattribute__' of 'object' objects>),\n",
       " ('__gt__', <slot wrapper '__gt__' of 'object' objects>),\n",
       " ('__hash__', <slot wrapper '__hash__' of 'object' objects>),\n",
       " ('__init__', <slot wrapper '__init__' of 'object' objects>),\n",
       " ('__init_subclass__', <function A.__init_subclass__>),\n",
       " ('__le__', <slot wrapper '__le__' of 'object' objects>),\n",
       " ('__lt__', <slot wrapper '__lt__' of 'object' objects>),\n",
       " ('__module__', '__main__'),\n",
       " ('__ne__', <slot wrapper '__ne__' of 'object' objects>),\n",
       " ('__new__', <function object.__new__>),\n",
       " ('__reduce__', <method '__reduce__' of 'object' objects>),\n",
       " ('__reduce_ex__', <method '__reduce_ex__' of 'object' objects>),\n",
       " ('__repr__', <slot wrapper '__repr__' of 'object' objects>),\n",
       " ('__setattr__', <slot wrapper '__setattr__' of 'object' objects>),\n",
       " ('__sizeof__', <method '__sizeof__' of 'object' objects>),\n",
       " ('__str__', <slot wrapper '__str__' of 'object' objects>),\n",
       " ('__subclasshook__', <function A.__subclasshook__>),\n",
       " ('__weakref__', <attribute '__weakref__' of 'A' objects>)]"
      ]
     },
     "execution_count": 263,
     "metadata": {},
     "output_type": "execute_result"
    }
   ],
   "source": [
    "inspect.getmembers(A)"
   ]
  },
  {
   "cell_type": "markdown",
   "metadata": {},
   "source": [
    "### [('key', 'value')] -> dict"
   ]
  },
  {
   "cell_type": "code",
   "execution_count": 264,
   "metadata": {},
   "outputs": [
    {
     "name": "stdout",
     "output_type": "stream",
     "text": [
      "Help on class dict in module builtins:\n",
      "\n",
      "class dict(object)\n",
      " |  dict() -> new empty dictionary\n",
      " |  dict(mapping) -> new dictionary initialized from a mapping object's\n",
      " |      (key, value) pairs\n",
      " |  dict(iterable) -> new dictionary initialized as if via:\n",
      " |      d = {}\n",
      " |      for k, v in iterable:\n",
      " |          d[k] = v\n",
      " |  dict(**kwargs) -> new dictionary initialized with the name=value pairs\n",
      " |      in the keyword argument list.  For example:  dict(one=1, two=2)\n",
      " |  \n",
      " |  Methods defined here:\n",
      " |  \n",
      " |  __contains__(self, key, /)\n",
      " |      True if D has a key k, else False.\n",
      " |  \n",
      " |  __delitem__(self, key, /)\n",
      " |      Delete self[key].\n",
      " |  \n",
      " |  __eq__(self, value, /)\n",
      " |      Return self==value.\n",
      " |  \n",
      " |  __ge__(self, value, /)\n",
      " |      Return self>=value.\n",
      " |  \n",
      " |  __getattribute__(self, name, /)\n",
      " |      Return getattr(self, name).\n",
      " |  \n",
      " |  __getitem__(...)\n",
      " |      x.__getitem__(y) <==> x[y]\n",
      " |  \n",
      " |  __gt__(self, value, /)\n",
      " |      Return self>value.\n",
      " |  \n",
      " |  __init__(self, /, *args, **kwargs)\n",
      " |      Initialize self.  See help(type(self)) for accurate signature.\n",
      " |  \n",
      " |  __iter__(self, /)\n",
      " |      Implement iter(self).\n",
      " |  \n",
      " |  __le__(self, value, /)\n",
      " |      Return self<=value.\n",
      " |  \n",
      " |  __len__(self, /)\n",
      " |      Return len(self).\n",
      " |  \n",
      " |  __lt__(self, value, /)\n",
      " |      Return self<value.\n",
      " |  \n",
      " |  __ne__(self, value, /)\n",
      " |      Return self!=value.\n",
      " |  \n",
      " |  __new__(*args, **kwargs) from builtins.type\n",
      " |      Create and return a new object.  See help(type) for accurate signature.\n",
      " |  \n",
      " |  __repr__(self, /)\n",
      " |      Return repr(self).\n",
      " |  \n",
      " |  __setitem__(self, key, value, /)\n",
      " |      Set self[key] to value.\n",
      " |  \n",
      " |  __sizeof__(...)\n",
      " |      D.__sizeof__() -> size of D in memory, in bytes\n",
      " |  \n",
      " |  clear(...)\n",
      " |      D.clear() -> None.  Remove all items from D.\n",
      " |  \n",
      " |  copy(...)\n",
      " |      D.copy() -> a shallow copy of D\n",
      " |  \n",
      " |  fromkeys(iterable, value=None, /) from builtins.type\n",
      " |      Returns a new dict with keys from iterable and values equal to value.\n",
      " |  \n",
      " |  get(...)\n",
      " |      D.get(k[,d]) -> D[k] if k in D, else d.  d defaults to None.\n",
      " |  \n",
      " |  items(...)\n",
      " |      D.items() -> a set-like object providing a view on D's items\n",
      " |  \n",
      " |  keys(...)\n",
      " |      D.keys() -> a set-like object providing a view on D's keys\n",
      " |  \n",
      " |  pop(...)\n",
      " |      D.pop(k[,d]) -> v, remove specified key and return the corresponding value.\n",
      " |      If key is not found, d is returned if given, otherwise KeyError is raised\n",
      " |  \n",
      " |  popitem(...)\n",
      " |      D.popitem() -> (k, v), remove and return some (key, value) pair as a\n",
      " |      2-tuple; but raise KeyError if D is empty.\n",
      " |  \n",
      " |  setdefault(...)\n",
      " |      D.setdefault(k[,d]) -> D.get(k,d), also set D[k]=d if k not in D\n",
      " |  \n",
      " |  update(...)\n",
      " |      D.update([E, ]**F) -> None.  Update D from dict/iterable E and F.\n",
      " |      If E is present and has a .keys() method, then does:  for k in E: D[k] = E[k]\n",
      " |      If E is present and lacks a .keys() method, then does:  for k, v in E: D[k] = v\n",
      " |      In either case, this is followed by: for k in F:  D[k] = F[k]\n",
      " |  \n",
      " |  values(...)\n",
      " |      D.values() -> an object providing a view on D's values\n",
      " |  \n",
      " |  ----------------------------------------------------------------------\n",
      " |  Data and other attributes defined here:\n",
      " |  \n",
      " |  __hash__ = None\n",
      "\n"
     ]
    }
   ],
   "source": [
    "help(dict)"
   ]
  },
  {
   "cell_type": "code",
   "execution_count": 268,
   "metadata": {},
   "outputs": [
    {
     "data": {
      "text/plain": [
       "type"
      ]
     },
     "execution_count": 268,
     "metadata": {},
     "output_type": "execute_result"
    }
   ],
   "source": [
    "dict(inspect.getmembers(A))['__class__']"
   ]
  },
  {
   "cell_type": "markdown",
   "metadata": {},
   "source": [
    "### isfunction, ..."
   ]
  },
  {
   "cell_type": "code",
   "execution_count": 269,
   "metadata": {},
   "outputs": [
    {
     "data": {
      "text/plain": [
       "True"
      ]
     },
     "execution_count": 269,
     "metadata": {},
     "output_type": "execute_result"
    }
   ],
   "source": [
    "inspect.isfunction(func)"
   ]
  },
  {
   "cell_type": "code",
   "execution_count": 270,
   "metadata": {},
   "outputs": [
    {
     "data": {
      "text/plain": [
       "True"
      ]
     },
     "execution_count": 270,
     "metadata": {},
     "output_type": "execute_result"
    }
   ],
   "source": [
    "inspect.isclass(A)"
   ]
  },
  {
   "cell_type": "markdown",
   "metadata": {},
   "source": [
    "## is0000 + getmembers"
   ]
  },
  {
   "cell_type": "code",
   "execution_count": 271,
   "metadata": {},
   "outputs": [
    {
     "data": {
      "text/plain": [
       "[('__class__', function)]"
      ]
     },
     "execution_count": 271,
     "metadata": {},
     "output_type": "execute_result"
    }
   ],
   "source": [
    "inspect.getmembers(func, inspect.isclass)"
   ]
  },
  {
   "cell_type": "code",
   "execution_count": 272,
   "metadata": {},
   "outputs": [
    {
     "data": {
      "text/plain": [
       "[('__code__',\n",
       "  <code object func at 0x10fa60390, file \"<ipython-input-237-bd844a2214fb>\", line 1>)]"
      ]
     },
     "execution_count": 272,
     "metadata": {},
     "output_type": "execute_result"
    }
   ],
   "source": [
    "inspect.getmembers(func, inspect.iscode)"
   ]
  },
  {
   "cell_type": "code",
   "execution_count": 276,
   "metadata": {},
   "outputs": [
    {
     "data": {
      "text/plain": [
       "[]"
      ]
     },
     "execution_count": 276,
     "metadata": {},
     "output_type": "execute_result"
    }
   ],
   "source": [
    "inspect.getmembers(func, inspect.ismethod) # __call__"
   ]
  },
  {
   "cell_type": "code",
   "execution_count": 277,
   "metadata": {},
   "outputs": [
    {
     "data": {
      "text/plain": [
       "[]"
      ]
     },
     "execution_count": 277,
     "metadata": {},
     "output_type": "execute_result"
    }
   ],
   "source": [
    "inspect.getmembers(func, inspect.isfunction)"
   ]
  },
  {
   "cell_type": "code",
   "execution_count": 278,
   "metadata": {},
   "outputs": [
    {
     "data": {
      "text/plain": [
       "<method-wrapper '__call__' of function object at 0x110929ea0>"
      ]
     },
     "execution_count": 278,
     "metadata": {},
     "output_type": "execute_result"
    }
   ],
   "source": [
    "func.__call__"
   ]
  },
  {
   "cell_type": "markdown",
   "metadata": {},
   "source": [
    "## dis 모듈"
   ]
  },
  {
   "cell_type": "code",
   "execution_count": 279,
   "metadata": {},
   "outputs": [],
   "source": [
    "import dis"
   ]
  },
  {
   "cell_type": "code",
   "execution_count": 280,
   "metadata": {},
   "outputs": [],
   "source": [
    "def func(a, b):\n",
    "    sum_ = a + b\n",
    "    return sum_"
   ]
  },
  {
   "cell_type": "code",
   "execution_count": 281,
   "metadata": {},
   "outputs": [
    {
     "name": "stdout",
     "output_type": "stream",
     "text": [
      "  2           0 LOAD_FAST                0 (a)\n",
      "              2 LOAD_FAST                1 (b)\n",
      "              4 BINARY_ADD\n",
      "              6 STORE_FAST               2 (sum_)\n",
      "\n",
      "  3           8 LOAD_FAST                2 (sum_)\n",
      "             10 RETURN_VALUE\n"
     ]
    }
   ],
   "source": [
    "dis.dis(func)"
   ]
  },
  {
   "cell_type": "markdown",
   "metadata": {},
   "source": [
    "### show_code"
   ]
  },
  {
   "cell_type": "code",
   "execution_count": 283,
   "metadata": {},
   "outputs": [
    {
     "name": "stdout",
     "output_type": "stream",
     "text": [
      "Name:              func\n",
      "Filename:          <ipython-input-280-c5d140bd358b>\n",
      "Argument count:    2\n",
      "Kw-only arguments: 0\n",
      "Number of locals:  3\n",
      "Stack size:        2\n",
      "Flags:             OPTIMIZED, NEWLOCALS, NOFREE\n",
      "Constants:\n",
      "   0: None\n",
      "Variable names:\n",
      "   0: a\n",
      "   1: b\n",
      "   2: sum_\n"
     ]
    }
   ],
   "source": [
    "dis.show_code(func)"
   ]
  },
  {
   "cell_type": "code",
   "execution_count": 284,
   "metadata": {},
   "outputs": [
    {
     "ename": "ZeroDivisionError",
     "evalue": "division by zero",
     "output_type": "error",
     "traceback": [
      "\u001b[0;31m---------------------------------------------------------------------------\u001b[0m",
      "\u001b[0;31mZeroDivisionError\u001b[0m                         Traceback (most recent call last)",
      "\u001b[0;32m<ipython-input-284-9e7d114c4cab>\u001b[0m in \u001b[0;36m<module>\u001b[0;34m()\u001b[0m\n\u001b[1;32m      1\u001b[0m \u001b[0ma\u001b[0m \u001b[0;34m=\u001b[0m \u001b[0;36m3\u001b[0m\u001b[0;34m\u001b[0m\u001b[0m\n\u001b[1;32m      2\u001b[0m \u001b[0mb\u001b[0m \u001b[0;34m=\u001b[0m \u001b[0;36m0\u001b[0m\u001b[0;34m\u001b[0m\u001b[0m\n\u001b[0;32m----> 3\u001b[0;31m \u001b[0ma\u001b[0m \u001b[0;34m/\u001b[0m \u001b[0mb\u001b[0m\u001b[0;34m\u001b[0m\u001b[0m\n\u001b[0m",
      "\u001b[0;31mZeroDivisionError\u001b[0m: division by zero"
     ]
    }
   ],
   "source": [
    "a = 3\n",
    "b = 0\n",
    "a / b"
   ]
  },
  {
   "cell_type": "code",
   "execution_count": 285,
   "metadata": {},
   "outputs": [
    {
     "name": "stdout",
     "output_type": "stream",
     "text": [
      "  3           0 LOAD_NAME                0 (a)\n",
      "              2 LOAD_NAME                1 (b)\n",
      "    -->       4 BINARY_TRUE_DIVIDE\n",
      "              6 PRINT_EXPR\n",
      "              8 LOAD_CONST               0 (None)\n",
      "             10 RETURN_VALUE\n"
     ]
    }
   ],
   "source": [
    "dis.dis()"
   ]
  },
  {
   "cell_type": "code",
   "execution_count": 288,
   "metadata": {},
   "outputs": [
    {
     "name": "stdout",
     "output_type": "stream",
     "text": [
      "  3           0 LOAD_NAME                0 (a)\n",
      "              2 LOAD_NAME                1 (b)\n",
      "    -->       4 BINARY_TRUE_DIVIDE\n",
      "              6 PRINT_EXPR\n",
      "              8 LOAD_CONST               0 (None)\n",
      "             10 RETURN_VALUE\n"
     ]
    },
    {
     "ename": "BaseException",
     "evalue": "",
     "output_type": "error",
     "traceback": [
      "\u001b[0;31m---------------------------------------------------------------------------\u001b[0m",
      "\u001b[0;31mBaseException\u001b[0m                             Traceback (most recent call last)",
      "\u001b[0;32m<ipython-input-288-8a6e754a77fc>\u001b[0m in \u001b[0;36m<module>\u001b[0;34m()\u001b[0m\n\u001b[1;32m     10\u001b[0m \u001b[0;34m\u001b[0m\u001b[0m\n\u001b[1;32m     11\u001b[0m \u001b[0;32mif\u001b[0m \u001b[0merror\u001b[0m\u001b[0;34m:\u001b[0m\u001b[0;34m\u001b[0m\u001b[0m\n\u001b[0;32m---> 12\u001b[0;31m     \u001b[0;32mraise\u001b[0m \u001b[0mBaseException\u001b[0m\u001b[0;34m\u001b[0m\u001b[0m\n\u001b[0m",
      "\u001b[0;31mBaseException\u001b[0m: "
     ]
    }
   ],
   "source": [
    "error = []\n",
    "\n",
    "try:\n",
    "    a = 3\n",
    "    b = 0\n",
    "    a / b\n",
    "except:\n",
    "    dis.dis()\n",
    "    error.append(False)\n",
    "    \n",
    "if error:\n",
    "    raise BaseException"
   ]
  },
  {
   "cell_type": "code",
   "execution_count": 290,
   "metadata": {},
   "outputs": [
    {
     "name": "stdout",
     "output_type": "stream",
     "text": [
      "  1           0 SETUP_EXCEPT            20 (to 22)\n",
      "\n",
      "  2           2 LOAD_CONST               0 (3)\n",
      "              4 STORE_NAME               0 (a)\n",
      "\n",
      "  3           6 LOAD_CONST               1 (0)\n",
      "              8 STORE_NAME               1 (b)\n",
      "\n",
      "  4          10 LOAD_NAME                0 (a)\n",
      "             12 LOAD_NAME                1 (b)\n",
      "    -->      14 BINARY_TRUE_DIVIDE\n",
      "             16 POP_TOP\n",
      "             18 POP_BLOCK\n",
      "             20 JUMP_FORWARD            22 (to 44)\n",
      "\n",
      "  5     >>   22 POP_TOP\n",
      "             24 POP_TOP\n",
      "             26 POP_TOP\n",
      "\n",
      "  6          28 LOAD_NAME                2 (dis)\n",
      "             30 LOAD_ATTR                2 (dis)\n",
      "             32 CALL_FUNCTION            0\n",
      "             34 POP_TOP\n",
      "\n",
      "  7          36 RAISE_VARARGS            0\n",
      "             38 POP_EXCEPT\n",
      "             40 JUMP_FORWARD             2 (to 44)\n",
      "             42 END_FINALLY\n",
      "        >>   44 LOAD_CONST               2 (None)\n",
      "             46 RETURN_VALUE\n"
     ]
    },
    {
     "ename": "ZeroDivisionError",
     "evalue": "division by zero",
     "output_type": "error",
     "traceback": [
      "\u001b[0;31m---------------------------------------------------------------------------\u001b[0m",
      "\u001b[0;31mZeroDivisionError\u001b[0m                         Traceback (most recent call last)",
      "\u001b[0;32m<ipython-input-290-8638d25e8765>\u001b[0m in \u001b[0;36m<module>\u001b[0;34m()\u001b[0m\n\u001b[1;32m      2\u001b[0m     \u001b[0ma\u001b[0m \u001b[0;34m=\u001b[0m \u001b[0;36m3\u001b[0m\u001b[0;34m\u001b[0m\u001b[0m\n\u001b[1;32m      3\u001b[0m     \u001b[0mb\u001b[0m \u001b[0;34m=\u001b[0m \u001b[0;36m0\u001b[0m\u001b[0;34m\u001b[0m\u001b[0m\n\u001b[0;32m----> 4\u001b[0;31m     \u001b[0ma\u001b[0m \u001b[0;34m/\u001b[0m \u001b[0mb\u001b[0m\u001b[0;34m\u001b[0m\u001b[0m\n\u001b[0m\u001b[1;32m      5\u001b[0m \u001b[0;32mexcept\u001b[0m\u001b[0;34m:\u001b[0m\u001b[0;34m\u001b[0m\u001b[0m\n\u001b[1;32m      6\u001b[0m     \u001b[0mdis\u001b[0m\u001b[0;34m.\u001b[0m\u001b[0mdis\u001b[0m\u001b[0;34m(\u001b[0m\u001b[0;34m)\u001b[0m\u001b[0;34m\u001b[0m\u001b[0m\n",
      "\u001b[0;31mZeroDivisionError\u001b[0m: division by zero"
     ]
    }
   ],
   "source": [
    "try:\n",
    "    a = 3\n",
    "    b = 0\n",
    "    a / b\n",
    "except:\n",
    "    dis.dis()\n",
    "    raise"
   ]
  },
  {
   "cell_type": "markdown",
   "metadata": {},
   "source": [
    "# 코드분석 \n",
    "\n",
    "## ast  (Abstract Syntax Trees)"
   ]
  },
  {
   "cell_type": "code",
   "execution_count": 292,
   "metadata": {},
   "outputs": [],
   "source": [
    "source = \"\"\"\n",
    "a = 3\n",
    "b = 'a'\n",
    "c = a * b\n",
    "\"\"\""
   ]
  },
  {
   "cell_type": "code",
   "execution_count": null,
   "metadata": {},
   "outputs": [],
   "source": []
  },
  {
   "cell_type": "code",
   "execution_count": 296,
   "metadata": {},
   "outputs": [],
   "source": [
    "import ast"
   ]
  },
  {
   "cell_type": "code",
   "execution_count": 297,
   "metadata": {},
   "outputs": [
    {
     "data": {
      "text/plain": [
       "\"Module(body=[Assign(targets=[Name(id='a', ctx=Store())], value=Num(n=3)), Assign(targets=[Name(id='b', ctx=Store())], value=Str(s='a')), Assign(targets=[Name(id='c', ctx=Store())], value=BinOp(left=Name(id='a', ctx=Load()), op=Mult(), right=Name(id='b', ctx=Load())))])\""
      ]
     },
     "execution_count": 297,
     "metadata": {},
     "output_type": "execute_result"
    }
   ],
   "source": [
    "ast.dump(ast.parse(source))"
   ]
  },
  {
   "cell_type": "code",
   "execution_count": 299,
   "metadata": {},
   "outputs": [],
   "source": [
    "# a = 3\n",
    "ast_m = ast.Module(\n",
    "    [\n",
    "        ast.Assign(\n",
    "            [\n",
    "                ast.Name(\n",
    "                    id='a',\n",
    "                    ctx=ast.Store()\n",
    "                )\n",
    "            ],\n",
    "            ast.Num(3)\n",
    "        ),\n",
    "        ast.Assign(\n",
    "            [\n",
    "                ast.Name(\n",
    "                    id='b',\n",
    "                    ctx=ast.Store()\n",
    "                )\n",
    "            ],\n",
    "            ast.Str('a')\n",
    "        ),\n",
    "        # c = a * b\n",
    "        ast.Assign(\n",
    "            [\n",
    "                ast.Name(\n",
    "                    id='c',\n",
    "                    ctx=ast.Store()\n",
    "                )\n",
    "            ],\n",
    "            ast.BinOp(\n",
    "                ast.Name(\n",
    "                    id='a',\n",
    "                    ctx=ast.Load()\n",
    "                ),\n",
    "                ast.Mult(),\n",
    "                ast.Name(\n",
    "                    id='b',\n",
    "                    ctx=ast.Load()\n",
    "                )\n",
    "            )\n",
    "        )\n",
    "    ]\n",
    ")"
   ]
  },
  {
   "cell_type": "code",
   "execution_count": 301,
   "metadata": {},
   "outputs": [],
   "source": [
    "ast_m = ast.fix_missing_locations(ast_m)"
   ]
  },
  {
   "cell_type": "code",
   "execution_count": 302,
   "metadata": {},
   "outputs": [],
   "source": [
    "code = compile(ast_m, '', 'exec')"
   ]
  },
  {
   "cell_type": "code",
   "execution_count": 303,
   "metadata": {},
   "outputs": [],
   "source": [
    "exec(code)"
   ]
  },
  {
   "cell_type": "code",
   "execution_count": 304,
   "metadata": {},
   "outputs": [
    {
     "data": {
      "text/plain": [
       "3"
      ]
     },
     "execution_count": 304,
     "metadata": {},
     "output_type": "execute_result"
    }
   ],
   "source": [
    "a"
   ]
  },
  {
   "cell_type": "code",
   "execution_count": 305,
   "metadata": {},
   "outputs": [
    {
     "data": {
      "text/plain": [
       "'a'"
      ]
     },
     "execution_count": 305,
     "metadata": {},
     "output_type": "execute_result"
    }
   ],
   "source": [
    "b"
   ]
  },
  {
   "cell_type": "code",
   "execution_count": 306,
   "metadata": {},
   "outputs": [
    {
     "data": {
      "text/plain": [
       "'aaa'"
      ]
     },
     "execution_count": 306,
     "metadata": {},
     "output_type": "execute_result"
    }
   ],
   "source": [
    "c"
   ]
  },
  {
   "cell_type": "markdown",
   "metadata": {},
   "source": [
    "## 부사수에게 .. 리스트 컴프리헨션..\n",
    "\n"
   ]
  },
  {
   "cell_type": "code",
   "execution_count": 318,
   "metadata": {},
   "outputs": [],
   "source": [
    "python_code1 = \"\"\"\n",
    "a = [x for x in range(1, 10+1)]\n",
    "\"\"\"\n",
    "\n",
    "python_code2 = \"\"\"\n",
    "a = [1, 2, 3, 4, 5, 6, 7, 8, 9, 10]\n",
    "\"\"\""
   ]
  },
  {
   "cell_type": "code",
   "execution_count": 319,
   "metadata": {},
   "outputs": [],
   "source": [
    "ast_m1 = ast.parse(python_code1)\n",
    "ast_m2 = ast.parse(python_code2)"
   ]
  },
  {
   "cell_type": "code",
   "execution_count": 331,
   "metadata": {},
   "outputs": [],
   "source": [
    "class MyVisit(ast.NodeVisitor):\n",
    "    def visit_ListComp(self, node):\n",
    "        print(\"이곳이 실행됩니다.\", node)\n",
    "        print(True)"
   ]
  },
  {
   "cell_type": "code",
   "execution_count": 332,
   "metadata": {},
   "outputs": [],
   "source": [
    "MyVisit().visit(ast_m2)"
   ]
  },
  {
   "cell_type": "code",
   "execution_count": 333,
   "metadata": {},
   "outputs": [
    {
     "name": "stdout",
     "output_type": "stream",
     "text": [
      "이곳이 실행됩니다. <_ast.ListComp object at 0x10f8aed30>\n",
      "True\n"
     ]
    }
   ],
   "source": [
    "MyVisit().visit(ast_m1)"
   ]
  },
  {
   "cell_type": "code",
   "execution_count": 334,
   "metadata": {},
   "outputs": [
    {
     "data": {
      "text/plain": [
       "\"Module(body=[Assign(targets=[Name(id='a', ctx=Store())], value=ListComp(elt=Name(id='x', ctx=Load()), generators=[comprehension(target=Name(id='x', ctx=Store()), iter=Call(func=Name(id='range', ctx=Load()), args=[Num(n=1), BinOp(left=Num(n=10), op=Add(), right=Num(n=1))], keywords=[]), ifs=[], is_async=0)]))])\""
      ]
     },
     "execution_count": 334,
     "metadata": {},
     "output_type": "execute_result"
    }
   ],
   "source": [
    "ast.dump(ast_m1)"
   ]
  },
  {
   "cell_type": "code",
   "execution_count": 340,
   "metadata": {},
   "outputs": [],
   "source": [
    "python_code = \"\"\"\n",
    "a = 'string'\n",
    "print(\"Hello World!\")\n",
    "# '가짜 문자열'\n",
    "\"\"\""
   ]
  },
  {
   "cell_type": "code",
   "execution_count": 341,
   "metadata": {},
   "outputs": [],
   "source": [
    "class StrCheckVisit(ast.NodeVisitor):\n",
    "    def visit_Str(self, node):\n",
    "        print(\"사용된 문자열 : \", node.s)"
   ]
  },
  {
   "cell_type": "code",
   "execution_count": 342,
   "metadata": {},
   "outputs": [],
   "source": [
    "ast_m = ast.parse(python_code)"
   ]
  },
  {
   "cell_type": "code",
   "execution_count": 343,
   "metadata": {},
   "outputs": [
    {
     "name": "stdout",
     "output_type": "stream",
     "text": [
      "사용된 문자열 :  string\n",
      "사용된 문자열 :  Hello World!\n"
     ]
    }
   ],
   "source": [
    "StrCheckVisit().visit(ast_m)"
   ]
  },
  {
   "cell_type": "markdown",
   "metadata": {},
   "source": [
    "## 코드를 변환하고싶을때"
   ]
  },
  {
   "cell_type": "code",
   "execution_count": 344,
   "metadata": {},
   "outputs": [],
   "source": [
    "class StrChange(ast.NodeTransformer):\n",
    "    def visit_Str(self, node):\n",
    "        return ast.Str('new string')"
   ]
  },
  {
   "cell_type": "code",
   "execution_count": 345,
   "metadata": {},
   "outputs": [],
   "source": [
    "new_ast_m = StrChange().visit(ast_m)"
   ]
  },
  {
   "cell_type": "code",
   "execution_count": 346,
   "metadata": {},
   "outputs": [],
   "source": [
    "new_ast_m = ast.fix_missing_locations(new_ast_m)"
   ]
  },
  {
   "cell_type": "code",
   "execution_count": 347,
   "metadata": {},
   "outputs": [],
   "source": [
    "code = compile(new_ast_m, '', 'exec')"
   ]
  },
  {
   "cell_type": "markdown",
   "metadata": {},
   "source": [
    "```\n",
    "python_code = \"\"\"\n",
    "a = 'string'\n",
    "print(\"Hello World!\")\n",
    "# '가짜 문자열'\n",
    "\"\"\"\n",
    "```"
   ]
  },
  {
   "cell_type": "code",
   "execution_count": 348,
   "metadata": {},
   "outputs": [
    {
     "name": "stdout",
     "output_type": "stream",
     "text": [
      "new string\n"
     ]
    }
   ],
   "source": [
    "exec(code)"
   ]
  },
  {
   "cell_type": "code",
   "execution_count": 349,
   "metadata": {},
   "outputs": [
    {
     "data": {
      "text/plain": [
       "'new string'"
      ]
     },
     "execution_count": 349,
     "metadata": {},
     "output_type": "execute_result"
    }
   ],
   "source": [
    "a"
   ]
  },
  {
   "cell_type": "markdown",
   "metadata": {},
   "source": [
    "# 실습\n",
    "\n"
   ]
  },
  {
   "cell_type": "markdown",
   "metadata": {},
   "source": [
    "```\n",
    "python_code = \"\"\"\n",
    "a = 'string'\n",
    "print('Hello World!')\n",
    "\"\"\"\n",
    "```\n",
    "\n",
    "코드를 lower -> upper로 변환해서 실행"
   ]
  },
  {
   "cell_type": "code",
   "execution_count": 386,
   "metadata": {},
   "outputs": [],
   "source": [
    "python_code = \"\"\"\n",
    "a = 'string'\n",
    "print('hello world!')\n",
    "\"\"\""
   ]
  },
  {
   "cell_type": "code",
   "execution_count": 399,
   "metadata": {},
   "outputs": [],
   "source": [
    "class StrChange(ast.NodeTransformer):\n",
    "    def visit_Str(self, node):\n",
    "        # code 추가\n",
    "        return ast.Str(node.s.upper())"
   ]
  },
  {
   "cell_type": "code",
   "execution_count": 389,
   "metadata": {},
   "outputs": [],
   "source": [
    "ast_m = ast.parse(python_code)"
   ]
  },
  {
   "cell_type": "code",
   "execution_count": 390,
   "metadata": {},
   "outputs": [
    {
     "data": {
      "text/plain": [
       "<_ast.Module at 0x1105e6668>"
      ]
     },
     "execution_count": 390,
     "metadata": {},
     "output_type": "execute_result"
    }
   ],
   "source": [
    "ast_m"
   ]
  },
  {
   "cell_type": "code",
   "execution_count": 391,
   "metadata": {},
   "outputs": [],
   "source": [
    "new_ast_m = StrChange().visit(ast_m)"
   ]
  },
  {
   "cell_type": "code",
   "execution_count": 392,
   "metadata": {},
   "outputs": [],
   "source": [
    "new_ast_m = ast.fix_missing_locations(new_ast_m)"
   ]
  },
  {
   "cell_type": "code",
   "execution_count": 393,
   "metadata": {},
   "outputs": [],
   "source": [
    "code = compile(new_ast_m, '', 'exec')"
   ]
  },
  {
   "cell_type": "code",
   "execution_count": 395,
   "metadata": {},
   "outputs": [
    {
     "name": "stdout",
     "output_type": "stream",
     "text": [
      "HELLO WORLD!\n"
     ]
    },
    {
     "data": {
      "text/plain": [
       "'STRING'"
      ]
     },
     "execution_count": 395,
     "metadata": {},
     "output_type": "execute_result"
    }
   ],
   "source": [
    "exec(code)\n",
    "a"
   ]
  },
  {
   "cell_type": "code",
   "execution_count": null,
   "metadata": {},
   "outputs": [],
   "source": [
    "python_code = \"\"\"\n",
    "print(\"100000000\",\"원입니다.\")\n",
    "\"\"\""
   ]
  },
  {
   "cell_type": "code",
   "execution_count": 397,
   "metadata": {},
   "outputs": [
    {
     "name": "stdout",
     "output_type": "stream",
     "text": [
      "100000000 원입니다.\n"
     ]
    }
   ],
   "source": [
    "print(\"100000000\",\"원입니다.\")"
   ]
  },
  {
   "cell_type": "code",
   "execution_count": 400,
   "metadata": {},
   "outputs": [
    {
     "data": {
      "text/plain": [
       "'10,000,000'"
      ]
     },
     "execution_count": 400,
     "metadata": {},
     "output_type": "execute_result"
    }
   ],
   "source": [
    "\"{:,}\".format(10000000)"
   ]
  },
  {
   "cell_type": "code",
   "execution_count": 413,
   "metadata": {},
   "outputs": [],
   "source": [
    "python_code = \"\"\"\n",
    "print('100000000', '원입니다')\n",
    "\"\"\""
   ]
  },
  {
   "cell_type": "code",
   "execution_count": 414,
   "metadata": {},
   "outputs": [],
   "source": [
    "ast_m = ast.parse(python_code)"
   ]
  },
  {
   "cell_type": "code",
   "execution_count": 415,
   "metadata": {},
   "outputs": [],
   "source": [
    "class StrCommaChange(ast.NodeTransformer):\n",
    "    def visit_Str(self, node):\n",
    "        raw_str = node.s\n",
    "        if raw_str.isnumeric():\n",
    "            value = \"{:,}\".format(int(raw_str))\n",
    "            return ast.Str(value)\n",
    "        return ast.Str(node.s)\n",
    "    \n",
    "new_ast_m = StrCommaChange().visit(ast_m)"
   ]
  },
  {
   "cell_type": "code",
   "execution_count": 416,
   "metadata": {},
   "outputs": [],
   "source": [
    "new_ast_m = ast.fix_missing_locations(new_ast_m)"
   ]
  },
  {
   "cell_type": "code",
   "execution_count": 417,
   "metadata": {},
   "outputs": [],
   "source": [
    "code = compile(new_ast_m, '', 'exec')"
   ]
  },
  {
   "cell_type": "code",
   "execution_count": 419,
   "metadata": {},
   "outputs": [
    {
     "name": "stdout",
     "output_type": "stream",
     "text": [
      "100,000,000 원입니다\n"
     ]
    }
   ],
   "source": [
    "exec(code)"
   ]
  },
  {
   "cell_type": "code",
   "execution_count": null,
   "metadata": {},
   "outputs": [],
   "source": []
  },
  {
   "cell_type": "code",
   "execution_count": null,
   "metadata": {},
   "outputs": [],
   "source": []
  }
 ],
 "metadata": {
  "kernelspec": {
   "display_name": "Python 3",
   "language": "python",
   "name": "python3"
  },
  "language_info": {
   "codemirror_mode": {
    "name": "ipython",
    "version": 3
   },
   "file_extension": ".py",
   "mimetype": "text/x-python",
   "name": "python",
   "nbconvert_exporter": "python",
   "pygments_lexer": "ipython3",
   "version": "3.7.10"
  }
 },
 "nbformat": 4,
 "nbformat_minor": 2
}
