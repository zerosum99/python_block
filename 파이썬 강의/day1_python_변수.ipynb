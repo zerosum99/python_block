{
 "cells": [
  {
   "cell_type": "markdown",
   "id": "f7fa9e95",
   "metadata": {},
   "source": [
    "# 변수란\n",
    "\n",
    "- 프로그램에서 특정 값을 관리하는 공간이며 이를 관리하는 이름이다.\n",
    "- 변수를 사용하려면 먼저 정의하고 참조해야한다."
   ]
  },
  {
   "cell_type": "markdown",
   "id": "e27da150",
   "metadata": {},
   "source": [
    "# 1. 변수의 정의\n",
    "\n",
    "- 변수는 하나의 식별자라 모듈, 함수, 클래스 내에 정의가 가능하다.\n",
    "- 변수에는 함수를 정의할 때 사용하는 매개변수, 함수 내부에 정의하는 지역변수\n",
    "- 모듈에 정의하는 전역변수, 클래스 내부에 정의하는 속성 또는 필드 라는 이름으로 사용된다."
   ]
  },
  {
   "cell_type": "markdown",
   "id": "7750b399",
   "metadata": {},
   "source": [
    "### 변수에 타입을 지정할 수 있지만 값을 할당하지 않으면 변수로 취급하지 않는다.\n",
    "- 하나의 주석으로 인식"
   ]
  },
  {
   "cell_type": "code",
   "execution_count": 1,
   "id": "64c90d03",
   "metadata": {},
   "outputs": [],
   "source": [
    "var : int"
   ]
  },
  {
   "cell_type": "code",
   "execution_count": 2,
   "id": "172e1750",
   "metadata": {},
   "outputs": [
    {
     "name": "stdout",
     "output_type": "stream",
     "text": [
      "name 'var' is not defined\n"
     ]
    }
   ],
   "source": [
    "try :\n",
    "    var\n",
    "except Exception as e :\n",
    "    print(e)"
   ]
  },
  {
   "cell_type": "markdown",
   "id": "acaf41fa",
   "metadata": {},
   "source": [
    "### 변수는 반드시 값을 할당해야 정의된다.\n",
    "\n",
    "- 파이썬에서는 변수 정의할 때 별도의 키워드가 없다.\n"
   ]
  },
  {
   "cell_type": "markdown",
   "id": "91126659",
   "metadata": {},
   "source": [
    "### 변수에 값을 할당하면 저장된다."
   ]
  },
  {
   "cell_type": "code",
   "execution_count": 3,
   "id": "4ce8fe18",
   "metadata": {},
   "outputs": [],
   "source": [
    "var = 100"
   ]
  },
  {
   "cell_type": "code",
   "execution_count": 4,
   "id": "2df1c048",
   "metadata": {},
   "outputs": [
    {
     "data": {
      "text/plain": [
       "100"
      ]
     },
     "execution_count": 4,
     "metadata": {},
     "output_type": "execute_result"
    }
   ],
   "source": [
    "var"
   ]
  },
  {
   "cell_type": "markdown",
   "id": "4c23f6dd",
   "metadata": {},
   "source": [
    "### 주피터 노트북 파일은 하나의 모듈로 인식"
   ]
  },
  {
   "cell_type": "code",
   "execution_count": 5,
   "id": "17965bbf",
   "metadata": {},
   "outputs": [
    {
     "data": {
      "text/plain": [
       "100"
      ]
     },
     "execution_count": 5,
     "metadata": {},
     "output_type": "execute_result"
    }
   ],
   "source": [
    "globals()['var']"
   ]
  },
  {
   "cell_type": "code",
   "execution_count": 6,
   "id": "6112b242",
   "metadata": {},
   "outputs": [
    {
     "data": {
      "text/plain": [
       "200"
      ]
     },
     "execution_count": 6,
     "metadata": {},
     "output_type": "execute_result"
    }
   ],
   "source": [
    "globals()['var'] + 100"
   ]
  },
  {
   "cell_type": "code",
   "execution_count": 7,
   "id": "c0fdf245",
   "metadata": {},
   "outputs": [
    {
     "data": {
      "text/plain": [
       "200"
      ]
     },
     "execution_count": 7,
     "metadata": {},
     "output_type": "execute_result"
    }
   ],
   "source": [
    "var + 100"
   ]
  },
  {
   "cell_type": "markdown",
   "id": "25236073",
   "metadata": {},
   "source": [
    "## 변수 명명규칙\n",
    "\n",
    "- 첫 문자는 문자나 언더스코어(_)\n",
    "- 두 번째부터는 문자나 언더스코어 또는 숫자 조합 "
   ]
  },
  {
   "cell_type": "code",
   "execution_count": 1,
   "id": "5a7a6a3a",
   "metadata": {},
   "outputs": [],
   "source": [
    "_a = 100"
   ]
  },
  {
   "cell_type": "markdown",
   "id": "7006d56b",
   "metadata": {},
   "source": [
    "### 숫자로 처리하면 에러가 발생한다. 그래서 주석으로 처리. 주석은 #로 시작한다."
   ]
  },
  {
   "cell_type": "code",
   "execution_count": 5,
   "id": "df66f652",
   "metadata": {},
   "outputs": [],
   "source": [
    "# 1_a = 100. SyntaxError: invalid token"
   ]
  },
  {
   "cell_type": "code",
   "execution_count": null,
   "id": "2fee13eb",
   "metadata": {},
   "outputs": [],
   "source": []
  },
  {
   "cell_type": "markdown",
   "id": "919a0c4a",
   "metadata": {},
   "source": [
    "# 2. 변수의 참조\n",
    "\n",
    "- 변수가 정의된 이후 변수 이름을 사용하면 변수에 저장된 값을 조회해서 참조한다.\n"
   ]
  },
  {
   "cell_type": "markdown",
   "id": "1e039c0c",
   "metadata": {},
   "source": [
    "### 변수의 이름에는 규칙이 있다.\n",
    "- 첫번째 단어에는 숫자는 불가\n",
    "- 영문자나 _ 가 가능, 한글도 가능\n",
    "- 보통 변수이름은 소문자를 사용한다.\n",
    "- 파이썬은 상수라는 개념이 없고 일반적으로 영어 대문자로 이름을 지정하면 상수로 처리한다"
   ]
  },
  {
   "cell_type": "code",
   "execution_count": 8,
   "id": "66e3816d",
   "metadata": {},
   "outputs": [],
   "source": [
    "변수명 = 100"
   ]
  },
  {
   "cell_type": "code",
   "execution_count": 9,
   "id": "67ac0111",
   "metadata": {},
   "outputs": [
    {
     "data": {
      "text/plain": [
       "100"
      ]
     },
     "execution_count": 9,
     "metadata": {},
     "output_type": "execute_result"
    }
   ],
   "source": [
    "변수명"
   ]
  },
  {
   "cell_type": "markdown",
   "id": "c91a79c0",
   "metadata": {},
   "source": [
    "### 할당연산자 다음의 변수명을 사용하면 먼저 참조해서 처리한다."
   ]
  },
  {
   "cell_type": "code",
   "execution_count": 10,
   "id": "d909bcd0",
   "metadata": {},
   "outputs": [],
   "source": [
    "x = 변수명"
   ]
  },
  {
   "cell_type": "code",
   "execution_count": 11,
   "id": "23b1bfa2",
   "metadata": {},
   "outputs": [
    {
     "data": {
      "text/plain": [
       "100"
      ]
     },
     "execution_count": 11,
     "metadata": {},
     "output_type": "execute_result"
    }
   ],
   "source": [
    "x"
   ]
  },
  {
   "cell_type": "code",
   "execution_count": null,
   "id": "746ff08a",
   "metadata": {},
   "outputs": [],
   "source": []
  },
  {
   "cell_type": "markdown",
   "id": "0a5d010c",
   "metadata": {},
   "source": [
    "# 3. 변수에 값 할당\n",
    "\n",
    "- 변수의 값을 변경할 때는 할당연산자를 사용해서 새로운 값을 할당할 수 있다."
   ]
  },
  {
   "cell_type": "markdown",
   "id": "ab6ff0d1",
   "metadata": {},
   "source": [
    "### 동일한 값 할당할 때\n",
    "- 변수와 할당 연산자를 여러 개 사용해서 값을 할당"
   ]
  },
  {
   "cell_type": "code",
   "execution_count": 12,
   "id": "8998a536",
   "metadata": {},
   "outputs": [],
   "source": [
    "x = y = z = 100"
   ]
  },
  {
   "cell_type": "code",
   "execution_count": 13,
   "id": "c95f461c",
   "metadata": {},
   "outputs": [
    {
     "data": {
      "text/plain": [
       "(100, 100, 100)"
      ]
     },
     "execution_count": 13,
     "metadata": {},
     "output_type": "execute_result"
    }
   ],
   "source": [
    "x, y, z"
   ]
  },
  {
   "cell_type": "markdown",
   "id": "317a76fa",
   "metadata": {},
   "source": [
    "###  변수를 콤마로 구분해서 처리할 때 주의\n",
    "- 파이썬은 콤마로 분리하면 튜플로 처리하므로 여러 변수를 지정하고 값을 하나만 할당하면 예외를 발생한다."
   ]
  },
  {
   "cell_type": "code",
   "execution_count": 14,
   "id": "0cd6fdf0",
   "metadata": {},
   "outputs": [
    {
     "name": "stdout",
     "output_type": "stream",
     "text": [
      "cannot unpack non-iterable int object\n"
     ]
    }
   ],
   "source": [
    "try :\n",
    "    \n",
    "   a,b,c = 100\n",
    "except Exception as e :\n",
    "    print(e)"
   ]
  },
  {
   "cell_type": "markdown",
   "id": "2b30ce84",
   "metadata": {},
   "source": [
    "### 튜를을 만들어서 여러 변수에 값을 나누기\n",
    "\n",
    "- 튜플은 여러 원소를 가지는 하나의 자료구조이다.\n",
    "- 튜플은 한번 생성되면 변경이 불가능하다."
   ]
  },
  {
   "cell_type": "code",
   "execution_count": 15,
   "id": "e35942a6",
   "metadata": {},
   "outputs": [],
   "source": [
    "t = tuple([1,2,3])"
   ]
  },
  {
   "cell_type": "code",
   "execution_count": 16,
   "id": "a60fd4c0",
   "metadata": {},
   "outputs": [],
   "source": [
    "a,b,c = t"
   ]
  },
  {
   "cell_type": "code",
   "execution_count": 17,
   "id": "f52da355",
   "metadata": {},
   "outputs": [
    {
     "data": {
      "text/plain": [
       "(1, 2, 3)"
      ]
     },
     "execution_count": 17,
     "metadata": {},
     "output_type": "execute_result"
    }
   ],
   "source": [
    "a,b,c"
   ]
  },
  {
   "cell_type": "markdown",
   "id": "c71934bf",
   "metadata": {},
   "source": [
    "### 두 개의 변수의 값을 변경하기\n",
    "\n",
    "- 두 개의 문장을 한 줄에 사용할 때는 세미콜론을 붙여서 문장을 분리 표시를 한다\n",
    "- 보통 프로그램 언어는 임시변수를 사용해서 변경될 변수의 값을 저장시킨다."
   ]
  },
  {
   "cell_type": "code",
   "execution_count": 18,
   "id": "cbe567bc",
   "metadata": {},
   "outputs": [],
   "source": [
    "x = 100 ; y = 200"
   ]
  },
  {
   "cell_type": "code",
   "execution_count": 19,
   "id": "775b9654",
   "metadata": {},
   "outputs": [],
   "source": [
    "temp = x\n",
    "x = y\n",
    "y = temp"
   ]
  },
  {
   "cell_type": "code",
   "execution_count": 20,
   "id": "ab714b28",
   "metadata": {},
   "outputs": [
    {
     "data": {
      "text/plain": [
       "(200, 100)"
      ]
     },
     "execution_count": 20,
     "metadata": {},
     "output_type": "execute_result"
    }
   ],
   "source": [
    "x, y"
   ]
  },
  {
   "cell_type": "markdown",
   "id": "3287ef22",
   "metadata": {},
   "source": [
    "### 파이썬은 콤마가 튜플이므로 별도의 임시변수가 없이도 두 변수의 값을 교환한다"
   ]
  },
  {
   "cell_type": "code",
   "execution_count": 21,
   "id": "fb5d3251",
   "metadata": {},
   "outputs": [],
   "source": [
    "x = 100 ; y = 200"
   ]
  },
  {
   "cell_type": "code",
   "execution_count": 22,
   "id": "471c4adb",
   "metadata": {},
   "outputs": [],
   "source": [
    "x,y = y,x"
   ]
  },
  {
   "cell_type": "code",
   "execution_count": 23,
   "id": "8ed3f240",
   "metadata": {},
   "outputs": [
    {
     "data": {
      "text/plain": [
       "(200, 100)"
      ]
     },
     "execution_count": 23,
     "metadata": {},
     "output_type": "execute_result"
    }
   ],
   "source": [
    "x,y"
   ]
  },
  {
   "cell_type": "markdown",
   "id": "3228d160",
   "metadata": {},
   "source": [
    "### 원소가 많은 값을 변수에 할당할 때\n",
    "-  변수가 부족하면 변수 앞에 별표를 붙여서 처리"
   ]
  },
  {
   "cell_type": "code",
   "execution_count": 24,
   "id": "f939c968",
   "metadata": {},
   "outputs": [],
   "source": [
    "a, *b, c = (1,2,3,4,5,)"
   ]
  },
  {
   "cell_type": "code",
   "execution_count": 25,
   "id": "a0fc420e",
   "metadata": {},
   "outputs": [
    {
     "data": {
      "text/plain": [
       "(1, [2, 3, 4], 5)"
      ]
     },
     "execution_count": 25,
     "metadata": {},
     "output_type": "execute_result"
    }
   ],
   "source": [
    "a,b,c"
   ]
  },
  {
   "cell_type": "markdown",
   "id": "80e017d3",
   "metadata": {},
   "source": [
    "# 4. 값의 표현 이해하기\n",
    "\n",
    "- 보통 수학의 숫자, 문자열 등 다양한 대상을 값으로 인식하고 변수에 할당할 수 있다.\n",
    "- 또한 수식으로 표현된 것은 수식의 결과를 하나의 값으로 인식해서 변수에 저장된다.\n"
   ]
  },
  {
   "cell_type": "markdown",
   "id": "b3ee9dd7",
   "metadata": {},
   "source": [
    "### 변수에 할당하는 것은 값이다.\n",
    "\n",
    "- 하나의 값으로 된 경우는 리터럴이라고 부른다.\n",
    "- 이 리터럴과 연산자가 포함된 것을 표현식이라고 부른다.\n",
    "- 표현식은 여러 문장으로 구성할 수 있다. 이때는 람다 표현식을 사용한다.\n"
   ]
  },
  {
   "cell_type": "code",
   "execution_count": 26,
   "id": "79d8e391",
   "metadata": {},
   "outputs": [],
   "source": [
    "ax = 1 + 20+ 30 * 2"
   ]
  },
  {
   "cell_type": "code",
   "execution_count": 27,
   "id": "9515465b",
   "metadata": {},
   "outputs": [
    {
     "data": {
      "text/plain": [
       "81"
      ]
     },
     "execution_count": 27,
     "metadata": {},
     "output_type": "execute_result"
    }
   ],
   "source": [
    "ax"
   ]
  },
  {
   "cell_type": "markdown",
   "id": "5df63987",
   "metadata": {},
   "source": [
    "# 5. 수학 모듈 사용하기\n",
    "\n",
    "- 다른 모듈은 import 모듈명을 사용해서 처리한다.\n",
    "- 모듈 내의 정의된 변수와 함수 등이 현재 작성된 이름과 충돌이 나지 않도록 주의해야한다\n"
   ]
  },
  {
   "cell_type": "markdown",
   "id": "b4459980",
   "metadata": {},
   "source": [
    "## 모듈 가져오기\n",
    "- 한번 import 하면 모듈 내에서 동일하게 사용할 수 있다."
   ]
  },
  {
   "cell_type": "code",
   "execution_count": 28,
   "id": "acd42d35",
   "metadata": {},
   "outputs": [],
   "source": [
    "import math"
   ]
  },
  {
   "cell_type": "code",
   "execution_count": 29,
   "id": "0e4fadf5",
   "metadata": {},
   "outputs": [
    {
     "data": {
      "text/plain": [
       "2.718281828459045"
      ]
     },
     "execution_count": 29,
     "metadata": {},
     "output_type": "execute_result"
    }
   ],
   "source": [
    "math.e"
   ]
  },
  {
   "cell_type": "markdown",
   "id": "27b2d225",
   "metadata": {},
   "source": [
    "## 모듈의 별칭 사용하기"
   ]
  },
  {
   "cell_type": "code",
   "execution_count": 30,
   "id": "8396c3ce",
   "metadata": {},
   "outputs": [],
   "source": [
    "import math as m"
   ]
  },
  {
   "cell_type": "code",
   "execution_count": 31,
   "id": "b424a536",
   "metadata": {},
   "outputs": [
    {
     "data": {
      "text/plain": [
       "2.718281828459045"
      ]
     },
     "execution_count": 31,
     "metadata": {},
     "output_type": "execute_result"
    }
   ],
   "source": [
    "m.e"
   ]
  },
  {
   "cell_type": "markdown",
   "id": "821f437e",
   "metadata": {},
   "source": [
    "## 모듈 내의 변수 함수 등을 전부 사용하기\n",
    "\n",
    "- 현재 모듈 내의 이름공간에 math 모듈 내의 변수와 함수등이 전부 들어와있다.\n",
    "- 전부 import 하는 것보다 이름 충돌을 예방하도록 별칭 등을 사용하는 것이 좋다."
   ]
  },
  {
   "cell_type": "code",
   "execution_count": 32,
   "id": "007126ec",
   "metadata": {},
   "outputs": [],
   "source": [
    "from math import *"
   ]
  },
  {
   "cell_type": "code",
   "execution_count": 33,
   "id": "ecb2d28b",
   "metadata": {},
   "outputs": [
    {
     "data": {
      "text/plain": [
       "2.718281828459045"
      ]
     },
     "execution_count": 33,
     "metadata": {},
     "output_type": "execute_result"
    }
   ],
   "source": [
    "e"
   ]
  },
  {
   "cell_type": "code",
   "execution_count": 34,
   "id": "c123e2a5",
   "metadata": {},
   "outputs": [
    {
     "data": {
      "text/plain": [
       "3.141592653589793"
      ]
     },
     "execution_count": 34,
     "metadata": {},
     "output_type": "execute_result"
    }
   ],
   "source": [
    "pi"
   ]
  },
  {
   "cell_type": "code",
   "execution_count": 35,
   "id": "2dc31cd1",
   "metadata": {},
   "outputs": [
    {
     "data": {
      "text/plain": [
       "2.718281828459045"
      ]
     },
     "execution_count": 35,
     "metadata": {},
     "output_type": "execute_result"
    }
   ],
   "source": [
    "globals()[\"e\"]"
   ]
  },
  {
   "cell_type": "code",
   "execution_count": null,
   "id": "1d60ed88",
   "metadata": {},
   "outputs": [],
   "source": []
  },
  {
   "cell_type": "markdown",
   "id": "4494a3c6",
   "metadata": {},
   "source": [
    "# 6. 문자열 포맷팅 알아보기\n",
    "\n",
    "- 문자열로 출력을 만들기"
   ]
  },
  {
   "cell_type": "code",
   "execution_count": null,
   "id": "a83c4d58",
   "metadata": {},
   "outputs": [],
   "source": []
  },
  {
   "cell_type": "markdown",
   "id": "717782f8",
   "metadata": {},
   "source": [
    "## 포맷 함수 처리"
   ]
  },
  {
   "cell_type": "code",
   "execution_count": 36,
   "id": "067a9f68",
   "metadata": {},
   "outputs": [
    {
     "data": {
      "text/plain": [
       "'문자열        ggg 00100 200.11  '"
      ]
     },
     "execution_count": 36,
     "metadata": {},
     "output_type": "execute_result"
    }
   ],
   "source": [
    "\"문자열 %+10s %05d %5.2f  \" % (\"ggg\",100,200.11)"
   ]
  },
  {
   "cell_type": "code",
   "execution_count": 37,
   "id": "5cc87bf9",
   "metadata": {},
   "outputs": [
    {
     "data": {
      "text/plain": [
       "'문자열        ggg 00100 200.11  '"
      ]
     },
     "execution_count": 37,
     "metadata": {},
     "output_type": "execute_result"
    }
   ],
   "source": [
    "format(\"문자열 %+10s %05d %5.2f  \" % (\"ggg\",100,200.11))"
   ]
  },
  {
   "cell_type": "code",
   "execution_count": null,
   "id": "04fa52b0",
   "metadata": {},
   "outputs": [],
   "source": []
  },
  {
   "cell_type": "markdown",
   "id": "9cbba548",
   "metadata": {},
   "source": [
    "## 포맷 메소드 처리"
   ]
  },
  {
   "cell_type": "code",
   "execution_count": 38,
   "id": "c96d725e",
   "metadata": {},
   "outputs": [
    {
     "data": {
      "text/plain": [
       "'문자열 ggg 100 200.110000 '"
      ]
     },
     "execution_count": 38,
     "metadata": {},
     "output_type": "execute_result"
    }
   ],
   "source": [
    "\"문자열 {:s} {:d} {:f} \".format(\"ggg\",100,200.11)"
   ]
  },
  {
   "cell_type": "markdown",
   "id": "404e6c96",
   "metadata": {},
   "source": [
    "##  f 문자열로 출력 포맷 만들기\n",
    "\n",
    "- 콜론 다음에 포맷조건을 지정해서 처리하기"
   ]
  },
  {
   "cell_type": "code",
   "execution_count": 39,
   "id": "4a4ffbb8",
   "metadata": {},
   "outputs": [],
   "source": [
    "a = \"ggg\"; b=100; c=200.11"
   ]
  },
  {
   "cell_type": "code",
   "execution_count": 40,
   "id": "201039ca",
   "metadata": {},
   "outputs": [
    {
     "data": {
      "text/plain": [
       "'문자열 ggg        00100 200.11'"
      ]
     },
     "execution_count": 40,
     "metadata": {},
     "output_type": "execute_result"
    }
   ],
   "source": [
    "f\"문자열 {a:<10s} {b:05d} {c:5.2f}\""
   ]
  },
  {
   "cell_type": "code",
   "execution_count": null,
   "id": "7afd0aae",
   "metadata": {},
   "outputs": [],
   "source": []
  },
  {
   "cell_type": "markdown",
   "id": "369e84c0",
   "metadata": {},
   "source": [
    "## 기본 출력 "
   ]
  },
  {
   "cell_type": "code",
   "execution_count": 41,
   "id": "0ac25bb2",
   "metadata": {},
   "outputs": [
    {
     "name": "stdout",
     "output_type": "stream",
     "text": [
      "Hello world\n"
     ]
    }
   ],
   "source": [
    "print(\"Hello world\")"
   ]
  },
  {
   "cell_type": "code",
   "execution_count": 42,
   "id": "c3b829ba",
   "metadata": {},
   "outputs": [],
   "source": [
    "a =\"Hello\" ; b=\"World\""
   ]
  },
  {
   "cell_type": "code",
   "execution_count": null,
   "id": "3a0d2a28",
   "metadata": {},
   "outputs": [],
   "source": []
  },
  {
   "cell_type": "code",
   "execution_count": 43,
   "id": "9797f4ed",
   "metadata": {},
   "outputs": [
    {
     "name": "stdout",
     "output_type": "stream",
     "text": [
      "Hello World\n"
     ]
    }
   ],
   "source": [
    "print(f\"{a} {b}\")"
   ]
  },
  {
   "cell_type": "code",
   "execution_count": null,
   "id": "2b79d828",
   "metadata": {},
   "outputs": [],
   "source": []
  }
 ],
 "metadata": {
  "kernelspec": {
   "display_name": "Python 3",
   "language": "python",
   "name": "python3"
  },
  "language_info": {
   "codemirror_mode": {
    "name": "ipython",
    "version": 3
   },
   "file_extension": ".py",
   "mimetype": "text/x-python",
   "name": "python",
   "nbconvert_exporter": "python",
   "pygments_lexer": "ipython3",
   "version": "3.7.10"
  }
 },
 "nbformat": 4,
 "nbformat_minor": 5
}
