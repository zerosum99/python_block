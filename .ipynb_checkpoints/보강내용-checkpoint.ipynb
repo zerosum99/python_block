{
 "cells": [
  {
   "cell_type": "markdown",
   "id": "ac002513",
   "metadata": {},
   "source": [
    "## 3회차 : 2021-07-31\n",
    "\n",
    "- 함수/클로저\n",
    "- 클래스/메타클래스"
   ]
  },
  {
   "cell_type": "markdown",
   "id": "1f22ba9c",
   "metadata": {},
   "source": [
    "## 4회차 : 2021-08-14\n",
    "\n",
    "- 디스패치/오버로딩\n",
    "- 클래스 생성 및 초기\n",
    "- 은행업무 처리"
   ]
  },
  {
   "cell_type": "markdown",
   "id": "0a13f9e7",
   "metadata": {},
   "source": [
    "## 5회차 : 2021-08-21\n",
    "\n",
    "- 컴프리헨션 \n",
    "- 제너레이터 / yield와 return 차이"
   ]
  },
  {
   "cell_type": "markdown",
   "id": "ba90bf3f",
   "metadata": {},
   "source": [
    "## 6회차 : 2021-08-28\n",
    "\n",
    "- 싱글톤\n",
    "- 상속과 조합 \n",
    "- 프로퍼티 / 디스크립터 "
   ]
  }
 ],
 "metadata": {
  "kernelspec": {
   "display_name": "Python 3",
   "language": "python",
   "name": "python3"
  },
  "language_info": {
   "codemirror_mode": {
    "name": "ipython",
    "version": 3
   },
   "file_extension": ".py",
   "mimetype": "text/x-python",
   "name": "python",
   "nbconvert_exporter": "python",
   "pygments_lexer": "ipython3",
   "version": "3.7.10"
  }
 },
 "nbformat": 4,
 "nbformat_minor": 5
}
