{
 "cells": [
  {
   "cell_type": "markdown",
   "id": "8cdb2050",
   "metadata": {},
   "source": [
    "## 멀티프로세싱 모듈 사용"
   ]
  },
  {
   "cell_type": "code",
   "execution_count": 1,
   "id": "0cf7e99b",
   "metadata": {},
   "outputs": [],
   "source": [
    "import multiprocessing as multi"
   ]
  },
  {
   "cell_type": "markdown",
   "id": "022bda4e",
   "metadata": {},
   "source": [
    "### 현재 코어수 확인"
   ]
  },
  {
   "cell_type": "code",
   "execution_count": 2,
   "id": "b6c91db9",
   "metadata": {},
   "outputs": [
    {
     "data": {
      "text/plain": [
       "8"
      ]
     },
     "execution_count": 2,
     "metadata": {},
     "output_type": "execute_result"
    }
   ],
   "source": [
    "multi.cpu_count()"
   ]
  },
  {
   "cell_type": "code",
   "execution_count": 3,
   "id": "68e429fe",
   "metadata": {},
   "outputs": [],
   "source": [
    "from multiprocessing import Pool\n",
    "import time\n",
    "import os\n",
    "import math\n",
    "\n",
    "def f(x):\n",
    "    print(\"값\", x, \"에 대한 작업 Pid = \",os.getpid())\n",
    "    time.sleep(1)\n",
    "    return x*x\n"
   ]
  },
  {
   "cell_type": "code",
   "execution_count": 4,
   "id": "50f13c14",
   "metadata": {},
   "outputs": [
    {
     "name": "stdout",
     "output_type": "stream",
     "text": [
      "값값값   102   에 대한 작업 Pid = 에 대한 작업 Pid = 에 대한 작업 Pid =    902319023090232\n",
      "\n",
      "\n",
      "값값"
     ]
    }
   ],
   "source": [
    "p = Pool(3)\n",
    "startTime = int(time.time())\n",
    "print(p.map(f, range(0,10)))  # 함수와 인자값을 맵핑하면서 데이터를 분배한다\n",
    "endTime = int(time.time())\n",
    "print(\"총 작업 시간\", (endTime - startTime))"
   ]
  },
  {
   "cell_type": "code",
   "execution_count": 5,
   "id": "7ad5cfd4",
   "metadata": {},
   "outputs": [],
   "source": [
    "from multiprocessing import Process\n",
    "\n",
    "def doubler(number):\n",
    "    // A doubling function that can be used by a process\n",
    "    \n",
    "    result = number * 2\n",
    "    proc = os.getpid()\n",
    "    print('{0} doubled to {1} by process id: {2}'.format(\n",
    "        number, result, proc))\n",
    "\n",
    "\n",
    "if __name__ == '__main__':\n",
    "    numbers = [5, 10, 15, 20, 25]\n",
    "    procs = []\n",
    "\n",
    "    for index, number in enumerate(numbers):\n",
    "        proc = Process(target=doubler, args=(number,))\n",
    "        procs.append(proc)\n",
    "        proc.start()\n",
    "\n",
    "    for proc in procs:\n",
    "        proc.join()"
   ]
  },
  {
   "cell_type": "code",
   "execution_count": null,
   "id": "31eb00ca",
   "metadata": {},
   "outputs": [],
   "source": []
  }
 ],
 "metadata": {
  "kernelspec": {
   "display_name": "Python 3",
   "language": "python",
   "name": "python3"
  },
  "language_info": {
   "codemirror_mode": {
    "name": "ipython",
    "version": 3
   },
   "file_extension": ".py",
   "mimetype": "text/x-python",
   "name": "python",
   "nbconvert_exporter": "python",
   "pygments_lexer": "ipython3",
   "version": "3.7.10"
  }
 },
 "nbformat": 4,
 "nbformat_minor": 5
}
