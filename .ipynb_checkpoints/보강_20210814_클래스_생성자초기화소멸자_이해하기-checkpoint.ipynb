{
 "cells": [
  {
   "cell_type": "markdown",
   "id": "3cba4480",
   "metadata": {},
   "source": [
    "## 생성자, 초기화, 소멸자 정의"
   ]
  },
  {
   "cell_type": "code",
   "execution_count": 4,
   "id": "09af6d89",
   "metadata": {},
   "outputs": [
    {
     "name": "stdout",
     "output_type": "stream",
     "text": [
      "Writing klass.py\n"
     ]
    }
   ],
   "source": [
    "%%writefile klass.py\n",
    "class Klass :\n",
    "   # 이 친구는 스페셜 메소드\n",
    "   # 생성자 메소드\n",
    "    def __new__(cls, name, age) :\n",
    "        print(\"객체가 생성되었습니다\")\n",
    "        return object.__new__(cls)\n",
    "\n",
    "     # 초기화 메소드\n",
    "    def __init__(self, name, age) :\n",
    "        print(\"객체를 초기화 합니다\")\n",
    "        self.name = name\n",
    "        self.age = age\n",
    "\n",
    "    # 소멸자 메소드\n",
    "    def __del__(self) :\n",
    "        print(\"객체를 삭제합니다\")\n",
    "        del self"
   ]
  },
  {
   "cell_type": "markdown",
   "id": "ce625e27",
   "metadata": {},
   "source": [
    "## 객체 생성 및 초기화"
   ]
  },
  {
   "cell_type": "code",
   "execution_count": 5,
   "id": "be93f133",
   "metadata": {},
   "outputs": [],
   "source": [
    "import klass"
   ]
  },
  {
   "cell_type": "code",
   "execution_count": 6,
   "id": "75cf49ae",
   "metadata": {},
   "outputs": [
    {
     "name": "stdout",
     "output_type": "stream",
     "text": [
      "객체가 생성되었습니다\n",
      "객체를 초기화 합니다\n"
     ]
    }
   ],
   "source": [
    "k = klass.Klass(\"준석\", 25)"
   ]
  },
  {
   "cell_type": "markdown",
   "id": "63c9eacd",
   "metadata": {},
   "source": [
    "## 소멸자 처리"
   ]
  },
  {
   "cell_type": "code",
   "execution_count": 7,
   "id": "6dafcd22",
   "metadata": {},
   "outputs": [
    {
     "name": "stdout",
     "output_type": "stream",
     "text": [
      "객체를 삭제합니다\n"
     ]
    }
   ],
   "source": [
    "del k"
   ]
  },
  {
   "cell_type": "markdown",
   "id": "8db38f02",
   "metadata": {},
   "source": [
    "## 메인 처리하기"
   ]
  },
  {
   "cell_type": "code",
   "execution_count": 8,
   "id": "a836a945",
   "metadata": {},
   "outputs": [
    {
     "name": "stdout",
     "output_type": "stream",
     "text": [
      "객체가 생성되었습니다\n",
      "객체를 초기화 합니다\n"
     ]
    }
   ],
   "source": [
    "class Klass :\n",
    "   # 이 친구는 스페셜 메소드\n",
    "   # 생성자 메소드\n",
    "    def __new__(cls, name, age) :\n",
    "        print(\"객체가 생성되었습니다\")\n",
    "        return object.__new__(cls)\n",
    "\n",
    "     # 초기화 메소드\n",
    "    def __init__(self, name, age) :\n",
    "        print(\"객체를 초기화 합니다\")\n",
    "        self.name = name\n",
    "        self.age = age\n",
    "\n",
    "    # 소멸자 메소드\n",
    "    def __del__(self) :\n",
    "        print(\"객체를 삭제합니다\")\n",
    "        del self\n",
    "        \n",
    "if __name__ == \"__main__\" :\n",
    "    k = klass.Klass(\"준석\", 25)"
   ]
  },
  {
   "cell_type": "code",
   "execution_count": null,
   "id": "ac98a501",
   "metadata": {},
   "outputs": [],
   "source": []
  }
 ],
 "metadata": {
  "kernelspec": {
   "display_name": "Python 3",
   "language": "python",
   "name": "python3"
  },
  "language_info": {
   "codemirror_mode": {
    "name": "ipython",
    "version": 3
   },
   "file_extension": ".py",
   "mimetype": "text/x-python",
   "name": "python",
   "nbconvert_exporter": "python",
   "pygments_lexer": "ipython3",
   "version": "3.7.10"
  }
 },
 "nbformat": 4,
 "nbformat_minor": 5
}
