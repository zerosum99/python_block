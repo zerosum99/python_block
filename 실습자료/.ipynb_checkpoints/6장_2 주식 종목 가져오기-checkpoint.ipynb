{
 "cells": [
  {
   "cell_type": "code",
   "execution_count": 1,
   "metadata": {},
   "outputs": [],
   "source": [
    "import sys"
   ]
  },
  {
   "cell_type": "code",
   "execution_count": 2,
   "metadata": {},
   "outputs": [
    {
     "data": {
      "text/plain": [
       "sys.version_info(major=3, minor=7, micro=3, releaselevel='final', serial=0)"
      ]
     },
     "execution_count": 2,
     "metadata": {},
     "output_type": "execute_result"
    }
   ],
   "source": [
    "sys.version_info"
   ]
  },
  {
   "cell_type": "code",
   "execution_count": 3,
   "metadata": {},
   "outputs": [
    {
     "name": "stdout",
     "output_type": "stream",
     "text": [
      " Windows \n"
     ]
    }
   ],
   "source": [
    "if sys.platform == 'darwin' :\n",
    "    print(\" Mac OS \")\n",
    "else :\n",
    "    print(' Windows ')"
   ]
  },
  {
   "cell_type": "code",
   "execution_count": null,
   "metadata": {},
   "outputs": [],
   "source": []
  },
  {
   "cell_type": "code",
   "execution_count": 4,
   "metadata": {},
   "outputs": [],
   "source": [
    "import pandas as pd"
   ]
  },
  {
   "cell_type": "code",
   "execution_count": 5,
   "metadata": {},
   "outputs": [],
   "source": [
    "#  차트 설정\n",
    "%matplotlib inline\n",
    "import matplotlib.pyplot as plt\n",
    "\n",
    "#plt.rcParams[\"font.family\"] =  \"Malgun Gothic\"\n",
    "plt.rcParams[\"figure.figsize\"] = (14,4)\n",
    "plt.rcParams['lines.linewidth'] = 2\n",
    "plt.rcParams[\"axes.grid\"] = True"
   ]
  },
  {
   "cell_type": "code",
   "execution_count": 6,
   "metadata": {},
   "outputs": [],
   "source": [
    "from matplotlib import font_manager, rc\n",
    "import sys\n",
    "\n",
    "if sys.platform == 'darwin' :\n",
    "    rc('font', family='AppleGothic')\n",
    "\n",
    "    plt.rcParams['axes.unicode_minus'] = False\n",
    "else :\n",
    "    \n",
    "    font_name = font_manager.FontProperties(fname=\"c:/Windows/Fonts/malgun.ttf\").get_name()\n",
    "    rc('font', family=font_name)"
   ]
  },
  {
   "cell_type": "code",
   "execution_count": 7,
   "metadata": {},
   "outputs": [],
   "source": [
    "import seaborn as sns"
   ]
  },
  {
   "cell_type": "markdown",
   "metadata": {},
   "source": [
    "## 모듈 설치하기"
   ]
  },
  {
   "cell_type": "markdown",
   "metadata": {},
   "source": [
    "###  주식정보 검색 모듈 설치\n",
    "!pip install finacedatareader -U"
   ]
  },
  {
   "cell_type": "markdown",
   "metadata": {},
   "source": [
    "### 버전 확인하기 "
   ]
  },
  {
   "cell_type": "code",
   "execution_count": 8,
   "metadata": {},
   "outputs": [
    {
     "data": {
      "text/plain": [
       "'0.7.2'"
      ]
     },
     "execution_count": 8,
     "metadata": {},
     "output_type": "execute_result"
    }
   ],
   "source": [
    "import FinanceDataReader as fdr\n",
    "fdr.__version__"
   ]
  },
  {
   "cell_type": "markdown",
   "metadata": {},
   "source": [
    "#  FinanceDataReader 사용자 안내서\n",
    "\n",
    "> https://financedata.github.io/posts/finance-data-reader-users-guide.html\n",
    "\n",
    "> https://github.com/FinanceData/FinanceDataReader/wiki/Users-Guide"
   ]
  },
  {
   "cell_type": "markdown",
   "metadata": {},
   "source": [
    "# 1. 상장기업 정보 가져오기"
   ]
  },
  {
   "cell_type": "code",
   "execution_count": 9,
   "metadata": {},
   "outputs": [],
   "source": [
    "df_krx = fdr.StockListing('KRX')"
   ]
  },
  {
   "cell_type": "code",
   "execution_count": 10,
   "metadata": {},
   "outputs": [
    {
     "data": {
      "text/html": [
       "<div>\n",
       "<style scoped>\n",
       "    .dataframe tbody tr th:only-of-type {\n",
       "        vertical-align: middle;\n",
       "    }\n",
       "\n",
       "    .dataframe tbody tr th {\n",
       "        vertical-align: top;\n",
       "    }\n",
       "\n",
       "    .dataframe thead th {\n",
       "        text-align: right;\n",
       "    }\n",
       "</style>\n",
       "<table border=\"1\" class=\"dataframe\">\n",
       "  <thead>\n",
       "    <tr style=\"text-align: right;\">\n",
       "      <th></th>\n",
       "      <th>Symbol</th>\n",
       "      <th>Name</th>\n",
       "      <th>Sector</th>\n",
       "      <th>Industry</th>\n",
       "    </tr>\n",
       "  </thead>\n",
       "  <tbody>\n",
       "    <tr>\n",
       "      <th>0</th>\n",
       "      <td>001250</td>\n",
       "      <td>GS글로벌</td>\n",
       "      <td>상품 종합 도매업</td>\n",
       "      <td>수출입업(시멘트,철강금속,전기전자,섬유,기계화학),상품중개,광업,채석업/하수처리 서...</td>\n",
       "    </tr>\n",
       "    <tr>\n",
       "      <th>1</th>\n",
       "      <td>082740</td>\n",
       "      <td>HSD엔진</td>\n",
       "      <td>일반 목적용 기계 제조업</td>\n",
       "      <td>대형선박용엔진,내연발전엔진</td>\n",
       "    </tr>\n",
       "    <tr>\n",
       "      <th>2</th>\n",
       "      <td>001390</td>\n",
       "      <td>KG케미칼</td>\n",
       "      <td>기초 화학물질 제조업</td>\n",
       "      <td>콘크리트혼화제, 비료, 친환경농자재, 수처리제</td>\n",
       "    </tr>\n",
       "    <tr>\n",
       "      <th>3</th>\n",
       "      <td>011070</td>\n",
       "      <td>LG이노텍</td>\n",
       "      <td>전자부품 제조업</td>\n",
       "      <td>기타 전자부품 제조업</td>\n",
       "    </tr>\n",
       "    <tr>\n",
       "      <th>4</th>\n",
       "      <td>010060</td>\n",
       "      <td>OCI</td>\n",
       "      <td>기초 화학물질 제조업</td>\n",
       "      <td>타르제품,카본블랙,무수프탈산,농약원제,석탄화학제품,정밀화학제품,플라스틱창호재 제조,판매</td>\n",
       "    </tr>\n",
       "  </tbody>\n",
       "</table>\n",
       "</div>"
      ],
      "text/plain": [
       "   Symbol   Name         Sector  \\\n",
       "0  001250  GS글로벌      상품 종합 도매업   \n",
       "1  082740  HSD엔진  일반 목적용 기계 제조업   \n",
       "2  001390  KG케미칼    기초 화학물질 제조업   \n",
       "3  011070  LG이노텍       전자부품 제조업   \n",
       "4  010060    OCI    기초 화학물질 제조업   \n",
       "\n",
       "                                            Industry  \n",
       "0  수출입업(시멘트,철강금속,전기전자,섬유,기계화학),상품중개,광업,채석업/하수처리 서...  \n",
       "1                                     대형선박용엔진,내연발전엔진  \n",
       "2                          콘크리트혼화제, 비료, 친환경농자재, 수처리제  \n",
       "3                                        기타 전자부품 제조업  \n",
       "4   타르제품,카본블랙,무수프탈산,농약원제,석탄화학제품,정밀화학제품,플라스틱창호재 제조,판매  "
      ]
     },
     "execution_count": 10,
     "metadata": {},
     "output_type": "execute_result"
    }
   ],
   "source": [
    "df_krx.head()"
   ]
  },
  {
   "cell_type": "code",
   "execution_count": 11,
   "metadata": {},
   "outputs": [
    {
     "data": {
      "text/html": [
       "<div>\n",
       "<style scoped>\n",
       "    .dataframe tbody tr th:only-of-type {\n",
       "        vertical-align: middle;\n",
       "    }\n",
       "\n",
       "    .dataframe tbody tr th {\n",
       "        vertical-align: top;\n",
       "    }\n",
       "\n",
       "    .dataframe thead th {\n",
       "        text-align: right;\n",
       "    }\n",
       "</style>\n",
       "<table border=\"1\" class=\"dataframe\">\n",
       "  <thead>\n",
       "    <tr style=\"text-align: right;\">\n",
       "      <th></th>\n",
       "      <th>Symbol</th>\n",
       "      <th>Name</th>\n",
       "      <th>Sector</th>\n",
       "      <th>Industry</th>\n",
       "    </tr>\n",
       "  </thead>\n",
       "  <tbody>\n",
       "    <tr>\n",
       "      <th>2271</th>\n",
       "      <td>247300</td>\n",
       "      <td>인프라웨어테크놀러지</td>\n",
       "      <td>소프트웨어 개발 및 공급업</td>\n",
       "      <td>플랫폼, 보안솔루션</td>\n",
       "    </tr>\n",
       "    <tr>\n",
       "      <th>2272</th>\n",
       "      <td>299480</td>\n",
       "      <td>지앤이헬스케어</td>\n",
       "      <td>기타 섬유제품 제조업</td>\n",
       "      <td>면생리대</td>\n",
       "    </tr>\n",
       "    <tr>\n",
       "      <th>2273</th>\n",
       "      <td>199800</td>\n",
       "      <td>툴젠</td>\n",
       "      <td>자연과학 및 공학 연구개발업</td>\n",
       "      <td>유전자가위 (유전체 교정 도구) 및 이를 이용한 유전자세포치료제, 고부가가치 가축,...</td>\n",
       "    </tr>\n",
       "    <tr>\n",
       "      <th>2274</th>\n",
       "      <td>217880</td>\n",
       "      <td>틸론</td>\n",
       "      <td>소프트웨어 개발 및 공급업</td>\n",
       "      <td>Cloud Solution (D,A,E,Rstation)</td>\n",
       "    </tr>\n",
       "    <tr>\n",
       "      <th>2275</th>\n",
       "      <td>202960</td>\n",
       "      <td>판도라티비</td>\n",
       "      <td>소프트웨어 개발 및 공급업</td>\n",
       "      <td>판도라TV, KM 플레이어</td>\n",
       "    </tr>\n",
       "  </tbody>\n",
       "</table>\n",
       "</div>"
      ],
      "text/plain": [
       "      Symbol        Name           Sector  \\\n",
       "2271  247300  인프라웨어테크놀러지   소프트웨어 개발 및 공급업   \n",
       "2272  299480     지앤이헬스케어      기타 섬유제품 제조업   \n",
       "2273  199800          툴젠  자연과학 및 공학 연구개발업   \n",
       "2274  217880          틸론   소프트웨어 개발 및 공급업   \n",
       "2275  202960       판도라티비   소프트웨어 개발 및 공급업   \n",
       "\n",
       "                                               Industry  \n",
       "2271                                         플랫폼, 보안솔루션  \n",
       "2272                                               면생리대  \n",
       "2273  유전자가위 (유전체 교정 도구) 및 이를 이용한 유전자세포치료제, 고부가가치 가축,...  \n",
       "2274                    Cloud Solution (D,A,E,Rstation)  \n",
       "2275                                     판도라TV, KM 플레이어  "
      ]
     },
     "execution_count": 11,
     "metadata": {},
     "output_type": "execute_result"
    }
   ],
   "source": [
    "df_krx.tail()"
   ]
  },
  {
   "cell_type": "code",
   "execution_count": 12,
   "metadata": {},
   "outputs": [
    {
     "data": {
      "text/plain": [
       "(2276, 4)"
      ]
     },
     "execution_count": 12,
     "metadata": {},
     "output_type": "execute_result"
    }
   ],
   "source": [
    "df_krx.shape"
   ]
  },
  {
   "cell_type": "code",
   "execution_count": 13,
   "metadata": {},
   "outputs": [
    {
     "data": {
      "text/plain": [
       "array([['001250', 'GS글로벌', '상품 종합 도매업',\n",
       "        '수출입업(시멘트,철강금속,전기전자,섬유,기계화학),상품중개,광업,채석업/하수처리 서비스/부동산 임대'],\n",
       "       ['082740', 'HSD엔진', '일반 목적용 기계 제조업', '대형선박용엔진,내연발전엔진'],\n",
       "       ['001390', 'KG케미칼', '기초 화학물질 제조업', '콘크리트혼화제, 비료, 친환경농자재, 수처리제'],\n",
       "       ...,\n",
       "       ['199800', '툴젠', '자연과학 및 공학 연구개발업',\n",
       "        '유전자가위 (유전체 교정 도구) 및 이를 이용한 유전자세포치료제, 고부가가치 가축, 농작물 개발'],\n",
       "       ['217880', '틸론', '소프트웨어 개발 및 공급업',\n",
       "        'Cloud Solution (D,A,E,Rstation)'],\n",
       "       ['202960', '판도라티비', '소프트웨어 개발 및 공급업', '판도라TV, KM 플레이어']],\n",
       "      dtype=object)"
      ]
     },
     "execution_count": 13,
     "metadata": {},
     "output_type": "execute_result"
    }
   ],
   "source": [
    "df_krx.values"
   ]
  },
  {
   "cell_type": "code",
   "execution_count": 14,
   "metadata": {},
   "outputs": [
    {
     "data": {
      "text/plain": [
       "Symbol      object\n",
       "Name        object\n",
       "Sector      object\n",
       "Industry    object\n",
       "dtype: object"
      ]
     },
     "execution_count": 14,
     "metadata": {},
     "output_type": "execute_result"
    }
   ],
   "source": [
    "df_krx.dtypes"
   ]
  },
  {
   "cell_type": "code",
   "execution_count": 15,
   "metadata": {},
   "outputs": [
    {
     "data": {
      "text/plain": [
       "9104"
      ]
     },
     "execution_count": 15,
     "metadata": {},
     "output_type": "execute_result"
    }
   ],
   "source": [
    "df_krx.size"
   ]
  },
  {
   "cell_type": "markdown",
   "metadata": {},
   "source": [
    "# 2.  코스피 종목 가져오기"
   ]
  },
  {
   "cell_type": "code",
   "execution_count": 16,
   "metadata": {},
   "outputs": [],
   "source": [
    "df_kospi = fdr.StockListing('KOSPI')"
   ]
  },
  {
   "cell_type": "code",
   "execution_count": 17,
   "metadata": {},
   "outputs": [
    {
     "data": {
      "text/plain": [
       "(790, 4)"
      ]
     },
     "execution_count": 17,
     "metadata": {},
     "output_type": "execute_result"
    }
   ],
   "source": [
    "df_kospi.shape"
   ]
  },
  {
   "cell_type": "code",
   "execution_count": 18,
   "metadata": {},
   "outputs": [
    {
     "data": {
      "text/html": [
       "<div>\n",
       "<style scoped>\n",
       "    .dataframe tbody tr th:only-of-type {\n",
       "        vertical-align: middle;\n",
       "    }\n",
       "\n",
       "    .dataframe tbody tr th {\n",
       "        vertical-align: top;\n",
       "    }\n",
       "\n",
       "    .dataframe thead th {\n",
       "        text-align: right;\n",
       "    }\n",
       "</style>\n",
       "<table border=\"1\" class=\"dataframe\">\n",
       "  <thead>\n",
       "    <tr style=\"text-align: right;\">\n",
       "      <th></th>\n",
       "      <th>Symbol</th>\n",
       "      <th>Name</th>\n",
       "      <th>Sector</th>\n",
       "      <th>Industry</th>\n",
       "    </tr>\n",
       "  </thead>\n",
       "  <tbody>\n",
       "    <tr>\n",
       "      <th>0</th>\n",
       "      <td>001250</td>\n",
       "      <td>GS글로벌</td>\n",
       "      <td>상품 종합 도매업</td>\n",
       "      <td>수출입업(시멘트,철강금속,전기전자,섬유,기계화학),상품중개,광업,채석업/하수처리 서...</td>\n",
       "    </tr>\n",
       "    <tr>\n",
       "      <th>1</th>\n",
       "      <td>082740</td>\n",
       "      <td>HSD엔진</td>\n",
       "      <td>일반 목적용 기계 제조업</td>\n",
       "      <td>대형선박용엔진,내연발전엔진</td>\n",
       "    </tr>\n",
       "    <tr>\n",
       "      <th>2</th>\n",
       "      <td>001390</td>\n",
       "      <td>KG케미칼</td>\n",
       "      <td>기초 화학물질 제조업</td>\n",
       "      <td>콘크리트혼화제, 비료, 친환경농자재, 수처리제</td>\n",
       "    </tr>\n",
       "    <tr>\n",
       "      <th>3</th>\n",
       "      <td>011070</td>\n",
       "      <td>LG이노텍</td>\n",
       "      <td>전자부품 제조업</td>\n",
       "      <td>기타 전자부품 제조업</td>\n",
       "    </tr>\n",
       "    <tr>\n",
       "      <th>4</th>\n",
       "      <td>010060</td>\n",
       "      <td>OCI</td>\n",
       "      <td>기초 화학물질 제조업</td>\n",
       "      <td>타르제품,카본블랙,무수프탈산,농약원제,석탄화학제품,정밀화학제품,플라스틱창호재 제조,판매</td>\n",
       "    </tr>\n",
       "  </tbody>\n",
       "</table>\n",
       "</div>"
      ],
      "text/plain": [
       "   Symbol   Name         Sector  \\\n",
       "0  001250  GS글로벌      상품 종합 도매업   \n",
       "1  082740  HSD엔진  일반 목적용 기계 제조업   \n",
       "2  001390  KG케미칼    기초 화학물질 제조업   \n",
       "3  011070  LG이노텍       전자부품 제조업   \n",
       "4  010060    OCI    기초 화학물질 제조업   \n",
       "\n",
       "                                            Industry  \n",
       "0  수출입업(시멘트,철강금속,전기전자,섬유,기계화학),상품중개,광업,채석업/하수처리 서...  \n",
       "1                                     대형선박용엔진,내연발전엔진  \n",
       "2                          콘크리트혼화제, 비료, 친환경농자재, 수처리제  \n",
       "3                                        기타 전자부품 제조업  \n",
       "4   타르제품,카본블랙,무수프탈산,농약원제,석탄화학제품,정밀화학제품,플라스틱창호재 제조,판매  "
      ]
     },
     "execution_count": 18,
     "metadata": {},
     "output_type": "execute_result"
    }
   ],
   "source": [
    "df_kospi.head()"
   ]
  },
  {
   "cell_type": "markdown",
   "metadata": {},
   "source": [
    "# 3.  코스닥 정보 가져오기"
   ]
  },
  {
   "cell_type": "code",
   "execution_count": 19,
   "metadata": {},
   "outputs": [],
   "source": [
    "df_kosdaq = fdr.StockListing('KOSDAQ')"
   ]
  },
  {
   "cell_type": "code",
   "execution_count": 20,
   "metadata": {},
   "outputs": [
    {
     "data": {
      "text/plain": [
       "(1335, 4)"
      ]
     },
     "execution_count": 20,
     "metadata": {},
     "output_type": "execute_result"
    }
   ],
   "source": [
    "df_kosdaq.shape"
   ]
  },
  {
   "cell_type": "code",
   "execution_count": 21,
   "metadata": {},
   "outputs": [
    {
     "data": {
      "text/html": [
       "<div>\n",
       "<style scoped>\n",
       "    .dataframe tbody tr th:only-of-type {\n",
       "        vertical-align: middle;\n",
       "    }\n",
       "\n",
       "    .dataframe tbody tr th {\n",
       "        vertical-align: top;\n",
       "    }\n",
       "\n",
       "    .dataframe thead th {\n",
       "        text-align: right;\n",
       "    }\n",
       "</style>\n",
       "<table border=\"1\" class=\"dataframe\">\n",
       "  <thead>\n",
       "    <tr style=\"text-align: right;\">\n",
       "      <th></th>\n",
       "      <th>Symbol</th>\n",
       "      <th>Name</th>\n",
       "      <th>Sector</th>\n",
       "      <th>Industry</th>\n",
       "    </tr>\n",
       "  </thead>\n",
       "  <tbody>\n",
       "    <tr>\n",
       "      <th>0</th>\n",
       "      <td>051500</td>\n",
       "      <td>CJ프레시웨이</td>\n",
       "      <td>음·식료품 및 담배 도매업</td>\n",
       "      <td>식자재유통, 단체급식</td>\n",
       "    </tr>\n",
       "    <tr>\n",
       "      <th>1</th>\n",
       "      <td>083660</td>\n",
       "      <td>CSA 코스믹</td>\n",
       "      <td>플라스틱제품 제조업</td>\n",
       "      <td>물탱크,상하수도용도류벽,축산탱크</td>\n",
       "    </tr>\n",
       "    <tr>\n",
       "      <th>2</th>\n",
       "      <td>130500</td>\n",
       "      <td>GH신소재</td>\n",
       "      <td>기타 섬유제품 제조업</td>\n",
       "      <td>자동차용 부직포, 폴리우레탄 폼</td>\n",
       "    </tr>\n",
       "    <tr>\n",
       "      <th>3</th>\n",
       "      <td>083450</td>\n",
       "      <td>GST</td>\n",
       "      <td>특수 목적용 기계 제조업</td>\n",
       "      <td>GasScrubber,Chiller</td>\n",
       "    </tr>\n",
       "    <tr>\n",
       "      <th>4</th>\n",
       "      <td>024120</td>\n",
       "      <td>KB오토시스</td>\n",
       "      <td>자동차 신품 부품 제조업</td>\n",
       "      <td>브레이크패드</td>\n",
       "    </tr>\n",
       "  </tbody>\n",
       "</table>\n",
       "</div>"
      ],
      "text/plain": [
       "   Symbol     Name          Sector             Industry\n",
       "0  051500  CJ프레시웨이  음·식료품 및 담배 도매업          식자재유통, 단체급식\n",
       "1  083660  CSA 코스믹      플라스틱제품 제조업    물탱크,상하수도용도류벽,축산탱크\n",
       "2  130500    GH신소재     기타 섬유제품 제조업    자동차용 부직포, 폴리우레탄 폼\n",
       "3  083450      GST   특수 목적용 기계 제조업  GasScrubber,Chiller\n",
       "4  024120   KB오토시스   자동차 신품 부품 제조업               브레이크패드"
      ]
     },
     "execution_count": 21,
     "metadata": {},
     "output_type": "execute_result"
    }
   ],
   "source": [
    "df_kosdaq.head()"
   ]
  },
  {
   "cell_type": "markdown",
   "metadata": {},
   "source": [
    "# 4.  신라젠 정보 및 재무정보 가져오기 \n",
    "\n",
    "\n",
    "    가격 데이터 - 국내주식\n",
    "    단축 코드(6자리)를 사용.\n",
    "\n",
    "    코스피 종목: 068270(셀트리온), 005380(현대차) 등\n",
    "    코스닥 종목: 215600(신라젠), 151910(나노스) 등"
   ]
  },
  {
   "cell_type": "markdown",
   "metadata": {},
   "source": [
    "### 특정종목을 가져오기"
   ]
  },
  {
   "cell_type": "code",
   "execution_count": 23,
   "metadata": {},
   "outputs": [],
   "source": [
    "item_name = \"신라젠\""
   ]
  },
  {
   "cell_type": "markdown",
   "metadata": {},
   "source": [
    "### 쿼리메소드는 문자열 정보를 넣어서 특정 열에 대한 정보를 가져옴"
   ]
  },
  {
   "cell_type": "code",
   "execution_count": 24,
   "metadata": {},
   "outputs": [
    {
     "data": {
      "text/html": [
       "<div>\n",
       "<style scoped>\n",
       "    .dataframe tbody tr th:only-of-type {\n",
       "        vertical-align: middle;\n",
       "    }\n",
       "\n",
       "    .dataframe tbody tr th {\n",
       "        vertical-align: top;\n",
       "    }\n",
       "\n",
       "    .dataframe thead th {\n",
       "        text-align: right;\n",
       "    }\n",
       "</style>\n",
       "<table border=\"1\" class=\"dataframe\">\n",
       "  <thead>\n",
       "    <tr style=\"text-align: right;\">\n",
       "      <th></th>\n",
       "      <th>Symbol</th>\n",
       "      <th>Name</th>\n",
       "      <th>Sector</th>\n",
       "      <th>Industry</th>\n",
       "    </tr>\n",
       "  </thead>\n",
       "  <tbody>\n",
       "    <tr>\n",
       "      <th>751</th>\n",
       "      <td>215600</td>\n",
       "      <td>신라젠</td>\n",
       "      <td>자연과학 및 공학 연구개발업</td>\n",
       "      <td>펙사벡(바이러스 항암면역치료제)</td>\n",
       "    </tr>\n",
       "  </tbody>\n",
       "</table>\n",
       "</div>"
      ],
      "text/plain": [
       "     Symbol Name           Sector           Industry\n",
       "751  215600  신라젠  자연과학 및 공학 연구개발업  펙사벡(바이러스 항암면역치료제)"
      ]
     },
     "execution_count": 24,
     "metadata": {},
     "output_type": "execute_result"
    }
   ],
   "source": [
    "df_krx.query(\"Name=='{}'\".format(item_name))"
   ]
  },
  {
   "cell_type": "markdown",
   "metadata": {},
   "source": [
    "### 필요한 열만 추출"
   ]
  },
  {
   "cell_type": "code",
   "execution_count": 25,
   "metadata": {},
   "outputs": [
    {
     "data": {
      "text/html": [
       "<div>\n",
       "<style scoped>\n",
       "    .dataframe tbody tr th:only-of-type {\n",
       "        vertical-align: middle;\n",
       "    }\n",
       "\n",
       "    .dataframe tbody tr th {\n",
       "        vertical-align: top;\n",
       "    }\n",
       "\n",
       "    .dataframe thead th {\n",
       "        text-align: right;\n",
       "    }\n",
       "</style>\n",
       "<table border=\"1\" class=\"dataframe\">\n",
       "  <thead>\n",
       "    <tr style=\"text-align: right;\">\n",
       "      <th></th>\n",
       "      <th>Symbol</th>\n",
       "      <th>Name</th>\n",
       "    </tr>\n",
       "  </thead>\n",
       "  <tbody>\n",
       "    <tr>\n",
       "      <th>751</th>\n",
       "      <td>215600</td>\n",
       "      <td>신라젠</td>\n",
       "    </tr>\n",
       "  </tbody>\n",
       "</table>\n",
       "</div>"
      ],
      "text/plain": [
       "     Symbol Name\n",
       "751  215600  신라젠"
      ]
     },
     "execution_count": 25,
     "metadata": {},
     "output_type": "execute_result"
    }
   ],
   "source": [
    "df_krx.query(\"Name=='{}'\".format(item_name))[['Symbol','Name']]"
   ]
  },
  {
   "cell_type": "code",
   "execution_count": 22,
   "metadata": {},
   "outputs": [
    {
     "data": {
      "text/plain": [
       "'215600'"
      ]
     },
     "execution_count": 22,
     "metadata": {},
     "output_type": "execute_result"
    }
   ],
   "source": [
    "df_krx.query(\"Name=='{}'\".format(item_name))['Symbol'].iloc[0]"
   ]
  },
  {
   "cell_type": "markdown",
   "metadata": {},
   "source": [
    "## 재무제표 정보 가져오기 "
   ]
  },
  {
   "cell_type": "markdown",
   "metadata": {},
   "source": [
    "### 재무제표 추출 모듈을 가져옴"
   ]
  },
  {
   "cell_type": "code",
   "execution_count": 46,
   "metadata": {},
   "outputs": [],
   "source": [
    "import fsdata_ifrs"
   ]
  },
  {
   "cell_type": "markdown",
   "metadata": {},
   "source": [
    "### 함수에 A + 종목코드를 붙여서 재무정보를 가져옴 "
   ]
  },
  {
   "cell_type": "code",
   "execution_count": 47,
   "metadata": {},
   "outputs": [],
   "source": [
    "fs_data = fsdata_ifrs.make_fsdata(\"A\" + df_krx.query(\"Name=='{}'\".format(item_name))['Symbol'].iloc[0])"
   ]
  },
  {
   "cell_type": "code",
   "execution_count": 48,
   "metadata": {},
   "outputs": [
    {
     "data": {
      "text/html": [
       "<div>\n",
       "<style scoped>\n",
       "    .dataframe tbody tr th:only-of-type {\n",
       "        vertical-align: middle;\n",
       "    }\n",
       "\n",
       "    .dataframe tbody tr th {\n",
       "        vertical-align: top;\n",
       "    }\n",
       "\n",
       "    .dataframe thead th {\n",
       "        text-align: right;\n",
       "    }\n",
       "</style>\n",
       "<table border=\"1\" class=\"dataframe\">\n",
       "  <thead>\n",
       "    <tr style=\"text-align: right;\">\n",
       "      <th></th>\n",
       "      <th>2015/12</th>\n",
       "      <th>2016/12</th>\n",
       "      <th>2017/12</th>\n",
       "      <th>2018/12</th>\n",
       "    </tr>\n",
       "    <tr>\n",
       "      <th>IFRS(연결)</th>\n",
       "      <th></th>\n",
       "      <th></th>\n",
       "      <th></th>\n",
       "      <th></th>\n",
       "    </tr>\n",
       "  </thead>\n",
       "  <tbody>\n",
       "    <tr>\n",
       "      <th>매출액</th>\n",
       "      <td>18.0</td>\n",
       "      <td>53.0</td>\n",
       "      <td>69.0</td>\n",
       "      <td>77.0</td>\n",
       "    </tr>\n",
       "    <tr>\n",
       "      <th>영업이익</th>\n",
       "      <td>-238.0</td>\n",
       "      <td>-468.0</td>\n",
       "      <td>-506.0</td>\n",
       "      <td>-590.0</td>\n",
       "    </tr>\n",
       "    <tr>\n",
       "      <th>당기순이익</th>\n",
       "      <td>-559.0</td>\n",
       "      <td>-740.0</td>\n",
       "      <td>-570.0</td>\n",
       "      <td>-562.0</td>\n",
       "    </tr>\n",
       "    <tr>\n",
       "      <th>자산</th>\n",
       "      <td>1530.0</td>\n",
       "      <td>2841.0</td>\n",
       "      <td>2350.0</td>\n",
       "      <td>1932.0</td>\n",
       "    </tr>\n",
       "    <tr>\n",
       "      <th>부채</th>\n",
       "      <td>661.0</td>\n",
       "      <td>762.0</td>\n",
       "      <td>330.0</td>\n",
       "      <td>281.0</td>\n",
       "    </tr>\n",
       "    <tr>\n",
       "      <th>자본</th>\n",
       "      <td>869.0</td>\n",
       "      <td>2080.0</td>\n",
       "      <td>2019.0</td>\n",
       "      <td>1651.0</td>\n",
       "    </tr>\n",
       "    <tr>\n",
       "      <th>영업활동으로인한현금흐름</th>\n",
       "      <td>-224.0</td>\n",
       "      <td>-1980.0</td>\n",
       "      <td>338.0</td>\n",
       "      <td>-484.0</td>\n",
       "    </tr>\n",
       "  </tbody>\n",
       "</table>\n",
       "</div>"
      ],
      "text/plain": [
       "              2015/12  2016/12  2017/12  2018/12\n",
       "IFRS(연결)                                        \n",
       "매출액              18.0     53.0     69.0     77.0\n",
       "영업이익           -238.0   -468.0   -506.0   -590.0\n",
       "당기순이익          -559.0   -740.0   -570.0   -562.0\n",
       "자산             1530.0   2841.0   2350.0   1932.0\n",
       "부채              661.0    762.0    330.0    281.0\n",
       "자본              869.0   2080.0   2019.0   1651.0\n",
       "영업활동으로인한현금흐름   -224.0  -1980.0    338.0   -484.0"
      ]
     },
     "execution_count": 48,
     "metadata": {},
     "output_type": "execute_result"
    }
   ],
   "source": [
    "fs_data"
   ]
  },
  {
   "cell_type": "markdown",
   "metadata": {},
   "source": [
    "### 재무 정보를 년도별로 가져오는 모듈을 사용"
   ]
  },
  {
   "cell_type": "code",
   "execution_count": 49,
   "metadata": {},
   "outputs": [],
   "source": [
    "import fsdata_one"
   ]
  },
  {
   "cell_type": "markdown",
   "metadata": {},
   "source": [
    "### A와 종목코드를 넣어서 실행"
   ]
  },
  {
   "cell_type": "code",
   "execution_count": 50,
   "metadata": {},
   "outputs": [],
   "source": [
    "fs_data1  = fsdata_one.make_fsdata(\"A\" + df_krx.query(\"Name=='{}'\".format(item_name))['Symbol'].iloc[0])"
   ]
  },
  {
   "cell_type": "code",
   "execution_count": 51,
   "metadata": {},
   "outputs": [
    {
     "data": {
      "text/html": [
       "<div>\n",
       "<style scoped>\n",
       "    .dataframe tbody tr th:only-of-type {\n",
       "        vertical-align: middle;\n",
       "    }\n",
       "\n",
       "    .dataframe tbody tr th {\n",
       "        vertical-align: top;\n",
       "    }\n",
       "\n",
       "    .dataframe thead tr th {\n",
       "        text-align: left;\n",
       "    }\n",
       "\n",
       "    .dataframe thead tr:last-of-type th {\n",
       "        text-align: right;\n",
       "    }\n",
       "</style>\n",
       "<table border=\"1\" class=\"dataframe\">\n",
       "  <thead>\n",
       "    <tr>\n",
       "      <th></th>\n",
       "      <th colspan=\"7\" halign=\"left\">2015/12</th>\n",
       "      <th colspan=\"3\" halign=\"left\">2016/12</th>\n",
       "      <th>...</th>\n",
       "      <th colspan=\"3\" halign=\"left\">2017/12</th>\n",
       "      <th colspan=\"7\" halign=\"left\">2018/12</th>\n",
       "    </tr>\n",
       "    <tr>\n",
       "      <th>IFRS(연결)</th>\n",
       "      <th>매출액</th>\n",
       "      <th>영업이익</th>\n",
       "      <th>당기순이익</th>\n",
       "      <th>자산</th>\n",
       "      <th>부채</th>\n",
       "      <th>자본</th>\n",
       "      <th>영업활동으로인한현금흐름</th>\n",
       "      <th>매출액</th>\n",
       "      <th>영업이익</th>\n",
       "      <th>당기순이익</th>\n",
       "      <th>...</th>\n",
       "      <th>부채</th>\n",
       "      <th>자본</th>\n",
       "      <th>영업활동으로인한현금흐름</th>\n",
       "      <th>매출액</th>\n",
       "      <th>영업이익</th>\n",
       "      <th>당기순이익</th>\n",
       "      <th>자산</th>\n",
       "      <th>부채</th>\n",
       "      <th>자본</th>\n",
       "      <th>영업활동으로인한현금흐름</th>\n",
       "    </tr>\n",
       "    <tr>\n",
       "      <th>firmcode</th>\n",
       "      <th></th>\n",
       "      <th></th>\n",
       "      <th></th>\n",
       "      <th></th>\n",
       "      <th></th>\n",
       "      <th></th>\n",
       "      <th></th>\n",
       "      <th></th>\n",
       "      <th></th>\n",
       "      <th></th>\n",
       "      <th></th>\n",
       "      <th></th>\n",
       "      <th></th>\n",
       "      <th></th>\n",
       "      <th></th>\n",
       "      <th></th>\n",
       "      <th></th>\n",
       "      <th></th>\n",
       "      <th></th>\n",
       "      <th></th>\n",
       "      <th></th>\n",
       "    </tr>\n",
       "  </thead>\n",
       "  <tbody>\n",
       "    <tr>\n",
       "      <th>A215600</th>\n",
       "      <td>18.0</td>\n",
       "      <td>-238.0</td>\n",
       "      <td>-559.0</td>\n",
       "      <td>1530.0</td>\n",
       "      <td>661.0</td>\n",
       "      <td>869.0</td>\n",
       "      <td>-224.0</td>\n",
       "      <td>53.0</td>\n",
       "      <td>-468.0</td>\n",
       "      <td>-740.0</td>\n",
       "      <td>...</td>\n",
       "      <td>330.0</td>\n",
       "      <td>2019.0</td>\n",
       "      <td>338.0</td>\n",
       "      <td>77.0</td>\n",
       "      <td>-590.0</td>\n",
       "      <td>-562.0</td>\n",
       "      <td>1932.0</td>\n",
       "      <td>281.0</td>\n",
       "      <td>1651.0</td>\n",
       "      <td>-484.0</td>\n",
       "    </tr>\n",
       "  </tbody>\n",
       "</table>\n",
       "<p>1 rows × 28 columns</p>\n",
       "</div>"
      ],
      "text/plain": [
       "         2015/12                                                  2016/12  \\\n",
       "IFRS(연결)     매출액   영업이익  당기순이익      자산     부채     자본 영업활동으로인한현금흐름     매출액   \n",
       "firmcode                                                                    \n",
       "A215600     18.0 -238.0 -559.0  1530.0  661.0  869.0       -224.0    53.0   \n",
       "\n",
       "                        ... 2017/12                      2018/12         \\\n",
       "IFRS(연결)   영업이익  당기순이익  ...      부채      자본 영업활동으로인한현금흐름     매출액   영업이익   \n",
       "firmcode                ...                                               \n",
       "A215600  -468.0 -740.0  ...   330.0  2019.0        338.0    77.0 -590.0   \n",
       "\n",
       "                                                     \n",
       "IFRS(연결)  당기순이익      자산     부채      자본 영업활동으로인한현금흐름  \n",
       "firmcode                                             \n",
       "A215600  -562.0  1932.0  281.0  1651.0       -484.0  \n",
       "\n",
       "[1 rows x 28 columns]"
      ]
     },
     "execution_count": 51,
     "metadata": {},
     "output_type": "execute_result"
    }
   ],
   "source": [
    "fs_data1 "
   ]
  },
  {
   "cell_type": "markdown",
   "metadata": {},
   "source": [
    "### 셀트리온 종목 정보 가져오기"
   ]
  },
  {
   "cell_type": "code",
   "execution_count": 29,
   "metadata": {},
   "outputs": [],
   "source": [
    "item_name1 = \"셀트리온\""
   ]
  },
  {
   "cell_type": "code",
   "execution_count": 30,
   "metadata": {},
   "outputs": [
    {
     "data": {
      "text/html": [
       "<div>\n",
       "<style scoped>\n",
       "    .dataframe tbody tr th:only-of-type {\n",
       "        vertical-align: middle;\n",
       "    }\n",
       "\n",
       "    .dataframe tbody tr th {\n",
       "        vertical-align: top;\n",
       "    }\n",
       "\n",
       "    .dataframe thead th {\n",
       "        text-align: right;\n",
       "    }\n",
       "</style>\n",
       "<table border=\"1\" class=\"dataframe\">\n",
       "  <thead>\n",
       "    <tr style=\"text-align: right;\">\n",
       "      <th></th>\n",
       "      <th>Symbol</th>\n",
       "      <th>Name</th>\n",
       "    </tr>\n",
       "  </thead>\n",
       "  <tbody>\n",
       "    <tr>\n",
       "      <th>926</th>\n",
       "      <td>068270</td>\n",
       "      <td>셀트리온</td>\n",
       "    </tr>\n",
       "  </tbody>\n",
       "</table>\n",
       "</div>"
      ],
      "text/plain": [
       "     Symbol  Name\n",
       "926  068270  셀트리온"
      ]
     },
     "execution_count": 30,
     "metadata": {},
     "output_type": "execute_result"
    }
   ],
   "source": [
    "df_krx.query(\"Name=='{}'\".format(item_name1))[['Symbol','Name']]"
   ]
  },
  {
   "cell_type": "code",
   "execution_count": 56,
   "metadata": {},
   "outputs": [],
   "source": [
    "fs_data_ = fsdata_ifrs.make_fsdata(\"A\" + df_krx.query(\"Name=='{}'\".format(item_name))['Symbol'].iloc[0])"
   ]
  },
  {
   "cell_type": "code",
   "execution_count": 57,
   "metadata": {},
   "outputs": [
    {
     "data": {
      "text/html": [
       "<div>\n",
       "<style scoped>\n",
       "    .dataframe tbody tr th:only-of-type {\n",
       "        vertical-align: middle;\n",
       "    }\n",
       "\n",
       "    .dataframe tbody tr th {\n",
       "        vertical-align: top;\n",
       "    }\n",
       "\n",
       "    .dataframe thead th {\n",
       "        text-align: right;\n",
       "    }\n",
       "</style>\n",
       "<table border=\"1\" class=\"dataframe\">\n",
       "  <thead>\n",
       "    <tr style=\"text-align: right;\">\n",
       "      <th></th>\n",
       "      <th>2015/12</th>\n",
       "      <th>2016/12</th>\n",
       "      <th>2017/12</th>\n",
       "      <th>2018/12</th>\n",
       "    </tr>\n",
       "    <tr>\n",
       "      <th>IFRS(연결)</th>\n",
       "      <th></th>\n",
       "      <th></th>\n",
       "      <th></th>\n",
       "      <th></th>\n",
       "    </tr>\n",
       "  </thead>\n",
       "  <tbody>\n",
       "    <tr>\n",
       "      <th>매출액</th>\n",
       "      <td>18.0</td>\n",
       "      <td>53.0</td>\n",
       "      <td>69.0</td>\n",
       "      <td>77.0</td>\n",
       "    </tr>\n",
       "    <tr>\n",
       "      <th>영업이익</th>\n",
       "      <td>-238.0</td>\n",
       "      <td>-468.0</td>\n",
       "      <td>-506.0</td>\n",
       "      <td>-590.0</td>\n",
       "    </tr>\n",
       "    <tr>\n",
       "      <th>당기순이익</th>\n",
       "      <td>-559.0</td>\n",
       "      <td>-740.0</td>\n",
       "      <td>-570.0</td>\n",
       "      <td>-562.0</td>\n",
       "    </tr>\n",
       "    <tr>\n",
       "      <th>자산</th>\n",
       "      <td>1530.0</td>\n",
       "      <td>2841.0</td>\n",
       "      <td>2350.0</td>\n",
       "      <td>1932.0</td>\n",
       "    </tr>\n",
       "    <tr>\n",
       "      <th>부채</th>\n",
       "      <td>661.0</td>\n",
       "      <td>762.0</td>\n",
       "      <td>330.0</td>\n",
       "      <td>281.0</td>\n",
       "    </tr>\n",
       "    <tr>\n",
       "      <th>자본</th>\n",
       "      <td>869.0</td>\n",
       "      <td>2080.0</td>\n",
       "      <td>2019.0</td>\n",
       "      <td>1651.0</td>\n",
       "    </tr>\n",
       "    <tr>\n",
       "      <th>영업활동으로인한현금흐름</th>\n",
       "      <td>-224.0</td>\n",
       "      <td>-1980.0</td>\n",
       "      <td>338.0</td>\n",
       "      <td>-484.0</td>\n",
       "    </tr>\n",
       "  </tbody>\n",
       "</table>\n",
       "</div>"
      ],
      "text/plain": [
       "              2015/12  2016/12  2017/12  2018/12\n",
       "IFRS(연결)                                        \n",
       "매출액              18.0     53.0     69.0     77.0\n",
       "영업이익           -238.0   -468.0   -506.0   -590.0\n",
       "당기순이익          -559.0   -740.0   -570.0   -562.0\n",
       "자산             1530.0   2841.0   2350.0   1932.0\n",
       "부채              661.0    762.0    330.0    281.0\n",
       "자본              869.0   2080.0   2019.0   1651.0\n",
       "영업활동으로인한현금흐름   -224.0  -1980.0    338.0   -484.0"
      ]
     },
     "execution_count": 57,
     "metadata": {},
     "output_type": "execute_result"
    }
   ],
   "source": [
    "fs_data_"
   ]
  },
  {
   "cell_type": "markdown",
   "metadata": {},
   "source": [
    "### 종목코드만 가져오기"
   ]
  },
  {
   "cell_type": "code",
   "execution_count": 31,
   "metadata": {},
   "outputs": [
    {
     "data": {
      "text/plain": [
       "'068270'"
      ]
     },
     "execution_count": 31,
     "metadata": {},
     "output_type": "execute_result"
    }
   ],
   "source": [
    "df_krx.query(\"Name=='{}'\".format(item_name1))['Symbol'].iloc[0]"
   ]
  },
  {
   "cell_type": "code",
   "execution_count": 52,
   "metadata": {},
   "outputs": [],
   "source": [
    "fs_data2  = fsdata_one.make_fsdata(\"A\" + df_krx.query(\"Name=='{}'\".format(item_name1))['Symbol'].iloc[0])"
   ]
  },
  {
   "cell_type": "code",
   "execution_count": 53,
   "metadata": {},
   "outputs": [
    {
     "data": {
      "text/html": [
       "<div>\n",
       "<style scoped>\n",
       "    .dataframe tbody tr th:only-of-type {\n",
       "        vertical-align: middle;\n",
       "    }\n",
       "\n",
       "    .dataframe tbody tr th {\n",
       "        vertical-align: top;\n",
       "    }\n",
       "\n",
       "    .dataframe thead tr th {\n",
       "        text-align: left;\n",
       "    }\n",
       "\n",
       "    .dataframe thead tr:last-of-type th {\n",
       "        text-align: right;\n",
       "    }\n",
       "</style>\n",
       "<table border=\"1\" class=\"dataframe\">\n",
       "  <thead>\n",
       "    <tr>\n",
       "      <th></th>\n",
       "      <th colspan=\"7\" halign=\"left\">2015/12</th>\n",
       "      <th colspan=\"3\" halign=\"left\">2016/12</th>\n",
       "      <th>...</th>\n",
       "      <th colspan=\"3\" halign=\"left\">2017/12</th>\n",
       "      <th colspan=\"7\" halign=\"left\">2018/12</th>\n",
       "    </tr>\n",
       "    <tr>\n",
       "      <th>IFRS(연결)</th>\n",
       "      <th>매출액</th>\n",
       "      <th>영업이익</th>\n",
       "      <th>당기순이익</th>\n",
       "      <th>자산</th>\n",
       "      <th>부채</th>\n",
       "      <th>자본</th>\n",
       "      <th>영업활동으로인한현금흐름</th>\n",
       "      <th>매출액</th>\n",
       "      <th>영업이익</th>\n",
       "      <th>당기순이익</th>\n",
       "      <th>...</th>\n",
       "      <th>부채</th>\n",
       "      <th>자본</th>\n",
       "      <th>영업활동으로인한현금흐름</th>\n",
       "      <th>매출액</th>\n",
       "      <th>영업이익</th>\n",
       "      <th>당기순이익</th>\n",
       "      <th>자산</th>\n",
       "      <th>부채</th>\n",
       "      <th>자본</th>\n",
       "      <th>영업활동으로인한현금흐름</th>\n",
       "    </tr>\n",
       "    <tr>\n",
       "      <th>firmcode</th>\n",
       "      <th></th>\n",
       "      <th></th>\n",
       "      <th></th>\n",
       "      <th></th>\n",
       "      <th></th>\n",
       "      <th></th>\n",
       "      <th></th>\n",
       "      <th></th>\n",
       "      <th></th>\n",
       "      <th></th>\n",
       "      <th></th>\n",
       "      <th></th>\n",
       "      <th></th>\n",
       "      <th></th>\n",
       "      <th></th>\n",
       "      <th></th>\n",
       "      <th></th>\n",
       "      <th></th>\n",
       "      <th></th>\n",
       "      <th></th>\n",
       "      <th></th>\n",
       "    </tr>\n",
       "  </thead>\n",
       "  <tbody>\n",
       "    <tr>\n",
       "      <th>A068270</th>\n",
       "      <td>6034.0</td>\n",
       "      <td>2590.0</td>\n",
       "      <td>1583.0</td>\n",
       "      <td>27482.0</td>\n",
       "      <td>9384.0</td>\n",
       "      <td>18098.0</td>\n",
       "      <td>776.0</td>\n",
       "      <td>6706.0</td>\n",
       "      <td>2497.0</td>\n",
       "      <td>1805.0</td>\n",
       "      <td>...</td>\n",
       "      <td>8836.0</td>\n",
       "      <td>24319.0</td>\n",
       "      <td>4975.0</td>\n",
       "      <td>9821.0</td>\n",
       "      <td>3387.0</td>\n",
       "      <td>2536.0</td>\n",
       "      <td>35406.0</td>\n",
       "      <td>9078.0</td>\n",
       "      <td>26328.0</td>\n",
       "      <td>3821.0</td>\n",
       "    </tr>\n",
       "  </tbody>\n",
       "</table>\n",
       "<p>1 rows × 28 columns</p>\n",
       "</div>"
      ],
      "text/plain": [
       "         2015/12                                                         \\\n",
       "IFRS(연결)     매출액    영업이익   당기순이익       자산      부채       자본 영업활동으로인한현금흐름   \n",
       "firmcode                                                                  \n",
       "A068270   6034.0  2590.0  1583.0  27482.0  9384.0  18098.0        776.0   \n",
       "\n",
       "         2016/12                  ... 2017/12                       2018/12  \\\n",
       "IFRS(연결)     매출액    영업이익   당기순이익  ...      부채       자본 영업활동으로인한현금흐름     매출액   \n",
       "firmcode                          ...                                         \n",
       "A068270   6706.0  2497.0  1805.0  ...  8836.0  24319.0       4975.0  9821.0   \n",
       "\n",
       "                                                                 \n",
       "IFRS(연결)    영업이익   당기순이익       자산      부채       자본 영업활동으로인한현금흐름  \n",
       "firmcode                                                         \n",
       "A068270   3387.0  2536.0  35406.0  9078.0  26328.0       3821.0  \n",
       "\n",
       "[1 rows x 28 columns]"
      ]
     },
     "execution_count": 53,
     "metadata": {},
     "output_type": "execute_result"
    }
   ],
   "source": [
    "fs_data2"
   ]
  },
  {
   "cell_type": "markdown",
   "metadata": {},
   "source": [
    "## 두 주식에 대한 정보를 통합하기 "
   ]
  },
  {
   "cell_type": "markdown",
   "metadata": {},
   "source": [
    "### concat 함수를 이용해서 두개의 데이터 프레임을 행단위로 결합"
   ]
  },
  {
   "cell_type": "code",
   "execution_count": 54,
   "metadata": {},
   "outputs": [],
   "source": [
    "fs_t_data = pd.concat([fs_data1, fs_data2], axis=0)"
   ]
  },
  {
   "cell_type": "code",
   "execution_count": null,
   "metadata": {},
   "outputs": [],
   "source": []
  },
  {
   "cell_type": "code",
   "execution_count": 55,
   "metadata": {},
   "outputs": [
    {
     "data": {
      "text/html": [
       "<div>\n",
       "<style scoped>\n",
       "    .dataframe tbody tr th:only-of-type {\n",
       "        vertical-align: middle;\n",
       "    }\n",
       "\n",
       "    .dataframe tbody tr th {\n",
       "        vertical-align: top;\n",
       "    }\n",
       "\n",
       "    .dataframe thead tr th {\n",
       "        text-align: left;\n",
       "    }\n",
       "\n",
       "    .dataframe thead tr:last-of-type th {\n",
       "        text-align: right;\n",
       "    }\n",
       "</style>\n",
       "<table border=\"1\" class=\"dataframe\">\n",
       "  <thead>\n",
       "    <tr>\n",
       "      <th></th>\n",
       "      <th colspan=\"7\" halign=\"left\">2015/12</th>\n",
       "      <th colspan=\"3\" halign=\"left\">2016/12</th>\n",
       "      <th>...</th>\n",
       "      <th colspan=\"3\" halign=\"left\">2017/12</th>\n",
       "      <th colspan=\"7\" halign=\"left\">2018/12</th>\n",
       "    </tr>\n",
       "    <tr>\n",
       "      <th>IFRS(연결)</th>\n",
       "      <th>매출액</th>\n",
       "      <th>영업이익</th>\n",
       "      <th>당기순이익</th>\n",
       "      <th>자산</th>\n",
       "      <th>부채</th>\n",
       "      <th>자본</th>\n",
       "      <th>영업활동으로인한현금흐름</th>\n",
       "      <th>매출액</th>\n",
       "      <th>영업이익</th>\n",
       "      <th>당기순이익</th>\n",
       "      <th>...</th>\n",
       "      <th>부채</th>\n",
       "      <th>자본</th>\n",
       "      <th>영업활동으로인한현금흐름</th>\n",
       "      <th>매출액</th>\n",
       "      <th>영업이익</th>\n",
       "      <th>당기순이익</th>\n",
       "      <th>자산</th>\n",
       "      <th>부채</th>\n",
       "      <th>자본</th>\n",
       "      <th>영업활동으로인한현금흐름</th>\n",
       "    </tr>\n",
       "    <tr>\n",
       "      <th>firmcode</th>\n",
       "      <th></th>\n",
       "      <th></th>\n",
       "      <th></th>\n",
       "      <th></th>\n",
       "      <th></th>\n",
       "      <th></th>\n",
       "      <th></th>\n",
       "      <th></th>\n",
       "      <th></th>\n",
       "      <th></th>\n",
       "      <th></th>\n",
       "      <th></th>\n",
       "      <th></th>\n",
       "      <th></th>\n",
       "      <th></th>\n",
       "      <th></th>\n",
       "      <th></th>\n",
       "      <th></th>\n",
       "      <th></th>\n",
       "      <th></th>\n",
       "      <th></th>\n",
       "    </tr>\n",
       "  </thead>\n",
       "  <tbody>\n",
       "    <tr>\n",
       "      <th>A215600</th>\n",
       "      <td>18.0</td>\n",
       "      <td>-238.0</td>\n",
       "      <td>-559.0</td>\n",
       "      <td>1530.0</td>\n",
       "      <td>661.0</td>\n",
       "      <td>869.0</td>\n",
       "      <td>-224.0</td>\n",
       "      <td>53.0</td>\n",
       "      <td>-468.0</td>\n",
       "      <td>-740.0</td>\n",
       "      <td>...</td>\n",
       "      <td>330.0</td>\n",
       "      <td>2019.0</td>\n",
       "      <td>338.0</td>\n",
       "      <td>77.0</td>\n",
       "      <td>-590.0</td>\n",
       "      <td>-562.0</td>\n",
       "      <td>1932.0</td>\n",
       "      <td>281.0</td>\n",
       "      <td>1651.0</td>\n",
       "      <td>-484.0</td>\n",
       "    </tr>\n",
       "    <tr>\n",
       "      <th>A068270</th>\n",
       "      <td>6034.0</td>\n",
       "      <td>2590.0</td>\n",
       "      <td>1583.0</td>\n",
       "      <td>27482.0</td>\n",
       "      <td>9384.0</td>\n",
       "      <td>18098.0</td>\n",
       "      <td>776.0</td>\n",
       "      <td>6706.0</td>\n",
       "      <td>2497.0</td>\n",
       "      <td>1805.0</td>\n",
       "      <td>...</td>\n",
       "      <td>8836.0</td>\n",
       "      <td>24319.0</td>\n",
       "      <td>4975.0</td>\n",
       "      <td>9821.0</td>\n",
       "      <td>3387.0</td>\n",
       "      <td>2536.0</td>\n",
       "      <td>35406.0</td>\n",
       "      <td>9078.0</td>\n",
       "      <td>26328.0</td>\n",
       "      <td>3821.0</td>\n",
       "    </tr>\n",
       "  </tbody>\n",
       "</table>\n",
       "<p>2 rows × 28 columns</p>\n",
       "</div>"
      ],
      "text/plain": [
       "         2015/12                                                         \\\n",
       "IFRS(연결)     매출액    영업이익   당기순이익       자산      부채       자본 영업활동으로인한현금흐름   \n",
       "firmcode                                                                  \n",
       "A215600     18.0  -238.0  -559.0   1530.0   661.0    869.0       -224.0   \n",
       "A068270   6034.0  2590.0  1583.0  27482.0  9384.0  18098.0        776.0   \n",
       "\n",
       "         2016/12                  ... 2017/12                       2018/12  \\\n",
       "IFRS(연결)     매출액    영업이익   당기순이익  ...      부채       자본 영업활동으로인한현금흐름     매출액   \n",
       "firmcode                          ...                                         \n",
       "A215600     53.0  -468.0  -740.0  ...   330.0   2019.0        338.0    77.0   \n",
       "A068270   6706.0  2497.0  1805.0  ...  8836.0  24319.0       4975.0  9821.0   \n",
       "\n",
       "                                                                 \n",
       "IFRS(연결)    영업이익   당기순이익       자산      부채       자본 영업활동으로인한현금흐름  \n",
       "firmcode                                                         \n",
       "A215600   -590.0  -562.0   1932.0   281.0   1651.0       -484.0  \n",
       "A068270   3387.0  2536.0  35406.0  9078.0  26328.0       3821.0  \n",
       "\n",
       "[2 rows x 28 columns]"
      ]
     },
     "execution_count": 55,
     "metadata": {},
     "output_type": "execute_result"
    }
   ],
   "source": [
    "fs_t_data"
   ]
  },
  {
   "cell_type": "code",
   "execution_count": 36,
   "metadata": {},
   "outputs": [
    {
     "data": {
      "text/plain": [
       "MultiIndex(levels=[['2015/12', '2016/12', '2017/12', '2018/12'], ['당기순이익', '매출액', '부채', '영업이익', '영업활동으로인한현금흐름', '자본', '자산']],\n",
       "           codes=[[0, 0, 0, 0, 0, 0, 0, 1, 1, 1, 1, 1, 1, 1, 2, 2, 2, 2, 2, 2, 2, 3, 3, 3, 3, 3, 3, 3], [1, 3, 0, 6, 2, 5, 4, 1, 3, 0, 6, 2, 5, 4, 1, 3, 0, 6, 2, 5, 4, 1, 3, 0, 6, 2, 5, 4]],\n",
       "           names=[None, 'IFRS(연결)'])"
      ]
     },
     "execution_count": 36,
     "metadata": {},
     "output_type": "execute_result"
    }
   ],
   "source": [
    "fs_t_data.columns"
   ]
  },
  {
   "cell_type": "markdown",
   "metadata": {},
   "source": [
    "### 막대 그래프 그리기"
   ]
  },
  {
   "cell_type": "code",
   "execution_count": 37,
   "metadata": {
    "scrolled": true
   },
   "outputs": [
    {
     "data": {
      "text/plain": [
       "array([<matplotlib.axes._subplots.AxesSubplot object at 0x1a291dd080>],\n",
       "      dtype=object)"
      ]
     },
     "execution_count": 37,
     "metadata": {},
     "output_type": "execute_result"
    },
    {
     "data": {
      "image/png": "[encoded data removed]",
      "text/plain": [
       "<Figure size 432x288 with 1 Axes>"
      ]
     },
     "metadata": {
      "needs_background": "light"
     },
     "output_type": "display_data"
    }
   ],
   "source": [
    "fs_t_data.unstack().plot(kind='bar',subplots=True)"
   ]
  },
  {
   "cell_type": "markdown",
   "metadata": {},
   "source": [
    "### catplot 그래프 그리기"
   ]
  },
  {
   "cell_type": "code",
   "execution_count": 38,
   "metadata": {},
   "outputs": [
    {
     "name": "stdout",
     "output_type": "stream",
     "text": [
      "Help on function catplot in module seaborn.categorical:\n",
      "\n",
      "catplot(x=None, y=None, hue=None, data=None, row=None, col=None, col_wrap=None, estimator=<function mean at 0x117bb8400>, ci=95, n_boot=1000, units=None, order=None, hue_order=None, row_order=None, col_order=None, kind='strip', height=5, aspect=1, orient=None, color=None, palette=None, legend=True, legend_out=True, sharex=True, sharey=True, margin_titles=False, facet_kws=None, **kwargs)\n",
      "    Figure-level interface for drawing categorical plots onto a FacetGrid.\n",
      "    \n",
      "    This function provides access to several axes-level functions that\n",
      "    show the relationship between a numerical and one or more categorical\n",
      "    variables using one of several visual representations. The ``kind``\n",
      "    parameter selects the underlying axes-level function to use:\n",
      "    \n",
      "    Categorical scatterplots:\n",
      "    \n",
      "    - :func:`stripplot` (with ``kind=\"strip\"``; the default)\n",
      "    - :func:`swarmplot` (with ``kind=\"swarm\"``)\n",
      "    \n",
      "    Categorical distribution plots:\n",
      "    \n",
      "    - :func:`boxplot` (with ``kind=\"box\"``)\n",
      "    - :func:`violinplot` (with ``kind=\"violin\"``)\n",
      "    - :func:`boxenplot` (with ``kind=\"boxen\"``)\n",
      "    \n",
      "    Categorical estimate plots:\n",
      "    \n",
      "    - :func:`pointplot` (with ``kind=\"point\"``)\n",
      "    - :func:`barplot` (with ``kind=\"bar\"``)\n",
      "    - :func:`countplot` (with ``kind=\"count\"``)\n",
      "    \n",
      "    Extra keyword arguments are passed to the underlying function, so you\n",
      "    should refer to the documentation for each to see kind-specific options.\n",
      "    \n",
      "    Note that unlike when using the axes-level functions directly, data must be\n",
      "    passed in a long-form DataFrame with variables specified by passing strings\n",
      "    to ``x``, ``y``, ``hue``, etc.\n",
      "    \n",
      "    As in the case with the underlying plot functions, if variables have a\n",
      "    ``categorical`` data type, the the levels of the categorical variables, and\n",
      "    their order will be inferred from the objects. Otherwise you may have to\n",
      "    use alter the dataframe sorting or use the function parameters (``orient``,\n",
      "    ``order``, ``hue_order``, etc.) to set up the plot correctly.\n",
      "    \n",
      "    This function always treats one of the variables as categorical and\n",
      "    draws data at ordinal positions (0, 1, ... n) on the relevant axis, even\n",
      "    when the data has a numeric or date type.\n",
      "    \n",
      "    See the :ref:`tutorial <categorical_tutorial>` for more information.    \n",
      "    \n",
      "    After plotting, the :class:`FacetGrid` with the plot is returned and can\n",
      "    be used directly to tweak supporting plot details or add other layers.\n",
      "    \n",
      "    Parameters\n",
      "    ----------\n",
      "    x, y, hue : names of variables in ``data``\n",
      "        Inputs for plotting long-form data. See examples for interpretation.        \n",
      "    data : DataFrame\n",
      "        Long-form (tidy) dataset for plotting. Each column should correspond\n",
      "        to a variable, and each row should correspond to an observation.    \n",
      "    row, col : names of variables in ``data``, optional\n",
      "        Categorical variables that will determine the faceting of the grid.\n",
      "    col_wrap : int, optional\n",
      "        \"Wrap\" the column variable at this width, so that the column facets\n",
      "        span multiple rows. Incompatible with a ``row`` facet.    \n",
      "    estimator : callable that maps vector -> scalar, optional\n",
      "        Statistical function to estimate within each categorical bin.\n",
      "    ci : float or \"sd\" or None, optional\n",
      "        Size of confidence intervals to draw around estimated values.  If\n",
      "        \"sd\", skip bootstrapping and draw the standard deviation of the\n",
      "        observations. If ``None``, no bootstrapping will be performed, and\n",
      "        error bars will not be drawn.\n",
      "    n_boot : int, optional\n",
      "        Number of bootstrap iterations to use when computing confidence\n",
      "        intervals.\n",
      "    units : name of variable in ``data`` or vector data, optional\n",
      "        Identifier of sampling units, which will be used to perform a\n",
      "        multilevel bootstrap and account for repeated measures design.    \n",
      "    order, hue_order : lists of strings, optional\n",
      "        Order to plot the categorical levels in, otherwise the levels are\n",
      "        inferred from the data objects.        \n",
      "    row_order, col_order : lists of strings, optional\n",
      "        Order to organize the rows and/or columns of the grid in, otherwise the\n",
      "        orders are inferred from the data objects.\n",
      "    kind : string, optional\n",
      "        The kind of plot to draw (corresponds to the name of a categorical\n",
      "        plotting function. Options are: \"point\", \"bar\", \"strip\", \"swarm\",\n",
      "        \"box\", \"violin\", or \"boxen\".\n",
      "    height : scalar, optional\n",
      "        Height (in inches) of each facet. See also: ``aspect``.    \n",
      "    aspect : scalar, optional\n",
      "        Aspect ratio of each facet, so that ``aspect * height`` gives the width\n",
      "        of each facet in inches.    \n",
      "    orient : \"v\" | \"h\", optional\n",
      "        Orientation of the plot (vertical or horizontal). This is usually\n",
      "        inferred from the dtype of the input variables, but can be used to\n",
      "        specify when the \"categorical\" variable is a numeric or when plotting\n",
      "        wide-form data.    \n",
      "    color : matplotlib color, optional\n",
      "        Color for all of the elements, or seed for a gradient palette.    \n",
      "    palette : palette name, list, or dict, optional\n",
      "        Colors to use for the different levels of the ``hue`` variable. Should\n",
      "        be something that can be interpreted by :func:`color_palette`, or a\n",
      "        dictionary mapping hue levels to matplotlib colors.    \n",
      "    legend : bool, optional\n",
      "        If ``True`` and there is a ``hue`` variable, draw a legend on the plot.\n",
      "    legend_out : bool, optional\n",
      "        If ``True``, the figure size will be extended, and the legend will be\n",
      "        drawn outside the plot on the center right.    \n",
      "    share{x,y} : bool, 'col', or 'row' optional\n",
      "        If true, the facets will share y axes across columns and/or x axes\n",
      "        across rows.    \n",
      "    margin_titles : bool, optional\n",
      "        If ``True``, the titles for the row variable are drawn to the right of\n",
      "        the last column. This option is experimental and may not work in all\n",
      "        cases.    \n",
      "    facet_kws : dict, optional\n",
      "        Dictionary of other keyword arguments to pass to :class:`FacetGrid`.\n",
      "    kwargs : key, value pairings\n",
      "        Other keyword arguments are passed through to the underlying plotting\n",
      "        function.\n",
      "    \n",
      "    Returns\n",
      "    -------\n",
      "    g : :class:`FacetGrid`\n",
      "        Returns the :class:`FacetGrid` object with the plot on it for further\n",
      "        tweaking.\n",
      "    \n",
      "    Examples\n",
      "    --------\n",
      "    \n",
      "    Draw a single facet to use the :class:`FacetGrid` legend placement:\n",
      "    \n",
      "    .. plot::\n",
      "        :context: close-figs\n",
      "    \n",
      "        >>> import seaborn as sns\n",
      "        >>> sns.set(style=\"ticks\")\n",
      "        >>> exercise = sns.load_dataset(\"exercise\")\n",
      "        >>> g = sns.catplot(x=\"time\", y=\"pulse\", hue=\"kind\", data=exercise)\n",
      "    \n",
      "    Use a different plot kind to visualize the same data:\n",
      "    \n",
      "    .. plot::\n",
      "        :context: close-figs\n",
      "    \n",
      "        >>> g = sns.catplot(x=\"time\", y=\"pulse\", hue=\"kind\",\n",
      "        ...                data=exercise, kind=\"violin\")\n",
      "    \n",
      "    Facet along the columns to show a third categorical variable:\n",
      "    \n",
      "    .. plot::\n",
      "        :context: close-figs\n",
      "    \n",
      "        >>> g = sns.catplot(x=\"time\", y=\"pulse\", hue=\"kind\",\n",
      "        ...                 col=\"diet\", data=exercise)\n",
      "    \n",
      "    Use a different height and aspect ratio for the facets:\n",
      "    \n",
      "    .. plot::\n",
      "        :context: close-figs\n",
      "    \n",
      "        >>> g = sns.catplot(x=\"time\", y=\"pulse\", hue=\"kind\",\n",
      "        ...                 col=\"diet\", data=exercise,\n",
      "        ...                 height=5, aspect=.8)\n",
      "    \n",
      "    Make many column facets and wrap them into the rows of the grid:\n",
      "    \n",
      "    .. plot::\n",
      "        :context: close-figs\n",
      "    \n",
      "        >>> titanic = sns.load_dataset(\"titanic\")\n",
      "        >>> g = sns.catplot(\"alive\", col=\"deck\", col_wrap=4,\n",
      "        ...                 data=titanic[titanic.deck.notnull()],\n",
      "        ...                 kind=\"count\", height=2.5, aspect=.8)\n",
      "    \n",
      "    Plot horizontally and pass other keyword arguments to the plot function:\n",
      "    \n",
      "    .. plot::\n",
      "        :context: close-figs\n",
      "    \n",
      "        >>> g = sns.catplot(x=\"age\", y=\"embark_town\",\n",
      "        ...                 hue=\"sex\", row=\"class\",\n",
      "        ...                 data=titanic[titanic.embark_town.notnull()],\n",
      "        ...                 orient=\"h\", height=2, aspect=3, palette=\"Set3\",\n",
      "        ...                 kind=\"violin\", dodge=True, cut=0, bw=.2)\n",
      "    \n",
      "    Use methods on the returned :class:`FacetGrid` to tweak the presentation:\n",
      "    \n",
      "    .. plot::\n",
      "        :context: close-figs\n",
      "    \n",
      "        >>> g = sns.catplot(x=\"who\", y=\"survived\", col=\"class\",\n",
      "        ...                 data=titanic, saturation=.5,\n",
      "        ...                 kind=\"bar\", ci=None, aspect=.6)\n",
      "        >>> (g.set_axis_labels(\"\", \"Survival Rate\")\n",
      "        ...   .set_xticklabels([\"Men\", \"Women\", \"Children\"])\n",
      "        ...   .set_titles(\"{col_name} {col_var}\")\n",
      "        ...   .set(ylim=(0, 1))\n",
      "        ...   .despine(left=True))  #doctest: +ELLIPSIS\n",
      "        <seaborn.axisgrid.FacetGrid object at 0x...>\n",
      "\n"
     ]
    }
   ],
   "source": [
    "help(sns.catplot)"
   ]
  },
  {
   "cell_type": "code",
   "execution_count": 59,
   "metadata": {},
   "outputs": [
    {
     "data": {
      "text/html": [
       "<div>\n",
       "<style scoped>\n",
       "    .dataframe tbody tr th:only-of-type {\n",
       "        vertical-align: middle;\n",
       "    }\n",
       "\n",
       "    .dataframe tbody tr th {\n",
       "        vertical-align: top;\n",
       "    }\n",
       "\n",
       "    .dataframe thead th {\n",
       "        text-align: right;\n",
       "    }\n",
       "</style>\n",
       "<table border=\"1\" class=\"dataframe\">\n",
       "  <thead>\n",
       "    <tr style=\"text-align: right;\">\n",
       "      <th>IFRS(연결)</th>\n",
       "      <th>매출액</th>\n",
       "      <th>영업이익</th>\n",
       "      <th>당기순이익</th>\n",
       "      <th>자산</th>\n",
       "      <th>부채</th>\n",
       "      <th>자본</th>\n",
       "      <th>영업활동으로인한현금흐름</th>\n",
       "    </tr>\n",
       "    <tr>\n",
       "      <th>firmcode</th>\n",
       "      <th></th>\n",
       "      <th></th>\n",
       "      <th></th>\n",
       "      <th></th>\n",
       "      <th></th>\n",
       "      <th></th>\n",
       "      <th></th>\n",
       "    </tr>\n",
       "  </thead>\n",
       "  <tbody>\n",
       "    <tr>\n",
       "      <th>A215600</th>\n",
       "      <td>18.0</td>\n",
       "      <td>-238.0</td>\n",
       "      <td>-559.0</td>\n",
       "      <td>1530.0</td>\n",
       "      <td>661.0</td>\n",
       "      <td>869.0</td>\n",
       "      <td>-224.0</td>\n",
       "    </tr>\n",
       "    <tr>\n",
       "      <th>A068270</th>\n",
       "      <td>6034.0</td>\n",
       "      <td>2590.0</td>\n",
       "      <td>1583.0</td>\n",
       "      <td>27482.0</td>\n",
       "      <td>9384.0</td>\n",
       "      <td>18098.0</td>\n",
       "      <td>776.0</td>\n",
       "    </tr>\n",
       "  </tbody>\n",
       "</table>\n",
       "</div>"
      ],
      "text/plain": [
       "IFRS(연결)     매출액    영업이익   당기순이익       자산      부채       자본  영업활동으로인한현금흐름\n",
       "firmcode                                                                \n",
       "A215600     18.0  -238.0  -559.0   1530.0   661.0    869.0        -224.0\n",
       "A068270   6034.0  2590.0  1583.0  27482.0  9384.0  18098.0         776.0"
      ]
     },
     "execution_count": 59,
     "metadata": {},
     "output_type": "execute_result"
    }
   ],
   "source": [
    "fs_t_data['2015/12']"
   ]
  },
  {
   "cell_type": "markdown",
   "metadata": {},
   "source": [
    "#### 범주형 스캐터 그래프를 이용 "
   ]
  },
  {
   "cell_type": "code",
   "execution_count": 63,
   "metadata": {},
   "outputs": [
    {
     "data": {
      "image/png": "[encoded data removed]",
      "text/plain": [
       "<Figure size 436.475x360 with 1 Axes>"
      ]
     },
     "metadata": {},
     "output_type": "display_data"
    }
   ],
   "source": [
    "import seaborn as sns\n",
    "sns.set(style=\"ticks\")\n",
    "exercise = sns.load_dataset(\"exercise\")\n",
    "g = sns.catplot(x=\"time\", y=\"pulse\", hue=\"kind\",kind=\"bar\", data=exercise)"
   ]
  },
  {
   "cell_type": "code",
   "execution_count": 62,
   "metadata": {},
   "outputs": [
    {
     "data": {
      "text/html": [
       "<div>\n",
       "<style scoped>\n",
       "    .dataframe tbody tr th:only-of-type {\n",
       "        vertical-align: middle;\n",
       "    }\n",
       "\n",
       "    .dataframe tbody tr th {\n",
       "        vertical-align: top;\n",
       "    }\n",
       "\n",
       "    .dataframe thead th {\n",
       "        text-align: right;\n",
       "    }\n",
       "</style>\n",
       "<table border=\"1\" class=\"dataframe\">\n",
       "  <thead>\n",
       "    <tr style=\"text-align: right;\">\n",
       "      <th></th>\n",
       "      <th>Unnamed: 0</th>\n",
       "      <th>id</th>\n",
       "      <th>diet</th>\n",
       "      <th>pulse</th>\n",
       "      <th>time</th>\n",
       "      <th>kind</th>\n",
       "    </tr>\n",
       "  </thead>\n",
       "  <tbody>\n",
       "    <tr>\n",
       "      <th>0</th>\n",
       "      <td>0</td>\n",
       "      <td>1</td>\n",
       "      <td>low fat</td>\n",
       "      <td>85</td>\n",
       "      <td>1 min</td>\n",
       "      <td>rest</td>\n",
       "    </tr>\n",
       "    <tr>\n",
       "      <th>1</th>\n",
       "      <td>1</td>\n",
       "      <td>1</td>\n",
       "      <td>low fat</td>\n",
       "      <td>85</td>\n",
       "      <td>15 min</td>\n",
       "      <td>rest</td>\n",
       "    </tr>\n",
       "    <tr>\n",
       "      <th>2</th>\n",
       "      <td>2</td>\n",
       "      <td>1</td>\n",
       "      <td>low fat</td>\n",
       "      <td>88</td>\n",
       "      <td>30 min</td>\n",
       "      <td>rest</td>\n",
       "    </tr>\n",
       "    <tr>\n",
       "      <th>3</th>\n",
       "      <td>3</td>\n",
       "      <td>2</td>\n",
       "      <td>low fat</td>\n",
       "      <td>90</td>\n",
       "      <td>1 min</td>\n",
       "      <td>rest</td>\n",
       "    </tr>\n",
       "    <tr>\n",
       "      <th>4</th>\n",
       "      <td>4</td>\n",
       "      <td>2</td>\n",
       "      <td>low fat</td>\n",
       "      <td>92</td>\n",
       "      <td>15 min</td>\n",
       "      <td>rest</td>\n",
       "    </tr>\n",
       "  </tbody>\n",
       "</table>\n",
       "</div>"
      ],
      "text/plain": [
       "   Unnamed: 0  id     diet  pulse    time  kind\n",
       "0           0   1  low fat     85   1 min  rest\n",
       "1           1   1  low fat     85  15 min  rest\n",
       "2           2   1  low fat     88  30 min  rest\n",
       "3           3   2  low fat     90   1 min  rest\n",
       "4           4   2  low fat     92  15 min  rest"
      ]
     },
     "execution_count": 62,
     "metadata": {},
     "output_type": "execute_result"
    }
   ],
   "source": [
    "exercise.head()"
   ]
  },
  {
   "cell_type": "markdown",
   "metadata": {},
   "source": [
    "### 특정 주식의 특정연도 재무정보로 그래프를 그림"
   ]
  },
  {
   "cell_type": "code",
   "execution_count": 75,
   "metadata": {},
   "outputs": [
    {
     "data": {
      "text/html": [
       "<div>\n",
       "<style scoped>\n",
       "    .dataframe tbody tr th:only-of-type {\n",
       "        vertical-align: middle;\n",
       "    }\n",
       "\n",
       "    .dataframe tbody tr th {\n",
       "        vertical-align: top;\n",
       "    }\n",
       "\n",
       "    .dataframe thead tr th {\n",
       "        text-align: left;\n",
       "    }\n",
       "</style>\n",
       "<table border=\"1\" class=\"dataframe\">\n",
       "  <thead>\n",
       "    <tr>\n",
       "      <th></th>\n",
       "      <th colspan=\"7\" halign=\"left\">2015/12</th>\n",
       "    </tr>\n",
       "    <tr>\n",
       "      <th>IFRS(연결)</th>\n",
       "      <th>매출액</th>\n",
       "      <th>영업이익</th>\n",
       "      <th>당기순이익</th>\n",
       "      <th>자산</th>\n",
       "      <th>부채</th>\n",
       "      <th>자본</th>\n",
       "      <th>영업활동으로인한현금흐름</th>\n",
       "    </tr>\n",
       "  </thead>\n",
       "  <tbody>\n",
       "    <tr>\n",
       "      <th>A215600</th>\n",
       "      <td>18.0</td>\n",
       "      <td>-238.0</td>\n",
       "      <td>-559.0</td>\n",
       "      <td>1530.0</td>\n",
       "      <td>661.0</td>\n",
       "      <td>869.0</td>\n",
       "      <td>-224.0</td>\n",
       "    </tr>\n",
       "  </tbody>\n",
       "</table>\n",
       "</div>"
      ],
      "text/plain": [
       "         2015/12                                                 \n",
       "IFRS(연결)     매출액   영업이익  당기순이익      자산     부채     자본 영업활동으로인한현금흐름\n",
       "A215600     18.0 -238.0 -559.0  1530.0  661.0  869.0       -224.0"
      ]
     },
     "execution_count": 75,
     "metadata": {},
     "output_type": "execute_result"
    }
   ],
   "source": [
    "fs_t_data.loc[\"A215600\",['2015/12']].to_frame().T"
   ]
  },
  {
   "cell_type": "code",
   "execution_count": 76,
   "metadata": {},
   "outputs": [
    {
     "data": {
      "image/png": "[encoded data removed]",
      "text/plain": [
       "<Figure size 720x720 with 1 Axes>"
      ]
     },
     "metadata": {},
     "output_type": "display_data"
    }
   ],
   "source": [
    "fg_one = sns.catplot(data=fs_t_data.loc[\"A215600\",['2015/12']].to_frame().T , kind='bar',height=10)"
   ]
  },
  {
   "cell_type": "code",
   "execution_count": 78,
   "metadata": {},
   "outputs": [
    {
     "data": {
      "text/html": [
       "<div>\n",
       "<style scoped>\n",
       "    .dataframe tbody tr th:only-of-type {\n",
       "        vertical-align: middle;\n",
       "    }\n",
       "\n",
       "    .dataframe tbody tr th {\n",
       "        vertical-align: top;\n",
       "    }\n",
       "\n",
       "    .dataframe thead th {\n",
       "        text-align: right;\n",
       "    }\n",
       "</style>\n",
       "<table border=\"1\" class=\"dataframe\">\n",
       "  <thead>\n",
       "    <tr style=\"text-align: right;\">\n",
       "      <th></th>\n",
       "      <th>firmcode</th>\n",
       "      <th>A215600</th>\n",
       "      <th>A068270</th>\n",
       "    </tr>\n",
       "    <tr>\n",
       "      <th></th>\n",
       "      <th>IFRS(연결)</th>\n",
       "      <th></th>\n",
       "      <th></th>\n",
       "    </tr>\n",
       "  </thead>\n",
       "  <tbody>\n",
       "    <tr>\n",
       "      <th rowspan=\"7\" valign=\"top\">2015/12</th>\n",
       "      <th>매출액</th>\n",
       "      <td>18.0</td>\n",
       "      <td>6034.0</td>\n",
       "    </tr>\n",
       "    <tr>\n",
       "      <th>영업이익</th>\n",
       "      <td>-238.0</td>\n",
       "      <td>2590.0</td>\n",
       "    </tr>\n",
       "    <tr>\n",
       "      <th>당기순이익</th>\n",
       "      <td>-559.0</td>\n",
       "      <td>1583.0</td>\n",
       "    </tr>\n",
       "    <tr>\n",
       "      <th>자산</th>\n",
       "      <td>1530.0</td>\n",
       "      <td>27482.0</td>\n",
       "    </tr>\n",
       "    <tr>\n",
       "      <th>부채</th>\n",
       "      <td>661.0</td>\n",
       "      <td>9384.0</td>\n",
       "    </tr>\n",
       "    <tr>\n",
       "      <th>자본</th>\n",
       "      <td>869.0</td>\n",
       "      <td>18098.0</td>\n",
       "    </tr>\n",
       "    <tr>\n",
       "      <th>영업활동으로인한현금흐름</th>\n",
       "      <td>-224.0</td>\n",
       "      <td>776.0</td>\n",
       "    </tr>\n",
       "  </tbody>\n",
       "</table>\n",
       "</div>"
      ],
      "text/plain": [
       "firmcode              A215600  A068270\n",
       "        IFRS(연결)                      \n",
       "2015/12 매출액              18.0   6034.0\n",
       "        영업이익           -238.0   2590.0\n",
       "        당기순이익          -559.0   1583.0\n",
       "        자산             1530.0  27482.0\n",
       "        부채              661.0   9384.0\n",
       "        자본              869.0  18098.0\n",
       "        영업활동으로인한현금흐름   -224.0    776.0"
      ]
     },
     "execution_count": 78,
     "metadata": {},
     "output_type": "execute_result"
    }
   ],
   "source": [
    "fs_t_data[['2015/12']].T"
   ]
  },
  {
   "cell_type": "code",
   "execution_count": 84,
   "metadata": {},
   "outputs": [],
   "source": [
    "ff = fs_t_data['2015/12','매출액'].T.to_frame()"
   ]
  },
  {
   "cell_type": "code",
   "execution_count": 85,
   "metadata": {},
   "outputs": [
    {
     "data": {
      "text/html": [
       "<div>\n",
       "<style scoped>\n",
       "    .dataframe tbody tr th:only-of-type {\n",
       "        vertical-align: middle;\n",
       "    }\n",
       "\n",
       "    .dataframe tbody tr th {\n",
       "        vertical-align: top;\n",
       "    }\n",
       "\n",
       "    .dataframe thead tr th {\n",
       "        text-align: left;\n",
       "    }\n",
       "\n",
       "    .dataframe thead tr:last-of-type th {\n",
       "        text-align: right;\n",
       "    }\n",
       "</style>\n",
       "<table border=\"1\" class=\"dataframe\">\n",
       "  <thead>\n",
       "    <tr>\n",
       "      <th></th>\n",
       "      <th>2015/12</th>\n",
       "    </tr>\n",
       "    <tr>\n",
       "      <th></th>\n",
       "      <th>매출액</th>\n",
       "    </tr>\n",
       "    <tr>\n",
       "      <th>firmcode</th>\n",
       "      <th></th>\n",
       "    </tr>\n",
       "  </thead>\n",
       "  <tbody>\n",
       "    <tr>\n",
       "      <th>A215600</th>\n",
       "      <td>18.0</td>\n",
       "    </tr>\n",
       "    <tr>\n",
       "      <th>A068270</th>\n",
       "      <td>6034.0</td>\n",
       "    </tr>\n",
       "  </tbody>\n",
       "</table>\n",
       "</div>"
      ],
      "text/plain": [
       "         2015/12\n",
       "             매출액\n",
       "firmcode        \n",
       "A215600     18.0\n",
       "A068270   6034.0"
      ]
     },
     "execution_count": 85,
     "metadata": {},
     "output_type": "execute_result"
    }
   ],
   "source": [
    "ff"
   ]
  },
  {
   "cell_type": "markdown",
   "metadata": {},
   "source": [
    "### 하나의 칼럼으로 변경하고 막대그래프 그리기"
   ]
  },
  {
   "cell_type": "code",
   "execution_count": 93,
   "metadata": {},
   "outputs": [],
   "source": [
    "ff.columns = ['2015/12매출액']"
   ]
  },
  {
   "cell_type": "code",
   "execution_count": 94,
   "metadata": {},
   "outputs": [
    {
     "data": {
      "text/plain": [
       "<matplotlib.axes._subplots.AxesSubplot at 0x1a2e243198>"
      ]
     },
     "execution_count": 94,
     "metadata": {},
     "output_type": "execute_result"
    },
    {
     "data": {
      "image/png": "[encoded data removed]",
      "text/plain": [
       "<Figure size 432x288 with 1 Axes>"
      ]
     },
     "metadata": {},
     "output_type": "display_data"
    }
   ],
   "source": [
    "ff.plot(kind='bar')"
   ]
  },
  {
   "cell_type": "markdown",
   "metadata": {},
   "source": [
    "### 막대는 평균 직선은 최대값을 표시"
   ]
  },
  {
   "cell_type": "code",
   "execution_count": 90,
   "metadata": {},
   "outputs": [
    {
     "data": {
      "image/png": "[encoded data removed]",
      "text/plain": [
       "<Figure size 720x720 with 1 Axes>"
      ]
     },
     "metadata": {},
     "output_type": "display_data"
    }
   ],
   "source": [
    "fg = sns.catplot(data=ff, kind='bar',height=10)"
   ]
  },
  {
   "cell_type": "markdown",
   "metadata": {},
   "source": [
    "### 두 종목을 막대그래프를 이용해서 재무정보를 비교 "
   ]
  },
  {
   "cell_type": "code",
   "execution_count": 97,
   "metadata": {},
   "outputs": [
    {
     "data": {
      "text/plain": [
       "<matplotlib.legend.Legend at 0x1a305fbbe0>"
      ]
     },
     "execution_count": 97,
     "metadata": {},
     "output_type": "execute_result"
    },
    {
     "data": {
      "image/png": "[encoded data removed]",
      "text/plain": [
       "<Figure size 432x288 with 1 Axes>"
      ]
     },
     "metadata": {},
     "output_type": "display_data"
    }
   ],
   "source": [
    "fs_t_data[['2015/12','2016/12']].plot(kind='bar')\n",
    "plt.legend(bbox_to_anchor=(1.0, 1.0))"
   ]
  },
  {
   "cell_type": "markdown",
   "metadata": {},
   "source": [
    "### 범주형 그래프를 이용해서 두 정보를 비교 "
   ]
  },
  {
   "cell_type": "code",
   "execution_count": 40,
   "metadata": {},
   "outputs": [
    {
     "data": {
      "image/png": "[encoded data removed]",
      "text/plain": [
       "<Figure size 720x720 with 1 Axes>"
      ]
     },
     "metadata": {
      "needs_background": "light"
     },
     "output_type": "display_data"
    }
   ],
   "source": [
    "fg = sns.catplot(data=fs_t_data[['2015/12','2016/12']], kind='bar',height=10)"
   ]
  },
  {
   "cell_type": "markdown",
   "metadata": {},
   "source": [
    "### 기업을 기준으로 비교 "
   ]
  },
  {
   "cell_type": "code",
   "execution_count": 41,
   "metadata": {},
   "outputs": [],
   "source": [
    "x = fs_t_data.iloc[:, :6]"
   ]
  },
  {
   "cell_type": "code",
   "execution_count": 42,
   "metadata": {},
   "outputs": [],
   "source": [
    "x = x.unstack()"
   ]
  },
  {
   "cell_type": "code",
   "execution_count": 43,
   "metadata": {},
   "outputs": [],
   "source": [
    "x = x.unstack(level=2)"
   ]
  },
  {
   "cell_type": "code",
   "execution_count": 44,
   "metadata": {},
   "outputs": [
    {
     "data": {
      "text/html": [
       "<div>\n",
       "<style scoped>\n",
       "    .dataframe tbody tr th:only-of-type {\n",
       "        vertical-align: middle;\n",
       "    }\n",
       "\n",
       "    .dataframe tbody tr th {\n",
       "        vertical-align: top;\n",
       "    }\n",
       "\n",
       "    .dataframe thead th {\n",
       "        text-align: right;\n",
       "    }\n",
       "</style>\n",
       "<table border=\"1\" class=\"dataframe\">\n",
       "  <thead>\n",
       "    <tr style=\"text-align: right;\">\n",
       "      <th></th>\n",
       "      <th>firmcode</th>\n",
       "      <th>A215600</th>\n",
       "      <th>A068270</th>\n",
       "    </tr>\n",
       "    <tr>\n",
       "      <th></th>\n",
       "      <th>IFRS(연결)</th>\n",
       "      <th></th>\n",
       "      <th></th>\n",
       "    </tr>\n",
       "  </thead>\n",
       "  <tbody>\n",
       "    <tr>\n",
       "      <th rowspan=\"5\" valign=\"top\">2015/12</th>\n",
       "      <th>매출액</th>\n",
       "      <td>18.0</td>\n",
       "      <td>6034.0</td>\n",
       "    </tr>\n",
       "    <tr>\n",
       "      <th>영업이익</th>\n",
       "      <td>-238.0</td>\n",
       "      <td>2590.0</td>\n",
       "    </tr>\n",
       "    <tr>\n",
       "      <th>당기순이익</th>\n",
       "      <td>-559.0</td>\n",
       "      <td>1583.0</td>\n",
       "    </tr>\n",
       "    <tr>\n",
       "      <th>자산</th>\n",
       "      <td>1530.0</td>\n",
       "      <td>27482.0</td>\n",
       "    </tr>\n",
       "    <tr>\n",
       "      <th>부채</th>\n",
       "      <td>661.0</td>\n",
       "      <td>9384.0</td>\n",
       "    </tr>\n",
       "  </tbody>\n",
       "</table>\n",
       "</div>"
      ],
      "text/plain": [
       "firmcode          A215600  A068270\n",
       "        IFRS(연결)                  \n",
       "2015/12 매출액          18.0   6034.0\n",
       "        영업이익       -238.0   2590.0\n",
       "        당기순이익      -559.0   1583.0\n",
       "        자산         1530.0  27482.0\n",
       "        부채          661.0   9384.0"
      ]
     },
     "execution_count": 44,
     "metadata": {},
     "output_type": "execute_result"
    }
   ],
   "source": [
    "x.head()"
   ]
  },
  {
   "cell_type": "code",
   "execution_count": 45,
   "metadata": {},
   "outputs": [
    {
     "data": {
      "image/png": "[encoded data removed]",
      "text/plain": [
       "<Figure size 720x720 with 1 Axes>"
      ]
     },
     "metadata": {
      "needs_background": "light"
     },
     "output_type": "display_data"
    }
   ],
   "source": [
    "fg = sns.catplot(data=x, kind='bar',height=10)"
   ]
  },
  {
   "cell_type": "code",
   "execution_count": null,
   "metadata": {},
   "outputs": [],
   "source": []
  }
 ],
 "metadata": {
  "kernelspec": {
   "display_name": "Python 3",
   "language": "python",
   "name": "python3"
  },
  "language_info": {
   "codemirror_mode": {
    "name": "ipython",
    "version": 3
   },
   "file_extension": ".py",
   "mimetype": "text/x-python",
   "name": "python",
   "nbconvert_exporter": "python",
   "pygments_lexer": "ipython3",
   "version": "3.7.3"
  }
 },
 "nbformat": 4,
 "nbformat_minor": 2
}
