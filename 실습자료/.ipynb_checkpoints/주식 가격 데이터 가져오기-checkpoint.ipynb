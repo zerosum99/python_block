{
 "cells": [
  {
   "cell_type": "markdown",
   "metadata": {},
   "source": [
    "## 예제 10-3-1 주식 가격 데이터 처리"
   ]
  },
  {
   "cell_type": "code",
   "execution_count": null,
   "metadata": {},
   "outputs": [],
   "source": []
  },
  {
   "cell_type": "code",
   "execution_count": 1,
   "metadata": {},
   "outputs": [],
   "source": [
    "import pandas as pd"
   ]
  },
  {
   "cell_type": "code",
   "execution_count": null,
   "metadata": {},
   "outputs": [],
   "source": []
  },
  {
   "cell_type": "code",
   "execution_count": 2,
   "metadata": {},
   "outputs": [],
   "source": [
    "import FinanceDataReader as fdr"
   ]
  },
  {
   "cell_type": "code",
   "execution_count": 3,
   "metadata": {},
   "outputs": [
    {
     "data": {
      "text/plain": [
       "'0.7.2'"
      ]
     },
     "execution_count": 3,
     "metadata": {},
     "output_type": "execute_result"
    }
   ],
   "source": [
    "fdr.__version__"
   ]
  },
  {
   "cell_type": "markdown",
   "metadata": {},
   "source": [
    "###   차트 설정"
   ]
  },
  {
   "cell_type": "code",
   "execution_count": 5,
   "metadata": {},
   "outputs": [],
   "source": [
    "%matplotlib inline\n",
    "import matplotlib.pyplot as plt\n",
    "\n",
    "plt.rcParams[\"font.family\"] =  \"Malgun Gothic\"\n",
    "plt.rcParams[\"figure.figsize\"] = (14,4)\n",
    "plt.rcParams['lines.linewidth'] = 2\n",
    "plt.rcParams[\"axes.grid\"] = True"
   ]
  },
  {
   "cell_type": "code",
   "execution_count": null,
   "metadata": {},
   "outputs": [],
   "source": []
  },
  {
   "cell_type": "code",
   "execution_count": null,
   "metadata": {},
   "outputs": [],
   "source": []
  },
  {
   "cell_type": "code",
   "execution_count": 4,
   "metadata": {},
   "outputs": [],
   "source": [
    "df_kosdaq = fdr.StockListing('KOSDAQ')"
   ]
  },
  {
   "cell_type": "code",
   "execution_count": 5,
   "metadata": {},
   "outputs": [
    {
     "data": {
      "text/plain": [
       "(1326, 4)"
      ]
     },
     "execution_count": 5,
     "metadata": {},
     "output_type": "execute_result"
    }
   ],
   "source": [
    "df_kosdaq.shape"
   ]
  },
  {
   "cell_type": "code",
   "execution_count": null,
   "metadata": {},
   "outputs": [],
   "source": []
  },
  {
   "cell_type": "markdown",
   "metadata": {},
   "source": [
    "# 신라젠, 2018년\n",
    "\n",
    "\n",
    "    가격 데이터 - 국내주식\n",
    "    단축 코드(6자리)를 사용.\n",
    "\n",
    "    코스피 종목: 068270(셀트리온), 005380(현대차) 등\n",
    "    코스닥 종목: 215600(신라젠), 151910(나노스) 등"
   ]
  },
  {
   "cell_type": "code",
   "execution_count": 6,
   "metadata": {},
   "outputs": [],
   "source": [
    "item_name = \"셀트리온헬스케어\""
   ]
  },
  {
   "cell_type": "code",
   "execution_count": 8,
   "metadata": {},
   "outputs": [
    {
     "data": {
      "text/html": [
       "<div>\n",
       "<style scoped>\n",
       "    .dataframe tbody tr th:only-of-type {\n",
       "        vertical-align: middle;\n",
       "    }\n",
       "\n",
       "    .dataframe tbody tr th {\n",
       "        vertical-align: top;\n",
       "    }\n",
       "\n",
       "    .dataframe thead th {\n",
       "        text-align: right;\n",
       "    }\n",
       "</style>\n",
       "<table border=\"1\" class=\"dataframe\">\n",
       "  <thead>\n",
       "    <tr style=\"text-align: right;\">\n",
       "      <th></th>\n",
       "      <th>Symbol</th>\n",
       "      <th>Name</th>\n",
       "    </tr>\n",
       "  </thead>\n",
       "  <tbody>\n",
       "    <tr>\n",
       "      <th>53</th>\n",
       "      <td>091990</td>\n",
       "      <td>셀트리온헬스케어</td>\n",
       "    </tr>\n",
       "  </tbody>\n",
       "</table>\n",
       "</div>"
      ],
      "text/plain": [
       "    Symbol      Name\n",
       "53  091990  셀트리온헬스케어"
      ]
     },
     "execution_count": 8,
     "metadata": {},
     "output_type": "execute_result"
    }
   ],
   "source": [
    "df_kosdaq.query(\"Name=='{}'\".format(item_name))[['Symbol','Name']]"
   ]
  },
  {
   "cell_type": "code",
   "execution_count": null,
   "metadata": {},
   "outputs": [],
   "source": []
  },
  {
   "cell_type": "code",
   "execution_count": 9,
   "metadata": {},
   "outputs": [],
   "source": [
    "code = df_kosdaq.query(\"Name=='{}'\".format(item_name))['Symbol'].to_string(index=False).strip()"
   ]
  },
  {
   "cell_type": "code",
   "execution_count": 10,
   "metadata": {},
   "outputs": [
    {
     "data": {
      "text/plain": [
       "'091990'"
      ]
     },
     "execution_count": 10,
     "metadata": {},
     "output_type": "execute_result"
    }
   ],
   "source": [
    "code"
   ]
  },
  {
   "cell_type": "code",
   "execution_count": 11,
   "metadata": {},
   "outputs": [],
   "source": [
    "df = fdr.DataReader(code, '2019')"
   ]
  },
  {
   "cell_type": "code",
   "execution_count": 12,
   "metadata": {},
   "outputs": [
    {
     "data": {
      "text/html": [
       "<div>\n",
       "<style scoped>\n",
       "    .dataframe tbody tr th:only-of-type {\n",
       "        vertical-align: middle;\n",
       "    }\n",
       "\n",
       "    .dataframe tbody tr th {\n",
       "        vertical-align: top;\n",
       "    }\n",
       "\n",
       "    .dataframe thead th {\n",
       "        text-align: right;\n",
       "    }\n",
       "</style>\n",
       "<table border=\"1\" class=\"dataframe\">\n",
       "  <thead>\n",
       "    <tr style=\"text-align: right;\">\n",
       "      <th></th>\n",
       "      <th>Open</th>\n",
       "      <th>High</th>\n",
       "      <th>Low</th>\n",
       "      <th>Close</th>\n",
       "      <th>Volume</th>\n",
       "      <th>Change</th>\n",
       "    </tr>\n",
       "    <tr>\n",
       "      <th>Date</th>\n",
       "      <th></th>\n",
       "      <th></th>\n",
       "      <th></th>\n",
       "      <th></th>\n",
       "      <th></th>\n",
       "      <th></th>\n",
       "    </tr>\n",
       "  </thead>\n",
       "  <tbody>\n",
       "    <tr>\n",
       "      <th>2019-01-02</th>\n",
       "      <td>76500</td>\n",
       "      <td>77300</td>\n",
       "      <td>72500</td>\n",
       "      <td>72500</td>\n",
       "      <td>876842</td>\n",
       "      <td>-0.037185</td>\n",
       "    </tr>\n",
       "    <tr>\n",
       "      <th>2019-01-03</th>\n",
       "      <td>72300</td>\n",
       "      <td>74200</td>\n",
       "      <td>70900</td>\n",
       "      <td>71600</td>\n",
       "      <td>841445</td>\n",
       "      <td>-0.012414</td>\n",
       "    </tr>\n",
       "    <tr>\n",
       "      <th>2019-01-04</th>\n",
       "      <td>72500</td>\n",
       "      <td>75100</td>\n",
       "      <td>71000</td>\n",
       "      <td>74600</td>\n",
       "      <td>996376</td>\n",
       "      <td>0.041899</td>\n",
       "    </tr>\n",
       "    <tr>\n",
       "      <th>2019-01-07</th>\n",
       "      <td>77200</td>\n",
       "      <td>78800</td>\n",
       "      <td>74000</td>\n",
       "      <td>74900</td>\n",
       "      <td>1063491</td>\n",
       "      <td>0.004021</td>\n",
       "    </tr>\n",
       "    <tr>\n",
       "      <th>2019-01-08</th>\n",
       "      <td>75100</td>\n",
       "      <td>75200</td>\n",
       "      <td>72300</td>\n",
       "      <td>73200</td>\n",
       "      <td>618983</td>\n",
       "      <td>-0.022697</td>\n",
       "    </tr>\n",
       "    <tr>\n",
       "      <th>2019-01-09</th>\n",
       "      <td>73400</td>\n",
       "      <td>74100</td>\n",
       "      <td>71500</td>\n",
       "      <td>73500</td>\n",
       "      <td>727455</td>\n",
       "      <td>0.004098</td>\n",
       "    </tr>\n",
       "    <tr>\n",
       "      <th>2019-01-10</th>\n",
       "      <td>73400</td>\n",
       "      <td>75100</td>\n",
       "      <td>73100</td>\n",
       "      <td>73900</td>\n",
       "      <td>793024</td>\n",
       "      <td>0.005442</td>\n",
       "    </tr>\n",
       "    <tr>\n",
       "      <th>2019-01-11</th>\n",
       "      <td>74200</td>\n",
       "      <td>74600</td>\n",
       "      <td>73000</td>\n",
       "      <td>73500</td>\n",
       "      <td>388093</td>\n",
       "      <td>-0.005413</td>\n",
       "    </tr>\n",
       "    <tr>\n",
       "      <th>2019-01-14</th>\n",
       "      <td>72800</td>\n",
       "      <td>72800</td>\n",
       "      <td>71000</td>\n",
       "      <td>71100</td>\n",
       "      <td>572651</td>\n",
       "      <td>-0.032653</td>\n",
       "    </tr>\n",
       "    <tr>\n",
       "      <th>2019-01-15</th>\n",
       "      <td>71400</td>\n",
       "      <td>71800</td>\n",
       "      <td>68500</td>\n",
       "      <td>69100</td>\n",
       "      <td>1101050</td>\n",
       "      <td>-0.028129</td>\n",
       "    </tr>\n",
       "  </tbody>\n",
       "</table>\n",
       "</div>"
      ],
      "text/plain": [
       "             Open   High    Low  Close   Volume    Change\n",
       "Date                                                     \n",
       "2019-01-02  76500  77300  72500  72500   876842 -0.037185\n",
       "2019-01-03  72300  74200  70900  71600   841445 -0.012414\n",
       "2019-01-04  72500  75100  71000  74600   996376  0.041899\n",
       "2019-01-07  77200  78800  74000  74900  1063491  0.004021\n",
       "2019-01-08  75100  75200  72300  73200   618983 -0.022697\n",
       "2019-01-09  73400  74100  71500  73500   727455  0.004098\n",
       "2019-01-10  73400  75100  73100  73900   793024  0.005442\n",
       "2019-01-11  74200  74600  73000  73500   388093 -0.005413\n",
       "2019-01-14  72800  72800  71000  71100   572651 -0.032653\n",
       "2019-01-15  71400  71800  68500  69100  1101050 -0.028129"
      ]
     },
     "execution_count": 12,
     "metadata": {},
     "output_type": "execute_result"
    }
   ],
   "source": [
    "df.head(10)"
   ]
  },
  {
   "cell_type": "code",
   "execution_count": null,
   "metadata": {},
   "outputs": [],
   "source": []
  },
  {
   "cell_type": "code",
   "execution_count": 13,
   "metadata": {},
   "outputs": [
    {
     "data": {
      "text/html": [
       "<div>\n",
       "<style scoped>\n",
       "    .dataframe tbody tr th:only-of-type {\n",
       "        vertical-align: middle;\n",
       "    }\n",
       "\n",
       "    .dataframe tbody tr th {\n",
       "        vertical-align: top;\n",
       "    }\n",
       "\n",
       "    .dataframe thead th {\n",
       "        text-align: right;\n",
       "    }\n",
       "</style>\n",
       "<table border=\"1\" class=\"dataframe\">\n",
       "  <thead>\n",
       "    <tr style=\"text-align: right;\">\n",
       "      <th></th>\n",
       "      <th>Open</th>\n",
       "      <th>High</th>\n",
       "      <th>Low</th>\n",
       "      <th>Close</th>\n",
       "      <th>Volume</th>\n",
       "      <th>Change</th>\n",
       "    </tr>\n",
       "  </thead>\n",
       "  <tbody>\n",
       "    <tr>\n",
       "      <th>count</th>\n",
       "      <td>42.000000</td>\n",
       "      <td>42.000000</td>\n",
       "      <td>42.000000</td>\n",
       "      <td>42.000000</td>\n",
       "      <td>4.200000e+01</td>\n",
       "      <td>42.000000</td>\n",
       "    </tr>\n",
       "    <tr>\n",
       "      <th>mean</th>\n",
       "      <td>71669.047619</td>\n",
       "      <td>72769.047619</td>\n",
       "      <td>70330.952381</td>\n",
       "      <td>71333.333333</td>\n",
       "      <td>7.446446e+05</td>\n",
       "      <td>-0.001106</td>\n",
       "    </tr>\n",
       "    <tr>\n",
       "      <th>std</th>\n",
       "      <td>3222.670313</td>\n",
       "      <td>3045.387403</td>\n",
       "      <td>2994.424746</td>\n",
       "      <td>2979.414467</td>\n",
       "      <td>3.631532e+05</td>\n",
       "      <td>0.023133</td>\n",
       "    </tr>\n",
       "    <tr>\n",
       "      <th>min</th>\n",
       "      <td>64200.000000</td>\n",
       "      <td>66100.000000</td>\n",
       "      <td>63600.000000</td>\n",
       "      <td>63800.000000</td>\n",
       "      <td>2.522280e+05</td>\n",
       "      <td>-0.040521</td>\n",
       "    </tr>\n",
       "    <tr>\n",
       "      <th>25%</th>\n",
       "      <td>69575.000000</td>\n",
       "      <td>70725.000000</td>\n",
       "      <td>68700.000000</td>\n",
       "      <td>69800.000000</td>\n",
       "      <td>5.091520e+05</td>\n",
       "      <td>-0.017397</td>\n",
       "    </tr>\n",
       "    <tr>\n",
       "      <th>50%</th>\n",
       "      <td>72750.000000</td>\n",
       "      <td>73950.000000</td>\n",
       "      <td>71000.000000</td>\n",
       "      <td>72450.000000</td>\n",
       "      <td>6.320980e+05</td>\n",
       "      <td>-0.002007</td>\n",
       "    </tr>\n",
       "    <tr>\n",
       "      <th>75%</th>\n",
       "      <td>73975.000000</td>\n",
       "      <td>74825.000000</td>\n",
       "      <td>72575.000000</td>\n",
       "      <td>73500.000000</td>\n",
       "      <td>9.883422e+05</td>\n",
       "      <td>0.010763</td>\n",
       "    </tr>\n",
       "    <tr>\n",
       "      <th>max</th>\n",
       "      <td>77200.000000</td>\n",
       "      <td>78800.000000</td>\n",
       "      <td>74100.000000</td>\n",
       "      <td>74900.000000</td>\n",
       "      <td>1.799686e+06</td>\n",
       "      <td>0.068913</td>\n",
       "    </tr>\n",
       "  </tbody>\n",
       "</table>\n",
       "</div>"
      ],
      "text/plain": [
       "               Open          High           Low         Close        Volume  \\\n",
       "count     42.000000     42.000000     42.000000     42.000000  4.200000e+01   \n",
       "mean   71669.047619  72769.047619  70330.952381  71333.333333  7.446446e+05   \n",
       "std     3222.670313   3045.387403   2994.424746   2979.414467  3.631532e+05   \n",
       "min    64200.000000  66100.000000  63600.000000  63800.000000  2.522280e+05   \n",
       "25%    69575.000000  70725.000000  68700.000000  69800.000000  5.091520e+05   \n",
       "50%    72750.000000  73950.000000  71000.000000  72450.000000  6.320980e+05   \n",
       "75%    73975.000000  74825.000000  72575.000000  73500.000000  9.883422e+05   \n",
       "max    77200.000000  78800.000000  74100.000000  74900.000000  1.799686e+06   \n",
       "\n",
       "          Change  \n",
       "count  42.000000  \n",
       "mean   -0.001106  \n",
       "std     0.023133  \n",
       "min    -0.040521  \n",
       "25%    -0.017397  \n",
       "50%    -0.002007  \n",
       "75%     0.010763  \n",
       "max     0.068913  "
      ]
     },
     "execution_count": 13,
     "metadata": {},
     "output_type": "execute_result"
    }
   ],
   "source": [
    "df.describe()"
   ]
  },
  {
   "cell_type": "code",
   "execution_count": null,
   "metadata": {},
   "outputs": [],
   "source": []
  },
  {
   "cell_type": "code",
   "execution_count": null,
   "metadata": {},
   "outputs": [],
   "source": []
  },
  {
   "cell_type": "code",
   "execution_count": 34,
   "metadata": {},
   "outputs": [
    {
     "data": {
      "text/html": [
       "<div>\n",
       "<style scoped>\n",
       "    .dataframe tbody tr th:only-of-type {\n",
       "        vertical-align: middle;\n",
       "    }\n",
       "\n",
       "    .dataframe tbody tr th {\n",
       "        vertical-align: top;\n",
       "    }\n",
       "\n",
       "    .dataframe thead th {\n",
       "        text-align: right;\n",
       "    }\n",
       "</style>\n",
       "<table border=\"1\" class=\"dataframe\">\n",
       "  <thead>\n",
       "    <tr style=\"text-align: right;\">\n",
       "      <th></th>\n",
       "      <th>Open</th>\n",
       "      <th>High</th>\n",
       "      <th>Low</th>\n",
       "      <th>Close</th>\n",
       "      <th>Volume</th>\n",
       "      <th>Change</th>\n",
       "    </tr>\n",
       "    <tr>\n",
       "      <th>Date</th>\n",
       "      <th></th>\n",
       "      <th></th>\n",
       "      <th></th>\n",
       "      <th></th>\n",
       "      <th></th>\n",
       "      <th></th>\n",
       "    </tr>\n",
       "  </thead>\n",
       "  <tbody>\n",
       "    <tr>\n",
       "      <th>2017-02-06</th>\n",
       "      <td>10250</td>\n",
       "      <td>10600</td>\n",
       "      <td>10100</td>\n",
       "      <td>10400</td>\n",
       "      <td>366412</td>\n",
       "      <td>0.019608</td>\n",
       "    </tr>\n",
       "    <tr>\n",
       "      <th>2017-02-07</th>\n",
       "      <td>10450</td>\n",
       "      <td>10700</td>\n",
       "      <td>10300</td>\n",
       "      <td>10600</td>\n",
       "      <td>365127</td>\n",
       "      <td>0.019231</td>\n",
       "    </tr>\n",
       "    <tr>\n",
       "      <th>2017-02-08</th>\n",
       "      <td>10700</td>\n",
       "      <td>10750</td>\n",
       "      <td>10450</td>\n",
       "      <td>10550</td>\n",
       "      <td>265728</td>\n",
       "      <td>-0.004717</td>\n",
       "    </tr>\n",
       "    <tr>\n",
       "      <th>2017-02-09</th>\n",
       "      <td>10250</td>\n",
       "      <td>10400</td>\n",
       "      <td>10150</td>\n",
       "      <td>10200</td>\n",
       "      <td>455731</td>\n",
       "      <td>-0.033175</td>\n",
       "    </tr>\n",
       "    <tr>\n",
       "      <th>2017-02-10</th>\n",
       "      <td>10250</td>\n",
       "      <td>10400</td>\n",
       "      <td>10150</td>\n",
       "      <td>10200</td>\n",
       "      <td>249618</td>\n",
       "      <td>0.000000</td>\n",
       "    </tr>\n",
       "    <tr>\n",
       "      <th>2017-02-13</th>\n",
       "      <td>10200</td>\n",
       "      <td>10250</td>\n",
       "      <td>10000</td>\n",
       "      <td>10050</td>\n",
       "      <td>334122</td>\n",
       "      <td>-0.014706</td>\n",
       "    </tr>\n",
       "    <tr>\n",
       "      <th>2017-02-14</th>\n",
       "      <td>10100</td>\n",
       "      <td>10300</td>\n",
       "      <td>10000</td>\n",
       "      <td>10150</td>\n",
       "      <td>380490</td>\n",
       "      <td>0.009950</td>\n",
       "    </tr>\n",
       "    <tr>\n",
       "      <th>2017-02-15</th>\n",
       "      <td>10100</td>\n",
       "      <td>10300</td>\n",
       "      <td>10050</td>\n",
       "      <td>10150</td>\n",
       "      <td>367330</td>\n",
       "      <td>0.000000</td>\n",
       "    </tr>\n",
       "    <tr>\n",
       "      <th>2017-02-16</th>\n",
       "      <td>10150</td>\n",
       "      <td>10150</td>\n",
       "      <td>9790</td>\n",
       "      <td>9790</td>\n",
       "      <td>733536</td>\n",
       "      <td>-0.035468</td>\n",
       "    </tr>\n",
       "    <tr>\n",
       "      <th>2017-02-17</th>\n",
       "      <td>9790</td>\n",
       "      <td>9790</td>\n",
       "      <td>8940</td>\n",
       "      <td>9200</td>\n",
       "      <td>1447684</td>\n",
       "      <td>-0.060266</td>\n",
       "    </tr>\n",
       "  </tbody>\n",
       "</table>\n",
       "</div>"
      ],
      "text/plain": [
       "             Open   High    Low  Close   Volume    Change\n",
       "Date                                                     \n",
       "2017-02-06  10250  10600  10100  10400   366412  0.019608\n",
       "2017-02-07  10450  10700  10300  10600   365127  0.019231\n",
       "2017-02-08  10700  10750  10450  10550   265728 -0.004717\n",
       "2017-02-09  10250  10400  10150  10200   455731 -0.033175\n",
       "2017-02-10  10250  10400  10150  10200   249618  0.000000\n",
       "2017-02-13  10200  10250  10000  10050   334122 -0.014706\n",
       "2017-02-14  10100  10300  10000  10150   380490  0.009950\n",
       "2017-02-15  10100  10300  10050  10150   367330  0.000000\n",
       "2017-02-16  10150  10150   9790   9790   733536 -0.035468\n",
       "2017-02-17   9790   9790   8940   9200  1447684 -0.060266"
      ]
     },
     "execution_count": 34,
     "metadata": {},
     "output_type": "execute_result"
    }
   ],
   "source": [
    "df = fdr.DataReader('215600', '2017-02-04','2019-03-05')\n",
    "df.head(10)"
   ]
  },
  {
   "cell_type": "markdown",
   "metadata": {},
   "source": [
    "# 셀트리온, 2017년~현재"
   ]
  },
  {
   "cell_type": "code",
   "execution_count": 35,
   "metadata": {},
   "outputs": [
    {
     "data": {
      "text/plain": [
       "<matplotlib.axes._subplots.AxesSubplot at 0xa797940>"
      ]
     },
     "execution_count": 35,
     "metadata": {},
     "output_type": "execute_result"
    },
    {
     "data": {
      "image/png": "[encoded data removed]",
      "text/plain": [
       "<Figure size 432x288 with 1 Axes>"
      ]
     },
     "metadata": {
      "needs_background": "light"
     },
     "output_type": "display_data"
    }
   ],
   "source": [
    "df = fdr.DataReader('068270', '2017')\n",
    "df['Close'].plot()"
   ]
  },
  {
   "cell_type": "code",
   "execution_count": null,
   "metadata": {},
   "outputs": [],
   "source": []
  },
  {
   "cell_type": "markdown",
   "metadata": {},
   "source": [
    "# S&P 500 종목 전체"
   ]
  },
  {
   "cell_type": "code",
   "execution_count": 36,
   "metadata": {},
   "outputs": [
    {
     "data": {
      "text/html": [
       "<div>\n",
       "<style scoped>\n",
       "    .dataframe tbody tr th:only-of-type {\n",
       "        vertical-align: middle;\n",
       "    }\n",
       "\n",
       "    .dataframe tbody tr th {\n",
       "        vertical-align: top;\n",
       "    }\n",
       "\n",
       "    .dataframe thead th {\n",
       "        text-align: right;\n",
       "    }\n",
       "</style>\n",
       "<table border=\"1\" class=\"dataframe\">\n",
       "  <thead>\n",
       "    <tr style=\"text-align: right;\">\n",
       "      <th></th>\n",
       "      <th>Symbol</th>\n",
       "      <th>Name</th>\n",
       "      <th>Sector</th>\n",
       "      <th>Industry</th>\n",
       "    </tr>\n",
       "  </thead>\n",
       "  <tbody>\n",
       "    <tr>\n",
       "      <th>0</th>\n",
       "      <td>MMM</td>\n",
       "      <td>3M Company</td>\n",
       "      <td>Industrials</td>\n",
       "      <td>Industrial Conglomerates</td>\n",
       "    </tr>\n",
       "    <tr>\n",
       "      <th>1</th>\n",
       "      <td>ABT</td>\n",
       "      <td>Abbott Laboratories</td>\n",
       "      <td>Health Care</td>\n",
       "      <td>Health Care Equipment</td>\n",
       "    </tr>\n",
       "    <tr>\n",
       "      <th>2</th>\n",
       "      <td>ABBV</td>\n",
       "      <td>AbbVie Inc.</td>\n",
       "      <td>Health Care</td>\n",
       "      <td>Pharmaceuticals</td>\n",
       "    </tr>\n",
       "    <tr>\n",
       "      <th>3</th>\n",
       "      <td>ABMD</td>\n",
       "      <td>ABIOMED Inc</td>\n",
       "      <td>Health Care</td>\n",
       "      <td>Health Care Equipment</td>\n",
       "    </tr>\n",
       "    <tr>\n",
       "      <th>4</th>\n",
       "      <td>ACN</td>\n",
       "      <td>Accenture plc</td>\n",
       "      <td>Information Technology</td>\n",
       "      <td>IT Consulting &amp; Other Services</td>\n",
       "    </tr>\n",
       "  </tbody>\n",
       "</table>\n",
       "</div>"
      ],
      "text/plain": [
       "  Symbol                 Name                  Sector  \\\n",
       "0    MMM           3M Company             Industrials   \n",
       "1    ABT  Abbott Laboratories             Health Care   \n",
       "2   ABBV          AbbVie Inc.             Health Care   \n",
       "3   ABMD          ABIOMED Inc             Health Care   \n",
       "4    ACN        Accenture plc  Information Technology   \n",
       "\n",
       "                         Industry  \n",
       "0        Industrial Conglomerates  \n",
       "1           Health Care Equipment  \n",
       "2                 Pharmaceuticals  \n",
       "3           Health Care Equipment  \n",
       "4  IT Consulting & Other Services  "
      ]
     },
     "execution_count": 36,
     "metadata": {},
     "output_type": "execute_result"
    }
   ],
   "source": [
    "df_spx = fdr.StockListing('S&P500')\n",
    "df_spx.head()"
   ]
  },
  {
   "cell_type": "code",
   "execution_count": null,
   "metadata": {},
   "outputs": [],
   "source": []
  }
 ],
 "metadata": {
  "kernelspec": {
   "display_name": "Python 3",
   "language": "python",
   "name": "python3"
  },
  "language_info": {
   "codemirror_mode": {
    "name": "ipython",
    "version": 3
   },
   "file_extension": ".py",
   "mimetype": "text/x-python",
   "name": "python",
   "nbconvert_exporter": "python",
   "pygments_lexer": "ipython3",
   "version": "3.7.3"
  }
 },
 "nbformat": 4,
 "nbformat_minor": 2
}
