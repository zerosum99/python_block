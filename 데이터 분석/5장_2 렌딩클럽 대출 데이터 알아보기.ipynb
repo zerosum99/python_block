{
 "cells": [
  {
   "cell_type": "markdown",
   "metadata": {},
   "source": [
    "##  판다스, 넘파이, 맷플랏립 처리를 위한 import "
   ]
  },
  {
   "cell_type": "code",
   "execution_count": 1,
   "metadata": {
    "colab": {},
    "colab_type": "code",
    "id": "evj3yb8G4eHP"
   },
   "outputs": [],
   "source": [
    "import pandas as pd\n",
    "import numpy as np\n",
    "import matplotlib.pyplot as plt\n",
    "%matplotlib inline\n",
    "from IPython.display import display # learer display of pandas tables upon printing\n",
    "from warnings import filterwarnings\n",
    "import seaborn as sns"
   ]
  },
  {
   "cell_type": "markdown",
   "metadata": {},
   "source": [
    "# Silence (deprecation) warnings"
   ]
  },
  {
   "cell_type": "code",
   "execution_count": 2,
   "metadata": {
    "colab": {},
    "colab_type": "code",
    "id": "wmiigoQD4eHS"
   },
   "outputs": [],
   "source": [
    "\n",
    "filterwarnings(\"ignore\")"
   ]
  },
  {
   "cell_type": "markdown",
   "metadata": {},
   "source": [
    "## 한글 처리 "
   ]
  },
  {
   "cell_type": "code",
   "execution_count": 3,
   "metadata": {},
   "outputs": [],
   "source": [
    "from matplotlib import font_manager, rc\n",
    "import sys\n",
    "\n",
    "if sys.platform == 'darwin' :\n",
    "    rc('font', family='AppleGothic')\n",
    "\n",
    "    plt.rcParams['axes.unicode_minus'] = False\n",
    "else :\n",
    "    \n",
    "    font_name = font_manager.FontProperties(fname=\"c:/Windows/Fonts/malgun.ttf\").get_name()\n",
    "    rc('font', family=font_name)"
   ]
  },
  {
   "cell_type": "markdown",
   "metadata": {},
   "source": [
    "# 1. 랜딩클럽 데이터 가져오기"
   ]
  },
  {
   "cell_type": "markdown",
   "metadata": {},
   "source": [
    "## Mac 에는 별도의 데이터가 없음"
   ]
  },
  {
   "cell_type": "markdown",
   "metadata": {},
   "source": [
    "###  데이터 사이즈가 커서 별도 작업한 결과\n",
    "\n",
    "import sys \n",
    "\n",
    "if sys.platform == 'darwin' :\n",
    "    pass\n",
    "else :\n",
    "    df_ = pd.read_csv(r\"D:\\data\\loan.csv\\loan.csv\")\n",
    "    print(df_.head())\n",
    "    df_a = df_.query('grade == \"A\"')\n",
    "    print(df_a.shape)\n",
    "    df_a.to_csv(r\"C:\\Users\\dahlmoon\\Documents\\GitHub\\python_book\\강의\\강의_데이터솔루션\\교재 만들기\\data/lending_club_A.csv\")"
   ]
  },
  {
   "cell_type": "markdown",
   "metadata": {},
   "source": [
    "## 랜딩클럽 데이터 중에 일부 처리분만 읽어오기"
   ]
  },
  {
   "cell_type": "code",
   "execution_count": 4,
   "metadata": {},
   "outputs": [],
   "source": [
    "df_a = pd.read_csv(\"./data/lending_club_A.csv\")"
   ]
  },
  {
   "cell_type": "markdown",
   "metadata": {},
   "source": [
    "### 모양의 첫번재 값을 변수에 저장"
   ]
  },
  {
   "cell_type": "code",
   "execution_count": 5,
   "metadata": {},
   "outputs": [
    {
     "data": {
      "text/plain": [
       "(148202, 75)"
      ]
     },
     "execution_count": 5,
     "metadata": {},
     "output_type": "execute_result"
    }
   ],
   "source": [
    "df_a.shape"
   ]
  },
  {
   "cell_type": "code",
   "execution_count": 6,
   "metadata": {},
   "outputs": [],
   "source": [
    "n_variables = df_a.shape[1]"
   ]
  },
  {
   "cell_type": "markdown",
   "metadata": {},
   "source": [
    "### 읽어온 랜딩클럽 데이터 확인하기"
   ]
  },
  {
   "cell_type": "code",
   "execution_count": 7,
   "metadata": {},
   "outputs": [
    {
     "data": {
      "text/html": [
       "<div>\n",
       "<style scoped>\n",
       "    .dataframe tbody tr th:only-of-type {\n",
       "        vertical-align: middle;\n",
       "    }\n",
       "\n",
       "    .dataframe tbody tr th {\n",
       "        vertical-align: top;\n",
       "    }\n",
       "\n",
       "    .dataframe thead th {\n",
       "        text-align: right;\n",
       "    }\n",
       "</style>\n",
       "<table border=\"1\" class=\"dataframe\">\n",
       "  <thead>\n",
       "    <tr style=\"text-align: right;\">\n",
       "      <th></th>\n",
       "      <th>Unnamed: 0</th>\n",
       "      <th>id</th>\n",
       "      <th>member_id</th>\n",
       "      <th>loan_amnt</th>\n",
       "      <th>funded_amnt</th>\n",
       "      <th>funded_amnt_inv</th>\n",
       "      <th>term</th>\n",
       "      <th>int_rate</th>\n",
       "      <th>installment</th>\n",
       "      <th>grade</th>\n",
       "      <th>...</th>\n",
       "      <th>total_bal_il</th>\n",
       "      <th>il_util</th>\n",
       "      <th>open_rv_12m</th>\n",
       "      <th>open_rv_24m</th>\n",
       "      <th>max_bal_bc</th>\n",
       "      <th>all_util</th>\n",
       "      <th>total_rev_hi_lim</th>\n",
       "      <th>inq_fi</th>\n",
       "      <th>total_cu_tl</th>\n",
       "      <th>inq_last_12m</th>\n",
       "    </tr>\n",
       "  </thead>\n",
       "  <tbody>\n",
       "    <tr>\n",
       "      <th>0</th>\n",
       "      <td>5</td>\n",
       "      <td>1075269</td>\n",
       "      <td>1311441</td>\n",
       "      <td>5000.0</td>\n",
       "      <td>5000.0</td>\n",
       "      <td>5000.0</td>\n",
       "      <td>36 months</td>\n",
       "      <td>7.90</td>\n",
       "      <td>156.46</td>\n",
       "      <td>A</td>\n",
       "      <td>...</td>\n",
       "      <td>NaN</td>\n",
       "      <td>NaN</td>\n",
       "      <td>NaN</td>\n",
       "      <td>NaN</td>\n",
       "      <td>NaN</td>\n",
       "      <td>NaN</td>\n",
       "      <td>NaN</td>\n",
       "      <td>NaN</td>\n",
       "      <td>NaN</td>\n",
       "      <td>NaN</td>\n",
       "    </tr>\n",
       "    <tr>\n",
       "      <th>1</th>\n",
       "      <td>17</td>\n",
       "      <td>1069971</td>\n",
       "      <td>1304884</td>\n",
       "      <td>3600.0</td>\n",
       "      <td>3600.0</td>\n",
       "      <td>3600.0</td>\n",
       "      <td>36 months</td>\n",
       "      <td>6.03</td>\n",
       "      <td>109.57</td>\n",
       "      <td>A</td>\n",
       "      <td>...</td>\n",
       "      <td>NaN</td>\n",
       "      <td>NaN</td>\n",
       "      <td>NaN</td>\n",
       "      <td>NaN</td>\n",
       "      <td>NaN</td>\n",
       "      <td>NaN</td>\n",
       "      <td>NaN</td>\n",
       "      <td>NaN</td>\n",
       "      <td>NaN</td>\n",
       "      <td>NaN</td>\n",
       "    </tr>\n",
       "    <tr>\n",
       "      <th>2</th>\n",
       "      <td>19</td>\n",
       "      <td>1069742</td>\n",
       "      <td>1304855</td>\n",
       "      <td>9200.0</td>\n",
       "      <td>9200.0</td>\n",
       "      <td>9200.0</td>\n",
       "      <td>36 months</td>\n",
       "      <td>6.03</td>\n",
       "      <td>280.01</td>\n",
       "      <td>A</td>\n",
       "      <td>...</td>\n",
       "      <td>NaN</td>\n",
       "      <td>NaN</td>\n",
       "      <td>NaN</td>\n",
       "      <td>NaN</td>\n",
       "      <td>NaN</td>\n",
       "      <td>NaN</td>\n",
       "      <td>NaN</td>\n",
       "      <td>NaN</td>\n",
       "      <td>NaN</td>\n",
       "      <td>NaN</td>\n",
       "    </tr>\n",
       "    <tr>\n",
       "      <th>3</th>\n",
       "      <td>30</td>\n",
       "      <td>1032111</td>\n",
       "      <td>1261745</td>\n",
       "      <td>4375.0</td>\n",
       "      <td>4375.0</td>\n",
       "      <td>4375.0</td>\n",
       "      <td>36 months</td>\n",
       "      <td>7.51</td>\n",
       "      <td>136.11</td>\n",
       "      <td>A</td>\n",
       "      <td>...</td>\n",
       "      <td>NaN</td>\n",
       "      <td>NaN</td>\n",
       "      <td>NaN</td>\n",
       "      <td>NaN</td>\n",
       "      <td>NaN</td>\n",
       "      <td>NaN</td>\n",
       "      <td>NaN</td>\n",
       "      <td>NaN</td>\n",
       "      <td>NaN</td>\n",
       "      <td>NaN</td>\n",
       "    </tr>\n",
       "    <tr>\n",
       "      <th>4</th>\n",
       "      <td>31</td>\n",
       "      <td>1069539</td>\n",
       "      <td>1304608</td>\n",
       "      <td>31825.0</td>\n",
       "      <td>31825.0</td>\n",
       "      <td>31825.0</td>\n",
       "      <td>36 months</td>\n",
       "      <td>7.90</td>\n",
       "      <td>995.82</td>\n",
       "      <td>A</td>\n",
       "      <td>...</td>\n",
       "      <td>NaN</td>\n",
       "      <td>NaN</td>\n",
       "      <td>NaN</td>\n",
       "      <td>NaN</td>\n",
       "      <td>NaN</td>\n",
       "      <td>NaN</td>\n",
       "      <td>NaN</td>\n",
       "      <td>NaN</td>\n",
       "      <td>NaN</td>\n",
       "      <td>NaN</td>\n",
       "    </tr>\n",
       "  </tbody>\n",
       "</table>\n",
       "<p>5 rows × 75 columns</p>\n",
       "</div>"
      ],
      "text/plain": [
       "   Unnamed: 0       id  member_id  loan_amnt  funded_amnt  funded_amnt_inv  \\\n",
       "0           5  1075269    1311441     5000.0       5000.0           5000.0   \n",
       "1          17  1069971    1304884     3600.0       3600.0           3600.0   \n",
       "2          19  1069742    1304855     9200.0       9200.0           9200.0   \n",
       "3          30  1032111    1261745     4375.0       4375.0           4375.0   \n",
       "4          31  1069539    1304608    31825.0      31825.0          31825.0   \n",
       "\n",
       "         term  int_rate  installment grade  ... total_bal_il il_util  \\\n",
       "0   36 months      7.90       156.46     A  ...          NaN     NaN   \n",
       "1   36 months      6.03       109.57     A  ...          NaN     NaN   \n",
       "2   36 months      6.03       280.01     A  ...          NaN     NaN   \n",
       "3   36 months      7.51       136.11     A  ...          NaN     NaN   \n",
       "4   36 months      7.90       995.82     A  ...          NaN     NaN   \n",
       "\n",
       "  open_rv_12m open_rv_24m  max_bal_bc all_util total_rev_hi_lim inq_fi  \\\n",
       "0         NaN         NaN         NaN      NaN              NaN    NaN   \n",
       "1         NaN         NaN         NaN      NaN              NaN    NaN   \n",
       "2         NaN         NaN         NaN      NaN              NaN    NaN   \n",
       "3         NaN         NaN         NaN      NaN              NaN    NaN   \n",
       "4         NaN         NaN         NaN      NaN              NaN    NaN   \n",
       "\n",
       "  total_cu_tl inq_last_12m  \n",
       "0         NaN          NaN  \n",
       "1         NaN          NaN  \n",
       "2         NaN          NaN  \n",
       "3         NaN          NaN  \n",
       "4         NaN          NaN  \n",
       "\n",
       "[5 rows x 75 columns]"
      ]
     },
     "execution_count": 7,
     "metadata": {},
     "output_type": "execute_result"
    }
   ],
   "source": [
    "df_a.head()"
   ]
  },
  {
   "cell_type": "code",
   "execution_count": 8,
   "metadata": {
    "scrolled": true
   },
   "outputs": [
    {
     "data": {
      "text/plain": [
       "Index(['Unnamed: 0', 'id', 'member_id', 'loan_amnt', 'funded_amnt',\n",
       "       'funded_amnt_inv', 'term', 'int_rate', 'installment', 'grade',\n",
       "       'sub_grade', 'emp_title', 'emp_length', 'home_ownership', 'annual_inc',\n",
       "       'verification_status', 'issue_d', 'loan_status', 'pymnt_plan', 'url',\n",
       "       'desc', 'purpose', 'title', 'zip_code', 'addr_state', 'dti',\n",
       "       'delinq_2yrs', 'earliest_cr_line', 'inq_last_6mths',\n",
       "       'mths_since_last_delinq', 'mths_since_last_record', 'open_acc',\n",
       "       'pub_rec', 'revol_bal', 'revol_util', 'total_acc',\n",
       "       'initial_list_status', 'out_prncp', 'out_prncp_inv', 'total_pymnt',\n",
       "       'total_pymnt_inv', 'total_rec_prncp', 'total_rec_int',\n",
       "       'total_rec_late_fee', 'recoveries', 'collection_recovery_fee',\n",
       "       'last_pymnt_d', 'last_pymnt_amnt', 'next_pymnt_d', 'last_credit_pull_d',\n",
       "       'collections_12_mths_ex_med', 'mths_since_last_major_derog',\n",
       "       'policy_code', 'application_type', 'annual_inc_joint', 'dti_joint',\n",
       "       'verification_status_joint', 'acc_now_delinq', 'tot_coll_amt',\n",
       "       'tot_cur_bal', 'open_acc_6m', 'open_il_6m', 'open_il_12m',\n",
       "       'open_il_24m', 'mths_since_rcnt_il', 'total_bal_il', 'il_util',\n",
       "       'open_rv_12m', 'open_rv_24m', 'max_bal_bc', 'all_util',\n",
       "       'total_rev_hi_lim', 'inq_fi', 'total_cu_tl', 'inq_last_12m'],\n",
       "      dtype='object')"
      ]
     },
     "execution_count": 8,
     "metadata": {},
     "output_type": "execute_result"
    }
   ],
   "source": [
    "df_a.columns"
   ]
  },
  {
   "cell_type": "markdown",
   "metadata": {},
   "source": [
    "### 의미없는 열 삭제하기 \n",
    "\n",
    "       파일을 저장할 때 생긴 기존 인덱스 정보를 삭제 "
   ]
  },
  {
   "cell_type": "code",
   "execution_count": 9,
   "metadata": {},
   "outputs": [],
   "source": [
    "df_a = df_a.drop('Unnamed: 0', axis=1)"
   ]
  },
  {
   "cell_type": "markdown",
   "metadata": {},
   "source": [
    "## 1-2 각 열에 대한 자료형의 개수를 확인하기 "
   ]
  },
  {
   "cell_type": "markdown",
   "metadata": {},
   "source": [
    "#### 칼럼 자료형들이 어떻게 구성되었는 지를 확인"
   ]
  },
  {
   "cell_type": "code",
   "execution_count": 10,
   "metadata": {},
   "outputs": [
    {
     "data": {
      "text/plain": [
       "int64       2\n",
       "float64    49\n",
       "object     23\n",
       "dtype: int64"
      ]
     },
     "execution_count": 10,
     "metadata": {},
     "output_type": "execute_result"
    }
   ],
   "source": [
    "df_a.get_dtype_counts()"
   ]
  },
  {
   "cell_type": "code",
   "execution_count": 11,
   "metadata": {},
   "outputs": [
    {
     "data": {
      "text/plain": [
       "int64:dense       2\n",
       "float64:dense    49\n",
       "object:dense     23\n",
       "dtype: int64"
      ]
     },
     "execution_count": 11,
     "metadata": {},
     "output_type": "execute_result"
    }
   ],
   "source": [
    "df_a.get_ftype_counts()"
   ]
  },
  {
   "cell_type": "markdown",
   "metadata": {},
   "source": [
    "#### 결측값과 메모리, 자료형을 전부 확인 "
   ]
  },
  {
   "cell_type": "code",
   "execution_count": 12,
   "metadata": {},
   "outputs": [
    {
     "name": "stdout",
     "output_type": "stream",
     "text": [
      "<class 'pandas.core.frame.DataFrame'>\n",
      "RangeIndex: 148202 entries, 0 to 148201\n",
      "Data columns (total 74 columns):\n",
      "id                             148202 non-null int64\n",
      "member_id                      148202 non-null int64\n",
      "loan_amnt                      148202 non-null float64\n",
      "funded_amnt                    148202 non-null float64\n",
      "funded_amnt_inv                148202 non-null float64\n",
      "term                           148202 non-null object\n",
      "int_rate                       148202 non-null float64\n",
      "installment                    148202 non-null float64\n",
      "grade                          148202 non-null object\n",
      "sub_grade                      148202 non-null object\n",
      "emp_title                      139912 non-null object\n",
      "emp_length                     141250 non-null object\n",
      "home_ownership                 148202 non-null object\n",
      "annual_inc                     148198 non-null float64\n",
      "verification_status            148202 non-null object\n",
      "issue_d                        148202 non-null object\n",
      "loan_status                    148202 non-null object\n",
      "pymnt_plan                     148202 non-null object\n",
      "url                            148202 non-null object\n",
      "desc                           24397 non-null object\n",
      "purpose                        148202 non-null object\n",
      "title                          148182 non-null object\n",
      "zip_code                       148202 non-null object\n",
      "addr_state                     148202 non-null object\n",
      "dti                            148202 non-null float64\n",
      "delinq_2yrs                    148191 non-null float64\n",
      "earliest_cr_line               148191 non-null object\n",
      "inq_last_6mths                 148191 non-null float64\n",
      "mths_since_last_delinq         55401 non-null float64\n",
      "mths_since_last_record         11770 non-null float64\n",
      "open_acc                       148191 non-null float64\n",
      "pub_rec                        148191 non-null float64\n",
      "revol_bal                      148202 non-null float64\n",
      "revol_util                     148162 non-null float64\n",
      "total_acc                      148191 non-null float64\n",
      "initial_list_status            148202 non-null object\n",
      "out_prncp                      148202 non-null float64\n",
      "out_prncp_inv                  148202 non-null float64\n",
      "total_pymnt                    148202 non-null float64\n",
      "total_pymnt_inv                148202 non-null float64\n",
      "total_rec_prncp                148202 non-null float64\n",
      "total_rec_int                  148202 non-null float64\n",
      "total_rec_late_fee             148202 non-null float64\n",
      "recoveries                     148202 non-null float64\n",
      "collection_recovery_fee        148202 non-null float64\n",
      "last_pymnt_d                   145373 non-null object\n",
      "last_pymnt_amnt                148202 non-null float64\n",
      "next_pymnt_d                   105906 non-null object\n",
      "last_credit_pull_d             148188 non-null object\n",
      "collections_12_mths_ex_med     148167 non-null float64\n",
      "mths_since_last_major_derog    23240 non-null float64\n",
      "policy_code                    148202 non-null float64\n",
      "application_type               148202 non-null object\n",
      "annual_inc_joint               18 non-null float64\n",
      "dti_joint                      18 non-null float64\n",
      "verification_status_joint      18 non-null object\n",
      "acc_now_delinq                 148191 non-null float64\n",
      "tot_coll_amt                   131456 non-null float64\n",
      "tot_cur_bal                    131456 non-null float64\n",
      "open_acc_6m                    3705 non-null float64\n",
      "open_il_6m                     3705 non-null float64\n",
      "open_il_12m                    3705 non-null float64\n",
      "open_il_24m                    3705 non-null float64\n",
      "mths_since_rcnt_il             3639 non-null float64\n",
      "total_bal_il                   3705 non-null float64\n",
      "il_util                        3159 non-null float64\n",
      "open_rv_12m                    3705 non-null float64\n",
      "open_rv_24m                    3705 non-null float64\n",
      "max_bal_bc                     3705 non-null float64\n",
      "all_util                       3705 non-null float64\n",
      "total_rev_hi_lim               131456 non-null float64\n",
      "inq_fi                         3705 non-null float64\n",
      "total_cu_tl                    3705 non-null float64\n",
      "inq_last_12m                   3705 non-null float64\n",
      "dtypes: float64(49), int64(2), object(23)\n",
      "memory usage: 83.7+ MB\n"
     ]
    }
   ],
   "source": [
    "df_a.info()"
   ]
  },
  {
   "cell_type": "markdown",
   "metadata": {},
   "source": [
    "# 2.  내부 필드에 대한 사전 "
   ]
  },
  {
   "cell_type": "markdown",
   "metadata": {},
   "source": [
    "#### 각 칼럼에 대한 세부 정보를 확인"
   ]
  },
  {
   "cell_type": "code",
   "execution_count": 13,
   "metadata": {
    "scrolled": true
   },
   "outputs": [],
   "source": [
    "df_d = pd.read_excel(\"./data/LCDataDictionary.xlsx\")\n"
   ]
  },
  {
   "cell_type": "code",
   "execution_count": 14,
   "metadata": {},
   "outputs": [
    {
     "data": {
      "text/html": [
       "<div>\n",
       "<style scoped>\n",
       "    .dataframe tbody tr th:only-of-type {\n",
       "        vertical-align: middle;\n",
       "    }\n",
       "\n",
       "    .dataframe tbody tr th {\n",
       "        vertical-align: top;\n",
       "    }\n",
       "\n",
       "    .dataframe thead th {\n",
       "        text-align: right;\n",
       "    }\n",
       "</style>\n",
       "<table border=\"1\" class=\"dataframe\">\n",
       "  <thead>\n",
       "    <tr style=\"text-align: right;\">\n",
       "      <th></th>\n",
       "      <th>LoanStatNew</th>\n",
       "      <th>Description</th>\n",
       "    </tr>\n",
       "  </thead>\n",
       "  <tbody>\n",
       "    <tr>\n",
       "      <th>0</th>\n",
       "      <td>acc_now_delinq</td>\n",
       "      <td>The number of accounts on which the borrower i...</td>\n",
       "    </tr>\n",
       "    <tr>\n",
       "      <th>1</th>\n",
       "      <td>acc_open_past_24mths</td>\n",
       "      <td>Number of trades opened in past 24 months.</td>\n",
       "    </tr>\n",
       "    <tr>\n",
       "      <th>2</th>\n",
       "      <td>addr_state</td>\n",
       "      <td>The state provided by the borrower in the loan...</td>\n",
       "    </tr>\n",
       "    <tr>\n",
       "      <th>3</th>\n",
       "      <td>all_util</td>\n",
       "      <td>Balance to credit limit on all trades</td>\n",
       "    </tr>\n",
       "    <tr>\n",
       "      <th>4</th>\n",
       "      <td>annual_inc</td>\n",
       "      <td>The self-reported annual income provided by th...</td>\n",
       "    </tr>\n",
       "  </tbody>\n",
       "</table>\n",
       "</div>"
      ],
      "text/plain": [
       "            LoanStatNew                                        Description\n",
       "0        acc_now_delinq  The number of accounts on which the borrower i...\n",
       "1  acc_open_past_24mths         Number of trades opened in past 24 months.\n",
       "2            addr_state  The state provided by the borrower in the loan...\n",
       "3              all_util              Balance to credit limit on all trades\n",
       "4            annual_inc  The self-reported annual income provided by th..."
      ]
     },
     "execution_count": 14,
     "metadata": {},
     "output_type": "execute_result"
    }
   ],
   "source": [
    "df_d.head()"
   ]
  },
  {
   "cell_type": "code",
   "execution_count": 15,
   "metadata": {},
   "outputs": [
    {
     "data": {
      "text/plain": [
       "(153, 2)"
      ]
     },
     "execution_count": 15,
     "metadata": {},
     "output_type": "execute_result"
    }
   ],
   "source": [
    "df_d.shape"
   ]
  },
  {
   "cell_type": "code",
   "execution_count": 16,
   "metadata": {},
   "outputs": [
    {
     "data": {
      "text/html": [
       "<div>\n",
       "<style scoped>\n",
       "    .dataframe tbody tr th:only-of-type {\n",
       "        vertical-align: middle;\n",
       "    }\n",
       "\n",
       "    .dataframe tbody tr th {\n",
       "        vertical-align: top;\n",
       "    }\n",
       "\n",
       "    .dataframe thead th {\n",
       "        text-align: right;\n",
       "    }\n",
       "</style>\n",
       "<table border=\"1\" class=\"dataframe\">\n",
       "  <thead>\n",
       "    <tr style=\"text-align: right;\">\n",
       "      <th></th>\n",
       "      <th>LoanStatNew</th>\n",
       "      <th>Description</th>\n",
       "    </tr>\n",
       "  </thead>\n",
       "  <tbody>\n",
       "    <tr>\n",
       "      <th>148</th>\n",
       "      <td>settlement_amount</td>\n",
       "      <td>The loan amount that the borrower has agreed t...</td>\n",
       "    </tr>\n",
       "    <tr>\n",
       "      <th>149</th>\n",
       "      <td>settlement_percentage</td>\n",
       "      <td>The settlement amount as a percentage of the p...</td>\n",
       "    </tr>\n",
       "    <tr>\n",
       "      <th>150</th>\n",
       "      <td>settlement_term</td>\n",
       "      <td>The number of months that the borrower will be...</td>\n",
       "    </tr>\n",
       "    <tr>\n",
       "      <th>151</th>\n",
       "      <td>NaN</td>\n",
       "      <td>NaN</td>\n",
       "    </tr>\n",
       "    <tr>\n",
       "      <th>152</th>\n",
       "      <td>NaN</td>\n",
       "      <td>* Employer Title replaces Employer Name for al...</td>\n",
       "    </tr>\n",
       "  </tbody>\n",
       "</table>\n",
       "</div>"
      ],
      "text/plain": [
       "               LoanStatNew                                        Description\n",
       "148      settlement_amount  The loan amount that the borrower has agreed t...\n",
       "149  settlement_percentage  The settlement amount as a percentage of the p...\n",
       "150        settlement_term  The number of months that the borrower will be...\n",
       "151                    NaN                                                NaN\n",
       "152                    NaN  * Employer Title replaces Employer Name for al..."
      ]
     },
     "execution_count": 16,
     "metadata": {},
     "output_type": "execute_result"
    }
   ],
   "source": [
    "df_d.tail()"
   ]
  },
  {
   "cell_type": "markdown",
   "metadata": {},
   "source": [
    "# 3. 열에 대한 정리 "
   ]
  },
  {
   "cell_type": "markdown",
   "metadata": {},
   "source": [
    "### 결측값이 많은 열 삭제 \n",
    "\n",
    "       결측값이 비율이 많은 칼럼을 삭제\n",
    "       \n",
    "       drop 메소드 에서 inplace= True로 지정해서 내부 객체를 변경함"
   ]
  },
  {
   "cell_type": "code",
   "execution_count": 17,
   "metadata": {},
   "outputs": [],
   "source": [
    "df_b = df_a.copy()"
   ]
  },
  {
   "cell_type": "code",
   "execution_count": 18,
   "metadata": {
    "scrolled": true
   },
   "outputs": [
    {
     "name": "stdout",
     "output_type": "stream",
     "text": [
      "desc 123805\n",
      "mths_since_last_delinq 92801\n",
      "mths_since_last_record 136432\n",
      "next_pymnt_d 42296\n",
      "mths_since_last_major_derog 124962\n",
      "annual_inc_joint 148184\n",
      "dti_joint 148184\n",
      "verification_status_joint 148184\n",
      "open_acc_6m 144497\n",
      "open_il_6m 144497\n",
      "open_il_12m 144497\n",
      "open_il_24m 144497\n",
      "mths_since_rcnt_il 144563\n",
      "total_bal_il 144497\n",
      "il_util 145043\n",
      "open_rv_12m 144497\n",
      "open_rv_24m 144497\n",
      "max_bal_bc 144497\n",
      "all_util 144497\n",
      "inq_fi 144497\n",
      "total_cu_tl 144497\n",
      "inq_last_12m 144497\n"
     ]
    }
   ],
   "source": [
    "threshold = 0.2 * len(df_a)\n",
    "\n",
    "for col in df_a.columns:\n",
    "    nulls = sum(df_a[col].isnull())\n",
    "    if nulls > threshold:\n",
    "        print(col, nulls)\n",
    "        df_a.drop(col, axis=1, inplace=True)"
   ]
  },
  {
   "cell_type": "markdown",
   "metadata": {},
   "source": [
    "#### 칼럼이 삭제됨"
   ]
  },
  {
   "cell_type": "code",
   "execution_count": 19,
   "metadata": {},
   "outputs": [
    {
     "data": {
      "text/plain": [
       "(148202, 52)"
      ]
     },
     "execution_count": 19,
     "metadata": {},
     "output_type": "execute_result"
    }
   ],
   "source": [
    "df_a.shape"
   ]
  },
  {
   "cell_type": "code",
   "execution_count": 20,
   "metadata": {},
   "outputs": [
    {
     "data": {
      "text/plain": [
       "(148202, 74)"
      ]
     },
     "execution_count": 20,
     "metadata": {},
     "output_type": "execute_result"
    }
   ],
   "source": [
    "df_b.shape"
   ]
  },
  {
   "cell_type": "markdown",
   "metadata": {},
   "source": [
    "### 유일값만 있는 경우 삭제 \n"
   ]
  },
  {
   "cell_type": "markdown",
   "metadata": {},
   "source": [
    "#### 열에 유일한 값들이 개수를 확인"
   ]
  },
  {
   "cell_type": "code",
   "execution_count": 21,
   "metadata": {},
   "outputs": [
    {
     "data": {
      "text/plain": [
       "id                            148202\n",
       "member_id                     148202\n",
       "loan_amnt                       1230\n",
       "funded_amnt                     1231\n",
       "funded_amnt_inv                 2883\n",
       "term                               2\n",
       "int_rate                          58\n",
       "installment                    11738\n",
       "grade                              1\n",
       "sub_grade                          5\n",
       "emp_title                      64367\n",
       "emp_length                        11\n",
       "home_ownership                     5\n",
       "annual_inc                     10893\n",
       "verification_status                3\n",
       "issue_d                          103\n",
       "loan_status                       10\n",
       "pymnt_plan                         1\n",
       "url                           148202\n",
       "purpose                           14\n",
       "title                          15170\n",
       "zip_code                         887\n",
       "addr_state                        51\n",
       "dti                             3799\n",
       "delinq_2yrs                       18\n",
       "earliest_cr_line                 638\n",
       "inq_last_6mths                    10\n",
       "open_acc                          56\n",
       "pub_rec                           18\n",
       "revol_bal                      45847\n",
       "revol_util                      1062\n",
       "total_acc                         99\n",
       "initial_list_status                2\n",
       "out_prncp                      30754\n",
       "out_prncp_inv                  32869\n",
       "total_pymnt                    81758\n",
       "total_pymnt_inv                82894\n",
       "total_rec_prncp                33956\n",
       "total_rec_int                  67709\n",
       "total_rec_late_fee               597\n",
       "recoveries                      1382\n",
       "collection_recovery_fee         1216\n",
       "last_pymnt_d                      97\n",
       "last_pymnt_amnt                46770\n",
       "last_credit_pull_d                99\n",
       "collections_12_mths_ex_med         6\n",
       "policy_code                        1\n",
       "application_type                   2\n",
       "acc_now_delinq                     5\n",
       "tot_coll_amt                    3166\n",
       "tot_cur_bal                   109045\n",
       "total_rev_hi_lim                6334\n",
       "dtype: int64"
      ]
     },
     "execution_count": 21,
     "metadata": {},
     "output_type": "execute_result"
    }
   ],
   "source": [
    "df_a.nunique()"
   ]
  },
  {
   "cell_type": "markdown",
   "metadata": {},
   "source": [
    "###  유일한 값에 대한 논리식 처리"
   ]
  },
  {
   "cell_type": "code",
   "execution_count": 22,
   "metadata": {},
   "outputs": [
    {
     "data": {
      "text/plain": [
       "id                            False\n",
       "member_id                     False\n",
       "loan_amnt                     False\n",
       "funded_amnt                   False\n",
       "funded_amnt_inv               False\n",
       "term                          False\n",
       "int_rate                      False\n",
       "installment                   False\n",
       "grade                          True\n",
       "sub_grade                     False\n",
       "emp_title                     False\n",
       "emp_length                    False\n",
       "home_ownership                False\n",
       "annual_inc                    False\n",
       "verification_status           False\n",
       "issue_d                       False\n",
       "loan_status                   False\n",
       "pymnt_plan                     True\n",
       "url                           False\n",
       "purpose                       False\n",
       "title                         False\n",
       "zip_code                      False\n",
       "addr_state                    False\n",
       "dti                           False\n",
       "delinq_2yrs                   False\n",
       "earliest_cr_line              False\n",
       "inq_last_6mths                False\n",
       "open_acc                      False\n",
       "pub_rec                       False\n",
       "revol_bal                     False\n",
       "revol_util                    False\n",
       "total_acc                     False\n",
       "initial_list_status           False\n",
       "out_prncp                     False\n",
       "out_prncp_inv                 False\n",
       "total_pymnt                   False\n",
       "total_pymnt_inv               False\n",
       "total_rec_prncp               False\n",
       "total_rec_int                 False\n",
       "total_rec_late_fee            False\n",
       "recoveries                    False\n",
       "collection_recovery_fee       False\n",
       "last_pymnt_d                  False\n",
       "last_pymnt_amnt               False\n",
       "last_credit_pull_d            False\n",
       "collections_12_mths_ex_med    False\n",
       "policy_code                    True\n",
       "application_type              False\n",
       "acc_now_delinq                False\n",
       "tot_coll_amt                  False\n",
       "tot_cur_bal                   False\n",
       "total_rev_hi_lim              False\n",
       "dtype: bool"
      ]
     },
     "execution_count": 22,
     "metadata": {},
     "output_type": "execute_result"
    }
   ],
   "source": [
    "df_a.nunique() == 1"
   ]
  },
  {
   "cell_type": "markdown",
   "metadata": {},
   "source": [
    "### 두가지를 합쳐서 값을 추출"
   ]
  },
  {
   "cell_type": "code",
   "execution_count": 23,
   "metadata": {},
   "outputs": [],
   "source": [
    "no_predictive_power = df_a.nunique()[df_a.nunique() == 1]"
   ]
  },
  {
   "cell_type": "code",
   "execution_count": 24,
   "metadata": {},
   "outputs": [
    {
     "data": {
      "text/plain": [
       "grade          1\n",
       "pymnt_plan     1\n",
       "policy_code    1\n",
       "dtype: int64"
      ]
     },
     "execution_count": 24,
     "metadata": {},
     "output_type": "execute_result"
    }
   ],
   "source": [
    "no_predictive_power"
   ]
  },
  {
   "cell_type": "markdown",
   "metadata": {},
   "source": [
    "#### 내부의 행의 인덱스 값을 검색 "
   ]
  },
  {
   "cell_type": "code",
   "execution_count": 25,
   "metadata": {},
   "outputs": [
    {
     "data": {
      "text/plain": [
       "Index(['grade', 'pymnt_plan', 'policy_code'], dtype='object')"
      ]
     },
     "execution_count": 25,
     "metadata": {},
     "output_type": "execute_result"
    }
   ],
   "source": [
    "no_predictive_power.keys()"
   ]
  },
  {
   "cell_type": "markdown",
   "metadata": {},
   "source": [
    "#### 3개의 열을 삭제 함"
   ]
  },
  {
   "cell_type": "code",
   "execution_count": 26,
   "metadata": {},
   "outputs": [],
   "source": [
    "df_a.drop(no_predictive_power.keys(), axis=1, inplace=True)"
   ]
  },
  {
   "cell_type": "code",
   "execution_count": 27,
   "metadata": {},
   "outputs": [
    {
     "data": {
      "text/plain": [
       "(148202, 49)"
      ]
     },
     "execution_count": 27,
     "metadata": {},
     "output_type": "execute_result"
    }
   ],
   "source": [
    "df_a.shape"
   ]
  },
  {
   "cell_type": "markdown",
   "metadata": {},
   "source": [
    "## 주소 열 삭제 "
   ]
  },
  {
   "cell_type": "code",
   "execution_count": 28,
   "metadata": {},
   "outputs": [],
   "source": [
    "df_a.drop('zip_code', axis=1, inplace=True)\n",
    "df_a.drop('addr_state', axis=1, inplace=True)"
   ]
  },
  {
   "cell_type": "code",
   "execution_count": 29,
   "metadata": {},
   "outputs": [
    {
     "data": {
      "text/plain": [
       "(148202, 47)"
      ]
     },
     "execution_count": 29,
     "metadata": {},
     "output_type": "execute_result"
    }
   ],
   "source": [
    "df_a.shape"
   ]
  },
  {
   "cell_type": "markdown",
   "metadata": {},
   "source": [
    "#### 삭제된 열에 대한 정보를 확인 "
   ]
  },
  {
   "cell_type": "code",
   "execution_count": 30,
   "metadata": {},
   "outputs": [
    {
     "name": "stdout",
     "output_type": "stream",
     "text": [
      "Columns left: 47\n",
      "Columns dropped so far: 28\n"
     ]
    }
   ],
   "source": [
    "list_cols = list(df_a.columns)\n",
    "print(\"Columns left: {}\\nColumns dropped so far: {}\".format(len(list_cols),n_variables-len(list_cols)))"
   ]
  },
  {
   "cell_type": "markdown",
   "metadata": {},
   "source": [
    "### 임의의 행까지만 추출"
   ]
  },
  {
   "cell_type": "code",
   "execution_count": 31,
   "metadata": {},
   "outputs": [
    {
     "data": {
      "text/html": [
       "<div>\n",
       "<style scoped>\n",
       "    .dataframe tbody tr th:only-of-type {\n",
       "        vertical-align: middle;\n",
       "    }\n",
       "\n",
       "    .dataframe tbody tr th {\n",
       "        vertical-align: top;\n",
       "    }\n",
       "\n",
       "    .dataframe thead th {\n",
       "        text-align: right;\n",
       "    }\n",
       "</style>\n",
       "<table border=\"1\" class=\"dataframe\">\n",
       "  <thead>\n",
       "    <tr style=\"text-align: right;\">\n",
       "      <th></th>\n",
       "      <th>id</th>\n",
       "      <th>member_id</th>\n",
       "      <th>loan_amnt</th>\n",
       "      <th>funded_amnt</th>\n",
       "      <th>funded_amnt_inv</th>\n",
       "      <th>term</th>\n",
       "      <th>int_rate</th>\n",
       "      <th>installment</th>\n",
       "      <th>sub_grade</th>\n",
       "      <th>emp_title</th>\n",
       "      <th>...</th>\n",
       "      <th>collection_recovery_fee</th>\n",
       "      <th>last_pymnt_d</th>\n",
       "      <th>last_pymnt_amnt</th>\n",
       "      <th>last_credit_pull_d</th>\n",
       "      <th>collections_12_mths_ex_med</th>\n",
       "      <th>application_type</th>\n",
       "      <th>acc_now_delinq</th>\n",
       "      <th>tot_coll_amt</th>\n",
       "      <th>tot_cur_bal</th>\n",
       "      <th>total_rev_hi_lim</th>\n",
       "    </tr>\n",
       "  </thead>\n",
       "  <tbody>\n",
       "    <tr>\n",
       "      <th>0</th>\n",
       "      <td>1075269</td>\n",
       "      <td>1311441</td>\n",
       "      <td>5000.0</td>\n",
       "      <td>5000.0</td>\n",
       "      <td>5000.0</td>\n",
       "      <td>36 months</td>\n",
       "      <td>7.90</td>\n",
       "      <td>156.46</td>\n",
       "      <td>A4</td>\n",
       "      <td>Veolia Transportaton</td>\n",
       "      <td>...</td>\n",
       "      <td>0.0</td>\n",
       "      <td>Jan-2015</td>\n",
       "      <td>161.03</td>\n",
       "      <td>Sep-2015</td>\n",
       "      <td>0.0</td>\n",
       "      <td>INDIVIDUAL</td>\n",
       "      <td>0.0</td>\n",
       "      <td>NaN</td>\n",
       "      <td>NaN</td>\n",
       "      <td>NaN</td>\n",
       "    </tr>\n",
       "    <tr>\n",
       "      <th>1</th>\n",
       "      <td>1069971</td>\n",
       "      <td>1304884</td>\n",
       "      <td>3600.0</td>\n",
       "      <td>3600.0</td>\n",
       "      <td>3600.0</td>\n",
       "      <td>36 months</td>\n",
       "      <td>6.03</td>\n",
       "      <td>109.57</td>\n",
       "      <td>A1</td>\n",
       "      <td>Duracell</td>\n",
       "      <td>...</td>\n",
       "      <td>0.0</td>\n",
       "      <td>May-2013</td>\n",
       "      <td>583.45</td>\n",
       "      <td>May-2014</td>\n",
       "      <td>0.0</td>\n",
       "      <td>INDIVIDUAL</td>\n",
       "      <td>0.0</td>\n",
       "      <td>NaN</td>\n",
       "      <td>NaN</td>\n",
       "      <td>NaN</td>\n",
       "    </tr>\n",
       "    <tr>\n",
       "      <th>2</th>\n",
       "      <td>1069742</td>\n",
       "      <td>1304855</td>\n",
       "      <td>9200.0</td>\n",
       "      <td>9200.0</td>\n",
       "      <td>9200.0</td>\n",
       "      <td>36 months</td>\n",
       "      <td>6.03</td>\n",
       "      <td>280.01</td>\n",
       "      <td>A1</td>\n",
       "      <td>Network Interpreting Service</td>\n",
       "      <td>...</td>\n",
       "      <td>0.0</td>\n",
       "      <td>Jul-2012</td>\n",
       "      <td>8061.10</td>\n",
       "      <td>Jul-2012</td>\n",
       "      <td>0.0</td>\n",
       "      <td>INDIVIDUAL</td>\n",
       "      <td>0.0</td>\n",
       "      <td>NaN</td>\n",
       "      <td>NaN</td>\n",
       "      <td>NaN</td>\n",
       "    </tr>\n",
       "    <tr>\n",
       "      <th>3</th>\n",
       "      <td>1032111</td>\n",
       "      <td>1261745</td>\n",
       "      <td>4375.0</td>\n",
       "      <td>4375.0</td>\n",
       "      <td>4375.0</td>\n",
       "      <td>36 months</td>\n",
       "      <td>7.51</td>\n",
       "      <td>136.11</td>\n",
       "      <td>A3</td>\n",
       "      <td>NaN</td>\n",
       "      <td>...</td>\n",
       "      <td>0.0</td>\n",
       "      <td>Jan-2015</td>\n",
       "      <td>144.94</td>\n",
       "      <td>Dec-2014</td>\n",
       "      <td>0.0</td>\n",
       "      <td>INDIVIDUAL</td>\n",
       "      <td>0.0</td>\n",
       "      <td>NaN</td>\n",
       "      <td>NaN</td>\n",
       "      <td>NaN</td>\n",
       "    </tr>\n",
       "    <tr>\n",
       "      <th>4</th>\n",
       "      <td>1069539</td>\n",
       "      <td>1304608</td>\n",
       "      <td>31825.0</td>\n",
       "      <td>31825.0</td>\n",
       "      <td>31825.0</td>\n",
       "      <td>36 months</td>\n",
       "      <td>7.90</td>\n",
       "      <td>995.82</td>\n",
       "      <td>A4</td>\n",
       "      <td>Audubon Mutual Housing Corporation</td>\n",
       "      <td>...</td>\n",
       "      <td>0.0</td>\n",
       "      <td>Aug-2013</td>\n",
       "      <td>16966.70</td>\n",
       "      <td>Oct-2015</td>\n",
       "      <td>0.0</td>\n",
       "      <td>INDIVIDUAL</td>\n",
       "      <td>0.0</td>\n",
       "      <td>NaN</td>\n",
       "      <td>NaN</td>\n",
       "      <td>NaN</td>\n",
       "    </tr>\n",
       "  </tbody>\n",
       "</table>\n",
       "<p>5 rows × 47 columns</p>\n",
       "</div>"
      ],
      "text/plain": [
       "        id  member_id  loan_amnt  funded_amnt  funded_amnt_inv        term  \\\n",
       "0  1075269    1311441     5000.0       5000.0           5000.0   36 months   \n",
       "1  1069971    1304884     3600.0       3600.0           3600.0   36 months   \n",
       "2  1069742    1304855     9200.0       9200.0           9200.0   36 months   \n",
       "3  1032111    1261745     4375.0       4375.0           4375.0   36 months   \n",
       "4  1069539    1304608    31825.0      31825.0          31825.0   36 months   \n",
       "\n",
       "   int_rate  installment sub_grade                           emp_title  ...  \\\n",
       "0      7.90       156.46        A4                Veolia Transportaton  ...   \n",
       "1      6.03       109.57        A1                            Duracell  ...   \n",
       "2      6.03       280.01        A1        Network Interpreting Service  ...   \n",
       "3      7.51       136.11        A3                                 NaN  ...   \n",
       "4      7.90       995.82        A4  Audubon Mutual Housing Corporation  ...   \n",
       "\n",
       "  collection_recovery_fee last_pymnt_d  last_pymnt_amnt last_credit_pull_d  \\\n",
       "0                     0.0     Jan-2015           161.03           Sep-2015   \n",
       "1                     0.0     May-2013           583.45           May-2014   \n",
       "2                     0.0     Jul-2012          8061.10           Jul-2012   \n",
       "3                     0.0     Jan-2015           144.94           Dec-2014   \n",
       "4                     0.0     Aug-2013         16966.70           Oct-2015   \n",
       "\n",
       "  collections_12_mths_ex_med application_type acc_now_delinq tot_coll_amt  \\\n",
       "0                        0.0       INDIVIDUAL            0.0          NaN   \n",
       "1                        0.0       INDIVIDUAL            0.0          NaN   \n",
       "2                        0.0       INDIVIDUAL            0.0          NaN   \n",
       "3                        0.0       INDIVIDUAL            0.0          NaN   \n",
       "4                        0.0       INDIVIDUAL            0.0          NaN   \n",
       "\n",
       "  tot_cur_bal  total_rev_hi_lim  \n",
       "0         NaN               NaN  \n",
       "1         NaN               NaN  \n",
       "2         NaN               NaN  \n",
       "3         NaN               NaN  \n",
       "4         NaN               NaN  \n",
       "\n",
       "[5 rows x 47 columns]"
      ]
     },
     "execution_count": 31,
     "metadata": {},
     "output_type": "execute_result"
    }
   ],
   "source": [
    "df_a.head()"
   ]
  },
  {
   "cell_type": "code",
   "execution_count": 32,
   "metadata": {},
   "outputs": [
    {
     "data": {
      "text/plain": [
       "(148202, 47)"
      ]
     },
     "execution_count": 32,
     "metadata": {},
     "output_type": "execute_result"
    }
   ],
   "source": [
    "df_a.shape"
   ]
  },
  {
   "cell_type": "markdown",
   "metadata": {},
   "source": [
    "#### 슬라이를 통해 특정 행까지만 할당"
   ]
  },
  {
   "cell_type": "code",
   "execution_count": 71,
   "metadata": {},
   "outputs": [],
   "source": [
    "df_a14 = df_a[:14].copy()"
   ]
  },
  {
   "cell_type": "code",
   "execution_count": 72,
   "metadata": {},
   "outputs": [
    {
     "data": {
      "text/plain": [
       "(14, 47)"
      ]
     },
     "execution_count": 72,
     "metadata": {},
     "output_type": "execute_result"
    }
   ],
   "source": [
    "df_a14.shape"
   ]
  },
  {
   "cell_type": "code",
   "execution_count": 73,
   "metadata": {},
   "outputs": [
    {
     "data": {
      "text/plain": [
       "Index(['id', 'member_id', 'loan_amnt', 'funded_amnt', 'funded_amnt_inv',\n",
       "       'term', 'int_rate', 'installment', 'sub_grade', 'emp_title',\n",
       "       'emp_length', 'home_ownership', 'annual_inc', 'verification_status',\n",
       "       'issue_d', 'loan_status', 'url', 'purpose', 'title', 'dti',\n",
       "       'delinq_2yrs', 'earliest_cr_line', 'inq_last_6mths', 'open_acc',\n",
       "       'pub_rec', 'revol_bal', 'revol_util', 'total_acc',\n",
       "       'initial_list_status', 'out_prncp', 'out_prncp_inv', 'total_pymnt',\n",
       "       'total_pymnt_inv', 'total_rec_prncp', 'total_rec_int',\n",
       "       'total_rec_late_fee', 'recoveries', 'collection_recovery_fee',\n",
       "       'last_pymnt_d', 'last_pymnt_amnt', 'last_credit_pull_d',\n",
       "       'collections_12_mths_ex_med', 'application_type', 'acc_now_delinq',\n",
       "       'tot_coll_amt', 'tot_cur_bal', 'total_rev_hi_lim'],\n",
       "      dtype='object')"
      ]
     },
     "execution_count": 73,
     "metadata": {},
     "output_type": "execute_result"
    }
   ],
   "source": [
    "df_a14.columns"
   ]
  },
  {
   "cell_type": "code",
   "execution_count": 74,
   "metadata": {},
   "outputs": [
    {
     "data": {
      "text/html": [
       "<div>\n",
       "<style scoped>\n",
       "    .dataframe tbody tr th:only-of-type {\n",
       "        vertical-align: middle;\n",
       "    }\n",
       "\n",
       "    .dataframe tbody tr th {\n",
       "        vertical-align: top;\n",
       "    }\n",
       "\n",
       "    .dataframe thead th {\n",
       "        text-align: right;\n",
       "    }\n",
       "</style>\n",
       "<table border=\"1\" class=\"dataframe\">\n",
       "  <thead>\n",
       "    <tr style=\"text-align: right;\">\n",
       "      <th></th>\n",
       "      <th>id</th>\n",
       "      <th>member_id</th>\n",
       "      <th>loan_amnt</th>\n",
       "      <th>funded_amnt</th>\n",
       "      <th>funded_amnt_inv</th>\n",
       "      <th>term</th>\n",
       "      <th>int_rate</th>\n",
       "      <th>installment</th>\n",
       "      <th>sub_grade</th>\n",
       "      <th>emp_title</th>\n",
       "      <th>...</th>\n",
       "      <th>collection_recovery_fee</th>\n",
       "      <th>last_pymnt_d</th>\n",
       "      <th>last_pymnt_amnt</th>\n",
       "      <th>last_credit_pull_d</th>\n",
       "      <th>collections_12_mths_ex_med</th>\n",
       "      <th>application_type</th>\n",
       "      <th>acc_now_delinq</th>\n",
       "      <th>tot_coll_amt</th>\n",
       "      <th>tot_cur_bal</th>\n",
       "      <th>total_rev_hi_lim</th>\n",
       "    </tr>\n",
       "  </thead>\n",
       "  <tbody>\n",
       "    <tr>\n",
       "      <th>0</th>\n",
       "      <td>1075269</td>\n",
       "      <td>1311441</td>\n",
       "      <td>5000.0</td>\n",
       "      <td>5000.0</td>\n",
       "      <td>5000.0</td>\n",
       "      <td>36</td>\n",
       "      <td>7.90</td>\n",
       "      <td>156.46</td>\n",
       "      <td>A4</td>\n",
       "      <td>Veolia Transportaton</td>\n",
       "      <td>...</td>\n",
       "      <td>0.0</td>\n",
       "      <td>2015-01-01</td>\n",
       "      <td>161.03</td>\n",
       "      <td>Sep-2015</td>\n",
       "      <td>0.0</td>\n",
       "      <td>INDIVIDUAL</td>\n",
       "      <td>0.0</td>\n",
       "      <td>NaN</td>\n",
       "      <td>NaN</td>\n",
       "      <td>NaN</td>\n",
       "    </tr>\n",
       "    <tr>\n",
       "      <th>1</th>\n",
       "      <td>1069971</td>\n",
       "      <td>1304884</td>\n",
       "      <td>3600.0</td>\n",
       "      <td>3600.0</td>\n",
       "      <td>3600.0</td>\n",
       "      <td>36</td>\n",
       "      <td>6.03</td>\n",
       "      <td>109.57</td>\n",
       "      <td>A1</td>\n",
       "      <td>Duracell</td>\n",
       "      <td>...</td>\n",
       "      <td>0.0</td>\n",
       "      <td>2013-05-01</td>\n",
       "      <td>583.45</td>\n",
       "      <td>May-2014</td>\n",
       "      <td>0.0</td>\n",
       "      <td>INDIVIDUAL</td>\n",
       "      <td>0.0</td>\n",
       "      <td>NaN</td>\n",
       "      <td>NaN</td>\n",
       "      <td>NaN</td>\n",
       "    </tr>\n",
       "    <tr>\n",
       "      <th>2</th>\n",
       "      <td>1069742</td>\n",
       "      <td>1304855</td>\n",
       "      <td>9200.0</td>\n",
       "      <td>9200.0</td>\n",
       "      <td>9200.0</td>\n",
       "      <td>36</td>\n",
       "      <td>6.03</td>\n",
       "      <td>280.01</td>\n",
       "      <td>A1</td>\n",
       "      <td>Network Interpreting Service</td>\n",
       "      <td>...</td>\n",
       "      <td>0.0</td>\n",
       "      <td>2012-07-01</td>\n",
       "      <td>8061.10</td>\n",
       "      <td>Jul-2012</td>\n",
       "      <td>0.0</td>\n",
       "      <td>INDIVIDUAL</td>\n",
       "      <td>0.0</td>\n",
       "      <td>NaN</td>\n",
       "      <td>NaN</td>\n",
       "      <td>NaN</td>\n",
       "    </tr>\n",
       "    <tr>\n",
       "      <th>3</th>\n",
       "      <td>1032111</td>\n",
       "      <td>1261745</td>\n",
       "      <td>4375.0</td>\n",
       "      <td>4375.0</td>\n",
       "      <td>4375.0</td>\n",
       "      <td>36</td>\n",
       "      <td>7.51</td>\n",
       "      <td>136.11</td>\n",
       "      <td>A3</td>\n",
       "      <td>NaN</td>\n",
       "      <td>...</td>\n",
       "      <td>0.0</td>\n",
       "      <td>2015-01-01</td>\n",
       "      <td>144.94</td>\n",
       "      <td>Dec-2014</td>\n",
       "      <td>0.0</td>\n",
       "      <td>INDIVIDUAL</td>\n",
       "      <td>0.0</td>\n",
       "      <td>NaN</td>\n",
       "      <td>NaN</td>\n",
       "      <td>NaN</td>\n",
       "    </tr>\n",
       "    <tr>\n",
       "      <th>4</th>\n",
       "      <td>1069539</td>\n",
       "      <td>1304608</td>\n",
       "      <td>31825.0</td>\n",
       "      <td>31825.0</td>\n",
       "      <td>31825.0</td>\n",
       "      <td>36</td>\n",
       "      <td>7.90</td>\n",
       "      <td>995.82</td>\n",
       "      <td>A4</td>\n",
       "      <td>Audubon Mutual Housing Corporation</td>\n",
       "      <td>...</td>\n",
       "      <td>0.0</td>\n",
       "      <td>2013-08-01</td>\n",
       "      <td>16966.70</td>\n",
       "      <td>Oct-2015</td>\n",
       "      <td>0.0</td>\n",
       "      <td>INDIVIDUAL</td>\n",
       "      <td>0.0</td>\n",
       "      <td>NaN</td>\n",
       "      <td>NaN</td>\n",
       "      <td>NaN</td>\n",
       "    </tr>\n",
       "  </tbody>\n",
       "</table>\n",
       "<p>5 rows × 47 columns</p>\n",
       "</div>"
      ],
      "text/plain": [
       "        id  member_id  loan_amnt  funded_amnt  funded_amnt_inv  term  \\\n",
       "0  1075269    1311441     5000.0       5000.0           5000.0    36   \n",
       "1  1069971    1304884     3600.0       3600.0           3600.0    36   \n",
       "2  1069742    1304855     9200.0       9200.0           9200.0    36   \n",
       "3  1032111    1261745     4375.0       4375.0           4375.0    36   \n",
       "4  1069539    1304608    31825.0      31825.0          31825.0    36   \n",
       "\n",
       "   int_rate  installment sub_grade                           emp_title  ...  \\\n",
       "0      7.90       156.46        A4                Veolia Transportaton  ...   \n",
       "1      6.03       109.57        A1                            Duracell  ...   \n",
       "2      6.03       280.01        A1        Network Interpreting Service  ...   \n",
       "3      7.51       136.11        A3                                 NaN  ...   \n",
       "4      7.90       995.82        A4  Audubon Mutual Housing Corporation  ...   \n",
       "\n",
       "  collection_recovery_fee last_pymnt_d  last_pymnt_amnt last_credit_pull_d  \\\n",
       "0                     0.0   2015-01-01           161.03           Sep-2015   \n",
       "1                     0.0   2013-05-01           583.45           May-2014   \n",
       "2                     0.0   2012-07-01          8061.10           Jul-2012   \n",
       "3                     0.0   2015-01-01           144.94           Dec-2014   \n",
       "4                     0.0   2013-08-01         16966.70           Oct-2015   \n",
       "\n",
       "  collections_12_mths_ex_med application_type acc_now_delinq tot_coll_amt  \\\n",
       "0                        0.0       INDIVIDUAL            0.0          NaN   \n",
       "1                        0.0       INDIVIDUAL            0.0          NaN   \n",
       "2                        0.0       INDIVIDUAL            0.0          NaN   \n",
       "3                        0.0       INDIVIDUAL            0.0          NaN   \n",
       "4                        0.0       INDIVIDUAL            0.0          NaN   \n",
       "\n",
       "  tot_cur_bal  total_rev_hi_lim  \n",
       "0         NaN               NaN  \n",
       "1         NaN               NaN  \n",
       "2         NaN               NaN  \n",
       "3         NaN               NaN  \n",
       "4         NaN               NaN  \n",
       "\n",
       "[5 rows x 47 columns]"
      ]
     },
     "execution_count": 74,
     "metadata": {},
     "output_type": "execute_result"
    }
   ],
   "source": [
    "df_a14.head()"
   ]
  },
  {
   "cell_type": "code",
   "execution_count": null,
   "metadata": {},
   "outputs": [],
   "source": []
  },
  {
   "cell_type": "markdown",
   "metadata": {},
   "source": [
    "# 4. 그룹화 처리하기"
   ]
  },
  {
   "cell_type": "code",
   "execution_count": null,
   "metadata": {},
   "outputs": [],
   "source": []
  },
  {
   "cell_type": "code",
   "execution_count": 36,
   "metadata": {},
   "outputs": [
    {
     "data": {
      "text/plain": [
       "(148202, 47)"
      ]
     },
     "execution_count": 36,
     "metadata": {},
     "output_type": "execute_result"
    }
   ],
   "source": [
    "df_a.shape"
   ]
  },
  {
   "cell_type": "markdown",
   "metadata": {},
   "source": [
    "## 세부 등급으로 그룹화하기 "
   ]
  },
  {
   "cell_type": "code",
   "execution_count": 37,
   "metadata": {},
   "outputs": [],
   "source": [
    "df_a_grade = df_a.groupby('sub_grade')"
   ]
  },
  {
   "cell_type": "code",
   "execution_count": 38,
   "metadata": {},
   "outputs": [
    {
     "data": {
      "text/plain": [
       "<pandas.core.groupby.generic.DataFrameGroupBy object at 0x1a1e6ea470>"
      ]
     },
     "execution_count": 38,
     "metadata": {},
     "output_type": "execute_result"
    }
   ],
   "source": [
    "df_a_grade"
   ]
  },
  {
   "cell_type": "markdown",
   "metadata": {},
   "source": [
    "###  그룹화 메소드 처리"
   ]
  },
  {
   "cell_type": "markdown",
   "metadata": {},
   "source": [
    "#### 등급별 개수 확인"
   ]
  },
  {
   "cell_type": "code",
   "execution_count": 39,
   "metadata": {},
   "outputs": [
    {
     "data": {
      "text/plain": [
       "sub_grade\n",
       "A1    22913\n",
       "A2    22485\n",
       "A3    23457\n",
       "A4    34531\n",
       "A5    44816\n",
       "Name: id, dtype: int64"
      ]
     },
     "execution_count": 39,
     "metadata": {},
     "output_type": "execute_result"
    }
   ],
   "source": [
    "df_a_grade['id'].count()"
   ]
  },
  {
   "cell_type": "markdown",
   "metadata": {},
   "source": [
    "#### 등급별 대출금액 확인"
   ]
  },
  {
   "cell_type": "code",
   "execution_count": 40,
   "metadata": {},
   "outputs": [
    {
     "data": {
      "text/plain": [
       "sub_grade\n",
       "A1    314344975.0\n",
       "A2    302358225.0\n",
       "A3    326001200.0\n",
       "A4    488055025.0\n",
       "A5    649827750.0\n",
       "Name: loan_amnt, dtype: float64"
      ]
     },
     "execution_count": 40,
     "metadata": {},
     "output_type": "execute_result"
    }
   ],
   "source": [
    "df_a_grade['loan_amnt'].sum()"
   ]
  },
  {
   "cell_type": "markdown",
   "metadata": {},
   "source": [
    "#### 등급별 대출 평균금액 확인"
   ]
  },
  {
   "cell_type": "code",
   "execution_count": 41,
   "metadata": {},
   "outputs": [
    {
     "data": {
      "text/plain": [
       "sub_grade\n",
       "A1    13719.066687\n",
       "A2    13447.108072\n",
       "A3    13897.821546\n",
       "A4    14133.822507\n",
       "A5    14499.905168\n",
       "Name: loan_amnt, dtype: float64"
      ]
     },
     "execution_count": 41,
     "metadata": {},
     "output_type": "execute_result"
    }
   ],
   "source": [
    "df_a_grade['loan_amnt'].mean()"
   ]
  },
  {
   "cell_type": "markdown",
   "metadata": {},
   "source": [
    "## 기술 통계 메소드 처리"
   ]
  },
  {
   "cell_type": "markdown",
   "metadata": {},
   "source": [
    "#### 대출금액을 기준으로 기술 통계에 대한 값을 확인"
   ]
  },
  {
   "cell_type": "code",
   "execution_count": 42,
   "metadata": {},
   "outputs": [
    {
     "data": {
      "text/html": [
       "<div>\n",
       "<style scoped>\n",
       "    .dataframe tbody tr th:only-of-type {\n",
       "        vertical-align: middle;\n",
       "    }\n",
       "\n",
       "    .dataframe tbody tr th {\n",
       "        vertical-align: top;\n",
       "    }\n",
       "\n",
       "    .dataframe thead th {\n",
       "        text-align: right;\n",
       "    }\n",
       "</style>\n",
       "<table border=\"1\" class=\"dataframe\">\n",
       "  <thead>\n",
       "    <tr style=\"text-align: right;\">\n",
       "      <th></th>\n",
       "      <th>count</th>\n",
       "      <th>mean</th>\n",
       "      <th>std</th>\n",
       "      <th>min</th>\n",
       "      <th>25%</th>\n",
       "      <th>50%</th>\n",
       "      <th>75%</th>\n",
       "      <th>max</th>\n",
       "    </tr>\n",
       "    <tr>\n",
       "      <th>sub_grade</th>\n",
       "      <th></th>\n",
       "      <th></th>\n",
       "      <th></th>\n",
       "      <th></th>\n",
       "      <th></th>\n",
       "      <th></th>\n",
       "      <th></th>\n",
       "      <th></th>\n",
       "    </tr>\n",
       "  </thead>\n",
       "  <tbody>\n",
       "    <tr>\n",
       "      <th>A1</th>\n",
       "      <td>22913.0</td>\n",
       "      <td>13719.066687</td>\n",
       "      <td>6637.798592</td>\n",
       "      <td>725.0</td>\n",
       "      <td>8300.0</td>\n",
       "      <td>12000.0</td>\n",
       "      <td>19000.0</td>\n",
       "      <td>29975.0</td>\n",
       "    </tr>\n",
       "    <tr>\n",
       "      <th>A2</th>\n",
       "      <td>22485.0</td>\n",
       "      <td>13447.108072</td>\n",
       "      <td>7016.110134</td>\n",
       "      <td>1000.0</td>\n",
       "      <td>8000.0</td>\n",
       "      <td>12000.0</td>\n",
       "      <td>19000.0</td>\n",
       "      <td>34800.0</td>\n",
       "    </tr>\n",
       "    <tr>\n",
       "      <th>A3</th>\n",
       "      <td>23457.0</td>\n",
       "      <td>13897.821546</td>\n",
       "      <td>7587.181457</td>\n",
       "      <td>500.0</td>\n",
       "      <td>8000.0</td>\n",
       "      <td>12000.0</td>\n",
       "      <td>20000.0</td>\n",
       "      <td>35000.0</td>\n",
       "    </tr>\n",
       "    <tr>\n",
       "      <th>A4</th>\n",
       "      <td>34531.0</td>\n",
       "      <td>14133.822507</td>\n",
       "      <td>7783.163984</td>\n",
       "      <td>500.0</td>\n",
       "      <td>8000.0</td>\n",
       "      <td>12000.0</td>\n",
       "      <td>20000.0</td>\n",
       "      <td>35000.0</td>\n",
       "    </tr>\n",
       "    <tr>\n",
       "      <th>A5</th>\n",
       "      <td>44816.0</td>\n",
       "      <td>14499.905168</td>\n",
       "      <td>7850.866033</td>\n",
       "      <td>500.0</td>\n",
       "      <td>8000.0</td>\n",
       "      <td>12800.0</td>\n",
       "      <td>20000.0</td>\n",
       "      <td>35000.0</td>\n",
       "    </tr>\n",
       "  </tbody>\n",
       "</table>\n",
       "</div>"
      ],
      "text/plain": [
       "             count          mean          std     min     25%      50%  \\\n",
       "sub_grade                                                                \n",
       "A1         22913.0  13719.066687  6637.798592   725.0  8300.0  12000.0   \n",
       "A2         22485.0  13447.108072  7016.110134  1000.0  8000.0  12000.0   \n",
       "A3         23457.0  13897.821546  7587.181457   500.0  8000.0  12000.0   \n",
       "A4         34531.0  14133.822507  7783.163984   500.0  8000.0  12000.0   \n",
       "A5         44816.0  14499.905168  7850.866033   500.0  8000.0  12800.0   \n",
       "\n",
       "               75%      max  \n",
       "sub_grade                    \n",
       "A1         19000.0  29975.0  \n",
       "A2         19000.0  34800.0  \n",
       "A3         20000.0  35000.0  \n",
       "A4         20000.0  35000.0  \n",
       "A5         20000.0  35000.0  "
      ]
     },
     "execution_count": 42,
     "metadata": {},
     "output_type": "execute_result"
    }
   ],
   "source": [
    "df_a_grade['loan_amnt'].describe()"
   ]
  },
  {
   "cell_type": "markdown",
   "metadata": {},
   "source": [
    "### 기술통계된 결과를 가지고 그래프 그리기"
   ]
  },
  {
   "cell_type": "code",
   "execution_count": 43,
   "metadata": {},
   "outputs": [
    {
     "data": {
      "image/png": "[encoded data removed]",
      "text/plain": [
       "<Figure size 432x288 with 9 Axes>"
      ]
     },
     "metadata": {
      "needs_background": "light"
     },
     "output_type": "display_data"
    }
   ],
   "source": [
    "df_a_grade['loan_amnt'].describe().hist()\n",
    "plt.tight_layout()"
   ]
  },
  {
   "cell_type": "markdown",
   "metadata": {},
   "source": [
    "# 5. 특정 열에 대한 그래프 그리기 "
   ]
  },
  {
   "cell_type": "markdown",
   "metadata": {},
   "source": [
    "## 대출 이율 분포 확인"
   ]
  },
  {
   "cell_type": "code",
   "execution_count": 44,
   "metadata": {},
   "outputs": [
    {
     "data": {
      "text/plain": [
       "dtype('float64')"
      ]
     },
     "execution_count": 44,
     "metadata": {},
     "output_type": "execute_result"
    }
   ],
   "source": [
    "df_a.int_rate.dtype"
   ]
  },
  {
   "cell_type": "markdown",
   "metadata": {},
   "source": [
    "### 선그래프 그리기"
   ]
  },
  {
   "cell_type": "code",
   "execution_count": 45,
   "metadata": {},
   "outputs": [
    {
     "data": {
      "text/plain": [
       "[<matplotlib.lines.Line2D at 0x1a1ea84080>]"
      ]
     },
     "execution_count": 45,
     "metadata": {},
     "output_type": "execute_result"
    },
    {
     "data": {
      "image/png": "[encoded data removed]",
      "text/plain": [
       "<Figure size 432x288 with 1 Axes>"
      ]
     },
     "metadata": {
      "needs_background": "light"
     },
     "output_type": "display_data"
    }
   ],
   "source": [
    "plt.plot(df_a.int_rate)"
   ]
  },
  {
   "cell_type": "markdown",
   "metadata": {},
   "source": [
    "### 히스토그램 그리기 "
   ]
  },
  {
   "cell_type": "code",
   "execution_count": 46,
   "metadata": {},
   "outputs": [
    {
     "data": {
      "image/png": "[encoded data removed]",
      "text/plain": [
       "<Figure size 432x288 with 1 Axes>"
      ]
     },
     "metadata": {
      "needs_background": "light"
     },
     "output_type": "display_data"
    }
   ],
   "source": [
    "plt.hist(df_a.int_rate, 100)\n",
    "plt.show()"
   ]
  },
  {
   "cell_type": "markdown",
   "metadata": {},
   "source": [
    "### 박스 그래프 그리기"
   ]
  },
  {
   "cell_type": "code",
   "execution_count": 47,
   "metadata": {},
   "outputs": [
    {
     "data": {
      "image/png": "[encoded data removed]",
      "text/plain": [
       "<Figure size 432x288 with 1 Axes>"
      ]
     },
     "metadata": {
      "needs_background": "light"
     },
     "output_type": "display_data"
    }
   ],
   "source": [
    "plt.boxplot(df_a.int_rate)\n",
    "plt.show()"
   ]
  },
  {
   "cell_type": "markdown",
   "metadata": {},
   "source": [
    "### 백분위 수를 구하기 "
   ]
  },
  {
   "cell_type": "code",
   "execution_count": 48,
   "metadata": {},
   "outputs": [
    {
     "data": {
      "text/plain": [
       "0.0    5.32\n",
       "0.1    6.03\n",
       "0.2    6.24\n",
       "0.3    6.62\n",
       "0.4    6.92\n",
       "0.5    7.26\n",
       "0.6    7.69\n",
       "0.7    7.89\n",
       "0.8    7.90\n",
       "0.9    8.39\n",
       "1.0    9.63\n",
       "Name: int_rate, dtype: float64"
      ]
     },
     "execution_count": 48,
     "metadata": {},
     "output_type": "execute_result"
    }
   ],
   "source": [
    "df_a.int_rate.quantile([0, 0.1, 0.2, 0.3, 0.4, 0.5, 0.6, 0.7, 0.8, 0.9, 1])"
   ]
  },
  {
   "cell_type": "markdown",
   "metadata": {},
   "source": [
    "### 시본으로 박스 그래프 그리기"
   ]
  },
  {
   "cell_type": "code",
   "execution_count": 49,
   "metadata": {},
   "outputs": [],
   "source": [
    "import seaborn as sns"
   ]
  },
  {
   "cell_type": "code",
   "execution_count": 50,
   "metadata": {},
   "outputs": [
    {
     "data": {
      "image/png": "[encoded data removed]",
      "text/plain": [
       "<Figure size 432x288 with 1 Axes>"
      ]
     },
     "metadata": {
      "needs_background": "light"
     },
     "output_type": "display_data"
    }
   ],
   "source": [
    "sns.boxplot(df_a.int_rate)\n",
    "plt.show()"
   ]
  },
  {
   "cell_type": "markdown",
   "metadata": {},
   "source": [
    "## 등급별 금리 분포 "
   ]
  },
  {
   "cell_type": "markdown",
   "metadata": {},
   "source": [
    "### 등급을  x 축, 금리를 y 축으로 지정해서 박스 그래프 그리기"
   ]
  },
  {
   "cell_type": "code",
   "execution_count": 51,
   "metadata": {},
   "outputs": [
    {
     "data": {
      "image/png": "[encoded data removed]",
      "text/plain": [
       "<Figure size 432x288 with 1 Axes>"
      ]
     },
     "metadata": {
      "needs_background": "light"
     },
     "output_type": "display_data"
    }
   ],
   "source": [
    "sns.boxplot(x=df_a.sub_grade, y=df_a.int_rate)\n",
    "plt.show()"
   ]
  },
  {
   "cell_type": "markdown",
   "metadata": {},
   "source": [
    "## 대출 금액 분포 확인 "
   ]
  },
  {
   "cell_type": "markdown",
   "metadata": {},
   "source": [
    "### 히스트그램 그래프 그리기"
   ]
  },
  {
   "cell_type": "code",
   "execution_count": 52,
   "metadata": {},
   "outputs": [
    {
     "data": {
      "image/png": "[encoded data removed]",
      "text/plain": [
       "<Figure size 432x288 with 1 Axes>"
      ]
     },
     "metadata": {
      "needs_background": "light"
     },
     "output_type": "display_data"
    }
   ],
   "source": [
    "plt.hist(df_a.loan_amnt, 100)\n",
    "plt.show()"
   ]
  },
  {
   "cell_type": "markdown",
   "metadata": {},
   "source": [
    "### 히스토그램과 밀집도를 포함한 그래프 그리기"
   ]
  },
  {
   "cell_type": "code",
   "execution_count": 53,
   "metadata": {},
   "outputs": [
    {
     "data": {
      "text/plain": [
       "<matplotlib.axes._subplots.AxesSubplot at 0x1a26564d68>"
      ]
     },
     "execution_count": 53,
     "metadata": {},
     "output_type": "execute_result"
    },
    {
     "data": {
      "image/png": "[encoded data removed]",
      "text/plain": [
       "<Figure size 432x288 with 1 Axes>"
      ]
     },
     "metadata": {
      "needs_background": "light"
     },
     "output_type": "display_data"
    }
   ],
   "source": [
    "sns.distplot(df_a.loan_amnt)"
   ]
  },
  {
   "cell_type": "code",
   "execution_count": null,
   "metadata": {},
   "outputs": [],
   "source": []
  },
  {
   "cell_type": "markdown",
   "metadata": {},
   "source": [
    "###  등급과 대출금액을 가지고 박스그래프 그리기"
   ]
  },
  {
   "cell_type": "code",
   "execution_count": 54,
   "metadata": {},
   "outputs": [
    {
     "data": {
      "image/png": "[encoded data removed]",
      "text/plain": [
       "<Figure size 432x288 with 1 Axes>"
      ]
     },
     "metadata": {
      "needs_background": "light"
     },
     "output_type": "display_data"
    }
   ],
   "source": [
    "sns.boxplot(x=df_a.sub_grade, y=df_a.loan_amnt)\n",
    "plt.show()"
   ]
  },
  {
   "cell_type": "markdown",
   "metadata": {},
   "source": [
    "### 등급별  분할입금액 박스그래프 "
   ]
  },
  {
   "cell_type": "code",
   "execution_count": 55,
   "metadata": {},
   "outputs": [
    {
     "data": {
      "image/png": "[encoded data removed]",
      "text/plain": [
       "<Figure size 432x288 with 1 Axes>"
      ]
     },
     "metadata": {
      "needs_background": "light"
     },
     "output_type": "display_data"
    }
   ],
   "source": [
    "sns.boxplot(x=df_a.sub_grade, y=df_a.installment)\n",
    "plt.show()"
   ]
  },
  {
   "cell_type": "markdown",
   "metadata": {},
   "source": [
    "##  대출 등급별 파이 그래프 "
   ]
  },
  {
   "cell_type": "code",
   "execution_count": 56,
   "metadata": {},
   "outputs": [
    {
     "data": {
      "text/plain": [
       "A5    44816\n",
       "A4    34531\n",
       "A3    23457\n",
       "A1    22913\n",
       "A2    22485\n",
       "Name: sub_grade, dtype: int64"
      ]
     },
     "execution_count": 56,
     "metadata": {},
     "output_type": "execute_result"
    }
   ],
   "source": [
    "df_a.sub_grade.value_counts()"
   ]
  },
  {
   "cell_type": "code",
   "execution_count": 57,
   "metadata": {},
   "outputs": [
    {
     "data": {
      "image/png": "[encoded data removed]",
      "text/plain": [
       "<Figure size 432x288 with 1 Axes>"
      ]
     },
     "metadata": {},
     "output_type": "display_data"
    }
   ],
   "source": [
    "\n",
    "plt.pie(df_a.sub_grade.value_counts(),labels= df_a.sub_grade.value_counts().index)\n",
    "plt.show()"
   ]
  },
  {
   "cell_type": "markdown",
   "metadata": {},
   "source": [
    "##  대출 기간 확인 "
   ]
  },
  {
   "cell_type": "code",
   "execution_count": 58,
   "metadata": {},
   "outputs": [
    {
     "data": {
      "text/plain": [
       "dtype('O')"
      ]
     },
     "execution_count": 58,
     "metadata": {},
     "output_type": "execute_result"
    }
   ],
   "source": [
    "df_a.term.dtype"
   ]
  },
  {
   "cell_type": "code",
   "execution_count": 59,
   "metadata": {},
   "outputs": [],
   "source": [
    "df_a.term = df_a.term.str.replace(\"months\",\"\")"
   ]
  },
  {
   "cell_type": "code",
   "execution_count": 60,
   "metadata": {},
   "outputs": [],
   "source": [
    "df_a.term = df_a.term.astype(\"int\")"
   ]
  },
  {
   "cell_type": "code",
   "execution_count": 61,
   "metadata": {},
   "outputs": [
    {
     "data": {
      "text/plain": [
       "36    143015\n",
       "60      5187\n",
       "Name: term, dtype: int64"
      ]
     },
     "execution_count": 61,
     "metadata": {},
     "output_type": "execute_result"
    }
   ],
   "source": [
    "df_a.term.value_counts()"
   ]
  },
  {
   "cell_type": "code",
   "execution_count": 62,
   "metadata": {},
   "outputs": [
    {
     "data": {
      "image/png": "[encoded data removed]",
      "text/plain": [
       "<Figure size 432x288 with 1 Axes>"
      ]
     },
     "metadata": {},
     "output_type": "display_data"
    }
   ],
   "source": [
    "plt.pie(df_a.term.value_counts(),labels= df_a.term.value_counts().index)\n",
    "plt.show()"
   ]
  },
  {
   "cell_type": "markdown",
   "metadata": {},
   "source": [
    "## 장기 대출이 더 많은 금액을 취급"
   ]
  },
  {
   "cell_type": "code",
   "execution_count": 63,
   "metadata": {},
   "outputs": [
    {
     "data": {
      "image/png": "[encoded data removed]",
      "text/plain": [
       "<Figure size 432x288 with 1 Axes>"
      ]
     },
     "metadata": {
      "needs_background": "light"
     },
     "output_type": "display_data"
    }
   ],
   "source": [
    "sns.boxplot(x=df_a.term, y=df_a.loan_amnt)\n",
    "plt.show()"
   ]
  },
  {
   "cell_type": "code",
   "execution_count": null,
   "metadata": {},
   "outputs": [],
   "source": []
  },
  {
   "cell_type": "markdown",
   "metadata": {},
   "source": [
    "##  일자를 변경하기 "
   ]
  },
  {
   "cell_type": "code",
   "execution_count": 64,
   "metadata": {},
   "outputs": [
    {
     "data": {
      "text/html": [
       "<div>\n",
       "<style scoped>\n",
       "    .dataframe tbody tr th:only-of-type {\n",
       "        vertical-align: middle;\n",
       "    }\n",
       "\n",
       "    .dataframe tbody tr th {\n",
       "        vertical-align: top;\n",
       "    }\n",
       "\n",
       "    .dataframe thead th {\n",
       "        text-align: right;\n",
       "    }\n",
       "</style>\n",
       "<table border=\"1\" class=\"dataframe\">\n",
       "  <thead>\n",
       "    <tr style=\"text-align: right;\">\n",
       "      <th></th>\n",
       "      <th>LoanStatNew</th>\n",
       "      <th>Description</th>\n",
       "    </tr>\n",
       "  </thead>\n",
       "  <tbody>\n",
       "    <tr>\n",
       "      <th>40</th>\n",
       "      <td>last_pymnt_d</td>\n",
       "      <td>Last month payment was received</td>\n",
       "    </tr>\n",
       "  </tbody>\n",
       "</table>\n",
       "</div>"
      ],
      "text/plain": [
       "     LoanStatNew                      Description\n",
       "40  last_pymnt_d  Last month payment was received"
      ]
     },
     "execution_count": 64,
     "metadata": {},
     "output_type": "execute_result"
    }
   ],
   "source": [
    "df_d.loc[df_d['LoanStatNew'] == 'last_pymnt_d']"
   ]
  },
  {
   "cell_type": "code",
   "execution_count": 65,
   "metadata": {},
   "outputs": [
    {
     "data": {
      "text/plain": [
       "dtype('O')"
      ]
     },
     "execution_count": 65,
     "metadata": {},
     "output_type": "execute_result"
    }
   ],
   "source": [
    "df_a['last_pymnt_d'].dtype"
   ]
  },
  {
   "cell_type": "markdown",
   "metadata": {},
   "source": [
    "### 문자열을 날짜로 변환하기 "
   ]
  },
  {
   "cell_type": "code",
   "execution_count": 66,
   "metadata": {},
   "outputs": [],
   "source": [
    "df_a['last_pymnt_d'] = pd.to_datetime(df_a['last_pymnt_d'])"
   ]
  },
  {
   "cell_type": "code",
   "execution_count": 67,
   "metadata": {},
   "outputs": [
    {
     "data": {
      "text/plain": [
       "dtype('<M8[ns]')"
      ]
     },
     "execution_count": 67,
     "metadata": {},
     "output_type": "execute_result"
    }
   ],
   "source": [
    "df_a.last_pymnt_d.dtype"
   ]
  },
  {
   "cell_type": "code",
   "execution_count": 68,
   "metadata": {},
   "outputs": [
    {
     "data": {
      "text/plain": [
       "0   2015-01-01\n",
       "1   2013-05-01\n",
       "2   2012-07-01\n",
       "3   2015-01-01\n",
       "4   2013-08-01\n",
       "Name: last_pymnt_d, dtype: datetime64[ns]"
      ]
     },
     "execution_count": 68,
     "metadata": {},
     "output_type": "execute_result"
    }
   ],
   "source": [
    "df_a.last_pymnt_d.head()"
   ]
  },
  {
   "cell_type": "markdown",
   "metadata": {},
   "source": [
    "## 최종 납입금액 확인"
   ]
  },
  {
   "cell_type": "code",
   "execution_count": 69,
   "metadata": {},
   "outputs": [
    {
     "data": {
      "image/png": "[encoded data removed]",
      "text/plain": [
       "<Figure size 432x288 with 1 Axes>"
      ]
     },
     "metadata": {
      "needs_background": "light"
     },
     "output_type": "display_data"
    }
   ],
   "source": [
    "plt.hist(df_a.last_pymnt_amnt)\n",
    "plt.show()"
   ]
  },
  {
   "cell_type": "code",
   "execution_count": null,
   "metadata": {},
   "outputs": [],
   "source": []
  }
 ],
 "metadata": {
  "colab": {
   "name": "Loan_Data_Analysis.ipynb",
   "provenance": [],
   "version": "0.3.2"
  },
  "kernelspec": {
   "display_name": "Python 3",
   "language": "python",
   "name": "python3"
  },
  "language_info": {
   "codemirror_mode": {
    "name": "ipython",
    "version": 3
   },
   "file_extension": ".py",
   "mimetype": "text/x-python",
   "name": "python",
   "nbconvert_exporter": "python",
   "pygments_lexer": "ipython3",
   "version": "3.7.3"
  }
 },
 "nbformat": 4,
 "nbformat_minor": 1
}
